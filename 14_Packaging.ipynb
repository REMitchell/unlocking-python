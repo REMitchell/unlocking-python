{
 "cells": [
  {
   "cell_type": "markdown",
   "metadata": {},
   "source": [
    "# Modules and Packages"
   ]
  },
  {
   "cell_type": "markdown",
   "metadata": {},
   "source": [
    "The below code is not included in the book, however, it is added here so that the directory `14_packages` is added to the import path.\n",
    "\n",
    "This allows us to work with the Jupyter notebook file outside of 14_packages, but import packages as if we're inside that directory. "
   ]
  },
  {
   "cell_type": "code",
   "execution_count": 1,
   "metadata": {},
   "outputs": [],
   "source": [
    "import sys\n",
    "\n",
    "sys.path.append('14_packages')"
   ]
  },
  {
   "cell_type": "markdown",
   "metadata": {},
   "source": [
    "## Modules"
   ]
  },
  {
   "cell_type": "markdown",
   "metadata": {},
   "source": [
    "**Note**: The completed file, `shapes.py`, is included in 14_packages"
   ]
  },
  {
   "cell_type": "code",
   "execution_count": 2,
   "metadata": {},
   "outputs": [
    {
     "name": "stdout",
     "output_type": "stream",
     "text": [
      "Module name is: shapes\n"
     ]
    }
   ],
   "source": [
    "import shapes"
   ]
  },
  {
   "cell_type": "code",
   "execution_count": 3,
   "metadata": {},
   "outputs": [
    {
     "name": "stdout",
     "output_type": "stream",
     "text": [
      "#####\n",
      "#####\n",
      "#####\n",
      "#####\n",
      "#####\n"
     ]
    }
   ],
   "source": [
    "shapes.square()"
   ]
  },
  {
   "cell_type": "code",
   "execution_count": 4,
   "metadata": {},
   "outputs": [
    {
     "name": "stdout",
     "output_type": "stream",
     "text": [
      "     \n",
      "  ######\n",
      " ########\n",
      "##########\n",
      "##########\n",
      "##########\n",
      "##########\n",
      "##########\n",
      " ########\n",
      "  ######\n",
      "     \n"
     ]
    }
   ],
   "source": [
    "from shapes import Circle, PI\n",
    "\n",
    "c = Circle(5)\n",
    "c.draw()"
   ]
  },
  {
   "cell_type": "code",
   "execution_count": 5,
   "metadata": {},
   "outputs": [],
   "source": [
    "from shapes import square, Circle, PI"
   ]
  },
  {
   "cell_type": "code",
   "execution_count": 6,
   "metadata": {},
   "outputs": [
    {
     "name": "stdout",
     "output_type": "stream",
     "text": [
      "3.14159\n",
      "#####\n",
      "#####\n",
      "#####\n",
      "#####\n",
      "#####\n"
     ]
    }
   ],
   "source": [
    "from shapes import *\n",
    "\n",
    "print(PI)\n",
    "c = Circle(10)\n",
    "square()"
   ]
  },
  {
   "cell_type": "code",
   "execution_count": 7,
   "metadata": {},
   "outputs": [],
   "source": [
    "from shapes import *\n",
    "\n",
    "c = Circle(10)"
   ]
  },
  {
   "cell_type": "code",
   "execution_count": 8,
   "metadata": {},
   "outputs": [
    {
     "name": "stdout",
     "output_type": "stream",
     "text": [
      "#####\n",
      "#####\n",
      "#####\n",
      "#####\n",
      "#####\n"
     ]
    }
   ],
   "source": [
    "from shapes import *\n",
    "from math import *\n",
    "\n",
    "square()"
   ]
  },
  {
   "cell_type": "code",
   "execution_count": 9,
   "metadata": {},
   "outputs": [
    {
     "name": "stdout",
     "output_type": "stream",
     "text": [
      "#####\n",
      "#####\n",
      "#####\n",
      "#####\n",
      "#####\n"
     ]
    }
   ],
   "source": [
    "from shapes import *\n",
    "from math import *\n",
    "\n",
    "square()"
   ]
  },
  {
   "cell_type": "markdown",
   "metadata": {},
   "source": [
    "## Packages"
   ]
  },
  {
   "cell_type": "code",
   "execution_count": 10,
   "metadata": {},
   "outputs": [
    {
     "ename": "ModuleNotFoundError",
     "evalue": "No module named 'base'",
     "output_type": "error",
     "traceback": [
      "\u001b[31m---------------------------------------------------------------------------\u001b[39m",
      "\u001b[31mModuleNotFoundError\u001b[39m                       Traceback (most recent call last)",
      "\u001b[36mCell\u001b[39m\u001b[36m \u001b[39m\u001b[32mIn[10]\u001b[39m\u001b[32m, line 2\u001b[39m\n\u001b[32m      1\u001b[39m \u001b[38;5;66;03m# Does not work\u001b[39;00m\n\u001b[32m----> \u001b[39m\u001b[32m2\u001b[39m \u001b[38;5;28;01mfrom\u001b[39;00m \u001b[34;01mbase\u001b[39;00m \u001b[38;5;28;01mimport\u001b[39;00m Shape\n",
      "\u001b[31mModuleNotFoundError\u001b[39m: No module named 'base'"
     ]
    }
   ],
   "source": [
    "# Does not work\n",
    "from base import Shape"
   ]
  },
  {
   "cell_type": "code",
   "execution_count": 11,
   "metadata": {},
   "outputs": [],
   "source": [
    "# This works \n",
    "from draw.base import Shape"
   ]
  },
  {
   "cell_type": "code",
   "execution_count": 12,
   "metadata": {},
   "outputs": [],
   "source": [
    "from draw import rectangle\n",
    "import draw.rectangle"
   ]
  },
  {
   "cell_type": "code",
   "execution_count": 13,
   "metadata": {},
   "outputs": [],
   "source": [
    "import draw"
   ]
  },
  {
   "cell_type": "code",
   "execution_count": 14,
   "metadata": {},
   "outputs": [
    {
     "data": {
      "text/plain": [
       "<module 'draw.rectangle' from '/Users/RSpecht/Documents/mastering-python/exercise_files/14_packages/draw/rectangle.py'>"
      ]
     },
     "execution_count": 14,
     "metadata": {},
     "output_type": "execute_result"
    }
   ],
   "source": [
    "import draw\n",
    "draw.rectangle"
   ]
  },
  {
   "cell_type": "code",
   "execution_count": 15,
   "metadata": {},
   "outputs": [],
   "source": [
    "from draw.rectangle import Rectangle"
   ]
  },
  {
   "cell_type": "code",
   "execution_count": 16,
   "metadata": {},
   "outputs": [],
   "source": [
    "from draw import rectangle\n",
    "\n",
    "r = rectangle.Rectangle(4, 5)"
   ]
  },
  {
   "cell_type": "code",
   "execution_count": 17,
   "metadata": {},
   "outputs": [],
   "source": [
    "import draw as d\n",
    "\n",
    "r = d.rectangle.Rectangle(4, 5)"
   ]
  },
  {
   "cell_type": "code",
   "execution_count": 18,
   "metadata": {},
   "outputs": [],
   "source": [
    "from draw import Rectangle, Square, Circle"
   ]
  },
  {
   "cell_type": "code",
   "execution_count": 19,
   "metadata": {},
   "outputs": [
    {
     "name": "stdout",
     "output_type": "stream",
     "text": [
      "\u001b[31mHello, World!\u001b[0m\n"
     ]
    }
   ],
   "source": [
    "print('\\u001b[31mHello, World!\\u001b[0m')"
   ]
  },
  {
   "cell_type": "code",
   "execution_count": 20,
   "metadata": {},
   "outputs": [
    {
     "name": "stdout",
     "output_type": "stream",
     "text": [
      "\u001b[31m\u001b[43mHello, World!\u001b[0m\n"
     ]
    }
   ],
   "source": [
    "from cdraw.colors.colors import BackgroundColors, TextColors, DEFAULT\n",
    "\n",
    "print(f'{TextColors.RED}{BackgroundColors.YELLOW}Hello, World!{DEFAULT}')\n"
   ]
  },
  {
   "cell_type": "code",
   "execution_count": 22,
   "metadata": {},
   "outputs": [
    {
     "name": "stdout",
     "output_type": "stream",
     "text": [
      "\u001b[31m\u001b[43mHello, World!\u001b[0m\n"
     ]
    }
   ],
   "source": [
    "from cdraw.colors.colors import BackgroundColors, TextColors\n",
    "from cdraw.colors.printer import ColorPrinter\n",
    "\n",
    "cp = ColorPrinter(text_color=TextColors.RED, background_color=BackgroundColors.YELLOW)\n",
    "cp.print('Hello, World!')"
   ]
  },
  {
   "cell_type": "code",
   "execution_count": 23,
   "metadata": {},
   "outputs": [
    {
     "name": "stdout",
     "output_type": "stream",
     "text": [
      "\u001b[34m\u001b[42m#####\u001b[0m\n",
      "\u001b[34m\u001b[42m#####\u001b[0m\n",
      "\u001b[34m\u001b[42m#####\u001b[0m\n",
      "\u001b[34m\u001b[42m#####\u001b[0m\n",
      "\u001b[34m\u001b[42m#####\u001b[0m\n"
     ]
    }
   ],
   "source": [
    "from cdraw.colors.printer import ColorPrinter\n",
    "from cdraw.colors.colors import TextColors, BackgroundColors\n",
    "from cdraw.shapes.square import Square\n",
    "\n",
    "cp = ColorPrinter(text_color=TextColors.BLUE, background_color=BackgroundColors.GREEN)\n",
    "\n",
    "s = Square(5)\n",
    "s.draw(printer=cp.print)"
   ]
  },
  {
   "cell_type": "markdown",
   "metadata": {},
   "source": [
    "## Installing Packages"
   ]
  },
  {
   "cell_type": "code",
   "execution_count": 26,
   "metadata": {},
   "outputs": [
    {
     "name": "stdout",
     "output_type": "stream",
     "text": [
      "['/Users/RSpecht/Documents/mastering-python/exercise_files', '/opt/anaconda3/lib/python312.zip', '/opt/anaconda3/lib/python3.12', '/opt/anaconda3/lib/python3.12/lib-dynload', '', '/opt/anaconda3/lib/python3.12/site-packages', '/opt/anaconda3/lib/python3.12/site-packages/aeosa', '/opt/anaconda3/lib/python3.12/site-packages/setuptools/_vendor', '14_packages']\n"
     ]
    }
   ],
   "source": [
    "import sys\n",
    "\n",
    "print(sys.path)"
   ]
  },
  {
   "cell_type": "markdown",
   "metadata": {},
   "source": [
    "### Exercises"
   ]
  },
  {
   "cell_type": "markdown",
   "metadata": {},
   "source": [
    "**1.**\n",
    "Use the cdraw package to make a rainbow consisting of stacked rectangles, each having a height of 2 and a width of 80.\n"
   ]
  },
  {
   "cell_type": "code",
   "execution_count": null,
   "metadata": {},
   "outputs": [],
   "source": []
  },
  {
   "cell_type": "markdown",
   "metadata": {},
   "source": [
    "**2.** Write a function that uses the dictionary, `d`, from `this` to decode this message:\n",
    "\n",
    "`Ybofgre Gurezvqbe nhk perirggrf jvgu n Zbeanl fnhpr, tneavfurq jvgu gehssyr cngr,\n",
    "oenaql, naq n sevrq rtt ba gbc, naq Fcnz. - Gur \"Fcnz\" fxrgpu`\n"
   ]
  },
  {
   "cell_type": "code",
   "execution_count": null,
   "metadata": {},
   "outputs": [],
   "source": []
  },
  {
   "cell_type": "markdown",
   "metadata": {},
   "source": [
    "**3.**\n",
    "Add a class `Triangle` to `cdraw2`. It should have, as attributes, a height and a width. It should be fairly easy to draw a right triangle (essentially, a rectangle cut in half diagonally), but for an added challenge, you can draw an isosceles (symmetric) triangle."
   ]
  },
  {
   "cell_type": "code",
   "execution_count": 12,
   "metadata": {},
   "outputs": [],
   "source": [
    "\n"
   ]
  },
  {
   "cell_type": "markdown",
   "metadata": {},
   "source": [
    "**4.**\n",
    "Add a new directory to `cdraw2` called `text`. Add a module to it that contains a function that takes, as arguments, a short string message and a `ColorPrinter` object. It then prints the text as ASCII art using the `ColorPrinter` object.\n",
    "\n",
    "Use the package at https://pypi.org/project/art to transform text into ASCII art with the `text2art` function. Make sure you add this package to the `requirements.txt` file and the `install_requires` in `setup.py`!"
   ]
  },
  {
   "cell_type": "code",
   "execution_count": null,
   "metadata": {},
   "outputs": [],
   "source": []
  },
  {
   "cell_type": "markdown",
   "metadata": {},
   "source": [
    "**5.**\n",
    "Add functionality to the text addition of the `cdraw2` package from Exercise 4 so that the text can, optionally, be drawn with multiple colors. Each character must be displayed horizontally in line with the others (side by side), but adjacent characters have the ability to be printed in completely different colors.\n",
    "\n",
    "You will likely want to retrieve the ASCII art representation of a character from the `text2art` one character at a time, and then carefully concatenate characters row by row while changing the colors within the concatenated lines.\n",
    "Also, you will want to consider the user interface for your new module or set of modules in the package. Will the user pass in multiple `ColorPrinter` objects, or perhaps `ColorPrinter` can be modified to have multiple colors? Will each character be explicitly assigned a specific color, will colors simply alternate through the list, or something else?"
   ]
  },
  {
   "cell_type": "code",
   "execution_count": null,
   "metadata": {},
   "outputs": [],
   "source": []
  }
 ],
 "metadata": {
  "kernelspec": {
   "display_name": "Python 3 (ipykernel)",
   "language": "python",
   "name": "python3"
  },
  "language_info": {
   "codemirror_mode": {
    "name": "ipython",
    "version": 3
   },
   "file_extension": ".py",
   "mimetype": "text/x-python",
   "name": "python",
   "nbconvert_exporter": "python",
   "pygments_lexer": "ipython3",
   "version": "3.12.2"
  }
 },
 "nbformat": 4,
 "nbformat_minor": 4
}
