{
 "cells": [
  {
   "cell_type": "markdown",
   "id": "56bf90af-4f18-4098-b1dc-8209ef435576",
   "metadata": {},
   "source": [
    "# Errors and Exceptions"
   ]
  },
  {
   "cell_type": "markdown",
   "id": "e2a3299a-af62-4bae-8bd6-4441bb414b05",
   "metadata": {},
   "source": [
    "## Handling Exceptions"
   ]
  },
  {
   "cell_type": "code",
   "execution_count": 1,
   "id": "908dfc83-d071-4885-ae28-66e0383be871",
   "metadata": {},
   "outputs": [
    {
     "ename": "ZeroDivisionError",
     "evalue": "division by zero",
     "output_type": "error",
     "traceback": [
      "\u001b[31m---------------------------------------------------------------------------\u001b[39m",
      "\u001b[31mZeroDivisionError\u001b[39m                         Traceback (most recent call last)",
      "\u001b[36mCell\u001b[39m\u001b[36m \u001b[39m\u001b[32mIn[1]\u001b[39m\u001b[32m, line 4\u001b[39m\n\u001b[32m      1\u001b[39m \u001b[38;5;28;01mdef\u001b[39;00m \u001b[34mmake_an_error\u001b[39m():\n\u001b[32m      2\u001b[39m     \u001b[32m1\u001b[39m/\u001b[32m0\u001b[39m\n\u001b[32m----> \u001b[39m\u001b[32m4\u001b[39m make_an_error()\n",
      "\u001b[36mCell\u001b[39m\u001b[36m \u001b[39m\u001b[32mIn[1]\u001b[39m\u001b[32m, line 2\u001b[39m, in \u001b[36mmake_an_error\u001b[39m\u001b[34m()\u001b[39m\n\u001b[32m      1\u001b[39m \u001b[38;5;28;01mdef\u001b[39;00m \u001b[34mmake_an_error\u001b[39m():\n\u001b[32m----> \u001b[39m\u001b[32m2\u001b[39m     \u001b[32m1\u001b[39m/\u001b[32m0\u001b[39m\n",
      "\u001b[31mZeroDivisionError\u001b[39m: division by zero"
     ]
    }
   ],
   "source": [
    "def make_an_error():\n",
    "    1/0\n",
    "\n",
    "make_an_error()"
   ]
  },
  {
   "cell_type": "code",
   "execution_count": 2,
   "id": "8c08cfad-dcdb-40d4-8a03-d8874765a394",
   "metadata": {},
   "outputs": [
    {
     "name": "stdout",
     "output_type": "stream",
     "text": [
      "Something bad happened!\n",
      "Program continues\n"
     ]
    }
   ],
   "source": [
    "try:\n",
    "    make_an_error()\n",
    "except:\n",
    "    print('Something bad happened!')\n",
    "print('Program continues')"
   ]
  },
  {
   "cell_type": "code",
   "execution_count": 3,
   "id": "83ef6e96-c91e-4e81-bc54-985a91923041",
   "metadata": {},
   "outputs": [
    {
     "name": "stdout",
     "output_type": "stream",
     "text": [
      "Something bad happened!\n",
      "Program continues\n"
     ]
    }
   ],
   "source": [
    "try:\n",
    "    make_an_error()\n",
    "    print('This will not print')\n",
    "except:\n",
    "    print('Something bad happened!')\n",
    "print('Program continues')"
   ]
  },
  {
   "cell_type": "code",
   "execution_count": 4,
   "id": "6a4af293-4279-4695-beb9-de84fbc1fb12",
   "metadata": {},
   "outputs": [
    {
     "name": "stdout",
     "output_type": "stream",
     "text": [
      "A ZeroDivisionError was raised: division by zero\n",
      "Program continues\n"
     ]
    }
   ],
   "source": [
    "try:\n",
    "    make_an_error()\n",
    "except ZeroDivisionError as e:\n",
    "    print(f'A ZeroDivisionError was raised: {e}')\n",
    "print('Program continues')"
   ]
  },
  {
   "cell_type": "code",
   "execution_count": 5,
   "id": "268920c9-2871-4181-af61-b6459689a70a",
   "metadata": {},
   "outputs": [],
   "source": [
    "import random\n",
    "\n",
    "def make_an_error():\n",
    "    rand_num = random.randint(0,3)\n",
    "    if rand_num == 0:\n",
    "        return 1/0 # ZeroDivisionError\n",
    "    elif rand_num == 1:\n",
    "        [0, 1, 2][5] # IndexError\n",
    "    elif rand_num == 2:\n",
    "        {'a': 'apple'}['b'] # KeyError\n",
    "    elif rand_num == 3:\n",
    "        this_function_does_not_exist() # NameError\n"
   ]
  },
  {
   "cell_type": "code",
   "execution_count": 8,
   "id": "a8106d52-1906-4d6c-a388-2bea6f477524",
   "metadata": {},
   "outputs": [
    {
     "name": "stdout",
     "output_type": "stream",
     "text": [
      "ZeroDivisionError\n"
     ]
    }
   ],
   "source": [
    "try:\n",
    "    make_an_error()\n",
    "except ZeroDivisionError as e:\n",
    "    print('ZeroDivisionError')\n",
    "except IndexError as e:\n",
    "    print('IndexError')\n",
    "except KeyError as e:\n",
    "    print('KeyError')\n",
    "except NameError as e:\n",
    "    print('NameError')\n"
   ]
  },
  {
   "cell_type": "code",
   "execution_count": 9,
   "id": "b3f488a4-72ab-4d41-8e97-889b794f71c6",
   "metadata": {},
   "outputs": [
    {
     "name": "stdout",
     "output_type": "stream",
     "text": [
      "Either an IndexError or a KeyError occurred\n"
     ]
    }
   ],
   "source": [
    "try:\n",
    "    make_an_error()\n",
    "except LookupError as e:\n",
    "    print('Either an IndexError or a KeyError occurred')\n",
    "except ZeroDivisionError as e:\n",
    "    print('ZeroDivisionError')\n",
    "except NameError as e:\n",
    "    print('NameError')\n"
   ]
  },
  {
   "cell_type": "code",
   "execution_count": 10,
   "id": "ca571aaa-d2fc-4cfe-bf30-3199d6195111",
   "metadata": {},
   "outputs": [
    {
     "name": "stdout",
     "output_type": "stream",
     "text": [
      "Either an IndexError or a KeyError occurred\n"
     ]
    }
   ],
   "source": [
    "try:\n",
    "    make_an_error()\n",
    "except LookupError as e:\n",
    "    print('Either an IndexError or a KeyError occurred')\n",
    "except Exception as e:\n",
    "    print('Either a ZeroDivisionError or NameError occurred')\n"
   ]
  },
  {
   "cell_type": "markdown",
   "id": "9a453548-bd43-4f7f-851a-f55447e2e49f",
   "metadata": {},
   "source": [
    "## Else and Finally"
   ]
  },
  {
   "cell_type": "code",
   "execution_count": 29,
   "id": "41723f12-a1f4-4030-84f7-85ef562fb38c",
   "metadata": {},
   "outputs": [],
   "source": [
    "# Stub functions so example code doesn't raise errors. The following function\n",
    "# definitions are not in the book\n",
    "\n",
    "reliable_data_fetching = lambda: None\n",
    "risky_data_processing_1 = lambda d: None\n",
    "risky_data_processing_2 = lambda d: None\n",
    "risky_data_processing_3 = lambda d: None\n",
    "reliable_data_uploading = lambda d: None\n",
    "\n",
    "data_fetching = lambda c: None\n",
    "data_processing = lambda d, c: None\n",
    "data_uploading = lambda d, c: None\n",
    "close_connection = lambda c: None\n"
   ]
  },
  {
   "cell_type": "code",
   "execution_count": 27,
   "id": "7a1514c9-3e9f-4f08-8fea-436beed288a9",
   "metadata": {},
   "outputs": [],
   "source": [
    "data = reliable_data_fetching()\n",
    "try:\n",
    "    data = risky_data_processing_1(data)\n",
    "    data = risky_data_processing_2(data)\n",
    "    data = risky_data_processing_3(data)\n",
    "except:\n",
    "    print('Something bad happened and the data shouldn\\'t be uploaded')\n",
    "else:\n",
    "    reliable_data_uploading(data)"
   ]
  },
  {
   "cell_type": "code",
   "execution_count": null,
   "id": "99a8d68a-e1a2-4cc0-ad08-1d41c45c61d3",
   "metadata": {},
   "outputs": [],
   "source": [
    "def process_data():\n",
    "    conn = create_connection()\n",
    "    try:\n",
    "        data = data_fetching(conn)\n",
    "        data = data_processing(data, conn)\n",
    "        data = data_uploading(data, conn)\n",
    "        close_connection(conn)\n",
    "        return data\n",
    "    except:\n",
    "        print('Something bad happened')\n",
    "        close_connection(conn)\n",
    "    "
   ]
  },
  {
   "cell_type": "code",
   "execution_count": 30,
   "id": "2f38147b-6600-41c2-8860-76bde0ee2a8e",
   "metadata": {},
   "outputs": [],
   "source": [
    "def process_data():\n",
    "    conn = create_connection()\n",
    "    try:\n",
    "        data = data_fetching(conn)\n",
    "        data = data_processing(data, conn)\n",
    "        return data_uploading(data, conn)\n",
    "    except:\n",
    "        print('Something bad happened')\n",
    "    finally:\n",
    "        close_connection(conn)"
   ]
  },
  {
   "cell_type": "code",
   "execution_count": 31,
   "id": "459b022f-a7ca-4c4e-8ce4-168914f5759c",
   "metadata": {},
   "outputs": [],
   "source": [
    "def process_data():\n",
    "    conn = create_connection()\n",
    "    try:\n",
    "        data = data_fetching(conn)\n",
    "        data = data_processing(data, conn)\n",
    "        return data_uploading(data, conn)\n",
    "    finally:\n",
    "        close_connection(conn)"
   ]
  },
  {
   "cell_type": "markdown",
   "id": "e7c72469-dc24-4380-9d6e-2d3522cda256",
   "metadata": {},
   "source": [
    "## Raising Exceptions"
   ]
  },
  {
   "cell_type": "code",
   "execution_count": 33,
   "id": "16d897b9-89c5-415f-8d2d-cda8462b760e",
   "metadata": {},
   "outputs": [],
   "source": [
    "def say_hello(name: str):\n",
    "    if type(name) != str:\n",
    "        raise TypeError('name must be a string')\n",
    "    print(f'Hello, {name}!')\n",
    "    "
   ]
  },
  {
   "cell_type": "code",
   "execution_count": 34,
   "id": "26982e79-3d7a-4b7b-bed2-3180833d96f8",
   "metadata": {},
   "outputs": [
    {
     "ename": "TypeError",
     "evalue": "name must be a string",
     "output_type": "error",
     "traceback": [
      "\u001b[31m---------------------------------------------------------------------------\u001b[39m",
      "\u001b[31mTypeError\u001b[39m                                 Traceback (most recent call last)",
      "\u001b[36mCell\u001b[39m\u001b[36m \u001b[39m\u001b[32mIn[34]\u001b[39m\u001b[32m, line 1\u001b[39m\n\u001b[32m----> \u001b[39m\u001b[32m1\u001b[39m say_hello(\u001b[32m1\u001b[39m)\n",
      "\u001b[36mCell\u001b[39m\u001b[36m \u001b[39m\u001b[32mIn[33]\u001b[39m\u001b[32m, line 3\u001b[39m, in \u001b[36msay_hello\u001b[39m\u001b[34m(name)\u001b[39m\n\u001b[32m      1\u001b[39m \u001b[38;5;28;01mdef\u001b[39;00m \u001b[34msay_hello\u001b[39m(name: \u001b[38;5;28mstr\u001b[39m):\n\u001b[32m      2\u001b[39m     \u001b[38;5;28;01mif\u001b[39;00m \u001b[38;5;28mtype\u001b[39m(name) != \u001b[38;5;28mstr\u001b[39m:\n\u001b[32m----> \u001b[39m\u001b[32m3\u001b[39m         \u001b[38;5;28;01mraise\u001b[39;00m \u001b[38;5;167;01mTypeError\u001b[39;00m(\u001b[33m'\u001b[39m\u001b[33mname must be a string\u001b[39m\u001b[33m'\u001b[39m)\n\u001b[32m      4\u001b[39m     \u001b[38;5;28mprint\u001b[39m(\u001b[33mf\u001b[39m\u001b[33m'\u001b[39m\u001b[33mHello, \u001b[39m\u001b[38;5;132;01m{\u001b[39;00mname\u001b[38;5;132;01m}\u001b[39;00m\u001b[33m!\u001b[39m\u001b[33m'\u001b[39m)\n",
      "\u001b[31mTypeError\u001b[39m: name must be a string"
     ]
    }
   ],
   "source": [
    "say_hello(1)"
   ]
  },
  {
   "cell_type": "code",
   "execution_count": 35,
   "id": "dea96d9a-2f68-4ff5-a9e0-0d33dba9e3e7",
   "metadata": {},
   "outputs": [
    {
     "name": "stdout",
     "output_type": "stream",
     "text": [
      "Still alive!\n"
     ]
    }
   ],
   "source": [
    "def get_type_error(message):\n",
    "    return TypeError(message)\n",
    "\n",
    "get_type_error('some message')\n",
    "print('Still alive!')"
   ]
  },
  {
   "cell_type": "code",
   "execution_count": 36,
   "id": "b655475b-a1a3-480b-9c80-50bc0798bc6f",
   "metadata": {},
   "outputs": [
    {
     "ename": "TypeError",
     "evalue": "exceptions must derive from BaseException",
     "output_type": "error",
     "traceback": [
      "\u001b[31m---------------------------------------------------------------------------\u001b[39m",
      "\u001b[31mTypeError\u001b[39m                                 Traceback (most recent call last)",
      "\u001b[36mCell\u001b[39m\u001b[36m \u001b[39m\u001b[32mIn[36]\u001b[39m\u001b[32m, line 4\u001b[39m\n\u001b[32m      1\u001b[39m \u001b[38;5;28;01mdef\u001b[39;00m \u001b[34mraise_something\u001b[39m():\n\u001b[32m      2\u001b[39m     \u001b[38;5;28;01mraise\u001b[39;00m \u001b[32m1\u001b[39m\n\u001b[32m----> \u001b[39m\u001b[32m4\u001b[39m raise_something()\n",
      "\u001b[36mCell\u001b[39m\u001b[36m \u001b[39m\u001b[32mIn[36]\u001b[39m\u001b[32m, line 2\u001b[39m, in \u001b[36mraise_something\u001b[39m\u001b[34m()\u001b[39m\n\u001b[32m      1\u001b[39m \u001b[38;5;28;01mdef\u001b[39;00m \u001b[34mraise_something\u001b[39m():\n\u001b[32m----> \u001b[39m\u001b[32m2\u001b[39m     \u001b[38;5;28;01mraise\u001b[39;00m \u001b[32m1\u001b[39m\n",
      "\u001b[31mTypeError\u001b[39m: exceptions must derive from BaseException"
     ]
    }
   ],
   "source": [
    "def raise_something():\n",
    "    raise 1\n",
    "\n",
    "raise_something()\n"
   ]
  },
  {
   "cell_type": "markdown",
   "id": "bb3e92ab-0709-4089-8f52-1ab2e31703c4",
   "metadata": {},
   "source": [
    "## Custom Exceptions"
   ]
  },
  {
   "cell_type": "code",
   "execution_count": 37,
   "id": "3475f313-a601-4974-8447-01c11229659a",
   "metadata": {},
   "outputs": [],
   "source": [
    "class DeadParrotError(Exception):\n",
    "    pass"
   ]
  },
  {
   "cell_type": "code",
   "execution_count": 38,
   "id": "93de907e-4ead-4b85-a465-b03d1419b8de",
   "metadata": {},
   "outputs": [
    {
     "ename": "DeadParrotError",
     "evalue": "This parrot is no more",
     "output_type": "error",
     "traceback": [
      "\u001b[31m---------------------------------------------------------------------------\u001b[39m",
      "\u001b[31mDeadParrotError\u001b[39m                           Traceback (most recent call last)",
      "\u001b[36mCell\u001b[39m\u001b[36m \u001b[39m\u001b[32mIn[38]\u001b[39m\u001b[32m, line 4\u001b[39m\n\u001b[32m      1\u001b[39m \u001b[38;5;28;01mdef\u001b[39;00m \u001b[34mpurchase_bird\u001b[39m():\n\u001b[32m      2\u001b[39m     \u001b[38;5;28;01mraise\u001b[39;00m DeadParrotError(\u001b[33m'\u001b[39m\u001b[33mThis parrot is no more\u001b[39m\u001b[33m'\u001b[39m)\n\u001b[32m----> \u001b[39m\u001b[32m4\u001b[39m purchase_bird()\n",
      "\u001b[36mCell\u001b[39m\u001b[36m \u001b[39m\u001b[32mIn[38]\u001b[39m\u001b[32m, line 2\u001b[39m, in \u001b[36mpurchase_bird\u001b[39m\u001b[34m()\u001b[39m\n\u001b[32m      1\u001b[39m \u001b[38;5;28;01mdef\u001b[39;00m \u001b[34mpurchase_bird\u001b[39m():\n\u001b[32m----> \u001b[39m\u001b[32m2\u001b[39m     \u001b[38;5;28;01mraise\u001b[39;00m DeadParrotError(\u001b[33m'\u001b[39m\u001b[33mThis parrot is no more\u001b[39m\u001b[33m'\u001b[39m)\n",
      "\u001b[31mDeadParrotError\u001b[39m: This parrot is no more"
     ]
    }
   ],
   "source": [
    "def purchase_bird():\n",
    "    raise DeadParrotError('This parrot is no more')\n",
    "\n",
    "purchase_bird()"
   ]
  },
  {
   "cell_type": "code",
   "execution_count": 39,
   "id": "89aa1f95-2fae-4014-a759-5959a69ccfe8",
   "metadata": {},
   "outputs": [
    {
     "ename": "DeadParrotError",
     "evalue": "This parrot is no more. This is a late parrot!",
     "output_type": "error",
     "traceback": [
      "\u001b[31m---------------------------------------------------------------------------\u001b[39m",
      "\u001b[31mDeadParrotError\u001b[39m                           Traceback (most recent call last)",
      "\u001b[36mCell\u001b[39m\u001b[36m \u001b[39m\u001b[32mIn[39]\u001b[39m\u001b[32m, line 5\u001b[39m\n\u001b[32m      2\u001b[39m     \u001b[38;5;28;01mdef\u001b[39;00m \u001b[34m__init__\u001b[39m(\u001b[38;5;28mself\u001b[39m, message):\n\u001b[32m      3\u001b[39m         \u001b[38;5;28msuper\u001b[39m().\u001b[34m__init__\u001b[39m(\u001b[33mf\u001b[39m\u001b[33m'\u001b[39m\u001b[38;5;132;01m{\u001b[39;00mmessage\u001b[38;5;132;01m}\u001b[39;00m\u001b[33m. This is a late parrot!\u001b[39m\u001b[33m'\u001b[39m)\n\u001b[32m----> \u001b[39m\u001b[32m5\u001b[39m purchase_bird()\n",
      "\u001b[36mCell\u001b[39m\u001b[36m \u001b[39m\u001b[32mIn[38]\u001b[39m\u001b[32m, line 2\u001b[39m, in \u001b[36mpurchase_bird\u001b[39m\u001b[34m()\u001b[39m\n\u001b[32m      1\u001b[39m \u001b[38;5;28;01mdef\u001b[39;00m \u001b[34mpurchase_bird\u001b[39m():\n\u001b[32m----> \u001b[39m\u001b[32m2\u001b[39m     \u001b[38;5;28;01mraise\u001b[39;00m DeadParrotError(\u001b[33m'\u001b[39m\u001b[33mThis parrot is no more\u001b[39m\u001b[33m'\u001b[39m)\n",
      "\u001b[31mDeadParrotError\u001b[39m: This parrot is no more. This is a late parrot!"
     ]
    }
   ],
   "source": [
    "class DeadParrotError(Exception):\n",
    "    def __init__(self, message):\n",
    "        super().__init__(f'{message}. This is a late parrot!')\n",
    "\n",
    "purchase_bird()"
   ]
  },
  {
   "cell_type": "code",
   "execution_count": 40,
   "id": "86fcd1f5-55ca-446d-a49f-7bf204ba00bc",
   "metadata": {},
   "outputs": [],
   "source": [
    "class HTTPError(Exception):\n",
    "    code = None\n",
    "    description = None\n",
    "    def __init__(self, message=None):\n",
    "        if message:\n",
    "            super().__init__(f'{self.code} {self.description}: {message}')\n",
    "        else:\n",
    "            super().__init__(f'{self.code} {self.description}')\n",
    "            "
   ]
  },
  {
   "cell_type": "code",
   "execution_count": 41,
   "id": "10a2373f-502c-42c7-8d08-331dc43b987d",
   "metadata": {},
   "outputs": [],
   "source": [
    "class Unauthorized(HTTPError):\n",
    "    code = 401\n",
    "    description = 'Unauthorized'\n",
    "\n",
    "class NotFound(HTTPError):\n",
    "    code = 404\n",
    "    description = 'Not Found'\n",
    "\n",
    "class BadGateway(HTTPError):\n",
    "    code = 502\n",
    "    description = 'Bad Gateway'\n"
   ]
  },
  {
   "cell_type": "code",
   "execution_count": 42,
   "id": "64b7d8e5-3489-424f-919e-dc1ee6eb0d58",
   "metadata": {},
   "outputs": [
    {
     "ename": "Unauthorized",
     "evalue": "401 Unauthorized",
     "output_type": "error",
     "traceback": [
      "\u001b[31m---------------------------------------------------------------------------\u001b[39m",
      "\u001b[31mUnauthorized\u001b[39m                              Traceback (most recent call last)",
      "\u001b[36mCell\u001b[39m\u001b[36m \u001b[39m\u001b[32mIn[42]\u001b[39m\u001b[32m, line 1\u001b[39m\n\u001b[32m----> \u001b[39m\u001b[32m1\u001b[39m \u001b[38;5;28;01mraise\u001b[39;00m Unauthorized()\n",
      "\u001b[31mUnauthorized\u001b[39m: 401 Unauthorized"
     ]
    }
   ],
   "source": [
    "raise Unauthorized()"
   ]
  },
  {
   "cell_type": "code",
   "execution_count": 43,
   "id": "ff2407e3-2796-4f4c-9970-80364b54bb2e",
   "metadata": {},
   "outputs": [
    {
     "ename": "NotFound",
     "evalue": "404 Not Found: Document ID 123 was not found on the server",
     "output_type": "error",
     "traceback": [
      "\u001b[31m---------------------------------------------------------------------------\u001b[39m",
      "\u001b[31mNotFound\u001b[39m                                  Traceback (most recent call last)",
      "\u001b[36mCell\u001b[39m\u001b[36m \u001b[39m\u001b[32mIn[43]\u001b[39m\u001b[32m, line 4\u001b[39m\n\u001b[32m      1\u001b[39m \u001b[38;5;28;01mdef\u001b[39;00m \u001b[34mget_document_stub\u001b[39m(doc_id):\n\u001b[32m      2\u001b[39m     \u001b[38;5;28;01mraise\u001b[39;00m NotFound(\u001b[33mf\u001b[39m\u001b[33m'\u001b[39m\u001b[33mDocument ID \u001b[39m\u001b[38;5;132;01m{\u001b[39;00mdoc_id\u001b[38;5;132;01m}\u001b[39;00m\u001b[33m was not found on the server\u001b[39m\u001b[33m'\u001b[39m)\n\u001b[32m----> \u001b[39m\u001b[32m4\u001b[39m get_document_stub(\u001b[32m123\u001b[39m)\n",
      "\u001b[36mCell\u001b[39m\u001b[36m \u001b[39m\u001b[32mIn[43]\u001b[39m\u001b[32m, line 2\u001b[39m, in \u001b[36mget_document_stub\u001b[39m\u001b[34m(doc_id)\u001b[39m\n\u001b[32m      1\u001b[39m \u001b[38;5;28;01mdef\u001b[39;00m \u001b[34mget_document_stub\u001b[39m(doc_id):\n\u001b[32m----> \u001b[39m\u001b[32m2\u001b[39m     \u001b[38;5;28;01mraise\u001b[39;00m NotFound(\u001b[33mf\u001b[39m\u001b[33m'\u001b[39m\u001b[33mDocument ID \u001b[39m\u001b[38;5;132;01m{\u001b[39;00mdoc_id\u001b[38;5;132;01m}\u001b[39;00m\u001b[33m was not found on the server\u001b[39m\u001b[33m'\u001b[39m)\n",
      "\u001b[31mNotFound\u001b[39m: 404 Not Found: Document ID 123 was not found on the server"
     ]
    }
   ],
   "source": [
    "def get_document_stub(doc_id):\n",
    "    raise NotFound(f'Document ID {doc_id} was not found on the server')\n",
    "\n",
    "get_document_stub(123)"
   ]
  },
  {
   "cell_type": "code",
   "execution_count": 44,
   "id": "f1642aff-bbf3-4285-98c1-270db576e94a",
   "metadata": {},
   "outputs": [],
   "source": [
    "class Unauthorized(HTTPError):\n",
    "    code = 401\n",
    "    description = 'Unauthorized'\n",
    "    retriable = False\n",
    "\n",
    "class NotFound(HTTPError):\n",
    "    code = 404\n",
    "    description = 'Not Found'\n",
    "    retriable = False\n",
    "\n",
    "class BadGateway(HTTPError):\n",
    "    code = 502\n",
    "    description = 'Bad Gateway'\n",
    "    retriable = True\n",
    "\n",
    "    "
   ]
  },
  {
   "cell_type": "code",
   "execution_count": 46,
   "id": "f5ff4844-9a2a-4862-986e-9aa48b55b1bd",
   "metadata": {},
   "outputs": [],
   "source": [
    "class HTTPError(Exception):\n",
    "    code = None\n",
    "    description = None\n",
    "    def __init__(self, message=None):\n",
    "        if message:\n",
    "            super().__init__(f'{self.code} {self.description}: {message}')\n",
    "        else:\n",
    "            super().__init__(f'{self.code} {self.description}')\n",
    "\n",
    "class HTTPRetriableError(HTTPError):\n",
    "    pass\n",
    "\n",
    "class Unauthroized(HTTPError):\n",
    "    code = 401\n",
    "    description = 'Unauthorized'\n",
    "\n",
    "class NotFound(HTTPError):\n",
    "    code = 404\n",
    "    description = 'Not Found'\n",
    "\n",
    "class BadGateway(HTTPRetriableError):\n",
    "    code = 502\n",
    "    description = 'Bad Gateway'\n"
   ]
  },
  {
   "cell_type": "markdown",
   "id": "be1a2ea4-88d1-4dba-89f8-d13096f68a33",
   "metadata": {},
   "source": [
    "## Exception Handling Patterns"
   ]
  },
  {
   "cell_type": "code",
   "execution_count": 47,
   "id": "bf47a7f1-31ba-48e0-8860-a0387e5a52cf",
   "metadata": {},
   "outputs": [],
   "source": [
    "class Request:\n",
    "    pass"
   ]
  },
  {
   "cell_type": "code",
   "execution_count": 49,
   "id": "0aa83223-512f-4995-8eca-3d2b9c96b7c5",
   "metadata": {},
   "outputs": [],
   "source": [
    "class Response:\n",
    "    def __init__(self, http_code, data):\n",
    "        self.http_code = http_code\n",
    "        self.data = data\n",
    "\n",
    "    def __str__(self):\n",
    "        return f'{self.http_code} {self.data}'\n"
   ]
  },
  {
   "cell_type": "code",
   "execution_count": 51,
   "id": "e0967fbe-ce62-4cd0-bdd4-d5eab962e806",
   "metadata": {},
   "outputs": [],
   "source": [
    "def handle_request(request: Request) -> Response:\n",
    "    pass"
   ]
  },
  {
   "cell_type": "code",
   "execution_count": 54,
   "id": "fa71a312-49e1-4446-afe1-6aa01563db45",
   "metadata": {},
   "outputs": [],
   "source": [
    "class HTTPError(Exception):\n",
    "    code = None\n",
    "    description = None\n",
    "    def __init__(self, message=None):\n",
    "        if message:\n",
    "            super().__init__(f'{self.code} {self.description}: {message}')\n",
    "        else:\n",
    "            super().__init__(f'{self.code} {self.description}')\n",
    "\n",
    "class HTTPRetriableError(HTTPError):\n",
    "    pass"
   ]
  },
  {
   "cell_type": "code",
   "execution_count": 74,
   "id": "02028bde-e4ba-4409-a528-64f77d4d9897",
   "metadata": {},
   "outputs": [],
   "source": [
    "class Unauthorized(HTTPError):\n",
    "    code = 401\n",
    "    description = 'Unauthorized'\n",
    "\n",
    "class Forbidden(HTTPError):\n",
    "    code = 403\n",
    "    description = 'Forbidden'\n",
    "\n",
    "class NotFound(HTTPError):\n",
    "    code = 404\n",
    "    description = 'Not Found'\n",
    "\n",
    "class BadGateway(HTTPRetriableError):\n",
    "    code = 502\n",
    "    description = 'Bad Gateway'\n",
    "\n",
    "class GatewayTimeout(HTTPRetriableError):\n",
    "    code = 504\n",
    "    description = 'Gateway Timeout'\n"
   ]
  },
  {
   "cell_type": "code",
   "execution_count": 69,
   "id": "95b3487c-0d7d-48ea-9653-009975fac9d3",
   "metadata": {},
   "outputs": [],
   "source": [
    "from random import randint\n",
    "\n",
    "def do_authentication(request: Request) -> None:\n",
    "    if randint(0, 4) == 0:\n",
    "        raise Unauthorized()\n",
    "\n",
    "def do_authorization(request: Request) -> None:\n",
    "    if randint(0, 4) == 0:\n",
    "        raise Forbidden()\n",
    "\n",
    "def do_get_data(request: Request) -> str:\n",
    "    r = randint(0, 4)\n",
    "    if r == 0:\n",
    "        raise BadGateway()\n",
    "    if r == 1:\n",
    "        raise GatewayTimeout()\n",
    "    if r == 2:\n",
    "        raise NotFound()\n",
    "    return 'some data'"
   ]
  },
  {
   "cell_type": "code",
   "execution_count": 70,
   "id": "a4a4e6b2-e890-4806-ac3a-adfb4979c5d6",
   "metadata": {},
   "outputs": [],
   "source": [
    "def handle_request(request: Request) -> Response:\n",
    "    do_authentication(request)\n",
    "    do_authorization(request)\n",
    "    data = do_get_data(request)\n",
    "    return Response(200, data)"
   ]
  },
  {
   "cell_type": "code",
   "execution_count": 71,
   "id": "1d3f8dff-6f16-4bf3-8e0b-d20e49f96c29",
   "metadata": {},
   "outputs": [
    {
     "ename": "Unauthorized",
     "evalue": "401 Unauthorized",
     "output_type": "error",
     "traceback": [
      "\u001b[31m---------------------------------------------------------------------------\u001b[39m",
      "\u001b[31mUnauthorized\u001b[39m                              Traceback (most recent call last)",
      "\u001b[36mCell\u001b[39m\u001b[36m \u001b[39m\u001b[32mIn[71]\u001b[39m\u001b[32m, line 1\u001b[39m\n\u001b[32m----> \u001b[39m\u001b[32m1\u001b[39m \u001b[38;5;28mprint\u001b[39m(handle_request(Request()))\n",
      "\u001b[36mCell\u001b[39m\u001b[36m \u001b[39m\u001b[32mIn[70]\u001b[39m\u001b[32m, line 2\u001b[39m, in \u001b[36mhandle_request\u001b[39m\u001b[34m(request)\u001b[39m\n\u001b[32m      1\u001b[39m \u001b[38;5;28;01mdef\u001b[39;00m \u001b[34mhandle_request\u001b[39m(request: Request) -> Response:\n\u001b[32m----> \u001b[39m\u001b[32m2\u001b[39m     do_authentication(request)\n\u001b[32m      3\u001b[39m     do_authorization(request)\n\u001b[32m      4\u001b[39m     data = do_get_data(request)\n",
      "\u001b[36mCell\u001b[39m\u001b[36m \u001b[39m\u001b[32mIn[69]\u001b[39m\u001b[32m, line 5\u001b[39m, in \u001b[36mdo_authentication\u001b[39m\u001b[34m(request)\u001b[39m\n\u001b[32m      3\u001b[39m \u001b[38;5;28;01mdef\u001b[39;00m \u001b[34mdo_authentication\u001b[39m(request: Request) -> \u001b[38;5;28;01mNone\u001b[39;00m:\n\u001b[32m      4\u001b[39m     \u001b[38;5;28;01mif\u001b[39;00m randint(\u001b[32m0\u001b[39m, \u001b[32m4\u001b[39m) == \u001b[32m0\u001b[39m:\n\u001b[32m----> \u001b[39m\u001b[32m5\u001b[39m         \u001b[38;5;28;01mraise\u001b[39;00m Unauthorized()\n",
      "\u001b[31mUnauthorized\u001b[39m: 401 Unauthorized"
     ]
    }
   ],
   "source": [
    "print(handle_request(Request()))"
   ]
  },
  {
   "cell_type": "code",
   "execution_count": 75,
   "id": "4c713a94-b752-43b2-a57e-275349f9ab3f",
   "metadata": {},
   "outputs": [
    {
     "name": "stdout",
     "output_type": "stream",
     "text": [
      "502 Bad Gateway\n"
     ]
    }
   ],
   "source": [
    "def handle_request(request: Request) -> Response:\n",
    "    try:\n",
    "        do_authentication(request)\n",
    "    except Unauthorized as e:\n",
    "        return Response(e.code, e.description)\n",
    "    try:\n",
    "        do_authorization(request)\n",
    "    except Forbidden as e:\n",
    "        return Response(e.code, e.description)\n",
    "    try:\n",
    "        data = do_get_data(request)\n",
    "    except BadGateway as e:\n",
    "        return Response(e.code, e.description)\n",
    "    except GatewayTimeout as e:\n",
    "        return Response(e.code, e.description)\n",
    "    except NotFound as e:\n",
    "        return Response(e.code, e.description)\n",
    "    return Response(200, data)\n",
    "\n",
    "print(handle_request(Request()))"
   ]
  },
  {
   "cell_type": "code",
   "execution_count": 76,
   "id": "6859f93a-f967-4a4c-ac73-ef209a812c88",
   "metadata": {},
   "outputs": [
    {
     "name": "stdout",
     "output_type": "stream",
     "text": [
      "401 Unauthorized\n"
     ]
    }
   ],
   "source": [
    "def handle_request(request: Request) -> Response:\n",
    "    try:\n",
    "        do_authentication(request)\n",
    "        do_authorization(request)\n",
    "        data = do_get_data(request)\n",
    "    except HTTPError as e:\n",
    "        return Response(e.code, e.description)\n",
    "    return Response(200, data)\n",
    "\n",
    "print(handle_request(Request()))"
   ]
  },
  {
   "cell_type": "code",
   "execution_count": 81,
   "id": "842971af-2894-46fa-b206-17f91e27d964",
   "metadata": {},
   "outputs": [],
   "source": [
    "import traceback\n",
    "\n",
    "def handle_request(request: Request) -> Response:\n",
    "    try:\n",
    "        1/0\n",
    "        do_authentication(request)\n",
    "        do_authorization(request)\n",
    "        data = do_get_data(request)\n",
    "    except HTTPError as e:\n",
    "        return Response(e.code, e.description)\n",
    "    except Exception as e:\n",
    "        print(f'Something very unusual happened: {e}')\n",
    "        print(''.join(traceback.format_exception(e)))\n",
    "        return Response(500, 'Server Error')\n",
    "    return Response(200, data)"
   ]
  },
  {
   "cell_type": "code",
   "execution_count": 80,
   "id": "fcdd3198-e4e0-48e3-b305-c4515d4f617c",
   "metadata": {},
   "outputs": [
    {
     "name": "stdout",
     "output_type": "stream",
     "text": [
      "Something very unusual happened: division by zero\n",
      "Traceback (most recent call last):\n",
      "  File \"/var/folders/y6/jnf4yrtx1pg3y9tqb8fmhnrr0000gp/T/ipykernel_49122/897685481.py\", line 5, in handle_request\n",
      "    1/0\n",
      "    ~^~\n",
      "ZeroDivisionError: division by zero\n",
      "\n",
      "500 Server Error\n"
     ]
    }
   ],
   "source": [
    "print(handle_request(Request()))"
   ]
  },
  {
   "cell_type": "code",
   "execution_count": 84,
   "id": "dea085d7-c4e0-404a-9800-374b9d386188",
   "metadata": {},
   "outputs": [
    {
     "name": "stdout",
     "output_type": "stream",
     "text": [
      "404 Not Found\n"
     ]
    }
   ],
   "source": [
    "import traceback\n",
    "\n",
    "def handle_request(request: Request, retries=3) -> Response:\n",
    "    try:\n",
    "        do_authentication(request)\n",
    "        do_authorization(request)\n",
    "        data = do_get_data(request)\n",
    "    except HTTPRetriableError as e:\n",
    "        if retries > 0:\n",
    "            print(f'Error: {e}, retries: {retries}')\n",
    "            return handle_request(request, retries=retries-1)\n",
    "        else:\n",
    "            return Response(e.code, e.description)\n",
    "    except HTTPError as e:\n",
    "        return Response(e.code, e.description)\n",
    "    except Exception as e:\n",
    "        print(f'Something very unusual happened: f{e}')\n",
    "        print(''.join(traceback.format_exception(e)))\n",
    "        return Response(500, 'Server Error')\n",
    "    return Response(200, data)\n",
    "\n",
    "print(handle_request(Request()))"
   ]
  },
  {
   "cell_type": "code",
   "execution_count": null,
   "id": "73513730-6755-4884-b47e-f53635f454a4",
   "metadata": {},
   "outputs": [],
   "source": [
    "def handle_profile_view(request: Request, retries=3) -> Response:\n",
    "    pass\n",
    "\n",
    "def handle_comment_post(request: Request, retries=3) -> Response:\n",
    "    pass\n",
    "\n",
    "def handle_add_friend(request: Request, retries=3) -> Response:\n",
    "    pass"
   ]
  },
  {
   "cell_type": "code",
   "execution_count": 91,
   "id": "961e7338-825f-483c-98be-6e517869cad2",
   "metadata": {},
   "outputs": [
    {
     "name": "stdout",
     "output_type": "stream",
     "text": [
      "Error: 502 Bad Gateway, retries: 3\n",
      "401 Unauthorized\n"
     ]
    }
   ],
   "source": [
    "def handle_http_errors(retries):\n",
    "    def decorator(func):\n",
    "        def inner_func(*args, current_retries=retries, **kwargs):\n",
    "            try:\n",
    "                return func(*args, **kwargs)\n",
    "            except HTTPRetriableError as e:\n",
    "                if current_retries > 0:\n",
    "                    print(f'Error: {e}, retries: {current_retries}')\n",
    "                    return inner_func(\n",
    "                        *args,\n",
    "                        current_retries=current_retries - 1,\n",
    "                        **kwargs\n",
    "                    )\n",
    "                else:\n",
    "                    return Response(e.code, e.description)\n",
    "            except HTTPError as e:\n",
    "                return Response(e.code, e.description)\n",
    "            except Exception as e:\n",
    "                print(f'Something very unusual happened: f{e}')\n",
    "                print(''.join(traceback.format_exception(e)))\n",
    "                return Response(500, 'Server Error')\n",
    "        return inner_func\n",
    "    return decorator\n",
    "\n",
    "def do_get_data(request: Request) -> str:\n",
    "    r = randint(0, 4)\n",
    "    if r == 0 or r == 1:\n",
    "        raise BadGateway()\n",
    "    if r == 2 or r == 3:\n",
    "        raise GatewayTimeout()\n",
    "    if r == 5:\n",
    "        raise NotFound()\n",
    "    return 'some data'\n",
    "\n",
    "@handle_http_errors(3)\n",
    "def handle_profile_view(request: Request) -> Response:\n",
    "    do_authentication(request)\n",
    "    do_authorization(request)\n",
    "    return do_get_data(request)\n",
    "\n",
    "@handle_http_errors(3)\n",
    "def handle_comment_post(request: Request) -> Response:\n",
    "    do_authentication(request)\n",
    "    do_authorization(request)\n",
    "    return do_get_data(request)\n",
    "\n",
    "@handle_http_errors(3)\n",
    "def handle_add_friend(request: Request) -> Response:\n",
    "    do_authentication(request)\n",
    "    do_authorization(request)\n",
    "    return do_get_data(request)\n",
    "\n",
    "print(handle_add_friend(Request()))"
   ]
  },
  {
   "cell_type": "markdown",
   "id": "c675e068-3c41-41ea-bdeb-defb7652d2ac",
   "metadata": {},
   "source": [
    "## Exercises"
   ]
  },
  {
   "cell_type": "markdown",
   "id": "e2324d76-6cf1-44d5-8bc8-07053b5846f2",
   "metadata": {},
   "source": [
    "**1.**\n",
    "Write an exception class for the HTTP error code 400 Bad Request"
   ]
  },
  {
   "cell_type": "code",
   "execution_count": null,
   "id": "c7b5da90-9146-49c1-be5c-4975a3fd32e2",
   "metadata": {},
   "outputs": [],
   "source": []
  },
  {
   "cell_type": "markdown",
   "id": "a89575af-9c55-47dd-bdff-39f911a0ebb2",
   "metadata": {},
   "source": [
    "**2.** Write an exception class for the HTTP error code 308 Permanent Redirect"
   ]
  },
  {
   "cell_type": "code",
   "execution_count": null,
   "id": "52dd23da-9388-4695-bfa2-1ce1513e5d04",
   "metadata": {},
   "outputs": [],
   "source": []
  },
  {
   "cell_type": "markdown",
   "id": "5b72ec66-cd6b-441a-9054-2aabc512b5ca",
   "metadata": {},
   "source": [
    "**3.**\n",
    "Given some_function, which is capable of raising any error, determine which except block is not needed and explain why it will never be reached.\n",
    "\n",
    "```\n",
    "def some_function():\n",
    "    pass\n",
    "try:\n",
    "    some_function()\n",
    "except OSError:\n",
    "    print('Caught OSError')\n",
    "except BrokenPipeError:\n",
    "    print('Caught BrokenPipeError')\n",
    "except UnboundLocalError:\n",
    "    print('Caught UnboundLocalError')\n",
    "except MemoryError:\n",
    "    print('Caught MemoryError')\n",
    "```"
   ]
  },
  {
   "cell_type": "markdown",
   "id": "467da4d7-de3a-42f2-a0fc-e7aeec4ae633",
   "metadata": {},
   "source": [
    "**4.**\n",
    "Write a function `sneaky_python_wrapper` that calls any error-prone function, such as `make_an error`, defined here:"
   ]
  },
  {
   "cell_type": "code",
   "execution_count": 92,
   "id": "21624180-4651-4b97-8132-0a6dc10baf2b",
   "metadata": {},
   "outputs": [],
   "source": [
    "def make_an_error():\n",
    "    rand_num = random.randint(0,3)\n",
    "    if rand_num == 0:\n",
    "        return 1/0 # ZeroDivisionError\n",
    "    elif rand_num == 1:\n",
    "        [0, 1, 2][5] # IndexError\n",
    "    elif rand_num == 2:\n",
    "        {'a': 'apple'}['b'] # KeyError\n",
    "    elif rand_num == 3:\n",
    "        this_function_does_not_exist() # NameError"
   ]
  },
  {
   "cell_type": "markdown",
   "id": "303cb35c-30b1-4b24-984f-1ca25673c327",
   "metadata": {},
   "source": [
    "The `sneaky_python_wrapper` function should take any error raised and turn it into a new custom error: `SneakyPythonError`. The message passed to `SneakyPythonError` should be the string representation of the original error (e.g., \"`ZeroDivisionError: division by zero`\").\n",
    "\n",
    "Your function `sneaky_python_wrapper` must raise an error if the function it’s calling does, but should be incapable of raising anything except for a `SneakyPythonError`."
   ]
  },
  {
   "cell_type": "code",
   "execution_count": null,
   "id": "b66db61b-9527-428e-8cf1-c96100c51a48",
   "metadata": {},
   "outputs": [],
   "source": []
  },
  {
   "cell_type": "markdown",
   "id": "2c9b1633-3cd5-4a45-9a84-5dbe7228039a",
   "metadata": {},
   "source": [
    "**5.**\n",
    "\n",
    "Replicate the functionality of `sneaky_python_wrapper`, but as a decorator: `@sneaky_python_ decorator`.\n",
    "\n",
    "Any function decorated with this will only be capable of raising errors of type `SneakyPythonError`."
   ]
  },
  {
   "cell_type": "code",
   "execution_count": null,
   "id": "82ae042c-4c08-4fec-b7a7-4aff5f0f2abf",
   "metadata": {},
   "outputs": [],
   "source": []
  }
 ],
 "metadata": {
  "kernelspec": {
   "display_name": "Python 3 (ipykernel)",
   "language": "python",
   "name": "python3"
  },
  "language_info": {
   "codemirror_mode": {
    "name": "ipython",
    "version": 3
   },
   "file_extension": ".py",
   "mimetype": "text/x-python",
   "name": "python",
   "nbconvert_exporter": "python",
   "pygments_lexer": "ipython3",
   "version": "3.12.2"
  }
 },
 "nbformat": 4,
 "nbformat_minor": 5
}
