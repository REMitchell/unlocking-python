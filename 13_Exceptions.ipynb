{
 "cells": [
  {
   "cell_type": "markdown",
   "id": "56bf90af-4f18-4098-b1dc-8209ef435576",
   "metadata": {},
   "source": [
    "# Exceptions"
   ]
  },
  {
   "cell_type": "code",
   "execution_count": 4,
   "id": "978167f9-8617-419c-8a78-2a30c32b72af",
   "metadata": {},
   "outputs": [
    {
     "name": "stdout",
     "output_type": "stream",
     "text": [
      "division by zero\n"
     ]
    }
   ],
   "source": [
    "try:\n",
    "    1/0\n",
    "except ArithmeticError as e:\n",
    "    print(e)"
   ]
  },
  {
   "cell_type": "code",
   "execution_count": 10,
   "id": "908dfc83-d071-4885-ae28-66e0383be871",
   "metadata": {},
   "outputs": [
    {
     "ename": "ZeroDivisionError",
     "evalue": "division by zero",
     "output_type": "error",
     "traceback": [
      "\u001b[0;31m---------------------------------------------------------------------------\u001b[0m",
      "\u001b[0;31mZeroDivisionError\u001b[0m                         Traceback (most recent call last)",
      "Cell \u001b[0;32mIn[10], line 4\u001b[0m\n\u001b[1;32m      1\u001b[0m \u001b[38;5;28;01mdef\u001b[39;00m \u001b[38;5;21mmake_an_error\u001b[39m():\n\u001b[1;32m      2\u001b[0m     \u001b[38;5;241m1\u001b[39m\u001b[38;5;241m/\u001b[39m\u001b[38;5;241m0\u001b[39m\n\u001b[0;32m----> 4\u001b[0m \u001b[43mmake_an_error\u001b[49m\u001b[43m(\u001b[49m\u001b[43m)\u001b[49m\n",
      "Cell \u001b[0;32mIn[10], line 2\u001b[0m, in \u001b[0;36mmake_an_error\u001b[0;34m()\u001b[0m\n\u001b[1;32m      1\u001b[0m \u001b[38;5;28;01mdef\u001b[39;00m \u001b[38;5;21mmake_an_error\u001b[39m():\n\u001b[0;32m----> 2\u001b[0m     \u001b[38;5;241;43m1\u001b[39;49m\u001b[38;5;241;43m/\u001b[39;49m\u001b[38;5;241;43m0\u001b[39;49m\n",
      "\u001b[0;31mZeroDivisionError\u001b[0m: division by zero"
     ]
    }
   ],
   "source": [
    "def make_an_error():\n",
    "    1/0\n",
    "\n",
    "make_an_error()"
   ]
  },
  {
   "cell_type": "code",
   "execution_count": 12,
   "id": "8c08cfad-dcdb-40d4-8a03-d8874765a394",
   "metadata": {},
   "outputs": [
    {
     "name": "stdout",
     "output_type": "stream",
     "text": [
      "Something bad happened!\n",
      "Program continues\n"
     ]
    }
   ],
   "source": [
    "try:\n",
    "    make_an_error()\n",
    "except:\n",
    "    print('Something bad happened!')\n",
    "print('Program continues')"
   ]
  },
  {
   "cell_type": "code",
   "execution_count": 20,
   "id": "6a4af293-4279-4695-beb9-de84fbc1fb12",
   "metadata": {},
   "outputs": [
    {
     "name": "stdout",
     "output_type": "stream",
     "text": [
      "None\n",
      "A ZeroDivisionError was raised: division by zero\n",
      "Program continues\n"
     ]
    }
   ],
   "source": [
    "try:\n",
    "    make_an_error()\n",
    "except ZeroDivisionError as e:\n",
    "    print(f'A ZeroDivisionError was raised: {e}')\n",
    "print('Program continues')"
   ]
  },
  {
   "cell_type": "code",
   "execution_count": 69,
   "id": "268920c9-2871-4181-af61-b6459689a70a",
   "metadata": {},
   "outputs": [],
   "source": [
    "import random\n",
    "\n",
    "def make_an_error():\n",
    "    rand_num = random.randint(0,3)\n",
    "    if rand_num == 0:\n",
    "        return 1/0 # ZeroDivisionError\n",
    "    elif rand_num == 1:\n",
    "        [0, 1, 2][5] # IndexError\n",
    "    elif rand_num == 2:\n",
    "        {'a': 'apple'}['b'] # KeyError\n",
    "    elif rand_num == 3:\n",
    "        this_function_does_not_exist() # NameError\n"
   ]
  },
  {
   "cell_type": "code",
   "execution_count": 70,
   "id": "a8106d52-1906-4d6c-a388-2bea6f477524",
   "metadata": {},
   "outputs": [
    {
     "name": "stdout",
     "output_type": "stream",
     "text": [
      "IndexError\n"
     ]
    }
   ],
   "source": [
    "try:\n",
    "    make_an_error()\n",
    "except ZeroDivisionError as e:\n",
    "    print('ZeroDivisionError')\n",
    "except IndexError as e:\n",
    "    print('IndexError')\n",
    "except KeyError as e:\n",
    "    print('KeyError')\n",
    "except NameError as e:\n",
    "    print('NameError')\n"
   ]
  },
  {
   "cell_type": "code",
   "execution_count": null,
   "id": "b04356ee-c437-4ee0-8701-652c8c8c187b",
   "metadata": {},
   "outputs": [],
   "source": [
    "try:\n",
    "    make_an_error()\n",
    "except ZeroDivisionError as e:\n",
    "    print('ZeroDivisionError')\n",
    "except IndexError as e:\n",
    "    print('IndexError')\n",
    "except KeyError as e:\n",
    "    print('KeyError')\n",
    "except NameError as e:\n",
    "    print('NameError')"
   ]
  },
  {
   "cell_type": "code",
   "execution_count": null,
   "id": "ca571aaa-d2fc-4cfe-bf30-3199d6195111",
   "metadata": {},
   "outputs": [],
   "source": [
    "try:\n",
    "    make_an_error()\n",
    "except LookupError as e:\n",
    "    print('Either an IndexError or a KeyError occurred')\n",
    "except Exception as e:\n",
    "    print('Either a ZeroDivisionError or NameError occurred')\n"
   ]
  },
  {
   "cell_type": "code",
   "execution_count": null,
   "id": "41723f12-a1f4-4030-84f7-85ef562fb38c",
   "metadata": {},
   "outputs": [],
   "source": [
    "data = reliable_data_fetching()\n",
    "try:\n",
    "    data = risky_data_processing_1(data)\n",
    "    data = risky_data_processing_2(data)\n",
    "    data = risky_data_processing_3(data)\n",
    "except:\n",
    "    print('Something bad happened and the data shouldn\\'t be uploaded')\n",
    "else:\n",
    "    reliable_data_uploading(data)"
   ]
  },
  {
   "cell_type": "code",
   "execution_count": null,
   "id": "99a8d68a-e1a2-4cc0-ad08-1d41c45c61d3",
   "metadata": {},
   "outputs": [],
   "source": [
    "conn = create_connection()\n",
    "try:\n",
    "    data = data_fetching(conn)\n",
    "    data = data_processing(data, conn)\n",
    "    data_uploading(data, conn)\n",
    "except:\n",
    "    print('Something bad happened')\n",
    "    close_connection(conn)\n",
    "\n",
    "close_connection(conn)\n"
   ]
  },
  {
   "cell_type": "code",
   "execution_count": null,
   "id": "2f38147b-6600-41c2-8860-76bde0ee2a8e",
   "metadata": {},
   "outputs": [],
   "source": [
    "conn = create_connection()\n",
    "try:\n",
    "    data = data_fetching(conn)\n",
    "    data = data_processing(data, conn)\n",
    "    data_uploading(data, conn)\n",
    "except:\n",
    "    print('Something bad happened')\n",
    "finally:\n",
    "    close_connection(conn)"
   ]
  },
  {
   "cell_type": "code",
   "execution_count": null,
   "id": "459b022f-a7ca-4c4e-8ce4-168914f5759c",
   "metadata": {},
   "outputs": [],
   "source": [
    "conn = create_connection()\n",
    "try:\n",
    "    data = data_fetching(conn)\n",
    "    data = data_processing(data, conn)\n",
    "    data_uploading(data, conn)\n",
    "finally:\n",
    "    close_connection(conn)"
   ]
  },
  {
   "cell_type": "code",
   "execution_count": null,
   "id": "3d140908-3fd2-4f8d-806a-3b0be87d949a",
   "metadata": {},
   "outputs": [],
   "source": [
    "def extract_transform_and_load_data():\n",
    "    conn = create_connection()\n",
    "    try:\n",
    "        data = data_fetching(conn)\n",
    "        data = data_processing(data, conn)\n",
    "        data_uploading(data, conn)\n",
    "        return True\n",
    "    finally:\n",
    "        close_connection(conn)"
   ]
  },
  {
   "cell_type": "code",
   "execution_count": null,
   "id": "e03d1920-52c2-43b8-b4d5-b5f2e7d14bd5",
   "metadata": {},
   "outputs": [],
   "source": []
  },
  {
   "cell_type": "markdown",
   "id": "e7c72469-dc24-4380-9d6e-2d3522cda256",
   "metadata": {},
   "source": [
    "## Raising Exceptions"
   ]
  },
  {
   "cell_type": "code",
   "execution_count": 74,
   "id": "16d897b9-89c5-415f-8d2d-cda8462b760e",
   "metadata": {},
   "outputs": [],
   "source": [
    "def say_hello(name: str):\n",
    "    if type(name) != str:\n",
    "        raise TypeError('name must be a string')\n",
    "    print(f'Hello, {name}!')\n",
    "    "
   ]
  },
  {
   "cell_type": "code",
   "execution_count": 79,
   "id": "dea96d9a-2f68-4ff5-a9e0-0d33dba9e3e7",
   "metadata": {},
   "outputs": [
    {
     "name": "stdout",
     "output_type": "stream",
     "text": [
      "Still alive!\n"
     ]
    }
   ],
   "source": [
    "def get_type_error(message):\n",
    "    return TypeError(message)\n",
    "\n",
    "get_type_error('some message')\n",
    "print('Still alive!')"
   ]
  },
  {
   "cell_type": "code",
   "execution_count": 81,
   "id": "b655475b-a1a3-480b-9c80-50bc0798bc6f",
   "metadata": {},
   "outputs": [
    {
     "ename": "TypeError",
     "evalue": "exceptions must derive from BaseException",
     "output_type": "error",
     "traceback": [
      "\u001b[0;31m---------------------------------------------------------------------------\u001b[0m",
      "\u001b[0;31mTypeError\u001b[0m                                 Traceback (most recent call last)",
      "Cell \u001b[0;32mIn[81], line 4\u001b[0m\n\u001b[1;32m      1\u001b[0m \u001b[38;5;28;01mdef\u001b[39;00m \u001b[38;5;21mraise_something\u001b[39m():\n\u001b[1;32m      2\u001b[0m     \u001b[38;5;28;01mraise\u001b[39;00m \u001b[38;5;241m1\u001b[39m\n\u001b[0;32m----> 4\u001b[0m \u001b[43mraise_something\u001b[49m\u001b[43m(\u001b[49m\u001b[43m)\u001b[49m\n",
      "Cell \u001b[0;32mIn[81], line 2\u001b[0m, in \u001b[0;36mraise_something\u001b[0;34m()\u001b[0m\n\u001b[1;32m      1\u001b[0m \u001b[38;5;28;01mdef\u001b[39;00m \u001b[38;5;21mraise_something\u001b[39m():\n\u001b[0;32m----> 2\u001b[0m     \u001b[38;5;28;01mraise\u001b[39;00m \u001b[38;5;241m1\u001b[39m\n",
      "\u001b[0;31mTypeError\u001b[0m: exceptions must derive from BaseException"
     ]
    }
   ],
   "source": [
    "def raise_something():\n",
    "    raise 1\n",
    "\n",
    "raise_something()\n"
   ]
  },
  {
   "cell_type": "code",
   "execution_count": null,
   "id": "64086472-4fe5-4c3e-a5b5-92edb56bdcd8",
   "metadata": {},
   "outputs": [],
   "source": []
  },
  {
   "cell_type": "markdown",
   "id": "bb3e92ab-0709-4089-8f52-1ab2e31703c4",
   "metadata": {},
   "source": [
    "## Custom Exceptions"
   ]
  },
  {
   "cell_type": "code",
   "execution_count": 82,
   "id": "3475f313-a601-4974-8447-01c11229659a",
   "metadata": {},
   "outputs": [],
   "source": [
    "class DeadParrotError(Exception):\n",
    "    pass"
   ]
  },
  {
   "cell_type": "code",
   "execution_count": 86,
   "id": "93de907e-4ead-4b85-a465-b03d1419b8de",
   "metadata": {},
   "outputs": [
    {
     "ename": "DeadParrotError",
     "evalue": "This parrot is no more",
     "output_type": "error",
     "traceback": [
      "\u001b[0;31m---------------------------------------------------------------------------\u001b[0m",
      "\u001b[0;31mDeadParrotError\u001b[0m                           Traceback (most recent call last)",
      "Cell \u001b[0;32mIn[86], line 4\u001b[0m\n\u001b[1;32m      1\u001b[0m \u001b[38;5;28;01mdef\u001b[39;00m \u001b[38;5;21mpurchase_bird\u001b[39m():\n\u001b[1;32m      2\u001b[0m     \u001b[38;5;28;01mraise\u001b[39;00m DeadParrotError(\u001b[38;5;124m'\u001b[39m\u001b[38;5;124mThis parrot is no more\u001b[39m\u001b[38;5;124m'\u001b[39m)\n\u001b[0;32m----> 4\u001b[0m \u001b[43mpurchase_bird\u001b[49m\u001b[43m(\u001b[49m\u001b[43m)\u001b[49m\n",
      "Cell \u001b[0;32mIn[86], line 2\u001b[0m, in \u001b[0;36mpurchase_bird\u001b[0;34m()\u001b[0m\n\u001b[1;32m      1\u001b[0m \u001b[38;5;28;01mdef\u001b[39;00m \u001b[38;5;21mpurchase_bird\u001b[39m():\n\u001b[0;32m----> 2\u001b[0m     \u001b[38;5;28;01mraise\u001b[39;00m DeadParrotError(\u001b[38;5;124m'\u001b[39m\u001b[38;5;124mThis parrot is no more\u001b[39m\u001b[38;5;124m'\u001b[39m)\n",
      "\u001b[0;31mDeadParrotError\u001b[0m: This parrot is no more"
     ]
    }
   ],
   "source": [
    "def purchase_bird():\n",
    "    raise DeadParrotError('This parrot is no more')\n",
    "\n",
    "purchase_bird()"
   ]
  },
  {
   "cell_type": "code",
   "execution_count": 88,
   "id": "89aa1f95-2fae-4014-a759-5959a69ccfe8",
   "metadata": {},
   "outputs": [
    {
     "ename": "DeadParrotError",
     "evalue": "This parrot is no more. This is a late parrot!",
     "output_type": "error",
     "traceback": [
      "\u001b[0;31m---------------------------------------------------------------------------\u001b[0m",
      "\u001b[0;31mDeadParrotError\u001b[0m                           Traceback (most recent call last)",
      "Cell \u001b[0;32mIn[88], line 5\u001b[0m\n\u001b[1;32m      2\u001b[0m     \u001b[38;5;28;01mdef\u001b[39;00m \u001b[38;5;21m__init__\u001b[39m(\u001b[38;5;28mself\u001b[39m, message):\n\u001b[1;32m      3\u001b[0m         \u001b[38;5;28msuper\u001b[39m()\u001b[38;5;241m.\u001b[39m\u001b[38;5;21m__init__\u001b[39m(\u001b[38;5;124mf\u001b[39m\u001b[38;5;124m'\u001b[39m\u001b[38;5;132;01m{\u001b[39;00mmessage\u001b[38;5;132;01m}\u001b[39;00m\u001b[38;5;124m. This is a late parrot!\u001b[39m\u001b[38;5;124m'\u001b[39m)\n\u001b[0;32m----> 5\u001b[0m \u001b[43mpurchase_bird\u001b[49m\u001b[43m(\u001b[49m\u001b[43m)\u001b[49m\n",
      "Cell \u001b[0;32mIn[86], line 2\u001b[0m, in \u001b[0;36mpurchase_bird\u001b[0;34m()\u001b[0m\n\u001b[1;32m      1\u001b[0m \u001b[38;5;28;01mdef\u001b[39;00m \u001b[38;5;21mpurchase_bird\u001b[39m():\n\u001b[0;32m----> 2\u001b[0m     \u001b[38;5;28;01mraise\u001b[39;00m DeadParrotError(\u001b[38;5;124m'\u001b[39m\u001b[38;5;124mThis parrot is no more\u001b[39m\u001b[38;5;124m'\u001b[39m)\n",
      "\u001b[0;31mDeadParrotError\u001b[0m: This parrot is no more. This is a late parrot!"
     ]
    }
   ],
   "source": [
    "class DeadParrotError(Exception):\n",
    "    def __init__(self, message):\n",
    "        super().__init__(f'{message}. This is a late parrot!')\n",
    "\n",
    "purchase_bird()"
   ]
  },
  {
   "cell_type": "code",
   "execution_count": 92,
   "id": "86fcd1f5-55ca-446d-a49f-7bf204ba00bc",
   "metadata": {},
   "outputs": [],
   "source": [
    "class HTTPError(Exception):\n",
    "    code = None\n",
    "    description = None\n",
    "    def __init__(self, message=None):\n",
    "        if message:\n",
    "            super().__init__(f'{self.code} {self.description}: {message}')\n",
    "        else:\n",
    "            super().__init__(f'{self.code} {self.description}')\n",
    "            "
   ]
  },
  {
   "cell_type": "code",
   "execution_count": 93,
   "id": "10a2373f-502c-42c7-8d08-331dc43b987d",
   "metadata": {},
   "outputs": [],
   "source": [
    "class Unauthorized(HTTPError):\n",
    "    code = 401\n",
    "    description = 'Unauthorized'\n",
    "\n",
    "class NotFound(HTTPError):\n",
    "    code = 404\n",
    "    description = 'Not Found'\n",
    "\n",
    "class BadGateway(HTTPError):\n",
    "    code = 502\n",
    "    description = 'Bad Gateway'\n"
   ]
  },
  {
   "cell_type": "code",
   "execution_count": 94,
   "id": "64b7d8e5-3489-424f-919e-dc1ee6eb0d58",
   "metadata": {},
   "outputs": [
    {
     "ename": "Unauthorized",
     "evalue": "401 Unauthorized",
     "output_type": "error",
     "traceback": [
      "\u001b[0;31m---------------------------------------------------------------------------\u001b[0m",
      "\u001b[0;31mUnauthorized\u001b[0m                              Traceback (most recent call last)",
      "Cell \u001b[0;32mIn[94], line 1\u001b[0m\n\u001b[0;32m----> 1\u001b[0m \u001b[38;5;28;01mraise\u001b[39;00m Unauthorized()\n",
      "\u001b[0;31mUnauthorized\u001b[0m: 401 Unauthorized"
     ]
    }
   ],
   "source": [
    "raise Unauthorized()"
   ]
  },
  {
   "cell_type": "code",
   "execution_count": 95,
   "id": "ff2407e3-2796-4f4c-9970-80364b54bb2e",
   "metadata": {},
   "outputs": [
    {
     "ename": "NotFound",
     "evalue": "404 Not Found: Document ID 123 was not found on the server",
     "output_type": "error",
     "traceback": [
      "\u001b[0;31m---------------------------------------------------------------------------\u001b[0m",
      "\u001b[0;31mNotFound\u001b[0m                                  Traceback (most recent call last)",
      "Cell \u001b[0;32mIn[95], line 4\u001b[0m\n\u001b[1;32m      1\u001b[0m \u001b[38;5;28;01mdef\u001b[39;00m \u001b[38;5;21mget_document_stub\u001b[39m(doc_id):\n\u001b[1;32m      2\u001b[0m     \u001b[38;5;28;01mraise\u001b[39;00m NotFound(\u001b[38;5;124mf\u001b[39m\u001b[38;5;124m'\u001b[39m\u001b[38;5;124mDocument ID \u001b[39m\u001b[38;5;132;01m{\u001b[39;00mdoc_id\u001b[38;5;132;01m}\u001b[39;00m\u001b[38;5;124m was not found on the server\u001b[39m\u001b[38;5;124m'\u001b[39m)\n\u001b[0;32m----> 4\u001b[0m \u001b[43mget_document_stub\u001b[49m\u001b[43m(\u001b[49m\u001b[38;5;241;43m123\u001b[39;49m\u001b[43m)\u001b[49m\n",
      "Cell \u001b[0;32mIn[95], line 2\u001b[0m, in \u001b[0;36mget_document_stub\u001b[0;34m(doc_id)\u001b[0m\n\u001b[1;32m      1\u001b[0m \u001b[38;5;28;01mdef\u001b[39;00m \u001b[38;5;21mget_document_stub\u001b[39m(doc_id):\n\u001b[0;32m----> 2\u001b[0m     \u001b[38;5;28;01mraise\u001b[39;00m NotFound(\u001b[38;5;124mf\u001b[39m\u001b[38;5;124m'\u001b[39m\u001b[38;5;124mDocument ID \u001b[39m\u001b[38;5;132;01m{\u001b[39;00mdoc_id\u001b[38;5;132;01m}\u001b[39;00m\u001b[38;5;124m was not found on the server\u001b[39m\u001b[38;5;124m'\u001b[39m)\n",
      "\u001b[0;31mNotFound\u001b[0m: 404 Not Found: Document ID 123 was not found on the server"
     ]
    }
   ],
   "source": [
    "def get_document_stub(doc_id):\n",
    "    raise NotFound(f'Document ID {doc_id} was not found on the server')\n",
    "\n",
    "get_document_stub(123)"
   ]
  },
  {
   "cell_type": "code",
   "execution_count": 96,
   "id": "f1642aff-bbf3-4285-98c1-270db576e94a",
   "metadata": {},
   "outputs": [],
   "source": [
    "class Unauthorized(HTTPError):\n",
    "    code = 401\n",
    "    description = 'Unauthorized'\n",
    "    retriable = False\n",
    "\n",
    "class NotFound(HTTPError):\n",
    "    code = 404\n",
    "    description = 'Not Found'\n",
    "    retriable = False\n",
    "\n",
    "class BadGateway(HTTPError):\n",
    "    code = 502\n",
    "    description = 'Bad Gateway'\n",
    "    retriable = True\n",
    "\n",
    "    "
   ]
  },
  {
   "cell_type": "code",
   "execution_count": 97,
   "id": "f5ff4844-9a2a-4862-986e-9aa48b55b1bd",
   "metadata": {},
   "outputs": [],
   "source": [
    "class HTTPError(Exception):\n",
    "    code = None\n",
    "    description = None\n",
    "    def __init__(self, message=None):\n",
    "        if message:\n",
    "            super().__init__(f'{self.code} {self.description}: {message}')\n",
    "        else:\n",
    "            super().__init__(f'{self.code} {self.description}')\n",
    "\n",
    "class HTTPRetriableError(HTTPError):\n",
    "    pass\n",
    "\n",
    "class BadGateway(HTTPRetriableError):\n",
    "    code = 502\n",
    "    description = 'Bad Gateway'\n"
   ]
  },
  {
   "cell_type": "code",
   "execution_count": null,
   "id": "b245eb4c-f5e3-44b2-9275-8b44d674bf7b",
   "metadata": {},
   "outputs": [],
   "source": []
  },
  {
   "cell_type": "markdown",
   "id": "be1a2ea4-88d1-4dba-89f8-d13096f68a33",
   "metadata": {},
   "source": [
    "## Exception Handling Patterns"
   ]
  },
  {
   "cell_type": "code",
   "execution_count": 98,
   "id": "bf47a7f1-31ba-48e0-8860-a0387e5a52cf",
   "metadata": {},
   "outputs": [],
   "source": [
    "class Request:\n",
    "    pass"
   ]
  },
  {
   "cell_type": "code",
   "execution_count": 138,
   "id": "0aa83223-512f-4995-8eca-3d2b9c96b7c5",
   "metadata": {},
   "outputs": [],
   "source": [
    "class Response:\n",
    "    def __init__(self, http_code, data):\n",
    "        self.http_code = http_code\n",
    "        self.data = data\n",
    "\n",
    "    def __str__(self):\n",
    "        return f'{self.http_code} {self.data}'\n"
   ]
  },
  {
   "cell_type": "code",
   "execution_count": null,
   "id": "e0967fbe-ce62-4cd0-bdd4-d5eab962e806",
   "metadata": {},
   "outputs": [],
   "source": [
    "def handle_request_and_return_response(request: Request) -> Response:\n",
    "    pass"
   ]
  },
  {
   "cell_type": "code",
   "execution_count": 103,
   "id": "fa71a312-49e1-4446-afe1-6aa01563db45",
   "metadata": {},
   "outputs": [],
   "source": [
    "class HTTPError(Exception):\n",
    "    code = None\n",
    "    description = None\n",
    "    def __init__(self, message=None: str):\n",
    "        if message:\n",
    "            super().__init__(f'{self.code} {self.description}: {message}')\n",
    "        else:\n",
    "            super().__init__(f'{self.code} {self.description}')\n",
    "\n",
    "class HTTPRetriableError(HTTPError):\n",
    "    pass\n",
    "\n",
    "class Unauthorized(HTTPError):\n",
    "    code = 401\n",
    "    description = 'Unauthorized'\n",
    "\n",
    "class Forbidden(HTTPError):\n",
    "    code = 403\n",
    "    description = 'Forbidden'\n",
    "\n",
    "class NotFound(HTTPError):\n",
    "    code = 404\n",
    "    description = 'Not Found'\n",
    "\n",
    "class BadGateway(HTTPRetriableError):\n",
    "    code = 502\n",
    "    description = 'Bad Gateway'\n",
    "\n",
    "class GatewayTimeout(HTTPRetriableError):\n",
    "    code = 504\n",
    "    description = 'Gateway Timeout'\n",
    "\n"
   ]
  },
  {
   "cell_type": "code",
   "execution_count": 126,
   "id": "95b3487c-0d7d-48ea-9653-009975fac9d3",
   "metadata": {},
   "outputs": [],
   "source": [
    "from random import randint\n",
    "\n",
    "def do_authentication(request: Request) -> None:\n",
    "    if randint(0, 4) == 0:\n",
    "        raise Unauthorized()\n",
    "\n",
    "def do_authorization(request: Request) -> None:\n",
    "    if randint(0, 4) == 0:\n",
    "        raise Forbidden()\n",
    "\n",
    "def do_get_data(request: Request) -> str:\n",
    "    r = randint(0, 4)\n",
    "    if r == 0:\n",
    "        raise BadGateway()\n",
    "    if r == 1:\n",
    "        raise GatewayTimeout()\n",
    "    if r == 2:\n",
    "        raise NotFound()\n",
    "    return 'some data'"
   ]
  },
  {
   "cell_type": "code",
   "execution_count": 129,
   "id": "ca914856-2df3-490b-8f01-781f4c35f9ea",
   "metadata": {},
   "outputs": [
    {
     "data": {
      "text/plain": [
       "0.25600000000000006"
      ]
     },
     "execution_count": 129,
     "metadata": {},
     "output_type": "execute_result"
    }
   ],
   "source": [
    ".8 * .8 * .4"
   ]
  },
  {
   "cell_type": "code",
   "execution_count": 147,
   "id": "4c713a94-b752-43b2-a57e-275349f9ab3f",
   "metadata": {},
   "outputs": [
    {
     "name": "stdout",
     "output_type": "stream",
     "text": [
      "200 some data\n"
     ]
    }
   ],
   "source": [
    "def handle_request(request: Request) -> Response:\n",
    "    try:\n",
    "        do_authentication(request)\n",
    "    except Unauthorized as e:\n",
    "        return Response(e.code, e.description)\n",
    "    try:\n",
    "        do_authorization(request)\n",
    "    except Forbidden as e:\n",
    "        return Response(e.code, e.description)\n",
    "    try:\n",
    "        data = do_get_data(request)\n",
    "    except BadGateway as e:\n",
    "        return Response(e.code, e.description)\n",
    "    except GatewayTimeout as e:\n",
    "        return Response(e.code, e.description)\n",
    "    except NotFound as e:\n",
    "        return Response(e.code, e.description)\n",
    "    return Response(200, data)\n",
    "\n",
    "print(handle_request(Request()))"
   ]
  },
  {
   "cell_type": "code",
   "execution_count": 153,
   "id": "6859f93a-f967-4a4c-ac73-ef209a812c88",
   "metadata": {},
   "outputs": [
    {
     "name": "stdout",
     "output_type": "stream",
     "text": [
      "200 some data\n"
     ]
    }
   ],
   "source": [
    "def handle_request(request: Request) -> Response:\n",
    "    try:\n",
    "        do_authentication(request)\n",
    "        do_authorization(request)\n",
    "        data = do_get_data(request)\n",
    "    except HTTPError as e:\n",
    "        return Response(e.code, e.description)\n",
    "    return Response(200, data)\n",
    "\n",
    "print(handle_request(Request()))"
   ]
  },
  {
   "cell_type": "code",
   "execution_count": 166,
   "id": "842971af-2894-46fa-b206-17f91e27d964",
   "metadata": {},
   "outputs": [],
   "source": [
    "import traceback\n",
    "\n",
    "def handle_request(request: Request) -> Response:\n",
    "    try:\n",
    "        1/0\n",
    "        do_authentication(request)\n",
    "        do_authorization(request)\n",
    "        data = do_get_data(request)\n",
    "    except HTTPError as e:\n",
    "        return Response(e.code, e.description)\n",
    "    except Exception as e:\n",
    "        print(f'Something very unusual happened: f{e}')\n",
    "        print(''.join(traceback.format_exception(e)))\n",
    "        return Response(500, 'Server Error')\n",
    "    return Response(200, data)"
   ]
  },
  {
   "cell_type": "code",
   "execution_count": 167,
   "id": "fcdd3198-e4e0-48e3-b305-c4515d4f617c",
   "metadata": {},
   "outputs": [
    {
     "name": "stdout",
     "output_type": "stream",
     "text": [
      "Something very unusual happened: fdivision by zero\n",
      "Traceback (most recent call last):\n",
      "  File \"/var/folders/y6/jnf4yrtx1pg3y9tqb8fmhnrr0000gp/T/ipykernel_31242/181545956.py\", line 5, in handle_request\n",
      "    1/0\n",
      "    ~^~\n",
      "ZeroDivisionError: division by zero\n",
      "\n",
      "500 Server Error\n"
     ]
    }
   ],
   "source": [
    "print(handle_request(Request()))"
   ]
  },
  {
   "cell_type": "code",
   "execution_count": 286,
   "id": "dea085d7-c4e0-404a-9800-374b9d386188",
   "metadata": {},
   "outputs": [
    {
     "name": "stdout",
     "output_type": "stream",
     "text": [
      "200 some data\n"
     ]
    }
   ],
   "source": [
    "import traceback\n",
    "\n",
    "def handle_request(request: Request, retries=3) -> Response:\n",
    "    try:\n",
    "        do_authentication(request)\n",
    "        do_authorization(request)\n",
    "        data = do_get_data(request)\n",
    "    except HTTPRetriableError as e:\n",
    "        if retries > 0:\n",
    "            print(f'Error: {e}, retries: {retries}')\n",
    "            return handle_request(request, retries=retries-1)\n",
    "        else:\n",
    "            return Response(e.code, e.description)\n",
    "    except HTTPError as e:\n",
    "        return Response(e.code, e.description)\n",
    "    except Exception as e:\n",
    "        print(f'Something very unusual happened: f{e}')\n",
    "        print(''.join(traceback.format_exception(e)))\n",
    "        return Response(500, 'Server Error')\n",
    "    return Response(200, data)\n",
    "\n",
    "print(handle_request(Request()))"
   ]
  },
  {
   "cell_type": "code",
   "execution_count": null,
   "id": "73513730-6755-4884-b47e-f53635f454a4",
   "metadata": {},
   "outputs": [],
   "source": [
    "def handle_profile_view(request: Request, retries=3) -> Response:\n",
    "    pass\n",
    "\n",
    "def handle_comment_post(request: Request, retries=3) -> Response:\n",
    "    pass\n",
    "\n",
    "def handle_add_friend(request: Request, retries=3) -> Response:\n",
    "    pass"
   ]
  },
  {
   "cell_type": "code",
   "execution_count": 254,
   "id": "01b7d27a-7d02-4427-aed9-75d97a0c48f8",
   "metadata": {},
   "outputs": [
    {
     "name": "stdout",
     "output_type": "stream",
     "text": [
      "('foo',)\n",
      "{'bar': 'quux'}\n",
      "done\n"
     ]
    }
   ],
   "source": [
    "def handle_http_errors(func):\n",
    "    def inner_func(*args, **kwargs):\n",
    "        print(args)\n",
    "        print(kwargs)\n",
    "        return func(*args, **kwargs)\n",
    "    return inner_func\n",
    "\n",
    "\n",
    "@handle_http_errors\n",
    "def test(foo, bar='baz'):\n",
    "    print('done')\n",
    "\n",
    "test('foo', bar='quux')"
   ]
  },
  {
   "cell_type": "code",
   "execution_count": 400,
   "id": "961e7338-825f-483c-98be-6e517869cad2",
   "metadata": {},
   "outputs": [
    {
     "name": "stdout",
     "output_type": "stream",
     "text": [
      "Error: 502 Bad Gateway, retries: 3\n",
      "Error: 504 Gateway Timeout, retries: 2\n",
      "Error: 502 Bad Gateway, retries: 1\n",
      "some data\n"
     ]
    }
   ],
   "source": [
    "def handle_http_errors(retries):\n",
    "    def decorator(func):\n",
    "        def inner_func(*args, **kwargs):\n",
    "            current_retries = kwargs.pop('retries', retries)\n",
    "            try:\n",
    "                return func(*args, **kwargs)\n",
    "            except HTTPRetriableError as e:\n",
    "                if current_retries > 0:\n",
    "                    print(f'Error: {e}, retries: {current_retries}')\n",
    "                    return inner_func(*args, retries=current_retries-1, **kwargs)\n",
    "                else:\n",
    "                    return Response(e.code, e.description)\n",
    "            except HTTPError as e:\n",
    "                return Response(e.code, e.description)\n",
    "            except Exception as e:\n",
    "                print(f'Something very unusual happened: f{e}')\n",
    "                print(''.join(traceback.format_exception(e)))\n",
    "                return Response(500, 'Server Error')\n",
    "        return inner_func\n",
    "    return decorator\n",
    "\n",
    "def handle_http_errors(retries):\n",
    "    def decorator(func):\n",
    "        def inner_func(*args, current_retries=retries, **kwargs):\n",
    "            try:\n",
    "                return func(*args, **kwargs)\n",
    "            except HTTPRetriableError as e:\n",
    "                if current_retries > 0:\n",
    "                    print(f'Error: {e}, retries: {current_retries}')\n",
    "                    return inner_func(\n",
    "                        *args,\n",
    "                        current_retries=current_retries - 1,\n",
    "                        **kwargs\n",
    "                    )\n",
    "                else:\n",
    "                    return Response(e.code, e.description)\n",
    "            except HTTPError as e:\n",
    "                return Response(e.code, e.description)\n",
    "            except Exception as e:\n",
    "                print(f'Something very unusual happened: f{e}')\n",
    "                print(''.join(traceback.format_exception(e)))\n",
    "                return Response(500, 'Server Error')\n",
    "        return inner_func\n",
    "    return decorator\n",
    "\n",
    "def do_get_data(request: Request) -> str:\n",
    "    r = randint(0, 4)\n",
    "    if r == 0 or r == 1:\n",
    "        raise BadGateway()\n",
    "    if r == 2 or r == 3:\n",
    "        raise GatewayTimeout()\n",
    "    if r == 5:\n",
    "        raise NotFound()\n",
    "    return 'some data'\n",
    "\n",
    "@handle_http_errors(3)\n",
    "def handle_profile_view(request: Request) -> Response:\n",
    "    do_authentication(request)\n",
    "    do_authorization(request)\n",
    "    return do_get_data(request)\n",
    "\n",
    "@handle_http_errors(3)\n",
    "def handle_comment_post(request: Request) -> Response:\n",
    "    do_authentication(request)\n",
    "    do_authorization(request)\n",
    "    return do_get_data(request)\n",
    "\n",
    "@handle_http_errors(3)\n",
    "def handle_add_friend(request: Request) -> Response:\n",
    "    do_authentication(request)\n",
    "    do_authorization(request)\n",
    "    return do_get_data(request)\n",
    "\n",
    "print(handle_add_friend(Request()))"
   ]
  },
  {
   "cell_type": "markdown",
   "id": "c675e068-3c41-41ea-bdeb-defb7652d2ac",
   "metadata": {},
   "source": [
    "## Exercises"
   ]
  },
  {
   "cell_type": "markdown",
   "id": "e2324d76-6cf1-44d5-8bc8-07053b5846f2",
   "metadata": {},
   "source": [
    "Write an exception for 400 Bad Request"
   ]
  },
  {
   "cell_type": "markdown",
   "id": "8a313d44-0f5a-4825-99d8-40e757d7e66e",
   "metadata": {},
   "source": [
    "Write an exception for 308 Permanent Redirect"
   ]
  },
  {
   "cell_type": "markdown",
   "id": "de7fc875-16ca-4f2b-9a77-e499f53481f2",
   "metadata": {},
   "source": [
    "-- UnboundLocalError(NameError)\n",
    "-- UnicodeError(ValueError)\n",
    "-- ChildProcessError(OSError)\n",
    "-- BrokenPipeError(ConnectionError(OSError))"
   ]
  },
  {
   "cell_type": "code",
   "execution_count": 408,
   "id": "38aad642-3047-4736-be42-9d5521585c70",
   "metadata": {},
   "outputs": [],
   "source": [
    "def some_function():\n",
    "    pass\n",
    "try:\n",
    "    some_function()\n",
    "except OSError:\n",
    "    print('Caught OSError')\n",
    "except BrokenPipeError:\n",
    "    print('Caught BrokenPipeError')\n",
    "except UnboundLocalError:\n",
    "    print('Caught UnboundLocalError')\n",
    "except MemoryError:\n",
    "    print('Caught MemoryError')"
   ]
  },
  {
   "cell_type": "code",
   "execution_count": 407,
   "id": "e3bec1ed-55b7-41cd-a38b-154d169d329b",
   "metadata": {},
   "outputs": [
    {
     "name": "stdout",
     "output_type": "stream",
     "text": [
      "Help on class BrokenPipeError in module builtins:\n",
      "\n",
      "class BrokenPipeError(ConnectionError)\n",
      " |  Broken pipe.\n",
      " |\n",
      " |  Method resolution order:\n",
      " |      BrokenPipeError\n",
      " |      ConnectionError\n",
      " |      OSError\n",
      " |      Exception\n",
      " |      BaseException\n",
      " |      object\n",
      " |\n",
      " |  Methods defined here:\n",
      " |\n",
      " |  __init__(self, /, *args, **kwargs)\n",
      " |      Initialize self.  See help(type(self)) for accurate signature.\n",
      " |\n",
      " |  ----------------------------------------------------------------------\n",
      " |  Methods inherited from OSError:\n",
      " |\n",
      " |  __reduce__(...)\n",
      " |      Helper for pickle.\n",
      " |\n",
      " |  __str__(self, /)\n",
      " |      Return str(self).\n",
      " |\n",
      " |  ----------------------------------------------------------------------\n",
      " |  Static methods inherited from OSError:\n",
      " |\n",
      " |  __new__(*args, **kwargs) class method of builtins.OSError\n",
      " |      Create and return a new object.  See help(type) for accurate signature.\n",
      " |\n",
      " |  ----------------------------------------------------------------------\n",
      " |  Data descriptors inherited from OSError:\n",
      " |\n",
      " |  characters_written\n",
      " |\n",
      " |  errno\n",
      " |      POSIX exception code\n",
      " |\n",
      " |  filename\n",
      " |      exception filename\n",
      " |\n",
      " |  filename2\n",
      " |      second exception filename\n",
      " |\n",
      " |  strerror\n",
      " |      exception strerror\n",
      " |\n",
      " |  ----------------------------------------------------------------------\n",
      " |  Methods inherited from BaseException:\n",
      " |\n",
      " |  __delattr__(self, name, /)\n",
      " |      Implement delattr(self, name).\n",
      " |\n",
      " |  __getattribute__(self, name, /)\n",
      " |      Return getattr(self, name).\n",
      " |\n",
      " |  __repr__(self, /)\n",
      " |      Return repr(self).\n",
      " |\n",
      " |  __setattr__(self, name, value, /)\n",
      " |      Implement setattr(self, name, value).\n",
      " |\n",
      " |  __setstate__(...)\n",
      " |\n",
      " |  add_note(...)\n",
      " |      Exception.add_note(note) --\n",
      " |      add a note to the exception\n",
      " |\n",
      " |  with_traceback(...)\n",
      " |      Exception.with_traceback(tb) --\n",
      " |      set self.__traceback__ to tb and return self.\n",
      " |\n",
      " |  ----------------------------------------------------------------------\n",
      " |  Data descriptors inherited from BaseException:\n",
      " |\n",
      " |  __cause__\n",
      " |      exception cause\n",
      " |\n",
      " |  __context__\n",
      " |      exception context\n",
      " |\n",
      " |  __dict__\n",
      " |\n",
      " |  __suppress_context__\n",
      " |\n",
      " |  __traceback__\n",
      " |\n",
      " |  args\n",
      "\n"
     ]
    }
   ],
   "source": [
    "help(BrokenPipeError)"
   ]
  },
  {
   "cell_type": "code",
   "execution_count": null,
   "id": "21624180-4651-4b97-8132-0a6dc10baf2b",
   "metadata": {},
   "outputs": [],
   "source": [
    "def make_an_error():\n",
    "    rand_num = random.randint(0,3)\n",
    "    if rand_num == 0:\n",
    "        return 1/0 # ZeroDivisionError\n",
    "    elif rand_num == 1:\n",
    "        [0, 1, 2][5] # IndexError\n",
    "    elif rand_num == 2:\n",
    "        {'a': 'apple'}['b'] # KeyError\n",
    "    elif rand_num == 3:\n",
    "        this_function_does_not_exist() # NameError"
   ]
  },
  {
   "cell_type": "code",
   "execution_count": 409,
   "id": "4cc99bcb-f24c-48ad-bb7e-4a3a662645bb",
   "metadata": {},
   "outputs": [
    {
     "ename": "ZeroDivisionError",
     "evalue": "division by zero",
     "output_type": "error",
     "traceback": [
      "\u001b[0;31m---------------------------------------------------------------------------\u001b[0m",
      "\u001b[0;31mZeroDivisionError\u001b[0m                         Traceback (most recent call last)",
      "Cell \u001b[0;32mIn[409], line 1\u001b[0m\n\u001b[0;32m----> 1\u001b[0m \u001b[38;5;241;43m1\u001b[39;49m\u001b[38;5;241;43m/\u001b[39;49m\u001b[38;5;241;43m0\u001b[39;49m\n",
      "\u001b[0;31mZeroDivisionError\u001b[0m: division by zero"
     ]
    }
   ],
   "source": [
    "1/0"
   ]
  },
  {
   "cell_type": "code",
   "execution_count": null,
   "id": "cc5972a5-aa62-4072-a911-4553cfa6fd19",
   "metadata": {},
   "outputs": [],
   "source": []
  }
 ],
 "metadata": {
  "kernelspec": {
   "display_name": "Python 3 (ipykernel)",
   "language": "python",
   "name": "python3"
  },
  "language_info": {
   "codemirror_mode": {
    "name": "ipython",
    "version": 3
   },
   "file_extension": ".py",
   "mimetype": "text/x-python",
   "name": "python",
   "nbconvert_exporter": "python",
   "pygments_lexer": "ipython3",
   "version": "3.12.4"
  }
 },
 "nbformat": 4,
 "nbformat_minor": 5
}
