{
 "cells": [
  {
   "cell_type": "markdown",
   "id": "d5fce9ab-3f88-48cb-b096-e7f8d497da0b",
   "metadata": {},
   "source": [
    "# Other Types of Objects"
   ]
  },
  {
   "cell_type": "markdown",
   "id": "02216ddd-ddbd-4f2a-93ad-f439e9120177",
   "metadata": {},
   "source": [
    "## Other Numbers"
   ]
  },
  {
   "cell_type": "code",
   "execution_count": 1,
   "id": "146b05b2-24f5-4e3c-8913-b6e6c92a5661",
   "metadata": {},
   "outputs": [],
   "source": [
    "imaginary = 2j"
   ]
  },
  {
   "cell_type": "code",
   "execution_count": 3,
   "id": "32c566b0-722a-4946-978c-fad57a6062eb",
   "metadata": {},
   "outputs": [],
   "source": [
    "imaginary = 1j"
   ]
  },
  {
   "cell_type": "code",
   "execution_count": 227,
   "id": "e2ce7c00-50d6-4b2b-9d9d-8d6901cea3e4",
   "metadata": {},
   "outputs": [
    {
     "data": {
      "text/plain": [
       "complex"
      ]
     },
     "execution_count": 227,
     "metadata": {},
     "output_type": "execute_result"
    }
   ],
   "source": [
    "type(imaginary)"
   ]
  },
  {
   "cell_type": "code",
   "execution_count": 4,
   "id": "ba0f9734-f1b3-45c0-95ce-a29823c71b29",
   "metadata": {},
   "outputs": [],
   "source": [
    "cnum = 5 + 2j"
   ]
  },
  {
   "cell_type": "code",
   "execution_count": 5,
   "id": "1eccef53-160e-457a-84d9-3b372dca96d5",
   "metadata": {},
   "outputs": [
    {
     "data": {
      "text/plain": [
       "complex"
      ]
     },
     "execution_count": 5,
     "metadata": {},
     "output_type": "execute_result"
    }
   ],
   "source": [
    "type(5 + 2j)"
   ]
  },
  {
   "cell_type": "code",
   "execution_count": 6,
   "id": "7198452b-5fec-45ad-9ab8-d634dd9de96c",
   "metadata": {},
   "outputs": [
    {
     "ename": "ValueError",
     "evalue": "math domain error",
     "output_type": "error",
     "traceback": [
      "\u001b[31m---------------------------------------------------------------------------\u001b[39m",
      "\u001b[31mValueError\u001b[39m                                Traceback (most recent call last)",
      "\u001b[36mCell\u001b[39m\u001b[36m \u001b[39m\u001b[32mIn[6]\u001b[39m\u001b[32m, line 3\u001b[39m\n\u001b[32m      1\u001b[39m \u001b[38;5;28;01mimport\u001b[39;00m \u001b[34;01mmath\u001b[39;00m\n\u001b[32m----> \u001b[39m\u001b[32m3\u001b[39m math.sqrt(-\u001b[32m1\u001b[39m)\n",
      "\u001b[31mValueError\u001b[39m: math domain error"
     ]
    }
   ],
   "source": [
    "import math\n",
    "\n",
    "math.sqrt(-1)"
   ]
  },
  {
   "cell_type": "code",
   "execution_count": 7,
   "id": "8d5c688c-aba9-4889-848c-d2b53d0a78e0",
   "metadata": {},
   "outputs": [
    {
     "data": {
      "text/plain": [
       "1j"
      ]
     },
     "execution_count": 7,
     "metadata": {},
     "output_type": "execute_result"
    }
   ],
   "source": [
    "import cmath\n",
    "\n",
    "cmath.sqrt(-1)"
   ]
  },
  {
   "cell_type": "code",
   "execution_count": 10,
   "id": "efd82ca5-2d7a-41fe-a6e2-8b5e0cc43c8c",
   "metadata": {},
   "outputs": [
    {
     "data": {
      "text/plain": [
       "3.3000000000000003"
      ]
     },
     "execution_count": 10,
     "metadata": {},
     "output_type": "execute_result"
    }
   ],
   "source": [
    "1.1 + 2.2"
   ]
  },
  {
   "cell_type": "code",
   "execution_count": 11,
   "id": "9bf85e5c-3dd7-408b-8bd6-ac60db9efa6b",
   "metadata": {},
   "outputs": [
    {
     "data": {
      "text/plain": [
       "300.29999999999995"
      ]
     },
     "execution_count": 11,
     "metadata": {},
     "output_type": "execute_result"
    }
   ],
   "source": [
    "100.1 + 200.2"
   ]
  },
  {
   "cell_type": "code",
   "execution_count": 13,
   "id": "6108f7bc-9fac-4768-9d2d-b93aff75d1ce",
   "metadata": {},
   "outputs": [
    {
     "data": {
      "text/plain": [
       "300.3"
      ]
     },
     "execution_count": 13,
     "metadata": {},
     "output_type": "execute_result"
    }
   ],
   "source": [
    "round(100.1 + 200.2, 2)"
   ]
  },
  {
   "cell_type": "markdown",
   "id": "b1f9a604-6f1f-49a5-b799-1ad6ee84b45a",
   "metadata": {},
   "source": [
    "### Decimal "
   ]
  },
  {
   "cell_type": "code",
   "execution_count": 15,
   "id": "e98d6cc9-421b-4dca-b44a-937051dac549",
   "metadata": {},
   "outputs": [
    {
     "data": {
      "text/plain": [
       "Decimal('3.3')"
      ]
     },
     "execution_count": 15,
     "metadata": {},
     "output_type": "execute_result"
    }
   ],
   "source": [
    "from decimal import Decimal\n",
    "\n",
    "Decimal('1.1') + Decimal('2.2')"
   ]
  },
  {
   "cell_type": "code",
   "execution_count": 16,
   "id": "2b900246-e28c-4490-8b0e-312cea0cbd8a",
   "metadata": {},
   "outputs": [
    {
     "data": {
      "text/plain": [
       "Decimal('300.2999999999999829469743418')"
      ]
     },
     "execution_count": 16,
     "metadata": {},
     "output_type": "execute_result"
    }
   ],
   "source": [
    "Decimal(100.1) + Decimal(200.2)"
   ]
  },
  {
   "cell_type": "code",
   "execution_count": 20,
   "id": "ce740a89-b0cc-413b-903e-169967e03c48",
   "metadata": {},
   "outputs": [],
   "source": [
    "from decimal import Decimal, getcontext\n",
    "\n",
    "getcontext().prec = 5\n"
   ]
  },
  {
   "cell_type": "code",
   "execution_count": 21,
   "id": "2d8e81ff-a2e0-4458-bea4-174afb0271d4",
   "metadata": {},
   "outputs": [
    {
     "data": {
      "text/plain": [
       "Context(prec=5, rounding=ROUND_HALF_EVEN, Emin=-999999, Emax=999999, capitals=1, clamp=0, flags=[Inexact, FloatOperation, Rounded], traps=[InvalidOperation, DivisionByZero, Overflow])"
      ]
     },
     "execution_count": 21,
     "metadata": {},
     "output_type": "execute_result"
    }
   ],
   "source": [
    "getcontext()"
   ]
  },
  {
   "cell_type": "code",
   "execution_count": 22,
   "id": "af52aa67-6289-47cc-bd4a-7fc3fcba796d",
   "metadata": {},
   "outputs": [
    {
     "data": {
      "text/plain": [
       "Decimal('3.3333')"
      ]
     },
     "execution_count": 22,
     "metadata": {},
     "output_type": "execute_result"
    }
   ],
   "source": [
    "Decimal('1.1111111') + Decimal('2.222222')"
   ]
  },
  {
   "cell_type": "markdown",
   "id": "c711bef2-8cd1-45af-be21-8122ae1aec34",
   "metadata": {},
   "source": [
    "## Dates"
   ]
  },
  {
   "cell_type": "code",
   "execution_count": 23,
   "id": "4dca8f56-29ca-4a43-9dc4-f904145c4339",
   "metadata": {},
   "outputs": [
    {
     "data": {
      "text/plain": [
       "'01-01-2015'"
      ]
     },
     "execution_count": 23,
     "metadata": {},
     "output_type": "execute_result"
    }
   ],
   "source": [
    "'01-01-2015'"
   ]
  },
  {
   "cell_type": "code",
   "execution_count": 24,
   "id": "5445d906-7c69-46de-a490-f410959b0ea0",
   "metadata": {},
   "outputs": [
    {
     "data": {
      "text/plain": [
       "'01-01-2014'"
      ]
     },
     "execution_count": 24,
     "metadata": {},
     "output_type": "execute_result"
    }
   ],
   "source": [
    "date_str = '01-01-2015'\n",
    "month, day, year = date_str.split('-')\n",
    "date_last_year = f'{month}-{day}-{int(year)-1}'\n",
    "date_last_year"
   ]
  },
  {
   "cell_type": "code",
   "execution_count": 25,
   "id": "9ee4e9e6-4679-4f96-9ebe-66254560d466",
   "metadata": {},
   "outputs": [
    {
     "data": {
      "text/plain": [
       "'02-29-2015'"
      ]
     },
     "execution_count": 25,
     "metadata": {},
     "output_type": "execute_result"
    }
   ],
   "source": [
    "# This is when the trouble happened... \n",
    "date_str = '02-29-2016'\n",
    "month, day, year = date_str.split('-')\n",
    "date_last_year = f'{month}-{day}-{int(year)-1}'\n",
    "date_last_year"
   ]
  },
  {
   "cell_type": "code",
   "execution_count": 27,
   "id": "81944a97-f32f-49a0-9f9b-c21f371ac5ce",
   "metadata": {},
   "outputs": [],
   "source": [
    "from datetime import datetime"
   ]
  },
  {
   "cell_type": "code",
   "execution_count": 28,
   "id": "34535567-286f-45a3-b59f-720ce8a769eb",
   "metadata": {},
   "outputs": [],
   "source": [
    "python_release = datetime(1991, 2, 20, hour=9, minute=0, second=0, microsecond=0)"
   ]
  },
  {
   "cell_type": "code",
   "execution_count": 29,
   "id": "83d13ed3-a9de-474b-b507-6e38ae97ea99",
   "metadata": {},
   "outputs": [
    {
     "data": {
      "text/plain": [
       "0"
      ]
     },
     "execution_count": 29,
     "metadata": {},
     "output_type": "execute_result"
    }
   ],
   "source": [
    "python_release.day\n",
    "python_release.month\n",
    "python_release.year\n",
    "python_release.second"
   ]
  },
  {
   "cell_type": "code",
   "execution_count": 30,
   "id": "8e43513a-007a-4a47-83a1-86d6c8590ad9",
   "metadata": {},
   "outputs": [
    {
     "data": {
      "text/plain": [
       "2"
      ]
     },
     "execution_count": 30,
     "metadata": {},
     "output_type": "execute_result"
    }
   ],
   "source": [
    "python_release.weekday()"
   ]
  },
  {
   "cell_type": "code",
   "execution_count": 37,
   "id": "0fc20bfc-5e40-408d-85fb-a42ef3111c04",
   "metadata": {},
   "outputs": [],
   "source": [
    "python_release = '02-20-1991 09:00:00'"
   ]
  },
  {
   "cell_type": "code",
   "execution_count": 38,
   "id": "184ee24e-9b19-4075-9a12-37b73c78507a",
   "metadata": {},
   "outputs": [
    {
     "data": {
      "text/plain": [
       "datetime.datetime(1991, 2, 20, 9, 0)"
      ]
     },
     "execution_count": 38,
     "metadata": {},
     "output_type": "execute_result"
    }
   ],
   "source": [
    "python_release = datetime.strptime('02-20-1991 09:00:00', '%m-%d-%Y %H:%M:%S')\n",
    "python_release"
   ]
  },
  {
   "cell_type": "code",
   "execution_count": 39,
   "id": "74734661-e780-4f17-8811-46139e0a54af",
   "metadata": {},
   "outputs": [
    {
     "data": {
      "text/plain": [
       "'Wednesday February 20, 1991'"
      ]
     },
     "execution_count": 39,
     "metadata": {},
     "output_type": "execute_result"
    }
   ],
   "source": [
    "python_release.strftime('%A %B %d, %Y')"
   ]
  },
  {
   "cell_type": "code",
   "execution_count": 40,
   "id": "c48dd72f-17ac-4fdb-8827-4165c0d293a7",
   "metadata": {},
   "outputs": [
    {
     "data": {
      "text/plain": [
       "datetime.datetime(2025, 3, 31, 9, 10, 8, 334561)"
      ]
     },
     "execution_count": 40,
     "metadata": {},
     "output_type": "execute_result"
    }
   ],
   "source": [
    "datetime.now()"
   ]
  },
  {
   "cell_type": "code",
   "execution_count": 41,
   "id": "8e9712ee-c1a2-4024-8bfb-23161e05ce88",
   "metadata": {},
   "outputs": [
    {
     "data": {
      "text/plain": [
       "667058400.0"
      ]
     },
     "execution_count": 41,
     "metadata": {},
     "output_type": "execute_result"
    }
   ],
   "source": [
    "python_release = datetime.strptime('02-20-1991 09:00:00', '%m-%d-%Y %H:%M:%S')\n",
    "python_release.timestamp()"
   ]
  },
  {
   "cell_type": "code",
   "execution_count": 42,
   "id": "5ea1c5e2-4d83-426c-bb94-310f22d7f56d",
   "metadata": {},
   "outputs": [
    {
     "data": {
      "text/plain": [
       "1076368280.278852"
      ]
     },
     "execution_count": 42,
     "metadata": {},
     "output_type": "execute_result"
    }
   ],
   "source": [
    "datetime.now().timestamp() - python_release.timestamp()"
   ]
  },
  {
   "cell_type": "code",
   "execution_count": 43,
   "id": "be43e9c8-70a0-4251-88e5-fea658f9b708",
   "metadata": {},
   "outputs": [
    {
     "data": {
      "text/plain": [
       "datetime.timedelta(days=12155, seconds=28142, microseconds=143286)"
      ]
     },
     "execution_count": 43,
     "metadata": {},
     "output_type": "execute_result"
    }
   ],
   "source": [
    "from datetime import timedelta\n",
    "timedelta(seconds=1050220142.143286)"
   ]
  },
  {
   "cell_type": "code",
   "execution_count": 45,
   "id": "ef6091eb-3898-4888-bad1-eecc3de793d8",
   "metadata": {},
   "outputs": [
    {
     "data": {
      "text/plain": [
       "33.27857631759069"
      ]
     },
     "execution_count": 45,
     "metadata": {},
     "output_type": "execute_result"
    }
   ],
   "source": [
    "from datetime import timedelta\n",
    "\n",
    "td = timedelta(seconds=1050220142.143286)\n",
    "td.days / 365.25"
   ]
  },
  {
   "cell_type": "code",
   "execution_count": 46,
   "id": "e6aaebab-f7d7-495f-91ad-c932f904b839",
   "metadata": {},
   "outputs": [
    {
     "data": {
      "text/plain": [
       "datetime.timedelta(days=12458, seconds=731, microseconds=14495)"
      ]
     },
     "execution_count": 46,
     "metadata": {},
     "output_type": "execute_result"
    }
   ],
   "source": [
    "datetime.now() - python_release"
   ]
  },
  {
   "cell_type": "markdown",
   "id": "b39606a2-7235-4b17-a66c-7d34fc614e3c",
   "metadata": {},
   "source": [
    "### Timezones"
   ]
  },
  {
   "cell_type": "code",
   "execution_count": 47,
   "id": "f6f89ef2-0f94-48bf-a184-9264d02f699f",
   "metadata": {},
   "outputs": [],
   "source": [
    "from zoneinfo import ZoneInfo\n",
    "\n",
    "python_release = datetime(1991, 2, 20, hour=9, tzinfo=ZoneInfo('Europe/Amsterdam'))\n"
   ]
  },
  {
   "cell_type": "code",
   "execution_count": 48,
   "id": "a82b753f-efd6-4341-9852-8873c6908b98",
   "metadata": {},
   "outputs": [
    {
     "data": {
      "text/plain": [
       "datetime.timedelta(seconds=3600)"
      ]
     },
     "execution_count": 48,
     "metadata": {},
     "output_type": "execute_result"
    }
   ],
   "source": [
    "python_release.utcoffset()"
   ]
  },
  {
   "cell_type": "code",
   "execution_count": 49,
   "id": "34ae6554-1837-464e-9987-e5cf191f1635",
   "metadata": {},
   "outputs": [
    {
     "data": {
      "text/plain": [
       "datetime.timedelta(seconds=7200)"
      ]
     },
     "execution_count": 49,
     "metadata": {},
     "output_type": "execute_result"
    }
   ],
   "source": [
    "dt = datetime(1991, 7, 20, hour=9, tzinfo=ZoneInfo('Europe/Amsterdam'))\n",
    "dt.utcoffset()"
   ]
  },
  {
   "cell_type": "code",
   "execution_count": 52,
   "id": "3fccedb8-36c5-4023-b81e-d23175bebb50",
   "metadata": {},
   "outputs": [
    {
     "data": {
      "text/plain": [
       "598"
      ]
     },
     "execution_count": 52,
     "metadata": {},
     "output_type": "execute_result"
    }
   ],
   "source": [
    "from zoneinfo import available_timezones\n",
    "\n",
    "# You can see all the available timezones, but I don't recommend it. \n",
    "# Use the len function instead to get a sense of the scale!\n",
    "len(available_timezones())"
   ]
  },
  {
   "cell_type": "code",
   "execution_count": 55,
   "id": "88bef59f-0b2b-45ac-94b1-ad3101282533",
   "metadata": {},
   "outputs": [
    {
     "data": {
      "text/plain": [
       "datetime.timedelta(seconds=3600)"
      ]
     },
     "execution_count": 55,
     "metadata": {},
     "output_type": "execute_result"
    }
   ],
   "source": [
    "from datetime import timezone\n",
    "\n",
    "utc_1_timezone = timezone(timedelta(hours=1))\n",
    "python_release = datetime(1991, 2, 20, hour=9, tzinfo=utc_1_timezone)\n",
    "python_release.utcoffset()"
   ]
  },
  {
   "cell_type": "markdown",
   "id": "44746a48-2231-46ac-8a91-39f17407e76e",
   "metadata": {},
   "source": [
    "## Bytes"
   ]
  },
  {
   "cell_type": "code",
   "execution_count": 58,
   "id": "f1aa9f5d-18a1-4e08-bee5-98e7e5cedc4e",
   "metadata": {},
   "outputs": [
    {
     "data": {
      "text/plain": [
       "b'\\x00\\x00\\x00\\x00'"
      ]
     },
     "execution_count": 58,
     "metadata": {},
     "output_type": "execute_result"
    }
   ],
   "source": [
    "bytes(4)"
   ]
  },
  {
   "cell_type": "code",
   "execution_count": 59,
   "id": "3f14aa8b-4ff6-445e-9c4b-ca285ad58f9b",
   "metadata": {},
   "outputs": [
    {
     "data": {
      "text/plain": [
       "b'\\xf0\\x9f\\x92\\xbe'"
      ]
     },
     "execution_count": 59,
     "metadata": {},
     "output_type": "execute_result"
    }
   ],
   "source": [
    "floppy = bytes('💾', 'utf-8')\n",
    "floppy"
   ]
  },
  {
   "cell_type": "code",
   "execution_count": 60,
   "id": "656572ae-02fb-4cb9-80c9-b3ba50345e42",
   "metadata": {},
   "outputs": [
    {
     "data": {
      "text/plain": [
       "'💾'"
      ]
     },
     "execution_count": 60,
     "metadata": {},
     "output_type": "execute_result"
    }
   ],
   "source": [
    "floppy.decode('utf-8')"
   ]
  },
  {
   "cell_type": "code",
   "execution_count": 61,
   "id": "2f64c008-208c-491e-82cd-c96f2fb8dd56",
   "metadata": {},
   "outputs": [
    {
     "data": {
      "text/plain": [
       "4011"
      ]
     },
     "execution_count": 61,
     "metadata": {},
     "output_type": "execute_result"
    }
   ],
   "source": [
    "int('fab', 16)"
   ]
  },
  {
   "cell_type": "code",
   "execution_count": 62,
   "id": "c22b030a-5b3d-4732-ae9f-56efe6a9b619",
   "metadata": {},
   "outputs": [
    {
     "name": "stdout",
     "output_type": "stream",
     "text": [
      "240\n",
      "159\n",
      "146\n",
      "190\n"
     ]
    }
   ],
   "source": [
    "for b in floppy:\n",
    "    print(b)"
   ]
  },
  {
   "cell_type": "code",
   "execution_count": 63,
   "id": "a08fb443-833c-4cf0-ad79-90dceb9b323a",
   "metadata": {},
   "outputs": [
    {
     "ename": "TypeError",
     "evalue": "'bytes' object does not support item assignment",
     "output_type": "error",
     "traceback": [
      "\u001b[31m---------------------------------------------------------------------------\u001b[39m",
      "\u001b[31mTypeError\u001b[39m                                 Traceback (most recent call last)",
      "\u001b[36mCell\u001b[39m\u001b[36m \u001b[39m\u001b[32mIn[63]\u001b[39m\u001b[32m, line 1\u001b[39m\n\u001b[32m----> \u001b[39m\u001b[32m1\u001b[39m floppy[\u001b[32m3\u001b[39m] = \u001b[38;5;28mint\u001b[39m(\u001b[33m'\u001b[39m\u001b[33mbf\u001b[39m\u001b[33m'\u001b[39m, \u001b[32m16\u001b[39m)\n",
      "\u001b[31mTypeError\u001b[39m: 'bytes' object does not support item assignment"
     ]
    }
   ],
   "source": [
    "floppy[3] = int('bf', 16)"
   ]
  },
  {
   "cell_type": "code",
   "execution_count": 64,
   "id": "647cc48d-3f65-4cd5-b075-d50c1cfefc00",
   "metadata": {},
   "outputs": [
    {
     "data": {
      "text/plain": [
       "'💿'"
      ]
     },
     "execution_count": 64,
     "metadata": {},
     "output_type": "execute_result"
    }
   ],
   "source": [
    "floppy = bytearray('💾', 'utf-8')\n",
    "floppy[3] = int('bf', 16)\n",
    "floppy.decode('utf-8')"
   ]
  },
  {
   "cell_type": "markdown",
   "id": "df93eadf-eaba-4d2e-ad71-cfe05985a032",
   "metadata": {},
   "source": [
    "## Exercises"
   ]
  },
  {
   "cell_type": "markdown",
   "id": "b04f83a5-083e-4598-bf39-23b7e6bfa64d",
   "metadata": {},
   "source": [
    "1. Use timedelta to write a function that subtracts one year from a datetime object and returns the new datetime."
   ]
  },
  {
   "cell_type": "code",
   "execution_count": null,
   "id": "17dcfbc3-45c5-42c0-ac15-d64813cb4a89",
   "metadata": {},
   "outputs": [],
   "source": []
  },
  {
   "cell_type": "markdown",
   "id": "87062150-6ca9-41e7-9b51-479dd8ed296c",
   "metadata": {},
   "source": [
    "2. Write a function that takes in the arguments a, b, and c and returns two solutions for the quadratic equation they represent."
   ]
  },
  {
   "cell_type": "code",
   "execution_count": null,
   "id": "9ead5741-0553-4961-a7c4-bb2552523798",
   "metadata": {},
   "outputs": [],
   "source": []
  },
  {
   "cell_type": "markdown",
   "id": "b00dfe4d-fed2-4420-ac51-03c1ec6b0998",
   "metadata": {},
   "source": [
    "3. Write a function that takes, as an argument, a hexadecimal string of any length and returns its integer value."
   ]
  },
  {
   "cell_type": "code",
   "execution_count": null,
   "id": "c4bd140b-8432-4f15-ac3b-8c43d5fb35f2",
   "metadata": {},
   "outputs": [],
   "source": []
  },
  {
   "cell_type": "markdown",
   "id": "9030d5bc-77b2-4dae-bdeb-9146fdbb5d87",
   "metadata": {},
   "source": [
    "## Exercises"
   ]
  },
  {
   "cell_type": "code",
   "execution_count": null,
   "id": "2fd3ae9d-6d16-4a9a-b11d-10f07e6d0a83",
   "metadata": {},
   "outputs": [],
   "source": [
    "datetime(1991, 2, 20, hour=9, minute=0, second=0, microsecond=0)"
   ]
  },
  {
   "cell_type": "code",
   "execution_count": 225,
   "id": "cc177ddd-5ec6-464f-bca1-c2a578583288",
   "metadata": {},
   "outputs": [
    {
     "data": {
      "text/plain": [
       "datetime.datetime(2015, 3, 1, 0, 0)"
      ]
     },
     "execution_count": 225,
     "metadata": {},
     "output_type": "execute_result"
    }
   ],
   "source": [
    "datetime(2016, 2, 29) - timedelta(days=365)"
   ]
  },
  {
   "cell_type": "markdown",
   "id": "68bb84e5-b879-40a3-b71f-5ea5c63928b4",
   "metadata": {},
   "source": [
    "Exercises:\n",
    "\n",
    "Solve my original problem of subtracting one year from a date. \n",
    "\n",
    "Write a function to solve quadratic equations\n",
    "\n",
    "Convert hexadecimal to base 10"
   ]
  }
 ],
 "metadata": {
  "kernelspec": {
   "display_name": "Python 3 (ipykernel)",
   "language": "python",
   "name": "python3"
  },
  "language_info": {
   "codemirror_mode": {
    "name": "ipython",
    "version": 3
   },
   "file_extension": ".py",
   "mimetype": "text/x-python",
   "name": "python",
   "nbconvert_exporter": "python",
   "pygments_lexer": "ipython3",
   "version": "3.12.2"
  }
 },
 "nbformat": 4,
 "nbformat_minor": 5
}
