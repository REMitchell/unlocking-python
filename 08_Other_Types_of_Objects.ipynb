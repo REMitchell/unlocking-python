{
 "cells": [
  {
   "cell_type": "markdown",
   "id": "d5fce9ab-3f88-48cb-b096-e7f8d497da0b",
   "metadata": {},
   "source": [
    "## Other Types of Objects"
   ]
  },
  {
   "cell_type": "code",
   "execution_count": 1,
   "id": "d0a0cd16-dd3e-4b97-9e25-c89590e812bc",
   "metadata": {},
   "outputs": [],
   "source": [
    "class Person:\n",
    "    def __init__(self, name):\n",
    "        self.name = name\n",
    "\n",
    "alice = Person('Alice')"
   ]
  },
  {
   "cell_type": "code",
   "execution_count": 2,
   "id": "6b574ae0-7d7e-44ba-8ff0-014226426ce8",
   "metadata": {},
   "outputs": [
    {
     "data": {
      "text/plain": [
       "__main__.Person"
      ]
     },
     "execution_count": 2,
     "metadata": {},
     "output_type": "execute_result"
    }
   ],
   "source": [
    "type(alice)"
   ]
  },
  {
   "cell_type": "code",
   "execution_count": 4,
   "id": "2c6d736f-a1b5-43a5-ade6-136eb783a9c6",
   "metadata": {},
   "outputs": [
    {
     "data": {
      "text/plain": [
       "type"
      ]
     },
     "execution_count": 4,
     "metadata": {},
     "output_type": "execute_result"
    }
   ],
   "source": [
    "type(str)"
   ]
  },
  {
   "cell_type": "code",
   "execution_count": 10,
   "id": "86685280-b5da-41c6-a79d-dac723ac6de0",
   "metadata": {},
   "outputs": [
    {
     "data": {
      "text/plain": [
       "1j"
      ]
     },
     "execution_count": 10,
     "metadata": {},
     "output_type": "execute_result"
    }
   ],
   "source": [
    "1j"
   ]
  },
  {
   "cell_type": "code",
   "execution_count": 226,
   "id": "c7a2dfa7-ae45-4df0-99ec-0b4d20a964b9",
   "metadata": {},
   "outputs": [],
   "source": [
    "imaginary = 2j"
   ]
  },
  {
   "cell_type": "code",
   "execution_count": 227,
   "id": "e2ce7c00-50d6-4b2b-9d9d-8d6901cea3e4",
   "metadata": {},
   "outputs": [
    {
     "data": {
      "text/plain": [
       "complex"
      ]
     },
     "execution_count": 227,
     "metadata": {},
     "output_type": "execute_result"
    }
   ],
   "source": [
    "type(imaginary)"
   ]
  },
  {
   "cell_type": "code",
   "execution_count": 13,
   "id": "6bfc5cc3-87b0-4e36-9911-3647fd51e174",
   "metadata": {},
   "outputs": [],
   "source": [
    "imaginary = 1j\n"
   ]
  },
  {
   "cell_type": "code",
   "execution_count": 21,
   "id": "ba0f9734-f1b3-45c0-95ce-a29823c71b29",
   "metadata": {},
   "outputs": [],
   "source": [
    "complex = 5 + 2j"
   ]
  },
  {
   "cell_type": "code",
   "execution_count": 23,
   "id": "1eccef53-160e-457a-84d9-3b372dca96d5",
   "metadata": {},
   "outputs": [
    {
     "data": {
      "text/plain": [
       "complex"
      ]
     },
     "execution_count": 23,
     "metadata": {},
     "output_type": "execute_result"
    }
   ],
   "source": [
    "type(1j)"
   ]
  },
  {
   "cell_type": "code",
   "execution_count": 22,
   "id": "7198452b-5fec-45ad-9ab8-d634dd9de96c",
   "metadata": {},
   "outputs": [
    {
     "data": {
      "text/plain": [
       "complex"
      ]
     },
     "execution_count": 22,
     "metadata": {},
     "output_type": "execute_result"
    }
   ],
   "source": [
    "type(5 + 2j)"
   ]
  },
  {
   "cell_type": "code",
   "execution_count": 19,
   "id": "8d5c688c-aba9-4889-848c-d2b53d0a78e0",
   "metadata": {},
   "outputs": [
    {
     "data": {
      "text/plain": [
       "(2.1211504774498136e-16+3.4641016151377544j)"
      ]
     },
     "execution_count": 19,
     "metadata": {},
     "output_type": "execute_result"
    }
   ],
   "source": [
    "(-12)**(0.5)"
   ]
  },
  {
   "cell_type": "code",
   "execution_count": 17,
   "id": "ea0604de-8c65-477e-90b3-ffe13a3616fe",
   "metadata": {},
   "outputs": [
    {
     "ename": "ValueError",
     "evalue": "math domain error",
     "output_type": "error",
     "traceback": [
      "\u001b[0;31m---------------------------------------------------------------------------\u001b[0m",
      "\u001b[0;31mValueError\u001b[0m                                Traceback (most recent call last)",
      "Cell \u001b[0;32mIn[17], line 3\u001b[0m\n\u001b[1;32m      1\u001b[0m \u001b[38;5;28;01mimport\u001b[39;00m \u001b[38;5;21;01mmath\u001b[39;00m\n\u001b[0;32m----> 3\u001b[0m \u001b[43mmath\u001b[49m\u001b[38;5;241;43m.\u001b[39;49m\u001b[43msqrt\u001b[49m\u001b[43m(\u001b[49m\u001b[38;5;241;43m-\u001b[39;49m\u001b[38;5;241;43m1\u001b[39;49m\u001b[43m)\u001b[49m\n",
      "\u001b[0;31mValueError\u001b[0m: math domain error"
     ]
    }
   ],
   "source": [
    "import math\n",
    "\n",
    "math.sqrt(-1)"
   ]
  },
  {
   "cell_type": "code",
   "execution_count": 25,
   "id": "736cb148-6376-4fa9-b6a3-e1aba939068a",
   "metadata": {},
   "outputs": [
    {
     "data": {
      "text/plain": [
       "1j"
      ]
     },
     "execution_count": 25,
     "metadata": {},
     "output_type": "execute_result"
    }
   ],
   "source": [
    "import cmath\n",
    "\n",
    "cmath.sqrt(-1)"
   ]
  },
  {
   "cell_type": "code",
   "execution_count": 27,
   "id": "0da795aa-4e85-46b6-8d9c-f5f0aca5b7f2",
   "metadata": {},
   "outputs": [
    {
     "data": {
      "text/plain": [
       "(1.8369701987210297e-16+3j)"
      ]
     },
     "execution_count": 27,
     "metadata": {},
     "output_type": "execute_result"
    }
   ],
   "source": [
    "(-9)**(1/2)"
   ]
  },
  {
   "cell_type": "code",
   "execution_count": 32,
   "id": "a3329b31-e6c3-414c-b700-60d956359cfa",
   "metadata": {},
   "outputs": [
    {
     "data": {
      "text/plain": [
       "0.0001"
      ]
     },
     "execution_count": 32,
     "metadata": {},
     "output_type": "execute_result"
    }
   ],
   "source": [
    "0.0001"
   ]
  },
  {
   "cell_type": "code",
   "execution_count": 35,
   "id": "9bf85e5c-3dd7-408b-8bd6-ac60db9efa6b",
   "metadata": {},
   "outputs": [
    {
     "data": {
      "text/plain": [
       "300.29999999999995"
      ]
     },
     "execution_count": 35,
     "metadata": {},
     "output_type": "execute_result"
    }
   ],
   "source": [
    "100.1 + 200.2"
   ]
  },
  {
   "cell_type": "code",
   "execution_count": 36,
   "id": "6108f7bc-9fac-4768-9d2d-b93aff75d1ce",
   "metadata": {},
   "outputs": [
    {
     "data": {
      "text/plain": [
       "sys.float_info(max=1.7976931348623157e+308, max_exp=1024, max_10_exp=308, min=2.2250738585072014e-308, min_exp=-1021, min_10_exp=-307, dig=15, mant_dig=53, epsilon=2.220446049250313e-16, radix=2, rounds=1)"
      ]
     },
     "execution_count": 36,
     "metadata": {},
     "output_type": "execute_result"
    }
   ],
   "source": [
    "import sys\n",
    "sys.float_info"
   ]
  },
  {
   "cell_type": "code",
   "execution_count": 43,
   "id": "91236c60-b231-47e7-aed6-c8805e7b988f",
   "metadata": {},
   "outputs": [
    {
     "data": {
      "text/plain": [
       "300.3"
      ]
     },
     "execution_count": 43,
     "metadata": {},
     "output_type": "execute_result"
    }
   ],
   "source": [
    "round(100.1 + 200.2, 2)"
   ]
  },
  {
   "cell_type": "markdown",
   "id": "b1f9a604-6f1f-49a5-b799-1ad6ee84b45a",
   "metadata": {},
   "source": [
    "### Decimal "
   ]
  },
  {
   "cell_type": "code",
   "execution_count": 77,
   "id": "e98d6cc9-421b-4dca-b44a-937051dac549",
   "metadata": {},
   "outputs": [
    {
     "data": {
      "text/plain": [
       "Decimal('300.3')"
      ]
     },
     "execution_count": 77,
     "metadata": {},
     "output_type": "execute_result"
    }
   ],
   "source": [
    "from decimal import Decimal\n",
    "\n",
    "\n",
    "Decimal('100.1') + Decimal('200.2')\n"
   ]
  },
  {
   "cell_type": "code",
   "execution_count": 78,
   "id": "2b900246-e28c-4490-8b0e-312cea0cbd8a",
   "metadata": {},
   "outputs": [
    {
     "data": {
      "text/plain": [
       "Decimal('300.2999999999999829469743418')"
      ]
     },
     "execution_count": 78,
     "metadata": {},
     "output_type": "execute_result"
    }
   ],
   "source": [
    "Decimal(100.1) + Decimal(200.2)"
   ]
  },
  {
   "cell_type": "code",
   "execution_count": 79,
   "id": "ce740a89-b0cc-413b-903e-169967e03c48",
   "metadata": {},
   "outputs": [],
   "source": [
    "from decimal import Decimal, getcontext\n",
    "\n",
    "getcontext().prec = 5\n"
   ]
  },
  {
   "cell_type": "code",
   "execution_count": 75,
   "id": "2d8e81ff-a2e0-4458-bea4-174afb0271d4",
   "metadata": {},
   "outputs": [
    {
     "data": {
      "text/plain": [
       "decimal.Context"
      ]
     },
     "execution_count": 75,
     "metadata": {},
     "output_type": "execute_result"
    }
   ],
   "source": [
    "type(getcontext())"
   ]
  },
  {
   "cell_type": "code",
   "execution_count": 80,
   "id": "af52aa67-6289-47cc-bd4a-7fc3fcba796d",
   "metadata": {},
   "outputs": [
    {
     "data": {
      "text/plain": [
       "Decimal('3.3333')"
      ]
     },
     "execution_count": 80,
     "metadata": {},
     "output_type": "execute_result"
    }
   ],
   "source": [
    "Decimal('1.1111111') + Decimal('2.222222')"
   ]
  },
  {
   "cell_type": "code",
   "execution_count": 68,
   "id": "cf5fccf4-1a8c-4b4f-b43c-816520cced08",
   "metadata": {},
   "outputs": [
    {
     "data": {
      "text/plain": [
       "3.0060000000000002"
      ]
     },
     "execution_count": 68,
     "metadata": {},
     "output_type": "execute_result"
    }
   ],
   "source": [
    "1.127 + 1.879"
   ]
  },
  {
   "cell_type": "code",
   "execution_count": 71,
   "id": "ea22fd45-b9c7-49af-957a-d518a1e7fa13",
   "metadata": {},
   "outputs": [
    {
     "data": {
      "text/plain": [
       "builtin_function_or_method"
      ]
     },
     "execution_count": 71,
     "metadata": {},
     "output_type": "execute_result"
    }
   ],
   "source": [
    "type(getcontext)"
   ]
  },
  {
   "cell_type": "code",
   "execution_count": 58,
   "id": "7adba656-9fb2-4de5-bfeb-3b75c781594b",
   "metadata": {},
   "outputs": [
    {
     "data": {
      "text/plain": [
       "27"
      ]
     },
     "execution_count": 58,
     "metadata": {},
     "output_type": "execute_result"
    }
   ],
   "source": [
    "len('300000000000000266453525910')"
   ]
  },
  {
   "cell_type": "markdown",
   "id": "c711bef2-8cd1-45af-be21-8122ae1aec34",
   "metadata": {},
   "source": [
    "## Dates"
   ]
  },
  {
   "cell_type": "code",
   "execution_count": 81,
   "id": "4dca8f56-29ca-4a43-9dc4-f904145c4339",
   "metadata": {},
   "outputs": [
    {
     "data": {
      "text/plain": [
       "'01-01-2015'"
      ]
     },
     "execution_count": 81,
     "metadata": {},
     "output_type": "execute_result"
    }
   ],
   "source": [
    "'01-01-2015'"
   ]
  },
  {
   "cell_type": "code",
   "execution_count": 83,
   "id": "5445d906-7c69-46de-a490-f410959b0ea0",
   "metadata": {},
   "outputs": [
    {
     "data": {
      "text/plain": [
       "'01-01-2014'"
      ]
     },
     "execution_count": 83,
     "metadata": {},
     "output_type": "execute_result"
    }
   ],
   "source": [
    "date_str = '01-01-2015'\n",
    "month, day, year = date_str.split('-')\n",
    "date_last_year = f'{month}-{day}-{int(year)-1}'\n",
    "date_last_year"
   ]
  },
  {
   "cell_type": "code",
   "execution_count": 85,
   "id": "c7247d49-5638-4086-9fe3-1b6bfdff3b20",
   "metadata": {},
   "outputs": [],
   "source": [
    "from datetime import date, time, datetime"
   ]
  },
  {
   "cell_type": "code",
   "execution_count": 86,
   "id": "2e6c55f2-e666-46c5-abee-1801ffb69174",
   "metadata": {},
   "outputs": [
    {
     "data": {
      "text/plain": [
       "type"
      ]
     },
     "execution_count": 86,
     "metadata": {},
     "output_type": "execute_result"
    }
   ],
   "source": [
    "type(date)"
   ]
  },
  {
   "cell_type": "code",
   "execution_count": 87,
   "id": "81944a97-f32f-49a0-9f9b-c21f371ac5ce",
   "metadata": {},
   "outputs": [],
   "source": [
    "from datetime import datetime"
   ]
  },
  {
   "cell_type": "code",
   "execution_count": 88,
   "id": "34535567-286f-45a3-b59f-720ce8a769eb",
   "metadata": {},
   "outputs": [
    {
     "data": {
      "text/plain": [
       "datetime.datetime(1991, 2, 20, 9, 0)"
      ]
     },
     "execution_count": 88,
     "metadata": {},
     "output_type": "execute_result"
    }
   ],
   "source": [
    "datetime(1991, 2, 20, hour=9, minute=0, second=0, microsecond=0)"
   ]
  },
  {
   "cell_type": "code",
   "execution_count": 120,
   "id": "4222e742-e723-4f99-ab7a-fdd9dec991d2",
   "metadata": {},
   "outputs": [],
   "source": [
    "python_release = datetime(1991, 2, 20, hour=9, minute=0, second=0, microsecond=0)"
   ]
  },
  {
   "cell_type": "code",
   "execution_count": 123,
   "id": "d254b224-b49f-4429-b943-d734f3006f82",
   "metadata": {},
   "outputs": [
    {
     "data": {
      "text/plain": [
       "2"
      ]
     },
     "execution_count": 123,
     "metadata": {},
     "output_type": "execute_result"
    }
   ],
   "source": [
    "python_release.weekday()"
   ]
  },
  {
   "cell_type": "code",
   "execution_count": 124,
   "id": "83d13ed3-a9de-474b-b507-6e38ae97ea99",
   "metadata": {},
   "outputs": [
    {
     "data": {
      "text/plain": [
       "0"
      ]
     },
     "execution_count": 124,
     "metadata": {},
     "output_type": "execute_result"
    }
   ],
   "source": [
    "python_release.day\n",
    "python_release.month\n",
    "python_release.year\n",
    "python_release.second"
   ]
  },
  {
   "cell_type": "code",
   "execution_count": 125,
   "id": "8e43513a-007a-4a47-83a1-86d6c8590ad9",
   "metadata": {},
   "outputs": [
    {
     "data": {
      "text/plain": [
       "2"
      ]
     },
     "execution_count": 125,
     "metadata": {},
     "output_type": "execute_result"
    }
   ],
   "source": [
    "python_release.weekday()"
   ]
  },
  {
   "cell_type": "code",
   "execution_count": 116,
   "id": "184ee24e-9b19-4075-9a12-37b73c78507a",
   "metadata": {},
   "outputs": [
    {
     "data": {
      "text/plain": [
       "667058400.0"
      ]
     },
     "execution_count": 116,
     "metadata": {},
     "output_type": "execute_result"
    }
   ],
   "source": [
    "python_release = datetime.strptime('02-20-1991 09:00:00', '%m-%d-%Y %H:%M:%S')\n",
    "python_release.timestamp()"
   ]
  },
  {
   "cell_type": "code",
   "execution_count": 119,
   "id": "74734661-e780-4f17-8811-46139e0a54af",
   "metadata": {},
   "outputs": [
    {
     "data": {
      "text/plain": [
       "'Wednesday February 20, 1991'"
      ]
     },
     "execution_count": 119,
     "metadata": {},
     "output_type": "execute_result"
    }
   ],
   "source": [
    "python_release.strftime('%A %B %d, %Y')"
   ]
  },
  {
   "cell_type": "code",
   "execution_count": 94,
   "id": "c48dd72f-17ac-4fdb-8827-4165c0d293a7",
   "metadata": {},
   "outputs": [
    {
     "data": {
      "text/plain": [
       "datetime.datetime(2024, 6, 1, 17, 38, 30, 731508)"
      ]
     },
     "execution_count": 94,
     "metadata": {},
     "output_type": "execute_result"
    }
   ],
   "source": [
    "datetime.now()"
   ]
  },
  {
   "cell_type": "code",
   "execution_count": 97,
   "id": "5ea1c5e2-4d83-426c-bb94-310f22d7f56d",
   "metadata": {},
   "outputs": [
    {
     "data": {
      "text/plain": [
       "1050220142.143286"
      ]
     },
     "execution_count": 97,
     "metadata": {},
     "output_type": "execute_result"
    }
   ],
   "source": [
    "datetime.now().timestamp() - python_release.timestamp()"
   ]
  },
  {
   "cell_type": "code",
   "execution_count": null,
   "id": "6333b376-33bf-4d57-a02b-a6aa0b11c9cb",
   "metadata": {},
   "outputs": [],
   "source": [
    "datetime.now().timestamp()"
   ]
  },
  {
   "cell_type": "code",
   "execution_count": 105,
   "id": "c5a974fb-a9e1-4b35-b635-df2059be7ecc",
   "metadata": {},
   "outputs": [],
   "source": [
    "from datetime import timedelta\n",
    "\n",
    "td = timedelta(seconds=1050220142.143286)"
   ]
  },
  {
   "cell_type": "code",
   "execution_count": 110,
   "id": "ef6091eb-3898-4888-bad1-eecc3de793d8",
   "metadata": {},
   "outputs": [
    {
     "data": {
      "text/plain": [
       "33.27857631759069"
      ]
     },
     "execution_count": 110,
     "metadata": {},
     "output_type": "execute_result"
    }
   ],
   "source": [
    "td = timedelta(seconds=1050220142.143286)\n",
    "td.days / 365.25"
   ]
  },
  {
   "cell_type": "code",
   "execution_count": 111,
   "id": "e6aaebab-f7d7-495f-91ad-c932f904b839",
   "metadata": {},
   "outputs": [
    {
     "data": {
      "text/plain": [
       "datetime.timedelta(days=12155, seconds=33431, microseconds=677641)"
      ]
     },
     "execution_count": 111,
     "metadata": {},
     "output_type": "execute_result"
    }
   ],
   "source": [
    "datetime.now() - python_release"
   ]
  },
  {
   "cell_type": "markdown",
   "id": "b39606a2-7235-4b17-a66c-7d34fc614e3c",
   "metadata": {},
   "source": [
    "### Timezones"
   ]
  },
  {
   "cell_type": "code",
   "execution_count": 150,
   "id": "f6f89ef2-0f94-48bf-a184-9264d02f699f",
   "metadata": {},
   "outputs": [],
   "source": [
    "from zoneinfo import ZoneInfo\n",
    "\n",
    "python_release = datetime(1991, 2, 20, hour=9, tzinfo=ZoneInfo('Europe/Amsterdam'))\n"
   ]
  },
  {
   "cell_type": "code",
   "execution_count": 151,
   "id": "a82b753f-efd6-4341-9852-8873c6908b98",
   "metadata": {},
   "outputs": [
    {
     "data": {
      "text/plain": [
       "datetime.timedelta(seconds=3600)"
      ]
     },
     "execution_count": 151,
     "metadata": {},
     "output_type": "execute_result"
    }
   ],
   "source": [
    "python_release.utcoffset()"
   ]
  },
  {
   "cell_type": "code",
   "execution_count": 152,
   "id": "34ae6554-1837-464e-9987-e5cf191f1635",
   "metadata": {},
   "outputs": [
    {
     "data": {
      "text/plain": [
       "datetime.timedelta(seconds=7200)"
      ]
     },
     "execution_count": 152,
     "metadata": {},
     "output_type": "execute_result"
    }
   ],
   "source": [
    "dt = datetime(1991, 7, 20, hour=9, tzinfo=ZoneInfo('Europe/Amsterdam'))\n",
    "dt.utcoffset()"
   ]
  },
  {
   "cell_type": "code",
   "execution_count": 143,
   "id": "3fccedb8-36c5-4023-b81e-d23175bebb50",
   "metadata": {},
   "outputs": [
    {
     "data": {
      "text/plain": [
       "597"
      ]
     },
     "execution_count": 143,
     "metadata": {},
     "output_type": "execute_result"
    }
   ],
   "source": [
    "len(available_timezones())"
   ]
  },
  {
   "cell_type": "code",
   "execution_count": 160,
   "id": "db94ce57-92b6-4833-b6eb-502415063229",
   "metadata": {},
   "outputs": [],
   "source": [
    "from datetime import tzinfo, timezone"
   ]
  },
  {
   "cell_type": "code",
   "execution_count": 161,
   "id": "4fdc32c3-f248-45a4-be69-ef5b210e70d8",
   "metadata": {},
   "outputs": [
    {
     "data": {
      "text/plain": [
       "datetime.timezone.utc"
      ]
     },
     "execution_count": 161,
     "metadata": {},
     "output_type": "execute_result"
    }
   ],
   "source": [
    "timezone.utc"
   ]
  },
  {
   "cell_type": "code",
   "execution_count": 169,
   "id": "28761d8a-b964-4468-8367-620101c78107",
   "metadata": {},
   "outputs": [
    {
     "data": {
      "text/plain": [
       "datetime.timedelta(seconds=3600)"
      ]
     },
     "execution_count": 169,
     "metadata": {},
     "output_type": "execute_result"
    }
   ],
   "source": [
    "python_release = datetime(1991, 2, 20, hour=9, tzinfo=ZoneInfo('Europe/Amsterdam'))\n",
    "python_release.utcoffset()"
   ]
  },
  {
   "cell_type": "code",
   "execution_count": 177,
   "id": "66e6fe4f-3238-4a17-ab64-01f43713ea76",
   "metadata": {},
   "outputs": [
    {
     "data": {
      "text/plain": [
       "datetime.timedelta(seconds=3600)"
      ]
     },
     "execution_count": 177,
     "metadata": {},
     "output_type": "execute_result"
    }
   ],
   "source": [
    "from datetime import timezone, timedelta\n",
    "\n",
    "utc_1_timezone = timezone(timedelta(hours=1))\n",
    "python_release = datetime(1991, 2, 20, hour=9, tzinfo=utc_1_timezone)\n",
    "python_release.utcoffset()"
   ]
  },
  {
   "cell_type": "markdown",
   "id": "44746a48-2231-46ac-8a91-39f17407e76e",
   "metadata": {},
   "source": [
    "## Bytes"
   ]
  },
  {
   "cell_type": "code",
   "execution_count": 178,
   "id": "f1aa9f5d-18a1-4e08-bee5-98e7e5cedc4e",
   "metadata": {},
   "outputs": [
    {
     "data": {
      "text/plain": [
       "b'\\x00\\x00\\x00\\x00'"
      ]
     },
     "execution_count": 178,
     "metadata": {},
     "output_type": "execute_result"
    }
   ],
   "source": [
    "bytes(4)"
   ]
  },
  {
   "cell_type": "code",
   "execution_count": null,
   "id": "8c95bb57-37a8-4778-b3b7-149bfed03d08",
   "metadata": {},
   "outputs": [],
   "source": []
  },
  {
   "cell_type": "code",
   "execution_count": 179,
   "id": "34d8d388-36f5-4206-af4c-3c2a9b1362be",
   "metadata": {},
   "outputs": [
    {
     "data": {
      "text/plain": [
       "'4'"
      ]
     },
     "execution_count": 179,
     "metadata": {},
     "output_type": "execute_result"
    }
   ],
   "source": [
    "str(4)"
   ]
  },
  {
   "cell_type": "code",
   "execution_count": null,
   "id": "284ffe76-f5ba-4d03-91c3-b359c685c705",
   "metadata": {},
   "outputs": [],
   "source": [
    "str(4)"
   ]
  },
  {
   "cell_type": "code",
   "execution_count": null,
   "id": "0589f5b4-ab47-4860-9ed9-2f4bf929593f",
   "metadata": {},
   "outputs": [],
   "source": []
  },
  {
   "cell_type": "code",
   "execution_count": 213,
   "id": "3f14aa8b-4ff6-445e-9c4b-ca285ad58f9b",
   "metadata": {},
   "outputs": [
    {
     "data": {
      "text/plain": [
       "b'\\xf0\\x9f\\x92\\xbe'"
      ]
     },
     "execution_count": 213,
     "metadata": {},
     "output_type": "execute_result"
    }
   ],
   "source": [
    "floppy = bytes('💾', 'utf-8')\n",
    "floppy"
   ]
  },
  {
   "cell_type": "code",
   "execution_count": 217,
   "id": "0114ad61-140c-46f8-9cdf-168b1432bcc8",
   "metadata": {},
   "outputs": [
    {
     "name": "stdout",
     "output_type": "stream",
     "text": [
      "240\n",
      "159\n",
      "146\n",
      "190\n"
     ]
    }
   ],
   "source": [
    "for b in floppy:\n",
    "    print(b)"
   ]
  },
  {
   "cell_type": "code",
   "execution_count": 214,
   "id": "656572ae-02fb-4cb9-80c9-b3ba50345e42",
   "metadata": {},
   "outputs": [
    {
     "data": {
      "text/plain": [
       "'💾'"
      ]
     },
     "execution_count": 214,
     "metadata": {},
     "output_type": "execute_result"
    }
   ],
   "source": [
    "floppy.decode('utf-8')"
   ]
  },
  {
   "cell_type": "code",
   "execution_count": 215,
   "id": "c22b030a-5b3d-4732-ae9f-56efe6a9b619",
   "metadata": {},
   "outputs": [
    {
     "ename": "TypeError",
     "evalue": "'bytes' object does not support item assignment",
     "output_type": "error",
     "traceback": [
      "\u001b[0;31m---------------------------------------------------------------------------\u001b[0m",
      "\u001b[0;31mTypeError\u001b[0m                                 Traceback (most recent call last)",
      "Cell \u001b[0;32mIn[215], line 1\u001b[0m\n\u001b[0;32m----> 1\u001b[0m \u001b[43mfloppy\u001b[49m\u001b[43m[\u001b[49m\u001b[38;5;241;43m3\u001b[39;49m\u001b[43m]\u001b[49m \u001b[38;5;241m=\u001b[39m \u001b[38;5;28mint\u001b[39m(\u001b[38;5;124m'\u001b[39m\u001b[38;5;124mbf\u001b[39m\u001b[38;5;124m'\u001b[39m, \u001b[38;5;241m16\u001b[39m)\n",
      "\u001b[0;31mTypeError\u001b[0m: 'bytes' object does not support item assignment"
     ]
    }
   ],
   "source": [
    "floppy[3] = int('bf', 16)"
   ]
  },
  {
   "cell_type": "code",
   "execution_count": 218,
   "id": "9df5f612-39bb-45dc-8416-25d423188222",
   "metadata": {},
   "outputs": [
    {
     "data": {
      "text/plain": [
       "4011"
      ]
     },
     "execution_count": 218,
     "metadata": {},
     "output_type": "execute_result"
    }
   ],
   "source": [
    "int('fab', 16)"
   ]
  },
  {
   "cell_type": "code",
   "execution_count": 219,
   "id": "647cc48d-3f65-4cd5-b075-d50c1cfefc00",
   "metadata": {},
   "outputs": [
    {
     "data": {
      "text/plain": [
       "bytearray(b'\\xf0\\x9f\\x92\\xbe')"
      ]
     },
     "execution_count": 219,
     "metadata": {},
     "output_type": "execute_result"
    }
   ],
   "source": [
    "floppy = bytearray('💾', 'utf-8')\n",
    "floppy"
   ]
  },
  {
   "cell_type": "code",
   "execution_count": 220,
   "id": "b69b1592-bf1a-4335-84af-fd2396e6fea8",
   "metadata": {},
   "outputs": [
    {
     "data": {
      "text/plain": [
       "'💿'"
      ]
     },
     "execution_count": 220,
     "metadata": {},
     "output_type": "execute_result"
    }
   ],
   "source": [
    "floppy[3] = int('bf', 16)\n",
    "floppy.decode('utf-8')"
   ]
  },
  {
   "cell_type": "code",
   "execution_count": 206,
   "id": "17dcfbc3-45c5-42c0-ac15-d64813cb4a89",
   "metadata": {},
   "outputs": [
    {
     "data": {
      "text/plain": [
       "bytearray(b'\\xf0\\x9f\\x99\\x85')"
      ]
     },
     "execution_count": 206,
     "metadata": {},
     "output_type": "execute_result"
    }
   ],
   "source": [
    "smileyBytes"
   ]
  },
  {
   "cell_type": "code",
   "execution_count": 207,
   "id": "0b80ccbb-5a7e-4c68-a31f-3b0fd7ff13be",
   "metadata": {},
   "outputs": [
    {
     "data": {
      "text/plain": [
       "4011"
      ]
     },
     "execution_count": 207,
     "metadata": {},
     "output_type": "execute_result"
    }
   ],
   "source": [
    "int('fab', 16)"
   ]
  },
  {
   "cell_type": "code",
   "execution_count": 209,
   "id": "7f6d88c3-b5f9-482e-b8dd-57890f9b7acf",
   "metadata": {},
   "outputs": [
    {
     "data": {
      "text/plain": [
       "bytearray(b'\\xf0\\x9f\\x92\\xbe')"
      ]
     },
     "execution_count": 209,
     "metadata": {},
     "output_type": "execute_result"
    }
   ],
   "source": [
    "floppy = bytearray('💾', 'utf-8')\n",
    "floppy"
   ]
  },
  {
   "cell_type": "code",
   "execution_count": 210,
   "id": "cf5daf66-27a2-4209-b5ea-183117f5cf85",
   "metadata": {},
   "outputs": [],
   "source": [
    "floppy[3] = int('bf', 16)"
   ]
  },
  {
   "cell_type": "code",
   "execution_count": 211,
   "id": "c39142b8-429d-4c44-a6fa-297665d9c3bb",
   "metadata": {},
   "outputs": [
    {
     "data": {
      "text/plain": [
       "'💿'"
      ]
     },
     "execution_count": 211,
     "metadata": {},
     "output_type": "execute_result"
    }
   ],
   "source": [
    "floppy.decode()"
   ]
  },
  {
   "cell_type": "markdown",
   "id": "9030d5bc-77b2-4dae-bdeb-9146fdbb5d87",
   "metadata": {},
   "source": [
    "## Exercises"
   ]
  },
  {
   "cell_type": "code",
   "execution_count": null,
   "id": "2fd3ae9d-6d16-4a9a-b11d-10f07e6d0a83",
   "metadata": {},
   "outputs": [],
   "source": [
    "datetime(1991, 2, 20, hour=9, minute=0, second=0, microsecond=0)"
   ]
  },
  {
   "cell_type": "code",
   "execution_count": 225,
   "id": "cc177ddd-5ec6-464f-bca1-c2a578583288",
   "metadata": {},
   "outputs": [
    {
     "data": {
      "text/plain": [
       "datetime.datetime(2015, 3, 1, 0, 0)"
      ]
     },
     "execution_count": 225,
     "metadata": {},
     "output_type": "execute_result"
    }
   ],
   "source": [
    "datetime(2016, 2, 29) - timedelta(days=365)"
   ]
  },
  {
   "cell_type": "markdown",
   "id": "68bb84e5-b879-40a3-b71f-5ea5c63928b4",
   "metadata": {},
   "source": [
    "Exercises:\n",
    "\n",
    "Solve my original problem of subtracting one year from a date. \n",
    "\n",
    "Write a function to solve quadratic equations\n",
    "\n",
    "Convert hexadecimal to base 10"
   ]
  }
 ],
 "metadata": {
  "kernelspec": {
   "display_name": "Python 3 (ipykernel)",
   "language": "python",
   "name": "python3"
  },
  "language_info": {
   "codemirror_mode": {
    "name": "ipython",
    "version": 3
   },
   "file_extension": ".py",
   "mimetype": "text/x-python",
   "name": "python",
   "nbconvert_exporter": "python",
   "pygments_lexer": "ipython3",
   "version": "3.10.14"
  }
 },
 "nbformat": 4,
 "nbformat_minor": 5
}
