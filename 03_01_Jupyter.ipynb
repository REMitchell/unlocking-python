{
 "cells": [
  {
   "cell_type": "markdown",
   "id": "34897122-81ab-4eb4-bd62-18d8329cbe9a",
   "metadata": {
    "editable": true,
    "slideshow": {
     "slide_type": ""
    },
    "tags": []
   },
   "source": [
    "# Introduction to Jupyter Notebooks\n",
    "\n",
    "This is some text written in a markdown language.\n",
    "\n",
    "Some text is **bold**\n",
    "\n",
    "Some text is *italicized*. "
   ]
  },
  {
   "cell_type": "code",
   "execution_count": 8,
   "id": "7237e6ca-f096-4f90-b3f1-e418a2d7e6b9",
   "metadata": {
    "editable": true,
    "slideshow": {
     "slide_type": ""
    },
    "tags": []
   },
   "outputs": [
    {
     "name": "stdout",
     "output_type": "stream",
     "text": [
      "Hello, World\n"
     ]
    }
   ],
   "source": [
    "print('Hello, World')"
   ]
  },
  {
   "cell_type": "code",
   "execution_count": 12,
   "id": "9bf4bf93-3b85-4b62-84ce-7266094a9ca5",
   "metadata": {
    "editable": true,
    "slideshow": {
     "slide_type": ""
    },
    "tags": []
   },
   "outputs": [],
   "source": [
    "# declare a variable here\n",
    "name = 'Ryan'"
   ]
  },
  {
   "cell_type": "code",
   "execution_count": 13,
   "id": "7edde459-e606-4cab-98a8-e25dddfc0f8e",
   "metadata": {
    "editable": true,
    "slideshow": {
     "slide_type": ""
    },
    "tags": []
   },
   "outputs": [
    {
     "name": "stdout",
     "output_type": "stream",
     "text": [
      "My name is Ryan\n"
     ]
    }
   ],
   "source": [
    "# Print the variable in the next cell\n",
    "\n",
    "print(f'My name is {name}')"
   ]
  },
  {
   "cell_type": "code",
   "execution_count": null,
   "id": "60a88c1b-6b63-4d73-bc67-5b5a7386aa5a",
   "metadata": {
    "editable": true,
    "slideshow": {
     "slide_type": ""
    },
    "tags": []
   },
   "outputs": [],
   "source": []
  }
 ],
 "metadata": {
  "kernelspec": {
   "display_name": "Python 3 (ipykernel)",
   "language": "python",
   "name": "python3"
  },
  "language_info": {
   "codemirror_mode": {
    "name": "ipython",
    "version": 3
   },
   "file_extension": ".py",
   "mimetype": "text/x-python",
   "name": "python",
   "nbconvert_exporter": "python",
   "pygments_lexer": "ipython3",
   "version": "3.12.2"
  }
 },
 "nbformat": 4,
 "nbformat_minor": 5
}
