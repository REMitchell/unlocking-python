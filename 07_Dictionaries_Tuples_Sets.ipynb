{
 "cells": [
  {
   "cell_type": "markdown",
   "id": "0f82648a-b948-44d6-bcd2-e96fad20bfdd",
   "metadata": {},
   "source": [
    "## Dictionaries"
   ]
  },
  {
   "cell_type": "code",
   "execution_count": 2,
   "id": "4665850a-11db-463a-be93-e34f0125a236",
   "metadata": {},
   "outputs": [],
   "source": [
    "my_dictionary = {\n",
    "    'apple': 'A red fruit',\n",
    "    'banana': 'A yellow fruit',\n",
    "    'cantaloupe': 'A beige melon'\n",
    "}"
   ]
  },
  {
   "cell_type": "code",
   "execution_count": 3,
   "id": "e6670c4c-a990-42e8-9baf-a64f9fdb64fc",
   "metadata": {},
   "outputs": [
    {
     "data": {
      "text/plain": [
       "3"
      ]
     },
     "execution_count": 3,
     "metadata": {},
     "output_type": "execute_result"
    }
   ],
   "source": [
    "len(my_dictionary)"
   ]
  },
  {
   "cell_type": "code",
   "execution_count": 4,
   "id": "d1b99149-10ed-4a98-9495-65f9a6890869",
   "metadata": {},
   "outputs": [
    {
     "data": {
      "text/plain": [
       "dict_keys(['apple', 'banana', 'cantaloupe'])"
      ]
     },
     "execution_count": 4,
     "metadata": {},
     "output_type": "execute_result"
    }
   ],
   "source": [
    "my_dictionary.keys()"
   ]
  },
  {
   "cell_type": "code",
   "execution_count": 5,
   "id": "62b7321b-f564-4f56-b2da-62efc744cb24",
   "metadata": {},
   "outputs": [
    {
     "data": {
      "text/plain": [
       "dict_keys"
      ]
     },
     "execution_count": 5,
     "metadata": {},
     "output_type": "execute_result"
    }
   ],
   "source": [
    "type(my_dictionary.keys())"
   ]
  },
  {
   "cell_type": "code",
   "execution_count": 6,
   "id": "3a7ee7ea-dd82-4fdb-b977-6b79bc2d1bd4",
   "metadata": {},
   "outputs": [
    {
     "name": "stdout",
     "output_type": "stream",
     "text": [
      "apple\n",
      "banana\n",
      "cantaloupe\n"
     ]
    }
   ],
   "source": [
    "for key in my_dictionary.keys():\n",
    "    print(key)"
   ]
  },
  {
   "cell_type": "code",
   "execution_count": 7,
   "id": "0b8bdff9-d816-4767-9d45-38589b3bb6b7",
   "metadata": {},
   "outputs": [
    {
     "ename": "TypeError",
     "evalue": "'dict_keys' object is not subscriptable",
     "output_type": "error",
     "traceback": [
      "\u001b[31m---------------------------------------------------------------------------\u001b[39m",
      "\u001b[31mTypeError\u001b[39m                                 Traceback (most recent call last)",
      "\u001b[36mCell\u001b[39m\u001b[36m \u001b[39m\u001b[32mIn[7]\u001b[39m\u001b[32m, line 1\u001b[39m\n\u001b[32m----> \u001b[39m\u001b[32m1\u001b[39m my_dictionary.keys()[\u001b[32m0\u001b[39m]\n",
      "\u001b[31mTypeError\u001b[39m: 'dict_keys' object is not subscriptable"
     ]
    }
   ],
   "source": [
    "my_dictionary.keys()[0]"
   ]
  },
  {
   "cell_type": "code",
   "execution_count": 8,
   "id": "4706137d-197c-4dbe-8f2a-875cb64ee1b7",
   "metadata": {},
   "outputs": [
    {
     "data": {
      "text/plain": [
       "dict_values(['A red fruit', 'A yellow fruit', 'A beige melon'])"
      ]
     },
     "execution_count": 8,
     "metadata": {},
     "output_type": "execute_result"
    }
   ],
   "source": [
    "my_dictionary.values()"
   ]
  },
  {
   "cell_type": "code",
   "execution_count": 9,
   "id": "bc819491-d77f-493f-82ee-3dc31737773f",
   "metadata": {},
   "outputs": [
    {
     "data": {
      "text/plain": [
       "dict_items([('apple', 'A red fruit'), ('banana', 'A yellow fruit'), ('cantaloupe', 'A beige melon')])"
      ]
     },
     "execution_count": 9,
     "metadata": {},
     "output_type": "execute_result"
    }
   ],
   "source": [
    "my_dictionary.items()"
   ]
  },
  {
   "cell_type": "code",
   "execution_count": 10,
   "id": "24670a7b-8939-4732-83b6-9eac76b42f2d",
   "metadata": {},
   "outputs": [
    {
     "name": "stdout",
     "output_type": "stream",
     "text": [
      "key: apple, value: A red fruit\n",
      "key: banana, value: A yellow fruit\n",
      "key: cantaloupe, value: A beige melon\n"
     ]
    }
   ],
   "source": [
    "for item in my_dictionary.items():\n",
    "    print(f'key: {item[0]}, value: {item[1]}')"
   ]
  },
  {
   "cell_type": "code",
   "execution_count": null,
   "id": "74badeaa-7b13-4b63-a3ef-7d457d5c3e4a",
   "metadata": {},
   "outputs": [],
   "source": [
    "for key, value in my_dictionary.items():\n",
    "    print(f'key: {key}, value: {value}')"
   ]
  },
  {
   "cell_type": "code",
   "execution_count": 15,
   "id": "d668a7d7-2c21-43de-964c-068d0964a823",
   "metadata": {},
   "outputs": [],
   "source": [
    "a, b, c = ['a', 'b', 'c']"
   ]
  },
  {
   "cell_type": "code",
   "execution_count": 16,
   "id": "bac355f9-0b64-4a58-9f65-b3dd58968402",
   "metadata": {},
   "outputs": [
    {
     "ename": "ValueError",
     "evalue": "too many values to unpack (expected 3)",
     "output_type": "error",
     "traceback": [
      "\u001b[0;31m---------------------------------------------------------------------------\u001b[0m",
      "\u001b[0;31mValueError\u001b[0m                                Traceback (most recent call last)",
      "Cell \u001b[0;32mIn[16], line 1\u001b[0m\n\u001b[0;32m----> 1\u001b[0m a, b, c \u001b[38;5;241m=\u001b[39m [\u001b[38;5;124m'\u001b[39m\u001b[38;5;124ma\u001b[39m\u001b[38;5;124m'\u001b[39m, \u001b[38;5;124m'\u001b[39m\u001b[38;5;124mb\u001b[39m\u001b[38;5;124m'\u001b[39m, \u001b[38;5;124m'\u001b[39m\u001b[38;5;124mc\u001b[39m\u001b[38;5;124m'\u001b[39m, \u001b[38;5;124m'\u001b[39m\u001b[38;5;124md\u001b[39m\u001b[38;5;124m'\u001b[39m]\n",
      "\u001b[0;31mValueError\u001b[0m: too many values to unpack (expected 3)"
     ]
    }
   ],
   "source": [
    "a, b, c = ['a', 'b', 'c', 'd']"
   ]
  },
  {
   "cell_type": "code",
   "execution_count": 17,
   "id": "14e70e36-b0a9-452e-923b-d9b5029dacbd",
   "metadata": {},
   "outputs": [
    {
     "name": "stdout",
     "output_type": "stream",
     "text": [
      "key: apple, value: A red fruit\n",
      "key: banana, value: A yellow fruit\n",
      "key: cantaloupe, value: A beige melon\n"
     ]
    }
   ],
   "source": [
    "for item in my_dictionary.items():\n",
    "    key, value = item\n",
    "    print(f'key: {key}, value: {value}')"
   ]
  },
  {
   "cell_type": "code",
   "execution_count": 9,
   "id": "4a06bc85-92f4-4775-a31b-505b057ae3d7",
   "metadata": {},
   "outputs": [
    {
     "data": {
      "text/plain": [
       "'A red fruit'"
      ]
     },
     "execution_count": 9,
     "metadata": {},
     "output_type": "execute_result"
    }
   ],
   "source": [
    "my_dictionary['apple']"
   ]
  },
  {
   "cell_type": "code",
   "execution_count": 10,
   "id": "14273eb9-d849-4d0d-8c3d-256dbd97544c",
   "metadata": {},
   "outputs": [
    {
     "ename": "KeyError",
     "evalue": "'dragonfruit'",
     "output_type": "error",
     "traceback": [
      "\u001b[31m---------------------------------------------------------------------------\u001b[39m",
      "\u001b[31mKeyError\u001b[39m                                  Traceback (most recent call last)",
      "\u001b[36mCell\u001b[39m\u001b[36m \u001b[39m\u001b[32mIn[10]\u001b[39m\u001b[32m, line 1\u001b[39m\n\u001b[32m----> \u001b[39m\u001b[32m1\u001b[39m my_dictionary[\u001b[33m'\u001b[39m\u001b[33mdragonfruit\u001b[39m\u001b[33m'\u001b[39m]\n",
      "\u001b[31mKeyError\u001b[39m: 'dragonfruit'"
     ]
    }
   ],
   "source": [
    "my_dictionary['dragonfruit']"
   ]
  },
  {
   "cell_type": "code",
   "execution_count": 11,
   "id": "93eeab6d-afc7-40aa-a688-29f68a243b97",
   "metadata": {},
   "outputs": [],
   "source": [
    "my_dictionary.get('dragonfruit')"
   ]
  },
  {
   "cell_type": "code",
   "execution_count": 12,
   "id": "4201711b-5595-4187-a352-0a7bc64cbffc",
   "metadata": {},
   "outputs": [
    {
     "data": {
      "text/plain": [
       "'Missing definition'"
      ]
     },
     "execution_count": 12,
     "metadata": {},
     "output_type": "execute_result"
    }
   ],
   "source": [
    "my_dictionary.get('dragonfruit', 'Missing definition')"
   ]
  },
  {
   "cell_type": "code",
   "execution_count": 28,
   "id": "d989ef56-a781-4166-af3c-848983729235",
   "metadata": {},
   "outputs": [],
   "source": [
    "my_dictionary['apple'] = 'A red or green fruit'\n",
    "my_dictionary['dragonfruit'] = 'Comes from a cactus'"
   ]
  },
  {
   "cell_type": "code",
   "execution_count": 13,
   "id": "32677463-0d41-428e-b5c6-ad2252949741",
   "metadata": {},
   "outputs": [],
   "source": [
    "additional_fruits = {\n",
    "    'elderberry': 'Good for jam',\n",
    "    'fig': 'Pollinated by wasps',\n",
    "    'grape': 'Mostly grown for wine'\n",
    "}"
   ]
  },
  {
   "cell_type": "code",
   "execution_count": 14,
   "id": "f36e6c45-66dd-4827-bd0a-9a2626d38007",
   "metadata": {},
   "outputs": [
    {
     "name": "stdout",
     "output_type": "stream",
     "text": [
      "{'apple': 'A red fruit', 'banana': 'A yellow fruit', 'cantaloupe': 'A beige melon', 'elderberry': 'Good for jam', 'fig': 'Pollinated by wasps', 'grape': 'Mostly grown for wine'}\n"
     ]
    }
   ],
   "source": [
    "my_dictionary.update(additional_fruits)\n",
    "print(my_dictionary)"
   ]
  },
  {
   "cell_type": "code",
   "execution_count": 15,
   "id": "f417ae16-3e2a-47f4-90ab-94700ca7c62f",
   "metadata": {},
   "outputs": [
    {
     "data": {
      "text/plain": [
       "{'apple': 'A red fruit',\n",
       " 'banana': 'A yellow fruit',\n",
       " 'cantaloupe': 'A beige melon',\n",
       " 'elderberry': 'Good for jam',\n",
       " 'fig': 'Pollinated by wasps',\n",
       " 'grape': 'Mostly grown for wine'}"
      ]
     },
     "execution_count": 15,
     "metadata": {},
     "output_type": "execute_result"
    }
   ],
   "source": [
    "my_dictionary"
   ]
  },
  {
   "cell_type": "code",
   "execution_count": 16,
   "id": "6c763aac-4394-49d3-a434-750a13297d6d",
   "metadata": {},
   "outputs": [
    {
     "name": "stdout",
     "output_type": "stream",
     "text": [
      "Likely originated from New Guinea\n"
     ]
    }
   ],
   "source": [
    "additional_fruits = {'banana': 'Likely originated from New Guinea'}\n",
    "my_dictionary.update(additional_fruits)\n",
    "print(my_dictionary['banana'])"
   ]
  },
  {
   "cell_type": "markdown",
   "id": "e7ae5709-5a8f-430a-8bda-604817f97978",
   "metadata": {},
   "source": [
    "## Dictionary Comprehension"
   ]
  },
  {
   "cell_type": "code",
   "execution_count": 17,
   "id": "9892140c-b0b3-4fad-b99b-8209bd17ede3",
   "metadata": {},
   "outputs": [
    {
     "data": {
      "text/plain": [
       "{'A': 'Alice', 'B': 'Bob', 'C': 'Charlie'}"
      ]
     },
     "execution_count": 17,
     "metadata": {},
     "output_type": "execute_result"
    }
   ],
   "source": [
    "names = ['Alice', 'Bob', 'Charlie']\n",
    "names_dict = {n[0]: n for n in names}\n",
    "names_dict"
   ]
  },
  {
   "cell_type": "code",
   "execution_count": 18,
   "id": "cfa433b9-6b20-456f-b06f-61775b95c942",
   "metadata": {},
   "outputs": [],
   "source": [
    "doubles = {n: n*2 for n in range(0, 100)}"
   ]
  },
  {
   "cell_type": "code",
   "execution_count": 19,
   "id": "4a79c697-9f40-42bb-b204-02822c9d48f4",
   "metadata": {},
   "outputs": [],
   "source": [
    "doubles = {n: n*2 for n in range(0, 100) if n % 10 == 0}"
   ]
  },
  {
   "cell_type": "code",
   "execution_count": 20,
   "id": "acbb9e07-6a7d-49cf-8129-f43c41f3807b",
   "metadata": {},
   "outputs": [
    {
     "data": {
      "text/plain": [
       "{0: 0,\n",
       " 10: 20,\n",
       " 20: 40,\n",
       " 30: 60,\n",
       " 40: 80,\n",
       " 50: 100,\n",
       " 60: 120,\n",
       " 70: 140,\n",
       " 80: 160,\n",
       " 90: 180}"
      ]
     },
     "execution_count": 20,
     "metadata": {},
     "output_type": "execute_result"
    }
   ],
   "source": [
    "doubles"
   ]
  },
  {
   "cell_type": "code",
   "execution_count": 26,
   "id": "3f7875cd-4d95-406b-abdc-8dd2987aca69",
   "metadata": {},
   "outputs": [],
   "source": [
    "def any_function(e):\n",
    "    return e"
   ]
  },
  {
   "cell_type": "code",
   "execution_count": 28,
   "id": "b65cf7b4-31b4-40e8-bdb1-969cb8e07354",
   "metadata": {},
   "outputs": [],
   "source": [
    "ten_elements = [0, 1, 2, 3, 4, 5, 6, 7, 8, 9]\n",
    "new_list = [any_function(e) for e in ten_elements]"
   ]
  },
  {
   "cell_type": "code",
   "execution_count": 29,
   "id": "6b18289b-9c07-4a6d-baa0-41ce6b686bf2",
   "metadata": {},
   "outputs": [],
   "source": [
    "def any_key_function(e):\n",
    "    return e\n",
    "\n",
    "def any_val_function(e):\n",
    "    return e"
   ]
  },
  {
   "cell_type": "code",
   "execution_count": 30,
   "id": "014833d1-25cc-4173-a857-bfc886070151",
   "metadata": {},
   "outputs": [],
   "source": [
    "ten_elements = [0, 1, 2, 3, 4, 5, 6, 7, 8, 9]\n",
    "new_dict = {\n",
    "    any_key_function(e): any_val_function(e)\n",
    "    for e in ten_elements\n",
    "}"
   ]
  },
  {
   "cell_type": "code",
   "execution_count": 31,
   "id": "b2488bb7-f4a0-4795-a013-7e6883c7fc72",
   "metadata": {},
   "outputs": [
    {
     "data": {
      "text/plain": [
       "{0: 0, 1: 1, 2: 2, 3: 3, 4: 4, 5: 5, 6: 6, 7: 7, 8: 8, 9: 9}"
      ]
     },
     "execution_count": 31,
     "metadata": {},
     "output_type": "execute_result"
    }
   ],
   "source": [
    "new_dict"
   ]
  },
  {
   "cell_type": "code",
   "execution_count": 32,
   "id": "3b92287c-e6b7-4a14-88c7-85da1279f67a",
   "metadata": {},
   "outputs": [],
   "source": [
    "def any_key_function(e):\n",
    "    return e % 2\n",
    "\n",
    "ten_elements = [0, 1, 2, 3, 4, 5, 6, 7, 8, 9]\n",
    "new_dict = {\n",
    "    any_key_function(e): any_val_function(e)\n",
    "    for e in ten_elements\n",
    "}"
   ]
  },
  {
   "cell_type": "code",
   "execution_count": 33,
   "id": "c15c0868-c006-4092-9cdc-a385d66916d4",
   "metadata": {},
   "outputs": [
    {
     "data": {
      "text/plain": [
       "{0: 8, 1: 9}"
      ]
     },
     "execution_count": 33,
     "metadata": {},
     "output_type": "execute_result"
    }
   ],
   "source": [
    "new_dict"
   ]
  },
  {
   "cell_type": "markdown",
   "id": "57163b68-9543-4250-bc6f-59e921576d14",
   "metadata": {},
   "source": [
    "## Reducing to Dictionaries"
   ]
  },
  {
   "cell_type": "code",
   "execution_count": 34,
   "id": "f8a78f57-e8f2-4cad-aa32-ffa687c78981",
   "metadata": {},
   "outputs": [],
   "source": [
    "chars = ['a', 'b', 'a', 'c', 'a', 'a', 'b']"
   ]
  },
  {
   "cell_type": "code",
   "execution_count": 35,
   "id": "89defe8f-6d2b-4cd1-ab0a-047e355c1289",
   "metadata": {},
   "outputs": [
    {
     "name": "stdout",
     "output_type": "stream",
     "text": [
      "{'a': 4, 'b': 2, 'c': 1}\n"
     ]
    }
   ],
   "source": [
    "chars_count = {}\n",
    "for char in chars:\n",
    "    if char not in chars_count:\n",
    "        chars_count[char] = 0\n",
    "    chars_count[char] += 1\n",
    "\n",
    "print(chars_count)"
   ]
  },
  {
   "cell_type": "code",
   "execution_count": 36,
   "id": "3aa41876-b55e-444a-8050-a12e9df8ca8e",
   "metadata": {},
   "outputs": [
    {
     "name": "stdout",
     "output_type": "stream",
     "text": [
      "{'a': 4, 'b': 2, 'c': 1}\n"
     ]
    }
   ],
   "source": [
    "chars_count = {}\n",
    "for char in chars:\n",
    "    chars_count[char] = chars_count.get(char, 0) + 1\n",
    "print(chars_count)"
   ]
  },
  {
   "cell_type": "code",
   "execution_count": 38,
   "id": "d526fdd9-0349-44f0-bcd2-d88b69db3ee7",
   "metadata": {},
   "outputs": [],
   "source": [
    "from collections import defaultdict"
   ]
  },
  {
   "cell_type": "code",
   "execution_count": 39,
   "id": "dec916dc-5e73-46fa-82ef-0b3885b34ea1",
   "metadata": {},
   "outputs": [
    {
     "name": "stdout",
     "output_type": "stream",
     "text": [
      "[]\n"
     ]
    }
   ],
   "source": [
    "dict_of_lists = defaultdict(list)\n",
    "print(dict_of_lists['new_key'])"
   ]
  },
  {
   "cell_type": "code",
   "execution_count": 41,
   "id": "50e6eff4-0a0d-47ab-8554-31183f1f1c86",
   "metadata": {},
   "outputs": [
    {
     "data": {
      "text/plain": [
       "0"
      ]
     },
     "execution_count": 41,
     "metadata": {},
     "output_type": "execute_result"
    }
   ],
   "source": [
    "new_int = int()\n",
    "new_int"
   ]
  },
  {
   "cell_type": "code",
   "execution_count": 22,
   "id": "986e7469-8921-4b9a-bf1a-7bcbfad29d60",
   "metadata": {},
   "outputs": [
    {
     "name": "stdout",
     "output_type": "stream",
     "text": [
      "defaultdict(<class 'int'>, {'a': 4, 'b': 2, 'c': 1})\n"
     ]
    }
   ],
   "source": [
    "chars_count = defaultdict(int)\n",
    "for char in chars:\n",
    "    chars_count[char] = chars_count[char] + 1\n",
    "print(chars_count)"
   ]
  },
  {
   "cell_type": "code",
   "execution_count": 43,
   "id": "cd514f1c-5c02-4784-b8aa-d840369d085b",
   "metadata": {},
   "outputs": [
    {
     "data": {
      "text/plain": [
       "{'a': 4, 'b': 2, 'c': 1}"
      ]
     },
     "execution_count": 43,
     "metadata": {},
     "output_type": "execute_result"
    }
   ],
   "source": [
    "from functools import reduce\n",
    "\n",
    "def increment_count(chars_count, char):\n",
    "    chars_count[char] = chars_count.get(char, 0) + 1\n",
    "    return chars_count\n",
    "\n",
    "reduce(increment_count, chars, {})"
   ]
  },
  {
   "cell_type": "code",
   "execution_count": 44,
   "id": "85a039ce-96f4-442b-a50c-a2adda8928db",
   "metadata": {},
   "outputs": [],
   "source": [
    "from collections import Counter"
   ]
  },
  {
   "cell_type": "code",
   "execution_count": 45,
   "id": "574abcd5-b333-4654-929d-f474cf9eaa15",
   "metadata": {},
   "outputs": [
    {
     "data": {
      "text/plain": [
       "Counter({'a': 4, 'b': 2, 'c': 1})"
      ]
     },
     "execution_count": 45,
     "metadata": {},
     "output_type": "execute_result"
    }
   ],
   "source": [
    "Counter(chars)"
   ]
  },
  {
   "cell_type": "markdown",
   "id": "e3a9cacd-e45f-44a5-841b-dd538b0c258d",
   "metadata": {},
   "source": [
    "## Sets"
   ]
  },
  {
   "cell_type": "code",
   "execution_count": 46,
   "id": "eb5577f2-02d0-4ed0-84c3-0054f6566fba",
   "metadata": {},
   "outputs": [
    {
     "data": {
      "text/plain": [
       "['d', 'c', 'b', 'a']"
      ]
     },
     "execution_count": 46,
     "metadata": {},
     "output_type": "execute_result"
    }
   ],
   "source": [
    "letters = ['a', 'a', 'b', 'c', 'c', 'c', 'd', 'd', ]\n",
    "letters = list(set(letters))\n",
    "letters"
   ]
  },
  {
   "cell_type": "code",
   "execution_count": 47,
   "id": "0b521ce1-7f8f-4eb1-b20e-10c5dcacee25",
   "metadata": {},
   "outputs": [
    {
     "data": {
      "text/plain": [
       "True"
      ]
     },
     "execution_count": 47,
     "metadata": {},
     "output_type": "execute_result"
    }
   ],
   "source": [
    "{1, 2} == {2, 1}"
   ]
  },
  {
   "cell_type": "code",
   "execution_count": 48,
   "id": "45449e53-5718-40f4-80ef-f95f62b4fa81",
   "metadata": {},
   "outputs": [
    {
     "data": {
      "text/plain": [
       "True"
      ]
     },
     "execution_count": 48,
     "metadata": {},
     "output_type": "execute_result"
    }
   ],
   "source": [
    "{1, 2, 1, 1} == {2, 1}"
   ]
  },
  {
   "cell_type": "code",
   "execution_count": 49,
   "id": "1c77bd37-80ca-434c-923b-9966267a0a88",
   "metadata": {},
   "outputs": [
    {
     "data": {
      "text/plain": [
       "False"
      ]
     },
     "execution_count": 49,
     "metadata": {},
     "output_type": "execute_result"
    }
   ],
   "source": [
    "{1, 2, 1, 1} == {2, 1, 3}"
   ]
  },
  {
   "cell_type": "code",
   "execution_count": 50,
   "id": "d17d40fe-b76e-4f19-9363-0c5cab926d5f",
   "metadata": {},
   "outputs": [
    {
     "data": {
      "text/plain": [
       "True"
      ]
     },
     "execution_count": 50,
     "metadata": {},
     "output_type": "execute_result"
    }
   ],
   "source": [
    "# union\n",
    "\n",
    "a = {1, 2, 3}\n",
    "b = {3, 4, 5}\n",
    "\n",
    "a.union(b) == {1, 2, 3, 4, 5}"
   ]
  },
  {
   "cell_type": "code",
   "execution_count": 51,
   "id": "389d49f7-5a10-46d2-a5a1-92db124ce14c",
   "metadata": {},
   "outputs": [
    {
     "data": {
      "text/plain": [
       "True"
      ]
     },
     "execution_count": 51,
     "metadata": {},
     "output_type": "execute_result"
    }
   ],
   "source": [
    "# True for any value of 'a' and 'b'\n",
    "a.union(b) == b.union(a)"
   ]
  },
  {
   "cell_type": "code",
   "execution_count": 52,
   "id": "6d94c720-0fdb-4651-b884-3ace55e65e33",
   "metadata": {},
   "outputs": [
    {
     "data": {
      "text/plain": [
       "True"
      ]
     },
     "execution_count": 52,
     "metadata": {},
     "output_type": "execute_result"
    }
   ],
   "source": [
    "a = {1, 2, 3}\n",
    "b = {3, 4, 5}\n",
    "\n",
    "a.intersection(b) == {3}"
   ]
  },
  {
   "cell_type": "code",
   "execution_count": 53,
   "id": "dcfac985-0c04-4222-988f-e65ef59ded8b",
   "metadata": {},
   "outputs": [
    {
     "data": {
      "text/plain": [
       "True"
      ]
     },
     "execution_count": 53,
     "metadata": {},
     "output_type": "execute_result"
    }
   ],
   "source": [
    "a & b == {3}"
   ]
  },
  {
   "cell_type": "code",
   "execution_count": 55,
   "id": "577e7d58-39e7-46d0-8198-b41fa1a1a929",
   "metadata": {},
   "outputs": [
    {
     "data": {
      "text/plain": [
       "True"
      ]
     },
     "execution_count": 55,
     "metadata": {},
     "output_type": "execute_result"
    }
   ],
   "source": [
    "a | b == {1, 2, 3, 4, 5}"
   ]
  },
  {
   "cell_type": "code",
   "execution_count": 57,
   "id": "81a8b304-003d-4572-9823-f99bc7179cee",
   "metadata": {},
   "outputs": [
    {
     "data": {
      "text/plain": [
       "{1, 2}"
      ]
     },
     "execution_count": 57,
     "metadata": {},
     "output_type": "execute_result"
    }
   ],
   "source": [
    "a = {1, 2, 3}\n",
    "b = {3, 4, 5}\n",
    "\n",
    "a.difference(b)"
   ]
  },
  {
   "cell_type": "code",
   "execution_count": 58,
   "id": "8a8cd778-c6eb-4659-8b91-54823b496af1",
   "metadata": {},
   "outputs": [
    {
     "data": {
      "text/plain": [
       "{1, 2}"
      ]
     },
     "execution_count": 58,
     "metadata": {},
     "output_type": "execute_result"
    }
   ],
   "source": [
    "a - b"
   ]
  },
  {
   "cell_type": "code",
   "execution_count": 59,
   "id": "0019de7c-411f-4698-b1c7-e9822420bec2",
   "metadata": {},
   "outputs": [
    {
     "data": {
      "text/plain": [
       "True"
      ]
     },
     "execution_count": 59,
     "metadata": {},
     "output_type": "execute_result"
    }
   ],
   "source": [
    "a = {1, 2, 3}\n",
    "b = {3, 4, 5}\n",
    "\n",
    "a.symmetric_difference(b) == (a.union(b)).difference(a.intersection(b))"
   ]
  },
  {
   "cell_type": "code",
   "execution_count": 60,
   "id": "be0fbf04-c36a-48aa-97e0-9f77fce0960f",
   "metadata": {},
   "outputs": [
    {
     "data": {
      "text/plain": [
       "True"
      ]
     },
     "execution_count": 60,
     "metadata": {},
     "output_type": "execute_result"
    }
   ],
   "source": [
    "a ^ b == (a | b) - (a & b)"
   ]
  },
  {
   "cell_type": "markdown",
   "id": "ffe1b97f-efe3-4d2a-bfa7-3bb35661abf7",
   "metadata": {},
   "source": [
    "## Tuples"
   ]
  },
  {
   "cell_type": "code",
   "execution_count": 62,
   "id": "863ec6c1-8cd5-40e5-97c5-f6ab7cb2add9",
   "metadata": {},
   "outputs": [
    {
     "ename": "TypeError",
     "evalue": "'tuple' object does not support item assignment",
     "output_type": "error",
     "traceback": [
      "\u001b[31m---------------------------------------------------------------------------\u001b[39m",
      "\u001b[31mTypeError\u001b[39m                                 Traceback (most recent call last)",
      "\u001b[36mCell\u001b[39m\u001b[36m \u001b[39m\u001b[32mIn[62]\u001b[39m\u001b[32m, line 3\u001b[39m\n\u001b[32m      1\u001b[39m my_tuple = (\u001b[32m1\u001b[39m, \u001b[32m2\u001b[39m, \u001b[32m3\u001b[39m)\n\u001b[32m      2\u001b[39m \u001b[38;5;66;03m# This raises an exception\u001b[39;00m\n\u001b[32m----> \u001b[39m\u001b[32m3\u001b[39m my_tuple[\u001b[32m0\u001b[39m] = \u001b[32m4\u001b[39m\n",
      "\u001b[31mTypeError\u001b[39m: 'tuple' object does not support item assignment"
     ]
    }
   ],
   "source": [
    "my_tuple = (1, 2, 3)\n",
    "# This raises an exception\n",
    "my_tuple[0] = 4"
   ]
  },
  {
   "cell_type": "code",
   "execution_count": 63,
   "id": "0e03de18-ded2-4be4-9f1b-d30373965a98",
   "metadata": {},
   "outputs": [
    {
     "name": "stdout",
     "output_type": "stream",
     "text": [
      "key: apple, value: A red fruit\n",
      "key: banana, value: A yellow fruit\n",
      "key: cantaloupe, value: A beige melon\n"
     ]
    }
   ],
   "source": [
    "my_dictionary = {\n",
    "    'apple': 'A red fruit',\n",
    "    'banana': 'A yellow fruit',\n",
    "    'cantaloupe': 'A beige melon'\n",
    "}\n",
    "\n",
    "for item in my_dictionary.items():\n",
    "    print(f'key: {item[0]}, value: {item[1]}')"
   ]
  },
  {
   "cell_type": "code",
   "execution_count": 65,
   "id": "39893757-178f-4b5c-a8f0-166cb8b346e0",
   "metadata": {},
   "outputs": [
    {
     "name": "stdout",
     "output_type": "stream",
     "text": [
      "<class 'tuple'>\n",
      "<class 'tuple'>\n",
      "<class 'tuple'>\n"
     ]
    }
   ],
   "source": [
    "for item in my_dictionary.items():\n",
    "    print(type(item))"
   ]
  },
  {
   "cell_type": "code",
   "execution_count": 66,
   "id": "683e48d4-4e21-48c8-bf38-198d42dbb45e",
   "metadata": {},
   "outputs": [],
   "source": [
    "a, b, c = 1, 2, 3"
   ]
  },
  {
   "cell_type": "code",
   "execution_count": 67,
   "id": "b39a2e03-4b1c-4fa3-9033-e596cb97cbec",
   "metadata": {},
   "outputs": [],
   "source": [
    "a = 1, 2, 3"
   ]
  },
  {
   "cell_type": "code",
   "execution_count": 68,
   "id": "a2522bbb-4b3c-4bc7-9413-6c469f641616",
   "metadata": {},
   "outputs": [
    {
     "data": {
      "text/plain": [
       "tuple"
      ]
     },
     "execution_count": 68,
     "metadata": {},
     "output_type": "execute_result"
    }
   ],
   "source": [
    "type(a)"
   ]
  },
  {
   "cell_type": "code",
   "execution_count": 69,
   "id": "e5396bf1-9f70-452c-ad19-7606eef41577",
   "metadata": {},
   "outputs": [],
   "source": [
    "a = (2 + 3) * 3"
   ]
  },
  {
   "cell_type": "code",
   "execution_count": 70,
   "id": "9c16d79e-666f-4ed0-9b3f-fce9bbb4e6f1",
   "metadata": {},
   "outputs": [],
   "source": [
    "a = (3)"
   ]
  },
  {
   "cell_type": "code",
   "execution_count": 71,
   "id": "9f465f9c-9902-4474-a7a0-37a1374f1335",
   "metadata": {},
   "outputs": [
    {
     "name": "stdout",
     "output_type": "stream",
     "text": [
      "<class 'int'>\n"
     ]
    }
   ],
   "source": [
    "print(type(a))"
   ]
  },
  {
   "cell_type": "code",
   "execution_count": 72,
   "id": "853c4fbf-0728-46d2-9a96-e568ecbb86a4",
   "metadata": {},
   "outputs": [],
   "source": [
    "a = (3,)"
   ]
  },
  {
   "cell_type": "code",
   "execution_count": 73,
   "id": "3b994733-9fe6-4169-a116-eba779f4f8a1",
   "metadata": {},
   "outputs": [
    {
     "data": {
      "text/plain": [
       "tuple"
      ]
     },
     "execution_count": 73,
     "metadata": {},
     "output_type": "execute_result"
    }
   ],
   "source": [
    "type(a)"
   ]
  },
  {
   "cell_type": "markdown",
   "id": "43eae87b-8c07-44b3-92a0-e46183888693",
   "metadata": {},
   "source": [
    "## Exercises"
   ]
  },
  {
   "cell_type": "markdown",
   "id": "c3311cc2-dc75-4088-a55d-3b6990021af6",
   "metadata": {},
   "source": [
    "### 1. \n",
    "Without writing or running any code (unless you really want to), determine the resulting set\n",
    "from each of these lines:\n",
    "\n",
    "`{'a', 'm'}.union({'p', 'm'})`\n",
    "\n",
    "`{'a', 'm'}.intersection({'p', 'm'})`\n",
    "\n",
    "`{'a', 'm'}.difference({'p', 'm'})`\n",
    "\n",
    "`{'a', 'm'}.symmetric_difference({'p', 'm'})`"
   ]
  },
  {
   "cell_type": "markdown",
   "id": "cade647d-6dd1-4a7d-b134-4d50dd05f2a1",
   "metadata": {},
   "source": [
    "### 2. \n",
    "Write a function that converts a set of lowercase words into a dictionary that contains the\n",
    "original lowercase word as a key, with the uppercase version of the word as a value."
   ]
  },
  {
   "cell_type": "code",
   "execution_count": null,
   "id": "07b01f34-cfd6-4e92-8be7-37a39dba47b4",
   "metadata": {},
   "outputs": [],
   "source": []
  },
  {
   "cell_type": "markdown",
   "id": "23f3bcfa-60a8-43d7-94d3-da49e0c4a4f2",
   "metadata": {},
   "source": [
    "### 3. \n",
    "Using the excerpt from the “Dead Parrot” sketch in Chapter 5 (or some other piece of text that\n",
    "you prefer), create a dictionary where the keys are words in that text and the value is how many\n",
    "times that word appears.\n",
    "\n",
    "Be careful: Capitalized words that start a sentence should be counted as the same word as their\n",
    "lowercase version. In addition, you will want to ignore punctuation (such as commas and periods)\n",
    "that might cause words to be incorrectly counted. The string `'pining,'` is simply the word\n",
    "`'pining'`—not a unique word that ends in a comma. Consider using the replace or strip\n",
    "methods for this.\n",
    "\n"
   ]
  },
  {
   "cell_type": "code",
   "execution_count": null,
   "id": "a93209f0-8c8d-4fee-a54b-63fe691f796f",
   "metadata": {},
   "outputs": [],
   "source": []
  },
  {
   "cell_type": "markdown",
   "id": "d3fa1d8e-b485-41ef-8e70-8a084206270d",
   "metadata": {},
   "source": [
    "### 4. \n",
    "\n",
    "Write a function that takes, as its argument, a string, and returns a dictionary containing the\n",
    "first character of the string as its only key and its value is another dictionary with the second\n",
    "character as its key, pointing to another dictionary containing the third character as its key,\n",
    "and so forth.\n",
    "This is a data structure that is difficult to describe but easier to explain using examples. If the\n",
    "argument is the word 'ant', the returned dictionary is:\n",
    "\n",
    "`{'a': {'n': {'t': None}}}`\n",
    "\n",
    "If the argument is the word 'alice', the returned dictionary is:\n",
    "\n",
    "`{'a': {'l': {'i': {'c': {'e': None}}}}}`\n",
    "\n",
    "The value of the innermost dictionary is always None."
   ]
  },
  {
   "cell_type": "code",
   "execution_count": null,
   "id": "fde28d66-1522-4130-9c56-2470cef62669",
   "metadata": {},
   "outputs": [],
   "source": []
  },
  {
   "cell_type": "markdown",
   "id": "43d9cc3c-38f8-4af6-900a-04a3aa73c631",
   "metadata": {},
   "source": [
    "### 5.\n",
    "\n",
    "Write a function that takes, as its argument, a list of lowercase words, and returns a data\n",
    "structure of nested dictionaries similar to the data structure returned in question 4, but for\n",
    "multiple words.\n",
    "Unlike the previous data structure, these dictionaries can contain multiple keys, if the multiple\n",
    "words contain multiple letters that go in that position.\n",
    "That is, if the list of words is this:\n",
    "['ant', 'and', 'act']\n",
    "the nested dictionaries will look like this:\n",
    "\n",
    "`\n",
    "{\n",
    "    'a': {\n",
    "        'n': {\n",
    "            't': None,\n",
    "            'd': None\n",
    "        },\n",
    "    'c': {\n",
    "        't': None\n",
    "        }\n",
    "    }\n",
    "}\n",
    "`\n",
    "Test your function out with multiple word lists to ensure that it’s working correctly."
   ]
  },
  {
   "cell_type": "code",
   "execution_count": null,
   "id": "199100d2-5112-4045-8566-8153a5666afa",
   "metadata": {},
   "outputs": [],
   "source": []
  },
  {
   "cell_type": "markdown",
   "id": "90d9d3fe-a79d-45e7-a473-a50f84a70648",
   "metadata": {},
   "source": [
    "### 6\n",
    "\n",
    "Modify your function from question 5 to add an indicator when the end of a word is reached.\n",
    "This indicator will consist of the dictionary key 'STOP' pointing to the Boolean value True.\n",
    "If a dictionary contains 'STOP': True in it, you will know that a valid end of a full word has\n",
    "been reached.\n",
    "For example, if we take the list of words in the previous problem and add the word 'ante' to\n",
    "it, we get the dictionary:\n",
    "{\n",
    "'a': {\n",
    "'n': {\n",
    "'t': {\n",
    "'STOP': True,\n",
    "'e': {'STOP': True}\n",
    "},\n",
    "'d': {'STOP': True}\n",
    "},\n",
    "'c': {\n",
    "'t': {'STOP': True}\n",
    "}\n",
    "}\n",
    "} "
   ]
  },
  {
   "cell_type": "code",
   "execution_count": null,
   "id": "60d4345a-c457-4003-bd54-d4c13fe78af5",
   "metadata": {},
   "outputs": [],
   "source": []
  }
 ],
 "metadata": {
  "kernelspec": {
   "display_name": "Python 3 (ipykernel)",
   "language": "python",
   "name": "python3"
  },
  "language_info": {
   "codemirror_mode": {
    "name": "ipython",
    "version": 3
   },
   "file_extension": ".py",
   "mimetype": "text/x-python",
   "name": "python",
   "nbconvert_exporter": "python",
   "pygments_lexer": "ipython3",
   "version": "3.12.2"
  }
 },
 "nbformat": 4,
 "nbformat_minor": 5
}
