{
 "cells": [
  {
   "cell_type": "markdown",
   "id": "0f82648a-b948-44d6-bcd2-e96fad20bfdd",
   "metadata": {},
   "source": [
    "## Dictionaries"
   ]
  },
  {
   "cell_type": "code",
   "execution_count": 27,
   "id": "4665850a-11db-463a-be93-e34f0125a236",
   "metadata": {},
   "outputs": [],
   "source": [
    "my_dictionary = {\n",
    "    'apple': 'A red fruit',\n",
    "    'banana': 'A yellow fruit',\n",
    "    'cantaloupe': 'A beige melon'\n",
    "}"
   ]
  },
  {
   "cell_type": "code",
   "execution_count": 2,
   "id": "d1b99149-10ed-4a98-9495-65f9a6890869",
   "metadata": {},
   "outputs": [
    {
     "data": {
      "text/plain": [
       "dict_keys(['apple', 'banana', 'cantaloupe'])"
      ]
     },
     "execution_count": 2,
     "metadata": {},
     "output_type": "execute_result"
    }
   ],
   "source": [
    "my_dictionary.keys()"
   ]
  },
  {
   "cell_type": "code",
   "execution_count": 3,
   "id": "62b7321b-f564-4f56-b2da-62efc744cb24",
   "metadata": {},
   "outputs": [
    {
     "data": {
      "text/plain": [
       "dict_keys"
      ]
     },
     "execution_count": 3,
     "metadata": {},
     "output_type": "execute_result"
    }
   ],
   "source": [
    "type(my_dictionary.keys())"
   ]
  },
  {
   "cell_type": "code",
   "execution_count": 6,
   "id": "3a7ee7ea-dd82-4fdb-b977-6b79bc2d1bd4",
   "metadata": {},
   "outputs": [
    {
     "name": "stdout",
     "output_type": "stream",
     "text": [
      "apple\n",
      "banana\n",
      "cantaloupe\n"
     ]
    }
   ],
   "source": [
    "for key in my_dictionary.keys():\n",
    "    print(key)"
   ]
  },
  {
   "cell_type": "code",
   "execution_count": 7,
   "id": "0b8bdff9-d816-4767-9d45-38589b3bb6b7",
   "metadata": {},
   "outputs": [
    {
     "ename": "TypeError",
     "evalue": "'dict_keys' object is not subscriptable",
     "output_type": "error",
     "traceback": [
      "\u001b[0;31m---------------------------------------------------------------------------\u001b[0m",
      "\u001b[0;31mTypeError\u001b[0m                                 Traceback (most recent call last)",
      "Cell \u001b[0;32mIn[7], line 1\u001b[0m\n\u001b[0;32m----> 1\u001b[0m \u001b[43mmy_dictionary\u001b[49m\u001b[38;5;241;43m.\u001b[39;49m\u001b[43mkeys\u001b[49m\u001b[43m(\u001b[49m\u001b[43m)\u001b[49m\u001b[43m[\u001b[49m\u001b[38;5;241;43m0\u001b[39;49m\u001b[43m]\u001b[49m\n",
      "\u001b[0;31mTypeError\u001b[0m: 'dict_keys' object is not subscriptable"
     ]
    }
   ],
   "source": [
    "my_dictionary.keys()[0]"
   ]
  },
  {
   "cell_type": "code",
   "execution_count": 8,
   "id": "4706137d-197c-4dbe-8f2a-875cb64ee1b7",
   "metadata": {},
   "outputs": [
    {
     "data": {
      "text/plain": [
       "dict_values(['A red fruit', 'A yellow fruit', 'A beige melon'])"
      ]
     },
     "execution_count": 8,
     "metadata": {},
     "output_type": "execute_result"
    }
   ],
   "source": [
    "my_dictionary.values()"
   ]
  },
  {
   "cell_type": "code",
   "execution_count": 9,
   "id": "bc819491-d77f-493f-82ee-3dc31737773f",
   "metadata": {},
   "outputs": [
    {
     "data": {
      "text/plain": [
       "dict_items([('apple', 'A red fruit'), ('banana', 'A yellow fruit'), ('cantaloupe', 'A beige melon')])"
      ]
     },
     "execution_count": 9,
     "metadata": {},
     "output_type": "execute_result"
    }
   ],
   "source": [
    "my_dictionary.items()"
   ]
  },
  {
   "cell_type": "code",
   "execution_count": 10,
   "id": "24670a7b-8939-4732-83b6-9eac76b42f2d",
   "metadata": {},
   "outputs": [
    {
     "name": "stdout",
     "output_type": "stream",
     "text": [
      "key: apple, value: A red fruit\n",
      "key: banana, value: A yellow fruit\n",
      "key: cantaloupe, value: A beige melon\n"
     ]
    }
   ],
   "source": [
    "for item in my_dictionary.items():\n",
    "    print(f'key: {item[0]}, value: {item[1]}')"
   ]
  },
  {
   "cell_type": "code",
   "execution_count": null,
   "id": "74badeaa-7b13-4b63-a3ef-7d457d5c3e4a",
   "metadata": {},
   "outputs": [],
   "source": [
    "for key, value in my_dictionary.items():\n",
    "    print(f'key: {key}, value: {value}')"
   ]
  },
  {
   "cell_type": "code",
   "execution_count": 15,
   "id": "d668a7d7-2c21-43de-964c-068d0964a823",
   "metadata": {},
   "outputs": [],
   "source": [
    "a, b, c = ['a', 'b', 'c']"
   ]
  },
  {
   "cell_type": "code",
   "execution_count": 16,
   "id": "bac355f9-0b64-4a58-9f65-b3dd58968402",
   "metadata": {},
   "outputs": [
    {
     "ename": "ValueError",
     "evalue": "too many values to unpack (expected 3)",
     "output_type": "error",
     "traceback": [
      "\u001b[0;31m---------------------------------------------------------------------------\u001b[0m",
      "\u001b[0;31mValueError\u001b[0m                                Traceback (most recent call last)",
      "Cell \u001b[0;32mIn[16], line 1\u001b[0m\n\u001b[0;32m----> 1\u001b[0m a, b, c \u001b[38;5;241m=\u001b[39m [\u001b[38;5;124m'\u001b[39m\u001b[38;5;124ma\u001b[39m\u001b[38;5;124m'\u001b[39m, \u001b[38;5;124m'\u001b[39m\u001b[38;5;124mb\u001b[39m\u001b[38;5;124m'\u001b[39m, \u001b[38;5;124m'\u001b[39m\u001b[38;5;124mc\u001b[39m\u001b[38;5;124m'\u001b[39m, \u001b[38;5;124m'\u001b[39m\u001b[38;5;124md\u001b[39m\u001b[38;5;124m'\u001b[39m]\n",
      "\u001b[0;31mValueError\u001b[0m: too many values to unpack (expected 3)"
     ]
    }
   ],
   "source": [
    "a, b, c = ['a', 'b', 'c', 'd']"
   ]
  },
  {
   "cell_type": "code",
   "execution_count": 17,
   "id": "14e70e36-b0a9-452e-923b-d9b5029dacbd",
   "metadata": {},
   "outputs": [
    {
     "name": "stdout",
     "output_type": "stream",
     "text": [
      "key: apple, value: A red fruit\n",
      "key: banana, value: A yellow fruit\n",
      "key: cantaloupe, value: A beige melon\n"
     ]
    }
   ],
   "source": [
    "for item in my_dictionary.items():\n",
    "    key, value = item\n",
    "    print(f'key: {key}, value: {value}')"
   ]
  },
  {
   "cell_type": "code",
   "execution_count": 13,
   "id": "eb5b2a8a-fd83-4b88-b517-8db661e299b8",
   "metadata": {},
   "outputs": [],
   "source": [
    "my_set = {1,2,3}"
   ]
  },
  {
   "cell_type": "code",
   "execution_count": 14,
   "id": "0c76d954-a0a2-44b0-8668-8c35e85bacfb",
   "metadata": {},
   "outputs": [
    {
     "name": "stdout",
     "output_type": "stream",
     "text": [
      "1\n",
      "2\n",
      "3\n"
     ]
    }
   ],
   "source": [
    "for item in my_set:\n",
    "    print(item)"
   ]
  },
  {
   "cell_type": "code",
   "execution_count": 18,
   "id": "01f79dcb-51c8-4969-ab50-d1658d2b4136",
   "metadata": {},
   "outputs": [
    {
     "data": {
      "text/plain": [
       "'A red fruit'"
      ]
     },
     "execution_count": 18,
     "metadata": {},
     "output_type": "execute_result"
    }
   ],
   "source": [
    "my_dictionary['apple']"
   ]
  },
  {
   "cell_type": "code",
   "execution_count": 19,
   "id": "233ceecb-645b-413a-b34a-ebd017aa9e2a",
   "metadata": {},
   "outputs": [
    {
     "ename": "KeyError",
     "evalue": "'dragonfruit'",
     "output_type": "error",
     "traceback": [
      "\u001b[0;31m---------------------------------------------------------------------------\u001b[0m",
      "\u001b[0;31mKeyError\u001b[0m                                  Traceback (most recent call last)",
      "Cell \u001b[0;32mIn[19], line 1\u001b[0m\n\u001b[0;32m----> 1\u001b[0m \u001b[43mmy_dictionary\u001b[49m\u001b[43m[\u001b[49m\u001b[38;5;124;43m'\u001b[39;49m\u001b[38;5;124;43mdragonfruit\u001b[39;49m\u001b[38;5;124;43m'\u001b[39;49m\u001b[43m]\u001b[49m\n",
      "\u001b[0;31mKeyError\u001b[0m: 'dragonfruit'"
     ]
    }
   ],
   "source": [
    "my_dictionary['dragonfruit']"
   ]
  },
  {
   "cell_type": "code",
   "execution_count": 21,
   "id": "8c1dc839-55b5-409d-83b3-3323aed5de06",
   "metadata": {},
   "outputs": [
    {
     "name": "stdout",
     "output_type": "stream",
     "text": [
      "None\n"
     ]
    }
   ],
   "source": [
    "my_dictionary.get('dragonfruit', 'Missing definition')"
   ]
  },
  {
   "cell_type": "code",
   "execution_count": 28,
   "id": "d989ef56-a781-4166-af3c-848983729235",
   "metadata": {},
   "outputs": [],
   "source": [
    "my_dictionary['apple'] = 'A red or green fruit'\n",
    "my_dictionary['dragonfruit'] = 'Comes from a cactus'"
   ]
  },
  {
   "cell_type": "code",
   "execution_count": 31,
   "id": "32677463-0d41-428e-b5c6-ad2252949741",
   "metadata": {},
   "outputs": [],
   "source": [
    "additional_fruits = {\n",
    "    'elderberry': 'Good for jam',\n",
    "    'fig': 'Pollinated by wasps',\n",
    "    'grape': 'Mostly grown for wine'\n",
    "}"
   ]
  },
  {
   "cell_type": "code",
   "execution_count": 33,
   "id": "f36e6c45-66dd-4827-bd0a-9a2626d38007",
   "metadata": {},
   "outputs": [
    {
     "name": "stdout",
     "output_type": "stream",
     "text": [
      "{'apple': 'A red or green fruit', 'banana': 'A yellow fruit', 'cantaloupe': 'A beige melon', 'dragonfruit': 'Comes from a cactus', 'elderberry': 'Good for jam', 'fig': 'Pollinated by wasps', 'grape': 'Mostly grown for wine'}\n"
     ]
    }
   ],
   "source": [
    "my_dictionary.update(additional_fruits)\n",
    "print(my_dictionary)"
   ]
  },
  {
   "cell_type": "code",
   "execution_count": 34,
   "id": "f417ae16-3e2a-47f4-90ab-94700ca7c62f",
   "metadata": {},
   "outputs": [
    {
     "data": {
      "text/plain": [
       "{'apple': 'A red or green fruit',\n",
       " 'banana': 'A yellow fruit',\n",
       " 'cantaloupe': 'A beige melon',\n",
       " 'dragonfruit': 'Comes from a cactus',\n",
       " 'elderberry': 'Good for jam',\n",
       " 'fig': 'Pollinated by wasps',\n",
       " 'grape': 'Mostly grown for wine'}"
      ]
     },
     "execution_count": 34,
     "metadata": {},
     "output_type": "execute_result"
    }
   ],
   "source": [
    "my_dictionary"
   ]
  },
  {
   "cell_type": "code",
   "execution_count": 35,
   "id": "6c763aac-4394-49d3-a434-750a13297d6d",
   "metadata": {},
   "outputs": [
    {
     "name": "stdout",
     "output_type": "stream",
     "text": [
      "Likely originated from New Guinea\n"
     ]
    }
   ],
   "source": [
    "additional_fruits = {'banana': 'Likely originated from New Guinea'}\n",
    "my_dictionary.update(additional_fruits)\n",
    "print(my_dictionary['banana'])"
   ]
  },
  {
   "cell_type": "markdown",
   "id": "e7ae5709-5a8f-430a-8bda-604817f97978",
   "metadata": {},
   "source": [
    "## Dictionary Comprehension"
   ]
  },
  {
   "cell_type": "code",
   "execution_count": 40,
   "id": "9892140c-b0b3-4fad-b99b-8209bd17ede3",
   "metadata": {},
   "outputs": [],
   "source": [
    "names = ['Alice', 'Bob', 'Charlie']\n",
    "names_dict = {n[0]: n for n in names}\n"
   ]
  },
  {
   "cell_type": "code",
   "execution_count": 41,
   "id": "9422917f-ebf1-4d47-bec3-eaaec552e8cf",
   "metadata": {},
   "outputs": [
    {
     "data": {
      "text/plain": [
       "{'A': 'Alice', 'B': 'Bob', 'C': 'Charlie'}"
      ]
     },
     "execution_count": 41,
     "metadata": {},
     "output_type": "execute_result"
    }
   ],
   "source": [
    "names_dict"
   ]
  },
  {
   "cell_type": "code",
   "execution_count": 42,
   "id": "5222a445-1d25-4f15-86a3-19f200ab9cd5",
   "metadata": {},
   "outputs": [],
   "source": [
    "doubles = {n: n*2 for n in range(0, 100)}"
   ]
  },
  {
   "cell_type": "code",
   "execution_count": null,
   "id": "cfa433b9-6b20-456f-b06f-61775b95c942",
   "metadata": {},
   "outputs": [],
   "source": [
    "doubles = {n: n*2 for n in range(0, 100)}"
   ]
  },
  {
   "cell_type": "code",
   "execution_count": 46,
   "id": "4a79c697-9f40-42bb-b204-02822c9d48f4",
   "metadata": {},
   "outputs": [],
   "source": [
    "doubles = {n: n*2 for n in range(0, 100) if n % 10 == 0}"
   ]
  },
  {
   "cell_type": "code",
   "execution_count": 47,
   "id": "acbb9e07-6a7d-49cf-8129-f43c41f3807b",
   "metadata": {},
   "outputs": [
    {
     "data": {
      "text/plain": [
       "{0: 0,\n",
       " 10: 20,\n",
       " 20: 40,\n",
       " 30: 60,\n",
       " 40: 80,\n",
       " 50: 100,\n",
       " 60: 120,\n",
       " 70: 140,\n",
       " 80: 160,\n",
       " 90: 180}"
      ]
     },
     "execution_count": 47,
     "metadata": {},
     "output_type": "execute_result"
    }
   ],
   "source": [
    "doubles"
   ]
  },
  {
   "cell_type": "code",
   "execution_count": null,
   "id": "b65cf7b4-31b4-40e8-bdb1-969cb8e07354",
   "metadata": {},
   "outputs": [],
   "source": [
    "ten_elements = [0, 1, 2, 3, 4, 5, 6, 7, 8, 9]\n",
    "new_list = [any_function(e) for e in ten_elements]"
   ]
  },
  {
   "cell_type": "code",
   "execution_count": 48,
   "id": "6b18289b-9c07-4a6d-baa0-41ce6b686bf2",
   "metadata": {},
   "outputs": [],
   "source": [
    "def any_key_function(e):\n",
    "    return e\n",
    "\n",
    "def any_val_function(e):\n",
    "    return e"
   ]
  },
  {
   "cell_type": "code",
   "execution_count": 49,
   "id": "014833d1-25cc-4173-a857-bfc886070151",
   "metadata": {},
   "outputs": [],
   "source": [
    "ten_elements = [0, 1, 2, 3, 4, 5, 6, 7, 8, 9]\n",
    "new_dict = {\n",
    "    any_key_function(e): any_val_function(e)\n",
    "    for e in ten_elements\n",
    "}"
   ]
  },
  {
   "cell_type": "code",
   "execution_count": 50,
   "id": "b2488bb7-f4a0-4795-a013-7e6883c7fc72",
   "metadata": {},
   "outputs": [
    {
     "data": {
      "text/plain": [
       "{0: 0, 1: 1, 2: 2, 3: 3, 4: 4, 5: 5, 6: 6, 7: 7, 8: 8, 9: 9}"
      ]
     },
     "execution_count": 50,
     "metadata": {},
     "output_type": "execute_result"
    }
   ],
   "source": [
    "new_dict"
   ]
  },
  {
   "cell_type": "code",
   "execution_count": 51,
   "id": "3b92287c-e6b7-4a14-88c7-85da1279f67a",
   "metadata": {},
   "outputs": [],
   "source": [
    "def any_key_function(e):\n",
    "    return e % 2\n",
    "\n",
    "ten_elements = [0, 1, 2, 3, 4, 5, 6, 7, 8, 9]\n",
    "new_dict = {\n",
    "    any_key_function(e): any_val_function(e)\n",
    "    for e in ten_elements\n",
    "}"
   ]
  },
  {
   "cell_type": "code",
   "execution_count": 52,
   "id": "c15c0868-c006-4092-9cdc-a385d66916d4",
   "metadata": {},
   "outputs": [
    {
     "data": {
      "text/plain": [
       "{0: 8, 1: 9}"
      ]
     },
     "execution_count": 52,
     "metadata": {},
     "output_type": "execute_result"
    }
   ],
   "source": [
    "new_dict"
   ]
  },
  {
   "cell_type": "markdown",
   "id": "57163b68-9543-4250-bc6f-59e921576d14",
   "metadata": {},
   "source": [
    "## Reducing to Dictionaries"
   ]
  },
  {
   "cell_type": "code",
   "execution_count": 3,
   "id": "f8a78f57-e8f2-4cad-aa32-ffa687c78981",
   "metadata": {},
   "outputs": [],
   "source": [
    "chars = ['a', 'b', 'a', 'c', 'a', 'a', 'b']"
   ]
  },
  {
   "cell_type": "code",
   "execution_count": 8,
   "id": "89defe8f-6d2b-4cd1-ab0a-047e355c1289",
   "metadata": {},
   "outputs": [
    {
     "name": "stdout",
     "output_type": "stream",
     "text": [
      "{'a': 4, 'b': 2, 'c': 1}\n"
     ]
    }
   ],
   "source": [
    "chars_count = {}\n",
    "for char in chars:\n",
    "    if char not in chars_count:\n",
    "        chars_count[char] = 0\n",
    "    chars_count[char] += 1\n",
    "\n",
    "print(chars_count)"
   ]
  },
  {
   "cell_type": "code",
   "execution_count": 12,
   "id": "3aa41876-b55e-444a-8050-a12e9df8ca8e",
   "metadata": {},
   "outputs": [
    {
     "name": "stdout",
     "output_type": "stream",
     "text": [
      "{'a': 4, 'b': 2, 'c': 1}\n"
     ]
    }
   ],
   "source": [
    "chars_count = {}\n",
    "for char in chars:\n",
    "    chars_count[char] = chars_count.get(char, 0) + 1\n",
    "print(chars_count)"
   ]
  },
  {
   "cell_type": "code",
   "execution_count": 14,
   "id": "d526fdd9-0349-44f0-bcd2-d88b69db3ee7",
   "metadata": {},
   "outputs": [],
   "source": [
    "from collections import defaultdict"
   ]
  },
  {
   "cell_type": "code",
   "execution_count": 15,
   "id": "dec916dc-5e73-46fa-82ef-0b3885b34ea1",
   "metadata": {},
   "outputs": [],
   "source": []
  },
  {
   "cell_type": "code",
   "execution_count": 22,
   "id": "986e7469-8921-4b9a-bf1a-7bcbfad29d60",
   "metadata": {},
   "outputs": [
    {
     "name": "stdout",
     "output_type": "stream",
     "text": [
      "defaultdict(<class 'int'>, {'a': 4, 'b': 2, 'c': 1})\n"
     ]
    }
   ],
   "source": [
    "chars_count = defaultdict(int)\n",
    "for char in chars:\n",
    "    chars_count[char] = chars_count[char] + 1\n",
    "print(chars_count)"
   ]
  },
  {
   "cell_type": "code",
   "execution_count": 17,
   "id": "404ada74-1c3b-43d5-9eac-0245b039231a",
   "metadata": {},
   "outputs": [
    {
     "data": {
      "text/plain": [
       "0"
      ]
     },
     "execution_count": 17,
     "metadata": {},
     "output_type": "execute_result"
    }
   ],
   "source": [
    "int()"
   ]
  },
  {
   "cell_type": "code",
   "execution_count": 18,
   "id": "9bd1cff2-9bd4-4b55-9465-07e027a653d5",
   "metadata": {},
   "outputs": [
    {
     "ename": "KeyError",
     "evalue": "'foo'",
     "output_type": "error",
     "traceback": [
      "\u001b[0;31m---------------------------------------------------------------------------\u001b[0m",
      "\u001b[0;31mKeyError\u001b[0m                                  Traceback (most recent call last)",
      "Cell \u001b[0;32mIn[18], line 2\u001b[0m\n\u001b[1;32m      1\u001b[0m a \u001b[38;5;241m=\u001b[39m {}\n\u001b[0;32m----> 2\u001b[0m \u001b[43ma\u001b[49m\u001b[43m[\u001b[49m\u001b[38;5;124;43m'\u001b[39;49m\u001b[38;5;124;43mfoo\u001b[39;49m\u001b[38;5;124;43m'\u001b[39;49m\u001b[43m]\u001b[49m\n",
      "\u001b[0;31mKeyError\u001b[0m: 'foo'"
     ]
    }
   ],
   "source": [
    "a = {}\n",
    "a['foo']"
   ]
  },
  {
   "cell_type": "code",
   "execution_count": 21,
   "id": "d9940511-9569-46eb-9363-72a358efe89e",
   "metadata": {},
   "outputs": [
    {
     "name": "stdout",
     "output_type": "stream",
     "text": [
      "[]\n"
     ]
    }
   ],
   "source": [
    "dict_of_lists = defaultdict(list)\n",
    "print(dict_of_lists['new_key'])"
   ]
  },
  {
   "cell_type": "code",
   "execution_count": 28,
   "id": "24ac5fab-0533-4170-9eb0-87174bdfa280",
   "metadata": {},
   "outputs": [],
   "source": [
    "from functools import reduce"
   ]
  },
  {
   "cell_type": "code",
   "execution_count": 33,
   "id": "b5285517-3832-4111-9088-be13ac74d8e8",
   "metadata": {},
   "outputs": [
    {
     "data": {
      "text/plain": [
       "{'a': 4, 'b': 2, 'c': 1}"
      ]
     },
     "execution_count": 33,
     "metadata": {},
     "output_type": "execute_result"
    }
   ],
   "source": [
    "def increment_count(chars_count, char):\n",
    "    chars_count[char] = chars_count.get(char, 0) + 1\n",
    "    return chars_count\n",
    "\n",
    "reduce(increment_count, chars, {})\n"
   ]
  },
  {
   "cell_type": "code",
   "execution_count": 26,
   "id": "85a039ce-96f4-442b-a50c-a2adda8928db",
   "metadata": {},
   "outputs": [],
   "source": [
    "from collections import Counter"
   ]
  },
  {
   "cell_type": "code",
   "execution_count": 27,
   "id": "574abcd5-b333-4654-929d-f474cf9eaa15",
   "metadata": {},
   "outputs": [
    {
     "data": {
      "text/plain": [
       "Counter({'a': 4, 'b': 2, 'c': 1})"
      ]
     },
     "execution_count": 27,
     "metadata": {},
     "output_type": "execute_result"
    }
   ],
   "source": [
    "Counter(chars)"
   ]
  },
  {
   "cell_type": "markdown",
   "id": "e3a9cacd-e45f-44a5-841b-dd538b0c258d",
   "metadata": {},
   "source": [
    "## Sets"
   ]
  },
  {
   "cell_type": "code",
   "execution_count": 42,
   "id": "eb5577f2-02d0-4ed0-84c3-0054f6566fba",
   "metadata": {},
   "outputs": [
    {
     "data": {
      "text/plain": [
       "['a', 'd', 'b', 'c']"
      ]
     },
     "execution_count": 42,
     "metadata": {},
     "output_type": "execute_result"
    }
   ],
   "source": [
    "letters = ['d', 'd', 'a', 'a', 'b', 'c', 'c', 'c']\n",
    "letters = list(set(letters))\n",
    "letters"
   ]
  },
  {
   "cell_type": "code",
   "execution_count": 43,
   "id": "cf560fc7-d45c-47a5-b1f4-e8dac1d99e93",
   "metadata": {},
   "outputs": [
    {
     "data": {
      "text/plain": [
       "['a', 'd', 'b', 'c']"
      ]
     },
     "execution_count": 43,
     "metadata": {},
     "output_type": "execute_result"
    }
   ],
   "source": [
    "letters = ['a', 'a', 'b', 'c', 'c', 'c', 'd', 'd', ]\n",
    "letters = list(set(letters))\n",
    "letters"
   ]
  },
  {
   "cell_type": "code",
   "execution_count": 45,
   "id": "0b521ce1-7f8f-4eb1-b20e-10c5dcacee25",
   "metadata": {},
   "outputs": [
    {
     "data": {
      "text/plain": [
       "True"
      ]
     },
     "execution_count": 45,
     "metadata": {},
     "output_type": "execute_result"
    }
   ],
   "source": [
    "{1, 2} == {2, 1}"
   ]
  },
  {
   "cell_type": "code",
   "execution_count": 46,
   "id": "45449e53-5718-40f4-80ef-f95f62b4fa81",
   "metadata": {},
   "outputs": [
    {
     "data": {
      "text/plain": [
       "True"
      ]
     },
     "execution_count": 46,
     "metadata": {},
     "output_type": "execute_result"
    }
   ],
   "source": [
    "{1, 2, 1, 1} == {2, 1}"
   ]
  },
  {
   "cell_type": "code",
   "execution_count": 48,
   "id": "1c77bd37-80ca-434c-923b-9966267a0a88",
   "metadata": {},
   "outputs": [
    {
     "data": {
      "text/plain": [
       "False"
      ]
     },
     "execution_count": 48,
     "metadata": {},
     "output_type": "execute_result"
    }
   ],
   "source": [
    "{1, 2, 1, 1} == {2, 1, 3}"
   ]
  },
  {
   "cell_type": "code",
   "execution_count": 51,
   "id": "d17d40fe-b76e-4f19-9363-0c5cab926d5f",
   "metadata": {},
   "outputs": [
    {
     "data": {
      "text/plain": [
       "True"
      ]
     },
     "execution_count": 51,
     "metadata": {},
     "output_type": "execute_result"
    }
   ],
   "source": [
    "# union\n",
    "\n",
    "a = {1, 2, 3}\n",
    "b = {3, 4, 5}\n",
    "\n",
    "a.union(b) == {1, 2, 3, 4, 5}"
   ]
  },
  {
   "cell_type": "code",
   "execution_count": 52,
   "id": "8402341b-31ea-4dbc-839e-6f21b2e172a5",
   "metadata": {},
   "outputs": [
    {
     "data": {
      "text/plain": [
       "True"
      ]
     },
     "execution_count": 52,
     "metadata": {},
     "output_type": "execute_result"
    }
   ],
   "source": [
    "a | b == {1, 2, 3, 4, 5}"
   ]
  },
  {
   "cell_type": "code",
   "execution_count": 53,
   "id": "389d49f7-5a10-46d2-a5a1-92db124ce14c",
   "metadata": {},
   "outputs": [
    {
     "data": {
      "text/plain": [
       "True"
      ]
     },
     "execution_count": 53,
     "metadata": {},
     "output_type": "execute_result"
    }
   ],
   "source": [
    "# True for any value of 'a' and 'b'\n",
    "a.union(b) == b.union(a)"
   ]
  },
  {
   "cell_type": "code",
   "execution_count": 55,
   "id": "6d94c720-0fdb-4651-b884-3ace55e65e33",
   "metadata": {},
   "outputs": [
    {
     "data": {
      "text/plain": [
       "True"
      ]
     },
     "execution_count": 55,
     "metadata": {},
     "output_type": "execute_result"
    }
   ],
   "source": [
    "a = {1, 2, 3}\n",
    "b = {3, 4, 5}\n",
    "\n",
    "a.intersection(b) == {3}"
   ]
  },
  {
   "cell_type": "code",
   "execution_count": 57,
   "id": "dcfac985-0c04-4222-988f-e65ef59ded8b",
   "metadata": {},
   "outputs": [
    {
     "data": {
      "text/plain": [
       "True"
      ]
     },
     "execution_count": 57,
     "metadata": {},
     "output_type": "execute_result"
    }
   ],
   "source": [
    "a & b == {3}"
   ]
  },
  {
   "cell_type": "code",
   "execution_count": 59,
   "id": "1660d46c-07cf-4c8a-a0fa-cbee9032a948",
   "metadata": {},
   "outputs": [
    {
     "data": {
      "text/plain": [
       "True"
      ]
     },
     "execution_count": 59,
     "metadata": {},
     "output_type": "execute_result"
    }
   ],
   "source": [
    "True | False"
   ]
  },
  {
   "cell_type": "code",
   "execution_count": 65,
   "id": "2796c028-6e2c-4a9b-9611-dbe275a21a7d",
   "metadata": {},
   "outputs": [
    {
     "data": {
      "text/plain": [
       "{3, 4, 5}"
      ]
     },
     "execution_count": 65,
     "metadata": {},
     "output_type": "execute_result"
    }
   ],
   "source": [
    "a = {1, 2, 3}\n",
    "b = {3, 4, 5}\n",
    "\n",
    "a and b"
   ]
  },
  {
   "cell_type": "code",
   "execution_count": 66,
   "id": "768fd3f2-1541-4dbc-bb16-97fd37f75e8a",
   "metadata": {},
   "outputs": [
    {
     "data": {
      "text/plain": [
       "{3}"
      ]
     },
     "execution_count": 66,
     "metadata": {},
     "output_type": "execute_result"
    }
   ],
   "source": [
    "a & b"
   ]
  },
  {
   "cell_type": "code",
   "execution_count": null,
   "id": "57028af2-9989-476c-95a4-6bb10e9a73fb",
   "metadata": {},
   "outputs": [],
   "source": [
    "a = {1, 2, 3}\n",
    "b = {3, 4, 5}\n",
    "\n",
    "a and b"
   ]
  },
  {
   "cell_type": "code",
   "execution_count": 67,
   "id": "799fc7de-1825-4254-a27d-436f22559d77",
   "metadata": {},
   "outputs": [
    {
     "data": {
      "text/plain": [
       "{1, 2}"
      ]
     },
     "execution_count": 67,
     "metadata": {},
     "output_type": "execute_result"
    }
   ],
   "source": [
    "a = {1, 2, 3}\n",
    "b = {3, 4, 5}\n",
    "\n",
    "a.difference(b)"
   ]
  },
  {
   "cell_type": "code",
   "execution_count": 68,
   "id": "3dfeb03d-91e2-42f3-9eb0-eff63f13b952",
   "metadata": {},
   "outputs": [
    {
     "data": {
      "text/plain": [
       "{1, 2}"
      ]
     },
     "execution_count": 68,
     "metadata": {},
     "output_type": "execute_result"
    }
   ],
   "source": [
    "a - b"
   ]
  },
  {
   "cell_type": "code",
   "execution_count": 70,
   "id": "1165d3ae-5672-48c4-b47d-45a62c479534",
   "metadata": {},
   "outputs": [
    {
     "name": "stdout",
     "output_type": "stream",
     "text": [
      "a - b: {1, 2}\n",
      "b - a: {4, 5}\n"
     ]
    }
   ],
   "source": [
    "a = {1, 2, 3}\n",
    "b = {3, 4, 5}\n",
    "print(f'a - b: {a - b}')\n",
    "print(f'b - a: {b - a}')"
   ]
  },
  {
   "cell_type": "code",
   "execution_count": 71,
   "id": "0019de7c-411f-4698-b1c7-e9822420bec2",
   "metadata": {},
   "outputs": [
    {
     "data": {
      "text/plain": [
       "True"
      ]
     },
     "execution_count": 71,
     "metadata": {},
     "output_type": "execute_result"
    }
   ],
   "source": [
    "a = {1, 2, 3}\n",
    "b = {3, 4, 5}\n",
    "\n",
    "a.symmetric_difference(b) == (a.union(b)).difference(a.intersection(b))"
   ]
  },
  {
   "cell_type": "code",
   "execution_count": 72,
   "id": "be0fbf04-c36a-48aa-97e0-9f77fce0960f",
   "metadata": {},
   "outputs": [
    {
     "data": {
      "text/plain": [
       "True"
      ]
     },
     "execution_count": 72,
     "metadata": {},
     "output_type": "execute_result"
    }
   ],
   "source": [
    "a ^ b == (a | b) - (a & b)"
   ]
  },
  {
   "cell_type": "markdown",
   "id": "ffe1b97f-efe3-4d2a-bfa7-3bb35661abf7",
   "metadata": {},
   "source": [
    "## Tuples"
   ]
  },
  {
   "cell_type": "code",
   "execution_count": 63,
   "id": "d140fc87-4e33-40a9-9d84-04baedc2fa79",
   "metadata": {},
   "outputs": [
    {
     "name": "stdout",
     "output_type": "stream",
     "text": [
      "<class 'tuple'>\n"
     ]
    }
   ],
   "source": [
    "a = {'a': 'b'}\n",
    "for foo in a.items():\n",
    "    print(type(foo))"
   ]
  },
  {
   "cell_type": "code",
   "execution_count": 64,
   "id": "0e03de18-ded2-4be4-9f1b-d30373965a98",
   "metadata": {},
   "outputs": [
    {
     "name": "stdout",
     "output_type": "stream",
     "text": [
      "<class 'tuple'>\n",
      "<class 'tuple'>\n",
      "<class 'tuple'>\n"
     ]
    }
   ],
   "source": [
    "my_dictionary = {\n",
    "    'apple': 'A red fruit',\n",
    "    'banana': 'A yellow fruit',\n",
    "    'cantaloupe': 'A beige melon'\n",
    "}\n",
    "\n",
    "for item in my_dictionary.items():\n",
    "    print(type(item))"
   ]
  },
  {
   "cell_type": "code",
   "execution_count": 73,
   "id": "2ad2a6ee-23d9-4307-964e-7a38b78067ac",
   "metadata": {},
   "outputs": [],
   "source": [
    "a, b = [1, 2]"
   ]
  },
  {
   "cell_type": "code",
   "execution_count": 74,
   "id": "dda76e11-cb35-4391-9646-75b0e284162d",
   "metadata": {},
   "outputs": [
    {
     "data": {
      "text/plain": [
       "1"
      ]
     },
     "execution_count": 74,
     "metadata": {},
     "output_type": "execute_result"
    }
   ],
   "source": [
    "a"
   ]
  },
  {
   "cell_type": "code",
   "execution_count": 75,
   "id": "89120799-47d2-47b6-bc91-d0b873cd0a28",
   "metadata": {},
   "outputs": [],
   "source": [
    "a, b = {1, 2}"
   ]
  },
  {
   "cell_type": "code",
   "execution_count": 76,
   "id": "b0299970-7a16-496d-a105-97e48b060300",
   "metadata": {},
   "outputs": [
    {
     "data": {
      "text/plain": [
       "1"
      ]
     },
     "execution_count": 76,
     "metadata": {},
     "output_type": "execute_result"
    }
   ],
   "source": [
    "a"
   ]
  },
  {
   "cell_type": "code",
   "execution_count": 77,
   "id": "8b6e2ef3-cf82-45e6-b5fa-47141c6e3221",
   "metadata": {},
   "outputs": [
    {
     "data": {
      "text/plain": [
       "2"
      ]
     },
     "execution_count": 77,
     "metadata": {},
     "output_type": "execute_result"
    }
   ],
   "source": [
    "b"
   ]
  },
  {
   "cell_type": "code",
   "execution_count": 78,
   "id": "0ff91dfa-ca9d-4ac1-9231-8e5cce6091ef",
   "metadata": {},
   "outputs": [
    {
     "ename": "TypeError",
     "evalue": "type.__new__() argument 1 must be str, not int",
     "output_type": "error",
     "traceback": [
      "\u001b[0;31m---------------------------------------------------------------------------\u001b[0m",
      "\u001b[0;31mTypeError\u001b[0m                                 Traceback (most recent call last)",
      "Cell \u001b[0;32mIn[78], line 1\u001b[0m\n\u001b[0;32m----> 1\u001b[0m \u001b[38;5;28;43mtype\u001b[39;49m\u001b[43m(\u001b[49m\u001b[38;5;241;43m1\u001b[39;49m\u001b[43m,\u001b[49m\u001b[43m \u001b[49m\u001b[38;5;241;43m2\u001b[39;49m\u001b[43m,\u001b[49m\u001b[38;5;241;43m3\u001b[39;49m\u001b[43m)\u001b[49m\n",
      "\u001b[0;31mTypeError\u001b[0m: type.__new__() argument 1 must be str, not int"
     ]
    }
   ],
   "source": [
    "type(1, 2,3)"
   ]
  },
  {
   "cell_type": "code",
   "execution_count": 79,
   "id": "8995e04d-9cc5-4363-95e9-8cf450ae075c",
   "metadata": {},
   "outputs": [],
   "source": [
    "a, b = 1, 2"
   ]
  },
  {
   "cell_type": "code",
   "execution_count": 80,
   "id": "b39a2e03-4b1c-4fa3-9033-e596cb97cbec",
   "metadata": {},
   "outputs": [],
   "source": [
    "a = 1, 2, 3"
   ]
  },
  {
   "cell_type": "code",
   "execution_count": 81,
   "id": "a2522bbb-4b3c-4bc7-9413-6c469f641616",
   "metadata": {},
   "outputs": [
    {
     "data": {
      "text/plain": [
       "tuple"
      ]
     },
     "execution_count": 81,
     "metadata": {},
     "output_type": "execute_result"
    }
   ],
   "source": [
    "type(a)"
   ]
  },
  {
   "cell_type": "code",
   "execution_count": 82,
   "id": "cec27b20-f980-43fb-ab5c-baf86eadca76",
   "metadata": {},
   "outputs": [],
   "source": [
    "a, b, c = 1, 2, 3"
   ]
  },
  {
   "cell_type": "code",
   "execution_count": 84,
   "id": "1e38aefd-1919-4254-9cc8-11948d4d9dbb",
   "metadata": {},
   "outputs": [
    {
     "data": {
      "text/plain": [
       "tuple"
      ]
     },
     "execution_count": 84,
     "metadata": {},
     "output_type": "execute_result"
    }
   ],
   "source": [
    "a = 1, 2, 3\n",
    "type(a)"
   ]
  },
  {
   "cell_type": "code",
   "execution_count": 85,
   "id": "e5396bf1-9f70-452c-ad19-7606eef41577",
   "metadata": {},
   "outputs": [],
   "source": [
    "a = (2 + 3) * 3"
   ]
  },
  {
   "cell_type": "code",
   "execution_count": 87,
   "id": "9c16d79e-666f-4ed0-9b3f-fce9bbb4e6f1",
   "metadata": {},
   "outputs": [],
   "source": [
    "a = (3)"
   ]
  },
  {
   "cell_type": "code",
   "execution_count": 88,
   "id": "9f465f9c-9902-4474-a7a0-37a1374f1335",
   "metadata": {},
   "outputs": [
    {
     "name": "stdout",
     "output_type": "stream",
     "text": [
      "<class 'int'>\n"
     ]
    }
   ],
   "source": [
    "print(type(a))"
   ]
  },
  {
   "cell_type": "code",
   "execution_count": 89,
   "id": "853c4fbf-0728-46d2-9a96-e568ecbb86a4",
   "metadata": {},
   "outputs": [],
   "source": [
    "a = (3,)"
   ]
  },
  {
   "cell_type": "code",
   "execution_count": 90,
   "id": "3b994733-9fe6-4169-a116-eba779f4f8a1",
   "metadata": {},
   "outputs": [
    {
     "data": {
      "text/plain": [
       "tuple"
      ]
     },
     "execution_count": 90,
     "metadata": {},
     "output_type": "execute_result"
    }
   ],
   "source": [
    "type(a)"
   ]
  },
  {
   "cell_type": "markdown",
   "id": "43eae87b-8c07-44b3-92a0-e46183888693",
   "metadata": {},
   "source": [
    "## Exercises"
   ]
  },
  {
   "cell_type": "code",
   "execution_count": 94,
   "id": "7246a423-654b-4ca1-9d45-25e888010a3e",
   "metadata": {},
   "outputs": [
    {
     "data": {
      "text/plain": [
       "{'a', 'm', 'p'}"
      ]
     },
     "execution_count": 94,
     "metadata": {},
     "output_type": "execute_result"
    }
   ],
   "source": [
    "{'a', 'm'}.union({'p', 'm'})"
   ]
  },
  {
   "cell_type": "code",
   "execution_count": 95,
   "id": "d4e051e7-2662-471f-9ecf-35dcc65e3f9d",
   "metadata": {},
   "outputs": [
    {
     "data": {
      "text/plain": [
       "{'m'}"
      ]
     },
     "execution_count": 95,
     "metadata": {},
     "output_type": "execute_result"
    }
   ],
   "source": [
    "{'a', 'm'}.intersection({'p', 'm'})"
   ]
  },
  {
   "cell_type": "code",
   "execution_count": 96,
   "id": "afb76514-2b0c-4fb2-a366-4cbc0dc0defe",
   "metadata": {},
   "outputs": [
    {
     "data": {
      "text/plain": [
       "{'a'}"
      ]
     },
     "execution_count": 96,
     "metadata": {},
     "output_type": "execute_result"
    }
   ],
   "source": [
    "{'a', 'm'}.difference({'p', 'm'})"
   ]
  },
  {
   "cell_type": "code",
   "execution_count": 97,
   "id": "0e825f24-2e9c-4fc6-a4a6-20be90507c1a",
   "metadata": {},
   "outputs": [
    {
     "data": {
      "text/plain": [
       "{'a', 'p'}"
      ]
     },
     "execution_count": 97,
     "metadata": {},
     "output_type": "execute_result"
    }
   ],
   "source": [
    "{'a', 'm'}.symmetric_difference({'p', 'm'})"
   ]
  },
  {
   "cell_type": "code",
   "execution_count": null,
   "id": "54126b53-0063-4e4e-b9c5-3165bc60988c",
   "metadata": {},
   "outputs": [],
   "source": []
  },
  {
   "cell_type": "code",
   "execution_count": 112,
   "id": "85e92c8f-932e-4639-ade9-66008a2bb350",
   "metadata": {},
   "outputs": [],
   "source": []
  },
  {
   "cell_type": "code",
   "execution_count": 119,
   "id": "c563acea-714c-45ea-998f-39c08653d884",
   "metadata": {},
   "outputs": [],
   "source": [
    "def words_to_nested_dicts(words):\n",
    "    nested_dict = {}\n",
    "    for word in words:\n",
    "        current = nested_dict\n",
    "        for char in word:\n",
    "            if char not in current:\n",
    "                current[char] = {}\n",
    "            current = current[char]\n",
    "        current['STOP'] = True\n",
    "    return nested_dict\n",
    "            "
   ]
  },
  {
   "cell_type": "code",
   "execution_count": 124,
   "id": "84b11f75-4fb4-4125-8f72-efd5c11d3612",
   "metadata": {},
   "outputs": [
    {
     "data": {
      "text/plain": [
       "False"
      ]
     },
     "execution_count": 124,
     "metadata": {},
     "output_type": "execute_result"
    }
   ],
   "source": [
    "\n",
    "\n",
    "def word_exists(word, word_dict):\n",
    "    current_level = word_dict\n",
    "    for char in word:\n",
    "        if char not in current_level:\n",
    "            return False\n",
    "        current_level = current_level[char]\n",
    "    return current_level.get('STOP', False)\n",
    "\n",
    "\n",
    "words = ['ant', 'and', 'act', 'band', 'ban']\n",
    "word_dict = words_to_nested_dicts(words)\n",
    "\n",
    "# True\n",
    "word_exists('ban', word_dict)\n",
    "\n",
    "# False \n",
    "word_exists('can', word_dict)\n",
    "        "
   ]
  },
  {
   "cell_type": "code",
   "execution_count": null,
   "id": "60d4345a-c457-4003-bd54-d4c13fe78af5",
   "metadata": {},
   "outputs": [],
   "source": []
  },
  {
   "cell_type": "code",
   "execution_count": null,
   "id": "8a7f11da-5283-41fd-ad0d-ba215486853a",
   "metadata": {},
   "outputs": [],
   "source": []
  }
 ],
 "metadata": {
  "kernelspec": {
   "display_name": "Python 3 (ipykernel)",
   "language": "python",
   "name": "python3"
  },
  "language_info": {
   "codemirror_mode": {
    "name": "ipython",
    "version": 3
   },
   "file_extension": ".py",
   "mimetype": "text/x-python",
   "name": "python",
   "nbconvert_exporter": "python",
   "pygments_lexer": "ipython3",
   "version": "3.10.14"
  }
 },
 "nbformat": 4,
 "nbformat_minor": 5
}
