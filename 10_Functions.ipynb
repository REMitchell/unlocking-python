{
 "cells": [
  {
   "cell_type": "code",
   "execution_count": 2,
   "id": "7502db2d-761b-4501-9580-ecaed0ffa8f1",
   "metadata": {},
   "outputs": [
    {
     "name": "stdout",
     "output_type": "stream",
     "text": [
      "Hello, World!\n"
     ]
    }
   ],
   "source": [
    "print('Hello, World!')"
   ]
  },
  {
   "cell_type": "code",
   "execution_count": 4,
   "id": "37bc4403-8894-4a73-be43-3736e48c6c1c",
   "metadata": {},
   "outputs": [
    {
     "data": {
      "text/plain": [
       "6"
      ]
     },
     "execution_count": 4,
     "metadata": {},
     "output_type": "execute_result"
    }
   ],
   "source": [
    "def add(a, b, c):\n",
    "    return sum([a, b, c])\n",
    "\n",
    "add(1,2,3)"
   ]
  },
  {
   "cell_type": "code",
   "execution_count": 6,
   "id": "88b6abc4-05e7-4920-8c13-7c0fd33ae0be",
   "metadata": {},
   "outputs": [
    {
     "data": {
      "text/plain": [
       "15"
      ]
     },
     "execution_count": 6,
     "metadata": {},
     "output_type": "execute_result"
    }
   ],
   "source": [
    "def add(list_of_values):\n",
    "    return sum(list_of_values)\n",
    "\n",
    "add([1,2,3,4,5])"
   ]
  },
  {
   "cell_type": "code",
   "execution_count": 8,
   "id": "077b3081-9b1a-4303-bdda-4671e643f47c",
   "metadata": {},
   "outputs": [
    {
     "data": {
      "text/plain": [
       "15"
      ]
     },
     "execution_count": 8,
     "metadata": {},
     "output_type": "execute_result"
    }
   ],
   "source": [
    "add = sum\n",
    "add([1,2,3,4,5])"
   ]
  },
  {
   "cell_type": "code",
   "execution_count": 11,
   "id": "72003a75-df14-405b-9771-78d4aa157cd0",
   "metadata": {},
   "outputs": [
    {
     "ename": "TypeError",
     "evalue": "sum() takes at most 2 arguments (5 given)",
     "output_type": "error",
     "traceback": [
      "\u001b[0;31m---------------------------------------------------------------------------\u001b[0m",
      "\u001b[0;31mTypeError\u001b[0m                                 Traceback (most recent call last)",
      "Cell \u001b[0;32mIn[11], line 1\u001b[0m\n\u001b[0;32m----> 1\u001b[0m \u001b[38;5;28;43msum\u001b[39;49m\u001b[43m(\u001b[49m\u001b[38;5;241;43m1\u001b[39;49m\u001b[43m,\u001b[49m\u001b[43m \u001b[49m\u001b[38;5;241;43m2\u001b[39;49m\u001b[43m,\u001b[49m\u001b[43m \u001b[49m\u001b[38;5;241;43m3\u001b[39;49m\u001b[43m,\u001b[49m\u001b[43m \u001b[49m\u001b[38;5;241;43m4\u001b[39;49m\u001b[43m,\u001b[49m\u001b[43m \u001b[49m\u001b[38;5;241;43m5\u001b[39;49m\u001b[43m)\u001b[49m\n",
      "\u001b[0;31mTypeError\u001b[0m: sum() takes at most 2 arguments (5 given)"
     ]
    }
   ],
   "source": [
    "sum(1, 2, 3, 4, 5)"
   ]
  },
  {
   "cell_type": "code",
   "execution_count": 13,
   "id": "a18dbaaf-2ae6-4dd9-8913-3d05948578b8",
   "metadata": {},
   "outputs": [
    {
     "name": "stdout",
     "output_type": "stream",
     "text": [
      "(1, 2, 3, 4, 5)\n"
     ]
    },
    {
     "data": {
      "text/plain": [
       "15"
      ]
     },
     "execution_count": 13,
     "metadata": {},
     "output_type": "execute_result"
    }
   ],
   "source": [
    "def add(*args):\n",
    "    return sum(args)\n",
    "\n",
    "add(1, 2, 3, 4, 5)\n"
   ]
  },
  {
   "cell_type": "code",
   "execution_count": 16,
   "id": "38dc7f85-6dd3-4538-96ac-7bfd767e0507",
   "metadata": {},
   "outputs": [
    {
     "name": "stdout",
     "output_type": "stream",
     "text": [
      "(1, 2, 3, 4, 5)\n"
     ]
    },
    {
     "data": {
      "text/plain": [
       "15"
      ]
     },
     "execution_count": 16,
     "metadata": {},
     "output_type": "execute_result"
    }
   ],
   "source": [
    "def add(*args):\n",
    "    print(args)\n",
    "    return sum(args)\n",
    "\n",
    "add(1, 2, 3, 4, 5)\n"
   ]
  },
  {
   "cell_type": "code",
   "execution_count": 18,
   "id": "759d614d-4e59-4e79-bd18-a7a110459845",
   "metadata": {},
   "outputs": [
    {
     "name": "stdout",
     "output_type": "stream",
     "text": [
      "5\n"
     ]
    }
   ],
   "source": [
    "def add_one(val):\n",
    "    val += 1\n",
    "\n",
    "val = 5\n",
    "add_one(val)\n",
    "print(val)"
   ]
  },
  {
   "cell_type": "code",
   "execution_count": 19,
   "id": "395be8d4-cfe8-44bc-8fa0-b5ee86a5c765",
   "metadata": {},
   "outputs": [
    {
     "name": "stdout",
     "output_type": "stream",
     "text": [
      "Bienvenue Pierre\n",
      "Bienvenue Marie\n",
      "Bienvenue Louis\n"
     ]
    }
   ],
   "source": [
    "def greet(salutation, *names):\n",
    "    for name in names:\n",
    "        print(f'{salutation} {name}')\n",
    "\n",
    "\n",
    "greet('Bienvenue', 'Pierre', 'Marie', 'Louis')\n",
    "        "
   ]
  },
  {
   "cell_type": "code",
   "execution_count": 21,
   "id": "7cc25ed4-f09c-4fdc-a36b-9f0e24dbdc0d",
   "metadata": {},
   "outputs": [
    {
     "ename": "TypeError",
     "evalue": "greet() missing 1 required keyword-only argument: 'salutation'",
     "output_type": "error",
     "traceback": [
      "\u001b[0;31m---------------------------------------------------------------------------\u001b[0m",
      "\u001b[0;31mTypeError\u001b[0m                                 Traceback (most recent call last)",
      "Cell \u001b[0;32mIn[21], line 6\u001b[0m\n\u001b[1;32m      2\u001b[0m     \u001b[38;5;28;01mfor\u001b[39;00m name \u001b[38;5;129;01min\u001b[39;00m names:\n\u001b[1;32m      3\u001b[0m         \u001b[38;5;28mprint\u001b[39m(\u001b[38;5;124mf\u001b[39m\u001b[38;5;124m'\u001b[39m\u001b[38;5;132;01m{\u001b[39;00msalutation\u001b[38;5;132;01m}\u001b[39;00m\u001b[38;5;124m \u001b[39m\u001b[38;5;132;01m{\u001b[39;00mname\u001b[38;5;132;01m}\u001b[39;00m\u001b[38;5;132;01m{\u001b[39;00msalutation_ending\u001b[38;5;132;01m}\u001b[39;00m\u001b[38;5;124m'\u001b[39m)\n\u001b[0;32m----> 6\u001b[0m \u001b[43mgreet\u001b[49m\u001b[43m(\u001b[49m\u001b[38;5;124;43m'\u001b[39;49m\u001b[38;5;124;43mBienvenue\u001b[39;49m\u001b[38;5;124;43m'\u001b[39;49m\u001b[43m,\u001b[49m\u001b[43m \u001b[49m\u001b[38;5;124;43m'\u001b[39;49m\u001b[38;5;124;43mPierre\u001b[39;49m\u001b[38;5;124;43m'\u001b[39;49m\u001b[43m,\u001b[49m\u001b[43m \u001b[49m\u001b[38;5;124;43m'\u001b[39;49m\u001b[38;5;124;43mMarie\u001b[39;49m\u001b[38;5;124;43m'\u001b[39;49m\u001b[43m,\u001b[49m\u001b[43m \u001b[49m\u001b[38;5;124;43m'\u001b[39;49m\u001b[38;5;124;43mLouis\u001b[39;49m\u001b[38;5;124;43m'\u001b[39;49m\u001b[43m,\u001b[49m\u001b[43m \u001b[49m\u001b[38;5;124;43m'\u001b[39;49m\u001b[38;5;124;43m!\u001b[39;49m\u001b[38;5;124;43m'\u001b[39;49m\u001b[43m)\u001b[49m\n",
      "\u001b[0;31mTypeError\u001b[0m: greet() missing 1 required keyword-only argument: 'salutation'"
     ]
    }
   ],
   "source": [
    "def greet(*names, salutation):\n",
    "    for name in names:\n",
    "        print(f'{salutation} {name}{salutation_ending}')\n",
    "\n",
    "\n",
    "greet('Bienvenue', 'Pierre', 'Marie', 'Louis', '!')"
   ]
  },
  {
   "cell_type": "code",
   "execution_count": 26,
   "id": "fb24ea2b-78ba-4ca6-bd79-4ce11e62c232",
   "metadata": {},
   "outputs": [],
   "source": [
    "*the_rest, one, two = [1, 2, 3, 4, 5]"
   ]
  },
  {
   "cell_type": "code",
   "execution_count": 27,
   "id": "fa6ed522-39b9-4e08-beb3-0aa42aeaa134",
   "metadata": {},
   "outputs": [],
   "source": [
    "one, *middle_stuff, five = [1, 2, 3, 4, 5]"
   ]
  },
  {
   "cell_type": "code",
   "execution_count": 28,
   "id": "ecf7dd9a-9f86-406f-a85e-395d8ae30c3c",
   "metadata": {},
   "outputs": [],
   "source": [
    "*beginning_stuff, four, five = [1, 2, 3, 4, 5]"
   ]
  },
  {
   "cell_type": "code",
   "execution_count": 25,
   "id": "80b5d81d-91b9-4481-8b51-5793ba62e1cb",
   "metadata": {},
   "outputs": [
    {
     "data": {
      "text/plain": [
       "[3, 4, 5]"
      ]
     },
     "execution_count": 25,
     "metadata": {},
     "output_type": "execute_result"
    }
   ],
   "source": [
    "the_rest"
   ]
  },
  {
   "cell_type": "code",
   "execution_count": null,
   "id": "a7d02d22-3f26-4272-af47-f15ce59dad60",
   "metadata": {},
   "outputs": [],
   "source": [
    "def greet(*names, salutation):\n",
    "    for name in names:\n",
    "        print(f'{salutation} {name}')\n",
    "\n",
    "\n",
    "greet('Pierre', 'Marie', 'Louis', 'Bienvenue')"
   ]
  },
  {
   "cell_type": "markdown",
   "id": "d24472ce-935d-4161-a304-44f448257e93",
   "metadata": {},
   "source": [
    "## Keyword Arguments"
   ]
  },
  {
   "cell_type": "code",
   "execution_count": 31,
   "id": "f9b63910-ae57-48ba-b672-c366430d35f1",
   "metadata": {},
   "outputs": [
    {
     "name": "stdout",
     "output_type": "stream",
     "text": [
      "Bienvenue Pierre!\n",
      "Bienvenue Marie!\n",
      "Bienvenue Louis!\n"
     ]
    }
   ],
   "source": [
    "def greet(*names, salutation='', suffix=''):\n",
    "    for name in names:\n",
    "        print(f'{salutation} {name}{suffix}')\n",
    "\n",
    "greet('Pierre', 'Marie', 'Louis', salutation='Bienvenue', suffix='!') \n"
   ]
  },
  {
   "cell_type": "code",
   "execution_count": 32,
   "id": "17eadc86-db33-4c1e-b21d-0b7076e8cd74",
   "metadata": {},
   "outputs": [
    {
     "ename": "SyntaxError",
     "evalue": "expected ':' (1808778865.py, line 1)",
     "output_type": "error",
     "traceback": [
      "\u001b[0;36m  Cell \u001b[0;32mIn[32], line 1\u001b[0;36m\u001b[0m\n\u001b[0;31m    def greet(salutation='', *names, suffix='')\u001b[0m\n\u001b[0m                                               ^\u001b[0m\n\u001b[0;31mSyntaxError\u001b[0m\u001b[0;31m:\u001b[0m expected ':'\n"
     ]
    }
   ],
   "source": [
    "def greet(salutation='', *names, suffix='')"
   ]
  },
  {
   "cell_type": "code",
   "execution_count": 33,
   "id": "4bc2828e-f1e3-4898-9681-144524a512bc",
   "metadata": {},
   "outputs": [
    {
     "name": "stdout",
     "output_type": "stream",
     "text": [
      "Dear Pierre,\n",
      "Dear Marie,\n",
      "Dear Louis,\n"
     ]
    }
   ],
   "source": [
    "def greet(*names, salutation='Dear', suffix=','):\n",
    "    for name in names:\n",
    "        print(f'{salutation} {name}{suffix}')\n",
    "\n",
    "greet('Pierre', 'Marie', 'Louis') "
   ]
  },
  {
   "cell_type": "code",
   "execution_count": 34,
   "id": "b183c99a-adfe-4896-a167-41ce715011d7",
   "metadata": {},
   "outputs": [
    {
     "name": "stdout",
     "output_type": "stream",
     "text": [
      "Bienvenue Pierre!\n",
      "Bienvenue Marie!\n",
      "Bienvenue Louis!\n",
      "Bienvenue Pierre!\n",
      "Bienvenue Marie!\n",
      "Bienvenue Louis!\n",
      "Bienvenue Pierre,\n",
      "Bienvenue Marie,\n",
      "Bienvenue Louis,\n",
      "Dear Pierre!\n",
      "Dear Marie!\n",
      "Dear Louis!\n"
     ]
    }
   ],
   "source": [
    "greet('Pierre', 'Marie', 'Louis', suffix='!', salutation='Bienvenue')\n",
    "greet('Pierre', 'Marie', 'Louis', salutation='Bienvenue', suffix='!')\n",
    "greet('Pierre', 'Marie', 'Louis', salutation='Bienvenue')\n",
    "greet('Pierre', 'Marie', 'Louis', suffix='!')\n"
   ]
  },
  {
   "cell_type": "code",
   "execution_count": 42,
   "id": "df6b9f4c-e028-46fb-8197-3a80c0bb196a",
   "metadata": {},
   "outputs": [
    {
     "data": {
      "text/plain": [
       "0.2"
      ]
     },
     "execution_count": 42,
     "metadata": {},
     "output_type": "execute_result"
    }
   ],
   "source": [
    "def division(numerator=1, denominator=2):\n",
    "    return numerator/denominator\n",
    "\n",
    "division(2, 10)"
   ]
  },
  {
   "cell_type": "code",
   "execution_count": 43,
   "id": "4a9651f9-8db4-4121-9754-0c965caa5a25",
   "metadata": {},
   "outputs": [
    {
     "data": {
      "text/plain": [
       "0.2"
      ]
     },
     "execution_count": 43,
     "metadata": {},
     "output_type": "execute_result"
    }
   ],
   "source": [
    "division(numerator=2, denominator=10)"
   ]
  },
  {
   "cell_type": "code",
   "execution_count": 44,
   "id": "4b5565ff-4279-4b3a-915e-5de85afaa522",
   "metadata": {},
   "outputs": [
    {
     "name": "stdout",
     "output_type": "stream",
     "text": [
      " Pierre\n",
      " Marie\n",
      " Louis\n",
      " Bienvenue\n",
      " !\n"
     ]
    }
   ],
   "source": [
    "def greet(*names, salutation='', suffix=''):\n",
    "    for name in names:\n",
    "        print(f'{salutation} {name}{suffix}')\n",
    "\n",
    "greet('Pierre', 'Marie', 'Louis', 'Bienvenue', '!') "
   ]
  },
  {
   "cell_type": "code",
   "execution_count": 45,
   "id": "1e1e62c9-9922-4099-b6b9-79318b400122",
   "metadata": {},
   "outputs": [
    {
     "name": "stdout",
     "output_type": "stream",
     "text": [
      "{'de': 'Willkommen', 'fr': 'Bienvenue', 'en': 'Welcome'}\n"
     ]
    }
   ],
   "source": [
    "def multilingual_greetings(**kwargs):\n",
    "    print(kwargs)\n",
    "\n",
    "multilingual_greetings(de='Willkommen', fr='Bienvenue', en='Welcome')\n"
   ]
  },
  {
   "cell_type": "code",
   "execution_count": 46,
   "id": "82114e37-76a3-4324-b219-025a25638e8d",
   "metadata": {},
   "outputs": [
    {
     "name": "stdout",
     "output_type": "stream",
     "text": [
      "Willkommen Ryan\n",
      "Bienvenue Ryan\n",
      "Welcome Ryan\n"
     ]
    }
   ],
   "source": [
    "def multilingual_greetings(name='', **kwargs):\n",
    "    for _, greeting in kwargs.items():\n",
    "        print(f'{greeting} {name}')\n",
    "\n",
    "multilingual_greetings(name='Ryan', de='Willkommen', fr='Bienvenue', en='Welcome')"
   ]
  },
  {
   "cell_type": "markdown",
   "id": "2230fec8-81b9-4f4e-b02c-9da1b916ea49",
   "metadata": {},
   "source": [
    "## Functions as first class objects"
   ]
  },
  {
   "cell_type": "code",
   "execution_count": 48,
   "id": "263dfa2a-1f8a-46c0-88c7-d838a938217a",
   "metadata": {},
   "outputs": [],
   "source": [
    "def some_function(a, b):\n",
    "    return f'a is {a} and b is {b}'"
   ]
  },
  {
   "cell_type": "code",
   "execution_count": 58,
   "id": "dca0ccc2-a4d8-4d8a-909e-ae7005e312db",
   "metadata": {},
   "outputs": [
    {
     "name": "stdout",
     "output_type": "stream",
     "text": [
      "('a', 'b')\n",
      "b'\\x97\\x00d\\x01|\\x00\\x9b\\x00d\\x02|\\x01\\x9b\\x00\\x9d\\x04S\\x00'\n"
     ]
    }
   ],
   "source": [
    "print(some_function.__code__.co_varnames)\n",
    "print(some_function.__code__.co_code)"
   ]
  },
  {
   "cell_type": "code",
   "execution_count": 57,
   "id": "90fdfb2a-74c3-4ece-b3cf-7210133f4811",
   "metadata": {},
   "outputs": [
    {
     "name": "stdout",
     "output_type": "stream",
     "text": [
      "<function some_function at 0x1073371a0>\n"
     ]
    }
   ],
   "source": [
    "print(some_function)"
   ]
  },
  {
   "cell_type": "code",
   "execution_count": 55,
   "id": "51274a81-6264-4f7b-a71b-b6fa496a3edb",
   "metadata": {},
   "outputs": [
    {
     "data": {
      "text/plain": [
       "function"
      ]
     },
     "execution_count": 55,
     "metadata": {},
     "output_type": "execute_result"
    }
   ],
   "source": [
    "type(some_function)"
   ]
  },
  {
   "cell_type": "code",
   "execution_count": 59,
   "id": "7b5a56a8-a924-4d6e-bbae-e12445fdb9a0",
   "metadata": {},
   "outputs": [
    {
     "data": {
      "text/plain": [
       "\"def some_function(a, b):\\n    return f'a is {a} and b is {b}'\\n\""
      ]
     },
     "execution_count": 59,
     "metadata": {},
     "output_type": "execute_result"
    }
   ],
   "source": [
    "import inspect\n",
    "\n",
    "inspect.getsource(some_function)"
   ]
  },
  {
   "cell_type": "code",
   "execution_count": 64,
   "id": "68a57b23-df53-4563-a692-d271e25b94df",
   "metadata": {},
   "outputs": [],
   "source": [
    "text = '''\n",
    "Beautiful is better than ugly.\n",
    "Explicit is better than implicit.\n",
    "Simple is better than complex.\n",
    "Complex is better than complicated.\n",
    "Flat is better than nested.\n",
    "Sparse is better than dense.\n",
    "Readability counts.\n",
    "Special cases aren't special enough to break the rules.\n",
    "Although practicality beats purity.\n",
    "Errors should never pass silently.\n",
    "Unless explicitly silenced.\n",
    "In the face of ambiguity, refuse the temptation to guess.\n",
    "There should be one-- and preferably only one --obvious way to do it.\n",
    "Although that way may not be obvious at first unless you're Dutch.\n",
    "Now is better than never.\n",
    "Although never is often better than *right* now.\n",
    "If the implementation is hard to explain, it's a bad idea.\n",
    "If the implementation is easy to explain, it may be a good idea.\n",
    "Namespaces are one honking great idea -- let's do more of those!\n",
    "'''"
   ]
  },
  {
   "cell_type": "code",
   "execution_count": 65,
   "id": "71936c14-a477-43a5-bb80-964ec7ecefe8",
   "metadata": {},
   "outputs": [
    {
     "data": {
      "text/plain": [
       "\"\\nBeautiful is better than ugly.\\nExplicit is better than implicit.\\nSimple is better than complex.\\nComplex is better than complicated.\\nFlat is better than nested.\\nSparse is better than dense.\\nReadability counts.\\nSpecial cases aren't special enough to break the rules.\\nAlthough practicality beats purity.\\nErrors should never pass silently.\\nUnless explicitly silenced.\\nIn the face of ambiguity, refuse the temptation to guess.\\nThere should be one-- and preferably only one --obvious way to do it.\\nAlthough that way may not be obvious at first unless you're Dutch.\\nNow is better than never.\\nAlthough never is often better than *right* now.\\nIf the implementation is hard to explain, it's a bad idea.\\nIf the implementation is easy to explain, it may be a good idea.\\nNamespaces are one honking great idea -- let's do more of those!\\n\""
      ]
     },
     "execution_count": 65,
     "metadata": {},
     "output_type": "execute_result"
    }
   ],
   "source": [
    "text"
   ]
  },
  {
   "cell_type": "code",
   "execution_count": 77,
   "id": "41dde9ed-2d38-47e5-b90d-8bbac29dfd86",
   "metadata": {},
   "outputs": [],
   "source": [
    "def lowercase(text):\n",
    "    return text.lower()\n",
    "\n",
    "def remove_punctuation(text):\n",
    "    punctuations = ['.', '-', ',', '*', '\\'']\n",
    "    for punctuation in punctuations:\n",
    "        text = text.replace(punctuation, '')\n",
    "    return text\n",
    "\n",
    "def remove_newlines(text):\n",
    "    text = text.replace('\\n', ' ')\n",
    "    return text\n",
    "\n",
    "def remove_short_words(text):\n",
    "    return ' '.join([word for word in text.split() if len(word) > 3])\n",
    "\n",
    "def remove_long_words(text):\n",
    "    return ' '.join([word for word in text.split() if len(word) < 6])"
   ]
  },
  {
   "cell_type": "code",
   "execution_count": 78,
   "id": "d230ed06-4008-4fa1-a68a-9de2e0e66111",
   "metadata": {},
   "outputs": [
    {
     "name": "stdout",
     "output_type": "stream",
     "text": [
      "is than ugly is than is than is than flat is than is than dense cases to break the rules beats never pass in the face of the to guess there be one and only one way to do it that way may not be at first dutch now is than never never is often than right now if the is hard to its a bad idea if the is easy to it may be a good idea are one great idea lets do more of\n"
     ]
    }
   ],
   "source": [
    "processing_functions = [\n",
    "    lowercase,\n",
    "    remove_punctuation,\n",
    "    remove_newlines,\n",
    "    remove_long_words\n",
    "]\n",
    "\n",
    "for func in processing_functions:\n",
    "    text = func(text)\n",
    "\n",
    "print(text)"
   ]
  },
  {
   "cell_type": "code",
   "execution_count": 79,
   "id": "cb0826dc-d133-4497-9a76-7a4643329d5a",
   "metadata": {},
   "outputs": [],
   "source": [
    "def apply_text_processing(processing_functions, text):\n",
    "    for func in processing_functions:\n",
    "        text = func(text)\n",
    "    return text\n",
    "\n",
    "\n",
    "\n",
    "    "
   ]
  },
  {
   "cell_type": "code",
   "execution_count": 80,
   "id": "71ef7d26-b1e9-4893-9c07-236eeb07084f",
   "metadata": {},
   "outputs": [
    {
     "data": {
      "text/plain": [
       "'is than ugly is than is than is than flat is than is than dense cases to break the rules beats never pass in the face of the to guess there be one and only one way to do it that way may not be at first dutch now is than never never is often than right now if the is hard to its a bad idea if the is easy to it may be a good idea are one great idea lets do more of'"
      ]
     },
     "execution_count": 80,
     "metadata": {},
     "output_type": "execute_result"
    }
   ],
   "source": [
    "apply_text_processing([\n",
    "    lowercase,\n",
    "    remove_punctuation,\n",
    "    remove_newlines,\n",
    "    remove_long_words\n",
    "],\n",
    "text)"
   ]
  },
  {
   "cell_type": "code",
   "execution_count": null,
   "id": "3c3bf18b-9f44-484b-9560-dc67930adc1a",
   "metadata": {},
   "outputs": [],
   "source": []
  },
  {
   "cell_type": "markdown",
   "id": "20490379-66e5-4508-8781-1e078d5fe010",
   "metadata": {},
   "source": [
    "## Lambda functions"
   ]
  },
  {
   "cell_type": "code",
   "execution_count": 81,
   "id": "d85a05d9-4bc9-49ea-97a8-1f538044023a",
   "metadata": {},
   "outputs": [
    {
     "data": {
      "text/plain": [
       "5"
      ]
     },
     "execution_count": 81,
     "metadata": {},
     "output_type": "execute_result"
    }
   ],
   "source": [
    "5"
   ]
  },
  {
   "cell_type": "code",
   "execution_count": 82,
   "id": "0dd7d4b8-9684-45e3-a328-b86bfab1b281",
   "metadata": {},
   "outputs": [
    {
     "name": "stdout",
     "output_type": "stream",
     "text": [
      "5\n"
     ]
    }
   ],
   "source": [
    "def print_number(number=0):\n",
    "    print(number)\n",
    "\n",
    "print_number(number=5)"
   ]
  },
  {
   "cell_type": "code",
   "execution_count": 85,
   "id": "a01c5518-960f-4305-9038-c2c1e1ebbe6f",
   "metadata": {},
   "outputs": [
    {
     "ename": "SyntaxError",
     "evalue": "invalid syntax (489260147.py, line 1)",
     "output_type": "error",
     "traceback": [
      "\u001b[0;36m  Cell \u001b[0;32mIn[85], line 1\u001b[0;36m\u001b[0m\n\u001b[0;31m    lambda x: return x**2\u001b[0m\n\u001b[0m              ^\u001b[0m\n\u001b[0;31mSyntaxError\u001b[0m\u001b[0;31m:\u001b[0m invalid syntax\n"
     ]
    }
   ],
   "source": [
    "lambda x: return x**2"
   ]
  },
  {
   "cell_type": "code",
   "execution_count": 84,
   "id": "f549f8f3-a18d-4f59-95ac-e45b46f49104",
   "metadata": {},
   "outputs": [
    {
     "data": {
      "text/plain": [
       "25"
      ]
     },
     "execution_count": 84,
     "metadata": {},
     "output_type": "execute_result"
    }
   ],
   "source": [
    "(lambda x: x**2)(5)"
   ]
  },
  {
   "cell_type": "code",
   "execution_count": 86,
   "id": "cbcfd29f-73c4-47cd-a4c5-c63769d0f26f",
   "metadata": {},
   "outputs": [
    {
     "name": "stdout",
     "output_type": "stream",
     "text": [
      "[{'name': 'Alice', 'age': 40}, {'name': 'Bob', 'age': 30}, {'name': 'Charlie', 'age': 10}, {'name': 'Diana', 'age': 20}]\n"
     ]
    }
   ],
   "source": [
    "people = [\n",
    "    {'name': 'Bob', 'age': 30},\n",
    "    {'name': 'Diana', 'age': 20},\n",
    "    {'name': 'Alice', 'age': 40},\n",
    "    {'name': 'Charlie', 'age': 10},\n",
    "]\n",
    "\n",
    "def name_key(person):\n",
    "    return person['name']\n",
    "\n",
    "people.sort(key=name_key)\n",
    "print(people)\n"
   ]
  },
  {
   "cell_type": "code",
   "execution_count": 87,
   "id": "7ac36133-023c-4284-81fa-081a5cb0ac20",
   "metadata": {},
   "outputs": [],
   "source": [
    "people.sort(key=lambda person: person['name'])"
   ]
  },
  {
   "cell_type": "code",
   "execution_count": null,
   "id": "e347c447-fb1d-4f25-945f-26faba620bac",
   "metadata": {},
   "outputs": [],
   "source": [
    "people.sort(key=lambda p: p['name'])"
   ]
  },
  {
   "cell_type": "code",
   "execution_count": 88,
   "id": "a502b395-bd68-49f5-9883-dbbd1287120f",
   "metadata": {},
   "outputs": [
    {
     "data": {
      "text/plain": [
       "6"
      ]
     },
     "execution_count": 88,
     "metadata": {},
     "output_type": "execute_result"
    }
   ],
   "source": [
    "(lambda x, y, z: x * y * z)(1, 2, 3)"
   ]
  },
  {
   "cell_type": "code",
   "execution_count": 95,
   "id": "965f32de-8f37-4b94-acd3-3d76e16cab8d",
   "metadata": {},
   "outputs": [],
   "source": [
    "def apply_transformation(*args, transformer=lambda n: n * 3):\n",
    "    print(f'Applying function {transformer.__name__} to {args}')\n",
    "    return transformer(*args)\n"
   ]
  },
  {
   "cell_type": "code",
   "execution_count": 96,
   "id": "22367e4c-f70b-4d9e-8ced-83132065a0ff",
   "metadata": {},
   "outputs": [
    {
     "name": "stdout",
     "output_type": "stream",
     "text": [
      "Applying function <lambda> to (2,)\n"
     ]
    },
    {
     "data": {
      "text/plain": [
       "6"
      ]
     },
     "execution_count": 96,
     "metadata": {},
     "output_type": "execute_result"
    }
   ],
   "source": [
    "apply_transformation(2)"
   ]
  },
  {
   "cell_type": "markdown",
   "id": "6c002858-ade3-47c5-acb3-d8210d818a11",
   "metadata": {},
   "source": [
    "## Namespace and Scope"
   ]
  },
  {
   "cell_type": "code",
   "execution_count": 98,
   "id": "03975c6a-3944-40b0-8bf0-65f40f33277b",
   "metadata": {},
   "outputs": [
    {
     "name": "stdout",
     "output_type": "stream",
     "text": [
      "Value of val in the add_one function: 6\n",
      "Outside value of val: 5\n"
     ]
    }
   ],
   "source": [
    "def add_one(val):\n",
    "    val += 1\n",
    "    print(f'Value of val in the add_one function: {val}')\n",
    "\n",
    "val = 5\n",
    "add_one(val)\n",
    "print(f'Outside value of val: {val}')\n",
    "\n"
   ]
  },
  {
   "cell_type": "code",
   "execution_count": 100,
   "id": "a66a5299-840b-4919-9842-7c203f12c0d0",
   "metadata": {},
   "outputs": [
    {
     "name": "stdout",
     "output_type": "stream",
     "text": [
      "Value of function_val in the add_one function: 6\n",
      "Outside value of val: 5\n"
     ]
    }
   ],
   "source": [
    "def add_one(function_val):\n",
    "    function_val += 1\n",
    "    print(f'Value of function_val in the add_one function: {function_val}')\n",
    "\n",
    "val = 5\n",
    "add_one(val)\n",
    "print(f'Outside value of val: {val}')\n"
   ]
  },
  {
   "cell_type": "code",
   "execution_count": 103,
   "id": "c1a72ec6-e53b-4029-a509-793f2e6027b6",
   "metadata": {},
   "outputs": [
    {
     "name": "stdout",
     "output_type": "stream",
     "text": [
      "Value of function_val in the add_one function: 6\n",
      "Value of val in the add_one function is: 5\n",
      "Outside value of val: 5\n"
     ]
    }
   ],
   "source": [
    "def add_one(function_val):\n",
    "    function_val += 1\n",
    "    print(f'Value of function_val in the add_one function: {function_val}')\n",
    "    print(f'Value of val in the add_one function is: {val}')\n",
    "\n",
    "val = 5\n",
    "add_one(val)\n",
    "print(f'Outside value of val: {val}')\n"
   ]
  },
  {
   "cell_type": "code",
   "execution_count": 139,
   "id": "6606bb61-128b-4536-b2d7-55b2c887d569",
   "metadata": {},
   "outputs": [
    {
     "name": "stdout",
     "output_type": "stream",
     "text": [
      "val is: 5\n"
     ]
    }
   ],
   "source": [
    "val = 5\n",
    "\n",
    "def some_function():\n",
    "    print(f'val is: {val}')\n",
    "\n",
    "some_function()"
   ]
  },
  {
   "cell_type": "code",
   "execution_count": 109,
   "id": "964f0003-a885-4aae-84cf-b5172b4b8024",
   "metadata": {},
   "outputs": [
    {
     "name": "stdout",
     "output_type": "stream",
     "text": [
      "{}\n",
      "val is: 5\n"
     ]
    }
   ],
   "source": [
    "some_function()"
   ]
  },
  {
   "cell_type": "code",
   "execution_count": 126,
   "id": "686dd88e-076b-4f10-a23d-b8544a16ac42",
   "metadata": {},
   "outputs": [
    {
     "name": "stdout",
     "output_type": "stream",
     "text": [
      "function_two locals: {'a': 5, 'b': 6, 'd': 7, 'c': 3}\n",
      "function_two c value: 3\n",
      "function_one locals: {'a': 1, 'b': 2, 'c': 3, 'function_two': <function function_one.<locals>.function_two at 0x1073e72e0>}\n",
      "False\n"
     ]
    }
   ],
   "source": [
    "def function_one(a, b, c):\n",
    "    def function_two(a, b):\n",
    "        d = 7\n",
    "        print(f'function_two locals: {locals()}')\n",
    "\n",
    "    function_two(5, 6)\n",
    "    print(f'function_one locals: {locals()}')\n",
    "    \n",
    "\n",
    "\n",
    "function_one(1, 2, 3)\n",
    "\n",
    "print('function_two' in globals())\n",
    "\n",
    "\n",
    "\n",
    "            "
   ]
  },
  {
   "cell_type": "code",
   "execution_count": 127,
   "id": "370e9ae9-019b-4fb5-89e4-5bca34f1d7ce",
   "metadata": {},
   "outputs": [
    {
     "ename": "UnboundLocalError",
     "evalue": "cannot access local variable 'c' where it is not associated with a value",
     "output_type": "error",
     "traceback": [
      "\u001b[0;31m---------------------------------------------------------------------------\u001b[0m",
      "\u001b[0;31mUnboundLocalError\u001b[0m                         Traceback (most recent call last)",
      "Cell \u001b[0;32mIn[127], line 11\u001b[0m\n\u001b[1;32m      7\u001b[0m     c \u001b[38;5;241m=\u001b[39m c \u001b[38;5;241m+\u001b[39m \u001b[38;5;241m2\u001b[39m\n\u001b[1;32m      9\u001b[0m     \u001b[38;5;28mprint\u001b[39m(c)\n\u001b[0;32m---> 11\u001b[0m \u001b[43madd\u001b[49m\u001b[43m(\u001b[49m\u001b[43m)\u001b[49m\n",
      "Cell \u001b[0;32mIn[127], line 7\u001b[0m, in \u001b[0;36madd\u001b[0;34m()\u001b[0m\n\u001b[1;32m      4\u001b[0m \u001b[38;5;28;01mdef\u001b[39;00m \u001b[38;5;21madd\u001b[39m():\n\u001b[1;32m      5\u001b[0m \n\u001b[1;32m      6\u001b[0m      \u001b[38;5;66;03m# increment c by 2\u001b[39;00m\n\u001b[0;32m----> 7\u001b[0m     c \u001b[38;5;241m=\u001b[39m \u001b[43mc\u001b[49m \u001b[38;5;241m+\u001b[39m \u001b[38;5;241m2\u001b[39m\n\u001b[1;32m      9\u001b[0m     \u001b[38;5;28mprint\u001b[39m(c)\n",
      "\u001b[0;31mUnboundLocalError\u001b[0m: cannot access local variable 'c' where it is not associated with a value"
     ]
    }
   ],
   "source": [
    "# global variable\n",
    "c = 1 \n",
    "\n",
    "def add():\n",
    "\n",
    "     # increment c by 2\n",
    "    c = c + 2\n",
    "\n",
    "    print(c)\n",
    "\n",
    "add()"
   ]
  },
  {
   "cell_type": "code",
   "execution_count": 141,
   "id": "dfd1bbb7-bb06-4f08-b04b-33992c349937",
   "metadata": {},
   "outputs": [
    {
     "ename": "UnboundLocalError",
     "evalue": "cannot access local variable 'val' where it is not associated with a value",
     "output_type": "error",
     "traceback": [
      "\u001b[0;31m---------------------------------------------------------------------------\u001b[0m",
      "\u001b[0;31mUnboundLocalError\u001b[0m                         Traceback (most recent call last)",
      "Cell \u001b[0;32mIn[141], line 7\u001b[0m\n\u001b[1;32m      4\u001b[0m     \u001b[38;5;28mprint\u001b[39m(\u001b[38;5;124mf\u001b[39m\u001b[38;5;124m'\u001b[39m\u001b[38;5;124mval is: \u001b[39m\u001b[38;5;132;01m{\u001b[39;00mval\u001b[38;5;132;01m}\u001b[39;00m\u001b[38;5;124m'\u001b[39m)\n\u001b[1;32m      5\u001b[0m     val \u001b[38;5;241m+\u001b[39m\u001b[38;5;241m=\u001b[39m \u001b[38;5;241m1\u001b[39m\n\u001b[0;32m----> 7\u001b[0m \u001b[43msome_function\u001b[49m\u001b[43m(\u001b[49m\u001b[43m)\u001b[49m\n",
      "Cell \u001b[0;32mIn[141], line 4\u001b[0m, in \u001b[0;36msome_function\u001b[0;34m()\u001b[0m\n\u001b[1;32m      3\u001b[0m \u001b[38;5;28;01mdef\u001b[39;00m \u001b[38;5;21msome_function\u001b[39m():\n\u001b[0;32m----> 4\u001b[0m     \u001b[38;5;28mprint\u001b[39m(\u001b[38;5;124mf\u001b[39m\u001b[38;5;124m'\u001b[39m\u001b[38;5;124mval is: \u001b[39m\u001b[38;5;132;01m{\u001b[39;00m\u001b[43mval\u001b[49m\u001b[38;5;132;01m}\u001b[39;00m\u001b[38;5;124m'\u001b[39m)\n\u001b[1;32m      5\u001b[0m     val \u001b[38;5;241m+\u001b[39m\u001b[38;5;241m=\u001b[39m \u001b[38;5;241m1\u001b[39m\n",
      "\u001b[0;31mUnboundLocalError\u001b[0m: cannot access local variable 'val' where it is not associated with a value"
     ]
    }
   ],
   "source": [
    "val = 5\n",
    "\n",
    "def some_function():\n",
    "    print(f'val is: {val}')\n",
    "    val += 1\n",
    "\n",
    "some_function()\n"
   ]
  },
  {
   "cell_type": "code",
   "execution_count": 145,
   "id": "d68cbc33-0353-4589-a619-d5c135c11b94",
   "metadata": {},
   "outputs": [
    {
     "name": "stdout",
     "output_type": "stream",
     "text": [
      "foo\n",
      "val is: 6\n",
      "val outside the function is also 6\n"
     ]
    }
   ],
   "source": [
    "val = 5\n",
    "\n",
    "def some_function():\n",
    "    global val\n",
    "    val += 1\n",
    "    print(f'val is: {val}')\n",
    "\n",
    "some_function()\n",
    "print(f'val outside the function is also {val}')"
   ]
  },
  {
   "cell_type": "markdown",
   "id": "4c51aaf8-e469-4734-b1ab-c271e3ccd646",
   "metadata": {},
   "source": [
    "## Decorators"
   ]
  },
  {
   "cell_type": "code",
   "execution_count": 151,
   "id": "0efbf1c8-159d-4168-aab7-2fe42ebeba3e",
   "metadata": {},
   "outputs": [],
   "source": [
    "import atexit "
   ]
  },
  {
   "cell_type": "code",
   "execution_count": 1,
   "id": "3c8a20c5-97d2-4345-a565-f41cee1f5310",
   "metadata": {},
   "outputs": [
    {
     "name": "stdout",
     "output_type": "stream",
     "text": [
      "Hello!\n"
     ]
    }
   ],
   "source": [
    "import atexit\n",
    "\n",
    "@atexit.register \n",
    "def say_goodbye():\n",
    "  print('Goodbye!') \n",
    "\n",
    "print('Hello!')"
   ]
  },
  {
   "cell_type": "code",
   "execution_count": 149,
   "id": "d5492cc5-127b-40f5-8dcc-b9a0cdc16c0d",
   "metadata": {},
   "outputs": [],
   "source": [
    "\n",
    "\n",
    "from functools import singledispatch "
   ]
  },
  {
   "cell_type": "code",
   "execution_count": 24,
   "id": "6c5f5898-a96f-4c28-8781-7c0b8aefa345",
   "metadata": {},
   "outputs": [],
   "source": [
    "def friendly_type(var: list):\n",
    "    print(f'{var} is a list!')\n",
    "\n",
    "def friendly_type(var: dict):\n",
    "    print(f'{var} is a dictionary!')\n",
    "\n",
    "def friendly_type(var: str):\n",
    "    print(f'{var} is a string!')"
   ]
  },
  {
   "cell_type": "code",
   "execution_count": 25,
   "id": "55ffcc79-af1a-49d7-90a7-dadad543e61d",
   "metadata": {},
   "outputs": [
    {
     "name": "stdout",
     "output_type": "stream",
     "text": [
      "[1, 2, 3] is a string!\n"
     ]
    }
   ],
   "source": [
    "friendly_type([1, 2, 3])"
   ]
  },
  {
   "cell_type": "code",
   "execution_count": 36,
   "id": "ae1b5528-e3f3-43a8-9650-8722f934ed1b",
   "metadata": {},
   "outputs": [],
   "source": [
    "from functools import singledispatch \n",
    "\n",
    "@singledispatch\n",
    "def friendly_type():\n",
    "    pass\n",
    "\n",
    "@friendly_type.register(list)\n",
    "def friendly_type_list(var):\n",
    "    print(f'{var} is a list!')\n",
    "\n",
    "@friendly_type.register(dict)\n",
    "def friendly_type_dict(var):\n",
    "    print(f'{var} is a dictionary!')\n",
    "\n",
    "@friendly_type.register(str)\n",
    "def friendly_type_str(var):\n",
    "    print(f'{var} is a string!')\n",
    "\n"
   ]
  },
  {
   "cell_type": "code",
   "execution_count": 38,
   "id": "2d623fff-b3cf-4b60-a858-6864163c2335",
   "metadata": {},
   "outputs": [
    {
     "name": "stdout",
     "output_type": "stream",
     "text": [
      "[1, 2, 3] is a list!\n"
     ]
    }
   ],
   "source": [
    "friendly_type([1, 2, 3])"
   ]
  },
  {
   "cell_type": "code",
   "execution_count": 52,
   "id": "2a102782-abe3-4c91-a709-3b6e1b54e9e5",
   "metadata": {},
   "outputs": [],
   "source": [
    "def custom_decorator(func):\n",
    "    def inner_func(*args, **kwargs):\n",
    "        print('You called a function with a custom_decorator!')\n",
    "        return_val = func(*args, **kwargs)\n",
    "        print('Done executing the function. That was fun!')\n",
    "        return return_val\n",
    "\n",
    "    return inner_func\n",
    "\n",
    "\n",
    "@custom_decorator\n",
    "def any_func(a, b):\n",
    "    return a + b\n",
    "        "
   ]
  },
  {
   "cell_type": "code",
   "execution_count": 53,
   "id": "596a6943-acd6-483c-9b42-82d6bc1e6f5b",
   "metadata": {},
   "outputs": [
    {
     "name": "stdout",
     "output_type": "stream",
     "text": [
      "You called a function with a custom_decorator!\n",
      "Done executing the function. That was fun!\n"
     ]
    },
    {
     "data": {
      "text/plain": [
       "7"
      ]
     },
     "execution_count": 53,
     "metadata": {},
     "output_type": "execute_result"
    }
   ],
   "source": [
    "any_func(3, 4)"
   ]
  },
  {
   "cell_type": "code",
   "execution_count": 57,
   "id": "c762cf6c-b5c7-4f7b-bb69-af7ca1969c7e",
   "metadata": {},
   "outputs": [
    {
     "name": "stdout",
     "output_type": "stream",
     "text": [
      "I'm sorry, Dave, I'm afraid I can't do that.\n",
      "This mission is too important for me to allow you to jeopardize it.\n"
     ]
    }
   ],
   "source": [
    "def hal(func):\n",
    "    def inner_func(*args, **kwargs):\n",
    "        print('I\\'m sorry, Dave, I\\'m afraid I can\\'t do that.')\n",
    "        print('This mission is too important for me to allow you to jeopardize it.''')\n",
    "    return inner_func\n",
    "\n",
    "\n",
    "@hal\n",
    "def any_func(a, b):\n",
    "    return a + b\n",
    "\n",
    "any_func()"
   ]
  },
  {
   "cell_type": "code",
   "execution_count": 17,
   "id": "2ba4e01f-a908-4f58-9cef-1f2d000be596",
   "metadata": {},
   "outputs": [
    {
     "name": "stdout",
     "output_type": "stream",
     "text": [
      "This function is decorated with some message here\n"
     ]
    },
    {
     "data": {
      "text/plain": [
       "7"
      ]
     },
     "execution_count": 17,
     "metadata": {},
     "output_type": "execute_result"
    }
   ],
   "source": [
    "def decorator_with_arguments(message):\n",
    "    def decorator(func):\n",
    "        def inner_function(*args, **kwargs):\n",
    "            print(f'This function is decorated with {message}')\n",
    "            return func(*args, **kwargs)\n",
    "        return inner_function\n",
    "    return decorator\n",
    "\n",
    "@decorator_with_arguments('some message here')\n",
    "def any_func(a, b):\n",
    "    return a + b\n",
    "\n",
    "any_func(3, 4)\n",
    "            \n",
    "            "
   ]
  },
  {
   "cell_type": "code",
   "execution_count": 16,
   "id": "2806e26c-bfbc-40e9-8065-815c980d205f",
   "metadata": {},
   "outputs": [
    {
     "name": "stdout",
     "output_type": "stream",
     "text": [
      "{'friendly_type': {'list': <function friendly_type_list at 0x10620e0c0>, 'dict': <function friendly_type_dict at 0x10620d620>, 'str': <function friendly_type_str at 0x10613fa60>}}\n",
      "[1, 2, 3] is a list!\n"
     ]
    }
   ],
   "source": [
    "from functools import singledispatch \n",
    "\n",
    "functions = {}\n",
    "\n",
    "def customdispatch(func):\n",
    "    def inner_function(arg):\n",
    "        global functions\n",
    "        print(functions)\n",
    "        # We want to call parent_function, not func\n",
    "        functions[func.__name__][type(arg).__name__](arg)\n",
    "        \n",
    "    return inner_function\n",
    "    \n",
    "\n",
    "\n",
    "def register(registered_function_name, arg_type):\n",
    "    def customdispatch_decorator(type_handling_func):\n",
    "        global functions\n",
    "        if registered_function_name not in functions:\n",
    "            functions[registered_function_name] = {}\n",
    "        functions[registered_function_name][arg_type.__name__] = type_handling_func\n",
    "        def inner_function(arg):\n",
    "            print('Do not call directly')\n",
    "        return inner_function\n",
    "    return customdispatch_decorator\n",
    "            \n",
    "\n",
    "@customdispatch\n",
    "def friendly_type(arg):\n",
    "    pass\n",
    "\n",
    "@register('friendly_type', list)\n",
    "def friendly_type_list(var):\n",
    "    print(f'{var} is a list!')\n",
    "\n",
    "@register('friendly_type', dict)\n",
    "def friendly_type_dict(var):\n",
    "    print(f'{var} is a dictionary!')\n",
    "\n",
    "@register('friendly_type', str)\n",
    "def friendly_type_str(var):\n",
    "    print(f'{var} is a string!')\n",
    "\n",
    "friendly_type([1, 2, 3])"
   ]
  },
  {
   "cell_type": "code",
   "execution_count": null,
   "id": "180a48c2-0967-4505-8657-5c8399b8b382",
   "metadata": {},
   "outputs": [],
   "source": []
  },
  {
   "cell_type": "code",
   "execution_count": null,
   "id": "5bea3e3b-e7bc-4fdf-af4d-9dbd6c684440",
   "metadata": {},
   "outputs": [],
   "source": []
  }
 ],
 "metadata": {
  "kernelspec": {
   "display_name": "Python 3 (ipykernel)",
   "language": "python",
   "name": "python3"
  },
  "language_info": {
   "codemirror_mode": {
    "name": "ipython",
    "version": 3
   },
   "file_extension": ".py",
   "mimetype": "text/x-python",
   "name": "python",
   "nbconvert_exporter": "python",
   "pygments_lexer": "ipython3",
   "version": "3.12.4"
  }
 },
 "nbformat": 4,
 "nbformat_minor": 5
}
