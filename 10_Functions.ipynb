{
 "cells": [
  {
   "cell_type": "markdown",
   "id": "b3c4157a-6311-419e-80a8-55cd898984fe",
   "metadata": {},
   "source": [
    "# Functions"
   ]
  },
  {
   "cell_type": "markdown",
   "id": "e4a94f28-5f03-4c76-a85a-b949a8923eaf",
   "metadata": {},
   "source": [
    "## Positional arguments and keyword functions"
   ]
  },
  {
   "cell_type": "code",
   "execution_count": 1,
   "id": "37bc4403-8894-4a73-be43-3736e48c6c1c",
   "metadata": {},
   "outputs": [
    {
     "data": {
      "text/plain": [
       "6"
      ]
     },
     "execution_count": 1,
     "metadata": {},
     "output_type": "execute_result"
    }
   ],
   "source": [
    "def add(a, b, c):\n",
    "    return sum([a, b, c])\n",
    "\n",
    "add(1,2,3)"
   ]
  },
  {
   "cell_type": "code",
   "execution_count": 3,
   "id": "88b6abc4-05e7-4920-8c13-7c0fd33ae0be",
   "metadata": {},
   "outputs": [
    {
     "data": {
      "text/plain": [
       "15"
      ]
     },
     "execution_count": 3,
     "metadata": {},
     "output_type": "execute_result"
    }
   ],
   "source": [
    "def add(list_of_values):\n",
    "    return sum(list_of_values)\n",
    "\n",
    "add([1,2,3,4,5])"
   ]
  },
  {
   "cell_type": "code",
   "execution_count": 11,
   "id": "72003a75-df14-405b-9771-78d4aa157cd0",
   "metadata": {},
   "outputs": [
    {
     "ename": "TypeError",
     "evalue": "sum() takes at most 2 arguments (5 given)",
     "output_type": "error",
     "traceback": [
      "\u001b[0;31m---------------------------------------------------------------------------\u001b[0m",
      "\u001b[0;31mTypeError\u001b[0m                                 Traceback (most recent call last)",
      "Cell \u001b[0;32mIn[11], line 1\u001b[0m\n\u001b[0;32m----> 1\u001b[0m \u001b[38;5;28;43msum\u001b[39;49m\u001b[43m(\u001b[49m\u001b[38;5;241;43m1\u001b[39;49m\u001b[43m,\u001b[49m\u001b[43m \u001b[49m\u001b[38;5;241;43m2\u001b[39;49m\u001b[43m,\u001b[49m\u001b[43m \u001b[49m\u001b[38;5;241;43m3\u001b[39;49m\u001b[43m,\u001b[49m\u001b[43m \u001b[49m\u001b[38;5;241;43m4\u001b[39;49m\u001b[43m,\u001b[49m\u001b[43m \u001b[49m\u001b[38;5;241;43m5\u001b[39;49m\u001b[43m)\u001b[49m\n",
      "\u001b[0;31mTypeError\u001b[0m: sum() takes at most 2 arguments (5 given)"
     ]
    }
   ],
   "source": [
    "sum(1, 2, 3, 4, 5)"
   ]
  },
  {
   "cell_type": "code",
   "execution_count": 13,
   "id": "a18dbaaf-2ae6-4dd9-8913-3d05948578b8",
   "metadata": {},
   "outputs": [
    {
     "name": "stdout",
     "output_type": "stream",
     "text": [
      "(1, 2, 3, 4, 5)\n"
     ]
    },
    {
     "data": {
      "text/plain": [
       "15"
      ]
     },
     "execution_count": 13,
     "metadata": {},
     "output_type": "execute_result"
    }
   ],
   "source": [
    "def add(*args):\n",
    "    return sum(args)\n",
    "\n",
    "add(1, 2, 3, 4, 5)"
   ]
  },
  {
   "cell_type": "code",
   "execution_count": 16,
   "id": "38dc7f85-6dd3-4538-96ac-7bfd767e0507",
   "metadata": {},
   "outputs": [
    {
     "name": "stdout",
     "output_type": "stream",
     "text": [
      "(1, 2, 3, 4, 5)\n"
     ]
    },
    {
     "data": {
      "text/plain": [
       "15"
      ]
     },
     "execution_count": 16,
     "metadata": {},
     "output_type": "execute_result"
    }
   ],
   "source": [
    "def add(*args):\n",
    "    print(args)\n",
    "    return sum(args)\n",
    "\n",
    "add(1, 2, 3, 4, 5)\n"
   ]
  },
  {
   "cell_type": "code",
   "execution_count": 8,
   "id": "afe66b25-6a67-424b-b8b2-86a76547afb7",
   "metadata": {},
   "outputs": [
    {
     "name": "stdout",
     "output_type": "stream",
     "text": [
      "Bienvenue Pierre\n",
      "Bienvenue Marie\n",
      "Bienvenue Louis\n"
     ]
    }
   ],
   "source": [
    "def greet(salutation, *names):\n",
    "    for name in names:\n",
    "        print(f'{salutation} {name}')\n",
    "\n",
    "\n",
    "greet('Bienvenue', 'Pierre', 'Marie', 'Louis')"
   ]
  },
  {
   "cell_type": "code",
   "execution_count": 11,
   "id": "7ff0e8d8-35e8-408b-b58a-c5ddda23190b",
   "metadata": {},
   "outputs": [],
   "source": [
    "one, two, *the_rest = [1, 2, 3, 4, 5]"
   ]
  },
  {
   "cell_type": "code",
   "execution_count": 13,
   "id": "0cd819cd-10d7-4e89-a6e7-0437e093d712",
   "metadata": {},
   "outputs": [],
   "source": [
    "one, *middle_stuff, five = [1, 2, 3, 4, 5]\n",
    "*beginning_stuff, four, five = [1, 2, 3, 4, 5]"
   ]
  },
  {
   "cell_type": "code",
   "execution_count": 16,
   "id": "73172eef-8119-44b2-b5fb-82f71f7ac48c",
   "metadata": {},
   "outputs": [
    {
     "ename": "TypeError",
     "evalue": "greet() missing 1 required keyword-only argument: 'suffix'",
     "output_type": "error",
     "traceback": [
      "\u001b[31m---------------------------------------------------------------------------\u001b[39m",
      "\u001b[31mTypeError\u001b[39m                                 Traceback (most recent call last)",
      "\u001b[36mCell\u001b[39m\u001b[36m \u001b[39m\u001b[32mIn[16]\u001b[39m\u001b[32m, line 5\u001b[39m\n\u001b[32m      2\u001b[39m     \u001b[38;5;28;01mfor\u001b[39;00m name \u001b[38;5;129;01min\u001b[39;00m names:\n\u001b[32m      3\u001b[39m         \u001b[38;5;28mprint\u001b[39m(\u001b[33mf\u001b[39m\u001b[33m'\u001b[39m\u001b[38;5;132;01m{\u001b[39;00msalutation\u001b[38;5;132;01m}\u001b[39;00m\u001b[33m \u001b[39m\u001b[38;5;132;01m{\u001b[39;00mname\u001b[38;5;132;01m}\u001b[39;00m\u001b[38;5;132;01m{\u001b[39;00msuffix\u001b[38;5;132;01m}\u001b[39;00m\u001b[33m'\u001b[39m)\n\u001b[32m----> \u001b[39m\u001b[32m5\u001b[39m greet(\u001b[33m'\u001b[39m\u001b[33mBienvenue\u001b[39m\u001b[33m'\u001b[39m, \u001b[33m'\u001b[39m\u001b[33mPierre\u001b[39m\u001b[33m'\u001b[39m, \u001b[33m'\u001b[39m\u001b[33mMarie\u001b[39m\u001b[33m'\u001b[39m, \u001b[33m'\u001b[39m\u001b[33mLouis\u001b[39m\u001b[33m'\u001b[39m, \u001b[33m'\u001b[39m\u001b[33m!\u001b[39m\u001b[33m'\u001b[39m)\n",
      "\u001b[31mTypeError\u001b[39m: greet() missing 1 required keyword-only argument: 'suffix'"
     ]
    }
   ],
   "source": [
    "def greet(salutation, *names, suffix):\n",
    "    for name in names:\n",
    "        print(f'{salutation} {name}{suffix}')\n",
    "\n",
    "greet('Bienvenue', 'Pierre', 'Marie', 'Louis', '!')\n"
   ]
  },
  {
   "cell_type": "markdown",
   "id": "d24472ce-935d-4161-a304-44f448257e93",
   "metadata": {},
   "source": [
    "## Keyword Arguments"
   ]
  },
  {
   "cell_type": "code",
   "execution_count": 17,
   "id": "f9b63910-ae57-48ba-b672-c366430d35f1",
   "metadata": {},
   "outputs": [
    {
     "name": "stdout",
     "output_type": "stream",
     "text": [
      "Bienvenue Pierre!\n",
      "Bienvenue Marie!\n",
      "Bienvenue Louis!\n"
     ]
    }
   ],
   "source": [
    "def greet(*names, salutation='', suffix=''):\n",
    "    for name in names:\n",
    "        print(f'{salutation} {name}{suffix}')\n",
    "\n",
    "greet('Pierre', 'Marie', 'Louis', salutation='Bienvenue', suffix='!') \n"
   ]
  },
  {
   "cell_type": "code",
   "execution_count": 18,
   "id": "4bc2828e-f1e3-4898-9681-144524a512bc",
   "metadata": {},
   "outputs": [
    {
     "name": "stdout",
     "output_type": "stream",
     "text": [
      "Dear Pierre,\n",
      "Dear Marie,\n",
      "Dear Louis,\n"
     ]
    }
   ],
   "source": [
    "def greet(*names, salutation='Dear', suffix=','):\n",
    "    for name in names:\n",
    "        print(f'{salutation} {name}{suffix}')\n",
    "\n",
    "greet('Pierre', 'Marie', 'Louis') "
   ]
  },
  {
   "cell_type": "code",
   "execution_count": 19,
   "id": "b183c99a-adfe-4896-a167-41ce715011d7",
   "metadata": {},
   "outputs": [
    {
     "name": "stdout",
     "output_type": "stream",
     "text": [
      "Bienvenue Pierre!\n",
      "Bienvenue Marie!\n",
      "Bienvenue Louis!\n",
      "Bienvenue Pierre!\n",
      "Bienvenue Marie!\n",
      "Bienvenue Louis!\n",
      "Bienvenue Pierre,\n",
      "Bienvenue Marie,\n",
      "Bienvenue Louis,\n",
      "Dear Pierre!\n",
      "Dear Marie!\n",
      "Dear Louis!\n"
     ]
    }
   ],
   "source": [
    "greet('Pierre', 'Marie', 'Louis', suffix='!', salutation='Bienvenue')\n",
    "greet('Pierre', 'Marie', 'Louis', salutation='Bienvenue', suffix='!')\n",
    "greet('Pierre', 'Marie', 'Louis', salutation='Bienvenue')\n",
    "greet('Pierre', 'Marie', 'Louis', suffix='!')\n"
   ]
  },
  {
   "cell_type": "code",
   "execution_count": 20,
   "id": "df6b9f4c-e028-46fb-8197-3a80c0bb196a",
   "metadata": {},
   "outputs": [
    {
     "data": {
      "text/plain": [
       "0.2"
      ]
     },
     "execution_count": 20,
     "metadata": {},
     "output_type": "execute_result"
    }
   ],
   "source": [
    "def division(numerator=1, denominator=2):\n",
    "    return numerator/denominator\n",
    "\n",
    "division(2, 10)"
   ]
  },
  {
   "cell_type": "code",
   "execution_count": 21,
   "id": "4a9651f9-8db4-4121-9754-0c965caa5a25",
   "metadata": {},
   "outputs": [
    {
     "data": {
      "text/plain": [
       "0.2"
      ]
     },
     "execution_count": 21,
     "metadata": {},
     "output_type": "execute_result"
    }
   ],
   "source": [
    "division(numerator=2, denominator=10)"
   ]
  },
  {
   "cell_type": "code",
   "execution_count": 22,
   "id": "4b5565ff-4279-4b3a-915e-5de85afaa522",
   "metadata": {},
   "outputs": [
    {
     "name": "stdout",
     "output_type": "stream",
     "text": [
      " Pierre\n",
      " Marie\n",
      " Louis\n",
      " Bienvenue\n",
      " !\n"
     ]
    }
   ],
   "source": [
    "def greet(*names, salutation='', suffix=''):\n",
    "    for name in names:\n",
    "        print(f'{salutation} {name}{suffix}')\n",
    "\n",
    "greet('Pierre', 'Marie', 'Louis', 'Bienvenue', '!') "
   ]
  },
  {
   "cell_type": "code",
   "execution_count": 23,
   "id": "1e1e62c9-9922-4099-b6b9-79318b400122",
   "metadata": {},
   "outputs": [
    {
     "name": "stdout",
     "output_type": "stream",
     "text": [
      "{'de': 'Willkommen', 'fr': 'Bienvenue', 'en': 'Welcome'}\n"
     ]
    }
   ],
   "source": [
    "def multilingual_greetings(**kwargs):\n",
    "    print(kwargs)\n",
    "\n",
    "multilingual_greetings(de='Willkommen', fr='Bienvenue', en='Welcome')\n"
   ]
  },
  {
   "cell_type": "code",
   "execution_count": 46,
   "id": "82114e37-76a3-4324-b219-025a25638e8d",
   "metadata": {},
   "outputs": [
    {
     "name": "stdout",
     "output_type": "stream",
     "text": [
      "Willkommen Ryan\n",
      "Bienvenue Ryan\n",
      "Welcome Ryan\n"
     ]
    }
   ],
   "source": [
    "def multilingual_greetings(name='', **kwargs):\n",
    "    for _, greeting in kwargs.items():\n",
    "        print(f'{greeting} {name}')\n",
    "\n",
    "multilingual_greetings(name='Ryan', de='Willkommen', fr='Bienvenue', en='Welcome')"
   ]
  },
  {
   "cell_type": "markdown",
   "id": "2230fec8-81b9-4f4e-b02c-9da1b916ea49",
   "metadata": {},
   "source": [
    "## Functions as first class objects"
   ]
  },
  {
   "cell_type": "code",
   "execution_count": 25,
   "id": "263dfa2a-1f8a-46c0-88c7-d838a938217a",
   "metadata": {},
   "outputs": [],
   "source": [
    "def some_function(a, b):\n",
    "    return f'a is {a} and b is {b}'"
   ]
  },
  {
   "cell_type": "code",
   "execution_count": 26,
   "id": "808c217c-cc17-4358-b0d9-f28db2c6f8ab",
   "metadata": {},
   "outputs": [
    {
     "data": {
      "text/plain": [
       "<function __main__.some_function(a, b)>"
      ]
     },
     "execution_count": 26,
     "metadata": {},
     "output_type": "execute_result"
    }
   ],
   "source": [
    "some_function"
   ]
  },
  {
   "cell_type": "code",
   "execution_count": 58,
   "id": "dca0ccc2-a4d8-4d8a-909e-ae7005e312db",
   "metadata": {},
   "outputs": [
    {
     "name": "stdout",
     "output_type": "stream",
     "text": [
      "('a', 'b')\n",
      "b'\\x97\\x00d\\x01|\\x00\\x9b\\x00d\\x02|\\x01\\x9b\\x00\\x9d\\x04S\\x00'\n"
     ]
    }
   ],
   "source": [
    "print(some_function.__code__.co_varnames)\n",
    "print(some_function.__code__.co_code)"
   ]
  },
  {
   "cell_type": "code",
   "execution_count": 27,
   "id": "7b5a56a8-a924-4d6e-bbae-e12445fdb9a0",
   "metadata": {},
   "outputs": [
    {
     "data": {
      "text/plain": [
       "\"def some_function(a, b):\\n    return f'a is {a} and b is {b}'\\n\""
      ]
     },
     "execution_count": 27,
     "metadata": {},
     "output_type": "execute_result"
    }
   ],
   "source": [
    "import inspect\n",
    "\n",
    "inspect.getsource(some_function)"
   ]
  },
  {
   "cell_type": "code",
   "execution_count": 1,
   "id": "68a57b23-df53-4563-a692-d271e25b94df",
   "metadata": {},
   "outputs": [],
   "source": [
    "text = '''\n",
    "Beautiful is better than ugly.\n",
    "Explicit is better than implicit.\n",
    "Simple is better than complex.\n",
    "Complex is better than complicated.\n",
    "Flat is better than nested.\n",
    "Sparse is better than dense.\n",
    "Readability counts.\n",
    "Special cases aren't special enough to break the rules.\n",
    "Although practicality beats purity.\n",
    "Errors should never pass silently.\n",
    "Unless explicitly silenced.\n",
    "In the face of ambiguity, refuse the temptation to guess.\n",
    "There should be one-- and preferably only one --obvious way to do it.\n",
    "Although that way may not be obvious at first unless you're Dutch.\n",
    "Now is better than never.\n",
    "Although never is often better than *right* now.\n",
    "If the implementation is hard to explain, it's a bad idea.\n",
    "If the implementation is easy to explain, it may be a good idea.\n",
    "Namespaces are one honking great idea -- let's do more of those!\n",
    "'''"
   ]
  },
  {
   "cell_type": "code",
   "execution_count": 29,
   "id": "41dde9ed-2d38-47e5-b90d-8bbac29dfd86",
   "metadata": {},
   "outputs": [],
   "source": [
    "def lowercase(text):\n",
    "    return text.lower()\n",
    "\n",
    "def remove_punctuation(text):\n",
    "    punctuations = ['.', '-', ',', '*', '\\'']\n",
    "    for punctuation in punctuations:\n",
    "        text = text.replace(punctuation, '')\n",
    "    return text\n",
    "\n",
    "def remove_newlines(text):\n",
    "    text = text.replace('\\n', ' ')\n",
    "    return text\n",
    "\n",
    "def remove_short_words(text):\n",
    "    return ' '.join([word for word in text.split() if len(word) > 3])\n",
    "\n",
    "def remove_long_words(text):\n",
    "    return ' '.join([word for word in text.split() if len(word) < 6])"
   ]
  },
  {
   "cell_type": "code",
   "execution_count": 30,
   "id": "d230ed06-4008-4fa1-a68a-9de2e0e66111",
   "metadata": {},
   "outputs": [],
   "source": [
    "processing_functions = [\n",
    "    lowercase,\n",
    "    remove_punctuation,\n",
    "    remove_newlines,\n",
    "    remove_long_words\n",
    "]\n",
    "\n",
    "for func in processing_functions:\n",
    "    text = func(text)\n"
   ]
  },
  {
   "cell_type": "code",
   "execution_count": 31,
   "id": "cb0826dc-d133-4497-9a76-7a4643329d5a",
   "metadata": {},
   "outputs": [],
   "source": [
    "def apply_text_processing(processing_functions, text):\n",
    "    for func in processing_functions:\n",
    "        text = func(text)\n",
    "    return text\n",
    "    "
   ]
  },
  {
   "cell_type": "code",
   "execution_count": 33,
   "id": "71ef7d26-b1e9-4893-9c07-236eeb07084f",
   "metadata": {},
   "outputs": [
    {
     "data": {
      "text/plain": [
       "'is than ugly is than is than is than flat is than is than dense cases arent to break the rules beats never pass in the face of the to guess there be one and only one way to do it that way may not be at first youre dutch now is than never never is often than right now if the is hard to its a bad idea if the is easy to it may be a good idea are one great idea lets do more of'"
      ]
     },
     "execution_count": 33,
     "metadata": {},
     "output_type": "execute_result"
    }
   ],
   "source": [
    "apply_text_processing([\n",
    "    lowercase,\n",
    "    remove_punctuation,\n",
    "    remove_newlines,\n",
    "    remove_long_words\n",
    "], text)"
   ]
  },
  {
   "cell_type": "markdown",
   "id": "20490379-66e5-4508-8781-1e078d5fe010",
   "metadata": {},
   "source": [
    "## Lambda functions"
   ]
  },
  {
   "cell_type": "code",
   "execution_count": 34,
   "id": "d85a05d9-4bc9-49ea-97a8-1f538044023a",
   "metadata": {},
   "outputs": [
    {
     "data": {
      "text/plain": [
       "5"
      ]
     },
     "execution_count": 34,
     "metadata": {},
     "output_type": "execute_result"
    }
   ],
   "source": [
    "5"
   ]
  },
  {
   "cell_type": "code",
   "execution_count": 35,
   "id": "0dd7d4b8-9684-45e3-a328-b86bfab1b281",
   "metadata": {},
   "outputs": [
    {
     "name": "stdout",
     "output_type": "stream",
     "text": [
      "5\n"
     ]
    }
   ],
   "source": [
    "def print_number(number=0):\n",
    "    print(number)\n",
    "\n",
    "print_number(number=5)"
   ]
  },
  {
   "cell_type": "code",
   "execution_count": 40,
   "id": "1354efb4-e986-41d0-9cc8-5f6b447594f3",
   "metadata": {},
   "outputs": [
    {
     "name": "stdout",
     "output_type": "stream",
     "text": [
      "[{'name': 'Alice', 'age': 40}, {'name': 'Bob', 'age': 30}, {'name': 'Charlie', 'age': 10}, {'name': 'Diana', 'age': 20}]\n"
     ]
    }
   ],
   "source": [
    "people = [\n",
    "    {'name': 'Bob', 'age': 30},\n",
    "    {'name': 'Diana', 'age': 20},\n",
    "    {'name': 'Alice', 'age': 40},\n",
    "    {'name': 'Charlie', 'age': 10},\n",
    "]\n",
    "\n",
    "def name_key(person):\n",
    "    return person['name']\n",
    "\n",
    "people.sort(key=name_key)\n",
    "print(people)\n"
   ]
  },
  {
   "cell_type": "code",
   "execution_count": 41,
   "id": "7ac36133-023c-4284-81fa-081a5cb0ac20",
   "metadata": {},
   "outputs": [],
   "source": [
    "people.sort(key=lambda person: person['name'])"
   ]
  },
  {
   "cell_type": "code",
   "execution_count": 42,
   "id": "e347c447-fb1d-4f25-945f-26faba620bac",
   "metadata": {},
   "outputs": [],
   "source": [
    "people.sort(key=lambda p: p['name'])"
   ]
  },
  {
   "cell_type": "code",
   "execution_count": 43,
   "id": "a502b395-bd68-49f5-9883-dbbd1287120f",
   "metadata": {},
   "outputs": [
    {
     "data": {
      "text/plain": [
       "6"
      ]
     },
     "execution_count": 43,
     "metadata": {},
     "output_type": "execute_result"
    }
   ],
   "source": [
    "(lambda x, y, z: x * y * z)(1, 2, 3)"
   ]
  },
  {
   "cell_type": "code",
   "execution_count": 44,
   "id": "965f32de-8f37-4b94-acd3-3d76e16cab8d",
   "metadata": {},
   "outputs": [],
   "source": [
    "def apply_transformation(*args, transformer=lambda n: n * 3):\n",
    "    print(f'Applying function {transformer.__name__} to {args}')\n",
    "    return transformer(*args)"
   ]
  },
  {
   "cell_type": "code",
   "execution_count": 45,
   "id": "22367e4c-f70b-4d9e-8ced-83132065a0ff",
   "metadata": {},
   "outputs": [
    {
     "name": "stdout",
     "output_type": "stream",
     "text": [
      "Applying function <lambda> to (2,)\n"
     ]
    },
    {
     "data": {
      "text/plain": [
       "6"
      ]
     },
     "execution_count": 45,
     "metadata": {},
     "output_type": "execute_result"
    }
   ],
   "source": [
    "apply_transformation(2)"
   ]
  },
  {
   "cell_type": "markdown",
   "id": "6c002858-ade3-47c5-acb3-d8210d818a11",
   "metadata": {},
   "source": [
    "## Namespace and Scope"
   ]
  },
  {
   "cell_type": "code",
   "execution_count": 46,
   "id": "031373df-5efb-42b6-a228-e6a7c18398d9",
   "metadata": {},
   "outputs": [],
   "source": [
    "val = 5"
   ]
  },
  {
   "cell_type": "code",
   "execution_count": 47,
   "id": "03975c6a-3944-40b0-8bf0-65f40f33277b",
   "metadata": {},
   "outputs": [
    {
     "name": "stdout",
     "output_type": "stream",
     "text": [
      "Value of val in the add_one function: 6\n",
      "Outside value of val: 5\n"
     ]
    }
   ],
   "source": [
    "def add_one(val):\n",
    "    val += 1\n",
    "    print(f'Value of val in the add_one function: {val}')\n",
    "\n",
    "val = 5\n",
    "add_one(val)\n",
    "print(f'Outside value of val: {val}')\n"
   ]
  },
  {
   "cell_type": "code",
   "execution_count": 48,
   "id": "a66a5299-840b-4919-9842-7c203f12c0d0",
   "metadata": {},
   "outputs": [
    {
     "name": "stdout",
     "output_type": "stream",
     "text": [
      "Value of function_val in the add_one function: 6\n",
      "Outside value of val: 5\n"
     ]
    }
   ],
   "source": [
    "def add_one(function_val):\n",
    "    function_val += 1\n",
    "    print(f'Value of function_val in the add_one function: {function_val}')\n",
    "\n",
    "val = 5\n",
    "add_one(val)\n",
    "print(f'Outside value of val: {val}')\n"
   ]
  },
  {
   "cell_type": "code",
   "execution_count": 49,
   "id": "c1a72ec6-e53b-4029-a509-793f2e6027b6",
   "metadata": {},
   "outputs": [
    {
     "name": "stdout",
     "output_type": "stream",
     "text": [
      "Value of function_val in the add_one function: 6\n",
      "Value of val in the add_one function is: 5\n",
      "Outside value of val: 5\n"
     ]
    }
   ],
   "source": [
    "def add_one(function_val):\n",
    "    function_val += 1\n",
    "    print(f'Value of function_val in the add_one function: {function_val}')\n",
    "    print(f'Value of val in the add_one function is: {val}')\n",
    "\n",
    "val = 5\n",
    "add_one(val)\n",
    "print(f'Outside value of val: {val}')\n"
   ]
  },
  {
   "cell_type": "code",
   "execution_count": 50,
   "id": "6606bb61-128b-4536-b2d7-55b2c887d569",
   "metadata": {},
   "outputs": [
    {
     "name": "stdout",
     "output_type": "stream",
     "text": [
      "val is: 5\n"
     ]
    }
   ],
   "source": [
    "val = 5\n",
    "\n",
    "def some_function():\n",
    "    print(f'val is: {val}')\n",
    "\n",
    "some_function()"
   ]
  },
  {
   "cell_type": "code",
   "execution_count": 51,
   "id": "964f0003-a885-4aae-84cf-b5172b4b8024",
   "metadata": {},
   "outputs": [
    {
     "name": "stdout",
     "output_type": "stream",
     "text": [
      "val is: 5\n"
     ]
    }
   ],
   "source": [
    "some_function()"
   ]
  },
  {
   "cell_type": "code",
   "execution_count": 54,
   "id": "686dd88e-076b-4f10-a23d-b8544a16ac42",
   "metadata": {},
   "outputs": [
    {
     "name": "stdout",
     "output_type": "stream",
     "text": [
      "function_two locals: {'a': 5, 'b': 6, 'd': 7}\n",
      "function_one locals: {'a': 1, 'b': 2, 'c': 3, 'function_two': <function function_one.<locals>.function_two at 0x1675cb880>}\n"
     ]
    }
   ],
   "source": [
    "def function_one(a, b, c):\n",
    "    def function_two(a, b):\n",
    "        d = 7\n",
    "        print(f'function_two locals: {locals()}')\n",
    "\n",
    "    function_two(5, 6)\n",
    "    print(f'function_one locals: {locals()}')\n",
    "\n",
    "function_one(1, 2, 3)\n",
    "        "
   ]
  },
  {
   "cell_type": "code",
   "execution_count": 55,
   "id": "b69a3ca7-4ae9-41b5-8e88-4d79dce182c8",
   "metadata": {},
   "outputs": [
    {
     "name": "stdout",
     "output_type": "stream",
     "text": [
      "False\n"
     ]
    }
   ],
   "source": [
    "print('function_two' in globals())\n"
   ]
  },
  {
   "cell_type": "code",
   "execution_count": 56,
   "id": "615c71cc-c0c7-4484-b7fc-38e5d4969978",
   "metadata": {},
   "outputs": [
    {
     "name": "stdout",
     "output_type": "stream",
     "text": [
      "val is: 5\n"
     ]
    }
   ],
   "source": [
    "val = 5\n",
    "\n",
    "def some_function():\n",
    "    print(f'val is: {val}')\n",
    "\n",
    "some_function()"
   ]
  },
  {
   "cell_type": "code",
   "execution_count": 57,
   "id": "dfd1bbb7-bb06-4f08-b04b-33992c349937",
   "metadata": {},
   "outputs": [
    {
     "ename": "UnboundLocalError",
     "evalue": "cannot access local variable 'val' where it is not associated with a value",
     "output_type": "error",
     "traceback": [
      "\u001b[31m---------------------------------------------------------------------------\u001b[39m",
      "\u001b[31mUnboundLocalError\u001b[39m                         Traceback (most recent call last)",
      "\u001b[36mCell\u001b[39m\u001b[36m \u001b[39m\u001b[32mIn[57]\u001b[39m\u001b[32m, line 7\u001b[39m\n\u001b[32m      4\u001b[39m     \u001b[38;5;28mprint\u001b[39m(\u001b[33mf\u001b[39m\u001b[33m'\u001b[39m\u001b[33mval is: \u001b[39m\u001b[38;5;132;01m{\u001b[39;00mval\u001b[38;5;132;01m}\u001b[39;00m\u001b[33m'\u001b[39m)\n\u001b[32m      5\u001b[39m     val += \u001b[32m1\u001b[39m\n\u001b[32m----> \u001b[39m\u001b[32m7\u001b[39m some_function()\n",
      "\u001b[36mCell\u001b[39m\u001b[36m \u001b[39m\u001b[32mIn[57]\u001b[39m\u001b[32m, line 4\u001b[39m, in \u001b[36msome_function\u001b[39m\u001b[34m()\u001b[39m\n\u001b[32m      3\u001b[39m \u001b[38;5;28;01mdef\u001b[39;00m \u001b[34msome_function\u001b[39m():\n\u001b[32m----> \u001b[39m\u001b[32m4\u001b[39m     \u001b[38;5;28mprint\u001b[39m(\u001b[33mf\u001b[39m\u001b[33m'\u001b[39m\u001b[33mval is: \u001b[39m\u001b[38;5;132;01m{\u001b[39;00mval\u001b[38;5;132;01m}\u001b[39;00m\u001b[33m'\u001b[39m)\n\u001b[32m      5\u001b[39m     val += \u001b[32m1\u001b[39m\n",
      "\u001b[31mUnboundLocalError\u001b[39m: cannot access local variable 'val' where it is not associated with a value"
     ]
    }
   ],
   "source": [
    "val = 5\n",
    "\n",
    "def some_function():\n",
    "    print(f'val is: {val}')\n",
    "    val += 1\n",
    "\n",
    "some_function()\n"
   ]
  },
  {
   "cell_type": "code",
   "execution_count": 58,
   "id": "d68cbc33-0353-4589-a619-d5c135c11b94",
   "metadata": {},
   "outputs": [
    {
     "name": "stdout",
     "output_type": "stream",
     "text": [
      "val is: 6\n",
      "val outside the function is also 6\n"
     ]
    }
   ],
   "source": [
    "val = 5\n",
    "\n",
    "def some_function():\n",
    "    global val\n",
    "    val += 1\n",
    "    print(f'val is: {val}')\n",
    "\n",
    "some_function()\n",
    "print(f'val outside the function is also {val}')"
   ]
  },
  {
   "cell_type": "markdown",
   "id": "4c51aaf8-e469-4734-b1ab-c271e3ccd646",
   "metadata": {},
   "source": [
    "## Decorators"
   ]
  },
  {
   "cell_type": "code",
   "execution_count": 59,
   "id": "3c8a20c5-97d2-4345-a565-f41cee1f5310",
   "metadata": {},
   "outputs": [
    {
     "name": "stdout",
     "output_type": "stream",
     "text": [
      "Hello!\n"
     ]
    }
   ],
   "source": [
    "import atexit\n",
    "\n",
    "@atexit.register \n",
    "def say_goodbye():\n",
    "  print('Goodbye!') \n",
    "\n",
    "print('Hello!')"
   ]
  },
  {
   "cell_type": "code",
   "execution_count": 62,
   "id": "6c5f5898-a96f-4c28-8781-7c0b8aefa345",
   "metadata": {},
   "outputs": [
    {
     "name": "stdout",
     "output_type": "stream",
     "text": [
      "[1, 2, 3] is a string!\n"
     ]
    }
   ],
   "source": [
    "def friendly_type(var: list):\n",
    "    print(f'{var} is a list!')\n",
    "\n",
    "def friendly_type(var: dict):\n",
    "    print(f'{var} is a dictionary!')\n",
    "\n",
    "def friendly_type(var: str):\n",
    "    print(f'{var} is a string!')\n",
    "\n",
    "friendly_type([1, 2, 3])"
   ]
  },
  {
   "cell_type": "code",
   "execution_count": 63,
   "id": "ae1b5528-e3f3-43a8-9650-8722f934ed1b",
   "metadata": {},
   "outputs": [],
   "source": [
    "from functools import singledispatch \n",
    "\n",
    "@singledispatch\n",
    "def friendly_type():\n",
    "    pass\n",
    "\n",
    "@friendly_type.register(list)\n",
    "def friendly_type_list(var):\n",
    "    print(f'{var} is a list!')\n",
    "\n",
    "@friendly_type.register(dict)\n",
    "def friendly_type_dict(var):\n",
    "    print(f'{var} is a dictionary!')\n",
    "\n",
    "@friendly_type.register(str)\n",
    "def friendly_type_str(var):\n",
    "    print(f'{var} is a string!')\n",
    "\n"
   ]
  },
  {
   "cell_type": "code",
   "execution_count": 64,
   "id": "2d623fff-b3cf-4b60-a858-6864163c2335",
   "metadata": {},
   "outputs": [
    {
     "name": "stdout",
     "output_type": "stream",
     "text": [
      "[1, 2, 3] is a list!\n"
     ]
    }
   ],
   "source": [
    "friendly_type([1, 2, 3])"
   ]
  },
  {
   "cell_type": "code",
   "execution_count": 67,
   "id": "2a102782-abe3-4c91-a709-3b6e1b54e9e5",
   "metadata": {},
   "outputs": [],
   "source": [
    "def custom_decorator(func):\n",
    "    def inner_func(*args, **kwargs):\n",
    "        print('You called a function with a custom_decorator!')\n",
    "        return_val = func(*args, **kwargs)\n",
    "        print('Done executing the function. That was fun!')\n",
    "        return return_val\n",
    "\n",
    "    return inner_func        "
   ]
  },
  {
   "cell_type": "code",
   "execution_count": 68,
   "id": "bf313b5c-0b1f-4297-b5ca-62f5af345099",
   "metadata": {},
   "outputs": [],
   "source": [
    "@custom_decorator\n",
    "def any_func(a, b):\n",
    "    return a + b"
   ]
  },
  {
   "cell_type": "code",
   "execution_count": 69,
   "id": "596a6943-acd6-483c-9b42-82d6bc1e6f5b",
   "metadata": {},
   "outputs": [
    {
     "name": "stdout",
     "output_type": "stream",
     "text": [
      "You called a function with a custom_decorator!\n",
      "Done executing the function. That was fun!\n"
     ]
    },
    {
     "data": {
      "text/plain": [
       "7"
      ]
     },
     "execution_count": 69,
     "metadata": {},
     "output_type": "execute_result"
    }
   ],
   "source": [
    "any_func(3, 4)"
   ]
  },
  {
   "cell_type": "code",
   "execution_count": 70,
   "id": "c762cf6c-b5c7-4f7b-bb69-af7ca1969c7e",
   "metadata": {},
   "outputs": [
    {
     "name": "stdout",
     "output_type": "stream",
     "text": [
      "I'm sorry, Dave, I'm afraid I can't do that.\n",
      "This mission is too important for me to allow you to jeopardize it.\n"
     ]
    }
   ],
   "source": [
    "def hal(func):\n",
    "    def inner_func(*args, **kwargs):\n",
    "        print('I\\'m sorry, Dave, I\\'m afraid I can\\'t do that.')\n",
    "        print('This mission is too important for me to allow you to jeopardize it.''')\n",
    "    return inner_func\n",
    "\n",
    "\n",
    "@hal\n",
    "def any_func(a, b):\n",
    "    return a + b\n",
    "\n",
    "any_func()"
   ]
  },
  {
   "cell_type": "code",
   "execution_count": 71,
   "id": "2ba4e01f-a908-4f58-9cef-1f2d000be596",
   "metadata": {},
   "outputs": [
    {
     "name": "stdout",
     "output_type": "stream",
     "text": [
      "This function is decorated with some message here\n"
     ]
    },
    {
     "data": {
      "text/plain": [
       "7"
      ]
     },
     "execution_count": 71,
     "metadata": {},
     "output_type": "execute_result"
    }
   ],
   "source": [
    "def decorator_with_arguments(message):\n",
    "    def decorator(func):\n",
    "        def inner_function(*args, **kwargs):\n",
    "            print(f'This function is decorated with {message}')\n",
    "            return func(*args, **kwargs)\n",
    "        return inner_function\n",
    "    return decorator\n",
    "\n",
    "@decorator_with_arguments('some message here')\n",
    "def any_func(a, b):\n",
    "    return a + b\n",
    "\n",
    "any_func(3, 4)\n",
    "            \n",
    "            "
   ]
  },
  {
   "cell_type": "code",
   "execution_count": 73,
   "id": "52a2c7e6-ade4-46d3-8eab-ddde9ee4ad5e",
   "metadata": {},
   "outputs": [
    {
     "name": "stdout",
     "output_type": "stream",
     "text": [
      "inner_func\n"
     ]
    }
   ],
   "source": [
    "print(any_func.__name__)"
   ]
  },
  {
   "cell_type": "code",
   "execution_count": 72,
   "id": "223de60b-f31c-4691-8354-ee599efd9b49",
   "metadata": {},
   "outputs": [
    {
     "name": "stdout",
     "output_type": "stream",
     "text": [
      "<function custom_decorator.<locals>.inner_func at 0x167518fe0>\n",
      "<function custom_decorator.<locals>.inner_func at 0x167518fe0>\n",
      "inner_func\n"
     ]
    }
   ],
   "source": [
    "from functools import wraps\n",
    "\n",
    "def custom_decorator(func):\n",
    "    #@wraps(func)\n",
    "    def inner_func(*args, **kwargs):\n",
    "        print('You called a function with a custom_decorator!')\n",
    "        return_val = func(*args, **kwargs)\n",
    "        print('Done executing the function. That was fun!')\n",
    "        return return_val\n",
    "    print(inner_func)\n",
    "    return inner_func\n",
    "\n",
    "\n",
    "@custom_decorator\n",
    "def any_func(a, b):\n",
    "    return a + b\n",
    "\n",
    "print(any_func)\n",
    "print(any_func.__name__)"
   ]
  },
  {
   "cell_type": "code",
   "execution_count": 4,
   "id": "e0d83667-bdaf-47c1-8d6e-66919560762f",
   "metadata": {},
   "outputs": [
    {
     "data": {
      "text/plain": [
       "'some_func'"
      ]
     },
     "execution_count": 4,
     "metadata": {},
     "output_type": "execute_result"
    }
   ],
   "source": [
    "some_func.__name__"
   ]
  },
  {
   "cell_type": "markdown",
   "id": "6b3d1782-7480-4cd6-a5cc-8e22c0be80f3",
   "metadata": {},
   "source": [
    "## Exercises"
   ]
  },
  {
   "cell_type": "markdown",
   "id": "ae0a02e9-3f57-4e2a-b5b4-e420b02e145f",
   "metadata": {},
   "source": [
    "**1.**\n",
    "Write a function that takes an arbitrary number of string position arguments and returns their concatenation"
   ]
  },
  {
   "cell_type": "code",
   "execution_count": null,
   "id": "180a48c2-0967-4505-8657-5c8399b8b382",
   "metadata": {},
   "outputs": [],
   "source": []
  },
  {
   "cell_type": "markdown",
   "id": "968275bc-903b-4242-a69d-1b5bcafdf057",
   "metadata": {},
   "source": [
    "**2.**\n",
    "Write a function that takes another function (`func`) as an argument. Your function should print `func`’s name, along with the variables it expects in some friendly descriptive message."
   ]
  },
  {
   "cell_type": "code",
   "execution_count": null,
   "id": "5bea3e3b-e7bc-4fdf-af4d-9dbd6c684440",
   "metadata": {},
   "outputs": [],
   "source": []
  },
  {
   "cell_type": "markdown",
   "id": "c4c56f17-62d1-4cae-98b1-b70c39feac5d",
   "metadata": {},
   "source": [
    "**3.** Using the datetime package and a lambda function, sort the following strings in ascending chronological order:\n",
    " \n",
    "   `['01/01/1970', '02/20/1991', '10/29/1969', '12/20/1990', '11/03/1971', '01/23/1996', '04/03/1975', '08/17/1979']`\n",
    "\n",
    "Tip: Use the format code `%m/%d/%Y`."
   ]
  },
  {
   "cell_type": "markdown",
   "id": "47719191-f140-4086-9af0-00b631653633",
   "metadata": {},
   "source": [
    "**4.**\n",
    "This is the Python logo rendered as ASCII art:"
   ]
  },
  {
   "cell_type": "code",
   "execution_count": 74,
   "id": "928f143e-281f-4b2a-ae92-97e2238ba453",
   "metadata": {},
   "outputs": [],
   "source": [
    "logo = '''                                                                   ..:-++**********+=-...                             \n",
    "                          ..+**********************-.                           \n",
    "                         .=****==+*******************:.                         \n",
    "                         .***=.  .=*******************.                         \n",
    "                         .***+.  .+*******************:                         \n",
    "                         .****************************:                         \n",
    "                         .****************************:                         \n",
    "                         ...............+*************:........                 \n",
    "               .:+************************************:.:------:..              \n",
    "             .+***************************************:.:---------..            \n",
    "            :*****************************************:.:----------:            \n",
    "           .+*****************************************:.:----------:..          \n",
    "          .-*****************************************+..:-----------:.          \n",
    "          .+****************************************+..:------------:.          \n",
    "          .***************************************=. .:--------------.          \n",
    "          .*****************-.................... ..:----------------.          \n",
    "          .***************....::-------------------------------------.          \n",
    "          .+************+...----------------------------------------:.          \n",
    "          .=************:..-----------------------------------------:.          \n",
    "           .************..:----------------------------------------:..          \n",
    "            -***********..:----------------------------------------.            \n",
    "            .-**********..:---------------------------------------..            \n",
    "              .=********..:------------------------------------:.               \n",
    "                 .........:------------:.                                       \n",
    "                         .:--------------------------:.                         \n",
    "                         .:---------------------------.                         \n",
    "                         .:------------------:....:---.                         \n",
    "                         .:------------------:.   .---.                         \n",
    "                          .-------------------:..:---:.                         \n",
    "                           .:----------------------::.                          \n",
    "                             ...:::----------::::...                            \n",
    "                                   ..........                                   \n",
    "                                                                                 '''"
   ]
  },
  {
   "cell_type": "markdown",
   "id": "409d5aa7-895e-4fad-a443-3e9bc2af5187",
   "metadata": {},
   "source": [
    "This image, which can be found in the exercise files, is 81 characters wide (80 characters plus a newline character) and 34 lines long, making its total size 2,754 bytes (assuming 1 byte per character).\n",
    "However, this image can be compressed using run-length encoding. Run length encoding attempts to compress a sequence by replacing consecutive copies of a symbol with that symbol and then how many times it occurs.\n",
    "For example, the sequence:\n",
    "```\n",
    "AAAABBCCCCCCD\n",
    "```\n",
    "\n",
    "can be encoded as:\n",
    "```\n",
    "[('A', 4), ('B', 2), ('C', 6), ('D', 1)]\n",
    "```\n",
    "\n",
    "Write a function, encode, that takes a string as an argument and returns a list of character/count\n",
    "tuples as shown in the example.\n",
    "Then, write a function decode that takes in the list of character/count tuples and returns the original string.\n",
    "Test your function by encoding and then decoding the Python logo ASCII art. How many tuples can 2,754 characters be compressed to?\n"
   ]
  },
  {
   "cell_type": "code",
   "execution_count": null,
   "id": "e0f7b59b-7fbe-47f5-9595-0dd3d35cf6d9",
   "metadata": {},
   "outputs": [],
   "source": []
  },
  {
   "cell_type": "markdown",
   "id": "e0da668a-1a59-48fc-8d43-fa9e6052b34a",
   "metadata": {},
   "source": [
    "**5.** Write a decorator that checks to make sure all position and keyword arguments of a func- tion are integers. If any of them are not integers, print a warning message and do not run the function."
   ]
  },
  {
   "cell_type": "code",
   "execution_count": null,
   "id": "2da0d4e7-dba1-4937-a26d-3c37d3899ba8",
   "metadata": {},
   "outputs": [],
   "source": []
  },
  {
   "cell_type": "markdown",
   "id": "ea50517c-be01-4684-8c0a-73dc2ea3d910",
   "metadata": {},
   "source": [
    "**6.** Write a set of decorators that can handle functionality similar to that of the `@singledispatch` decorator. In particular, you should be able to declare a function that will have multiple “handlers” using the `@customdispatch` decorator, and then register each of several handlers using the @register decorator like so:\n",
    "\n",
    "```\n",
    "@customdispatch\n",
    "def friendly_type(arg):\n",
    "    pass\n",
    "\n",
    "@register('friendly_type', list)\n",
    "def friendly_type_list(var):\n",
    "    print(f'{var} is a list!')\n",
    "\n",
    "@register('friendly_type', dict)\n",
    "def friendly_type_dict(var):\n",
    "    print(f'{var} is a dictionary!')\n",
    "\n",
    "@register('friendly_type', str)\n",
    "def friendly_type_str(var):\n",
    "    print(f'{var} is a string!')\n",
    "\n",
    "friendly_type([1, 2, 3])\n",
    "```\n",
    "\n",
    "This should print the string\n",
    "\n",
    "`[1, 2, 3] is a list!`\n",
    "\n",
    "\n",
    "In this simple example, you do not need to worry about registering or handling functions with more than a single positional argument.\n",
    "Tips:\n",
    "- You may want to create a global dictionary to keep track of registered functions and use the global keyword to access it. \n",
    "- You can get a simple string representation of a type or class (such as list, str, dict) using `some_type.__name__`.\n",
    "- There is more than one way to do this! Feel free to modify the example code and experiment with different decorator syntax for declaring functions and registering handlers. \n"
   ]
  },
  {
   "cell_type": "code",
   "execution_count": null,
   "id": "69c13c49-4add-4d51-b3c4-be8ddb75a0c3",
   "metadata": {},
   "outputs": [],
   "source": []
  }
 ],
 "metadata": {
  "kernelspec": {
   "display_name": "Python 3 (ipykernel)",
   "language": "python",
   "name": "python3"
  },
  "language_info": {
   "codemirror_mode": {
    "name": "ipython",
    "version": 3
   },
   "file_extension": ".py",
   "mimetype": "text/x-python",
   "name": "python",
   "nbconvert_exporter": "python",
   "pygments_lexer": "ipython3",
   "version": "3.12.2"
  }
 },
 "nbformat": 4,
 "nbformat_minor": 5
}
