{
 "cells": [
  {
   "cell_type": "markdown",
   "id": "c6a95f60-2a6f-4b49-bc51-791516b08a0c",
   "metadata": {},
   "source": [
    "# Classes"
   ]
  },
  {
   "cell_type": "code",
   "execution_count": 3,
   "id": "f28d8dbc-7890-4e86-8703-c83ce7b36cad",
   "metadata": {},
   "outputs": [],
   "source": [
    "import random\n",
    "\n",
    "SUITS = ['SPADES', 'HEARTS', 'DIAMONDS', 'CLUBS']\n",
    "FACES = ['A', '2', '3', '4', '5', '6', '7', '8', '9', '10', 'J', 'Q', 'K']\n",
    "\n",
    "class Deck:\n",
    "    def __init__(self):\n",
    "        self.cards = [(f, s) for s in SUITS for f in FACES]\n",
    "\n",
    "    def shuffle(self):\n",
    "        random.shuffle(self.cards)\n",
    "\n",
    "    def deal(self, num):\n",
    "        if len(self.cards) < num:\n",
    "            print(f'Not enough cards to deal {num} cards')\n",
    "        else:\n",
    "            dealt = self.cards[0:num]\n",
    "            self.cards = self.cards[num:]\n",
    "            return dealt\n",
    "\n"
   ]
  },
  {
   "cell_type": "code",
   "execution_count": 4,
   "id": "d0ba300e-0ed3-441e-8c45-86eac373e598",
   "metadata": {},
   "outputs": [],
   "source": [
    "PI = 3.14159"
   ]
  },
  {
   "cell_type": "code",
   "execution_count": 5,
   "id": "15c29ef6-269e-4083-b523-57627fabcc7c",
   "metadata": {},
   "outputs": [
    {
     "data": {
      "text/plain": [
       "[('K', 'HEARTS'),\n",
       " ('6', 'DIAMONDS'),\n",
       " ('J', 'DIAMONDS'),\n",
       " ('J', 'CLUBS'),\n",
       " ('3', 'CLUBS')]"
      ]
     },
     "execution_count": 5,
     "metadata": {},
     "output_type": "execute_result"
    }
   ],
   "source": [
    "deck = Deck()\n",
    "deck.shuffle()\n",
    "deck.deal(5)"
   ]
  },
  {
   "cell_type": "markdown",
   "id": "574faf8f-f8aa-49e6-ba8c-79ebfa65eed7",
   "metadata": {},
   "source": [
    "## Static Methods and Attributes"
   ]
  },
  {
   "cell_type": "code",
   "execution_count": 6,
   "id": "fd615781-d0a7-49be-9de2-5014c4248fd5",
   "metadata": {},
   "outputs": [],
   "source": [
    "class Deck:\n",
    "    def __init__(self):\n",
    "        self.SUITS = ['SPADES', 'HEARTS', 'DIAMONDS', 'CLUBS']\n",
    "        self.FACES = ['A', '2', '3', '4', '5', '6', '7', '8', '9', '10', 'J', 'Q', 'K']\n",
    "        self.cards = [(f, s) for s in self.SUITS for f in self.FACES]"
   ]
  },
  {
   "cell_type": "code",
   "execution_count": 3,
   "id": "2271f3fa-e4ca-4837-83d1-c5ac03ba6682",
   "metadata": {},
   "outputs": [],
   "source": [
    "deck = Deck()"
   ]
  },
  {
   "cell_type": "code",
   "execution_count": 12,
   "id": "e8b6eb42-5373-4c32-97f3-3463ef55b3bb",
   "metadata": {},
   "outputs": [],
   "source": [
    "class Deck:\n",
    "    SUITS = ['SPADES', 'HEARTS', 'DIAMONDS', 'CLUBS']\n",
    "    FACES = ['A', '2', '3', '4', '5', '6', '7', '8', '9', '10', 'J', 'Q', 'K']\n",
    "    def __init__(self):\n",
    "        self.cards = [(f, s) for s in self.SUITS for f in self.FACES]"
   ]
  },
  {
   "cell_type": "code",
   "execution_count": 13,
   "id": "a491b223-7e7f-4776-b49d-04474b45161f",
   "metadata": {},
   "outputs": [],
   "source": [
    "deck = Deck()"
   ]
  },
  {
   "cell_type": "code",
   "execution_count": 14,
   "id": "69ea1c2e-20af-4ee9-b3b1-b88f465f055a",
   "metadata": {},
   "outputs": [
    {
     "data": {
      "text/plain": [
       "['SPADES', 'HEARTS', 'DIAMONDS', 'CLUBS']"
      ]
     },
     "execution_count": 14,
     "metadata": {},
     "output_type": "execute_result"
    }
   ],
   "source": [
    "Deck.SUITS"
   ]
  },
  {
   "cell_type": "code",
   "execution_count": 15,
   "id": "14e0e289-7990-4218-bc03-0b0e4ea6ba59",
   "metadata": {},
   "outputs": [
    {
     "ename": "AttributeError",
     "evalue": "type object 'Deck' has no attribute 'cards'",
     "output_type": "error",
     "traceback": [
      "\u001b[31m---------------------------------------------------------------------------\u001b[39m",
      "\u001b[31mAttributeError\u001b[39m                            Traceback (most recent call last)",
      "\u001b[36mCell\u001b[39m\u001b[36m \u001b[39m\u001b[32mIn[15]\u001b[39m\u001b[32m, line 1\u001b[39m\n\u001b[32m----> \u001b[39m\u001b[32m1\u001b[39m Deck.cards\n",
      "\u001b[31mAttributeError\u001b[39m: type object 'Deck' has no attribute 'cards'"
     ]
    }
   ],
   "source": [
    "Deck.cards"
   ]
  },
  {
   "cell_type": "code",
   "execution_count": 16,
   "id": "76abea7f-e64a-46e7-86ac-97fe0efd2030",
   "metadata": {},
   "outputs": [],
   "source": [
    "class Deck:\n",
    "    SUITS = ['SPADES', 'HEARTS', 'DIAMONDS', 'CLUBS']\n",
    "    FACES = ['A', '2', '3', '4', '5', '6', '7', '8', '9', '10', 'J', 'Q', 'K']\n",
    "    def __init__(self):\n",
    "        self.cards = [(f, s) for s in self.SUITS for f in self.FACES]\n",
    "\n",
    "    def shuffle(self):\n",
    "        random.shuffle(self.cards)"
   ]
  },
  {
   "cell_type": "code",
   "execution_count": 17,
   "id": "2de84308-1138-4c7f-aa11-4e7b1b5fafca",
   "metadata": {},
   "outputs": [
    {
     "data": {
      "text/plain": [
       "<function __main__.Deck.shuffle(self)>"
      ]
     },
     "execution_count": 17,
     "metadata": {},
     "output_type": "execute_result"
    }
   ],
   "source": [
    "Deck.shuffle"
   ]
  },
  {
   "cell_type": "code",
   "execution_count": 18,
   "id": "fc22d42c-eac3-4936-8dd3-9bbd288714fa",
   "metadata": {},
   "outputs": [
    {
     "ename": "TypeError",
     "evalue": "Deck.shuffle() missing 1 required positional argument: 'self'",
     "output_type": "error",
     "traceback": [
      "\u001b[31m---------------------------------------------------------------------------\u001b[39m",
      "\u001b[31mTypeError\u001b[39m                                 Traceback (most recent call last)",
      "\u001b[36mCell\u001b[39m\u001b[36m \u001b[39m\u001b[32mIn[18]\u001b[39m\u001b[32m, line 1\u001b[39m\n\u001b[32m----> \u001b[39m\u001b[32m1\u001b[39m Deck.shuffle()\n",
      "\u001b[31mTypeError\u001b[39m: Deck.shuffle() missing 1 required positional argument: 'self'"
     ]
    }
   ],
   "source": [
    "Deck.shuffle()"
   ]
  },
  {
   "cell_type": "code",
   "execution_count": 19,
   "id": "12936147-9665-49e3-9ee2-374ec7f49b07",
   "metadata": {},
   "outputs": [],
   "source": [
    "class Deck:\n",
    "    SUITS = ['SPADES', 'HEARTS', 'DIAMONDS', 'CLUBS']\n",
    "    FACES = ['A', '2', '3', '4', '5', '6', '7', '8', '9', '10', 'J', 'Q', 'K']\n",
    "    def __init__(self):\n",
    "        self.cards = [(f, s) for s in self.SUITS for f in self.FACES]\n",
    "\n",
    "    def shuffle(self):\n",
    "        random.shuffle(self.cards)\n",
    "\n",
    "    def get_suits_str():\n",
    "        return f'The suits are: {', '.join(Deck.SUITS)}'\n"
   ]
  },
  {
   "cell_type": "code",
   "execution_count": 20,
   "id": "162466d3-5fd7-4081-aacf-dc1ed3154f17",
   "metadata": {},
   "outputs": [
    {
     "data": {
      "text/plain": [
       "'The suits are: SPADES, HEARTS, DIAMONDS, CLUBS'"
      ]
     },
     "execution_count": 20,
     "metadata": {},
     "output_type": "execute_result"
    }
   ],
   "source": [
    "Deck.get_suits_str()"
   ]
  },
  {
   "cell_type": "code",
   "execution_count": 21,
   "id": "fa2a2c6d-c2ee-42d5-9d9c-f02ddeaa41ff",
   "metadata": {},
   "outputs": [
    {
     "ename": "TypeError",
     "evalue": "Deck.get_suits_str() takes 0 positional arguments but 1 was given",
     "output_type": "error",
     "traceback": [
      "\u001b[31m---------------------------------------------------------------------------\u001b[39m",
      "\u001b[31mTypeError\u001b[39m                                 Traceback (most recent call last)",
      "\u001b[36mCell\u001b[39m\u001b[36m \u001b[39m\u001b[32mIn[21]\u001b[39m\u001b[32m, line 3\u001b[39m\n\u001b[32m      1\u001b[39m deck = Deck()\n\u001b[32m      2\u001b[39m deck.shuffle()\n\u001b[32m----> \u001b[39m\u001b[32m3\u001b[39m deck.get_suits_str()\n",
      "\u001b[31mTypeError\u001b[39m: Deck.get_suits_str() takes 0 positional arguments but 1 was given"
     ]
    }
   ],
   "source": [
    "deck = Deck()\n",
    "deck.shuffle()\n",
    "deck.get_suits_str()"
   ]
  },
  {
   "cell_type": "code",
   "execution_count": 22,
   "id": "2c954854-d9f9-41fb-8026-19ca3e869c36",
   "metadata": {},
   "outputs": [
    {
     "ename": "TypeError",
     "evalue": "Deck.get_suits_str() takes 0 positional arguments but 1 was given",
     "output_type": "error",
     "traceback": [
      "\u001b[31m---------------------------------------------------------------------------\u001b[39m",
      "\u001b[31mTypeError\u001b[39m                                 Traceback (most recent call last)",
      "\u001b[36mCell\u001b[39m\u001b[36m \u001b[39m\u001b[32mIn[22]\u001b[39m\u001b[32m, line 1\u001b[39m\n\u001b[32m----> \u001b[39m\u001b[32m1\u001b[39m deck.get_suits_str()\n\u001b[32m      2\u001b[39m Deck.get_suits_str(deck)\n",
      "\u001b[31mTypeError\u001b[39m: Deck.get_suits_str() takes 0 positional arguments but 1 was given"
     ]
    }
   ],
   "source": [
    "deck.get_suits_str()\n",
    "Deck.get_suits_str(deck)"
   ]
  },
  {
   "cell_type": "code",
   "execution_count": 23,
   "id": "3daea8e8-10ea-4c3b-8589-67dd50be9a61",
   "metadata": {},
   "outputs": [],
   "source": [
    "class Deck:\n",
    "    SUITS = ['SPADES', 'HEARTS', 'DIAMONDS', 'CLUBS']\n",
    "    FACES = ['A', '2', '3', '4', '5', '6', '7', '8', '9', '10', 'J', 'Q', 'K']\n",
    "    def __init__(self):\n",
    "        self.cards = [(f, s) for s in self.SUITS for f in self.FACES]\n",
    "\n",
    "    def shuffle(self):\n",
    "        random.shuffle(self.cards)\n",
    "\n",
    "    @staticmethod\n",
    "    def get_suits_str():\n",
    "        return f'The suits are: {', '.join(Deck.SUITS)}'\n"
   ]
  },
  {
   "cell_type": "code",
   "execution_count": 24,
   "id": "548dc126-6459-41b3-b6b9-aa4d881fc38f",
   "metadata": {},
   "outputs": [
    {
     "data": {
      "text/plain": [
       "'The suits are: SPADES, HEARTS, DIAMONDS, CLUBS'"
      ]
     },
     "execution_count": 24,
     "metadata": {},
     "output_type": "execute_result"
    }
   ],
   "source": [
    "deck = Deck()\n",
    "deck.get_suits_str()"
   ]
  },
  {
   "cell_type": "markdown",
   "id": "a48cdbaf-525b-4ef7-96b8-fd2d1ed8080e",
   "metadata": {},
   "source": [
    "## Inheritance"
   ]
  },
  {
   "cell_type": "code",
   "execution_count": 29,
   "id": "09c6c1a6-6d1f-46a2-9929-e2773c4e9134",
   "metadata": {},
   "outputs": [],
   "source": [
    "class Deck:\n",
    "    SUITS = ['SPADES', 'HEARTS', 'DIAMONDS', 'CLUBS']\n",
    "    FACES = ['A', '2', '3', '4', '5', '6', '7', '8', '9', '10', 'J', 'Q', 'K']\n",
    "    def __init__(self):\n",
    "        self.cards = [(f, s) for s in self.SUITS for f in self.FACES]\n",
    "\n",
    "    def shuffle(self):\n",
    "        random.shuffle(self.cards)\n",
    "    \n",
    "    def deal(self, num):\n",
    "        if len(self.cards) < num:\n",
    "            print(f'Not enough cards to deal {num} cards')\n",
    "        else:\n",
    "            dealt = self.cards[0:num]\n",
    "            self.cards = self.cards[num:]\n",
    "            return dealt\n",
    "\n",
    "    @staticmethod\n",
    "    def get_suits_str():\n",
    "        return f'The suits are: {', '.join(Deck.SUITS)}'"
   ]
  },
  {
   "cell_type": "code",
   "execution_count": 30,
   "id": "616a6db1-8fcc-4120-b71e-659308fed509",
   "metadata": {},
   "outputs": [],
   "source": [
    "class FrenchDeck(Deck):\n",
    "    SUITS = ['PIQUES', 'CŒURS', 'CARREAUX', 'TRÈFLES']\n",
    "    FACES = ['A', '2', '3', '4', '5', '6', '7', '8', '9', '10', 'V', 'D', 'R']\n"
   ]
  },
  {
   "cell_type": "code",
   "execution_count": 31,
   "id": "2d9ecc00-b536-4cc0-80d4-25ef96bdd12f",
   "metadata": {},
   "outputs": [
    {
     "data": {
      "text/plain": [
       "[('V', 'TRÈFLES'),\n",
       " ('4', 'CARREAUX'),\n",
       " ('R', 'PIQUES'),\n",
       " ('6', 'CŒURS'),\n",
       " ('7', 'CARREAUX')]"
      ]
     },
     "execution_count": 31,
     "metadata": {},
     "output_type": "execute_result"
    }
   ],
   "source": [
    "french = FrenchDeck()\n",
    "french.shuffle()\n",
    "french.deal(5)"
   ]
  },
  {
   "cell_type": "code",
   "execution_count": 32,
   "id": "66881393-e3e9-4ae9-800c-20da5bc6ea65",
   "metadata": {},
   "outputs": [
    {
     "data": {
      "text/plain": [
       "'The suits are: SPADES, HEARTS, DIAMONDS, CLUBS'"
      ]
     },
     "execution_count": 32,
     "metadata": {},
     "output_type": "execute_result"
    }
   ],
   "source": [
    "french.get_suits_str()"
   ]
  },
  {
   "cell_type": "code",
   "execution_count": 36,
   "id": "3d13d889-fdcf-4029-992d-5e3b70aab18f",
   "metadata": {},
   "outputs": [],
   "source": [
    "class Deck:\n",
    "    SUITS = ['SPADES', 'HEARTS', 'DIAMONDS', 'CLUBS']\n",
    "    FACES = ['A', '2', '3', '4', '5', '6', '7', '8', '9', '10', 'J', 'Q', 'K']\n",
    "    def __init__(self):\n",
    "        self.cards = [(f, s) for s in self.SUITS for f in self.FACES]\n",
    "\n",
    "    def shuffle(self):\n",
    "        random.shuffle(self.cards)\n",
    "    \n",
    "    def deal(self, num):\n",
    "        if len(self.cards) < num:\n",
    "            print(f'Not enough cards to deal {num} cards')\n",
    "        else:\n",
    "            dealt = self.cards[0:num]\n",
    "            self.cards = self.cards[num:]\n",
    "            return dealt\n",
    "\n",
    "    @classmethod\n",
    "    def get_suits_str(cls):\n",
    "        return f'The suits are: {', '.join(cls.SUITS)}'"
   ]
  },
  {
   "cell_type": "code",
   "execution_count": 37,
   "id": "aab423ab-25cc-4b9d-8849-1687db43c75c",
   "metadata": {},
   "outputs": [],
   "source": []
  },
  {
   "cell_type": "code",
   "execution_count": 38,
   "id": "84c31668-1e0b-402d-aaed-113bc720b5d6",
   "metadata": {},
   "outputs": [
    {
     "data": {
      "text/plain": [
       "'The suits are: SPADES, HEARTS, DIAMONDS, CLUBS'"
      ]
     },
     "execution_count": 38,
     "metadata": {},
     "output_type": "execute_result"
    }
   ],
   "source": [
    "deck = Deck()\n",
    "deck.get_suits_str()"
   ]
  },
  {
   "cell_type": "code",
   "execution_count": 40,
   "id": "e3c2d41e-da00-4230-85ba-9f9ab201b3f6",
   "metadata": {},
   "outputs": [
    {
     "data": {
      "text/plain": [
       "'The suits are: PIQUES, CŒURS, CARREAUX, TRÈFLES'"
      ]
     },
     "execution_count": 40,
     "metadata": {},
     "output_type": "execute_result"
    }
   ],
   "source": [
    "class FrenchDeck(Deck):\n",
    "    SUITS = ['PIQUES', 'CŒURS', 'CARREAUX', 'TRÈFLES']\n",
    "    FACES = ['A', '2', '3', '4', '5', '6', '7', '8', '9', '10', 'V', 'D', 'R']\n",
    "\n",
    "\n",
    "french = FrenchDeck()\n",
    "french.get_suits_str()"
   ]
  },
  {
   "cell_type": "markdown",
   "id": "0ddecab6-091f-4317-a88e-e1f7125e996c",
   "metadata": {},
   "source": [
    "## Multiple Inheritance"
   ]
  },
  {
   "cell_type": "code",
   "execution_count": 60,
   "id": "95984370-f16a-45bb-95ad-22914508efce",
   "metadata": {},
   "outputs": [],
   "source": [
    "# Not in the text of the book, but brought in from previous sections for convenience\n",
    "class Deck:\n",
    "    SUITS = ['SPADES', 'HEARTS', 'DIAMONDS', 'CLUBS']\n",
    "    FACES = ['A', '2', '3', '4', '5', '6', '7', '8', '9', '10', 'J', 'Q', 'K']\n",
    "    def __init__(self):\n",
    "        self.cards = [(f, s) for s in self.SUITS for f in self.FACES]\n",
    "\n",
    "    def shuffle(self):\n",
    "        random.shuffle(self.cards)\n",
    "    \n",
    "    def deal(self, num):\n",
    "        if len(self.cards) < num:\n",
    "            print(f'Not enough cards to deal {num} cards')\n",
    "        else:\n",
    "            dealt = self.cards[0:num]\n",
    "            self.cards = self.cards[num:]\n",
    "            return dealt\n",
    "\n",
    "\n",
    "class FrenchDeck(Deck):\n",
    "    SUITS = ['PIQUES', 'CŒURS', 'CARREAUX', 'TRÈFLES']\n",
    "    FACES = ['A', '2', '3', '4', '5', '6', '7', '8', '9', '10', 'V', 'D', 'R']\n"
   ]
  },
  {
   "cell_type": "code",
   "execution_count": 65,
   "id": "434b4db0-54da-423a-8e9f-b7b8b12547d8",
   "metadata": {},
   "outputs": [],
   "source": [
    "class PinochleDeck(Deck):\n",
    "    def __init__(self):\n",
    "        faces = [self.FACES[0]] + self.FACES[8:]\n",
    "        self.cards = [(f, s) for s in self.SUITS*2 for f in faces]"
   ]
  },
  {
   "cell_type": "code",
   "execution_count": 66,
   "id": "ac10f1df-7b5c-455f-8614-eb3ac03591cc",
   "metadata": {},
   "outputs": [],
   "source": [
    "class PinochleDeck(Deck):\n",
    "    FACES = ['A', '9', '10', 'J', 'Q', 'K']\n",
    "    def __init__(self):\n",
    "        self.cards = [(f, s) for s in self.SUITS*2 for f in self.FACES]"
   ]
  },
  {
   "cell_type": "code",
   "execution_count": 71,
   "id": "4346c673-1b58-4cd4-903f-f31ac00b52f2",
   "metadata": {},
   "outputs": [],
   "source": [
    "# The first approach should be used\n",
    "class PinochleDeck(Deck):\n",
    "    def __init__(self):\n",
    "        faces = [self.FACES[0]] + self.FACES[8:]\n",
    "        self.cards = [(f, s) for s in self.SUITS*2 for f in faces]"
   ]
  },
  {
   "cell_type": "code",
   "execution_count": 72,
   "id": "eacffcd0-3c4a-43b2-b2af-0be21e59acc7",
   "metadata": {},
   "outputs": [],
   "source": [
    "class FrenchPinochleDeck(FrenchDeck, PinochleDeck):\n",
    "    pass\n"
   ]
  },
  {
   "cell_type": "code",
   "execution_count": 73,
   "id": "7a9dcabe-b9d0-4519-a513-e3b663266fdb",
   "metadata": {},
   "outputs": [
    {
     "name": "stdout",
     "output_type": "stream",
     "text": [
      "48\n"
     ]
    },
    {
     "data": {
      "text/plain": [
       "[('10', 'TRÈFLES'),\n",
       " ('9', 'PIQUES'),\n",
       " ('D', 'TRÈFLES'),\n",
       " ('R', 'TRÈFLES'),\n",
       " ('R', 'PIQUES')]"
      ]
     },
     "execution_count": 73,
     "metadata": {},
     "output_type": "execute_result"
    }
   ],
   "source": [
    "fp = FrenchPinochleDeck()\n",
    "print(len(fp.cards))\n",
    "fp.shuffle()\n",
    "fp.deal(5)"
   ]
  },
  {
   "cell_type": "code",
   "execution_count": 76,
   "id": "69675fc2-a448-4c76-932f-a3bb6622648b",
   "metadata": {},
   "outputs": [
    {
     "name": "stdout",
     "output_type": "stream",
     "text": [
      "A\n",
      "B\n"
     ]
    }
   ],
   "source": [
    "class A:\n",
    "    name = 'A'\n",
    "\n",
    "class B(A):\n",
    "    another_attr = 'B'\n",
    "\n",
    "class C:\n",
    "    name = 'C'\n",
    "\n",
    "class Child(B, C):\n",
    "    pass\n",
    "\n",
    "\n",
    "print(Child.name)\n",
    "print(Child.another_attr)"
   ]
  },
  {
   "cell_type": "code",
   "execution_count": 79,
   "id": "1bd9e327-01fd-49e3-baf0-e94d7f9032e8",
   "metadata": {},
   "outputs": [],
   "source": [
    "class Deck:\n",
    "    def __init__(self):\n",
    "        print('Deck constructor!')\n",
    "\n",
    "class FrenchDeck(Deck):\n",
    "    pass\n",
    "\n",
    "class PinochleDeck(Deck):\n",
    "    def __init__(self):\n",
    "        print('Pinochle constructor!')\n",
    "\n",
    "class FrenchPinochleDeck(FrenchDeck, PinochleDeck):\n",
    "    pass\n"
   ]
  },
  {
   "cell_type": "code",
   "execution_count": 80,
   "id": "9acc0f5f-6bcb-4f2a-a09a-67897b1cba18",
   "metadata": {},
   "outputs": [
    {
     "name": "stdout",
     "output_type": "stream",
     "text": [
      "Deck constructor!\n"
     ]
    }
   ],
   "source": [
    "french = FrenchDeck()"
   ]
  },
  {
   "cell_type": "code",
   "execution_count": 81,
   "id": "9ca04732-7d3b-46a2-a67a-7800299648d2",
   "metadata": {},
   "outputs": [
    {
     "data": {
      "text/plain": [
       "(__main__.FrenchPinochleDeck,\n",
       " __main__.FrenchDeck,\n",
       " __main__.PinochleDeck,\n",
       " __main__.Deck,\n",
       " object)"
      ]
     },
     "execution_count": 81,
     "metadata": {},
     "output_type": "execute_result"
    }
   ],
   "source": [
    "FrenchPinochleDeck.__mro__"
   ]
  },
  {
   "cell_type": "code",
   "execution_count": 82,
   "id": "4a46aea8-df6c-40e9-88b4-d9ead0448048",
   "metadata": {},
   "outputs": [
    {
     "data": {
      "text/plain": [
       "(__main__.FrenchPinochleDeck,\n",
       " __main__.FrenchDeck,\n",
       " __main__.Deck,\n",
       " __main__.PinochleDeck,\n",
       " object)"
      ]
     },
     "execution_count": 82,
     "metadata": {},
     "output_type": "execute_result"
    }
   ],
   "source": [
    "class Deck:\n",
    "    def __init__(self):\n",
    "        print('Deck constructor!')\n",
    "\n",
    "class FrenchDeck(Deck):\n",
    "    pass\n",
    "\n",
    "class PinochleDeck():\n",
    "    def __init__(self):\n",
    "        print('Pinochle constructor!')\n",
    "\n",
    "class FrenchPinochleDeck(FrenchDeck, PinochleDeck):\n",
    "    pass\n",
    "\n",
    "FrenchPinochleDeck.__mro__"
   ]
  },
  {
   "cell_type": "code",
   "execution_count": 83,
   "id": "0be02b2f-c99d-4f29-b819-3e0c6f8ea3d8",
   "metadata": {},
   "outputs": [
    {
     "name": "stdout",
     "output_type": "stream",
     "text": [
      "Deck constructor!\n"
     ]
    },
    {
     "data": {
      "text/plain": [
       "<__main__.FrenchPinochleDeck at 0x127216540>"
      ]
     },
     "execution_count": 83,
     "metadata": {},
     "output_type": "execute_result"
    }
   ],
   "source": [
    "FrenchPinochleDeck()"
   ]
  },
  {
   "cell_type": "code",
   "execution_count": 84,
   "id": "c19ea382-ec7a-4004-b088-f3f0b6d5d59b",
   "metadata": {},
   "outputs": [
    {
     "data": {
      "text/plain": [
       "(__main__.PinochleFrenchDeck,\n",
       " __main__.PinochleDeck,\n",
       " __main__.FrenchDeck,\n",
       " __main__.Deck,\n",
       " object)"
      ]
     },
     "execution_count": 84,
     "metadata": {},
     "output_type": "execute_result"
    }
   ],
   "source": [
    "class PinochleFrenchDeck(PinochleDeck, FrenchDeck):\n",
    "    pass\n",
    "\n",
    "PinochleFrenchDeck.__mro__"
   ]
  },
  {
   "cell_type": "code",
   "execution_count": 87,
   "id": "571472e1-2926-47fa-9ede-127b2a8dc372",
   "metadata": {},
   "outputs": [],
   "source": [
    "class PinochleFrenchDeck(PinochleDeck, FrenchDeck):\n",
    "    SUITS = FrenchDeck.SUITS\n",
    "    FACES = FrenchDeck.FACES\n",
    "    __init__ = PinochleDeck.__init__\n",
    "\n",
    "pf = PinochleFrenchDeck()\n"
   ]
  },
  {
   "cell_type": "markdown",
   "id": "6f867f70-6fc3-4910-97be-71709d703b46",
   "metadata": {},
   "source": [
    "## Encapsulation"
   ]
  },
  {
   "cell_type": "code",
   "execution_count": 92,
   "id": "e832cd45-5d74-4701-8d04-60e54faf6d4c",
   "metadata": {},
   "outputs": [],
   "source": [
    "# Not in the book, copied from previous sections for convenience\n",
    "class Deck:\n",
    "    SUITS = ['SPADES', 'HEARTS', 'DIAMONDS', 'CLUBS']\n",
    "    FACES = ['A', '2', '3', '4', '5', '6', '7', '8', '9', '10', 'J', 'Q', 'K']\n",
    "    def __init__(self):\n",
    "        self.cards = [(f, s) for s in self.SUITS for f in self.FACES]\n",
    "\n",
    "    def shuffle(self):\n",
    "        random.shuffle(self.cards)\n",
    "    \n",
    "    def deal(self, num):\n",
    "        if len(self.cards) < num:\n",
    "            print(f'Not enough cards to deal {num} cards')\n",
    "        else:\n",
    "            dealt = self.cards[0:num]\n",
    "            self.cards = self.cards[num:]\n",
    "            return dealt\n",
    "\n",
    "    @classmethod\n",
    "    def get_suits_str(cls):\n",
    "        return f'The suits are: {', '.join(cls.SUITS)}'\n",
    "\n"
   ]
  },
  {
   "cell_type": "code",
   "execution_count": 93,
   "id": "3e934792-6d13-4463-979f-6ec2e3ed6965",
   "metadata": {},
   "outputs": [
    {
     "data": {
      "text/plain": [
       "[('8', 'spam'), ('6', 'spam'), ('3', 'spam'), ('2', 'spam'), ('4', 'spam')]"
      ]
     },
     "execution_count": 93,
     "metadata": {},
     "output_type": "execute_result"
    }
   ],
   "source": [
    "Deck.SUITS = ['spam', 'spam', 'spam', 'spam']\n",
    "deck = Deck()\n",
    "deck.shuffle()\n",
    "deck.cards[0:5]"
   ]
  },
  {
   "cell_type": "code",
   "execution_count": 95,
   "id": "8fefeee7-4fb7-4b4c-b6fc-58de7a43721c",
   "metadata": {},
   "outputs": [],
   "source": [
    "class Deck:\n",
    "    _SUITS = ['SPADES', 'HEARTS', 'DIAMONDS', 'CLUBS']\n",
    "    _FACES = ['A', '2', '3', '4', '5', '6', '7', '8', '9', '10', 'J', 'Q', 'K']\n",
    "    def __init__(self):\n",
    "        self.cards = [(f, s) for s in self._SUITS for f in self._FACES]\n",
    "\n",
    "    def shuffle(self):\n",
    "        random.shuffle(self.cards)\n",
    "    \n",
    "    def deal(self, num):\n",
    "        if len(self.cards) < num:\n",
    "            print(f'Not enough cards to deal {num} cards')\n",
    "        else:\n",
    "            dealt = self.cards[0:num]\n",
    "            self.cards = self.cards[num:]\n",
    "            return dealt\n",
    "\n",
    "    @classmethod\n",
    "    def get_suits_str(cls):\n",
    "        return f'The suits are: {', '.join(cls.SUITS)}'\n",
    "\n"
   ]
  },
  {
   "cell_type": "code",
   "execution_count": 96,
   "id": "6f68de80-c6e7-459f-928c-a6993ee73c70",
   "metadata": {},
   "outputs": [
    {
     "name": "stdout",
     "output_type": "stream",
     "text": [
      "['SPADES', 'HEARTS', 'DIAMONDS', 'CLUBS']\n"
     ]
    }
   ],
   "source": [
    "deck = Deck()\n",
    "print(deck._SUITS)"
   ]
  },
  {
   "cell_type": "code",
   "execution_count": 97,
   "id": "48f39935-11dc-4a96-892c-a2193ee78eab",
   "metadata": {},
   "outputs": [],
   "source": [
    "class Deck:\n",
    "    _suits = ['SPADES', 'HEARTS', 'DIAMONDS', 'CLUBS']\n",
    "    _FACES = ['A', '2', '3', '4', '5', '6', '7', '8', '9', '10', 'J', 'Q', 'K']\n",
    "    def __init__(self):\n",
    "        self.cards = [(f, s) for s in self._suits for f in self._FACES]\n",
    "\n",
    "    @classmethod\n",
    "    def set_suits(cls, suits):\n",
    "            if cls._suits_are_valid(suits):\n",
    "                cls._suits = suits \n",
    "    \n",
    "    @staticmethod\n",
    "    def _suits_are_valid(suits):\n",
    "        if type(suits) != list:\n",
    "            print('Suits are not a list')\n",
    "            return False\n",
    "        if any([type(s) != str for s in suits]):\n",
    "            print('Must be strings')\n",
    "            return False\n",
    "        if len(set(suits)) != 4:\n",
    "            print('Must be four unique suits')\n",
    "            return False\n",
    "        if any([len(s) > 10 for s in suits]):\n",
    "            print('Must be 10 chars or less')\n",
    "            return False\n",
    "        return True\n",
    "\n",
    "\n",
    "    @classmethod\n",
    "    def get_suits(cls):\n",
    "        return cls._suits\n",
    "\n",
    "    @classmethod\n",
    "    def get_suits_str(cls):\n",
    "        return f'The suits are: {', '.join(cls._suits)}'\n",
    "    \n",
    "    def shuffle(self):\n",
    "        random.shuffle(self.cards)\n",
    "    \n",
    "    def deal(self, num):\n",
    "        if len(self.cards) < num:\n",
    "            print(f'Not enough cards to deal {num} cards')\n",
    "        else:\n",
    "            dealt = self.cards[0:num]\n",
    "            self.cards = self.cards[num:]\n",
    "            return dealt"
   ]
  },
  {
   "cell_type": "code",
   "execution_count": 98,
   "id": "93880e7f-6688-459f-a9f4-588392688f81",
   "metadata": {},
   "outputs": [
    {
     "data": {
      "text/plain": [
       "[('4', 'JAVA'),\n",
       " ('J', 'RUST'),\n",
       " ('K', 'PYTHON'),\n",
       " ('8', 'LISP'),\n",
       " ('10', 'PYTHON')]"
      ]
     },
     "execution_count": 98,
     "metadata": {},
     "output_type": "execute_result"
    }
   ],
   "source": [
    "Deck.set_suits(['PYTHON', 'JAVA', 'LISP', 'RUST'])\n",
    "deck = Deck()\n",
    "deck.shuffle()\n",
    "deck.deal(5)"
   ]
  },
  {
   "cell_type": "code",
   "execution_count": 99,
   "id": "668be58f-d6b2-40cb-abe7-22990915be65",
   "metadata": {},
   "outputs": [
    {
     "data": {
      "text/plain": [
       "'The suits are: PYTHON, JAVA, LISP, RUST'"
      ]
     },
     "execution_count": 99,
     "metadata": {},
     "output_type": "execute_result"
    }
   ],
   "source": [
    "deck.get_suits_str()"
   ]
  },
  {
   "cell_type": "code",
   "execution_count": 100,
   "id": "587f0c34-aa3f-4edc-9e73-6bb1fc895bd4",
   "metadata": {},
   "outputs": [
    {
     "data": {
      "text/plain": [
       "['PYTHON', 'JAVA', 'LISP', 'RUST']"
      ]
     },
     "execution_count": 100,
     "metadata": {},
     "output_type": "execute_result"
    }
   ],
   "source": [
    "deck.get_suits()"
   ]
  },
  {
   "cell_type": "code",
   "execution_count": 101,
   "id": "45300d48-66c8-4fae-9218-4a5833957f69",
   "metadata": {},
   "outputs": [
    {
     "data": {
      "text/plain": [
       "[('J', 'JAVA'), ('J', 'PYTHON'), ('9', 'RUST'), ('Q', 'PYTHON'), ('9', 'RUST')]"
      ]
     },
     "execution_count": 101,
     "metadata": {},
     "output_type": "execute_result"
    }
   ],
   "source": [
    "class PinochleDeck(Deck):\n",
    "    def __init__(self):\n",
    "        self.cards = [(f, s) for s in self.get_suits()*2 for f in self.get_faces()]\n",
    "\n",
    "    @classmethod\n",
    "    def get_faces(cls):\n",
    "        return [cls._FACES[0]] + cls._FACES[8:]\n",
    "\n",
    "deck = PinochleDeck()\n",
    "deck.shuffle()\n",
    "deck.deal(5)"
   ]
  },
  {
   "cell_type": "code",
   "execution_count": 103,
   "id": "2341d8bd-d59c-4da1-8e43-63ce980cf4d4",
   "metadata": {},
   "outputs": [],
   "source": [
    "class Deck:\n",
    "    SUITS = ['SPADES', 'HEARTS', 'DIAMONDS', 'CLUBS']\n",
    "    FACES = ['A', '2', '3', '4', '5', '6', '7', '8', '9', '10', 'J', 'Q', 'K']\n",
    "    \n",
    "    def __init__(self, suits=None, faces=None):\n",
    "        suits = suits or self.SUITS\n",
    "        faces = faces or self.FACES\n",
    "        self.cards = [(f, s) for s in suits for f in faces]\n",
    "\n",
    "class PinochleDeck(Deck):\n",
    "    def __init__(self):\n",
    "        faces = [self.FACES[0]] + self.FACES[8:]\n",
    "        suits = self.SUITS * 2\n",
    "        super().__init__(suits, faces)\n",
    "\n"
   ]
  },
  {
   "cell_type": "markdown",
   "id": "e6d046f2-fe41-48b8-9f40-584bf95556a4",
   "metadata": {},
   "source": [
    "## Polymorphism"
   ]
  },
  {
   "cell_type": "code",
   "execution_count": 114,
   "id": "a0ecaa27-6fba-49f6-baeb-c9a91c098a0a",
   "metadata": {},
   "outputs": [],
   "source": [
    "# Not in the book, but copied here for convenience\n",
    "class Deck:\n",
    "    _suits = ['SPADES', 'HEARTS', 'DIAMONDS', 'CLUBS']\n",
    "    _FACES = ['A', '2', '3', '4', '5', '6', '7', '8', '9', '10', 'J', 'Q', 'K']\n",
    "    def __init__(self):\n",
    "        self.cards = [(f, s) for s in self._suits for f in self._FACES]\n",
    "\n",
    "    @classmethod\n",
    "    def set_suits(cls, suits):\n",
    "            if cls._suits_are_valid(suits):\n",
    "                cls._suits = suits \n",
    "    \n",
    "    @staticmethod\n",
    "    def _suits_are_valid(suits):\n",
    "        if type(suits) != list:\n",
    "            print('Suits are not a list')\n",
    "            return False\n",
    "        if any([type(s) != str for s in suits]):\n",
    "            print('Must be strings')\n",
    "            return False\n",
    "        if len(set(suits)) != 4:\n",
    "            print('Must be four unique suits')\n",
    "            return False\n",
    "        if any([len(s) > 10 for s in suits]):\n",
    "            print('Must be 10 chars or less')\n",
    "            return False\n",
    "        return True\n",
    "\n",
    "\n",
    "    @classmethod\n",
    "    def get_suits(cls):\n",
    "        return cls._suits\n",
    "\n",
    "    @classmethod\n",
    "    def get_suits_str(cls):\n",
    "        return f'The suits are: {', '.join(cls._suits)}'\n",
    "    \n",
    "    def shuffle(self):\n",
    "        random.shuffle(self.cards)\n",
    "    \n",
    "    def deal(self, num):\n",
    "        if len(self.cards) < num:\n",
    "            print(f'Not enough cards to deal {num} cards')\n",
    "        else:\n",
    "            dealt = self.cards[0:num]\n",
    "            self.cards = self.cards[num:]\n",
    "        return dealt"
   ]
  },
  {
   "cell_type": "code",
   "execution_count": 116,
   "id": "971971af-339c-4010-a3ba-9b93a0308d9e",
   "metadata": {},
   "outputs": [
    {
     "name": "stdout",
     "output_type": "stream",
     "text": [
      "Deck constructor!\n"
     ]
    },
    {
     "data": {
      "text/plain": [
       "[[('5', 'CARREAUX'),\n",
       "  ('V', 'CŒURS'),\n",
       "  ('4', 'CARREAUX'),\n",
       "  ('8', 'TRÈFLES'),\n",
       "  ('5', 'PIQUES')],\n",
       " [('3', 'CARREAUX'),\n",
       "  ('2', 'CARREAUX'),\n",
       "  ('10', 'CŒURS'),\n",
       "  ('7', 'CŒURS'),\n",
       "  ('R', 'CŒURS')]]"
      ]
     },
     "execution_count": 116,
     "metadata": {},
     "output_type": "execute_result"
    }
   ],
   "source": [
    "def deal_cards(deck, num_cards, num_hands):\n",
    "    return [deck.deal(num_cards) for _ in range(num_hands)]\n",
    "\n",
    "deck = FrenchDeck()\n",
    "deck.shuffle()\n",
    "deal_cards(deck, 5, 2)"
   ]
  },
  {
   "cell_type": "code",
   "execution_count": 117,
   "id": "d8dd3c81-614a-433c-b699-bb961b6db638",
   "metadata": {},
   "outputs": [
    {
     "data": {
      "text/plain": [
       "[[('7', 'CLUBS'),\n",
       "  ('8', 'SPADES'),\n",
       "  ('K', 'HEARTS'),\n",
       "  ('J', 'CLUBS'),\n",
       "  ('A', 'DIAMONDS')],\n",
       " [('K', 'DIAMONDS'),\n",
       "  ('9', 'DIAMONDS'),\n",
       "  ('9', 'HEARTS'),\n",
       "  ('10', 'DIAMONDS'),\n",
       "  ('K', 'SPADES')]]"
      ]
     },
     "execution_count": 117,
     "metadata": {},
     "output_type": "execute_result"
    }
   ],
   "source": [
    "deck = Deck()\n",
    "deck.shuffle()\n",
    "deal_cards(deck,5,  2)"
   ]
  },
  {
   "cell_type": "code",
   "execution_count": 118,
   "id": "bd33d916-7a06-45d8-b40b-f577c2904daa",
   "metadata": {},
   "outputs": [],
   "source": [
    "class DeckBase:\n",
    "    def deal(self, num_cards):\n",
    "        raise NotImplementedError()\n",
    "\n",
    "    def shuffle(self):\n",
    "        raise NotImplementedError()\n",
    "\n",
    "    def get_cards(self):\n",
    "        raise NotImplementedError()\n",
    "\n",
    "    def set_cards(self, cards):\n",
    "        raise NotImplementedError()\n",
    "    "
   ]
  },
  {
   "cell_type": "code",
   "execution_count": 119,
   "id": "8ce55ed1-df37-43aa-a897-2bd5ca133901",
   "metadata": {},
   "outputs": [
    {
     "ename": "NotImplementedError",
     "evalue": "",
     "output_type": "error",
     "traceback": [
      "\u001b[31m---------------------------------------------------------------------------\u001b[39m",
      "\u001b[31mNotImplementedError\u001b[39m                       Traceback (most recent call last)",
      "\u001b[36mCell\u001b[39m\u001b[36m \u001b[39m\u001b[32mIn[119]\u001b[39m\u001b[32m, line 2\u001b[39m\n\u001b[32m      1\u001b[39m deck = DeckBase()\n\u001b[32m----> \u001b[39m\u001b[32m2\u001b[39m deck.shuffle()\n",
      "\u001b[36mCell\u001b[39m\u001b[36m \u001b[39m\u001b[32mIn[118]\u001b[39m\u001b[32m, line 6\u001b[39m, in \u001b[36mDeckBase.shuffle\u001b[39m\u001b[34m(self)\u001b[39m\n\u001b[32m      5\u001b[39m \u001b[38;5;28;01mdef\u001b[39;00m \u001b[34mshuffle\u001b[39m(\u001b[38;5;28mself\u001b[39m):\n\u001b[32m----> \u001b[39m\u001b[32m6\u001b[39m     \u001b[38;5;28;01mraise\u001b[39;00m \u001b[38;5;167;01mNotImplementedError\u001b[39;00m()\n",
      "\u001b[31mNotImplementedError\u001b[39m: "
     ]
    }
   ],
   "source": [
    "deck = DeckBase()\n",
    "deck.shuffle()"
   ]
  },
  {
   "cell_type": "code",
   "execution_count": 120,
   "id": "79c459ed-123b-45da-9bfb-afceec4d3e06",
   "metadata": {},
   "outputs": [],
   "source": [
    "class Deck(DeckBase):\n",
    "    _SUITS = ['SPADES', 'HEARTS', 'DIAMONDS', 'CLUBS']\n",
    "    _FACES = ['A', '2', '3', '4', '5', '6', '7', '8', '9', '10', 'J', 'Q', 'K']\n",
    "    def __init__(self):\n",
    "        self.cards = [(f, s) for s in self._SUITS for f in self._FACES]\n",
    "\n",
    "    def shuffle(self):\n",
    "        random.shuffle(self.cards)\n"
   ]
  },
  {
   "cell_type": "code",
   "execution_count": 121,
   "id": "78047da6-f988-4068-8796-956044bed798",
   "metadata": {},
   "outputs": [
    {
     "ename": "NotImplementedError",
     "evalue": "",
     "output_type": "error",
     "traceback": [
      "\u001b[31m---------------------------------------------------------------------------\u001b[39m",
      "\u001b[31mNotImplementedError\u001b[39m                       Traceback (most recent call last)",
      "\u001b[36mCell\u001b[39m\u001b[36m \u001b[39m\u001b[32mIn[121]\u001b[39m\u001b[32m, line 3\u001b[39m\n\u001b[32m      1\u001b[39m deck = Deck()\n\u001b[32m      2\u001b[39m deck.shuffle()\n\u001b[32m----> \u001b[39m\u001b[32m3\u001b[39m deck.deal(\u001b[32m5\u001b[39m)\n",
      "\u001b[36mCell\u001b[39m\u001b[36m \u001b[39m\u001b[32mIn[118]\u001b[39m\u001b[32m, line 3\u001b[39m, in \u001b[36mDeckBase.deal\u001b[39m\u001b[34m(self, num_cards)\u001b[39m\n\u001b[32m      2\u001b[39m \u001b[38;5;28;01mdef\u001b[39;00m \u001b[34mdeal\u001b[39m(\u001b[38;5;28mself\u001b[39m, num_cards):\n\u001b[32m----> \u001b[39m\u001b[32m3\u001b[39m     \u001b[38;5;28;01mraise\u001b[39;00m \u001b[38;5;167;01mNotImplementedError\u001b[39;00m()\n",
      "\u001b[31mNotImplementedError\u001b[39m: "
     ]
    }
   ],
   "source": [
    "deck = Deck()\n",
    "deck.shuffle()\n",
    "deck.deal(5)"
   ]
  },
  {
   "cell_type": "markdown",
   "id": "cc339396-6ca8-4153-a85b-cd0ca6571401",
   "metadata": {},
   "source": [
    "## Exercises"
   ]
  },
  {
   "cell_type": "markdown",
   "id": "989361c4-7e7f-4586-ae8c-516349a9cd39",
   "metadata": {},
   "source": [
    "**1.**\n",
    "Create a `Card` class that has the attributes suit and face that can be passed into its constructor. Modify the `Deck` class to use a list of `Card` objects as cards, rather than a list of tuples."
   ]
  },
  {
   "cell_type": "code",
   "execution_count": null,
   "id": "7eabfd24-7381-4ada-a1c9-63b557ef1aa3",
   "metadata": {},
   "outputs": [],
   "source": []
  },
  {
   "cell_type": "markdown",
   "id": "ec5b4ab0-6723-4e56-91c7-35c482828265",
   "metadata": {},
   "source": [
    "**2.** Add a method called `__str__` to the Card object in the first exercise. The `__str__` method allows Python to know how to format the objects as strings and will be used automatically if populated. Use it to create a string representation of the card.\n",
    "\n",
    "Keep in mind you can use the Unicode symbols ♠, ♡, ♢, and ♣ in your string representations of the card."
   ]
  },
  {
   "cell_type": "code",
   "execution_count": null,
   "id": "60b57208-4c5e-4462-b644-79cae21772fa",
   "metadata": {},
   "outputs": [],
   "source": []
  },
  {
   "cell_type": "markdown",
   "id": "5c4b2c58-c042-4325-962f-ee6a64d301de",
   "metadata": {},
   "source": [
    "**3.**\n",
    "Design an abstract base class for a hand of cards in a game called `AbstractBaseHand`. Think about what sorts of features a hand might have. Some methods you might require implementation for might be:\n",
    "\n",
    "- `get_cards`\n",
    "- `set_cards`\n",
    "- `add_card` (add card passed into the hand)\n",
    "- `remove_card (remove card matching value and suit passed in `__str__`\n"
   ]
  },
  {
   "cell_type": "code",
   "execution_count": null,
   "id": "fa5fca39-c6b1-4132-9f78-f89b25419657",
   "metadata": {},
   "outputs": [],
   "source": []
  },
  {
   "cell_type": "markdown",
   "id": "6e24dfa6-f515-4a54-aa3c-653520e1c49f",
   "metadata": {},
   "source": [
    "**4.**\n",
    "Extend your AbstractBaseHand class to create a specific Hand class with all methods implemented. At a minimum, you should be able to deal cards to it from the deck and display the resulting hand values."
   ]
  },
  {
   "cell_type": "code",
   "execution_count": null,
   "id": "77e49425-72ab-4d84-9b2b-0b1e887232e7",
   "metadata": {},
   "outputs": [],
   "source": []
  }
 ],
 "metadata": {
  "kernelspec": {
   "display_name": "Python 3 (ipykernel)",
   "language": "python",
   "name": "python3"
  },
  "language_info": {
   "codemirror_mode": {
    "name": "ipython",
    "version": 3
   },
   "file_extension": ".py",
   "mimetype": "text/x-python",
   "name": "python",
   "nbconvert_exporter": "python",
   "pygments_lexer": "ipython3",
   "version": "3.12.2"
  }
 },
 "nbformat": 4,
 "nbformat_minor": 5
}
