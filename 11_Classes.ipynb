{
 "cells": [
  {
   "cell_type": "code",
   "execution_count": 18,
   "id": "f28d8dbc-7890-4e86-8703-c83ce7b36cad",
   "metadata": {},
   "outputs": [
    {
     "data": {
      "text/plain": [
       "[('4', 'DIAMONDS'),\n",
       " ('7', 'CLUBS'),\n",
       " ('10', 'SPADES'),\n",
       " ('4', 'CLUBS'),\n",
       " ('K', 'CLUBS')]"
      ]
     },
     "execution_count": 18,
     "metadata": {},
     "output_type": "execute_result"
    }
   ],
   "source": [
    "import random\n",
    "\n",
    "SUITS = ['SPADES', 'HEARTS', 'DIAMONDS', 'CLUBS']\n",
    "FACES = ['A', '2', '3', '4', '5', '6', '7', '8', '9', '10', 'J', 'Q', 'K']\n",
    "\n",
    "class Deck:\n",
    "    def __init__(self):\n",
    "        self.cards = [(f, s) for s in SUITS for f in FACES]\n",
    "\n",
    "    def shuffle(self):\n",
    "        random.shuffle(self.cards)\n",
    "\n",
    "    def deal(self, num):\n",
    "        if len(self.cards) < num:\n",
    "            print(f'Not enough cards to deal {num} cards')\n",
    "        else:\n",
    "            dealt = self.cards[0:num]\n",
    "            self.cards = self.cards[num:]\n",
    "            return dealt\n",
    "\n",
    "deck = Deck()\n",
    "deck.shuffle()\n",
    "deck.deal(5)"
   ]
  },
  {
   "cell_type": "code",
   "execution_count": 19,
   "id": "fd615781-d0a7-49be-9de2-5014c4248fd5",
   "metadata": {},
   "outputs": [],
   "source": [
    "\n",
    "class Deck:\n",
    "    def __init__(self):\n",
    "        self.SUITS = ['SPADES', 'HEARTS', 'DIAMONDS', 'CLUBS']\n",
    "        self.FACES = ['A', '2', '3', '4', '5', '6', '7', '8', '9', '10', 'J', 'Q', 'K']\n",
    "        self.cards = [(f, s) for s in self.SUITS for f in self.FACES]"
   ]
  },
  {
   "cell_type": "code",
   "execution_count": 20,
   "id": "2271f3fa-e4ca-4837-83d1-c5ac03ba6682",
   "metadata": {},
   "outputs": [],
   "source": [
    "deck = Deck()"
   ]
  },
  {
   "cell_type": "code",
   "execution_count": 23,
   "id": "e8b6eb42-5373-4c32-97f3-3463ef55b3bb",
   "metadata": {},
   "outputs": [],
   "source": [
    "\n",
    "class Deck:\n",
    "    SUITS = ['SPADES', 'HEARTS', 'DIAMONDS', 'CLUBS']\n",
    "    FACES = ['A', '2', '3', '4', '5', '6', '7', '8', '9', '10', 'J', 'Q', 'K']\n",
    "    def __init__(self):\n",
    "        self.cards = [(f, s) for s in self.SUITS for f in self.FACES]"
   ]
  },
  {
   "cell_type": "code",
   "execution_count": 24,
   "id": "a491b223-7e7f-4776-b49d-04474b45161f",
   "metadata": {},
   "outputs": [],
   "source": [
    "deck = Deck()\n"
   ]
  },
  {
   "cell_type": "code",
   "execution_count": 27,
   "id": "69ea1c2e-20af-4ee9-b3b1-b88f465f055a",
   "metadata": {},
   "outputs": [
    {
     "data": {
      "text/plain": [
       "['SPADES', 'HEARTS', 'DIAMONDS', 'CLUBS']"
      ]
     },
     "execution_count": 27,
     "metadata": {},
     "output_type": "execute_result"
    }
   ],
   "source": [
    "Deck.SUITS"
   ]
  },
  {
   "cell_type": "code",
   "execution_count": 28,
   "id": "14e0e289-7990-4218-bc03-0b0e4ea6ba59",
   "metadata": {},
   "outputs": [
    {
     "ename": "AttributeError",
     "evalue": "type object 'Deck' has no attribute 'cards'",
     "output_type": "error",
     "traceback": [
      "\u001b[0;31m---------------------------------------------------------------------------\u001b[0m",
      "\u001b[0;31mAttributeError\u001b[0m                            Traceback (most recent call last)",
      "Cell \u001b[0;32mIn[28], line 1\u001b[0m\n\u001b[0;32m----> 1\u001b[0m \u001b[43mDeck\u001b[49m\u001b[38;5;241;43m.\u001b[39;49m\u001b[43mcards\u001b[49m\n",
      "\u001b[0;31mAttributeError\u001b[0m: type object 'Deck' has no attribute 'cards'"
     ]
    }
   ],
   "source": [
    "Deck.cards"
   ]
  },
  {
   "cell_type": "code",
   "execution_count": 40,
   "id": "12936147-9665-49e3-9ee2-374ec7f49b07",
   "metadata": {},
   "outputs": [],
   "source": [
    "class Deck:\n",
    "    SUITS = ['SPADES', 'HEARTS', 'DIAMONDS', 'CLUBS']\n",
    "    FACES = ['A', '2', '3', '4', '5', '6', '7', '8', '9', '10', 'J', 'Q', 'K']\n",
    "    def __init__(self):\n",
    "        self.cards = [(f, s) for s in self.SUITS for f in self.FACES]\n",
    "\n",
    "    def shuffle(self):\n",
    "        random.shuffle(self.cards)\n",
    "\n",
    "    def get_suits_str():\n",
    "        return f'The suits are: {', '.join(Deck.SUITS)}'\n",
    "\n"
   ]
  },
  {
   "cell_type": "code",
   "execution_count": 35,
   "id": "162466d3-5fd7-4081-aacf-dc1ed3154f17",
   "metadata": {},
   "outputs": [
    {
     "data": {
      "text/plain": [
       "'The suits are: SPADES, HEARTS, DIAMONDS, CLUBS'"
      ]
     },
     "execution_count": 35,
     "metadata": {},
     "output_type": "execute_result"
    }
   ],
   "source": [
    "Deck.get_suits_str()"
   ]
  },
  {
   "cell_type": "code",
   "execution_count": 31,
   "id": "7d00944d-e515-4902-9f11-e79b813a3afd",
   "metadata": {},
   "outputs": [
    {
     "ename": "TypeError",
     "evalue": "Deck.shuffle() missing 1 required positional argument: 'self'",
     "output_type": "error",
     "traceback": [
      "\u001b[0;31m---------------------------------------------------------------------------\u001b[0m",
      "\u001b[0;31mTypeError\u001b[0m                                 Traceback (most recent call last)",
      "Cell \u001b[0;32mIn[31], line 1\u001b[0m\n\u001b[0;32m----> 1\u001b[0m \u001b[43mDeck\u001b[49m\u001b[38;5;241;43m.\u001b[39;49m\u001b[43mshuffle\u001b[49m\u001b[43m(\u001b[49m\u001b[43m)\u001b[49m\n",
      "\u001b[0;31mTypeError\u001b[0m: Deck.shuffle() missing 1 required positional argument: 'self'"
     ]
    }
   ],
   "source": [
    "Deck.shuffle()"
   ]
  },
  {
   "cell_type": "code",
   "execution_count": 36,
   "id": "fa2a2c6d-c2ee-42d5-9d9c-f02ddeaa41ff",
   "metadata": {},
   "outputs": [
    {
     "ename": "TypeError",
     "evalue": "Deck.get_suits_str() takes 0 positional arguments but 1 was given",
     "output_type": "error",
     "traceback": [
      "\u001b[0;31m---------------------------------------------------------------------------\u001b[0m",
      "\u001b[0;31mTypeError\u001b[0m                                 Traceback (most recent call last)",
      "Cell \u001b[0;32mIn[36], line 3\u001b[0m\n\u001b[1;32m      1\u001b[0m deck \u001b[38;5;241m=\u001b[39m Deck()\n\u001b[1;32m      2\u001b[0m deck\u001b[38;5;241m.\u001b[39mshuffle()\n\u001b[0;32m----> 3\u001b[0m \u001b[43mdeck\u001b[49m\u001b[38;5;241;43m.\u001b[39;49m\u001b[43mget_suits_str\u001b[49m\u001b[43m(\u001b[49m\u001b[43m)\u001b[49m\n",
      "\u001b[0;31mTypeError\u001b[0m: Deck.get_suits_str() takes 0 positional arguments but 1 was given"
     ]
    }
   ],
   "source": [
    "deck = Deck()\n",
    "deck.shuffle()\n",
    "deck.get_suits_str()"
   ]
  },
  {
   "cell_type": "code",
   "execution_count": null,
   "id": "2c954854-d9f9-41fb-8026-19ca3e869c36",
   "metadata": {},
   "outputs": [],
   "source": [
    "deck.get_suits_str()\n",
    "Deck.get_suits_str(deck)"
   ]
  },
  {
   "cell_type": "code",
   "execution_count": 55,
   "id": "3daea8e8-10ea-4c3b-8589-67dd50be9a61",
   "metadata": {},
   "outputs": [],
   "source": [
    "class Deck:\n",
    "    SUITS = ['SPADES', 'HEARTS', 'DIAMONDS', 'CLUBS']\n",
    "    FACES = ['A', '2', '3', '4', '5', '6', '7', '8', '9', '10', 'J', 'Q', 'K']\n",
    "    def __init__(self):\n",
    "        self.cards = [(f, s) for s in self.SUITS for f in self.FACES]\n",
    "\n",
    "    def shuffle(self):\n",
    "        random.shuffle(self.cards)\n",
    "\n",
    "    @staticmethod\n",
    "    def get_suits_str():\n",
    "        return f'The suits are: {', '.join(Deck.SUITS)}'\n"
   ]
  },
  {
   "cell_type": "code",
   "execution_count": 56,
   "id": "548dc126-6459-41b3-b6b9-aa4d881fc38f",
   "metadata": {},
   "outputs": [
    {
     "data": {
      "text/plain": [
       "'The suits are: SPADES, HEARTS, DIAMONDS, CLUBS'"
      ]
     },
     "execution_count": 56,
     "metadata": {},
     "output_type": "execute_result"
    }
   ],
   "source": [
    "deck = Deck()\n",
    "deck.get_suits_str()"
   ]
  },
  {
   "cell_type": "markdown",
   "id": "a48cdbaf-525b-4ef7-96b8-fd2d1ed8080e",
   "metadata": {},
   "source": [
    "## Inheritance"
   ]
  },
  {
   "cell_type": "code",
   "execution_count": 59,
   "id": "09c6c1a6-6d1f-46a2-9929-e2773c4e9134",
   "metadata": {},
   "outputs": [],
   "source": [
    "class Deck:\n",
    "    SUITS = ['SPADES', 'HEARTS', 'DIAMONDS', 'CLUBS']\n",
    "    FACES = ['A', '2', '3', '4', '5', '6', '7', '8', '9', '10', 'J', 'Q', 'K']\n",
    "    def __init__(self):\n",
    "        self.cards = [(f, s) for s in self.SUITS for f in self.FACES]\n",
    "\n",
    "    def shuffle(self):\n",
    "        random.shuffle(self.cards)\n",
    "    \n",
    "    def deal(self, num):\n",
    "        if len(self.cards) < num:\n",
    "            print(f'Not enough cards to deal {num} cards')\n",
    "        else:\n",
    "            dealt = self.cards[0:num]\n",
    "            self.cards = self.cards[num:]\n",
    "            return dealt\n",
    "\n",
    "    @staticmethod\n",
    "    def get_suits_str():\n",
    "        return f'The suits are: {', '.join(Deck.SUITS)}'"
   ]
  },
  {
   "cell_type": "code",
   "execution_count": 49,
   "id": "616a6db1-8fcc-4120-b71e-659308fed509",
   "metadata": {},
   "outputs": [],
   "source": [
    "class FrenchDeck(Deck):\n",
    "    SUITS = ['PIQUES', 'CŒURS', 'CARREAUX', 'TRÈFLES']\n",
    "\n"
   ]
  },
  {
   "cell_type": "code",
   "execution_count": 80,
   "id": "7386cd5a-d155-4675-8992-f12741467a6e",
   "metadata": {},
   "outputs": [
    {
     "data": {
      "text/plain": [
       "[('4', 'CŒURS'),\n",
       " ('D', 'TRÈFLES'),\n",
       " ('D', 'PIQUES'),\n",
       " ('5', 'CŒURS'),\n",
       " ('6', 'PIQUES')]"
      ]
     },
     "execution_count": 80,
     "metadata": {},
     "output_type": "execute_result"
    }
   ],
   "source": [
    "class FrenchDeck(Deck):\n",
    "    SUITS = ['PIQUES', 'CŒURS', 'CARREAUX', 'TRÈFLES']\n",
    "    FACES = ['A', '2', '3', '4', '5', '6', '7', '8', '9', '10', 'V', 'D', 'R']\n",
    "    \n",
    "    @staticmethod\n",
    "    def get_suits_str():\n",
    "        return f'Les enseignes sont: {', '.join(FrenchDeck.SUITS)}'\n",
    "\n",
    "    @classmethod\n",
    "    def t(cls):\n",
    "        print(cls.SUITS)\n",
    "\n",
    "french = FrenchDeck()\n",
    "french.shuffle()\n",
    "french.deal(5)"
   ]
  },
  {
   "cell_type": "code",
   "execution_count": 81,
   "id": "4e0a7435-df9c-40ab-951a-4908fa30835c",
   "metadata": {},
   "outputs": [
    {
     "name": "stdout",
     "output_type": "stream",
     "text": [
      "['PIQUES', 'CŒURS', 'CARREAUX', 'TRÈFLES']\n"
     ]
    }
   ],
   "source": [
    "french.t()"
   ]
  },
  {
   "cell_type": "code",
   "execution_count": 203,
   "id": "95984370-f16a-45bb-95ad-22914508efce",
   "metadata": {},
   "outputs": [],
   "source": [
    "class Deck:\n",
    "    SUITS = ['SPADES', 'HEARTS', 'DIAMONDS', 'CLUBS']\n",
    "    FACES = ['A', '2', '3', '4', '5', '6', '7', '8', '9', '10', 'J', 'Q', 'K']\n",
    "    def __init__(self):\n",
    "        self.cards = [(f, s) for s in self.SUITS for f in self.FACES]\n",
    "\n",
    "    def shuffle(self):\n",
    "        random.shuffle(self.cards)\n",
    "    \n",
    "    def deal(self, num):\n",
    "        if len(self.cards) < num:\n",
    "            print(f'Not enough cards to deal {num} cards')\n",
    "        else:\n",
    "            dealt = self.cards[0:num]\n",
    "            self.cards = self.cards[num:]\n",
    "            return dealt\n",
    "\n",
    "class FrenchDeck(Deck):\n",
    "    SUITS = ['PIQUES', 'CŒURS', 'CARREAUX', 'TRÈFLES']\n",
    "    FACES = ['A', '2', '3', '4', '5', '6', '7', '8', '9', '10', 'V', 'D', 'R']\n",
    "\n",
    "\n",
    "class PinochleDeck(Deck):\n",
    "    def __init__(self):\n",
    "        faces = [self.FACES[0]] + self.FACES[8:]\n",
    "        self.cards = [(f, s) for s in self.SUITS*2 for f in faces]\n",
    "\n",
    "class FrenchPinochleDeck(FrenchDeck, PinochleDeck):\n",
    "    pass\n",
    "\n"
   ]
  },
  {
   "cell_type": "markdown",
   "id": "f56d1ac8-b08f-44f0-a566-52f2bc0c9ee1",
   "metadata": {},
   "source": [
    "### Class method"
   ]
  },
  {
   "cell_type": "code",
   "execution_count": 142,
   "id": "b835afde-39a6-4646-95e4-b404ce8456cb",
   "metadata": {},
   "outputs": [],
   "source": [
    "class Deck:\n",
    "    SUITS = ['SPADES', 'HEARTS', 'DIAMONDS', 'CLUBS']\n",
    "    FACES = ['A', '2', '3', '4', '5', '6', '7', '8', '9', '10', 'J', 'Q', 'K']\n",
    "    def __init__(self):\n",
    "        print('Deck constructor!')\n",
    "        self.cards = [(f, s) for s in self.SUITS for f in self.FACES]\n",
    "\n",
    "    def shuffle(self):\n",
    "        random.shuffle(self.cards)\n",
    "    \n",
    "    def deal(self, num):\n",
    "        if len(self.cards) < num:\n",
    "            print(f'Not enough cards to deal {num} cards')\n",
    "        else:\n",
    "            dealt = self.cards[0:num]\n",
    "            self.cards = self.cards[num:]\n",
    "            return dealt\n",
    "\n",
    "    @classmethod\n",
    "    def get_suits_str(cls):\n",
    "        return f'The suits are: {', '.join(cls.SUITS)}'"
   ]
  },
  {
   "cell_type": "code",
   "execution_count": 143,
   "id": "0826ed75-0a4b-4cc9-92e3-6b4dd962a93d",
   "metadata": {},
   "outputs": [
    {
     "name": "stdout",
     "output_type": "stream",
     "text": [
      "Deck constructor!\n"
     ]
    },
    {
     "data": {
      "text/plain": [
       "'The suits are: SPADES, HEARTS, DIAMONDS, CLUBS'"
      ]
     },
     "execution_count": 143,
     "metadata": {},
     "output_type": "execute_result"
    }
   ],
   "source": [
    "deck = Deck()\n",
    "deck.get_suits_str()"
   ]
  },
  {
   "cell_type": "code",
   "execution_count": 144,
   "id": "ef20ff84-37dd-4bc5-9fd3-13d06f593a56",
   "metadata": {},
   "outputs": [
    {
     "name": "stdout",
     "output_type": "stream",
     "text": [
      "Deck constructor!\n"
     ]
    },
    {
     "data": {
      "text/plain": [
       "'The suits are: PIQUES, CŒURS, CARREAUX, TRÈFLES'"
      ]
     },
     "execution_count": 144,
     "metadata": {},
     "output_type": "execute_result"
    }
   ],
   "source": [
    "class FrenchDeck(Deck):\n",
    "    SUITS = ['PIQUES', 'CŒURS', 'CARREAUX', 'TRÈFLES']\n",
    "    FACES = ['A', '2', '3', '4', '5', '6', '7', '8', '9', '10', 'V', 'D', 'R']\n",
    "\n",
    "french = FrenchDeck()\n",
    "french.get_suits_str()"
   ]
  },
  {
   "cell_type": "code",
   "execution_count": 145,
   "id": "bc5667af-3092-4e9b-ab8c-004ab691ef93",
   "metadata": {},
   "outputs": [],
   "source": [
    "class PinochleDeck(Deck):\n",
    "    def __init__(self):\n",
    "        faces = [self.FACES[0]] + self.FACES[8:]\n",
    "        self.cards = [(f, s) for s in self.SUITS*2 for f in faces]\n",
    "        \n",
    "        "
   ]
  },
  {
   "cell_type": "code",
   "execution_count": 94,
   "id": "b2b3d34d-9c35-47e0-be23-7019070ff302",
   "metadata": {},
   "outputs": [
    {
     "data": {
      "text/plain": [
       "48"
      ]
     },
     "execution_count": 94,
     "metadata": {},
     "output_type": "execute_result"
    }
   ],
   "source": [
    "pinochle = PinochleDeck()\n",
    "pinochle.cards"
   ]
  },
  {
   "cell_type": "code",
   "execution_count": 100,
   "id": "e83bf903-d6dc-4794-b79c-0f6eacc740e4",
   "metadata": {},
   "outputs": [
    {
     "data": {
      "text/plain": [
       "48"
      ]
     },
     "execution_count": 100,
     "metadata": {},
     "output_type": "execute_result"
    }
   ],
   "source": [
    "pinochle = PinochleDeck()\n",
    "len(pinochle.cards)"
   ]
  },
  {
   "cell_type": "code",
   "execution_count": 130,
   "id": "68518b5e-7f77-4261-98d2-b91e4dbfdeee",
   "metadata": {},
   "outputs": [],
   "source": [
    "class FrenchPinochleDeck(PinochleDeck, FrenchDeck):\n",
    "    pass"
   ]
  },
  {
   "cell_type": "code",
   "execution_count": 148,
   "id": "33533135-1bd0-41c2-94c2-24b52c94ec63",
   "metadata": {},
   "outputs": [],
   "source": [
    "class FrenchPinochleDeck(FrenchDeck, PinochleDeck):\n",
    "    pass"
   ]
  },
  {
   "cell_type": "code",
   "execution_count": 149,
   "id": "7a9dcabe-b9d0-4519-a513-e3b663266fdb",
   "metadata": {},
   "outputs": [
    {
     "name": "stdout",
     "output_type": "stream",
     "text": [
      "48\n"
     ]
    },
    {
     "data": {
      "text/plain": [
       "[('R', 'CARREAUX'),\n",
       " ('R', 'TRÈFLES'),\n",
       " ('9', 'CŒURS'),\n",
       " ('A', 'CARREAUX'),\n",
       " ('V', 'PIQUES')]"
      ]
     },
     "execution_count": 149,
     "metadata": {},
     "output_type": "execute_result"
    }
   ],
   "source": [
    "fp = FrenchPinochleDeck()\n",
    "print(len(fp.cards))\n",
    "fp.shuffle()\n",
    "fp.deal(5)"
   ]
  },
  {
   "cell_type": "code",
   "execution_count": 116,
   "id": "acace7a4-25eb-4745-a13c-640d9f1abbbe",
   "metadata": {},
   "outputs": [
    {
     "data": {
      "text/plain": [
       "43"
      ]
     },
     "execution_count": 116,
     "metadata": {},
     "output_type": "execute_result"
    }
   ],
   "source": [
    "len(fp.cards)"
   ]
  },
  {
   "cell_type": "code",
   "execution_count": 187,
   "id": "ee9d0961-155c-4c0c-806c-e61cd0eb4e39",
   "metadata": {},
   "outputs": [],
   "source": [
    "class Deck:\n",
    "    def __init__(self):\n",
    "        print('Deck constructor!')\n",
    "\n",
    "class FrenchDeck(Deck):\n",
    "    pass\n",
    "\n",
    "class PinochleDeck(Deck):\n",
    "    pass\n",
    "    #def __init__(self):\n",
    "    #    print('Pinochle constructor!')\n",
    "\n",
    "class FrenchPinochleDeck(FrenchDeck, PinochleDeck):\n",
    "    pass\n",
    "\n",
    "class PinochleFrenchDeck(PinochleDeck, FrenchDeck):\n",
    "    pass"
   ]
  },
  {
   "cell_type": "code",
   "execution_count": 188,
   "id": "d1a7cf27-2eab-4aaa-9c76-d05314377968",
   "metadata": {},
   "outputs": [
    {
     "name": "stdout",
     "output_type": "stream",
     "text": [
      "Deck constructor!\n"
     ]
    }
   ],
   "source": [
    "french = FrenchDeck()"
   ]
  },
  {
   "cell_type": "code",
   "execution_count": 189,
   "id": "6868815a-ff95-46af-9557-07e44b4aec92",
   "metadata": {},
   "outputs": [
    {
     "name": "stdout",
     "output_type": "stream",
     "text": [
      "Deck constructor!\n"
     ]
    }
   ],
   "source": [
    "fp = FrenchPinochleDeck()"
   ]
  },
  {
   "cell_type": "code",
   "execution_count": 190,
   "id": "48032d0a-d0cf-4262-ac3b-393d483a0768",
   "metadata": {},
   "outputs": [
    {
     "name": "stdout",
     "output_type": "stream",
     "text": [
      "Deck constructor!\n"
     ]
    }
   ],
   "source": [
    "pf = PinochleFrenchDeck()"
   ]
  },
  {
   "cell_type": "code",
   "execution_count": 196,
   "id": "69675fc2-a448-4c76-932f-a3bb6622648b",
   "metadata": {},
   "outputs": [
    {
     "name": "stdout",
     "output_type": "stream",
     "text": [
      "A\n",
      "B\n"
     ]
    }
   ],
   "source": [
    "class A:\n",
    "    name = 'A'\n",
    "\n",
    "class B(A):\n",
    "    another_attr = 'B'\n",
    "\n",
    "class C:\n",
    "    name = 'C'\n",
    "\n",
    "class Child(B, C):\n",
    "    pass\n",
    "\n",
    "\n",
    "print(Child.name)\n",
    "print(Child.another_attr)\n",
    "\n"
   ]
  },
  {
   "cell_type": "code",
   "execution_count": 232,
   "id": "1bd9e327-01fd-49e3-baf0-e94d7f9032e8",
   "metadata": {},
   "outputs": [
    {
     "data": {
      "text/plain": [
       "(__main__.FrenchPinochleDeck,\n",
       " __main__.FrenchDeck,\n",
       " __main__.PinochleDeck,\n",
       " __main__.Deck,\n",
       " object)"
      ]
     },
     "execution_count": 232,
     "metadata": {},
     "output_type": "execute_result"
    }
   ],
   "source": [
    "class Deck:\n",
    "    def __init__(self):\n",
    "        print('Deck constructor!')\n",
    "\n",
    "class FrenchDeck(Deck):\n",
    "    pass\n",
    "\n",
    "class PinochleDeck(Deck):\n",
    "    def __init__(self):\n",
    "        print('Pinochle constructor!')\n",
    "\n",
    "class FrenchPinochleDeck(FrenchDeck, PinochleDeck):\n",
    "    pass\n",
    "\n",
    "FrenchPinochleDeck.__mro__"
   ]
  },
  {
   "cell_type": "code",
   "execution_count": 233,
   "id": "4a46aea8-df6c-40e9-88b4-d9ead0448048",
   "metadata": {},
   "outputs": [
    {
     "data": {
      "text/plain": [
       "(__main__.FrenchPinochleDeck,\n",
       " __main__.FrenchDeck,\n",
       " __main__.Deck,\n",
       " __main__.PinochleDeck,\n",
       " object)"
      ]
     },
     "execution_count": 233,
     "metadata": {},
     "output_type": "execute_result"
    }
   ],
   "source": [
    "class Deck:\n",
    "    def __init__(self):\n",
    "        print('Deck constructor!')\n",
    "\n",
    "class FrenchDeck(Deck):\n",
    "    pass\n",
    "\n",
    "class PinochleDeck():\n",
    "    def __init__(self):\n",
    "        print('Pinochle constructor!')\n",
    "\n",
    "class FrenchPinochleDeck(FrenchDeck, PinochleDeck):\n",
    "    pass\n",
    "\n",
    "FrenchPinochleDeck.__mro__"
   ]
  },
  {
   "cell_type": "code",
   "execution_count": 246,
   "id": "571472e1-2926-47fa-9ede-127b2a8dc372",
   "metadata": {},
   "outputs": [],
   "source": [
    "class Deck:\n",
    "    SUITS = ['SPADES', 'HEARTS', 'DIAMONDS', 'CLUBS']\n",
    "    FACES = ['A', '2', '3', '4', '5', '6', '7', '8', '9', '10', 'J', 'Q', 'K']\n",
    "    def __init__(self):\n",
    "        print('Deck constructor!')\n",
    "        self.cards = [(f, s) for s in self.SUITS for f in self.FACES]\n",
    "\n",
    "    def shuffle(self):\n",
    "        random.shuffle(self.cards)\n",
    "    \n",
    "    def deal(self, num):\n",
    "        if len(self.cards) < num:\n",
    "            print(f'Not enough cards to deal {num} cards')\n",
    "        else:\n",
    "            dealt = self.cards[0:num]\n",
    "            self.cards = self.cards[num:]\n",
    "            return dealt\n",
    "\n",
    "    @classmethod\n",
    "    def get_suits_str(cls):\n",
    "        return f'The suits are: {', '.join(cls.SUITS)}'\n",
    "\n",
    "class PinochleDeck(Deck):\n",
    "    def __init__(self):\n",
    "        faces = [self.FACES[0]] + self.FACES[8:]\n",
    "        self.cards = [(f, s) for s in self.SUITS*2 for f in faces]\n",
    "\n",
    "class FrenchDeck(Deck):\n",
    "    SUITS = ['PIQUES', 'CŒURS', 'CARREAUX', 'TRÈFLES']\n",
    "    FACES = ['A', '2', '3', '4', '5', '6', '7', '8', '9', '10', 'V', 'D', 'R']\n",
    "\n",
    "\n",
    "class PinochleFrenchDeck(PinochleDeck, FrenchDeck):\n",
    "    SUITS = FrenchDeck.SUITS\n",
    "    FACES = FrenchDeck.FACES\n",
    "    __init__ = PinochleDeck.__init__\n",
    "\n",
    "pf = PinochleFrenchDeck()\n"
   ]
  },
  {
   "cell_type": "code",
   "execution_count": 234,
   "id": "cd84c0e7-a17f-4ac1-8582-40670210ef23",
   "metadata": {},
   "outputs": [
    {
     "name": "stdout",
     "output_type": "stream",
     "text": [
      "Deck constructor!\n"
     ]
    },
    {
     "data": {
      "text/plain": [
       "<__main__.FrenchPinochleDeck at 0x107cf24b0>"
      ]
     },
     "execution_count": 234,
     "metadata": {},
     "output_type": "execute_result"
    }
   ],
   "source": [
    "FrenchPinochleDeck()"
   ]
  },
  {
   "cell_type": "markdown",
   "id": "6f867f70-6fc3-4910-97be-71709d703b46",
   "metadata": {},
   "source": [
    "## Encapsulation"
   ]
  },
  {
   "cell_type": "code",
   "execution_count": 249,
   "id": "e832cd45-5d74-4701-8d04-60e54faf6d4c",
   "metadata": {},
   "outputs": [
    {
     "name": "stdout",
     "output_type": "stream",
     "text": [
      "Deck constructor!\n"
     ]
    },
    {
     "data": {
      "text/plain": [
       "[('A', 'spam'), ('6', 'spam'), ('9', 'spam'), ('5', 'spam'), ('3', 'spam')]"
      ]
     },
     "execution_count": 249,
     "metadata": {},
     "output_type": "execute_result"
    }
   ],
   "source": [
    "class Deck:\n",
    "    SUITS = ['SPADES', 'HEARTS', 'DIAMONDS', 'CLUBS']\n",
    "    FACES = ['A', '2', '3', '4', '5', '6', '7', '8', '9', '10', 'J', 'Q', 'K']\n",
    "    def __init__(self):\n",
    "        print('Deck constructor!')\n",
    "        self.cards = [(f, s) for s in self.SUITS for f in self.FACES]\n",
    "\n",
    "    def shuffle(self):\n",
    "        random.shuffle(self.cards)\n",
    "    \n",
    "    def deal(self, num):\n",
    "        if len(self.cards) < num:\n",
    "            print(f'Not enough cards to deal {num} cards')\n",
    "        else:\n",
    "            dealt = self.cards[0:num]\n",
    "            self.cards = self.cards[num:]\n",
    "            return dealt\n",
    "\n",
    "    @classmethod\n",
    "    def get_suits_str(cls):\n",
    "        return f'The suits are: {', '.join(cls.SUITS)}'\n",
    "\n",
    "\n",
    "Deck.SUITS = ['spam', 'spam', 'spam', 'spam']\n",
    "deck = Deck()\n",
    "deck.shuffle()\n",
    "deck.cards[0:5]"
   ]
  },
  {
   "cell_type": "code",
   "execution_count": 255,
   "id": "8fefeee7-4fb7-4b4c-b6fc-58de7a43721c",
   "metadata": {},
   "outputs": [
    {
     "data": {
      "text/plain": [
       "[('2', 'HEARTS'),\n",
       " ('10', 'SPADES'),\n",
       " ('8', 'SPADES'),\n",
       " ('J', 'CLUBS'),\n",
       " ('2', 'CLUBS')]"
      ]
     },
     "execution_count": 255,
     "metadata": {},
     "output_type": "execute_result"
    }
   ],
   "source": [
    "class Deck:\n",
    "    _SUITS = ['SPADES', 'HEARTS', 'DIAMONDS', 'CLUBS']\n",
    "    _FACES = ['A', '2', '3', '4', '5', '6', '7', '8', '9', '10', 'J', 'Q', 'K']\n",
    "    def __init__(self):\n",
    "        self.cards = [(f, s) for s in self._SUITS for f in self._FACES]\n",
    "\n",
    "    def shuffle(self):\n",
    "        random.shuffle(self.cards)\n",
    "    \n",
    "    def deal(self, num):\n",
    "        if len(self.cards) < num:\n",
    "            print(f'Not enough cards to deal {num} cards')\n",
    "        else:\n",
    "            dealt = self.cards[0:num]\n",
    "            self.cards = self.cards[num:]\n",
    "            return dealt\n",
    "\n",
    "    @classmethod\n",
    "    def get_suits_str(cls):\n",
    "        return f'The suits are: {', '.join(cls.SUITS)}'\n",
    "\n",
    "\n",
    "\n",
    "deck = Deck()\n",
    "deck.shuffle()\n",
    "deck.cards[0:5]"
   ]
  },
  {
   "cell_type": "code",
   "execution_count": 258,
   "id": "94eb98c3-2e85-4787-9f4f-13818b0d0061",
   "metadata": {},
   "outputs": [
    {
     "data": {
      "text/plain": [
       "8"
      ]
     },
     "execution_count": 258,
     "metadata": {},
     "output_type": "execute_result"
    }
   ],
   "source": [
    "len('diamonds')"
   ]
  },
  {
   "cell_type": "code",
   "execution_count": 257,
   "id": "6f68de80-c6e7-459f-928c-a6993ee73c70",
   "metadata": {},
   "outputs": [
    {
     "name": "stdout",
     "output_type": "stream",
     "text": [
      "['SPADES', 'HEARTS', 'DIAMONDS', 'CLUBS']\n"
     ]
    }
   ],
   "source": [
    "deck = Deck()\n",
    "print(deck._SUITS)"
   ]
  },
  {
   "cell_type": "code",
   "execution_count": 277,
   "id": "48f39935-11dc-4a96-892c-a2193ee78eab",
   "metadata": {},
   "outputs": [],
   "source": [
    "class Deck:\n",
    "    _suits = ['SPADES', 'HEARTS', 'DIAMONDS', 'CLUBS']\n",
    "    _FACES = ['A', '2', '3', '4', '5', '6', '7', '8', '9', '10', 'J', 'Q', 'K']\n",
    "    def __init__(self):\n",
    "        self.cards = [(f, s) for s in self._suits for f in self._FACES]\n",
    "\n",
    "    @classmethod\n",
    "    def set_suits(cls, suits):\n",
    "            if cls._suits_are_valid(suits):\n",
    "                cls._suits = suits \n",
    "    \n",
    "    @staticmethod\n",
    "    def _suits_are_valid(suits):\n",
    "        if type(suits) != list:\n",
    "            print('Suits are not a list')\n",
    "            return False\n",
    "        if any([type(s) != str for s in suits]):\n",
    "            print('Must be strings')\n",
    "            return False\n",
    "        if len(set(suits)) != 4:\n",
    "            print('Must be four unique suits')\n",
    "            return False\n",
    "        if any([len(s) > 10 for s in suits]):\n",
    "            print('Must be 10 chars or less')\n",
    "            return False\n",
    "        return True\n",
    "\n",
    "\n",
    "    @classmethod\n",
    "    def get_suits(cls):\n",
    "        return cls._suits\n",
    "\n",
    "    @classmethod\n",
    "    def get_suits_str(cls):\n",
    "        return f'The suits are: {', '.join(cls._suits)}'\n",
    "    \n",
    "    def shuffle(self):\n",
    "        random.shuffle(self.cards)\n",
    "    \n",
    "    def deal(self, num):\n",
    "        if len(self.cards) < num:\n",
    "            print(f'Not enough cards to deal {num} cards')\n",
    "        else:\n",
    "            dealt = self.cards[0:num]\n",
    "            self.cards = self.cards[num:]\n",
    "            return dealt"
   ]
  },
  {
   "cell_type": "code",
   "execution_count": 278,
   "id": "93880e7f-6688-459f-a9f4-588392688f81",
   "metadata": {},
   "outputs": [
    {
     "data": {
      "text/plain": [
       "[('A', 'LISP'), ('8', 'RUST'), ('A', 'PYTHON'), ('A', 'JAVA'), ('8', 'PYTHON')]"
      ]
     },
     "execution_count": 278,
     "metadata": {},
     "output_type": "execute_result"
    }
   ],
   "source": [
    "Deck.set_suits(['PYTHON', 'JAVA', 'LISP', 'RUST'])\n",
    "deck = Deck()\n",
    "deck.shuffle()\n",
    "deck.deal(5)"
   ]
  },
  {
   "cell_type": "code",
   "execution_count": 276,
   "id": "668be58f-d6b2-40cb-abe7-22990915be65",
   "metadata": {},
   "outputs": [
    {
     "data": {
      "text/plain": [
       "'The suits are: PYTHON, JAVA, LISP, RUST'"
      ]
     },
     "execution_count": 276,
     "metadata": {},
     "output_type": "execute_result"
    }
   ],
   "source": [
    "deck.get_suits_str()"
   ]
  },
  {
   "cell_type": "code",
   "execution_count": 279,
   "id": "587f0c34-aa3f-4edc-9e73-6bb1fc895bd4",
   "metadata": {},
   "outputs": [
    {
     "data": {
      "text/plain": [
       "['PYTHON', 'JAVA', 'LISP', 'RUST']"
      ]
     },
     "execution_count": 279,
     "metadata": {},
     "output_type": "execute_result"
    }
   ],
   "source": [
    "deck.get_suits()"
   ]
  },
  {
   "cell_type": "code",
   "execution_count": 285,
   "id": "45300d48-66c8-4fae-9218-4a5833957f69",
   "metadata": {},
   "outputs": [
    {
     "data": {
      "text/plain": [
       "[('K', 'RUST'), ('10', 'LISP'), ('10', 'PYTHON'), ('Q', 'JAVA'), ('9', 'RUST')]"
      ]
     },
     "execution_count": 285,
     "metadata": {},
     "output_type": "execute_result"
    }
   ],
   "source": [
    "class PinochleDeck(Deck):\n",
    "    def __init__(self):\n",
    "        self.cards = [(f, s) for s in self.get_suits()*2 for f in self.get_faces()]\n",
    "\n",
    "    @classmethod\n",
    "    def get_faces(cls):\n",
    "        return [cls._FACES[0]] + cls._FACES[8:]\n",
    "\n",
    "deck = PinochleDeck()\n",
    "deck.shuffle()\n",
    "deck.deal(5)"
   ]
  },
  {
   "cell_type": "code",
   "execution_count": 286,
   "id": "31036eb0-d497-4a2c-af71-6e1eae8c11a2",
   "metadata": {},
   "outputs": [],
   "source": [
    "class FrenchDeck(Deck):\n",
    "    SUITS = ['PIQUES', 'CŒURS', 'CARREAUX', 'TRÈFLES']\n",
    "    FACES = ['A', '2', '3', '4', '5', '6', '7', '8', '9', '10', 'V', 'D', 'R']"
   ]
  },
  {
   "cell_type": "markdown",
   "id": "e6d046f2-fe41-48b8-9f40-584bf95556a4",
   "metadata": {},
   "source": [
    "## Polymorphism"
   ]
  },
  {
   "cell_type": "code",
   "execution_count": 288,
   "id": "971971af-339c-4010-a3ba-9b93a0308d9e",
   "metadata": {},
   "outputs": [
    {
     "data": {
      "text/plain": [
       "[[('4', 'JAVA'),\n",
       "  ('5', 'PYTHON'),\n",
       "  ('A', 'LISP'),\n",
       "  ('A', 'PYTHON'),\n",
       "  ('J', 'LISP')],\n",
       " [('6', 'LISP'), ('2', 'RUST'), ('4', 'RUST'), ('4', 'LISP'), ('2', 'LISP')]]"
      ]
     },
     "execution_count": 288,
     "metadata": {},
     "output_type": "execute_result"
    }
   ],
   "source": [
    "def deal_cards(deck, num_hands):\n",
    "    return [deck.deal(5) for _ in range(num_hands)]\n",
    "\n",
    "deck = FrenchDeck()\n",
    "deck.shuffle()\n",
    "deal_cards(deck, 2)"
   ]
  },
  {
   "cell_type": "code",
   "execution_count": 289,
   "id": "d8dd3c81-614a-433c-b699-bb961b6db638",
   "metadata": {},
   "outputs": [
    {
     "data": {
      "text/plain": [
       "[[('5', 'JAVA'),\n",
       "  ('5', 'PYTHON'),\n",
       "  ('7', 'PYTHON'),\n",
       "  ('8', 'PYTHON'),\n",
       "  ('5', 'RUST')],\n",
       " [('6', 'JAVA'), ('Q', 'LISP'), ('4', 'LISP'), ('J', 'PYTHON'), ('2', 'RUST')]]"
      ]
     },
     "execution_count": 289,
     "metadata": {},
     "output_type": "execute_result"
    }
   ],
   "source": [
    "deck = Deck()\n",
    "deck.shuffle()\n",
    "deal_cards(deck, 2)"
   ]
  },
  {
   "cell_type": "code",
   "execution_count": 305,
   "id": "bd33d916-7a06-45d8-b40b-f577c2904daa",
   "metadata": {},
   "outputs": [],
   "source": [
    "class DeckBase:\n",
    "    def deal(self, num_cards):\n",
    "        raise NotImplementedError()\n",
    "\n",
    "    def shuffle(self):\n",
    "        raise NotImplementedError()\n",
    "\n",
    "    def get_cards(self):\n",
    "        raise NotImplementedError()\n",
    "\n",
    "    def set_cards(self, cards):\n",
    "        raise NotImplementedError()\n",
    "    "
   ]
  },
  {
   "cell_type": "code",
   "execution_count": 298,
   "id": "8ce55ed1-df37-43aa-a897-2bd5ca133901",
   "metadata": {},
   "outputs": [],
   "source": [
    "deck = DeckBase()\n",
    "deck.shuffle()"
   ]
  },
  {
   "cell_type": "code",
   "execution_count": 302,
   "id": "79c459ed-123b-45da-9bfb-afceec4d3e06",
   "metadata": {},
   "outputs": [],
   "source": [
    "class Deck(DeckBase):\n",
    "    _SUITS = ['SPADES', 'HEARTS', 'DIAMONDS', 'CLUBS']\n",
    "    _FACES = ['A', '2', '3', '4', '5', '6', '7', '8', '9', '10', 'J', 'Q', 'K']\n",
    "    def __init__(self):\n",
    "        self.cards = [(f, s) for s in self._SUITS for f in self._FACES]\n",
    "\n",
    "    def shuffle(self):\n",
    "        random.shuffle(self.cards)\n",
    "\n",
    "        "
   ]
  },
  {
   "cell_type": "code",
   "execution_count": 306,
   "id": "78047da6-f988-4068-8796-956044bed798",
   "metadata": {},
   "outputs": [
    {
     "ename": "NotImplementedError",
     "evalue": "",
     "output_type": "error",
     "traceback": [
      "\u001b[0;31m---------------------------------------------------------------------------\u001b[0m",
      "\u001b[0;31mNotImplementedError\u001b[0m                       Traceback (most recent call last)",
      "Cell \u001b[0;32mIn[306], line 3\u001b[0m\n\u001b[1;32m      1\u001b[0m deck \u001b[38;5;241m=\u001b[39m Deck()\n\u001b[1;32m      2\u001b[0m deck\u001b[38;5;241m.\u001b[39mshuffle()\n\u001b[0;32m----> 3\u001b[0m \u001b[43mdeck\u001b[49m\u001b[38;5;241;43m.\u001b[39;49m\u001b[43mdeal\u001b[49m\u001b[43m(\u001b[49m\u001b[38;5;241;43m5\u001b[39;49m\u001b[43m)\u001b[49m\n",
      "Cell \u001b[0;32mIn[305], line 3\u001b[0m, in \u001b[0;36mDeckBase.deal\u001b[0;34m(self, num_cards)\u001b[0m\n\u001b[1;32m      2\u001b[0m \u001b[38;5;28;01mdef\u001b[39;00m \u001b[38;5;21mdeal\u001b[39m(\u001b[38;5;28mself\u001b[39m, num_cards):\n\u001b[0;32m----> 3\u001b[0m     \u001b[38;5;28;01mraise\u001b[39;00m \u001b[38;5;167;01mNotImplementedError\u001b[39;00m()\n",
      "\u001b[0;31mNotImplementedError\u001b[0m: "
     ]
    }
   ],
   "source": [
    "deck = Deck()\n",
    "deck.shuffle()\n",
    "deck.deal(5)"
   ]
  },
  {
   "cell_type": "code",
   "execution_count": null,
   "id": "f3b56fec-3994-48e8-aafa-f9a2b3d68b3f",
   "metadata": {},
   "outputs": [],
   "source": []
  }
 ],
 "metadata": {
  "kernelspec": {
   "display_name": "Python 3 (ipykernel)",
   "language": "python",
   "name": "python3"
  },
  "language_info": {
   "codemirror_mode": {
    "name": "ipython",
    "version": 3
   },
   "file_extension": ".py",
   "mimetype": "text/x-python",
   "name": "python",
   "nbconvert_exporter": "python",
   "pygments_lexer": "ipython3",
   "version": "3.12.4"
  }
 },
 "nbformat": 4,
 "nbformat_minor": 5
}
