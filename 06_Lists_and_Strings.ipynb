{
 "cells": [
  {
   "cell_type": "markdown",
   "id": "97919c50-a49b-4667-9dde-e3ea5048b7a1",
   "metadata": {},
   "source": [
    "# Lists and Strings"
   ]
  },
  {
   "cell_type": "markdown",
   "id": "4e866932-babd-4e59-836a-8b076445adb8",
   "metadata": {},
   "source": [
    "## String operations"
   ]
  },
  {
   "cell_type": "code",
   "execution_count": 2,
   "id": "fdc03859-f315-417e-960c-1f40a2ea6527",
   "metadata": {},
   "outputs": [
    {
     "data": {
      "text/plain": [
       "'H'"
      ]
     },
     "execution_count": 2,
     "metadata": {},
     "output_type": "execute_result"
    }
   ],
   "source": [
    "my_string = 'Hello, World!'\n",
    "my_string[0]"
   ]
  },
  {
   "cell_type": "code",
   "execution_count": 3,
   "id": "f76544f2-0581-4e68-9ef1-cc0bc98fc178",
   "metadata": {},
   "outputs": [
    {
     "ename": "TypeError",
     "evalue": "'str' object does not support item assignment",
     "output_type": "error",
     "traceback": [
      "\u001b[31m---------------------------------------------------------------------------\u001b[39m",
      "\u001b[31mTypeError\u001b[39m                                 Traceback (most recent call last)",
      "\u001b[36mCell\u001b[39m\u001b[36m \u001b[39m\u001b[32mIn[3]\u001b[39m\u001b[32m, line 1\u001b[39m\n\u001b[32m----> \u001b[39m\u001b[32m1\u001b[39m my_string[\u001b[32m0\u001b[39m] = \u001b[33m'\u001b[39m\u001b[33mJ\u001b[39m\u001b[33m'\u001b[39m\n",
      "\u001b[31mTypeError\u001b[39m: 'str' object does not support item assignment"
     ]
    }
   ],
   "source": [
    "my_string[0] = 'J'"
   ]
  },
  {
   "cell_type": "code",
   "execution_count": 4,
   "id": "3b366cba-d4d7-46c1-85aa-f987d0168d38",
   "metadata": {},
   "outputs": [
    {
     "data": {
      "text/plain": [
       "'String 1String 2'"
      ]
     },
     "execution_count": 4,
     "metadata": {},
     "output_type": "execute_result"
    }
   ],
   "source": [
    "# concatenation\n",
    "'String 1' + 'String 2'"
   ]
  },
  {
   "cell_type": "code",
   "execution_count": 6,
   "id": "45c1856f-e325-40ba-aaa0-008a384048ad",
   "metadata": {},
   "outputs": [
    {
     "name": "stdout",
     "output_type": "stream",
     "text": [
      "My name is Ryan\n"
     ]
    }
   ],
   "source": [
    "name = 'Ryan'\n",
    "introduction = f'My name is {name}'\n",
    "\n",
    "print(introduction)"
   ]
  },
  {
   "cell_type": "code",
   "execution_count": 7,
   "id": "7198a63c-f31c-48da-a061-aec901b4ed1a",
   "metadata": {},
   "outputs": [
    {
     "name": "stdout",
     "output_type": "stream",
     "text": [
      "Here is a list of 3 letters: ['a', 'b', 'c']\n"
     ]
    }
   ],
   "source": [
    "letters = ['a', 'b', 'c']\n",
    "print(f'Here is a list of {len(letters)} letters: {letters}')"
   ]
  },
  {
   "cell_type": "code",
   "execution_count": 8,
   "id": "d9c84d8b-c784-43cc-b4f8-a39963e3ce7f",
   "metadata": {},
   "outputs": [
    {
     "data": {
      "text/plain": [
       "\"Here is a list of 3 letters: ['a', 'b', 'c']\""
      ]
     },
     "execution_count": 8,
     "metadata": {},
     "output_type": "execute_result"
    }
   ],
   "source": [
    "letters = ['a', 'b', 'c']\n",
    "'Here is a list of '+str(len(letters))+' letters: '+str(letters)"
   ]
  },
  {
   "cell_type": "markdown",
   "id": "6bc467af-d8f9-4fc0-958c-591e7a4976e3",
   "metadata": {},
   "source": [
    "## String methods"
   ]
  },
  {
   "cell_type": "code",
   "execution_count": 17,
   "id": "906660a6-522d-4ebc-a42a-ae3514ea3dbb",
   "metadata": {},
   "outputs": [
    {
     "name": "stdout",
     "output_type": "stream",
     "text": [
      "Lowercase Spam: spam\n",
      "Uppercase Spam: SPAM\n",
      "Original Spam: Spam\n"
     ]
    }
   ],
   "source": [
    "my_string = 'Spam'\n",
    "print(f'Lowercase Spam: {my_string.lower()}')\n",
    "print(f'Uppercase Spam: {my_string.upper()}')\n",
    "print(f'Original Spam: {my_string}')"
   ]
  },
  {
   "cell_type": "code",
   "execution_count": 19,
   "id": "8c6ae8d0-4b00-4067-b86b-4170f710e78e",
   "metadata": {},
   "outputs": [
    {
     "name": "stdout",
     "output_type": "stream",
     "text": [
      "Uppercase is uppercase: True\n",
      "Lowercase is lowercase: True\n",
      "Mixed is uppercase: False\n",
      "Mixed is lowercase: False\n"
     ]
    }
   ],
   "source": [
    "uppercase_string = 'SPAM'\n",
    "lowercase_string = 'spam'\n",
    "mixed_string = 'Spam'\n",
    "\n",
    "print(f'Uppercase is uppercase: {uppercase_string.isupper()}')\n",
    "print(f'Lowercase is lowercase: {lowercase_string.islower()}')\n",
    "print(f'Mixed is uppercase: {mixed_string.isupper()}')\n",
    "print(f'Mixed is lowercase: {mixed_string.islower()}')"
   ]
  },
  {
   "cell_type": "code",
   "execution_count": 20,
   "id": "e979c511-a3eb-4a94-92bc-ab32ef87cbdb",
   "metadata": {},
   "outputs": [
    {
     "data": {
      "text/plain": [
       "'spam'"
      ]
     },
     "execution_count": 20,
     "metadata": {},
     "output_type": "execute_result"
    }
   ],
   "source": [
    "whitespace_string = '  spam  '\n",
    "whitespace_string.strip()"
   ]
  },
  {
   "cell_type": "code",
   "execution_count": 21,
   "id": "f2a82588-ff2d-4cd4-88a0-15001f3aa316",
   "metadata": {},
   "outputs": [
    {
     "data": {
      "text/plain": [
       "'spam  '"
      ]
     },
     "execution_count": 21,
     "metadata": {},
     "output_type": "execute_result"
    }
   ],
   "source": [
    "whitespace_string.lstrip()"
   ]
  },
  {
   "cell_type": "code",
   "execution_count": 22,
   "id": "382c59af-c02d-49b0-b97a-00f984cce2d2",
   "metadata": {},
   "outputs": [
    {
     "data": {
      "text/plain": [
       "'  spam'"
      ]
     },
     "execution_count": 22,
     "metadata": {},
     "output_type": "execute_result"
    }
   ],
   "source": [
    "whitespace_string.rstrip()"
   ]
  },
  {
   "cell_type": "code",
   "execution_count": 23,
   "id": "f279e08e-f4a0-45e3-90c3-ccab80b66d51",
   "metadata": {},
   "outputs": [
    {
     "data": {
      "text/plain": [
       "'spam'"
      ]
     },
     "execution_count": 23,
     "metadata": {},
     "output_type": "execute_result"
    }
   ],
   "source": [
    "punctuation_string = '!!.,spam!!*'\n",
    "punctuation_string.strip('!.,*')"
   ]
  },
  {
   "cell_type": "code",
   "execution_count": 25,
   "id": "643e24f0-e6ac-4255-a7df-1cf7efd02189",
   "metadata": {},
   "outputs": [
    {
     "data": {
      "text/plain": [
       "'span span span'"
      ]
     },
     "execution_count": 25,
     "metadata": {},
     "output_type": "execute_result"
    }
   ],
   "source": [
    "my_string = 'spam spam spam'\n",
    "my_string.replace('m', 'n')"
   ]
  },
  {
   "cell_type": "code",
   "execution_count": 26,
   "id": "b25b9e58-1308-4eb9-a3c8-d6e152d697c2",
   "metadata": {},
   "outputs": [
    {
     "data": {
      "text/plain": [
       "'spamalot spamalot spamalot'"
      ]
     },
     "execution_count": 26,
     "metadata": {},
     "output_type": "execute_result"
    }
   ],
   "source": [
    "my_string = 'spam spam spam'\n",
    "my_string.replace('m', 'malot')"
   ]
  },
  {
   "cell_type": "code",
   "execution_count": 9,
   "id": "45469366-0454-48ca-86c1-fc81eeb46170",
   "metadata": {
    "scrolled": true
   },
   "outputs": [
    {
     "data": {
      "text/plain": [
       "'am am am'"
      ]
     },
     "execution_count": 9,
     "metadata": {},
     "output_type": "execute_result"
    }
   ],
   "source": [
    "my_string = 'spam spam spam'\n",
    "my_string.replace('sp', '')"
   ]
  },
  {
   "cell_type": "code",
   "execution_count": 30,
   "id": "3d319f3e-db96-4b7c-a226-20859cc8083a",
   "metadata": {},
   "outputs": [
    {
     "data": {
      "text/plain": [
       "['spam1', 'spam2', 'spam3']"
      ]
     },
     "execution_count": 30,
     "metadata": {},
     "output_type": "execute_result"
    }
   ],
   "source": [
    "my_string = 'spam1 spam2 spam3'\n",
    "my_string.split()"
   ]
  },
  {
   "cell_type": "code",
   "execution_count": 32,
   "id": "73259fc4-cd91-494c-bef4-9423c30f4971",
   "metadata": {},
   "outputs": [
    {
     "data": {
      "text/plain": [
       "['spam1', 'spam2', 'spam3']"
      ]
     },
     "execution_count": 32,
     "metadata": {},
     "output_type": "execute_result"
    }
   ],
   "source": [
    "my_string = 'spam1, spam2, spam3'\n",
    "my_string.split(', ')"
   ]
  },
  {
   "cell_type": "markdown",
   "id": "a90c24ac-36cb-4352-bc08-5b8f6bf0e796",
   "metadata": {},
   "source": [
    "## List Operations"
   ]
  },
  {
   "cell_type": "code",
   "execution_count": 80,
   "id": "40053a5c-15d1-4c5c-ac74-e96b9b5a34d7",
   "metadata": {},
   "outputs": [],
   "source": [
    "alphabet = ['a', 'b', 'c']\n",
    "alphabet.append('d')"
   ]
  },
  {
   "cell_type": "code",
   "execution_count": 81,
   "id": "c5cefc23-41eb-4bc3-bcec-08acb89a688f",
   "metadata": {},
   "outputs": [],
   "source": [
    "alphabet.extend(['e', 'f', 'g'])"
   ]
  },
  {
   "cell_type": "code",
   "execution_count": null,
   "id": "5b61a898-2f46-42fa-9d01-554aa8d06b5b",
   "metadata": {},
   "outputs": [],
   "source": [
    "alphabet = alphabet + ['e', 'f', 'g']"
   ]
  },
  {
   "cell_type": "code",
   "execution_count": 82,
   "id": "d064a932-cdf2-48a7-86a6-380adee13e57",
   "metadata": {},
   "outputs": [
    {
     "data": {
      "text/plain": [
       "['a', 'b', 'c', 'd', 'e', 'f', 'g']"
      ]
     },
     "execution_count": 82,
     "metadata": {},
     "output_type": "execute_result"
    }
   ],
   "source": [
    "alphabet"
   ]
  },
  {
   "cell_type": "code",
   "execution_count": 83,
   "id": "b504345c-529d-4a19-8bca-fa26243214b4",
   "metadata": {},
   "outputs": [],
   "source": [
    "alphabet = ['a', 'b', 'c', 'd', 'e', 'f', 'g']\n",
    "g = alphabet.pop()"
   ]
  },
  {
   "cell_type": "code",
   "execution_count": 85,
   "id": "4a26d990-c6aa-4e25-af29-006ab0e557f3",
   "metadata": {},
   "outputs": [
    {
     "data": {
      "text/plain": [
       "['a', 'b', 'c', 'd', 'e', 'f']"
      ]
     },
     "execution_count": 85,
     "metadata": {},
     "output_type": "execute_result"
    }
   ],
   "source": [
    "alphabet"
   ]
  },
  {
   "cell_type": "code",
   "execution_count": 87,
   "id": "cea10912-9381-4ae9-a6e1-89d73f146bb1",
   "metadata": {},
   "outputs": [
    {
     "name": "stdout",
     "output_type": "stream",
     "text": [
      "f\n",
      "e\n",
      "d\n",
      "c\n",
      "b\n",
      "a\n"
     ]
    }
   ],
   "source": [
    "while alphabet:\n",
    "    print(alphabet.pop())"
   ]
  },
  {
   "cell_type": "code",
   "execution_count": 88,
   "id": "3508e262-165a-475c-89c9-c7907c3980d6",
   "metadata": {},
   "outputs": [
    {
     "ename": "IndexError",
     "evalue": "pop from empty list",
     "output_type": "error",
     "traceback": [
      "\u001b[0;31m---------------------------------------------------------------------------\u001b[0m",
      "\u001b[0;31mIndexError\u001b[0m                                Traceback (most recent call last)",
      "Cell \u001b[0;32mIn[88], line 1\u001b[0m\n\u001b[0;32m----> 1\u001b[0m \u001b[43m[\u001b[49m\u001b[43m]\u001b[49m\u001b[38;5;241;43m.\u001b[39;49m\u001b[43mpop\u001b[49m\u001b[43m(\u001b[49m\u001b[43m)\u001b[49m\n",
      "\u001b[0;31mIndexError\u001b[0m: pop from empty list"
     ]
    }
   ],
   "source": [
    "[].pop()"
   ]
  },
  {
   "cell_type": "code",
   "execution_count": 89,
   "id": "508a6bd6-9963-411c-9013-e8b964159c55",
   "metadata": {},
   "outputs": [
    {
     "name": "stdout",
     "output_type": "stream",
     "text": [
      "a\n",
      "b\n",
      "c\n",
      "d\n",
      "e\n",
      "f\n",
      "g\n"
     ]
    }
   ],
   "source": [
    "alphabet = ['a', 'b', 'c', 'd', 'e', 'f', 'g']\n",
    "while alphabet:\n",
    "    print(alphabet.pop(0))"
   ]
  },
  {
   "cell_type": "code",
   "execution_count": 95,
   "id": "d76d4b41-d05f-4525-814c-b90ab3836039",
   "metadata": {},
   "outputs": [
    {
     "name": "stdout",
     "output_type": "stream",
     "text": [
      "['a', 'b', 'c', 'd', 'e', 'f', 'g']\n"
     ]
    }
   ],
   "source": [
    "alphabet = ['d', 'f', 'g', 'c', 'a', 'b', 'e']\n",
    "alphabet.sort()\n",
    "print(alphabet)"
   ]
  },
  {
   "cell_type": "code",
   "execution_count": 96,
   "id": "2d82edf8-0c1d-4f31-ad83-1b0479be6a11",
   "metadata": {},
   "outputs": [
    {
     "name": "stdout",
     "output_type": "stream",
     "text": [
      "['g', 'f', 'e', 'd', 'c', 'b', 'a']\n"
     ]
    }
   ],
   "source": [
    "alphabet.sort(reverse=True)\n",
    "print(alphabet)"
   ]
  },
  {
   "cell_type": "code",
   "execution_count": 94,
   "id": "a2b56e6a-0b9c-4a1c-91a2-4a042697e380",
   "metadata": {},
   "outputs": [
    {
     "data": {
      "text/plain": [
       "['a', 'b', 'c', 'd', 'e', 'f', 'g']"
      ]
     },
     "execution_count": 94,
     "metadata": {},
     "output_type": "execute_result"
    }
   ],
   "source": [
    "{'monty': 'python'}\n",
    "{'spam': 'spam'}"
   ]
  },
  {
   "cell_type": "code",
   "execution_count": 97,
   "id": "fa94b785-eb32-488b-9b88-bc21438f0132",
   "metadata": {},
   "outputs": [
    {
     "ename": "TypeError",
     "evalue": "'<' not supported between instances of 'dict' and 'dict'",
     "output_type": "error",
     "traceback": [
      "\u001b[0;31m---------------------------------------------------------------------------\u001b[0m",
      "\u001b[0;31mTypeError\u001b[0m                                 Traceback (most recent call last)",
      "Cell \u001b[0;32mIn[97], line 2\u001b[0m\n\u001b[1;32m      1\u001b[0m silly_list \u001b[38;5;241m=\u001b[39m [{\u001b[38;5;124m'\u001b[39m\u001b[38;5;124mmonty\u001b[39m\u001b[38;5;124m'\u001b[39m: \u001b[38;5;124m'\u001b[39m\u001b[38;5;124mpython\u001b[39m\u001b[38;5;124m'\u001b[39m}, {\u001b[38;5;124m'\u001b[39m\u001b[38;5;124mspam\u001b[39m\u001b[38;5;124m'\u001b[39m: \u001b[38;5;124m'\u001b[39m\u001b[38;5;124mspam\u001b[39m\u001b[38;5;124m'\u001b[39m}]\n\u001b[0;32m----> 2\u001b[0m \u001b[43msilly_list\u001b[49m\u001b[38;5;241;43m.\u001b[39;49m\u001b[43msort\u001b[49m\u001b[43m(\u001b[49m\u001b[43m)\u001b[49m\n",
      "\u001b[0;31mTypeError\u001b[0m: '<' not supported between instances of 'dict' and 'dict'"
     ]
    }
   ],
   "source": [
    "silly_list = [{'monty': 'python'}, {'spam': 'spam'}]\n",
    "silly_list.sort()"
   ]
  },
  {
   "cell_type": "code",
   "execution_count": 103,
   "id": "589af0da-24e3-4630-8a15-d13347a3162c",
   "metadata": {},
   "outputs": [
    {
     "data": {
      "text/plain": [
       "[{'name': 'Alice', 'age': 40},\n",
       " {'name': 'Bob', 'age': 30},\n",
       " {'name': 'Charlie', 'age': 10},\n",
       " {'name': 'Diana', 'age': 20}]"
      ]
     },
     "execution_count": 103,
     "metadata": {},
     "output_type": "execute_result"
    }
   ],
   "source": [
    "people = [\n",
    "    {'name': 'Bob', 'age': 30},\n",
    "    {'name': 'Diana', 'age': 20},\n",
    "    {'name': 'Alice', 'age': 40},\n",
    "    {'name': 'Charlie', 'age': 10},\n",
    "]\n",
    "\n",
    "def name_key(person):\n",
    "    return person['name']\n",
    "\n",
    "people.sort(key=name_key)\n",
    "people"
   ]
  },
  {
   "cell_type": "markdown",
   "id": "5a7d818d-23ce-4653-a58f-1acee787d1c9",
   "metadata": {},
   "source": [
    "## List Slicing"
   ]
  },
  {
   "cell_type": "code",
   "execution_count": 34,
   "id": "6c67dbc8-cfbd-40a3-b30b-882a063f41ab",
   "metadata": {},
   "outputs": [],
   "source": [
    "alphabet = ['a', 'b', 'c', 'd', 'e', 'f', 'g', 'h', 'i', 'j']"
   ]
  },
  {
   "cell_type": "code",
   "execution_count": 36,
   "id": "5adebec6-a6f9-446c-af36-86b159e19ef8",
   "metadata": {},
   "outputs": [
    {
     "data": {
      "text/plain": [
       "['c', 'd', 'e']"
      ]
     },
     "execution_count": 36,
     "metadata": {},
     "output_type": "execute_result"
    }
   ],
   "source": [
    "alphabet[2:5]"
   ]
  },
  {
   "cell_type": "code",
   "execution_count": 39,
   "id": "f686ccba-7500-4252-a326-2754659ea793",
   "metadata": {},
   "outputs": [],
   "source": [
    "greeting = 'Hello, Ryan'\n",
    "name = greeting[7:11]"
   ]
  },
  {
   "cell_type": "code",
   "execution_count": 40,
   "id": "f8a9afe6-88f7-4289-8e88-07ae1ea97434",
   "metadata": {},
   "outputs": [
    {
     "data": {
      "text/plain": [
       "'Ryan'"
      ]
     },
     "execution_count": 40,
     "metadata": {},
     "output_type": "execute_result"
    }
   ],
   "source": [
    "name"
   ]
  },
  {
   "cell_type": "code",
   "execution_count": 43,
   "id": "cc51de2e-81a5-40d3-9765-616f5a20e58d",
   "metadata": {},
   "outputs": [
    {
     "data": {
      "text/plain": [
       "'Ryan'"
      ]
     },
     "execution_count": 43,
     "metadata": {},
     "output_type": "execute_result"
    }
   ],
   "source": [
    "name = greeting[7:len(greeting)]\n",
    "name"
   ]
  },
  {
   "cell_type": "code",
   "execution_count": 45,
   "id": "3c20d15a-6432-4b14-afa8-fd7494e8d337",
   "metadata": {},
   "outputs": [
    {
     "data": {
      "text/plain": [
       "'Hello'"
      ]
     },
     "execution_count": 45,
     "metadata": {},
     "output_type": "execute_result"
    }
   ],
   "source": [
    "hello = greeting[:5]\n",
    "hello"
   ]
  },
  {
   "cell_type": "code",
   "execution_count": 47,
   "id": "21160e93-19e5-4a1d-8b27-7e89175274e4",
   "metadata": {},
   "outputs": [
    {
     "data": {
      "text/plain": [
       "'Hello, Ryan'"
      ]
     },
     "execution_count": 47,
     "metadata": {},
     "output_type": "execute_result"
    }
   ],
   "source": [
    "greeting_copy = greeting[:]\n",
    "greeting_copy"
   ]
  },
  {
   "cell_type": "code",
   "execution_count": null,
   "id": "6dd431fc-0028-42df-ad0a-648c64d5a59c",
   "metadata": {},
   "outputs": [],
   "source": [
    "hello "
   ]
  },
  {
   "cell_type": "code",
   "execution_count": 48,
   "id": "64d5a811-4fef-4afd-90f4-4b5649c33d5d",
   "metadata": {},
   "outputs": [
    {
     "data": {
      "text/plain": [
       "10"
      ]
     },
     "execution_count": 48,
     "metadata": {},
     "output_type": "execute_result"
    }
   ],
   "source": [
    "alphabet = ['a', 'b', 'c', 'd', 'e', 'f', 'g', 'h', 'i', 'j']\n",
    "len(alphabet)"
   ]
  },
  {
   "cell_type": "code",
   "execution_count": 50,
   "id": "63e7976a-3463-4a24-be89-3585c6a33119",
   "metadata": {},
   "outputs": [
    {
     "name": "stdout",
     "output_type": "stream",
     "text": [
      "['a', 'c', 'e', 'g', 'i']\n"
     ]
    }
   ],
   "source": [
    "print(alphabet[0:10:2])"
   ]
  },
  {
   "cell_type": "code",
   "execution_count": 51,
   "id": "7bcf9014-716e-4065-a8df-f0271b095b67",
   "metadata": {},
   "outputs": [
    {
     "name": "stdout",
     "output_type": "stream",
     "text": [
      "['a', 'c', 'e', 'g', 'i']\n"
     ]
    }
   ],
   "source": [
    "print(alphabet[::2])"
   ]
  },
  {
   "cell_type": "code",
   "execution_count": 13,
   "id": "6272e54d-03a3-4da5-9bef-1d3f2fafec24",
   "metadata": {},
   "outputs": [
    {
     "data": {
      "text/plain": [
       "[1, 2, 3, 4, 5]"
      ]
     },
     "execution_count": 13,
     "metadata": {},
     "output_type": "execute_result"
    }
   ],
   "source": [
    "list(range(1, 6))"
   ]
  },
  {
   "cell_type": "code",
   "execution_count": 55,
   "id": "c01f6734-69ca-4ce4-8f6f-0ea195c1e221",
   "metadata": {},
   "outputs": [
    {
     "data": {
      "text/plain": [
       "[1, 6, 11, 16, 21, 26, 31, 36, 41, 46]"
      ]
     },
     "execution_count": 55,
     "metadata": {},
     "output_type": "execute_result"
    }
   ],
   "source": [
    "list(range(1, 50, 5))"
   ]
  },
  {
   "cell_type": "code",
   "execution_count": 61,
   "id": "b3ddb041-e834-4a78-8224-1059f4d86311",
   "metadata": {},
   "outputs": [
    {
     "data": {
      "text/plain": [
       "4"
      ]
     },
     "execution_count": 61,
     "metadata": {},
     "output_type": "execute_result"
    }
   ],
   "source": [
    "numbers = [0, 1, 2, 3, 4, 5]\n",
    "numbers[-2]"
   ]
  },
  {
   "cell_type": "code",
   "execution_count": 62,
   "id": "f26fd62f-8d61-40bd-98bd-de4d66aec148",
   "metadata": {},
   "outputs": [
    {
     "data": {
      "text/plain": [
       "5"
      ]
     },
     "execution_count": 62,
     "metadata": {},
     "output_type": "execute_result"
    }
   ],
   "source": [
    "numbers[-1]"
   ]
  },
  {
   "cell_type": "code",
   "execution_count": 65,
   "id": "6bdc8e68-950c-46d1-b58c-d5414b59f475",
   "metadata": {},
   "outputs": [
    {
     "ename": "IndexError",
     "evalue": "list index out of range",
     "output_type": "error",
     "traceback": [
      "\u001b[0;31m---------------------------------------------------------------------------\u001b[0m",
      "\u001b[0;31mIndexError\u001b[0m                                Traceback (most recent call last)",
      "Cell \u001b[0;32mIn[65], line 1\u001b[0m\n\u001b[0;32m----> 1\u001b[0m \u001b[43mnumbers\u001b[49m\u001b[43m[\u001b[49m\u001b[38;5;241;43m-\u001b[39;49m\u001b[38;5;241;43m20\u001b[39;49m\u001b[43m]\u001b[49m\n",
      "\u001b[0;31mIndexError\u001b[0m: list index out of range"
     ]
    }
   ],
   "source": [
    "numbers[-20]"
   ]
  },
  {
   "cell_type": "code",
   "execution_count": 14,
   "id": "02607b50-e158-49b6-b888-701b169b33ec",
   "metadata": {},
   "outputs": [
    {
     "name": "stdout",
     "output_type": "stream",
     "text": [
      "['f', 'g', 'h', 'i']\n"
     ]
    }
   ],
   "source": [
    "alphabet = ['a', 'b', 'c', 'd', 'e', 'f', 'g', 'h', 'i', 'j']\n",
    "print(alphabet[-5:-1])\n"
   ]
  },
  {
   "cell_type": "code",
   "execution_count": 15,
   "id": "a62b2237-16ce-4dcf-838a-9dce06b99388",
   "metadata": {},
   "outputs": [
    {
     "name": "stdout",
     "output_type": "stream",
     "text": [
      "['f', 'e', 'd', 'c', 'b']\n"
     ]
    }
   ],
   "source": [
    "alphabet = ['a', 'b', 'c', 'd', 'e', 'f', 'g', 'h', 'i', 'j']\n",
    "print(alphabet[5:0:-1])"
   ]
  },
  {
   "cell_type": "code",
   "execution_count": 16,
   "id": "903f1e75-232c-4f95-af70-151c8a571d5b",
   "metadata": {},
   "outputs": [
    {
     "name": "stdout",
     "output_type": "stream",
     "text": [
      "['j', 'i', 'h', 'g', 'f', 'e', 'd', 'c', 'b', 'a']\n"
     ]
    }
   ],
   "source": [
    "alphabet = ['a', 'b', 'c', 'd', 'e', 'f', 'g', 'h', 'i', 'j']\n",
    "print(alphabet[::-1])"
   ]
  },
  {
   "cell_type": "markdown",
   "id": "187cd78b-db4c-444e-b986-813f642a9539",
   "metadata": {},
   "source": [
    "## List Comprehensions"
   ]
  },
  {
   "cell_type": "code",
   "execution_count": 1,
   "id": "81251592-c2f5-49e3-b5e1-91b337174f2f",
   "metadata": {},
   "outputs": [],
   "source": [
    "numbers = [1,2,3,4,5]\n",
    "doubled = []\n",
    "for x in numbers:\n",
    "    doubled.append(2*x)\n"
   ]
  },
  {
   "cell_type": "code",
   "execution_count": 3,
   "id": "4f7a8020-d6ae-4d89-8336-153cb7ada387",
   "metadata": {},
   "outputs": [
    {
     "data": {
      "text/plain": [
       "[2, 4, 6, 8, 10]"
      ]
     },
     "execution_count": 3,
     "metadata": {},
     "output_type": "execute_result"
    }
   ],
   "source": [
    "doubled"
   ]
  },
  {
   "cell_type": "code",
   "execution_count": 4,
   "id": "3723d779-d6c5-46c3-bdb4-57e1fa2bf732",
   "metadata": {},
   "outputs": [],
   "source": [
    "doubled = [2*x for x in numbers]"
   ]
  },
  {
   "cell_type": "code",
   "execution_count": 5,
   "id": "443d1b65-cbd7-4185-bb45-4d8909958a45",
   "metadata": {},
   "outputs": [
    {
     "data": {
      "text/plain": [
       "[2, 4, 6, 8, 10]"
      ]
     },
     "execution_count": 5,
     "metadata": {},
     "output_type": "execute_result"
    }
   ],
   "source": [
    "doubled"
   ]
  },
  {
   "cell_type": "code",
   "execution_count": 6,
   "id": "c9685fed-bb47-403b-8d19-94a3d0f3f553",
   "metadata": {},
   "outputs": [
    {
     "name": "stdout",
     "output_type": "stream",
     "text": [
      "2\n",
      "4\n",
      "6\n",
      "8\n",
      "10\n"
     ]
    },
    {
     "data": {
      "text/plain": [
       "[None, None, None, None, None]"
      ]
     },
     "execution_count": 6,
     "metadata": {},
     "output_type": "execute_result"
    }
   ],
   "source": [
    "[print(2*x) for x in numbers]"
   ]
  },
  {
   "cell_type": "code",
   "execution_count": 8,
   "id": "0c3f0d3c-7fea-4dc2-8fd3-2d3d1219eb17",
   "metadata": {},
   "outputs": [],
   "source": [
    "numbers = [1, 2, 3, 4, 5]\n",
    "evens = [x for x in numbers if x % 2 == 0]"
   ]
  },
  {
   "cell_type": "code",
   "execution_count": 9,
   "id": "6c4642c5-0ac2-478d-b0af-b94c24af89a9",
   "metadata": {},
   "outputs": [
    {
     "data": {
      "text/plain": [
       "[2, 4]"
      ]
     },
     "execution_count": 9,
     "metadata": {},
     "output_type": "execute_result"
    }
   ],
   "source": [
    "evens"
   ]
  },
  {
   "cell_type": "code",
   "execution_count": 19,
   "id": "98281ccc-688e-4bfa-ac95-d65eff20d88d",
   "metadata": {},
   "outputs": [],
   "source": [
    "text = '''\n",
    "Strange women lying in ponds distributing swords is no basis \n",
    "for a system of government.  Supreme executive power derives \n",
    "from a mandate from the masses, not from some farcical \n",
    "aquatic ceremony.\n",
    "''' "
   ]
  },
  {
   "cell_type": "code",
   "execution_count": 20,
   "id": "bb36b5e4-3266-4c95-836e-e8acb66dc382",
   "metadata": {},
   "outputs": [
    {
     "name": "stdout",
     "output_type": "stream",
     "text": [
      "['\\nStrange women lying in ponds distributing swords is no basis \\nfor a system of government', '  Supreme executive power derives \\nfrom a mandate from the masses, not from some farcical \\naquatic ceremony', '\\n']\n"
     ]
    }
   ],
   "source": [
    "sentences = text.split('.')\n",
    "print(sentences)"
   ]
  },
  {
   "cell_type": "code",
   "execution_count": 21,
   "id": "cb2e72ba-2264-440a-b213-0db1e99d711a",
   "metadata": {},
   "outputs": [
    {
     "data": {
      "text/plain": [
       "['Strange women lying in ponds distributing swords is no basis \\nfor a system of government',\n",
       " 'Supreme executive power derives \\nfrom a mandate from the masses, not from some farcical \\naquatic ceremony',\n",
       " '']"
      ]
     },
     "execution_count": 21,
     "metadata": {},
     "output_type": "execute_result"
    }
   ],
   "source": [
    "sentences = [s.strip() for s in sentences]\n",
    "sentences"
   ]
  },
  {
   "cell_type": "code",
   "execution_count": 22,
   "id": "5a8d4b44-5dec-479a-9370-3a5184f7c448",
   "metadata": {},
   "outputs": [
    {
     "data": {
      "text/plain": [
       "['Strange women lying in ponds distributing swords is no basis \\nfor a system of government',\n",
       " 'Supreme executive power derives \\nfrom a mandate from the masses, not from some farcical \\naquatic ceremony']"
      ]
     },
     "execution_count": 22,
     "metadata": {},
     "output_type": "execute_result"
    }
   ],
   "source": [
    "sentences = [s for s in sentences if s]\n",
    "sentences"
   ]
  },
  {
   "cell_type": "code",
   "execution_count": 23,
   "id": "ce5548ee-fc23-48fb-bb4d-db4b746f7bda",
   "metadata": {},
   "outputs": [],
   "source": [
    "sentences = [[w.lower().strip() for w in s.split()] for s in sentences]"
   ]
  },
  {
   "cell_type": "code",
   "execution_count": 24,
   "id": "c1db3b29-b9f3-4799-b1c6-da1db888a3f2",
   "metadata": {},
   "outputs": [
    {
     "name": "stdout",
     "output_type": "stream",
     "text": [
      "[['strange', 'women', 'lying', 'in', 'ponds', 'distributing', 'swords', 'is', 'no', 'basis', 'for', 'a', 'system', 'of', 'government'], ['supreme', 'executive', 'power', 'derives', 'from', 'a', 'mandate', 'from', 'the', 'masses,', 'not', 'from', 'some', 'farcical', 'aquatic', 'ceremony']]\n"
     ]
    }
   ],
   "source": [
    "print(sentences)"
   ]
  },
  {
   "cell_type": "code",
   "execution_count": 25,
   "id": "607ccd44-4d1d-4e42-8a47-a3b7fbb11f27",
   "metadata": {},
   "outputs": [],
   "source": [
    "sentences = [['strange', 'women', 'lying', 'in', 'ponds', 'distributing', 'swords', 'is', 'no', 'basis', 'for', 'a', 'system', 'of', 'government'], ['supreme', 'executive', 'power', 'derives', 'from', 'a', 'mandate', 'from', 'the', 'masses,', 'not', 'from', 'some', 'farcical', 'aquatic', 'ceremony']]"
   ]
  },
  {
   "cell_type": "code",
   "execution_count": 26,
   "id": "1a622a51-f914-4e8c-bfde-5a12a12b44d1",
   "metadata": {},
   "outputs": [],
   "source": [
    "words = [w for s in sentences for w in s]"
   ]
  },
  {
   "cell_type": "code",
   "execution_count": 27,
   "id": "ddf71cee-d715-4d9b-b796-49266236da36",
   "metadata": {},
   "outputs": [
    {
     "name": "stdout",
     "output_type": "stream",
     "text": [
      "['strange', 'women', 'lying', 'in', 'ponds', 'distributing', 'swords', 'is', 'no', 'basis', 'for', 'a', 'system', 'of', 'government', 'supreme', 'executive', 'power', 'derives', 'from', 'a', 'mandate', 'from', 'the', 'masses,', 'not', 'from', 'some', 'farcical', 'aquatic', 'ceremony']\n"
     ]
    }
   ],
   "source": [
    "print(words)"
   ]
  },
  {
   "cell_type": "code",
   "execution_count": 28,
   "id": "d2e8c242-d1b2-4714-bb60-84e4b40a7954",
   "metadata": {},
   "outputs": [],
   "source": [
    "words = []\n",
    "for s in sentences:\n",
    "    for w in s:\n",
    "        words.append(w)"
   ]
  },
  {
   "cell_type": "code",
   "execution_count": 29,
   "id": "51228f47-75db-40a4-83ac-9c45d3553501",
   "metadata": {},
   "outputs": [],
   "source": [
    "words = list(set(words))"
   ]
  },
  {
   "cell_type": "code",
   "execution_count": 30,
   "id": "22621ab0-33ee-405b-965e-5f6ea6b2a996",
   "metadata": {},
   "outputs": [
    {
     "name": "stdout",
     "output_type": "stream",
     "text": [
      "['a', 'executive', 'for', 'is', 'of', 'swords', 'ponds', 'government', 'lying', 'no', 'masses,', 'not', 'aquatic', 'ceremony', 'derives', 'strange', 'some', 'system', 'the', 'from', 'farcical', 'distributing', 'in', 'supreme', 'mandate', 'power', 'basis', 'women']\n"
     ]
    }
   ],
   "source": [
    "print(words)"
   ]
  },
  {
   "cell_type": "code",
   "execution_count": 78,
   "id": "99559e86-6d00-4de7-ba23-a747ae30de5c",
   "metadata": {},
   "outputs": [
    {
     "data": {
      "text/plain": [
       "['is', 'the', 'no', 'not', 'a', 'in', 'for', 'of']"
      ]
     },
     "execution_count": 78,
     "metadata": {},
     "output_type": "execute_result"
    }
   ],
   "source": [
    "[w for w in words if len(w) < 4]"
   ]
  },
  {
   "cell_type": "code",
   "execution_count": 77,
   "id": "5ee9a366-93df-4ccf-b4d9-2ce237bd5bea",
   "metadata": {},
   "outputs": [
    {
     "data": {
      "text/plain": [
       "['is', 'executive', 'aquatic', 'a', 'in', 'of']"
      ]
     },
     "execution_count": 77,
     "metadata": {},
     "output_type": "execute_result"
    }
   ],
   "source": [
    "[w for w in words if w[0] in ['a', 'e', 'i', 'o', 'u']]"
   ]
  },
  {
   "cell_type": "markdown",
   "id": "716df590-0ba3-4898-9eed-797784d486c4",
   "metadata": {},
   "source": [
    "# Exercises"
   ]
  },
  {
   "cell_type": "markdown",
   "id": "c5f91987-0d39-4ebf-a9b4-e7db723f9e33",
   "metadata": {},
   "source": [
    "### 1.\n",
    "Generate a list of all numbers less than 100, divisible by 3, in descending order (99, 96, 93. . . )."
   ]
  },
  {
   "cell_type": "code",
   "execution_count": null,
   "id": "2e373db6-0c17-40a7-b936-f0267a65525a",
   "metadata": {},
   "outputs": [],
   "source": []
  },
  {
   "cell_type": "markdown",
   "id": "313f89a0-64dc-4dd3-877c-d63944fac75a",
   "metadata": {},
   "source": [
    "### 2. \n",
    "Given a list of people:"
   ]
  },
  {
   "cell_type": "code",
   "execution_count": null,
   "id": "ead38cc9-7812-4b6e-9018-a41780f7303f",
   "metadata": {},
   "outputs": [],
   "source": [
    "people = [\n",
    "    {'name': 'Bob', 'age': 30},\n",
    "    {'name': 'Diana', 'age': 20},\n",
    "    {'name': 'Alice', 'age': 40},\n",
    "    {'name': 'Charlie', 'age': 10},\n",
    "]"
   ]
  },
  {
   "cell_type": "markdown",
   "id": "1ecb072d-258e-4d53-8800-002863dbacb9",
   "metadata": {},
   "source": [
    "use Python to sort this list of people by length of their name."
   ]
  },
  {
   "cell_type": "code",
   "execution_count": null,
   "id": "001313c6-f402-4f9f-a0a6-9f34278e1d4d",
   "metadata": {},
   "outputs": [],
   "source": []
  },
  {
   "cell_type": "markdown",
   "id": "2fb392cb-eefe-48d6-a000-3596138a4bcc",
   "metadata": {},
   "source": [
    "### 3.\n",
    "Find a unique list of all words four characters long or less in this text from Monty Python’s\n",
    "“Dead Parrot” sketch:"
   ]
  },
  {
   "cell_type": "code",
   "execution_count": 104,
   "id": "7079343a-454e-4095-ae80-20032f8d51a8",
   "metadata": {},
   "outputs": [],
   "source": [
    "text = '''\n",
    "It's not pining, it's passed on. This parrot is no more. It has ceased to be. \n",
    "It's expired and gone to meet its maker. This is a late parrot. It's a stiff. \n",
    "Bereft of life, it rests in peace. If you hadn't nailed it to the perch, it \n",
    "would be pushing up the daisies. It's rung down the curtain and joined the \n",
    "choir invisible. This is an ex-parrot.\n",
    "'''"
   ]
  },
  {
   "cell_type": "code",
   "execution_count": null,
   "id": "d4662f9c-d21d-46f6-a452-556e88490898",
   "metadata": {},
   "outputs": [],
   "source": []
  },
  {
   "cell_type": "markdown",
   "id": "048bf77d-aef7-4f69-9a9e-cf10ef9e8fcb",
   "metadata": {},
   "source": [
    "### 4. \n",
    "Write a function that takes an argument `text` and returns that same string but with every odd\n",
    "character in lowercase and every even character in uppercase.\n",
    "\n",
    "Example:\n",
    "\n",
    "**Input:** 'This is an ex-parrot.'\n",
    "\n",
    "**Output:** 'tHiS Is aN Ex-pArRoT.'"
   ]
  },
  {
   "cell_type": "code",
   "execution_count": null,
   "id": "c33dcc84-b7ea-4ef7-b51a-5e111f0000e9",
   "metadata": {},
   "outputs": [],
   "source": []
  }
 ],
 "metadata": {
  "kernelspec": {
   "display_name": "Python 3 (ipykernel)",
   "language": "python",
   "name": "python3"
  },
  "language_info": {
   "codemirror_mode": {
    "name": "ipython",
    "version": 3
   },
   "file_extension": ".py",
   "mimetype": "text/x-python",
   "name": "python",
   "nbconvert_exporter": "python",
   "pygments_lexer": "ipython3",
   "version": "3.12.2"
  }
 },
 "nbformat": 4,
 "nbformat_minor": 5
}
