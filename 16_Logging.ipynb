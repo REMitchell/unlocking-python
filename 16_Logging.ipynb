{
 "cells": [
  {
   "cell_type": "markdown",
   "id": "302ed65e-aaf9-4371-95c6-f32276758bdb",
   "metadata": {},
   "source": [
    "# Logging"
   ]
  },
  {
   "cell_type": "code",
   "execution_count": 2,
   "id": "c876efec-a3fd-480c-b4b8-ce4ae4aead59",
   "metadata": {},
   "outputs": [],
   "source": [
    "with open('test.txt', 'w') as f:\n",
    "    print('Hello, World!', file=f)"
   ]
  },
  {
   "cell_type": "code",
   "execution_count": 3,
   "id": "5d32e3f4-1af1-4c21-9754-5907f97634a1",
   "metadata": {},
   "outputs": [
    {
     "name": "stderr",
     "output_type": "stream",
     "text": [
      "Some warning message\n"
     ]
    }
   ],
   "source": [
    "import logging\n",
    "\n",
    "logger = logging.getLogger()\n",
    "logger.warning('Some warning message')\n"
   ]
  },
  {
   "cell_type": "code",
   "execution_count": 4,
   "id": "7964af54-3efc-461f-8d70-299d3378e301",
   "metadata": {},
   "outputs": [
    {
     "data": {
      "text/plain": [
       "logging.RootLogger"
      ]
     },
     "execution_count": 4,
     "metadata": {},
     "output_type": "execute_result"
    }
   ],
   "source": [
    "type(logger)"
   ]
  },
  {
   "cell_type": "code",
   "execution_count": 5,
   "id": "2c3347ba-4c98-4896-a83c-e3417086e73d",
   "metadata": {},
   "outputs": [
    {
     "name": "stderr",
     "output_type": "stream",
     "text": [
      "A warning log\n",
      "An error log\n",
      "A critical log!!!\n"
     ]
    }
   ],
   "source": [
    "logger.debug('A debug log')\n",
    "logger.info('An info log')\n",
    "logger.warning('A warning log')\n",
    "logger.error('An error log')\n",
    "logger.critical('A critical log!!!')"
   ]
  },
  {
   "cell_type": "code",
   "execution_count": 6,
   "id": "07b59a06-eb41-4213-8825-340c1c8122c3",
   "metadata": {},
   "outputs": [],
   "source": [
    "date_format = f'%Y-%m-%d %H:%M:%S'\n",
    "\n",
    "format_str = '%(levelname)s:%(created)f:%(message)s'\n",
    "logging.basicConfig(level=logging.DEBUG, format=format_str)"
   ]
  },
  {
   "cell_type": "code",
   "execution_count": 7,
   "id": "a62491c1-948c-4a18-9a83-d9cc01077b0e",
   "metadata": {},
   "outputs": [],
   "source": [
    "logging.basicConfig(level=logging.DEBUG)"
   ]
  },
  {
   "cell_type": "code",
   "execution_count": 8,
   "id": "f3eeeb80-80b0-4f1f-9d52-0bb0286151ff",
   "metadata": {},
   "outputs": [
    {
     "name": "stderr",
     "output_type": "stream",
     "text": [
      "DEBUG:1747316614.459009:A debug log\n",
      "INFO:1747316614.487373:An info log\n",
      "WARNING:1747316614.488122:A warning log\n",
      "ERROR:1747316614.488399:An error log\n",
      "CRITICAL:1747316614.488746:A critical log!!!\n"
     ]
    }
   ],
   "source": [
    "logger.debug('A debug log')\n",
    "logger.info('An info log')\n",
    "logger.warning('A warning log')\n",
    "logger.error('An error log')\n",
    "logger.critical('A critical log!!!')"
   ]
  },
  {
   "cell_type": "code",
   "execution_count": 9,
   "id": "6f418a3a-d4e7-4d7a-8cce-d4417a944054",
   "metadata": {},
   "outputs": [],
   "source": [
    "logging.basicConfig(level=logging.CRITICAL)"
   ]
  },
  {
   "cell_type": "code",
   "execution_count": 10,
   "id": "80801ad6-e412-422c-ac78-f5506948f6c4",
   "metadata": {},
   "outputs": [
    {
     "name": "stderr",
     "output_type": "stream",
     "text": [
      "DEBUG:1747316614.769361:A debug log\n",
      "INFO:1747316614.774631:An info log\n",
      "WARNING:1747316614.775717:A warning log\n",
      "ERROR:1747316614.781949:An error log\n",
      "CRITICAL:1747316614.833732:A critical log!!!\n"
     ]
    }
   ],
   "source": [
    "logger.debug('A debug log')\n",
    "logger.info('An info log')\n",
    "logger.warning('A warning log')\n",
    "logger.error('An error log')\n",
    "logger.critical('A critical log!!!')"
   ]
  },
  {
   "cell_type": "code",
   "execution_count": null,
   "id": "2c7bd5ac-7faf-4a70-bb49-581ae8d3c281",
   "metadata": {},
   "outputs": [],
   "source": []
  },
  {
   "cell_type": "markdown",
   "id": "7f64fd02-c76a-4f56-a374-ff9883007e2d",
   "metadata": {},
   "source": [
    "## Exercises"
   ]
  },
  {
   "cell_type": "markdown",
   "id": "71bc0e31-8298-44bf-b6cf-3b2c44314cb0",
   "metadata": {},
   "source": [
    "**1.**\n",
    "\n",
    "Add a warning log if insufficient trees are available for the lumberjack to chop in `lumberjack.py`."
   ]
  },
  {
   "cell_type": "code",
   "execution_count": null,
   "id": "e432eec2-2bc1-4c2e-b366-c8811dd9cde4",
   "metadata": {},
   "outputs": [],
   "source": []
  },
  {
   "cell_type": "markdown",
   "id": "2f1b2944-df2a-4305-90d4-cce00827e65d",
   "metadata": {},
   "source": [
    "**2.**\n",
    "\n",
    "Create a global `Formatter` and a `Handler`, passed into `basicConfig` in the `__init__.py` file, that formats all error or critical logs in red. Test it out by creating some error logs—for example, changing the warning in the `Lumberjack` class if no trees are available to cut to an error instead.\n"
   ]
  },
  {
   "cell_type": "code",
   "execution_count": null,
   "id": "2eb1aae3-ab69-48c3-953a-3f59e75ac0b5",
   "metadata": {},
   "outputs": [],
   "source": []
  },
  {
   "cell_type": "markdown",
   "id": "7429f0b2-0f66-4afc-8c6b-5342050561d3",
   "metadata": {},
   "source": [
    "**3.**\n",
    "\n",
    "Create a global `Formatter` and a `Handler`, passed into `basicConfig` in the `__init__.py` file, that formats critical logs in red (or multiple colors) surrounded by some attention-grabbing ASCII art, like:\n",
    "```\n",
    "######################\n",
    "#\n",
    "# <YOUR LOG HERE>\n",
    "#\n",
    "# ####################\n",
    "```\n",
    "Also include the error formatter from problem 3 so that multiple handlers and format- ters are used.\n",
    "Generate a critical log to test this, such as a critical log if there are no more uncut trees left in the forest."
   ]
  },
  {
   "cell_type": "code",
   "execution_count": null,
   "id": "64de24d7-b4d9-43c0-9cee-4eeddf4fd9bf",
   "metadata": {},
   "outputs": [],
   "source": []
  },
  {
   "cell_type": "markdown",
   "id": "1f916f65-fbc0-4bfa-9706-4e807c7ce1ca",
   "metadata": {},
   "source": [
    "**4.**\n",
    "\n",
    "Write a function called get_forest that returns a Forest object containing a list of some default trees (decide on your own assortment of trees for this one, which are hard-coded in get_forest).\n",
    "\n",
    "When `get_forest` is called the first time, it will return a new `Forest` instance. If it is called multiple times in the same Python program, it will return the same Forest instance it returned before. That is, it implements the Singleton pattern (https://en.wikipedia.org/wiki/Singleton_pattern).\n",
    "\n",
    "After doing this, you may consider updating the Lumberjack constructor to this:\n",
    "\n",
    "```\n",
    "class Lumberjack:\n",
    "    def __init__(self, name):\n",
    "        self.name = name self.forest = get_forest()\n",
    "```\n",
    "\n",
    "By doing this, all `Lumberjack` instances will necessarily be assigned to the same `Forest`."
   ]
  },
  {
   "cell_type": "code",
   "execution_count": null,
   "id": "c4979c61-bbe7-408f-8985-9737fef6f584",
   "metadata": {},
   "outputs": [],
   "source": []
  }
 ],
 "metadata": {
  "kernelspec": {
   "display_name": "Python 3 (ipykernel)",
   "language": "python",
   "name": "python3"
  },
  "language_info": {
   "codemirror_mode": {
    "name": "ipython",
    "version": 3
   },
   "file_extension": ".py",
   "mimetype": "text/x-python",
   "name": "python",
   "nbconvert_exporter": "python",
   "pygments_lexer": "ipython3",
   "version": "3.12.2"
  }
 },
 "nbformat": 4,
 "nbformat_minor": 5
}
