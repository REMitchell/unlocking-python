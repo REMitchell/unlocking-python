{
 "cells": [
  {
   "cell_type": "markdown",
   "id": "86b29b0b-a4af-4711-a810-9c177d958c25",
   "metadata": {},
   "source": [
    "## Iterators and Iterables"
   ]
  },
  {
   "cell_type": "code",
   "execution_count": 35,
   "id": "35531ca2-b117-4504-b743-d22bf639bb1d",
   "metadata": {},
   "outputs": [
    {
     "name": "stdout",
     "output_type": "stream",
     "text": [
      "1\n",
      "2\n",
      "3\n",
      "4\n"
     ]
    }
   ],
   "source": [
    "my_set = {1, 2, 3, 4}\n",
    "for item in my_set:\n",
    "    print(item)"
   ]
  },
  {
   "cell_type": "code",
   "execution_count": 42,
   "id": "7a08376c-b5e0-4bfa-8309-03e5fd61fcf4",
   "metadata": {},
   "outputs": [
    {
     "data": {
      "text/plain": [
       "<method-wrapper '__iter__' of list object at 0x10631e680>"
      ]
     },
     "execution_count": 42,
     "metadata": {},
     "output_type": "execute_result"
    }
   ],
   "source": [
    "numbers = [1,2,3,4,5]\n",
    "numbers.__iter__"
   ]
  },
  {
   "cell_type": "code",
   "execution_count": 46,
   "id": "8b036cbc-5077-4ed9-81ff-3a08e629bd7c",
   "metadata": {},
   "outputs": [
    {
     "data": {
      "text/plain": [
       "list_iterator"
      ]
     },
     "execution_count": 46,
     "metadata": {},
     "output_type": "execute_result"
    }
   ],
   "source": [
    "iterator = numbers.__iter__()\n",
    "type(iterator)\n",
    "\n"
   ]
  },
  {
   "cell_type": "code",
   "execution_count": 52,
   "id": "fa8d2afc-1a6f-4355-9f2c-da0a69c9cb6d",
   "metadata": {},
   "outputs": [
    {
     "ename": "StopIteration",
     "evalue": "",
     "output_type": "error",
     "traceback": [
      "\u001b[0;31m---------------------------------------------------------------------------\u001b[0m",
      "\u001b[0;31mStopIteration\u001b[0m                             Traceback (most recent call last)",
      "Cell \u001b[0;32mIn[52], line 1\u001b[0m\n\u001b[0;32m----> 1\u001b[0m \u001b[43miterator\u001b[49m\u001b[38;5;241;43m.\u001b[39;49m\u001b[38;5;21;43m__next__\u001b[39;49m\u001b[43m(\u001b[49m\u001b[43m)\u001b[49m\n",
      "\u001b[0;31mStopIteration\u001b[0m: "
     ]
    }
   ],
   "source": [
    "iterator.__next__()"
   ]
  },
  {
   "cell_type": "code",
   "execution_count": 56,
   "id": "04cbc366-1587-4e91-9ab8-b7fb7232fb1f",
   "metadata": {},
   "outputs": [
    {
     "ename": "ImportError",
     "evalue": "cannot import name 'Sequence' from 'collections' (/opt/homebrew/Cellar/python@3.10/3.10.14/Frameworks/Python.framework/Versions/3.10/lib/python3.10/collections/__init__.py)",
     "output_type": "error",
     "traceback": [
      "\u001b[0;31m---------------------------------------------------------------------------\u001b[0m",
      "\u001b[0;31mImportError\u001b[0m                               Traceback (most recent call last)",
      "Cell \u001b[0;32mIn[56], line 1\u001b[0m\n\u001b[0;32m----> 1\u001b[0m \u001b[38;5;28;01mfrom\u001b[39;00m \u001b[38;5;21;01mcollections\u001b[39;00m \u001b[38;5;28;01mimport\u001b[39;00m Sequence\n",
      "\u001b[0;31mImportError\u001b[0m: cannot import name 'Sequence' from 'collections' (/opt/homebrew/Cellar/python@3.10/3.10.14/Frameworks/Python.framework/Versions/3.10/lib/python3.10/collections/__init__.py)"
     ]
    }
   ],
   "source": [
    "from collections import Sequence"
   ]
  },
  {
   "cell_type": "code",
   "execution_count": 92,
   "id": "7f229795-ee01-4b2b-b321-c827a9c5d6f6",
   "metadata": {},
   "outputs": [],
   "source": [
    "class Fibonacci_Iterable:\n",
    "    def __init__(self, stop):\n",
    "        self.a = -1\n",
    "        self.b = 1\n",
    "        self.stop = stop\n",
    "\n",
    "    def __iter__(self):\n",
    "        return Fibonacci_Iterator(self)\n",
    "\n",
    "\n",
    "class Fibonacci_Iterator:\n",
    "    def __init__(self, fib):\n",
    "        self.fib = fib\n",
    "\n",
    "    def __next__(self):\n",
    "        if self.fib.stop <= 0:\n",
    "            raise StopIteration()\n",
    "        self.fib.stop -= 1\n",
    "        temp = self.fib.b\n",
    "        self.fib.b = self.fib.a + self.fib.b\n",
    "        self.fib.a = temp\n",
    "        return self.fib.b\n",
    "        \n",
    "        "
   ]
  },
  {
   "cell_type": "code",
   "execution_count": 94,
   "id": "065cd05a-8ef0-4f8d-9053-624e899dcbbe",
   "metadata": {},
   "outputs": [
    {
     "data": {
      "text/plain": [
       "[0, 1, 1, 2, 3, 5, 8, 13, 21, 34]"
      ]
     },
     "execution_count": 94,
     "metadata": {},
     "output_type": "execute_result"
    }
   ],
   "source": [
    "[f for f in Fibonacci_Iterable(10)]"
   ]
  },
  {
   "cell_type": "markdown",
   "id": "ccd506a7-856d-40d2-b61e-af65f066c980",
   "metadata": {},
   "source": [
    "## Recursion"
   ]
  },
  {
   "cell_type": "code",
   "execution_count": 3,
   "id": "a07b6bd6-4e22-475f-a6d2-9b758cab1800",
   "metadata": {},
   "outputs": [],
   "source": [
    "def recursion(i):\n",
    "    if i <= 0:\n",
    "        return\n",
    "    print(i)\n",
    "    recursion(i-1)"
   ]
  },
  {
   "cell_type": "code",
   "execution_count": 4,
   "id": "dc490eab-5718-4702-8530-8419f88c1a61",
   "metadata": {},
   "outputs": [
    {
     "name": "stdout",
     "output_type": "stream",
     "text": [
      "5\n",
      "4\n",
      "3\n",
      "2\n",
      "1\n"
     ]
    }
   ],
   "source": [
    "recursion(5)"
   ]
  },
  {
   "cell_type": "code",
   "execution_count": 13,
   "id": "8fee52ff-8c0d-415d-afd6-c1da37951c07",
   "metadata": {},
   "outputs": [
    {
     "ename": "ZeroDivisionError",
     "evalue": "division by zero",
     "output_type": "error",
     "traceback": [
      "\u001b[0;31m---------------------------------------------------------------------------\u001b[0m",
      "\u001b[0;31mZeroDivisionError\u001b[0m                         Traceback (most recent call last)",
      "Cell \u001b[0;32mIn[13], line 12\u001b[0m\n\u001b[1;32m     10\u001b[0m a()\n\u001b[1;32m     11\u001b[0m b()\n\u001b[0;32m---> 12\u001b[0m \u001b[43mc\u001b[49m\u001b[43m(\u001b[49m\u001b[43m)\u001b[49m\n",
      "Cell \u001b[0;32mIn[13], line 8\u001b[0m, in \u001b[0;36mc\u001b[0;34m()\u001b[0m\n\u001b[1;32m      7\u001b[0m \u001b[38;5;28;01mdef\u001b[39;00m \u001b[38;5;21mc\u001b[39m():\n\u001b[0;32m----> 8\u001b[0m     \u001b[38;5;28;01mreturn\u001b[39;00m \u001b[38;5;241;43m1\u001b[39;49m\u001b[38;5;241;43m/\u001b[39;49m\u001b[38;5;241;43m0\u001b[39;49m\n",
      "\u001b[0;31mZeroDivisionError\u001b[0m: division by zero"
     ]
    }
   ],
   "source": [
    "def a():\n",
    "    pass\n",
    "\n",
    "def b():\n",
    "    pass\n",
    "\n",
    "def c():\n",
    "    return 1/0\n",
    "\n",
    "a()\n",
    "b()\n",
    "c()"
   ]
  },
  {
   "cell_type": "code",
   "execution_count": 5,
   "id": "a1f850ef-8072-4508-a128-3c76a31210ee",
   "metadata": {},
   "outputs": [],
   "source": [
    "def loop(i):\n",
    "    while i > 0:\n",
    "        print(i)\n",
    "        i = i - 1"
   ]
  },
  {
   "cell_type": "code",
   "execution_count": 6,
   "id": "b6d46dd3-be44-4080-bba5-d6a1e0a80215",
   "metadata": {},
   "outputs": [
    {
     "name": "stdout",
     "output_type": "stream",
     "text": [
      "5\n",
      "4\n",
      "3\n",
      "2\n",
      "1\n"
     ]
    }
   ],
   "source": [
    "loop(5)"
   ]
  },
  {
   "cell_type": "code",
   "execution_count": 25,
   "id": "204cefd2-904f-4916-a33b-49feb27dce14",
   "metadata": {},
   "outputs": [],
   "source": [
    "def recursion(i):\n",
    "    if i <= 0:\n",
    "        return\n",
    "    #print(i)\n",
    "    recursion(i-1)\n",
    "    #print(f'Popping out of recursion where i is {i}')\n",
    "\n",
    "recursion(5)"
   ]
  },
  {
   "cell_type": "code",
   "execution_count": 33,
   "id": "4970a68b-9cf8-4c28-a608-fe1bf77725a2",
   "metadata": {},
   "outputs": [
    {
     "ename": "RecursionError",
     "evalue": "maximum recursion depth exceeded in comparison",
     "output_type": "error",
     "traceback": [
      "\u001b[0;31m---------------------------------------------------------------------------\u001b[0m",
      "\u001b[0;31mRecursionError\u001b[0m                            Traceback (most recent call last)",
      "Cell \u001b[0;32mIn[33], line 1\u001b[0m\n\u001b[0;32m----> 1\u001b[0m \u001b[43mrecursion\u001b[49m\u001b[43m(\u001b[49m\u001b[38;5;241;43m1000\u001b[39;49m\u001b[43m)\u001b[49m\n",
      "Cell \u001b[0;32mIn[25], line 5\u001b[0m, in \u001b[0;36mrecursion\u001b[0;34m(i)\u001b[0m\n\u001b[1;32m      3\u001b[0m     \u001b[38;5;28;01mreturn\u001b[39;00m\n\u001b[1;32m      4\u001b[0m \u001b[38;5;66;03m#print(i)\u001b[39;00m\n\u001b[0;32m----> 5\u001b[0m \u001b[43mrecursion\u001b[49m\u001b[43m(\u001b[49m\u001b[43mi\u001b[49m\u001b[38;5;241;43m-\u001b[39;49m\u001b[38;5;241;43m1\u001b[39;49m\u001b[43m)\u001b[49m\n",
      "Cell \u001b[0;32mIn[25], line 5\u001b[0m, in \u001b[0;36mrecursion\u001b[0;34m(i)\u001b[0m\n\u001b[1;32m      3\u001b[0m     \u001b[38;5;28;01mreturn\u001b[39;00m\n\u001b[1;32m      4\u001b[0m \u001b[38;5;66;03m#print(i)\u001b[39;00m\n\u001b[0;32m----> 5\u001b[0m \u001b[43mrecursion\u001b[49m\u001b[43m(\u001b[49m\u001b[43mi\u001b[49m\u001b[38;5;241;43m-\u001b[39;49m\u001b[38;5;241;43m1\u001b[39;49m\u001b[43m)\u001b[49m\n",
      "    \u001b[0;31m[... skipping similar frames: recursion at line 5 (969 times)]\u001b[0m\n",
      "Cell \u001b[0;32mIn[25], line 5\u001b[0m, in \u001b[0;36mrecursion\u001b[0;34m(i)\u001b[0m\n\u001b[1;32m      3\u001b[0m     \u001b[38;5;28;01mreturn\u001b[39;00m\n\u001b[1;32m      4\u001b[0m \u001b[38;5;66;03m#print(i)\u001b[39;00m\n\u001b[0;32m----> 5\u001b[0m \u001b[43mrecursion\u001b[49m\u001b[43m(\u001b[49m\u001b[43mi\u001b[49m\u001b[38;5;241;43m-\u001b[39;49m\u001b[38;5;241;43m1\u001b[39;49m\u001b[43m)\u001b[49m\n",
      "Cell \u001b[0;32mIn[25], line 2\u001b[0m, in \u001b[0;36mrecursion\u001b[0;34m(i)\u001b[0m\n\u001b[1;32m      1\u001b[0m \u001b[38;5;28;01mdef\u001b[39;00m \u001b[38;5;21mrecursion\u001b[39m(i):\n\u001b[0;32m----> 2\u001b[0m     \u001b[38;5;28;01mif\u001b[39;00m \u001b[43mi\u001b[49m\u001b[43m \u001b[49m\u001b[38;5;241;43m<\u001b[39;49m\u001b[38;5;241;43m=\u001b[39;49m\u001b[43m \u001b[49m\u001b[38;5;241;43m0\u001b[39;49m:\n\u001b[1;32m      3\u001b[0m         \u001b[38;5;28;01mreturn\u001b[39;00m\n\u001b[1;32m      4\u001b[0m     \u001b[38;5;66;03m#print(i)\u001b[39;00m\n",
      "\u001b[0;31mRecursionError\u001b[0m: maximum recursion depth exceeded in comparison"
     ]
    }
   ],
   "source": [
    "recursion(1000)"
   ]
  },
  {
   "cell_type": "code",
   "execution_count": 34,
   "id": "3909eb8e-2045-409c-a7ee-15495a5e859a",
   "metadata": {},
   "outputs": [
    {
     "name": "stdout",
     "output_type": "stream",
     "text": [
      "1000\n"
     ]
    }
   ],
   "source": [
    "import sys\n",
    "print(sys.getrecursionlimit())\n",
    "sys.setrecursionlimit(2000)\n"
   ]
  },
  {
   "cell_type": "code",
   "execution_count": 18,
   "id": "d14c3fb5-2eb5-491f-a644-a8c9ca510546",
   "metadata": {},
   "outputs": [
    {
     "data": {
      "text/plain": [
       "24"
      ]
     },
     "execution_count": 18,
     "metadata": {},
     "output_type": "execute_result"
    }
   ],
   "source": [
    "def factorial(n):\n",
    "    if n == 1:\n",
    "        return 1\n",
    "    return n * factorial(n-1)\n",
    "\n",
    "factorial(4)\n"
   ]
  },
  {
   "cell_type": "code",
   "execution_count": 23,
   "id": "844b09cf-b464-443c-aeef-f1cce84fabf5",
   "metadata": {},
   "outputs": [
    {
     "name": "stdout",
     "output_type": "stream",
     "text": [
      "1\n",
      "2\n",
      "3\n",
      "4\n",
      "5\n"
     ]
    },
    {
     "data": {
      "text/plain": [
       "3125"
      ]
     },
     "execution_count": 23,
     "metadata": {},
     "output_type": "execute_result"
    }
   ],
   "source": [
    "def factorial(n):\n",
    "    f_val = 1\n",
    "    for i in range(1, n+1):\n",
    "        print(i)\n",
    "        f_val = f_val * n\n",
    "    return f_val\n",
    "\n",
    "factorial(5)\n",
    "\n",
    "    "
   ]
  },
  {
   "cell_type": "markdown",
   "id": "db9b21fe-7c8f-4fb2-8ff9-fbf284a7098c",
   "metadata": {},
   "source": [
    "## Iterators and Iterables"
   ]
  },
  {
   "cell_type": "code",
   "execution_count": 2,
   "id": "420f6693-3b3d-4787-8138-52f31e9f2c61",
   "metadata": {},
   "outputs": [
    {
     "data": {
      "text/plain": [
       "[0, 1, 1, 2, 3, 5, 8, 13, 21, 34]"
      ]
     },
     "execution_count": 2,
     "metadata": {},
     "output_type": "execute_result"
    }
   ],
   "source": [
    "class Fibonacci_Iterable:\n",
    "    def __init__(self, stop):\n",
    "        self.a = -1\n",
    "        self.b = 1\n",
    "        self.stop = stop\n",
    "\n",
    "    def __iter__(self):\n",
    "        return Fibonacci_Iterator(self) \n",
    "\n",
    "\n",
    "class Fibonacci_Iterator:\n",
    "    def __init__(self, fib):\n",
    "        self.fib = fib\n",
    "\n",
    "    def __next__(self):\n",
    "        if self.fib.stop <= 0:\n",
    "            raise StopIteration()\n",
    "        self.fib.stop -= 1\n",
    "        temp = self.fib.b\n",
    "        self.fib.b = self.fib.a + self.fib.b\n",
    "        self.fib.a = temp\n",
    "        return self.fib.b \n",
    "\n",
    "\n",
    "[f for f in Fibonacci_Iterable(10)]"
   ]
  },
  {
   "cell_type": "markdown",
   "id": "36e6d4ee-2b4f-4822-932b-fd67bb9e334b",
   "metadata": {},
   "source": [
    "### Generators"
   ]
  },
  {
   "cell_type": "code",
   "execution_count": 16,
   "id": "5bb89965-7e45-4086-ac31-80e443024e39",
   "metadata": {},
   "outputs": [],
   "source": [
    "def powers_of_two(n):\n",
    "    for i in range(0, n):\n",
    "        yield 2**i"
   ]
  },
  {
   "cell_type": "code",
   "execution_count": 18,
   "id": "4b6e291a-ed3f-4388-bbe2-5542e532d67e",
   "metadata": {},
   "outputs": [
    {
     "data": {
      "text/plain": [
       "<generator object powers_of_two at 0x1087d5230>"
      ]
     },
     "execution_count": 18,
     "metadata": {},
     "output_type": "execute_result"
    }
   ],
   "source": [
    "powers_of_two(10)"
   ]
  },
  {
   "cell_type": "code",
   "execution_count": 19,
   "id": "bde97a2f-a886-4448-8b44-4b4decdcb6fc",
   "metadata": {},
   "outputs": [
    {
     "data": {
      "text/plain": [
       "[1, 2, 4, 8, 16, 32, 64, 128, 256, 512]"
      ]
     },
     "execution_count": 19,
     "metadata": {},
     "output_type": "execute_result"
    }
   ],
   "source": [
    "[x for x in powers_of_two(10)]"
   ]
  },
  {
   "cell_type": "code",
   "execution_count": 20,
   "id": "0018fdd1-0959-4bb4-b46c-c359188d4924",
   "metadata": {},
   "outputs": [
    {
     "data": {
      "text/plain": [
       "[1, 2, 4, 8, 16, 32, 64, 128, 256, 512]"
      ]
     },
     "execution_count": 20,
     "metadata": {},
     "output_type": "execute_result"
    }
   ],
   "source": [
    "list(powers_of_two(10))"
   ]
  },
  {
   "cell_type": "code",
   "execution_count": null,
   "id": "f5853b25-612d-4b84-8c66-41bb5de34d98",
   "metadata": {},
   "outputs": [],
   "source": [
    "    def __next__(self):\n",
    "        if self.fib.stop <= 0:\n",
    "            raise StopIteration()\n",
    "        self.fib.stop -= 1\n",
    "        temp = self.fib.b\n",
    "        self.fib.b = self.fib.a + self.fib.b\n",
    "        self.fib.a = temp\n",
    "        return self.fib.b \n"
   ]
  },
  {
   "cell_type": "code",
   "execution_count": 26,
   "id": "e672c109-a38d-403d-85ec-11b955074b46",
   "metadata": {},
   "outputs": [],
   "source": [
    "def fibonacci(n):\n",
    "    a = 1\n",
    "    b = 0\n",
    "    for i in range(0, n):\n",
    "        yield b\n",
    "        temp = b\n",
    "        b = a + b\n",
    "        a = temp"
   ]
  },
  {
   "cell_type": "code",
   "execution_count": 28,
   "id": "abf1bfeb-f6ff-4952-abc4-2d08f5ca12a8",
   "metadata": {},
   "outputs": [
    {
     "data": {
      "text/plain": [
       "[0, 1, 1, 2, 3, 5, 8, 13, 21, 34]"
      ]
     },
     "execution_count": 28,
     "metadata": {},
     "output_type": "execute_result"
    }
   ],
   "source": [
    "list(fibonacci(10))"
   ]
  },
  {
   "cell_type": "code",
   "execution_count": null,
   "id": "eb5ed546-a89f-403e-b391-6f68599268d1",
   "metadata": {},
   "outputs": [],
   "source": [
    "def fibonacci(n):\n",
    "    a = 1\n",
    "    b = 0\n",
    "    for i in range(0, n):\n",
    "        yield b\n",
    "        temp = b\n",
    "        b = a + b\n",
    "        a = temp"
   ]
  },
  {
   "cell_type": "code",
   "execution_count": null,
   "id": "24303c7d-d7cb-4a96-ba25-a6d67148d527",
   "metadata": {},
   "outputs": [],
   "source": [
    "list(fibonacci(10))"
   ]
  },
  {
   "cell_type": "code",
   "execution_count": 30,
   "id": "58431a42-adf6-463b-8c49-b01e6b724918",
   "metadata": {},
   "outputs": [
    {
     "name": "stdout",
     "output_type": "stream",
     "text": [
      "Now a is 2 and b is 1\n"
     ]
    }
   ],
   "source": [
    "a = 1\n",
    "b = 2\n",
    "# Switch a and b\n",
    "temp = a\n",
    "a = b\n",
    "b = temp\n",
    "print(f'Now a is {a} and b is {b}')"
   ]
  },
  {
   "cell_type": "code",
   "execution_count": 31,
   "id": "d9c51850-800b-479e-9757-c82304b98765",
   "metadata": {},
   "outputs": [
    {
     "name": "stdout",
     "output_type": "stream",
     "text": [
      "Now a is 2 and b is 1\n"
     ]
    }
   ],
   "source": [
    "a = 1\n",
    "b = 2\n",
    "# Switch a and b\n",
    "a, b = b, a\n",
    "print(f'Now a is {a} and b is {b}')"
   ]
  },
  {
   "cell_type": "code",
   "execution_count": 35,
   "id": "b6434ba5-b564-40f0-8ab5-665dc14486bb",
   "metadata": {},
   "outputs": [],
   "source": [
    "def fibonacci(n):\n",
    "    a = 1\n",
    "    b = 0\n",
    "    for i in range(0, n):\n",
    "        yield b\n",
    "        b, a = a + b, b"
   ]
  },
  {
   "cell_type": "code",
   "execution_count": 36,
   "id": "242374dc-3574-47fb-9354-3929231beee0",
   "metadata": {},
   "outputs": [
    {
     "data": {
      "text/plain": [
       "[0, 1, 1, 2, 3, 5, 8, 13, 21, 34]"
      ]
     },
     "execution_count": 36,
     "metadata": {},
     "output_type": "execute_result"
    }
   ],
   "source": [
    "list(fibonacci(10))"
   ]
  },
  {
   "cell_type": "markdown",
   "id": "caa3f748-18f6-48a1-aae7-502e090c6f92",
   "metadata": {},
   "source": [
    "## For and While"
   ]
  },
  {
   "cell_type": "code",
   "execution_count": 47,
   "id": "1109d5f3-16c3-4027-beed-66912a22e5cb",
   "metadata": {},
   "outputs": [],
   "source": [
    "from datetime import datetime\n",
    "\n",
    "two_seconds_from_now = (datetime.now().second + 2) % 60\n"
   ]
  },
  {
   "cell_type": "code",
   "execution_count": 53,
   "id": "5baf24dd-1736-4c2f-8939-7143f526252e",
   "metadata": {},
   "outputs": [
    {
     "name": "stdout",
     "output_type": "stream",
     "text": [
      "Done!\n"
     ]
    }
   ],
   "source": [
    "two_seconds_from_now = (datetime.now().second + 2) % 60\n",
    "\n",
    "while datetime.now().second != two_seconds_from_now:\n",
    "    pass\n",
    "print('Done!')"
   ]
  },
  {
   "cell_type": "code",
   "execution_count": 54,
   "id": "90942ddc-a3d5-4558-806e-24e1d89bc6dd",
   "metadata": {},
   "outputs": [
    {
     "ename": "IndentationError",
     "evalue": "expected an indented block after 'while' statement on line 3 (1841780631.py, line 4)",
     "output_type": "error",
     "traceback": [
      "\u001b[0;36m  Cell \u001b[0;32mIn[54], line 4\u001b[0;36m\u001b[0m\n\u001b[0;31m    print('Done!')\u001b[0m\n\u001b[0m    ^\u001b[0m\n\u001b[0;31mIndentationError\u001b[0m\u001b[0;31m:\u001b[0m expected an indented block after 'while' statement on line 3\n"
     ]
    }
   ],
   "source": [
    "two_seconds_from_now = (datetime.now().second + 2) % 60\n",
    "\n",
    "while datetime.now().second != two_seconds_from_now:\n",
    "print('Done!')"
   ]
  },
  {
   "cell_type": "code",
   "execution_count": 55,
   "id": "172e0f66-75d9-4825-99dc-51a350920492",
   "metadata": {},
   "outputs": [
    {
     "name": "stdout",
     "output_type": "stream",
     "text": [
      "Done!\n"
     ]
    }
   ],
   "source": [
    "two_seconds_from_now = (datetime.now().second + 2) % 60\n",
    "\n",
    "while True: # I know this looks bad, but I'm using a break statement\n",
    "    if datetime.now().second == two_seconds_from_now:\n",
    "        break\n",
    "print('Done!')"
   ]
  },
  {
   "cell_type": "code",
   "execution_count": 66,
   "id": "33e2ac84-6cb7-4e11-b445-ad4bc2bf43f9",
   "metadata": {},
   "outputs": [
    {
     "name": "stdout",
     "output_type": "stream",
     "text": [
      "4 is divisible by 2\n",
      "6 is divisible by 2\n",
      "8 is divisible by 2\n",
      "9 is divisible by 3\n",
      "10 is divisible by 2\n",
      "12 is divisible by 2\n",
      "14 is divisible by 2\n",
      "15 is divisible by 3\n",
      "16 is divisible by 2\n",
      "18 is divisible by 2\n",
      "20 is divisible by 2\n",
      "21 is divisible by 3\n",
      "22 is divisible by 2\n",
      "24 is divisible by 2\n",
      "25 is divisible by 5\n",
      "26 is divisible by 2\n",
      "27 is divisible by 3\n",
      "28 is divisible by 2\n",
      "30 is divisible by 2\n",
      "32 is divisible by 2\n",
      "33 is divisible by 3\n",
      "34 is divisible by 2\n",
      "35 is divisible by 5\n",
      "36 is divisible by 2\n",
      "38 is divisible by 2\n",
      "39 is divisible by 3\n",
      "40 is divisible by 2\n",
      "42 is divisible by 2\n",
      "44 is divisible by 2\n",
      "45 is divisible by 3\n",
      "46 is divisible by 2\n",
      "48 is divisible by 2\n",
      "49 is divisible by 7\n",
      "50 is divisible by 2\n",
      "51 is divisible by 3\n",
      "52 is divisible by 2\n",
      "54 is divisible by 2\n",
      "55 is divisible by 5\n",
      "56 is divisible by 2\n",
      "57 is divisible by 3\n",
      "58 is divisible by 2\n",
      "60 is divisible by 2\n",
      "62 is divisible by 2\n",
      "63 is divisible by 3\n",
      "64 is divisible by 2\n",
      "65 is divisible by 5\n",
      "66 is divisible by 2\n",
      "68 is divisible by 2\n",
      "69 is divisible by 3\n",
      "70 is divisible by 2\n",
      "72 is divisible by 2\n",
      "74 is divisible by 2\n",
      "75 is divisible by 3\n",
      "76 is divisible by 2\n",
      "77 is divisible by 7\n",
      "78 is divisible by 2\n",
      "80 is divisible by 2\n",
      "81 is divisible by 3\n",
      "82 is divisible by 2\n",
      "84 is divisible by 2\n",
      "85 is divisible by 5\n",
      "86 is divisible by 2\n",
      "87 is divisible by 3\n",
      "88 is divisible by 2\n",
      "90 is divisible by 2\n",
      "91 is divisible by 7\n",
      "92 is divisible by 2\n",
      "93 is divisible by 3\n",
      "94 is divisible by 2\n",
      "95 is divisible by 5\n",
      "96 is divisible by 2\n",
      "98 is divisible by 2\n",
      "99 is divisible by 3\n"
     ]
    }
   ],
   "source": [
    "for n in range(2, 100):\n",
    "    for factor in range(2, int(n**0.5) + 1):\n",
    "        if n % factor == 0:\n",
    "            print(f'{n} is divisible by {factor}')\n",
    "            break\n",
    "\n"
   ]
  },
  {
   "cell_type": "code",
   "execution_count": 68,
   "id": "a811e207-d753-491d-b8de-5f001367454c",
   "metadata": {},
   "outputs": [
    {
     "name": "stdout",
     "output_type": "stream",
     "text": [
      "2 is prime!\n",
      "3 is prime!\n",
      "5 is prime!\n",
      "7 is prime!\n",
      "11 is prime!\n",
      "13 is prime!\n",
      "17 is prime!\n",
      "19 is prime!\n",
      "23 is prime!\n",
      "29 is prime!\n",
      "31 is prime!\n",
      "37 is prime!\n",
      "41 is prime!\n",
      "43 is prime!\n",
      "47 is prime!\n",
      "53 is prime!\n",
      "59 is prime!\n",
      "61 is prime!\n",
      "67 is prime!\n",
      "71 is prime!\n",
      "73 is prime!\n",
      "79 is prime!\n",
      "83 is prime!\n",
      "89 is prime!\n",
      "97 is prime!\n"
     ]
    }
   ],
   "source": [
    "for n in range(2, 100):\n",
    "    for factor in range(2, int(n**0.5) + 1):\n",
    "        if n % factor == 0:\n",
    "            break\n",
    "    else:\n",
    "        print(f'{n} is prime!')"
   ]
  },
  {
   "cell_type": "code",
   "execution_count": null,
   "id": "74045944-e61a-40bc-afa5-8fe5b357c820",
   "metadata": {},
   "outputs": [],
   "source": [
    "if datetime.now().second == 42:\n",
    "    print('42 seconds!')\n",
    "else:\n",
    "    print('Not 42 seconds')\n",
    "    "
   ]
  },
  {
   "cell_type": "code",
   "execution_count": null,
   "id": "dc58cc2f-cd44-4652-b687-0e189c2cbb12",
   "metadata": {},
   "outputs": [],
   "source": [
    "two_seconds_from_now = (datetime.now().second + 2) % 60\n",
    "\n",
    "while True: # I know this looks bad, but I'm using a break statement\n",
    "    if datetime.now().second == two_seconds_from_now:\n",
    "        break\n",
    "print('Done!')"
   ]
  },
  {
   "cell_type": "code",
   "execution_count": 69,
   "id": "f2a00092-b711-4fcb-91c3-040917c97c02",
   "metadata": {},
   "outputs": [
    {
     "name": "stdout",
     "output_type": "stream",
     "text": [
      "Done!\n"
     ]
    }
   ],
   "source": [
    "two_seconds_from_now = (datetime.now().second + 2) % 60\n",
    "\n",
    "while True:\n",
    "    if datetime.now().second != two_seconds_from_now:\n",
    "        continue\n",
    "    break\n",
    "    \n",
    "print('Done!')"
   ]
  },
  {
   "cell_type": "code",
   "execution_count": 71,
   "id": "3010053c-750e-4592-bc10-5445ffc38473",
   "metadata": {},
   "outputs": [
    {
     "name": "stdout",
     "output_type": "stream",
     "text": [
      "Factors of 4: [2]\n",
      "Factors of 6: [2, 3]\n",
      "Factors of 8: [2, 4]\n",
      "Factors of 9: [3]\n",
      "Factors of 10: [2, 5]\n",
      "Factors of 12: [2, 3, 4, 6]\n",
      "Factors of 14: [2, 7]\n",
      "Factors of 15: [3, 5]\n",
      "Factors of 16: [2, 4, 8]\n",
      "Factors of 18: [2, 3, 6, 9]\n",
      "Factors of 20: [2, 4, 5, 10]\n",
      "Factors of 21: [3, 7]\n",
      "Factors of 22: [2, 11]\n",
      "Factors of 24: [2, 3, 4, 6, 8, 12]\n",
      "Factors of 25: [5]\n",
      "Factors of 26: [2, 13]\n",
      "Factors of 27: [3, 9]\n",
      "Factors of 28: [2, 4, 7, 14]\n",
      "Factors of 30: [2, 3, 5, 6, 10, 15]\n",
      "Factors of 32: [2, 4, 8, 16]\n",
      "Factors of 33: [3, 11]\n",
      "Factors of 34: [2, 17]\n",
      "Factors of 35: [5, 7]\n",
      "Factors of 36: [2, 3, 4, 6, 9, 12, 18]\n",
      "Factors of 38: [2, 19]\n",
      "Factors of 39: [3, 13]\n",
      "Factors of 40: [2, 4, 5, 8, 10, 20]\n",
      "Factors of 42: [2, 3, 6, 7, 14, 21]\n",
      "Factors of 44: [2, 4, 11, 22]\n",
      "Factors of 45: [3, 5, 9, 15]\n",
      "Factors of 46: [2, 23]\n",
      "Factors of 48: [2, 3, 4, 6, 8, 12, 16, 24]\n",
      "Factors of 49: [7]\n",
      "Factors of 50: [2, 5, 10, 25]\n",
      "Factors of 51: [3, 17]\n",
      "Factors of 52: [2, 4, 13, 26]\n",
      "Factors of 54: [2, 3, 6, 9, 18, 27]\n",
      "Factors of 55: [5, 11]\n",
      "Factors of 56: [2, 4, 7, 8, 14, 28]\n",
      "Factors of 57: [3, 19]\n",
      "Factors of 58: [2, 29]\n",
      "Factors of 60: [2, 3, 4, 5, 6, 10, 12, 15, 20, 30]\n",
      "Factors of 62: [2, 31]\n",
      "Factors of 63: [3, 7, 9, 21]\n",
      "Factors of 64: [2, 4, 8, 16, 32]\n",
      "Factors of 65: [5, 13]\n",
      "Factors of 66: [2, 3, 6, 11, 22, 33]\n",
      "Factors of 68: [2, 4, 17, 34]\n",
      "Factors of 69: [3, 23]\n",
      "Factors of 70: [2, 5, 7, 10, 14, 35]\n",
      "Factors of 72: [2, 3, 4, 6, 8, 9, 12, 18, 24, 36]\n",
      "Factors of 74: [2, 37]\n",
      "Factors of 75: [3, 5, 15, 25]\n",
      "Factors of 76: [2, 4, 19, 38]\n",
      "Factors of 77: [7, 11]\n",
      "Factors of 78: [2, 3, 6, 13, 26, 39]\n",
      "Factors of 80: [2, 4, 5, 8, 10, 16, 20, 40]\n",
      "Factors of 81: [3, 9, 27]\n",
      "Factors of 82: [2, 41]\n",
      "Factors of 84: [2, 3, 4, 6, 7, 12, 14, 21, 28, 42]\n",
      "Factors of 85: [5, 17]\n",
      "Factors of 86: [2, 43]\n",
      "Factors of 87: [3, 29]\n",
      "Factors of 88: [2, 4, 8, 11, 22, 44]\n",
      "Factors of 90: [2, 3, 5, 6, 9, 10, 15, 18, 30, 45]\n",
      "Factors of 91: [7, 13]\n",
      "Factors of 92: [2, 4, 23, 46]\n",
      "Factors of 93: [3, 31]\n",
      "Factors of 94: [2, 47]\n",
      "Factors of 95: [5, 19]\n",
      "Factors of 96: [2, 3, 4, 6, 8, 12, 16, 24, 32, 48]\n",
      "Factors of 98: [2, 7, 14, 49]\n",
      "Factors of 99: [3, 9, 11, 33]\n"
     ]
    }
   ],
   "source": [
    "def is_prime(n):\n",
    "    for factor in range(2, int(n**0.5) + 1):\n",
    "        if n % factor == 0:\n",
    "            return False\n",
    "    return True\n",
    "\n",
    "for n in range(2, 100):\n",
    "    if is_prime(n):\n",
    "        continue\n",
    "    \n",
    "    factors_list = []\n",
    "    for factor in range(2, n):\n",
    "        if n % factor == 0:\n",
    "            factors_list.append(factor)\n",
    "    print(f'Factors of {n}: {factors_list}')\n",
    "        "
   ]
  },
  {
   "cell_type": "markdown",
   "id": "9459d0fe-fd05-493e-ab09-d81fe41d27be",
   "metadata": {},
   "source": [
    "## Walrus Operator"
   ]
  },
  {
   "cell_type": "code",
   "execution_count": 72,
   "id": "c05f681a-156b-4e12-b0dd-674ac13ea998",
   "metadata": {},
   "outputs": [
    {
     "ename": "TypeError",
     "evalue": "'a' is an invalid keyword argument for print()",
     "output_type": "error",
     "traceback": [
      "\u001b[0;31m---------------------------------------------------------------------------\u001b[0m",
      "\u001b[0;31mTypeError\u001b[0m                                 Traceback (most recent call last)",
      "Cell \u001b[0;32mIn[72], line 1\u001b[0m\n\u001b[0;32m----> 1\u001b[0m \u001b[38;5;28;43mprint\u001b[39;49m\u001b[43m(\u001b[49m\u001b[43ma\u001b[49m\u001b[43m \u001b[49m\u001b[38;5;241;43m=\u001b[39;49m\u001b[43m \u001b[49m\u001b[38;5;241;43m2\u001b[39;49m\u001b[43m)\u001b[49m\n",
      "\u001b[0;31mTypeError\u001b[0m: 'a' is an invalid keyword argument for print()"
     ]
    }
   ],
   "source": [
    "print(a = 2)"
   ]
  },
  {
   "cell_type": "code",
   "execution_count": 79,
   "id": "6c17f52d-868f-481e-847c-1c0f04460ea9",
   "metadata": {},
   "outputs": [
    {
     "name": "stdout",
     "output_type": "stream",
     "text": [
      "100\n"
     ]
    }
   ],
   "source": [
    "print(a := 100)"
   ]
  },
  {
   "cell_type": "code",
   "execution_count": 80,
   "id": "3ff58807-f497-4eaa-b60b-07aeaf346917",
   "metadata": {},
   "outputs": [
    {
     "name": "stdout",
     "output_type": "stream",
     "text": [
      "100\n"
     ]
    }
   ],
   "source": [
    "print(a)"
   ]
  },
  {
   "cell_type": "code",
   "execution_count": 82,
   "id": "3dce99aa-cc5f-4455-9b91-51f91249e2d2",
   "metadata": {},
   "outputs": [
    {
     "name": "stdin",
     "output_type": "stream",
     "text": [
      "Enter text:  hello\n"
     ]
    },
    {
     "name": "stdout",
     "output_type": "stream",
     "text": [
      "Received directive hello\n"
     ]
    },
    {
     "name": "stdin",
     "output_type": "stream",
     "text": [
      "Enter text:  hello\n"
     ]
    },
    {
     "name": "stdout",
     "output_type": "stream",
     "text": [
      "Received directive hello\n"
     ]
    },
    {
     "name": "stdin",
     "output_type": "stream",
     "text": [
      "Enter text:  asdf\n"
     ]
    },
    {
     "name": "stdout",
     "output_type": "stream",
     "text": [
      "Received directive asdf\n"
     ]
    },
    {
     "name": "stdin",
     "output_type": "stream",
     "text": [
      "Enter text:  stop\n"
     ]
    }
   ],
   "source": [
    "while (directive := input(\"Enter text: \")) != \"stop\":\n",
    "    print(\"Received directive\", directive)\n"
   ]
  },
  {
   "cell_type": "code",
   "execution_count": null,
   "id": "3aa8b264-ccb6-4a79-9590-5f157ebf91b1",
   "metadata": {},
   "outputs": [],
   "source": [
    "records = get_records()\n",
    "while len(records):\n",
    "    process records here\n",
    "    records = get_records()"
   ]
  },
  {
   "cell_type": "code",
   "execution_count": 90,
   "id": "1a3b3bc2-195c-425c-876e-c2a00878bacd",
   "metadata": {},
   "outputs": [
    {
     "name": "stdout",
     "output_type": "stream",
     "text": [
      "62 is greater than or equal to 50\n",
      "62\n"
     ]
    }
   ],
   "source": [
    "from random import randint\n",
    "\n",
    "if (n := randint(1, 100)) < 50:\n",
    "    print(f'{n} is less than 50')\n",
    "else:\n",
    "    print(f'{n} is greater than or equal to 50')\n"
   ]
  },
  {
   "cell_type": "markdown",
   "id": "fe546ec8-3ac6-49f0-9733-7b8c40b5600f",
   "metadata": {},
   "source": [
    "# Exercises"
   ]
  },
  {
   "cell_type": "code",
   "execution_count": 91,
   "id": "9635d4f2-be33-4a1e-b74d-86c23983fe43",
   "metadata": {},
   "outputs": [
    {
     "name": "stdin",
     "output_type": "stream",
     "text": [
      "What is your name? Ryan\n"
     ]
    },
    {
     "name": "stdout",
     "output_type": "stream",
     "text": [
      "Hello, Ryan!\n"
     ]
    }
   ],
   "source": [
    "name = input('What is your name?')\n",
    "print(f'Hello, {name}!')"
   ]
  },
  {
   "cell_type": "code",
   "execution_count": 102,
   "id": "c284eb08-3abb-4663-9427-6e80da091d3f",
   "metadata": {},
   "outputs": [
    {
     "name": "stdin",
     "output_type": "stream",
     "text": [
      "Enter a number:  4.5\n",
      "Enter a number:  36.97\n",
      "Enter a number:  103\n",
      "Enter a number:  stop\n"
     ]
    },
    {
     "name": "stdout",
     "output_type": "stream",
     "text": [
      "The sum of the numbers entered is: 144.47\n"
     ]
    }
   ],
   "source": [
    "numbers = []\n",
    "while (n := input('Enter a number: ')) != 'stop':\n",
    "    numbers.append(float(n))\n",
    "print(f'The sum of the numbers entered is: {sum(numbers)}')"
   ]
  },
  {
   "cell_type": "code",
   "execution_count": null,
   "id": "804a39e0-f7f2-46bb-8cfa-b9d95ea55c2d",
   "metadata": {},
   "outputs": [],
   "source": []
  }
 ],
 "metadata": {
  "kernelspec": {
   "display_name": "Python 3 (ipykernel)",
   "language": "python",
   "name": "python3"
  },
  "language_info": {
   "codemirror_mode": {
    "name": "ipython",
    "version": 3
   },
   "file_extension": ".py",
   "mimetype": "text/x-python",
   "name": "python",
   "nbconvert_exporter": "python",
   "pygments_lexer": "ipython3",
   "version": "3.10.14"
  }
 },
 "nbformat": 4,
 "nbformat_minor": 5
}
