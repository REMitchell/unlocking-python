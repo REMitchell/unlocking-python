{
 "cells": [
  {
   "cell_type": "markdown",
   "id": "86b29b0b-a4af-4711-a810-9c177d958c25",
   "metadata": {},
   "source": [
    "# Iterables, Iterators, Generators and Loops"
   ]
  },
  {
   "cell_type": "markdown",
   "id": "757cf2cf-a851-4bd2-bd93-ed703c3ae80b",
   "metadata": {},
   "source": [
    "## Iterables and Iterators"
   ]
  },
  {
   "cell_type": "code",
   "execution_count": 2,
   "id": "c60ae4aa-e1f1-4e7c-ab3a-a44b92637c3c",
   "metadata": {},
   "outputs": [
    {
     "data": {
      "text/plain": [
       "<method-wrapper '__iter__' of list object at 0x1340d1540>"
      ]
     },
     "execution_count": 2,
     "metadata": {},
     "output_type": "execute_result"
    }
   ],
   "source": [
    "numbers = [1,2,3,4,5]\n",
    "numbers.__iter__"
   ]
  },
  {
   "cell_type": "code",
   "execution_count": 3,
   "id": "8b036cbc-5077-4ed9-81ff-3a08e629bd7c",
   "metadata": {},
   "outputs": [
    {
     "data": {
      "text/plain": [
       "list_iterator"
      ]
     },
     "execution_count": 3,
     "metadata": {},
     "output_type": "execute_result"
    }
   ],
   "source": [
    "iterator = numbers.__iter__()\n",
    "type(iterator)"
   ]
  },
  {
   "cell_type": "code",
   "execution_count": 4,
   "id": "fa8d2afc-1a6f-4355-9f2c-da0a69c9cb6d",
   "metadata": {},
   "outputs": [
    {
     "data": {
      "text/plain": [
       "1"
      ]
     },
     "execution_count": 4,
     "metadata": {},
     "output_type": "execute_result"
    }
   ],
   "source": [
    "iterator.__next__()"
   ]
  },
  {
   "cell_type": "code",
   "execution_count": 7,
   "id": "fa9116cd-8445-43f6-8273-0d500ba233e2",
   "metadata": {},
   "outputs": [],
   "source": [
    "class Fibonacci_Iterable:\n",
    "    def __init__(self, stop):\n",
    "        self.a = -1\n",
    "        self.b = 1\n",
    "        self.stop = stop\n",
    "\n",
    "    def __iter__(self):\n",
    "        return Fibonacci_Iterator(self)"
   ]
  },
  {
   "cell_type": "markdown",
   "id": "cf88cfae-03b3-42d1-99c5-2fb652525347",
   "metadata": {},
   "source": [
    "**!!!Note about errata in the book!!!**\n",
    "\n",
    "On page 137, the text reading:\n",
    "\n",
    "\"The initializer is fairly straightforward. It takes, as an argument, a `Fibonacci_Iterator` instance\n",
    "and sets it to the attribute fib.\"\n",
    "\n",
    "*Should* read:\n",
    "\n",
    "\"The initializer is fairly straightforward. It takes, as an argument, a *`Fibonacci_Iterable`* instance and sets it to the attribute fib.\"\n",
    "\n",
    "That is, the `Fibonacci_Iterator` class below takes a `Fibonacci_Iterable` instance as the variable `fib`, not another `Fibonacci_Iterator`, which would be crazy\n"
   ]
  },
  {
   "cell_type": "code",
   "execution_count": 8,
   "id": "7f229795-ee01-4b2b-b321-c827a9c5d6f6",
   "metadata": {},
   "outputs": [],
   "source": [
    "\n",
    "class Fibonacci_Iterator:\n",
    "    def __init__(self, fib):\n",
    "        self.fib = fib\n",
    "\n",
    "    def __next__(self):\n",
    "        if self.fib.stop <= 0:\n",
    "            raise StopIteration()\n",
    "        self.fib.stop -= 1\n",
    "        temp = self.fib.b\n",
    "        self.fib.b = self.fib.a + self.fib.b\n",
    "        self.fib.a = temp\n",
    "        return self.fib.b\n",
    "        "
   ]
  },
  {
   "cell_type": "code",
   "execution_count": 9,
   "id": "6b859986-1434-414c-a23d-42018ff663b7",
   "metadata": {},
   "outputs": [
    {
     "data": {
      "text/plain": [
       "[0, 1, 1, 2, 3, 5, 8, 13, 21, 34]"
      ]
     },
     "execution_count": 9,
     "metadata": {},
     "output_type": "execute_result"
    }
   ],
   "source": [
    "[f for f in Fibonacci_Iterable(10)]"
   ]
  },
  {
   "cell_type": "code",
   "execution_count": null,
   "id": "1586ba59-9396-4e63-97f2-84b0eb5ac226",
   "metadata": {},
   "outputs": [],
   "source": []
  },
  {
   "cell_type": "markdown",
   "id": "cc0cabc2-a241-44bf-ae26-5521a5b735d4",
   "metadata": {},
   "source": [
    "## Generators"
   ]
  },
  {
   "cell_type": "code",
   "execution_count": 10,
   "id": "711520c1-5e7b-4b32-bdcf-2ed1c7dea3b5",
   "metadata": {},
   "outputs": [],
   "source": [
    "def powers_of_two(n):\n",
    "    for i in range(0, n):\n",
    "        yield 2**i"
   ]
  },
  {
   "cell_type": "code",
   "execution_count": 11,
   "id": "1fda4020-d85a-4bcb-8d00-f45ef1d6a206",
   "metadata": {},
   "outputs": [
    {
     "data": {
      "text/plain": [
       "<generator object powers_of_two at 0x134067920>"
      ]
     },
     "execution_count": 11,
     "metadata": {},
     "output_type": "execute_result"
    }
   ],
   "source": [
    "powers_of_two(10)"
   ]
  },
  {
   "cell_type": "code",
   "execution_count": 12,
   "id": "d9ce176b-f4bd-4c6c-9662-60445901bef7",
   "metadata": {},
   "outputs": [
    {
     "data": {
      "text/plain": [
       "<method-wrapper '__iter__' of generator object at 0x1340669b0>"
      ]
     },
     "execution_count": 12,
     "metadata": {},
     "output_type": "execute_result"
    }
   ],
   "source": [
    "powers_of_two(10).__iter__"
   ]
  },
  {
   "cell_type": "code",
   "execution_count": 13,
   "id": "d638df77-8d3b-4a8b-8ef2-e94dbd7de557",
   "metadata": {},
   "outputs": [
    {
     "data": {
      "text/plain": [
       "[1, 2, 4, 8, 16, 32, 64, 128, 256, 512]"
      ]
     },
     "execution_count": 13,
     "metadata": {},
     "output_type": "execute_result"
    }
   ],
   "source": [
    "[x for x in powers_of_two(10)]"
   ]
  },
  {
   "cell_type": "code",
   "execution_count": 14,
   "id": "68a2d3e6-17c0-4f55-8c6c-3db17bf4d416",
   "metadata": {},
   "outputs": [
    {
     "data": {
      "text/plain": [
       "[1, 2, 4, 8, 16, 32, 64, 128, 256, 512]"
      ]
     },
     "execution_count": 14,
     "metadata": {},
     "output_type": "execute_result"
    }
   ],
   "source": [
    "list(powers_of_two(10))"
   ]
  },
  {
   "cell_type": "code",
   "execution_count": 17,
   "id": "5ce6b12d-62fb-4537-bd49-3395fd4df5d8",
   "metadata": {},
   "outputs": [
    {
     "data": {
      "text/plain": [
       "[0, 1, 1, 2, 3, 5, 8, 13, 21, 34]"
      ]
     },
     "execution_count": 17,
     "metadata": {},
     "output_type": "execute_result"
    }
   ],
   "source": [
    "def fibonacci(n):\n",
    "    a = 1\n",
    "    b = 0\n",
    "    for _ in range(0, n):\n",
    "        yield b\n",
    "        temp = b\n",
    "        b = a + b\n",
    "        a = temp\n",
    "\n",
    "list(fibonacci(10))"
   ]
  },
  {
   "cell_type": "code",
   "execution_count": 18,
   "id": "35db8969-8425-4bac-86d3-5e353dee8d0f",
   "metadata": {},
   "outputs": [
    {
     "name": "stdout",
     "output_type": "stream",
     "text": [
      "Now a is 2 and b is 1\n"
     ]
    }
   ],
   "source": [
    "a = 1\n",
    "b = 2\n",
    "# Switch a ad b\n",
    "temp = a\n",
    "a = b\n",
    "b = temp\n",
    "\n",
    "print(f'Now a is {a} and b is {b}')"
   ]
  },
  {
   "cell_type": "code",
   "execution_count": 20,
   "id": "0fbb8873-649b-41fc-b874-feb53c5de323",
   "metadata": {},
   "outputs": [
    {
     "name": "stdout",
     "output_type": "stream",
     "text": [
      "Now a is 2 and b is 1\n"
     ]
    }
   ],
   "source": [
    "a = 1\n",
    "b = 2\n",
    "# Switch a and b\n",
    "a, b = b, a\n",
    "print(f'Now a is {a} and b is {b}')"
   ]
  },
  {
   "cell_type": "code",
   "execution_count": 21,
   "id": "4334b67b-e058-4dad-9d32-f1c8629d2a7f",
   "metadata": {},
   "outputs": [],
   "source": [
    "def fibonacci(n):\n",
    "    a = 1\n",
    "    b = 0\n",
    "    for _ in range(0, n):\n",
    "        yield b\n",
    "        b, a = a + b, b\n"
   ]
  },
  {
   "cell_type": "markdown",
   "id": "5fc0a71b-6652-4944-bc77-85dcd496ebc8",
   "metadata": {},
   "source": [
    "## Looping with pass, break, else, and continue"
   ]
  },
  {
   "cell_type": "code",
   "execution_count": 23,
   "id": "5fe7e0f1-2236-4b4c-bd0a-64c02078df61",
   "metadata": {},
   "outputs": [],
   "source": [
    "from datetime import datetime\n",
    "\n",
    "two_seconds_from_now = (datetime.now().second + 2) % 60\n"
   ]
  },
  {
   "cell_type": "code",
   "execution_count": 24,
   "id": "5baf24dd-1736-4c2f-8939-7143f526252e",
   "metadata": {},
   "outputs": [
    {
     "name": "stdout",
     "output_type": "stream",
     "text": [
      "Done!\n"
     ]
    }
   ],
   "source": [
    "two_seconds_from_now = (datetime.now().second + 2) % 60\n",
    "\n",
    "while datetime.now().second != two_seconds_from_now:\n",
    "    pass\n",
    "print('Done!')"
   ]
  },
  {
   "cell_type": "code",
   "execution_count": 25,
   "id": "48318437-b68b-47f1-b55a-28ba77d1c536",
   "metadata": {},
   "outputs": [
    {
     "ename": "IndentationError",
     "evalue": "expected an indented block after 'while' statement on line 1 (1120199888.py, line 3)",
     "output_type": "error",
     "traceback": [
      "  \u001b[36mCell\u001b[39m\u001b[36m \u001b[39m\u001b[32mIn[25]\u001b[39m\u001b[32m, line 3\u001b[39m\n\u001b[31m    \u001b[39m\u001b[31mprint('Done!')\u001b[39m\n    ^\n\u001b[31mIndentationError\u001b[39m\u001b[31m:\u001b[39m expected an indented block after 'while' statement on line 1\n"
     ]
    }
   ],
   "source": [
    "while datetime.now().second != two_seconds_from_now:\n",
    "\n",
    "print('Done!')"
   ]
  },
  {
   "cell_type": "code",
   "execution_count": 55,
   "id": "172e0f66-75d9-4825-99dc-51a350920492",
   "metadata": {},
   "outputs": [
    {
     "name": "stdout",
     "output_type": "stream",
     "text": [
      "Done!\n"
     ]
    }
   ],
   "source": [
    "two_seconds_from_now = (datetime.now().second + 2) % 60\n",
    "\n",
    "while True: # I know this looks bad, but I'm using a break statement\n",
    "    if datetime.now().second == two_seconds_from_now:\n",
    "        break\n",
    "print('Done!')"
   ]
  },
  {
   "cell_type": "code",
   "execution_count": 66,
   "id": "33e2ac84-6cb7-4e11-b445-ad4bc2bf43f9",
   "metadata": {},
   "outputs": [
    {
     "name": "stdout",
     "output_type": "stream",
     "text": [
      "4 is divisible by 2\n",
      "6 is divisible by 2\n",
      "8 is divisible by 2\n",
      "9 is divisible by 3\n",
      "10 is divisible by 2\n",
      "12 is divisible by 2\n",
      "14 is divisible by 2\n",
      "15 is divisible by 3\n",
      "16 is divisible by 2\n",
      "18 is divisible by 2\n",
      "20 is divisible by 2\n",
      "21 is divisible by 3\n",
      "22 is divisible by 2\n",
      "24 is divisible by 2\n",
      "25 is divisible by 5\n",
      "26 is divisible by 2\n",
      "27 is divisible by 3\n",
      "28 is divisible by 2\n",
      "30 is divisible by 2\n",
      "32 is divisible by 2\n",
      "33 is divisible by 3\n",
      "34 is divisible by 2\n",
      "35 is divisible by 5\n",
      "36 is divisible by 2\n",
      "38 is divisible by 2\n",
      "39 is divisible by 3\n",
      "40 is divisible by 2\n",
      "42 is divisible by 2\n",
      "44 is divisible by 2\n",
      "45 is divisible by 3\n",
      "46 is divisible by 2\n",
      "48 is divisible by 2\n",
      "49 is divisible by 7\n",
      "50 is divisible by 2\n",
      "51 is divisible by 3\n",
      "52 is divisible by 2\n",
      "54 is divisible by 2\n",
      "55 is divisible by 5\n",
      "56 is divisible by 2\n",
      "57 is divisible by 3\n",
      "58 is divisible by 2\n",
      "60 is divisible by 2\n",
      "62 is divisible by 2\n",
      "63 is divisible by 3\n",
      "64 is divisible by 2\n",
      "65 is divisible by 5\n",
      "66 is divisible by 2\n",
      "68 is divisible by 2\n",
      "69 is divisible by 3\n",
      "70 is divisible by 2\n",
      "72 is divisible by 2\n",
      "74 is divisible by 2\n",
      "75 is divisible by 3\n",
      "76 is divisible by 2\n",
      "77 is divisible by 7\n",
      "78 is divisible by 2\n",
      "80 is divisible by 2\n",
      "81 is divisible by 3\n",
      "82 is divisible by 2\n",
      "84 is divisible by 2\n",
      "85 is divisible by 5\n",
      "86 is divisible by 2\n",
      "87 is divisible by 3\n",
      "88 is divisible by 2\n",
      "90 is divisible by 2\n",
      "91 is divisible by 7\n",
      "92 is divisible by 2\n",
      "93 is divisible by 3\n",
      "94 is divisible by 2\n",
      "95 is divisible by 5\n",
      "96 is divisible by 2\n",
      "98 is divisible by 2\n",
      "99 is divisible by 3\n"
     ]
    }
   ],
   "source": [
    "for n in range(2, 100):\n",
    "    for factor in range(2, int(n**0.5) + 1):\n",
    "        if n % factor == 0:\n",
    "            print(f'{n} is divisible by {factor}')\n",
    "            break"
   ]
  },
  {
   "cell_type": "code",
   "execution_count": 26,
   "id": "a811e207-d753-491d-b8de-5f001367454c",
   "metadata": {},
   "outputs": [
    {
     "name": "stdout",
     "output_type": "stream",
     "text": [
      "2 is prime!\n",
      "3 is prime!\n",
      "5 is prime!\n",
      "7 is prime!\n",
      "11 is prime!\n",
      "13 is prime!\n",
      "17 is prime!\n",
      "19 is prime!\n",
      "23 is prime!\n",
      "29 is prime!\n",
      "31 is prime!\n",
      "37 is prime!\n",
      "41 is prime!\n",
      "43 is prime!\n",
      "47 is prime!\n",
      "53 is prime!\n",
      "59 is prime!\n",
      "61 is prime!\n",
      "67 is prime!\n",
      "71 is prime!\n",
      "73 is prime!\n",
      "79 is prime!\n",
      "83 is prime!\n",
      "89 is prime!\n",
      "97 is prime!\n"
     ]
    }
   ],
   "source": [
    "for n in range(2, 100):\n",
    "    for factor in range(2, int(n**0.5) + 1):\n",
    "        if n % factor == 0:\n",
    "            break\n",
    "    else:\n",
    "        print(f'{n} is prime!')"
   ]
  },
  {
   "cell_type": "code",
   "execution_count": 27,
   "id": "74045944-e61a-40bc-afa5-8fe5b357c820",
   "metadata": {},
   "outputs": [
    {
     "name": "stdout",
     "output_type": "stream",
     "text": [
      "Not 42 seconds\n"
     ]
    }
   ],
   "source": [
    "if datetime.now().second == 42:\n",
    "    print('42 seconds!')\n",
    "else:\n",
    "    print('Not 42 seconds')"
   ]
  },
  {
   "cell_type": "code",
   "execution_count": 28,
   "id": "dc58cc2f-cd44-4652-b687-0e189c2cbb12",
   "metadata": {},
   "outputs": [
    {
     "name": "stdout",
     "output_type": "stream",
     "text": [
      "Done!\n"
     ]
    }
   ],
   "source": [
    "two_seconds_from_now = (datetime.now().second + 2) % 60\n",
    "\n",
    "while True: # I know this looks bad, but I'm using a break statement\n",
    "    if datetime.now().second == two_seconds_from_now:\n",
    "        break\n",
    "print('Done!')"
   ]
  },
  {
   "cell_type": "code",
   "execution_count": 29,
   "id": "f2a00092-b711-4fcb-91c3-040917c97c02",
   "metadata": {},
   "outputs": [
    {
     "name": "stdout",
     "output_type": "stream",
     "text": [
      "Done!\n"
     ]
    }
   ],
   "source": [
    "two_seconds_from_now = (datetime.now().second + 2) % 60\n",
    "\n",
    "while True:\n",
    "    if datetime.now().second != two_seconds_from_now:\n",
    "        continue\n",
    "    break\n",
    "    \n",
    "print('Done!')"
   ]
  },
  {
   "cell_type": "code",
   "execution_count": 30,
   "id": "3010053c-750e-4592-bc10-5445ffc38473",
   "metadata": {},
   "outputs": [],
   "source": [
    "def is_prime(n):\n",
    "    for factor in range(2, int(n**0.5) + 1):\n",
    "        if n % factor == 0:\n",
    "            return False\n",
    "    return True"
   ]
  },
  {
   "cell_type": "code",
   "execution_count": 32,
   "id": "a8893277-4899-4e3e-84ef-9e93530cbf2d",
   "metadata": {},
   "outputs": [
    {
     "name": "stdout",
     "output_type": "stream",
     "text": [
      "Factors of 4: [2]\n",
      "Factors of 6: [2, 3]\n",
      "Factors of 8: [2, 4]\n",
      "Factors of 9: [3]\n",
      "Factors of 10: [2, 5]\n",
      "Factors of 12: [2, 3, 4, 6]\n",
      "Factors of 14: [2, 7]\n",
      "Factors of 15: [3, 5]\n",
      "Factors of 16: [2, 4, 8]\n",
      "Factors of 18: [2, 3, 6, 9]\n",
      "Factors of 20: [2, 4, 5, 10]\n",
      "Factors of 21: [3, 7]\n",
      "Factors of 22: [2, 11]\n",
      "Factors of 24: [2, 3, 4, 6, 8, 12]\n",
      "Factors of 25: [5]\n",
      "Factors of 26: [2, 13]\n",
      "Factors of 27: [3, 9]\n",
      "Factors of 28: [2, 4, 7, 14]\n",
      "Factors of 30: [2, 3, 5, 6, 10, 15]\n",
      "Factors of 32: [2, 4, 8, 16]\n",
      "Factors of 33: [3, 11]\n",
      "Factors of 34: [2, 17]\n",
      "Factors of 35: [5, 7]\n",
      "Factors of 36: [2, 3, 4, 6, 9, 12, 18]\n",
      "Factors of 38: [2, 19]\n",
      "Factors of 39: [3, 13]\n",
      "Factors of 40: [2, 4, 5, 8, 10, 20]\n",
      "Factors of 42: [2, 3, 6, 7, 14, 21]\n",
      "Factors of 44: [2, 4, 11, 22]\n",
      "Factors of 45: [3, 5, 9, 15]\n",
      "Factors of 46: [2, 23]\n",
      "Factors of 48: [2, 3, 4, 6, 8, 12, 16, 24]\n",
      "Factors of 49: [7]\n",
      "Factors of 50: [2, 5, 10, 25]\n",
      "Factors of 51: [3, 17]\n",
      "Factors of 52: [2, 4, 13, 26]\n",
      "Factors of 54: [2, 3, 6, 9, 18, 27]\n",
      "Factors of 55: [5, 11]\n",
      "Factors of 56: [2, 4, 7, 8, 14, 28]\n",
      "Factors of 57: [3, 19]\n",
      "Factors of 58: [2, 29]\n",
      "Factors of 60: [2, 3, 4, 5, 6, 10, 12, 15, 20, 30]\n",
      "Factors of 62: [2, 31]\n",
      "Factors of 63: [3, 7, 9, 21]\n",
      "Factors of 64: [2, 4, 8, 16, 32]\n",
      "Factors of 65: [5, 13]\n",
      "Factors of 66: [2, 3, 6, 11, 22, 33]\n",
      "Factors of 68: [2, 4, 17, 34]\n",
      "Factors of 69: [3, 23]\n",
      "Factors of 70: [2, 5, 7, 10, 14, 35]\n",
      "Factors of 72: [2, 3, 4, 6, 8, 9, 12, 18, 24, 36]\n",
      "Factors of 74: [2, 37]\n",
      "Factors of 75: [3, 5, 15, 25]\n",
      "Factors of 76: [2, 4, 19, 38]\n",
      "Factors of 77: [7, 11]\n",
      "Factors of 78: [2, 3, 6, 13, 26, 39]\n",
      "Factors of 80: [2, 4, 5, 8, 10, 16, 20, 40]\n",
      "Factors of 81: [3, 9, 27]\n",
      "Factors of 82: [2, 41]\n",
      "Factors of 84: [2, 3, 4, 6, 7, 12, 14, 21, 28, 42]\n",
      "Factors of 85: [5, 17]\n",
      "Factors of 86: [2, 43]\n",
      "Factors of 87: [3, 29]\n",
      "Factors of 88: [2, 4, 8, 11, 22, 44]\n",
      "Factors of 90: [2, 3, 5, 6, 9, 10, 15, 18, 30, 45]\n",
      "Factors of 91: [7, 13]\n",
      "Factors of 92: [2, 4, 23, 46]\n",
      "Factors of 93: [3, 31]\n",
      "Factors of 94: [2, 47]\n",
      "Factors of 95: [5, 19]\n",
      "Factors of 96: [2, 3, 4, 6, 8, 12, 16, 24, 32, 48]\n",
      "Factors of 98: [2, 7, 14, 49]\n",
      "Factors of 99: [3, 9, 11, 33]\n"
     ]
    }
   ],
   "source": [
    "for n in range(2, 100):\n",
    "    if is_prime(n):\n",
    "        continue\n",
    "    \n",
    "    factors_list = []\n",
    "    for factor in range(2, n):\n",
    "        if n % factor == 0:\n",
    "            factors_list.append(factor)\n",
    "    print(f'Factors of {n}: {factors_list}')"
   ]
  },
  {
   "cell_type": "code",
   "execution_count": null,
   "id": "2ad26de9-8cd0-401d-b96f-cb75c048f1f4",
   "metadata": {},
   "outputs": [],
   "source": []
  },
  {
   "cell_type": "markdown",
   "id": "9459d0fe-fd05-493e-ab09-d81fe41d27be",
   "metadata": {},
   "source": [
    "## Walrus Operators"
   ]
  },
  {
   "cell_type": "code",
   "execution_count": 38,
   "id": "3892f279-565d-4efa-9cf0-d944b6a03972",
   "metadata": {},
   "outputs": [
    {
     "name": "stdout",
     "output_type": "stream",
     "text": [
      "100\n",
      "100\n"
     ]
    }
   ],
   "source": [
    "print(a := 100)\n",
    "print(a)"
   ]
  },
  {
   "cell_type": "code",
   "execution_count": 40,
   "id": "f8dbf229-1fd9-485e-aeb2-36eb0e662e41",
   "metadata": {},
   "outputs": [
    {
     "name": "stdout",
     "output_type": "stream",
     "text": [
      "83 is greater than or equal to 50\n"
     ]
    }
   ],
   "source": [
    "from random import randint\n",
    "\n",
    "if (n := randint(1, 100)) < 50:\n",
    "    print(f'{n} is less than 50')\n",
    "else:\n",
    "    print(f'{n} is greater than or equal to 50')\n"
   ]
  },
  {
   "cell_type": "markdown",
   "id": "33f561ab-bbce-4b1e-9e05-d6491e2410df",
   "metadata": {},
   "source": [
    "## Recursion"
   ]
  },
  {
   "cell_type": "code",
   "execution_count": 41,
   "id": "a07b6bd6-4e22-475f-a6d2-9b758cab1800",
   "metadata": {},
   "outputs": [],
   "source": [
    "def recursion(i):\n",
    "    if i <= 0:\n",
    "        return\n",
    "    print(i)\n",
    "    recursion(i-1)"
   ]
  },
  {
   "cell_type": "code",
   "execution_count": 42,
   "id": "dc490eab-5718-4702-8530-8419f88c1a61",
   "metadata": {},
   "outputs": [
    {
     "name": "stdout",
     "output_type": "stream",
     "text": [
      "5\n",
      "4\n",
      "3\n",
      "2\n",
      "1\n"
     ]
    }
   ],
   "source": [
    "recursion(5)"
   ]
  },
  {
   "cell_type": "code",
   "execution_count": 45,
   "id": "8fee52ff-8c0d-415d-afd6-c1da37951c07",
   "metadata": {},
   "outputs": [
    {
     "ename": "ZeroDivisionError",
     "evalue": "division by zero",
     "output_type": "error",
     "traceback": [
      "\u001b[31m---------------------------------------------------------------------------\u001b[39m",
      "\u001b[31mZeroDivisionError\u001b[39m                         Traceback (most recent call last)",
      "\u001b[36mCell\u001b[39m\u001b[36m \u001b[39m\u001b[32mIn[45]\u001b[39m\u001b[32m, line 10\u001b[39m\n\u001b[32m      7\u001b[39m \u001b[38;5;28;01mdef\u001b[39;00m \u001b[34mc\u001b[39m():\n\u001b[32m      8\u001b[39m     \u001b[38;5;28;01mreturn\u001b[39;00m \u001b[32m1\u001b[39m/\u001b[32m0\u001b[39m\n\u001b[32m---> \u001b[39m\u001b[32m10\u001b[39m a()\n",
      "\u001b[36mCell\u001b[39m\u001b[36m \u001b[39m\u001b[32mIn[45]\u001b[39m\u001b[32m, line 2\u001b[39m, in \u001b[36ma\u001b[39m\u001b[34m()\u001b[39m\n\u001b[32m      1\u001b[39m \u001b[38;5;28;01mdef\u001b[39;00m \u001b[34ma\u001b[39m():\n\u001b[32m----> \u001b[39m\u001b[32m2\u001b[39m     b()\n",
      "\u001b[36mCell\u001b[39m\u001b[36m \u001b[39m\u001b[32mIn[45]\u001b[39m\u001b[32m, line 5\u001b[39m, in \u001b[36mb\u001b[39m\u001b[34m()\u001b[39m\n\u001b[32m      4\u001b[39m \u001b[38;5;28;01mdef\u001b[39;00m \u001b[34mb\u001b[39m():\n\u001b[32m----> \u001b[39m\u001b[32m5\u001b[39m     c()\n",
      "\u001b[36mCell\u001b[39m\u001b[36m \u001b[39m\u001b[32mIn[45]\u001b[39m\u001b[32m, line 8\u001b[39m, in \u001b[36mc\u001b[39m\u001b[34m()\u001b[39m\n\u001b[32m      7\u001b[39m \u001b[38;5;28;01mdef\u001b[39;00m \u001b[34mc\u001b[39m():\n\u001b[32m----> \u001b[39m\u001b[32m8\u001b[39m     \u001b[38;5;28;01mreturn\u001b[39;00m \u001b[32m1\u001b[39m/\u001b[32m0\u001b[39m\n",
      "\u001b[31mZeroDivisionError\u001b[39m: division by zero"
     ]
    }
   ],
   "source": [
    "def a():\n",
    "    b()\n",
    "\n",
    "def b():\n",
    "    c()\n",
    "\n",
    "def c():\n",
    "    return 1/0\n",
    "\n",
    "a()"
   ]
  },
  {
   "cell_type": "code",
   "execution_count": 48,
   "id": "6c695fe6-f068-4597-af00-747efca61b23",
   "metadata": {},
   "outputs": [
    {
     "name": "stdout",
     "output_type": "stream",
     "text": [
      "5\n",
      "4\n",
      "3\n",
      "2\n",
      "1\n",
      "Popping out of recursion where i is 1\n",
      "Popping out of recursion where i is 2\n",
      "Popping out of recursion where i is 3\n",
      "Popping out of recursion where i is 4\n",
      "Popping out of recursion where i is 5\n"
     ]
    }
   ],
   "source": [
    "def recursion(i):\n",
    "    if i <= 0:\n",
    "        return\n",
    "    print(i)\n",
    "    recursion(i-1)\n",
    "    print(f'Popping out of recursion where i is {i}')\n",
    "recursion(5)"
   ]
  },
  {
   "cell_type": "code",
   "execution_count": 49,
   "id": "a1f850ef-8072-4508-a128-3c76a31210ee",
   "metadata": {},
   "outputs": [],
   "source": [
    "def loop(i):\n",
    "    while i > 0:\n",
    "        print(i)\n",
    "        i = i - 1"
   ]
  },
  {
   "cell_type": "code",
   "execution_count": 50,
   "id": "b6d46dd3-be44-4080-bba5-d6a1e0a80215",
   "metadata": {},
   "outputs": [
    {
     "name": "stdout",
     "output_type": "stream",
     "text": [
      "5\n",
      "4\n",
      "3\n",
      "2\n",
      "1\n"
     ]
    }
   ],
   "source": [
    "loop(5)"
   ]
  },
  {
   "cell_type": "code",
   "execution_count": 54,
   "id": "3909eb8e-2045-409c-a7ee-15495a5e859a",
   "metadata": {},
   "outputs": [
    {
     "name": "stdout",
     "output_type": "stream",
     "text": [
      "1000\n"
     ]
    }
   ],
   "source": [
    "import sys\n",
    "print(sys.getrecursionlimit())\n",
    "sys.setrecursionlimit(2000)"
   ]
  },
  {
   "cell_type": "code",
   "execution_count": 55,
   "id": "d14c3fb5-2eb5-491f-a644-a8c9ca510546",
   "metadata": {},
   "outputs": [
    {
     "data": {
      "text/plain": [
       "24"
      ]
     },
     "execution_count": 55,
     "metadata": {},
     "output_type": "execute_result"
    }
   ],
   "source": [
    "def factorial(n):\n",
    "    if n == 1:\n",
    "        return 1\n",
    "    return n * factorial(n-1)\n",
    "\n",
    "factorial(4)\n"
   ]
  },
  {
   "cell_type": "markdown",
   "id": "3d0f4091-c400-4325-b414-37fb612e5b8b",
   "metadata": {},
   "source": [
    "**!!!Note about errata!!!**\n",
    "\n",
    "The line in the book\n",
    "\n",
    "```f_val = f_val * n```\n",
    "\n",
    "Should read\n",
    "\n",
    "```f_val = f_val * i```\n",
    "\n",
    "It is correctly written below"
   ]
  },
  {
   "cell_type": "code",
   "execution_count": 58,
   "id": "844b09cf-b464-443c-aeef-f1cce84fabf5",
   "metadata": {},
   "outputs": [
    {
     "name": "stdout",
     "output_type": "stream",
     "text": [
      "1\n",
      "2\n",
      "3\n",
      "4\n"
     ]
    },
    {
     "data": {
      "text/plain": [
       "24"
      ]
     },
     "execution_count": 58,
     "metadata": {},
     "output_type": "execute_result"
    }
   ],
   "source": [
    "def factorial(n):\n",
    "    f_val = 1\n",
    "    for i in range(1, n+1):\n",
    "        print(i)\n",
    "        f_val = f_val * i\n",
    "    return f_val\n",
    "\n",
    "factorial(4)\n",
    "\n",
    "    "
   ]
  },
  {
   "cell_type": "markdown",
   "id": "fe546ec8-3ac6-49f0-9733-7b8c40b5600f",
   "metadata": {},
   "source": [
    "# Exercises"
   ]
  },
  {
   "cell_type": "markdown",
   "id": "69266930-7eb9-4c82-ae44-20cdb3d47ed3",
   "metadata": {},
   "source": [
    "1. This is a recursive function that returns the factorial of a number passed in:"
   ]
  },
  {
   "cell_type": "code",
   "execution_count": 60,
   "id": "cd6664ae-bdc2-440d-92a0-0f5c40ab0f82",
   "metadata": {},
   "outputs": [],
   "source": [
    "def factorial(n):\n",
    "    if n == 1:\n",
    "        return 1\n",
    "    return n * factorial(n-1)"
   ]
  },
  {
   "cell_type": "markdown",
   "id": "9123f758-28ec-42c3-8fcc-1bf2cce8a78f",
   "metadata": {},
   "source": [
    "Modify the function to do the following:\n",
    "- Check the typ eof the argument passed in. If it is a non-integer, return `None`.\n",
    "- If the number is negative, return `None`\n",
    "- If the number is 0, return 1 (mathematicians have decided that 0! is 1)."
   ]
  },
  {
   "cell_type": "code",
   "execution_count": null,
   "id": "700126e0-672f-4566-b2ce-0fbcb11b8ea6",
   "metadata": {},
   "outputs": [],
   "source": []
  },
  {
   "cell_type": "markdown",
   "id": "94ad15b1-3b69-4f3c-a04d-ab7c93e69c74",
   "metadata": {},
   "source": [
    "2. Write a recursive function that returns the corresponding triangular number (https://en.wikipedia.org/wiki/Triangular_number) for the positive integer passed in."
   ]
  },
  {
   "cell_type": "code",
   "execution_count": null,
   "id": "3220526c-5e46-4ca1-936f-0e558143a3b6",
   "metadata": {},
   "outputs": [],
   "source": []
  },
  {
   "cell_type": "markdown",
   "id": "e3c4dc01-ef72-4192-b253-e5f4ab8dc504",
   "metadata": {},
   "source": [
    "3. Write a generator function, using yield, that generates prime numbers up to some number, n, passed in as an argument."
   ]
  },
  {
   "cell_type": "markdown",
   "id": "0f2d68cc-856c-4895-bdb5-481d9455862b",
   "metadata": {},
   "source": [
    "4. The input function prompts the user to enter some input (into the terminal, or into a text input box in Jupyter). You can see it in action using this example:\n",
    "\n"
   ]
  },
  {
   "cell_type": "code",
   "execution_count": 62,
   "id": "58da37b0-fcff-47cc-af7f-cf60767e2a5f",
   "metadata": {},
   "outputs": [
    {
     "name": "stdin",
     "output_type": "stream",
     "text": [
      "What is your name? Ryan\n"
     ]
    },
    {
     "name": "stdout",
     "output_type": "stream",
     "text": [
      "Hello, Ryan!\n"
     ]
    }
   ],
   "source": [
    "name = input('What is your name?')\n",
    "print(f'Hello, {name}!')"
   ]
  },
  {
   "cell_type": "markdown",
   "id": "a1c8c6ae-f0b9-438d-919d-ee9a0cd10590",
   "metadata": {},
   "source": [
    "Write a function that will keep prompting the user for numbers to add together. As soon as the user enters a key word (such as stop or done), the program will print the sum of all the numbers entered up to that point and exit.\n",
    "You can assume, for the purpose of this exercise, that the user is benevolent and competent and will only either enter valid numbers or the correct key word to exit the program when they’re done.\n",
    "Here is an example of the program output:\n",
    "```\n",
    "Enter a number: 4.5m\n",
    "Enter a number: 36.97\n",
    "Enter a number: 103\n",
    "Enter a number: stop\n",
    "The sum of the numbers entered is: 144.47\n",
    "```\n",
    "\n",
    "Use the walrus operator so that you only need to use the input function at a single point in the code."
   ]
  },
  {
   "cell_type": "code",
   "execution_count": null,
   "id": "804a39e0-f7f2-46bb-8cfa-b9d95ea55c2d",
   "metadata": {},
   "outputs": [],
   "source": []
  }
 ],
 "metadata": {
  "kernelspec": {
   "display_name": "Python 3 (ipykernel)",
   "language": "python",
   "name": "python3"
  },
  "language_info": {
   "codemirror_mode": {
    "name": "ipython",
    "version": 3
   },
   "file_extension": ".py",
   "mimetype": "text/x-python",
   "name": "python",
   "nbconvert_exporter": "python",
   "pygments_lexer": "ipython3",
   "version": "3.12.2"
  }
 },
 "nbformat": 4,
 "nbformat_minor": 5
}
