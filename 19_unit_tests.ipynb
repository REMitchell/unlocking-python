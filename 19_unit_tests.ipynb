{
 "cells": [
  {
   "cell_type": "markdown",
   "id": "5576ee5a-757b-40fa-8c24-13aeba744b8b",
   "metadata": {},
   "source": [
    "# Unit Testing"
   ]
  },
  {
   "cell_type": "markdown",
   "id": "9fe78fbb-2630-48d0-b6f3-f986bd52def0",
   "metadata": {},
   "source": [
    "## The Unit Testing Framework"
   ]
  },
  {
   "cell_type": "code",
   "execution_count": 9,
   "id": "f1d10880-8874-4026-9cb3-c25257cdd6be",
   "metadata": {},
   "outputs": [
    {
     "name": "stderr",
     "output_type": "stream",
     "text": [
      "...\n",
      "----------------------------------------------------------------------\n",
      "Ran 3 tests in 0.005s\n",
      "\n",
      "OK\n"
     ]
    },
    {
     "data": {
      "text/plain": [
       "<unittest.main.TestProgram at 0x12c01cfe0>"
      ]
     },
     "execution_count": 9,
     "metadata": {},
     "output_type": "execute_result"
    }
   ],
   "source": [
    "import unittest\n",
    "\n",
    "class TestMath(unittest.TestCase):\n",
    "\n",
    "    def test_5_plus_2(self):\n",
    "        seven = 5 + 2\n",
    "        self.assertEqual(seven, 7)\n",
    "\n",
    "# This test can be run in the file 19_test_math.py\n",
    "# The line below allows it to be run from Jupyter, as explained in the text\n",
    "unittest.main(argv=[''], exit=False)"
   ]
  },
  {
   "cell_type": "code",
   "execution_count": 10,
   "id": "3a1f2d6f-6d50-49ea-b62c-2d33fe2abddc",
   "metadata": {},
   "outputs": [],
   "source": [
    "import random \n",
    "\n",
    "class Deck:\n",
    "    SUITS = ['SPADES', 'HEARTS', 'DIAMONDS', 'CLUBS']\n",
    "    FACES = ['A', '2', '3', '4', '5', '6', '7', '8', '9', '10', 'J', 'Q', 'K']\n",
    "    def __init__(self):\n",
    "        self.cards = [(f, s) for s in self.SUITS for f in self.FACES]\n",
    "\n",
    "    def shuffle(self):\n",
    "        random.shuffle(self.cards)\n",
    "\n",
    "    def deal(self, num):\n",
    "        if len(self.cards) < num:\n",
    "            print(f'Not enough cards to deal {num} cards')\n",
    "        else:\n",
    "            dealt = self.cards[0:num]\n",
    "            self.cards = self.cards[num:]\n",
    "            return dealt\n"
   ]
  },
  {
   "cell_type": "code",
   "execution_count": 11,
   "id": "ae8e794f-6466-4937-b9fd-e88b0920c711",
   "metadata": {},
   "outputs": [
    {
     "name": "stderr",
     "output_type": "stream",
     "text": [
      "test_52_cards (__main__.TestDeck.test_52_cards) ... ok\n",
      "test_shuffle (__main__.TestDeck.test_shuffle) ... ok\n",
      "test_5_plus_2 (__main__.TestMath.test_5_plus_2) ... ok\n",
      "\n",
      "----------------------------------------------------------------------\n",
      "Ran 3 tests in 0.024s\n",
      "\n",
      "OK\n"
     ]
    }
   ],
   "source": [
    "class TestDeck(unittest.TestCase):\n",
    "    def test_52_cards(self):\n",
    "        deck = Deck()\n",
    "        self.assertEqual(len(deck.cards), 52)\n",
    "\n",
    "    def test_shuffle(self):\n",
    "        deck = Deck()\n",
    "        cards_before = str(deck.cards)\n",
    "        deck.shuffle()\n",
    "        self.assertNotEqual(cards_before, str(deck.cards))\n",
    "\n",
    "if __name__ == '__main__':\n",
    "    unittest.main(argv=[''], verbosity=3, exit=False)"
   ]
  },
  {
   "cell_type": "code",
   "execution_count": 14,
   "id": "daeec06e-5e30-4295-8b6e-496a48103703",
   "metadata": {},
   "outputs": [
    {
     "name": "stderr",
     "output_type": "stream",
     "text": [
      "..\n",
      "----------------------------------------------------------------------\n",
      "Ran 2 tests in 0.002s\n",
      "\n",
      "OK\n"
     ]
    },
    {
     "data": {
      "text/plain": [
       "<unittest.main.TestProgram at 0x12c01d730>"
      ]
     },
     "execution_count": 14,
     "metadata": {},
     "output_type": "execute_result"
    }
   ],
   "source": [
    "class TestDeck(unittest.TestCase):\n",
    "    def test_cards(self):\n",
    "        deck = Deck()\n",
    "        self.assertIsNotNone(deck.cards)\n",
    "        self.assertIsInstance(deck.cards, list)\n",
    "        self.assertNotIsInstance(deck.cards, set)\n",
    "        self.assertIn(('A', 'SPADES'), deck.cards)\n",
    "        self.assertEqual(len(deck.cards), 52)\n",
    "        \n",
    "unittest.main(argv=[''], exit=False)"
   ]
  },
  {
   "cell_type": "code",
   "execution_count": 13,
   "id": "a667134c-2313-434b-be11-3981049b7715",
   "metadata": {},
   "outputs": [
    {
     "name": "stderr",
     "output_type": "stream",
     "text": [
      "..\n",
      "----------------------------------------------------------------------\n",
      "Ran 2 tests in 0.003s\n",
      "\n",
      "OK\n"
     ]
    },
    {
     "data": {
      "text/plain": [
       "<unittest.main.TestProgram at 0x12c01f680>"
      ]
     },
     "execution_count": 13,
     "metadata": {},
     "output_type": "execute_result"
    }
   ],
   "source": [
    "class TestDeck(unittest.TestCase):\n",
    "    def test_cards(self):\n",
    "        deck = Deck()\n",
    "        self.assertTrue(deck.cards is not None)\n",
    "        self.assertTrue(type(deck.cards) == list)\n",
    "        self.assertTrue(type(deck.cards) != set)\n",
    "        self.assertTrue(('A', 'SPADES') in deck.cards)\n",
    "        self.assertTrue(len(deck.cards) == 52)\n",
    "        \n",
    "unittest.main(argv=[''], exit=False)"
   ]
  },
  {
   "cell_type": "code",
   "execution_count": 15,
   "id": "66ea9bec-f097-49d6-b411-4a7057ed773a",
   "metadata": {},
   "outputs": [
    {
     "name": "stderr",
     "output_type": "stream",
     "text": [
      "F.\n",
      "======================================================================\n",
      "FAIL: test_cards (__main__.TestDeck.test_cards)\n",
      "----------------------------------------------------------------------\n",
      "Traceback (most recent call last):\n",
      "  File \"/var/folders/y6/jnf4yrtx1pg3y9tqb8fmhnrr0000gp/T/ipykernel_82034/2793621417.py\", line 4, in test_cards\n",
      "    self.assertEqual(len(deck.cards), 51)\n",
      "AssertionError: 52 != 51\n",
      "\n",
      "----------------------------------------------------------------------\n",
      "Ran 2 tests in 0.009s\n",
      "\n",
      "FAILED (failures=1)\n"
     ]
    },
    {
     "data": {
      "text/plain": [
       "<unittest.main.TestProgram at 0x12c03d400>"
      ]
     },
     "execution_count": 15,
     "metadata": {},
     "output_type": "execute_result"
    }
   ],
   "source": [
    "class TestDeck(unittest.TestCase):\n",
    "    def test_cards(self):\n",
    "        deck = Deck()\n",
    "        self.assertEqual(len(deck.cards), 51)\n",
    "        \n",
    "unittest.main(argv=[''], exit=False)"
   ]
  },
  {
   "cell_type": "code",
   "execution_count": 16,
   "id": "790e8d34-9c4f-475c-b1d8-a186777fb947",
   "metadata": {},
   "outputs": [
    {
     "name": "stderr",
     "output_type": "stream",
     "text": [
      "F.\n",
      "======================================================================\n",
      "FAIL: test_cards (__main__.TestDeck.test_cards)\n",
      "----------------------------------------------------------------------\n",
      "Traceback (most recent call last):\n",
      "  File \"/var/folders/y6/jnf4yrtx1pg3y9tqb8fmhnrr0000gp/T/ipykernel_82034/3023082789.py\", line 4, in test_cards\n",
      "    self.assertTrue(len(deck.cards) == 51)\n",
      "AssertionError: False is not true\n",
      "\n",
      "----------------------------------------------------------------------\n",
      "Ran 2 tests in 0.004s\n",
      "\n",
      "FAILED (failures=1)\n"
     ]
    },
    {
     "data": {
      "text/plain": [
       "<unittest.main.TestProgram at 0x12c03e6c0>"
      ]
     },
     "execution_count": 16,
     "metadata": {},
     "output_type": "execute_result"
    }
   ],
   "source": [
    "class TestDeck(unittest.TestCase):\n",
    "    def test_cards(self):\n",
    "        deck = Deck()\n",
    "        self.assertTrue(len(deck.cards) == 51)\n",
    "        \n",
    "unittest.main(argv=[''], exit=False)"
   ]
  },
  {
   "cell_type": "code",
   "execution_count": 17,
   "id": "537801c8-f1a0-4742-a271-88c829eee100",
   "metadata": {},
   "outputs": [
    {
     "name": "stderr",
     "output_type": "stream",
     "text": [
      "..\n",
      "----------------------------------------------------------------------\n",
      "Ran 2 tests in 0.005s\n",
      "\n",
      "OK\n"
     ]
    },
    {
     "data": {
      "text/plain": [
       "<unittest.main.TestProgram at 0x12c03c7a0>"
      ]
     },
     "execution_count": 17,
     "metadata": {},
     "output_type": "execute_result"
    }
   ],
   "source": [
    "class TestDeck(unittest.TestCase):\n",
    "    def test_cards(self):\n",
    "        deck = Deck()\n",
    "        self.assertEqual(len(deck.cards), 52, msg='Decks should contain 52 cards')\n",
    "        \n",
    "unittest.main(argv=[''], exit=False)"
   ]
  },
  {
   "cell_type": "code",
   "execution_count": 21,
   "id": "7df5329d-f5d9-48f7-8adb-0abc13d73867",
   "metadata": {},
   "outputs": [
    {
     "name": "stderr",
     "output_type": "stream",
     "text": [
      "F.\n",
      "======================================================================\n",
      "FAIL: test_cards (__main__.TestDeck.test_cards)\n",
      "----------------------------------------------------------------------\n",
      "Traceback (most recent call last):\n",
      "  File \"/var/folders/y6/jnf4yrtx1pg3y9tqb8fmhnrr0000gp/T/ipykernel_82034/3395761721.py\", line 6, in test_cards\n",
      "    self.assertEqual(len(deck.cards), 52, msg='Decks should contain 52 cards')\n",
      "AssertionError: 48 != 52 : Decks should contain 52 cards\n",
      "\n",
      "----------------------------------------------------------------------\n",
      "Ran 2 tests in 0.006s\n",
      "\n",
      "FAILED (failures=1)\n"
     ]
    }
   ],
   "source": [
    "Deck.FACES = ['A', '2', '3', '4', '5', '6', '7', '8', '9', '10', 'J', 'Q']\n",
    "\n",
    "class TestDeck(unittest.TestCase):\n",
    "    def test_cards(self):\n",
    "        deck = Deck()\n",
    "        self.assertEqual(len(deck.cards), 52, msg='Decks should contain 52 cards')\n",
    "        \n",
    "unittest.main(argv=[''], exit=False)\n",
    "\n",
    "# Set FACES back after the test has run so that other tests don't fail\n",
    "Deck.FACES = ['A', '2', '3', '4', '5', '6', '7', '8', '9', '10', 'J', 'Q', 'K']"
   ]
  },
  {
   "cell_type": "markdown",
   "id": "f5164e78-0a86-4f97-819c-793c2593a13a",
   "metadata": {},
   "source": [
    "## Setting Up and Tearing Down"
   ]
  },
  {
   "cell_type": "code",
   "execution_count": 22,
   "id": "7e6f8a73-5379-4d78-965f-b8ad954a5bc1",
   "metadata": {},
   "outputs": [
    {
     "name": "stderr",
     "output_type": "stream",
     "text": [
      "...\n",
      "----------------------------------------------------------------------\n",
      "Ran 3 tests in 0.009s\n",
      "\n",
      "OK\n"
     ]
    },
    {
     "data": {
      "text/plain": [
       "<unittest.main.TestProgram at 0x12c03fc20>"
      ]
     },
     "execution_count": 22,
     "metadata": {},
     "output_type": "execute_result"
    }
   ],
   "source": [
    "class TestDeck(unittest.TestCase):\n",
    "    deck = Deck()\n",
    "    \n",
    "    def test_one(self):\n",
    "        self.deck.cards[0] = ('foo', 'bar')\n",
    "        self.assertEqual(len(self.deck.cards), 52)\n",
    "    \n",
    "    def test_two(self):\n",
    "        self.assertEqual(self.deck.cards[0], ('foo', 'bar'))\n",
    "\n",
    "unittest.main(argv=[''], exit=False)"
   ]
  },
  {
   "cell_type": "code",
   "execution_count": 23,
   "id": "e56f168f-b90c-4e12-8823-39636d0131d9",
   "metadata": {},
   "outputs": [
    {
     "name": "stderr",
     "output_type": "stream",
     "text": [
      "sF.\n",
      "======================================================================\n",
      "FAIL: test_two (__main__.TestDeck.test_two)\n",
      "----------------------------------------------------------------------\n",
      "Traceback (most recent call last):\n",
      "  File \"/var/folders/y6/jnf4yrtx1pg3y9tqb8fmhnrr0000gp/T/ipykernel_82034/2427600940.py\", line 10, in test_two\n",
      "    self.assertEqual(self.deck.cards[0], ('foo', 'bar'))\n",
      "AssertionError: Tuples differ: ('A', 'SPADES') != ('foo', 'bar')\n",
      "\n",
      "First differing element 0:\n",
      "'A'\n",
      "'foo'\n",
      "\n",
      "- ('A', 'SPADES')\n",
      "+ ('foo', 'bar')\n",
      "\n",
      "----------------------------------------------------------------------\n",
      "Ran 3 tests in 0.004s\n",
      "\n",
      "FAILED (failures=1, skipped=1)\n"
     ]
    },
    {
     "data": {
      "text/plain": [
       "<unittest.main.TestProgram at 0x12c01e090>"
      ]
     },
     "execution_count": 23,
     "metadata": {},
     "output_type": "execute_result"
    }
   ],
   "source": [
    "class TestDeck(unittest.TestCase):\n",
    "    deck = Deck()\n",
    "\n",
    "    @unittest.skip('This will cause test_two to fail')\n",
    "    def test_one(self):\n",
    "        self.deck.cards[0] = ('foo', 'bar')\n",
    "        self.assertEqual(len(self.deck.cards), 52)\n",
    "    \n",
    "    def test_two(self):\n",
    "        self.assertEqual(self.deck.cards[0], ('foo', 'bar'))\n",
    "\n",
    "unittest.main(argv=[''], exit=False)"
   ]
  },
  {
   "cell_type": "code",
   "execution_count": 24,
   "id": "937d5479-68fa-423c-ba23-1ab9d33214b4",
   "metadata": {},
   "outputs": [
    {
     "name": "stderr",
     "output_type": "stream",
     "text": [
      "...\n",
      "----------------------------------------------------------------------\n",
      "Ran 3 tests in 0.006s\n",
      "\n",
      "OK\n"
     ]
    },
    {
     "name": "stdout",
     "output_type": "stream",
     "text": [
      "Done\n",
      "Done\n"
     ]
    },
    {
     "data": {
      "text/plain": [
       "<unittest.main.TestProgram at 0x12c03f5c0>"
      ]
     },
     "execution_count": 24,
     "metadata": {},
     "output_type": "execute_result"
    }
   ],
   "source": [
    "class TestDeck(unittest.TestCase):\n",
    "    def setUp(self):\n",
    "        self.deck = Deck()\n",
    "\n",
    "    def tearDown(self):\n",
    "        print('Done')\n",
    "    \n",
    "    def test_52_cards(self):\n",
    "        self.assertEqual(len(self.deck.cards), 52)\n",
    "\n",
    "    def test_shuffle(self):\n",
    "        cards_before = str(self.deck.cards)\n",
    "        self.deck.shuffle()\n",
    "        self.assertNotEqual(cards_before, str(self.deck.cards))\n",
    "\n",
    "unittest.main(argv=[''], exit=False)"
   ]
  },
  {
   "cell_type": "code",
   "execution_count": 27,
   "id": "246e6f83-1cc0-4497-ae7d-95c259778660",
   "metadata": {},
   "outputs": [
    {
     "name": "stderr",
     "output_type": "stream",
     "text": [
      "..\n",
      "----------------------------------------------------------------------\n",
      "Ran 2 tests in 0.010s\n",
      "\n",
      "OK\n"
     ]
    },
    {
     "name": "stdout",
     "output_type": "stream",
     "text": [
      "Done\n"
     ]
    },
    {
     "data": {
      "text/plain": [
       "<unittest.main.TestProgram at 0x12c064320>"
      ]
     },
     "execution_count": 27,
     "metadata": {},
     "output_type": "execute_result"
    }
   ],
   "source": [
    "class TestDeck(unittest.TestCase):\n",
    "\n",
    "    def setUp(self):\n",
    "        self.deck = Deck()\n",
    "        self.deck.cards = [('5', 'SPADES'), ('6', 'SPADES'), ('7', 'SPADES')]\n",
    "\n",
    "    def tearDown(self):\n",
    "        print('Done')\n",
    "    \n",
    "    def test_3_cards(self):\n",
    "        self.assertEqual(len(self.deck.cards), 3)\n",
    "\n",
    "\n",
    "unittest.main(argv=[''], exit=False)"
   ]
  },
  {
   "cell_type": "code",
   "execution_count": 28,
   "id": "f429fc67-d63e-4e2f-b346-2f975f5b2c93",
   "metadata": {},
   "outputs": [
    {
     "name": "stderr",
     "output_type": "stream",
     "text": [
      "...\n",
      "----------------------------------------------------------------------\n",
      "Ran 3 tests in 0.005s\n",
      "\n",
      "OK\n"
     ]
    },
    {
     "name": "stdout",
     "output_type": "stream",
     "text": [
      "This will run once, before tests\n",
      "setup\n",
      "setup\n",
      "This will run once, after tests\n"
     ]
    },
    {
     "data": {
      "text/plain": [
       "<unittest.main.TestProgram at 0x12c066000>"
      ]
     },
     "execution_count": 28,
     "metadata": {},
     "output_type": "execute_result"
    }
   ],
   "source": [
    "class TestDeck(unittest.TestCase):\n",
    "\n",
    "    @classmethod\n",
    "    def setUpClass(cls):\n",
    "        print('This will run once, before tests')\n",
    "\n",
    "    @classmethod\n",
    "    def tearDownClass(cls):\n",
    "        print('This will run once, after tests')\n",
    "\n",
    "    def setUp(self):\n",
    "        print('setup')\n",
    "        self.deck = Deck()\n",
    "    \n",
    "    def test_52_cards(self):\n",
    "        self.assertEqual(len(self.deck.cards), 52)\n",
    "\n",
    "    def test_shuffle(self):\n",
    "        cards_before = str(self.deck.cards)\n",
    "        self.deck.shuffle()\n",
    "        self.assertNotEqual(cards_before, str(self.deck.cards))\n",
    "\n",
    "unittest.main(argv=[''], exit=False)"
   ]
  },
  {
   "cell_type": "markdown",
   "id": "a20112df-60f2-43e6-b952-e52707cc4c58",
   "metadata": {},
   "source": [
    "## Mocking Methods"
   ]
  },
  {
   "cell_type": "code",
   "execution_count": 31,
   "id": "dbfedf0c-2515-4625-9e5f-14c60b007af4",
   "metadata": {},
   "outputs": [
    {
     "name": "stderr",
     "output_type": "stream",
     "text": [
      "..\n",
      "----------------------------------------------------------------------\n",
      "Ran 2 tests in 0.004s\n",
      "\n",
      "OK\n"
     ]
    },
    {
     "data": {
      "text/plain": [
       "<unittest.main.TestProgram at 0x12c066990>"
      ]
     },
     "execution_count": 31,
     "metadata": {},
     "output_type": "execute_result"
    }
   ],
   "source": [
    "class TestDeck(unittest.TestCase):\n",
    "    \n",
    "    def setUp(self):\n",
    "        self.deck = Deck()\n",
    "    \n",
    "    def test_cards(self):\n",
    "        expected_cards = [(f, s) for s in Deck.SUITS for f in Deck.FACES]\n",
    "        self.assertEqual(self.deck.cards, expected_cards)\n",
    "\n",
    "\n",
    "\n",
    "unittest.main(argv=[''], exit=False)"
   ]
  },
  {
   "cell_type": "code",
   "execution_count": 33,
   "id": "680697b2-842d-4ee9-9691-9c568e1fa5cb",
   "metadata": {},
   "outputs": [],
   "source": [
    "class Deck:\n",
    "    def __init__(self):\n",
    "        self.cards = [(f, s) for s in self.get_suits() for f in self.get_faces()]\n",
    "\n",
    "    def get_suits(self):\n",
    "        return ['SPADES', 'HEARTS', 'DIAMONDS', 'CLUBS']\n",
    "\n",
    "    def get_faces(self):\n",
    "        return ['A', '2', '3', '4', '5', '6', '7', '8', '9', '10', 'J', 'Q', 'K']\n"
   ]
  },
  {
   "cell_type": "code",
   "execution_count": 34,
   "id": "45373059-95ce-49f9-9bd7-edd2ef4aee8e",
   "metadata": {},
   "outputs": [
    {
     "name": "stderr",
     "output_type": "stream",
     "text": [
      "..\n",
      "----------------------------------------------------------------------\n",
      "Ran 2 tests in 0.008s\n",
      "\n",
      "OK\n"
     ]
    },
    {
     "data": {
      "text/plain": [
       "<unittest.main.TestProgram at 0x12c094320>"
      ]
     },
     "execution_count": 34,
     "metadata": {},
     "output_type": "execute_result"
    }
   ],
   "source": [
    "from unittest.mock import MagicMock\n",
    "\n",
    "class TestDeck(unittest.TestCase):\n",
    "    def setUp(self):\n",
    "        self.deck = Deck()\n",
    "        self.deck.get_suits = MagicMock(return_value=['JAVA', 'RUBY'])\n",
    "        self.deck.get_faces = MagicMock(return_value=['A', '2', '3'])\n",
    "        self.deck.__init__()\n",
    "    \n",
    "    def test_card_count(self):\n",
    "        self.deck.get_suits.assert_called()\n",
    "        self.deck.get_faces.assert_called()\n",
    "        self.assertEqual(len(self.deck.cards), 6)\n",
    "        self.assertEqual(self.deck.cards, [\n",
    "            ('A', 'JAVA'),\n",
    "            ('2', 'JAVA'),\n",
    "            ('3', 'JAVA'),\n",
    "            ('A', 'RUBY'),\n",
    "            ('2', 'RUBY'),\n",
    "            ('3', 'RUBY')\n",
    "        ])\n",
    "\n",
    "unittest.main(argv=[''], exit=False)"
   ]
  },
  {
   "cell_type": "code",
   "execution_count": 35,
   "id": "facb7c73-474c-4cf1-bf7a-07b3295b9f13",
   "metadata": {},
   "outputs": [],
   "source": [
    "class Deck:\n",
    "    def __init__(self):\n",
    "        self.cards = [(f, s) for s in self.get_suits() for f in self.get_faces()]\n",
    "\n",
    "    @classmethod\n",
    "    def get_suits(cls):\n",
    "        return ['SPADES', 'HEARTS', 'DIAMONDS', 'CLUBS']\n",
    "\n",
    "    @classmethod\n",
    "    def get_faces(cls):\n",
    "        return ['A', '2', '3', '4', '5', '6', '7', '8', '9', '10', 'J', 'Q', 'K']\n"
   ]
  },
  {
   "cell_type": "code",
   "execution_count": 36,
   "id": "94e2ae4a-b376-4e49-b861-83b6dad17c1a",
   "metadata": {},
   "outputs": [
    {
     "name": "stderr",
     "output_type": "stream",
     "text": [
      "..\n",
      "----------------------------------------------------------------------\n",
      "Ran 2 tests in 0.002s\n",
      "\n",
      "OK\n"
     ]
    },
    {
     "data": {
      "text/plain": [
       "<unittest.main.TestProgram at 0x12c0c6960>"
      ]
     },
     "execution_count": 36,
     "metadata": {},
     "output_type": "execute_result"
    }
   ],
   "source": [
    "from unittest.mock import MagicMock\n",
    "\n",
    "class TestDeck(unittest.TestCase):\n",
    "    def setUp(self):\n",
    "        Deck.get_suits = MagicMock(return_value=['JAVA', 'RUBY'])\n",
    "        Deck.get_faces = MagicMock(return_value=['A', '2', '3'])\n",
    "        self.deck = Deck()\n",
    "    \n",
    "    def test_card_count(self):\n",
    "        self.deck.get_suits.assert_called()\n",
    "        self.deck.get_faces.assert_called()\n",
    "        self.assertEqual(len(self.deck.cards), 6)\n",
    "        self.assertEqual(self.deck.cards, [\n",
    "            ('A', 'JAVA'),\n",
    "            ('2', 'JAVA'),\n",
    "            ('3', 'JAVA'),\n",
    "            ('A', 'RUBY'),\n",
    "            ('2', 'RUBY'),\n",
    "            ('3', 'RUBY')\n",
    "        ])\n",
    "\n",
    "unittest.main(argv=[''], exit=False)"
   ]
  },
  {
   "cell_type": "code",
   "execution_count": 37,
   "id": "5ec104f1-5ce7-413c-af59-0e1a24b586c7",
   "metadata": {},
   "outputs": [],
   "source": [
    "class Deck:\n",
    "    _SUITS = ['SPADES', 'HEARTS', 'DIAMONDS', 'CLUBS']\n",
    "    _FACES = ['A', '2', '3', '4', '5', '6', '7', '8', '9', '10', 'J', 'Q', 'K']\n",
    "    def __init__(self):\n",
    "        self.cards = [(f, s) for s in self.get_suits() for f in self.get_faces()]\n",
    "\n",
    "    @classmethod\n",
    "    def get_suits(cls):\n",
    "        return ['SPADES', 'HEARTS', 'DIAMONDS', 'CLUBS']\n",
    "\n",
    "    @classmethod\n",
    "    def get_faces(cls):\n",
    "        return ['A', '2', '3', '4', '5', '6', '7', '8', '9', '10', 'J', 'Q', 'K']\n",
    "\n",
    "    def shuffle(self):\n",
    "        random.shuffle(self.cards)\n",
    "\n",
    "    def deal(self, num, shuffle=False):\n",
    "        if shuffle:\n",
    "            self.shuffle()\n",
    "        if len(self.cards) < num:\n",
    "            print(f'Not enough cards to deal {num} cards')\n",
    "        else:\n",
    "            \n",
    "            dealt = self.cards[0:num]\n",
    "            self.cards = self.cards[num:]\n",
    "            return dealt\n",
    "\n"
   ]
  },
  {
   "cell_type": "code",
   "execution_count": 38,
   "id": "aa259454-b35b-469f-88d9-9cd794017b54",
   "metadata": {},
   "outputs": [],
   "source": [
    "def get_poker_hand(deck):\n",
    "    return deck.deal(5, shuffle=True)\n",
    "\n"
   ]
  },
  {
   "cell_type": "code",
   "execution_count": 39,
   "id": "2cede916-b923-4726-ab2c-9e3498364ce9",
   "metadata": {},
   "outputs": [
    {
     "name": "stderr",
     "output_type": "stream",
     "text": [
      "..\n",
      "----------------------------------------------------------------------\n",
      "Ran 2 tests in 0.002s\n",
      "\n",
      "OK\n"
     ]
    },
    {
     "data": {
      "text/plain": [
       "<unittest.main.TestProgram at 0x12c0c75c0>"
      ]
     },
     "execution_count": 39,
     "metadata": {},
     "output_type": "execute_result"
    }
   ],
   "source": [
    "class TestDeck(unittest.TestCase):\n",
    "    def setUp(self):\n",
    "        self.deck = Deck()\n",
    "        self.deck.deal = MagicMock()\n",
    "    \n",
    "    def test_card_count(self):\n",
    "        get_poker_hand(self.deck)\n",
    "        self.deck.deal.assert_called_with(5, shuffle=True)\n",
    "\n",
    "unittest.main(argv=[''], exit=False)"
   ]
  },
  {
   "cell_type": "markdown",
   "id": "dda8378b-aae8-41fe-9039-75a6338eb2ac",
   "metadata": {},
   "source": [
    "## Mocking with Side Effects"
   ]
  },
  {
   "cell_type": "code",
   "execution_count": 43,
   "id": "fba53650-0e91-4962-945e-ec975b5049d5",
   "metadata": {},
   "outputs": [],
   "source": [
    "class Deck:\n",
    "    _SUITS = ['SPADES', 'HEARTS', 'DIAMONDS', 'CLUBS']\n",
    "    _FACES = ['A', '2', '3', '4', '5', '6', '7', '8', '9', '10', 'J', 'Q', 'K']\n",
    "    def __init__(self):\n",
    "        self.cards = [(f, s) for s in self.get_suits() for f in self.get_faces()]\n",
    "\n",
    "    @classmethod\n",
    "    def get_suits(cls):\n",
    "        return ['SPADES', 'HEARTS', 'DIAMONDS', 'CLUBS']\n",
    "\n",
    "    @classmethod\n",
    "    def get_faces(cls):\n",
    "        return ['A', '2', '3', '4', '5', '6', '7', '8', '9', '10', 'J', 'Q', 'K']\n",
    "\n",
    "    def shuffle(self):\n",
    "        random.shuffle(self.cards)\n",
    "\n",
    "    def deal(self, num, shuffle=False):\n",
    "        if shuffle:\n",
    "            self.shuffle()\n",
    "        if len(self.cards) < num:\n",
    "            print(f'Not enough cards to deal {num} cards')\n",
    "        else:\n",
    "            \n",
    "            dealt = self.cards[0:num]\n",
    "            self.cards = self.cards[num:]\n",
    "            return dealt"
   ]
  },
  {
   "cell_type": "code",
   "execution_count": 44,
   "id": "ff3f5ea1-c517-4170-835e-2a29c0f5611e",
   "metadata": {},
   "outputs": [],
   "source": [
    "def mock_shuffle(self):\n",
    "    self.cards.reverse()"
   ]
  },
  {
   "cell_type": "code",
   "execution_count": 45,
   "id": "dfef5150-276e-41cc-b101-8ca2d7928ea2",
   "metadata": {},
   "outputs": [
    {
     "name": "stderr",
     "output_type": "stream",
     "text": [
      "...\n",
      "----------------------------------------------------------------------\n",
      "Ran 3 tests in 0.005s\n",
      "\n",
      "OK\n"
     ]
    },
    {
     "data": {
      "text/plain": [
       "<unittest.main.TestProgram at 0x12c0eecf0>"
      ]
     },
     "execution_count": 45,
     "metadata": {},
     "output_type": "execute_result"
    }
   ],
   "source": [
    "import unittest\n",
    "from unittest.mock import patch\n",
    "from unittest.mock import MagicMock\n",
    "\n",
    "class TestDeck(unittest.TestCase):\n",
    "\n",
    "    def setUp(self):\n",
    "        self.deck = Deck()\n",
    "        self.deck.shuffle = MagicMock(\n",
    "            side_effect=lambda: mock_shuffle(self.deck)\n",
    "        )\n",
    "\n",
    "    def test_deal_with_shuffle(self):\n",
    "        hand = self.deck.deal(3, shuffle=True)\n",
    "        self.deck.shuffle.assert_called_once()\n",
    "        self.assertEqual(hand, [\n",
    "            ('K', 'CLUBS'),\n",
    "            ('Q', 'CLUBS'),\n",
    "            ('J', 'CLUBS'),\n",
    "        ])\n",
    "\n",
    "        self.assertEqual(self.deck.cards[0:3], [\n",
    "            ('10', 'CLUBS'),\n",
    "            ('9', 'CLUBS'),\n",
    "            ('8', 'CLUBS'),\n",
    "        ])\n",
    "\n",
    "    def test_deal_without_shuffle(self):\n",
    "        hand = self.deck.deal(3, shuffle=False)\n",
    "        self.deck.shuffle.assert_not_called()\n",
    "        self.assertEqual(hand, [\n",
    "            ('A', 'SPADES'),\n",
    "            ('2', 'SPADES'),\n",
    "            ('3', 'SPADES'),\n",
    "        ])\n",
    "\n",
    "        self.assertEqual(self.deck.cards[0:3], [\n",
    "            ('4', 'SPADES'),\n",
    "            ('5', 'SPADES'),\n",
    "            ('6', 'SPADES'),\n",
    "        ])\n",
    "\n",
    "unittest.main(argv=[''], exit=False)\n"
   ]
  },
  {
   "cell_type": "code",
   "execution_count": 46,
   "id": "5bc0b688-61ff-49c3-9100-a7c73365b934",
   "metadata": {},
   "outputs": [],
   "source": [
    "\n",
    "class CannotDeal(Exception):\n",
    "    def __init__(self, msg='Just cannot deal right now', *args, **kwargs):\n",
    "        super().__init__(msg, *args, **kwargs)"
   ]
  },
  {
   "cell_type": "code",
   "execution_count": 49,
   "id": "b8ad7070-c619-4560-8515-b575ace79427",
   "metadata": {},
   "outputs": [
    {
     "name": "stderr",
     "output_type": "stream",
     "text": [
      "..\n",
      "----------------------------------------------------------------------\n",
      "Ran 2 tests in 0.011s\n",
      "\n",
      "OK\n"
     ]
    },
    {
     "data": {
      "text/plain": [
       "<unittest.main.TestProgram at 0x12c0ec320>"
      ]
     },
     "execution_count": 49,
     "metadata": {},
     "output_type": "execute_result"
    }
   ],
   "source": [
    "class TestDeck(unittest.TestCase):\n",
    "    def setUp(self):\n",
    "        self.deck = Deck()\n",
    "\n",
    "    def test_cannot_deal_is_raised(self):\n",
    "        self.deck.deal = MagicMock(side_effect=CannotDeal)\n",
    "        self.assertRaises(CannotDeal, self.deck.deal, 3, shuffle=True)\n",
    "\n",
    "unittest.main(argv=[''], exit=False)"
   ]
  }
 ],
 "metadata": {
  "kernelspec": {
   "display_name": "Python 3 (ipykernel)",
   "language": "python",
   "name": "python3"
  },
  "language_info": {
   "codemirror_mode": {
    "name": "ipython",
    "version": 3
   },
   "file_extension": ".py",
   "mimetype": "text/x-python",
   "name": "python",
   "nbconvert_exporter": "python",
   "pygments_lexer": "ipython3",
   "version": "3.12.2"
  }
 },
 "nbformat": 4,
 "nbformat_minor": 5
}
