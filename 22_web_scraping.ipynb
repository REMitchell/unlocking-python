{
 "cells": [
  {
   "cell_type": "code",
   "execution_count": 7,
   "id": "b2a855f7-cba9-43af-8aff-3e71fd4c4355",
   "metadata": {},
   "outputs": [
    {
     "name": "stdout",
     "output_type": "stream",
     "text": [
      "200\n",
      "<html>\n",
      "<head>\n",
      "<title>Unlocking Python</title>\n",
      "</head>\n",
      "<body>\n",
      "<h1>Unlocking Python</h1>\n",
      "</body>\n",
      "</html>\n"
     ]
    }
   ],
   "source": [
    "from urllib3 import request\n",
    "\n",
    "r = request('GET', 'http://unlockingpython.com')\n",
    "print(r.status)\n",
    "print(r.data.decode('utf-8'))"
   ]
  },
  {
   "cell_type": "code",
   "execution_count": 12,
   "id": "a58c6ab9-448e-4db5-893e-d514366d3615",
   "metadata": {},
   "outputs": [
    {
     "name": "stdout",
     "output_type": "stream",
     "text": [
      "<class 'requests.models.Response'>\n",
      "200\n",
      "<html>\n",
      "<head>\n",
      "<title>Unlocking Python</title>\n",
      "</head>\n",
      "<body>\n",
      "<h1>Unlocking Python</h1>\n",
      "</body>\n",
      "</html>\n"
     ]
    }
   ],
   "source": [
    "import requests\n",
    "\n",
    "r = requests.get('http://unlockingpython.com')\n",
    "print(type(r))\n",
    "print(r.status_code)\n",
    "print(r.text)"
   ]
  },
  {
   "cell_type": "code",
   "execution_count": null,
   "id": "a3a374a1-ee12-47ee-bedc-01c707babaea",
   "metadata": {},
   "outputs": [],
   "source": []
  }
 ],
 "metadata": {
  "kernelspec": {
   "display_name": "Python 3 (ipykernel)",
   "language": "python",
   "name": "python3"
  },
  "language_info": {
   "codemirror_mode": {
    "name": "ipython",
    "version": 3
   },
   "file_extension": ".py",
   "mimetype": "text/x-python",
   "name": "python",
   "nbconvert_exporter": "python",
   "pygments_lexer": "ipython3",
   "version": "3.12.2"
  }
 },
 "nbformat": 4,
 "nbformat_minor": 5
}
