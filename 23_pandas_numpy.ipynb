{
 "cells": [
  {
   "cell_type": "markdown",
   "id": "a4297f99-a8c0-4c4d-b48b-5055621e210a",
   "metadata": {},
   "source": [
    "# Data Analysis with NumPy and Pandas"
   ]
  },
  {
   "cell_type": "markdown",
   "id": "4a52cbcf-6ac1-4c91-940f-69deffd40c4d",
   "metadata": {},
   "source": [
    "## NumPy Arrays"
   ]
  },
  {
   "cell_type": "code",
   "execution_count": 69,
   "id": "46e68333-5818-4852-8df6-832bccebbd4c",
   "metadata": {},
   "outputs": [],
   "source": [
    "import pandas as pd"
   ]
  },
  {
   "cell_type": "markdown",
   "id": "d58d756b-29df-4f92-b3d5-b57de007b5fb",
   "metadata": {},
   "source": [
    "## Numpy Arrays"
   ]
  },
  {
   "cell_type": "code",
   "execution_count": 70,
   "id": "04ed0882-547e-4a60-9f3d-93dd3c6b72ea",
   "metadata": {},
   "outputs": [],
   "source": [
    "a = np.array([1,2,3,4])"
   ]
  },
  {
   "cell_type": "code",
   "execution_count": 71,
   "id": "ae93dd8f-5014-49b8-9a0e-7fc7d367d5ea",
   "metadata": {},
   "outputs": [
    {
     "data": {
      "text/plain": [
       "3"
      ]
     },
     "execution_count": 71,
     "metadata": {},
     "output_type": "execute_result"
    }
   ],
   "source": [
    "a[2]"
   ]
  },
  {
   "cell_type": "code",
   "execution_count": 72,
   "id": "27895646-cfe2-4710-afc5-2ea79939c3cc",
   "metadata": {},
   "outputs": [
    {
     "data": {
      "text/plain": [
       "array([1, 2, 3])"
      ]
     },
     "execution_count": 72,
     "metadata": {},
     "output_type": "execute_result"
    }
   ],
   "source": [
    "a[0:3]"
   ]
  },
  {
   "cell_type": "code",
   "execution_count": 73,
   "id": "cccebabc-76b1-442a-bf6d-b77056de0f48",
   "metadata": {},
   "outputs": [
    {
     "data": {
      "text/plain": [
       "numpy.int64"
      ]
     },
     "execution_count": 73,
     "metadata": {},
     "output_type": "execute_result"
    }
   ],
   "source": [
    "type(a[2])"
   ]
  },
  {
   "cell_type": "code",
   "execution_count": 74,
   "id": "e3eeaac8-3f68-4d41-b617-ce282e97d602",
   "metadata": {},
   "outputs": [],
   "source": [
    "b = [[1,2], [3,4,5]]"
   ]
  },
  {
   "cell_type": "code",
   "execution_count": 75,
   "id": "8a7dd74e-7768-4944-b505-010e9fdaf83d",
   "metadata": {},
   "outputs": [
    {
     "ename": "ValueError",
     "evalue": "setting an array element with a sequence. The requested array has an inhomogeneous shape after 1 dimensions. The detected shape was (2,) + inhomogeneous part.",
     "output_type": "error",
     "traceback": [
      "\u001b[31m---------------------------------------------------------------------------\u001b[39m",
      "\u001b[31mValueError\u001b[39m                                Traceback (most recent call last)",
      "\u001b[36mCell\u001b[39m\u001b[36m \u001b[39m\u001b[32mIn[75]\u001b[39m\u001b[32m, line 1\u001b[39m\n\u001b[32m----> \u001b[39m\u001b[32m1\u001b[39m np.array([[\u001b[32m1\u001b[39m,\u001b[32m2\u001b[39m], [\u001b[32m3\u001b[39m,\u001b[32m4\u001b[39m,\u001b[32m5\u001b[39m]])\n",
      "\u001b[31mValueError\u001b[39m: setting an array element with a sequence. The requested array has an inhomogeneous shape after 1 dimensions. The detected shape was (2,) + inhomogeneous part."
     ]
    }
   ],
   "source": [
    "np.array([[1,2], [3,4,5]])"
   ]
  },
  {
   "cell_type": "code",
   "execution_count": 76,
   "id": "19ecafd4-5464-4d63-acde-a7d55aaad445",
   "metadata": {},
   "outputs": [
    {
     "data": {
      "text/plain": [
       "(4,)"
      ]
     },
     "execution_count": 76,
     "metadata": {},
     "output_type": "execute_result"
    }
   ],
   "source": [
    "a.shape"
   ]
  },
  {
   "cell_type": "code",
   "execution_count": 77,
   "id": "43dbf629-c5d5-4400-be85-f9d214a9a95c",
   "metadata": {},
   "outputs": [],
   "source": [
    "b = np.array([\n",
    "    [1,2,3,4],\n",
    "    [5,6,7,8],\n",
    "    [9,10,11,12]\n",
    "])"
   ]
  },
  {
   "cell_type": "code",
   "execution_count": 78,
   "id": "ef1f0e2b-781e-4c2c-96d4-f9fcb52234c9",
   "metadata": {},
   "outputs": [
    {
     "data": {
      "text/plain": [
       "(3, 4)"
      ]
     },
     "execution_count": 78,
     "metadata": {},
     "output_type": "execute_result"
    }
   ],
   "source": [
    "b.shape"
   ]
  },
  {
   "cell_type": "code",
   "execution_count": 79,
   "id": "3171dbd1-b0c4-4487-9393-81a0eb2f81a2",
   "metadata": {},
   "outputs": [],
   "source": [
    "c = np.array([\n",
    "    [[1, 2], [3,4]],\n",
    "    [[5,6], [7,8]],\n",
    "    [[9,10], [11,12]],\n",
    "])"
   ]
  },
  {
   "cell_type": "code",
   "execution_count": 80,
   "id": "b93b1674-1599-41fd-a988-c9bdff97c6fb",
   "metadata": {},
   "outputs": [
    {
     "data": {
      "text/plain": [
       "(3, 2, 2)"
      ]
     },
     "execution_count": 80,
     "metadata": {},
     "output_type": "execute_result"
    }
   ],
   "source": [
    "c.shape"
   ]
  },
  {
   "cell_type": "code",
   "execution_count": 81,
   "id": "e3b7f787-2367-40cd-a866-fbe7440d1e73",
   "metadata": {},
   "outputs": [],
   "source": [
    "a = np.array([1,2,3,4])"
   ]
  },
  {
   "cell_type": "code",
   "execution_count": 82,
   "id": "42b05f75-f538-464a-93ac-271426135281",
   "metadata": {},
   "outputs": [
    {
     "data": {
      "text/plain": [
       "array([1, 2, 3, 4])"
      ]
     },
     "execution_count": 82,
     "metadata": {},
     "output_type": "execute_result"
    }
   ],
   "source": [
    "a"
   ]
  },
  {
   "cell_type": "code",
   "execution_count": 83,
   "id": "9c880f1c-d4e4-448b-b991-70058479dc2b",
   "metadata": {},
   "outputs": [
    {
     "data": {
      "text/plain": [
       "numpy.int64"
      ]
     },
     "execution_count": 83,
     "metadata": {},
     "output_type": "execute_result"
    }
   ],
   "source": [
    "type(a[0])"
   ]
  },
  {
   "cell_type": "code",
   "execution_count": 84,
   "id": "a3af2e41-4e3f-4aea-a297-7dce15b1b993",
   "metadata": {},
   "outputs": [],
   "source": [
    "a = np.array([1,2,3,'four'])"
   ]
  },
  {
   "cell_type": "code",
   "execution_count": 85,
   "id": "1edc5500-5820-4d13-b322-71c7eeed41d0",
   "metadata": {},
   "outputs": [
    {
     "data": {
      "text/plain": [
       "array(['1', '2', '3', 'four'], dtype='<U21')"
      ]
     },
     "execution_count": 85,
     "metadata": {},
     "output_type": "execute_result"
    }
   ],
   "source": [
    "a"
   ]
  },
  {
   "cell_type": "code",
   "execution_count": 86,
   "id": "a24b9b24-4ad6-4135-8f5b-db7b21eb6b7c",
   "metadata": {},
   "outputs": [
    {
     "data": {
      "text/plain": [
       "numpy.str_"
      ]
     },
     "execution_count": 86,
     "metadata": {},
     "output_type": "execute_result"
    }
   ],
   "source": [
    "type(a[0])"
   ]
  },
  {
   "cell_type": "code",
   "execution_count": 87,
   "id": "0a412b68-ae81-4ca6-847a-483531b767fe",
   "metadata": {},
   "outputs": [
    {
     "data": {
      "text/plain": [
       "array([1., 2., 3., 4.])"
      ]
     },
     "execution_count": 87,
     "metadata": {},
     "output_type": "execute_result"
    }
   ],
   "source": [
    "np.array([1,2,3,4.0])"
   ]
  },
  {
   "cell_type": "code",
   "execution_count": 88,
   "id": "8faf0fbc-e181-4f5f-8a1d-4581f41f4411",
   "metadata": {},
   "outputs": [],
   "source": [
    "a = np.array([1,2,3,None])"
   ]
  },
  {
   "cell_type": "code",
   "execution_count": 89,
   "id": "45c5f3b6-4457-4c9b-83ed-8ed9c94a8af9",
   "metadata": {},
   "outputs": [
    {
     "data": {
      "text/plain": [
       "array([1, 2, 3, None], dtype=object)"
      ]
     },
     "execution_count": 89,
     "metadata": {},
     "output_type": "execute_result"
    }
   ],
   "source": [
    "a"
   ]
  },
  {
   "cell_type": "code",
   "execution_count": 90,
   "id": "0807bbdd-107b-4df9-b5ec-e796fa9aa6ad",
   "metadata": {},
   "outputs": [
    {
     "data": {
      "text/plain": [
       "int"
      ]
     },
     "execution_count": 90,
     "metadata": {},
     "output_type": "execute_result"
    }
   ],
   "source": [
    "type(a[0])"
   ]
  },
  {
   "cell_type": "code",
   "execution_count": 91,
   "id": "817630ba-0f20-41bf-8f76-624bce84c41e",
   "metadata": {},
   "outputs": [
    {
     "data": {
      "text/plain": [
       "NoneType"
      ]
     },
     "execution_count": 91,
     "metadata": {},
     "output_type": "execute_result"
    }
   ],
   "source": [
    "type(a[3])"
   ]
  },
  {
   "cell_type": "code",
   "execution_count": 92,
   "id": "32a45e91-de97-400e-b0b1-4391a4f3be8e",
   "metadata": {},
   "outputs": [
    {
     "data": {
      "text/plain": [
       "NoneType"
      ]
     },
     "execution_count": 92,
     "metadata": {},
     "output_type": "execute_result"
    }
   ],
   "source": [
    "type(a[3])"
   ]
  },
  {
   "cell_type": "code",
   "execution_count": 93,
   "id": "98f09d25-c0ce-4b5c-a445-3283e8a00843",
   "metadata": {},
   "outputs": [],
   "source": [
    "a = np.array([1,2,3,np.nan])"
   ]
  },
  {
   "cell_type": "code",
   "execution_count": 94,
   "id": "e5ae722b-38fe-4f17-b5a8-29428aa0d6cd",
   "metadata": {},
   "outputs": [
    {
     "data": {
      "text/plain": [
       "numpy.float64"
      ]
     },
     "execution_count": 94,
     "metadata": {},
     "output_type": "execute_result"
    }
   ],
   "source": [
    "type(a[0])"
   ]
  },
  {
   "cell_type": "code",
   "execution_count": 95,
   "id": "9549c555-0bbe-45f1-866d-83c11c926d36",
   "metadata": {},
   "outputs": [
    {
     "data": {
      "text/plain": [
       "numpy.float64"
      ]
     },
     "execution_count": 95,
     "metadata": {},
     "output_type": "execute_result"
    }
   ],
   "source": [
    "type(a[3])"
   ]
  },
  {
   "cell_type": "code",
   "execution_count": 96,
   "id": "d335418d-3de6-4060-9df5-6fb688fba06a",
   "metadata": {},
   "outputs": [],
   "source": [
    "x = np.array([1,2,3,4,5])"
   ]
  },
  {
   "cell_type": "code",
   "execution_count": 97,
   "id": "8904f1a9-d7c1-48e7-9d01-6124c82c2346",
   "metadata": {},
   "outputs": [
    {
     "data": {
      "text/plain": [
       "array([ 0.84147098,  0.90929743,  0.14112001, -0.7568025 , -0.95892427])"
      ]
     },
     "execution_count": 97,
     "metadata": {},
     "output_type": "execute_result"
    }
   ],
   "source": [
    "np.sin(x)"
   ]
  },
  {
   "cell_type": "code",
   "execution_count": 98,
   "id": "f39015fe-9a88-4cfb-8901-780f43c141ec",
   "metadata": {},
   "outputs": [],
   "source": [
    "c = np.array([[1 * np.pi, 2 * np.pi], [2.5 * np.pi, 1.5 * np.pi]])"
   ]
  },
  {
   "cell_type": "code",
   "execution_count": 99,
   "id": "ebfa7639-a9b2-4b24-8bd0-dc48ef8c0768",
   "metadata": {},
   "outputs": [
    {
     "data": {
      "text/plain": [
       "array([[ 0., -0.],\n",
       "       [ 1., -1.]])"
      ]
     },
     "execution_count": 99,
     "metadata": {},
     "output_type": "execute_result"
    }
   ],
   "source": [
    "np.round(np.sin(c))"
   ]
  },
  {
   "cell_type": "markdown",
   "id": "04bebf15-97e6-4814-8936-fd5c3e463ba3",
   "metadata": {},
   "source": [
    "## Pandas DataFrames"
   ]
  },
  {
   "cell_type": "code",
   "execution_count": 100,
   "id": "8407888c-be39-4266-8e6c-47160a267d0e",
   "metadata": {},
   "outputs": [],
   "source": [
    "import pandas as pd"
   ]
  },
  {
   "cell_type": "code",
   "execution_count": 101,
   "id": "3a036adc-6a5e-4c07-8383-a858afd7113b",
   "metadata": {},
   "outputs": [],
   "source": [
    "df = pd.DataFrame(\n",
    "    [['one', 1], ['two', 2], ['three', 3]],\n",
    "    columns=['name', 'value']\n",
    ")"
   ]
  },
  {
   "cell_type": "code",
   "execution_count": 102,
   "id": "69116be6-a5ad-4753-b1d1-6f97378b43f8",
   "metadata": {},
   "outputs": [
    {
     "data": {
      "text/html": [
       "<div>\n",
       "<style scoped>\n",
       "    .dataframe tbody tr th:only-of-type {\n",
       "        vertical-align: middle;\n",
       "    }\n",
       "\n",
       "    .dataframe tbody tr th {\n",
       "        vertical-align: top;\n",
       "    }\n",
       "\n",
       "    .dataframe thead th {\n",
       "        text-align: right;\n",
       "    }\n",
       "</style>\n",
       "<table border=\"1\" class=\"dataframe\">\n",
       "  <thead>\n",
       "    <tr style=\"text-align: right;\">\n",
       "      <th></th>\n",
       "      <th>name</th>\n",
       "      <th>value</th>\n",
       "    </tr>\n",
       "  </thead>\n",
       "  <tbody>\n",
       "    <tr>\n",
       "      <th>0</th>\n",
       "      <td>one</td>\n",
       "      <td>1</td>\n",
       "    </tr>\n",
       "    <tr>\n",
       "      <th>1</th>\n",
       "      <td>two</td>\n",
       "      <td>2</td>\n",
       "    </tr>\n",
       "    <tr>\n",
       "      <th>2</th>\n",
       "      <td>three</td>\n",
       "      <td>3</td>\n",
       "    </tr>\n",
       "  </tbody>\n",
       "</table>\n",
       "</div>"
      ],
      "text/plain": [
       "    name  value\n",
       "0    one      1\n",
       "1    two      2\n",
       "2  three      3"
      ]
     },
     "execution_count": 102,
     "metadata": {},
     "output_type": "execute_result"
    }
   ],
   "source": [
    "df.head()"
   ]
  },
  {
   "cell_type": "code",
   "execution_count": 103,
   "id": "76f74be3-1f1f-44f3-9a4d-ea296e2cea27",
   "metadata": {},
   "outputs": [
    {
     "data": {
      "text/html": [
       "<div>\n",
       "<style scoped>\n",
       "    .dataframe tbody tr th:only-of-type {\n",
       "        vertical-align: middle;\n",
       "    }\n",
       "\n",
       "    .dataframe tbody tr th {\n",
       "        vertical-align: top;\n",
       "    }\n",
       "\n",
       "    .dataframe thead th {\n",
       "        text-align: right;\n",
       "    }\n",
       "</style>\n",
       "<table border=\"1\" class=\"dataframe\">\n",
       "  <thead>\n",
       "    <tr style=\"text-align: right;\">\n",
       "      <th></th>\n",
       "      <th>name</th>\n",
       "      <th>value</th>\n",
       "    </tr>\n",
       "  </thead>\n",
       "  <tbody>\n",
       "    <tr>\n",
       "      <th>0</th>\n",
       "      <td>one</td>\n",
       "      <td>1</td>\n",
       "    </tr>\n",
       "    <tr>\n",
       "      <th>1</th>\n",
       "      <td>two</td>\n",
       "      <td>2</td>\n",
       "    </tr>\n",
       "    <tr>\n",
       "      <th>2</th>\n",
       "      <td>three</td>\n",
       "      <td>3</td>\n",
       "    </tr>\n",
       "  </tbody>\n",
       "</table>\n",
       "</div>"
      ],
      "text/plain": [
       "    name  value\n",
       "0    one      1\n",
       "1    two      2\n",
       "2  three      3"
      ]
     },
     "execution_count": 103,
     "metadata": {},
     "output_type": "execute_result"
    }
   ],
   "source": [
    "df"
   ]
  },
  {
   "cell_type": "code",
   "execution_count": 104,
   "id": "c2c0c997-94a2-4bbf-b29f-bd814a5efc56",
   "metadata": {},
   "outputs": [],
   "source": [
    "# https://www.kaggle.com/datasets/kanchana1990/real-estate-data-london-2024?resource=download \n"
   ]
  },
  {
   "cell_type": "code",
   "execution_count": 105,
   "id": "cded5d9c-e77d-483e-9f1c-2e73f4772846",
   "metadata": {},
   "outputs": [
    {
     "data": {
      "text/html": [
       "<div>\n",
       "<style scoped>\n",
       "    .dataframe tbody tr th:only-of-type {\n",
       "        vertical-align: middle;\n",
       "    }\n",
       "\n",
       "    .dataframe tbody tr th {\n",
       "        vertical-align: top;\n",
       "    }\n",
       "\n",
       "    .dataframe thead th {\n",
       "        text-align: right;\n",
       "    }\n",
       "</style>\n",
       "<table border=\"1\" class=\"dataframe\">\n",
       "  <thead>\n",
       "    <tr style=\"text-align: right;\">\n",
       "      <th></th>\n",
       "      <th>addedOn</th>\n",
       "      <th>title</th>\n",
       "      <th>descriptionHtml</th>\n",
       "      <th>propertyType</th>\n",
       "      <th>bedrooms</th>\n",
       "      <th>bathrooms</th>\n",
       "      <th>listingUpdateReason</th>\n",
       "      <th>price</th>\n",
       "    </tr>\n",
       "    <tr>\n",
       "      <th>sizeSqFeetMax</th>\n",
       "      <th></th>\n",
       "      <th></th>\n",
       "      <th></th>\n",
       "      <th></th>\n",
       "      <th></th>\n",
       "      <th></th>\n",
       "      <th></th>\n",
       "      <th></th>\n",
       "    </tr>\n",
       "  </thead>\n",
       "  <tbody>\n",
       "    <tr>\n",
       "      <th>16749.0</th>\n",
       "      <td>10/10/2024</td>\n",
       "      <td>8 bedroom house for sale in Winnington Road, H...</td>\n",
       "      <td>This magnificent home, set behind security gat...</td>\n",
       "      <td>House</td>\n",
       "      <td>8.0</td>\n",
       "      <td>8.0</td>\n",
       "      <td>new</td>\n",
       "      <td>£24,950,000</td>\n",
       "    </tr>\n",
       "    <tr>\n",
       "      <th>12960.0</th>\n",
       "      <td>Reduced on 24/10/2024</td>\n",
       "      <td>7 bedroom house for sale in Brick Street, Mayf...</td>\n",
       "      <td>In the heart of exclusive Mayfair, this majest...</td>\n",
       "      <td>House</td>\n",
       "      <td>7.0</td>\n",
       "      <td>7.0</td>\n",
       "      <td>price_reduced</td>\n",
       "      <td>£29,500,000</td>\n",
       "    </tr>\n",
       "    <tr>\n",
       "      <th>6952.0</th>\n",
       "      <td>Reduced on 22/02/2024</td>\n",
       "      <td>6 bedroom terraced house for sale in Chester S...</td>\n",
       "      <td>A freehold home that gives you everything you ...</td>\n",
       "      <td>Terraced</td>\n",
       "      <td>6.0</td>\n",
       "      <td>6.0</td>\n",
       "      <td>price_reduced</td>\n",
       "      <td>£25,000,000</td>\n",
       "    </tr>\n",
       "    <tr>\n",
       "      <th>16749.0</th>\n",
       "      <td>08/04/2024</td>\n",
       "      <td>6 bedroom detached house for sale in Winningto...</td>\n",
       "      <td>A magnificent bespoke residence set behind sec...</td>\n",
       "      <td>Detached</td>\n",
       "      <td>6.0</td>\n",
       "      <td>6.0</td>\n",
       "      <td>new</td>\n",
       "      <td>£24,950,000</td>\n",
       "    </tr>\n",
       "    <tr>\n",
       "      <th>10241.0</th>\n",
       "      <td>Reduced on 11/07/2023</td>\n",
       "      <td>8 bedroom detached house for sale in St. John'...</td>\n",
       "      <td>With its village like ambiance, elegant regenc...</td>\n",
       "      <td>Detached</td>\n",
       "      <td>8.0</td>\n",
       "      <td>10.0</td>\n",
       "      <td>price_reduced</td>\n",
       "      <td>£24,950,000</td>\n",
       "    </tr>\n",
       "  </tbody>\n",
       "</table>\n",
       "</div>"
      ],
      "text/plain": [
       "                             addedOn  \\\n",
       "sizeSqFeetMax                          \n",
       "16749.0                   10/10/2024   \n",
       "12960.0        Reduced on 24/10/2024   \n",
       "6952.0         Reduced on 22/02/2024   \n",
       "16749.0                   08/04/2024   \n",
       "10241.0        Reduced on 11/07/2023   \n",
       "\n",
       "                                                           title  \\\n",
       "sizeSqFeetMax                                                      \n",
       "16749.0        8 bedroom house for sale in Winnington Road, H...   \n",
       "12960.0        7 bedroom house for sale in Brick Street, Mayf...   \n",
       "6952.0         6 bedroom terraced house for sale in Chester S...   \n",
       "16749.0        6 bedroom detached house for sale in Winningto...   \n",
       "10241.0        8 bedroom detached house for sale in St. John'...   \n",
       "\n",
       "                                                 descriptionHtml propertyType  \\\n",
       "sizeSqFeetMax                                                                   \n",
       "16749.0        This magnificent home, set behind security gat...        House   \n",
       "12960.0        In the heart of exclusive Mayfair, this majest...        House   \n",
       "6952.0         A freehold home that gives you everything you ...     Terraced   \n",
       "16749.0        A magnificent bespoke residence set behind sec...     Detached   \n",
       "10241.0        With its village like ambiance, elegant regenc...     Detached   \n",
       "\n",
       "               bedrooms  bathrooms listingUpdateReason        price  \n",
       "sizeSqFeetMax                                                        \n",
       "16749.0             8.0        8.0                 new  £24,950,000  \n",
       "12960.0             7.0        7.0       price_reduced  £29,500,000  \n",
       "6952.0              6.0        6.0       price_reduced  £25,000,000  \n",
       "16749.0             6.0        6.0                 new  £24,950,000  \n",
       "10241.0             8.0       10.0       price_reduced  £24,950,000  "
      ]
     },
     "execution_count": 105,
     "metadata": {},
     "output_type": "execute_result"
    }
   ],
   "source": [
    "df = pd.read_csv('23_real_estate.csv', index_col='sizeSqFeetMax')\n",
    "df.head()"
   ]
  },
  {
   "cell_type": "code",
   "execution_count": 106,
   "id": "d8c53fef-e844-4e8f-811d-72e069dc77a7",
   "metadata": {},
   "outputs": [
    {
     "name": "stdout",
     "output_type": "stream",
     "text": [
      "<class 'pandas.core.series.Series'>\n",
      "<class 'numpy.ndarray'>\n"
     ]
    }
   ],
   "source": [
    "print(type(df.title))\n",
    "print(type(df.title.values))"
   ]
  },
  {
   "cell_type": "code",
   "execution_count": 107,
   "id": "65173cb4-8a09-4b9d-93ad-921eb1cea0c1",
   "metadata": {},
   "outputs": [],
   "source": [
    "df = pd.read_csv('23_real_estate.csv', index_col='sizeSqFeetMax')"
   ]
  },
  {
   "cell_type": "code",
   "execution_count": 108,
   "id": "b762db60-b5ba-44f7-85a4-c150dacf126f",
   "metadata": {},
   "outputs": [],
   "source": [
    "df = pd.read_csv('23_real_estate.csv')\n",
    "df.set_index('sizeSqFeetMax', inplace=True)"
   ]
  },
  {
   "cell_type": "code",
   "execution_count": 109,
   "id": "928833de-ba2b-4e6b-b24b-dbaddef9d121",
   "metadata": {},
   "outputs": [
    {
     "data": {
      "text/plain": [
       "Index(['addedOn', 'title', 'descriptionHtml', 'propertyType', 'bedrooms',\n",
       "       'bathrooms', 'listingUpdateReason', 'price'],\n",
       "      dtype='object')"
      ]
     },
     "execution_count": 109,
     "metadata": {},
     "output_type": "execute_result"
    }
   ],
   "source": [
    "df.columns"
   ]
  },
  {
   "cell_type": "code",
   "execution_count": 110,
   "id": "950e91bc-d2ba-41e4-91bf-5138b189e47e",
   "metadata": {},
   "outputs": [
    {
     "data": {
      "text/plain": [
       "array(['addedOn', 'title', 'descriptionHtml', 'propertyType', 'bedrooms',\n",
       "       'bathrooms', 'listingUpdateReason', 'price'], dtype=object)"
      ]
     },
     "execution_count": 110,
     "metadata": {},
     "output_type": "execute_result"
    }
   ],
   "source": [
    "df.columns.values"
   ]
  },
  {
   "cell_type": "markdown",
   "id": "404ebfcc-ffc1-4462-8ecc-3b9992ce7f73",
   "metadata": {},
   "source": [
    "## Cleaning"
   ]
  },
  {
   "cell_type": "code",
   "execution_count": 111,
   "id": "06d6e6ac-a7ce-4726-8ad7-0212788bfda1",
   "metadata": {},
   "outputs": [
    {
     "data": {
      "text/html": [
       "<div>\n",
       "<style scoped>\n",
       "    .dataframe tbody tr th:only-of-type {\n",
       "        vertical-align: middle;\n",
       "    }\n",
       "\n",
       "    .dataframe tbody tr th {\n",
       "        vertical-align: top;\n",
       "    }\n",
       "\n",
       "    .dataframe thead th {\n",
       "        text-align: right;\n",
       "    }\n",
       "</style>\n",
       "<table border=\"1\" class=\"dataframe\">\n",
       "  <thead>\n",
       "    <tr style=\"text-align: right;\">\n",
       "      <th></th>\n",
       "      <th>addedOn</th>\n",
       "      <th>title</th>\n",
       "      <th>descriptionHtml</th>\n",
       "      <th>propertyType</th>\n",
       "      <th>sizeSqFeetMax</th>\n",
       "      <th>bedrooms</th>\n",
       "      <th>bathrooms</th>\n",
       "      <th>listingUpdateReason</th>\n",
       "      <th>price</th>\n",
       "    </tr>\n",
       "  </thead>\n",
       "  <tbody>\n",
       "    <tr>\n",
       "      <th>0</th>\n",
       "      <td>10/10/2024</td>\n",
       "      <td>8 bedroom house for sale in Winnington Road, H...</td>\n",
       "      <td>This magnificent home, set behind security gat...</td>\n",
       "      <td>House</td>\n",
       "      <td>16749.0</td>\n",
       "      <td>8.0</td>\n",
       "      <td>8.0</td>\n",
       "      <td>new</td>\n",
       "      <td>£24,950,000</td>\n",
       "    </tr>\n",
       "    <tr>\n",
       "      <th>1</th>\n",
       "      <td>Reduced on 24/10/2024</td>\n",
       "      <td>7 bedroom house for sale in Brick Street, Mayf...</td>\n",
       "      <td>In the heart of exclusive Mayfair, this majest...</td>\n",
       "      <td>House</td>\n",
       "      <td>12960.0</td>\n",
       "      <td>7.0</td>\n",
       "      <td>7.0</td>\n",
       "      <td>price_reduced</td>\n",
       "      <td>£29,500,000</td>\n",
       "    </tr>\n",
       "    <tr>\n",
       "      <th>2</th>\n",
       "      <td>Reduced on 22/02/2024</td>\n",
       "      <td>6 bedroom terraced house for sale in Chester S...</td>\n",
       "      <td>A freehold home that gives you everything you ...</td>\n",
       "      <td>Terraced</td>\n",
       "      <td>6952.0</td>\n",
       "      <td>6.0</td>\n",
       "      <td>6.0</td>\n",
       "      <td>price_reduced</td>\n",
       "      <td>£25,000,000</td>\n",
       "    </tr>\n",
       "    <tr>\n",
       "      <th>3</th>\n",
       "      <td>08/04/2024</td>\n",
       "      <td>6 bedroom detached house for sale in Winningto...</td>\n",
       "      <td>A magnificent bespoke residence set behind sec...</td>\n",
       "      <td>Detached</td>\n",
       "      <td>16749.0</td>\n",
       "      <td>6.0</td>\n",
       "      <td>6.0</td>\n",
       "      <td>new</td>\n",
       "      <td>£24,950,000</td>\n",
       "    </tr>\n",
       "    <tr>\n",
       "      <th>4</th>\n",
       "      <td>Reduced on 11/07/2023</td>\n",
       "      <td>8 bedroom detached house for sale in St. John'...</td>\n",
       "      <td>With its village like ambiance, elegant regenc...</td>\n",
       "      <td>Detached</td>\n",
       "      <td>10241.0</td>\n",
       "      <td>8.0</td>\n",
       "      <td>10.0</td>\n",
       "      <td>price_reduced</td>\n",
       "      <td>£24,950,000</td>\n",
       "    </tr>\n",
       "  </tbody>\n",
       "</table>\n",
       "</div>"
      ],
      "text/plain": [
       "                 addedOn                                              title  \\\n",
       "0             10/10/2024  8 bedroom house for sale in Winnington Road, H...   \n",
       "1  Reduced on 24/10/2024  7 bedroom house for sale in Brick Street, Mayf...   \n",
       "2  Reduced on 22/02/2024  6 bedroom terraced house for sale in Chester S...   \n",
       "3             08/04/2024  6 bedroom detached house for sale in Winningto...   \n",
       "4  Reduced on 11/07/2023  8 bedroom detached house for sale in St. John'...   \n",
       "\n",
       "                                     descriptionHtml propertyType  \\\n",
       "0  This magnificent home, set behind security gat...        House   \n",
       "1  In the heart of exclusive Mayfair, this majest...        House   \n",
       "2  A freehold home that gives you everything you ...     Terraced   \n",
       "3  A magnificent bespoke residence set behind sec...     Detached   \n",
       "4  With its village like ambiance, elegant regenc...     Detached   \n",
       "\n",
       "   sizeSqFeetMax  bedrooms  bathrooms listingUpdateReason        price  \n",
       "0        16749.0       8.0        8.0                 new  £24,950,000  \n",
       "1        12960.0       7.0        7.0       price_reduced  £29,500,000  \n",
       "2         6952.0       6.0        6.0       price_reduced  £25,000,000  \n",
       "3        16749.0       6.0        6.0                 new  £24,950,000  \n",
       "4        10241.0       8.0       10.0       price_reduced  £24,950,000  "
      ]
     },
     "execution_count": 111,
     "metadata": {},
     "output_type": "execute_result"
    }
   ],
   "source": [
    "df = pd.read_csv('23_real_estate.csv')\n",
    "df.head()"
   ]
  },
  {
   "cell_type": "code",
   "execution_count": 112,
   "id": "25c5b4b4-0b41-4b14-bd92-905952f7189e",
   "metadata": {},
   "outputs": [
    {
     "data": {
      "text/html": [
       "<div>\n",
       "<style scoped>\n",
       "    .dataframe tbody tr th:only-of-type {\n",
       "        vertical-align: middle;\n",
       "    }\n",
       "\n",
       "    .dataframe tbody tr th {\n",
       "        vertical-align: top;\n",
       "    }\n",
       "\n",
       "    .dataframe thead th {\n",
       "        text-align: right;\n",
       "    }\n",
       "</style>\n",
       "<table border=\"1\" class=\"dataframe\">\n",
       "  <thead>\n",
       "    <tr style=\"text-align: right;\">\n",
       "      <th></th>\n",
       "      <th>addedOn</th>\n",
       "      <th>title</th>\n",
       "      <th>descriptionHtml</th>\n",
       "      <th>propertyType</th>\n",
       "      <th>sizeSqFeetMax</th>\n",
       "      <th>bedrooms</th>\n",
       "      <th>bathrooms</th>\n",
       "      <th>listingUpdateReason</th>\n",
       "      <th>price</th>\n",
       "    </tr>\n",
       "  </thead>\n",
       "  <tbody>\n",
       "    <tr>\n",
       "      <th>882</th>\n",
       "      <td>NaN</td>\n",
       "      <td>Plot for sale in 10-14 Hollybush Gardens, E2 6...</td>\n",
       "      <td>• Bethnal Green is a diverse and vibrant area ...</td>\n",
       "      <td>Plot</td>\n",
       "      <td>NaN</td>\n",
       "      <td>NaN</td>\n",
       "      <td>NaN</td>\n",
       "      <td>new</td>\n",
       "      <td>POA</td>\n",
       "    </tr>\n",
       "    <tr>\n",
       "      <th>715</th>\n",
       "      <td>17/09/2024</td>\n",
       "      <td>1 bedroom apartment for sale in Inverness Terr...</td>\n",
       "      <td>Located in W2 - with close proximity to Kensin...</td>\n",
       "      <td>Apartment</td>\n",
       "      <td>696.0</td>\n",
       "      <td>1.0</td>\n",
       "      <td>1.0</td>\n",
       "      <td>new</td>\n",
       "      <td>£1,050,000</td>\n",
       "    </tr>\n",
       "    <tr>\n",
       "      <th>465</th>\n",
       "      <td>08/10/2024</td>\n",
       "      <td>2 bedroom maisonette for sale in Great Percy S...</td>\n",
       "      <td>A superb 2 bedroom maisonette offering stylish...</td>\n",
       "      <td>Maisonette</td>\n",
       "      <td>736.0</td>\n",
       "      <td>2.0</td>\n",
       "      <td>1.0</td>\n",
       "      <td>new</td>\n",
       "      <td>£1,150,000</td>\n",
       "    </tr>\n",
       "    <tr>\n",
       "      <th>940</th>\n",
       "      <td>12/08/2024</td>\n",
       "      <td>5 bedroom detached house for sale in Winchmore...</td>\n",
       "      <td>Stunning 5 Bedroom Detached House for Sale on ...</td>\n",
       "      <td>Detached</td>\n",
       "      <td>2565.0</td>\n",
       "      <td>5.0</td>\n",
       "      <td>3.0</td>\n",
       "      <td>new</td>\n",
       "      <td>£1,200,000</td>\n",
       "    </tr>\n",
       "    <tr>\n",
       "      <th>995</th>\n",
       "      <td>Reduced on 03/07/2023</td>\n",
       "      <td>2 bedroom flat for sale in Warwick Square, LON...</td>\n",
       "      <td>A sensational 2 bedroom garden apartment that ...</td>\n",
       "      <td>Flat</td>\n",
       "      <td>1432.0</td>\n",
       "      <td>2.0</td>\n",
       "      <td>2.0</td>\n",
       "      <td>price_reduced</td>\n",
       "      <td>£1,600,000</td>\n",
       "    </tr>\n",
       "  </tbody>\n",
       "</table>\n",
       "</div>"
      ],
      "text/plain": [
       "                   addedOn                                              title  \\\n",
       "882                    NaN  Plot for sale in 10-14 Hollybush Gardens, E2 6...   \n",
       "715             17/09/2024  1 bedroom apartment for sale in Inverness Terr...   \n",
       "465             08/10/2024  2 bedroom maisonette for sale in Great Percy S...   \n",
       "940             12/08/2024  5 bedroom detached house for sale in Winchmore...   \n",
       "995  Reduced on 03/07/2023  2 bedroom flat for sale in Warwick Square, LON...   \n",
       "\n",
       "                                       descriptionHtml propertyType  \\\n",
       "882  • Bethnal Green is a diverse and vibrant area ...         Plot   \n",
       "715  Located in W2 - with close proximity to Kensin...    Apartment   \n",
       "465  A superb 2 bedroom maisonette offering stylish...   Maisonette   \n",
       "940  Stunning 5 Bedroom Detached House for Sale on ...     Detached   \n",
       "995  A sensational 2 bedroom garden apartment that ...         Flat   \n",
       "\n",
       "     sizeSqFeetMax  bedrooms  bathrooms listingUpdateReason       price  \n",
       "882            NaN       NaN        NaN                 new         POA  \n",
       "715          696.0       1.0        1.0                 new  £1,050,000  \n",
       "465          736.0       2.0        1.0                 new  £1,150,000  \n",
       "940         2565.0       5.0        3.0                 new  £1,200,000  \n",
       "995         1432.0       2.0        2.0       price_reduced  £1,600,000  "
      ]
     },
     "execution_count": 112,
     "metadata": {},
     "output_type": "execute_result"
    }
   ],
   "source": [
    "df.sort_values(by='price', inplace=True, ascending=True)\n",
    "df.head()"
   ]
  },
  {
   "cell_type": "code",
   "execution_count": 113,
   "id": "3fbe3ccb-7152-410f-98a3-a3c300582424",
   "metadata": {},
   "outputs": [
    {
     "data": {
      "text/html": [
       "<div>\n",
       "<style scoped>\n",
       "    .dataframe tbody tr th:only-of-type {\n",
       "        vertical-align: middle;\n",
       "    }\n",
       "\n",
       "    .dataframe tbody tr th {\n",
       "        vertical-align: top;\n",
       "    }\n",
       "\n",
       "    .dataframe thead th {\n",
       "        text-align: right;\n",
       "    }\n",
       "</style>\n",
       "<table border=\"1\" class=\"dataframe\">\n",
       "  <thead>\n",
       "    <tr style=\"text-align: right;\">\n",
       "      <th></th>\n",
       "      <th>addedOn</th>\n",
       "      <th>title</th>\n",
       "      <th>descriptionHtml</th>\n",
       "      <th>propertyType</th>\n",
       "      <th>sizeSqFeetMax</th>\n",
       "      <th>bedrooms</th>\n",
       "      <th>bathrooms</th>\n",
       "      <th>listingUpdateReason</th>\n",
       "      <th>price</th>\n",
       "    </tr>\n",
       "  </thead>\n",
       "  <tbody>\n",
       "    <tr>\n",
       "      <th>448</th>\n",
       "      <td>23/05/2024</td>\n",
       "      <td>5 bedroom house for sale in Chester Terrace, R...</td>\n",
       "      <td>There are so many elements that make this exce...</td>\n",
       "      <td>House</td>\n",
       "      <td>4185.0</td>\n",
       "      <td>5.0</td>\n",
       "      <td>4.0</td>\n",
       "      <td>new</td>\n",
       "      <td>£9,950,000</td>\n",
       "    </tr>\n",
       "    <tr>\n",
       "      <th>459</th>\n",
       "      <td>Reduced on 17/07/2024</td>\n",
       "      <td>12 bedroom house for sale in Queen's Gate Plac...</td>\n",
       "      <td>A large, south facing and very elegant Victori...</td>\n",
       "      <td>House</td>\n",
       "      <td>8791.0</td>\n",
       "      <td>12.0</td>\n",
       "      <td>8.0</td>\n",
       "      <td>price_reduced</td>\n",
       "      <td>£9,975,000</td>\n",
       "    </tr>\n",
       "    <tr>\n",
       "      <th>461</th>\n",
       "      <td>18/04/2024</td>\n",
       "      <td>6 bedroom detached house for sale in Lindfield...</td>\n",
       "      <td>An exceptional 5 to 6 bedroom detached family ...</td>\n",
       "      <td>Detached</td>\n",
       "      <td>7288.0</td>\n",
       "      <td>6.0</td>\n",
       "      <td>6.0</td>\n",
       "      <td>new</td>\n",
       "      <td>£9,995,000</td>\n",
       "    </tr>\n",
       "    <tr>\n",
       "      <th>460</th>\n",
       "      <td>21/08/2023</td>\n",
       "      <td>3 bedroom duplex for sale in Lowndes Square, L...</td>\n",
       "      <td>This stunning maisonette presents a rare oppor...</td>\n",
       "      <td>Duplex</td>\n",
       "      <td>4000.0</td>\n",
       "      <td>3.0</td>\n",
       "      <td>4.0</td>\n",
       "      <td>new</td>\n",
       "      <td>£9,995,000</td>\n",
       "    </tr>\n",
       "    <tr>\n",
       "      <th>970</th>\n",
       "      <td>01/11/2024</td>\n",
       "      <td>2 bedroom flat for sale in Brailsford Road, SW2</td>\n",
       "      <td>Keating Estates are proud to present to market...</td>\n",
       "      <td>Flat</td>\n",
       "      <td>1017.0</td>\n",
       "      <td>2.0</td>\n",
       "      <td>2.0</td>\n",
       "      <td>new</td>\n",
       "      <td>£900,000</td>\n",
       "    </tr>\n",
       "  </tbody>\n",
       "</table>\n",
       "</div>"
      ],
      "text/plain": [
       "                   addedOn                                              title  \\\n",
       "448             23/05/2024  5 bedroom house for sale in Chester Terrace, R...   \n",
       "459  Reduced on 17/07/2024  12 bedroom house for sale in Queen's Gate Plac...   \n",
       "461             18/04/2024  6 bedroom detached house for sale in Lindfield...   \n",
       "460             21/08/2023  3 bedroom duplex for sale in Lowndes Square, L...   \n",
       "970             01/11/2024    2 bedroom flat for sale in Brailsford Road, SW2   \n",
       "\n",
       "                                       descriptionHtml propertyType  \\\n",
       "448  There are so many elements that make this exce...        House   \n",
       "459  A large, south facing and very elegant Victori...        House   \n",
       "461  An exceptional 5 to 6 bedroom detached family ...     Detached   \n",
       "460  This stunning maisonette presents a rare oppor...       Duplex   \n",
       "970  Keating Estates are proud to present to market...         Flat   \n",
       "\n",
       "     sizeSqFeetMax  bedrooms  bathrooms listingUpdateReason       price  \n",
       "448         4185.0       5.0        4.0                 new  £9,950,000  \n",
       "459         8791.0      12.0        8.0       price_reduced  £9,975,000  \n",
       "461         7288.0       6.0        6.0                 new  £9,995,000  \n",
       "460         4000.0       3.0        4.0                 new  £9,995,000  \n",
       "970         1017.0       2.0        2.0                 new    £900,000  "
      ]
     },
     "execution_count": 113,
     "metadata": {},
     "output_type": "execute_result"
    }
   ],
   "source": [
    "df.tail()"
   ]
  },
  {
   "cell_type": "code",
   "execution_count": 114,
   "id": "0b0f02f5-b8e0-4c4b-aaac-581c378c9e8c",
   "metadata": {},
   "outputs": [],
   "source": [
    "import numpy as np\n",
    "import pandas as pd \n",
    "\n",
    "df = pd.read_csv('23_real_estate.csv')\n",
    "\n",
    "def price_cleaner(price):\n",
    "    price = price.replace('£', '').replace(',', '')\n",
    "    try:\n",
    "        return int(price)\n",
    "    except:\n",
    "        print(f'Could not process {price}')\n",
    "        return np.nan"
   ]
  },
  {
   "cell_type": "code",
   "execution_count": 115,
   "id": "73801e64-9340-4703-93d9-cb0e3eb315ed",
   "metadata": {},
   "outputs": [
    {
     "name": "stdout",
     "output_type": "stream",
     "text": [
      "Could not process POA\n"
     ]
    },
    {
     "data": {
      "text/html": [
       "<div>\n",
       "<style scoped>\n",
       "    .dataframe tbody tr th:only-of-type {\n",
       "        vertical-align: middle;\n",
       "    }\n",
       "\n",
       "    .dataframe tbody tr th {\n",
       "        vertical-align: top;\n",
       "    }\n",
       "\n",
       "    .dataframe thead th {\n",
       "        text-align: right;\n",
       "    }\n",
       "</style>\n",
       "<table border=\"1\" class=\"dataframe\">\n",
       "  <thead>\n",
       "    <tr style=\"text-align: right;\">\n",
       "      <th></th>\n",
       "      <th>addedOn</th>\n",
       "      <th>title</th>\n",
       "      <th>descriptionHtml</th>\n",
       "      <th>propertyType</th>\n",
       "      <th>sizeSqFeetMax</th>\n",
       "      <th>bedrooms</th>\n",
       "      <th>bathrooms</th>\n",
       "      <th>listingUpdateReason</th>\n",
       "      <th>price</th>\n",
       "    </tr>\n",
       "  </thead>\n",
       "  <tbody>\n",
       "    <tr>\n",
       "      <th>74</th>\n",
       "      <td>Reduced on 26/06/2024</td>\n",
       "      <td>1 bedroom apartment for sale in Rich Street, L...</td>\n",
       "      <td>GARDEN FLAT...\\r&lt;br /&gt;CHAIN FREE - Alphabet Ci...</td>\n",
       "      <td>Apartment</td>\n",
       "      <td>NaN</td>\n",
       "      <td>1.0</td>\n",
       "      <td>1.0</td>\n",
       "      <td>price_reduced</td>\n",
       "      <td>315000.0</td>\n",
       "    </tr>\n",
       "    <tr>\n",
       "      <th>484</th>\n",
       "      <td>Reduced on 12/10/2024</td>\n",
       "      <td>1 bedroom apartment for sale in Ruckholt Road,...</td>\n",
       "      <td>***GUIDE PRICE £325,000 - £350,000***&lt;br /&gt;&lt;br...</td>\n",
       "      <td>Apartment</td>\n",
       "      <td>NaN</td>\n",
       "      <td>1.0</td>\n",
       "      <td>1.0</td>\n",
       "      <td>price_reduced</td>\n",
       "      <td>325000.0</td>\n",
       "    </tr>\n",
       "    <tr>\n",
       "      <th>850</th>\n",
       "      <td>Reduced on 01/08/2024</td>\n",
       "      <td>3 bedroom flat for sale in The Grange, East Fi...</td>\n",
       "      <td>&lt;p&gt;We offer for sale a spacious three bedroom ...</td>\n",
       "      <td>Flat</td>\n",
       "      <td>NaN</td>\n",
       "      <td>3.0</td>\n",
       "      <td>1.0</td>\n",
       "      <td>price_reduced</td>\n",
       "      <td>385000.0</td>\n",
       "    </tr>\n",
       "    <tr>\n",
       "      <th>241</th>\n",
       "      <td>Reduced today</td>\n",
       "      <td>2 bedroom apartment for sale in Forge Square, ...</td>\n",
       "      <td>Well presented, 2 bedroom, split level apartme...</td>\n",
       "      <td>Apartment</td>\n",
       "      <td>NaN</td>\n",
       "      <td>2.0</td>\n",
       "      <td>1.0</td>\n",
       "      <td>price_reduced</td>\n",
       "      <td>400000.0</td>\n",
       "    </tr>\n",
       "    <tr>\n",
       "      <th>753</th>\n",
       "      <td>04/11/2024</td>\n",
       "      <td>2 bedroom flat for sale in Wastdale Road, Fore...</td>\n",
       "      <td>A well presented two bedroom ground floor flat...</td>\n",
       "      <td>Flat</td>\n",
       "      <td>NaN</td>\n",
       "      <td>2.0</td>\n",
       "      <td>1.0</td>\n",
       "      <td>new</td>\n",
       "      <td>425000.0</td>\n",
       "    </tr>\n",
       "  </tbody>\n",
       "</table>\n",
       "</div>"
      ],
      "text/plain": [
       "                   addedOn                                              title  \\\n",
       "74   Reduced on 26/06/2024  1 bedroom apartment for sale in Rich Street, L...   \n",
       "484  Reduced on 12/10/2024  1 bedroom apartment for sale in Ruckholt Road,...   \n",
       "850  Reduced on 01/08/2024  3 bedroom flat for sale in The Grange, East Fi...   \n",
       "241          Reduced today  2 bedroom apartment for sale in Forge Square, ...   \n",
       "753             04/11/2024  2 bedroom flat for sale in Wastdale Road, Fore...   \n",
       "\n",
       "                                       descriptionHtml propertyType  \\\n",
       "74   GARDEN FLAT...\\r<br />CHAIN FREE - Alphabet Ci...    Apartment   \n",
       "484  ***GUIDE PRICE £325,000 - £350,000***<br /><br...    Apartment   \n",
       "850  <p>We offer for sale a spacious three bedroom ...         Flat   \n",
       "241  Well presented, 2 bedroom, split level apartme...    Apartment   \n",
       "753  A well presented two bedroom ground floor flat...         Flat   \n",
       "\n",
       "     sizeSqFeetMax  bedrooms  bathrooms listingUpdateReason     price  \n",
       "74             NaN       1.0        1.0       price_reduced  315000.0  \n",
       "484            NaN       1.0        1.0       price_reduced  325000.0  \n",
       "850            NaN       3.0        1.0       price_reduced  385000.0  \n",
       "241            NaN       2.0        1.0       price_reduced  400000.0  \n",
       "753            NaN       2.0        1.0                 new  425000.0  "
      ]
     },
     "execution_count": 115,
     "metadata": {},
     "output_type": "execute_result"
    }
   ],
   "source": [
    "df.price = df.price.apply(price_cleaner)\n",
    "df.sort_values(by='price', inplace=True, ascending=True)\n",
    "df.head()"
   ]
  },
  {
   "cell_type": "code",
   "execution_count": 54,
   "id": "2511742a-7676-4bff-bf31-f810bcf730bf",
   "metadata": {},
   "outputs": [
    {
     "name": "stdout",
     "output_type": "stream",
     "text": [
      "\n",
      "\n",
      "<br />All viewing strictly by appointment with Alphabet City  ,of postcode miles)Ground Rent £250 PAoor Area - 53.2 sqmrden. Close to both Westferry DLR and Canary Wharf, the apartment has been upgraded. It is well proportioned offering a spacious 'eat in' kitchen-diner; a reception with a westerly facing balcony leading to a patio, perfect for a well-deserved glass of wine after work; a spacious bedroom with fitted wardrobes; and a contemporary bathroom. In addition, the development is gated and the apartment has an allocated parking space. Close proximity to the cinema, gyms, restaurants and bars make this a highly desirable home.\n",
      "\n",
      "\n",
      "***GUIDE PRICE £325,000 - £350,000***<br /><br />Stunning Modern Ground Floor Apartment moments from Leyton Central Line Station and a short walk from Leyton High Road shops. This beautifully presented property boasts one double bedroom, good size open plan receptio/kitchenn, and a modern bathroom, perfect for a professional couple or individual. The apartment is bright, spacious, and stylish, offering a homely and inviting atmosphere. The secure and well-maintained building provides a sophisticated living space for its residents. <br /><br />Enjoy the convenience of a private patio, ideal for relaxing or entertaining guests. With a rental yield of 4-5.9%, this property offers a great investment opportunity in a sought-after location. Don't miss the chance to own this contemporary urban retreat in a prime London setting. Contact us today to arrange a viewing and make this stunning apartment your new home.\n",
      "\n",
      "\n",
      "<p>We offer for sale a spacious three bedroom purpose built flat, situated on the third floor of this popular ex Local Authority block. Conveniently located, just off Oak Lane, the property is close to bus routes and local shops on the High Road, and within one mile of East Finchley tube (Zone 3). The property is well kept throughout, bright and airy, and offers great living space, benefitting from double glazed windows, loft access and large Terrace, with views over the rooftops towards Tally Ho Corner.</p><br /><br />\n",
      "\n",
      "\n",
      "To check broadband and mobile phone coverage please visit Ofcom here ofcom.org.uk/phones-telecoms-and-internet/advice-for-consumers/advice/ofcom-checkerComprising a luxury, open plan kitchen/ living room and guest cloakroom on the ground floor, followed by two bedrooms and family bathroom set on the second floor. Close to Mudchute DLR, bus routes to Canary Wharf and the Thames River Bus service.<br /><br /><br />•\tTenure: Leasehold<br />•\tLength of lease: approx. 112 years<br />•\tAnnual ground rent: £0<br />•\tGround Rent review period: N/A <br />•\tAnnual service charge amount: £1,200<br />•\tService charge review period: Annually<br />•\tCouncil: Tower Hamlets<br />•\tCouncil Tax Band: E\n",
      "\n",
      "\n",
      "A well presented two bedroom ground floor flat with a private garden is located close to Forest Hill and Honor Oak stations.<br /><br />Wastdale Road is located between both Forest Hill and Honor Oak Park stations allowing quick and easy access into central London via mainline services as well as London Overground services. Close proximity to Forest Hill High Street and Honor Oak Parade as well as local schools.<br /><br />\n",
      "\n",
      "\n",
      "A superb, newly refurbished bright one bedroom apartment on the raised ground floor of this attractive converted period house. The property has been interior designed and benefits from wonderful high ceilings throughout, large windows in the living room and bedroom and wood flooring. The spacious accommodation comprises: entrance hall with storage cupboards, beautiful reception room with dining area and feature wall with fireplace, well laid-out kitchen and double bedroom to the rear with fitted wardrobes. Located close to transport and local amenities. Leasehold 125 years from February 2018 - 118 years remaining. Service Charge: TBA. EPC = D. Council Tax Band =C.  Service Charge: £2097 per annum. Ground rent £10 per annum.\n",
      "\n",
      "\n",
      "A two double bedroom apartment in this prestigious gated development with 24 hours concierge. The property has a private balcony over looking the internal courtyard, allocated parking and is offered with no onward chain.<br /><br />Bromyard Avenue is on the borders of Shepherds Bush and just over half a mile from East Acton and Acton Central stations providing excellent access into town.<br /><br />\n",
      "\n",
      "\n",
      "<br />Get an Offer makes no guarantees as to the accuracy within these property details.have not been tested at the time of our instructions.uced by a third party so any information supplied should be checked by yourself for any inaccuracies.\n",
      "\n",
      "\n",
      "THREE BEDROOM HOUSE WITH A BEAUTIFUL GREEN OUTLOOK AND GARAGE:  Located on this quiet residential road overlooking West Ham Park and in the catchment area for several local schools, is this sizeable three bedroom house that would make an excellent family home. <br /><br />The Property <br />This home is boasts 930  square feet of well proportioned living space, and is available chain free. There is  a delightful, bright reception room and eat-in kitchen. There is a sizeable rear garden leading off from the kitchen, making this layout ideal for entertaining. Further benefits include residents parking, a downstairs WC and abundant storage. <br /><br />The Location <br />Aileen Walk  is a residential road to the south of E15 and located between the green spaces of Stratford and West Ham Park. It is within easy reach of several local schools, including the highly sought after School 21, and Park Primary School, making this a very popular location for families. Local transport links can be found at the extensively connected Stratford Station, as well Maryland & the Elizabeth Line.<br /><br />Our View <br />This is a rare opportunity to acquire an extensive property, at a very competitive price point. The house is offered in good decorative order, yet still has the potential for a buyer to add their own identity and flair. A family would benefit from the extensive storage, favourable layout and excellent room sizes.\n",
      "\n",
      "\n",
      "**CHAIN FREE** This delightful two bedroom flat boasts a spacious 1,012 sq ft of living space, perfect for those seeking a flat that they can update and modernise to their own tastes. Situated in Edinburgh House a purpose-built development, this property is offered with a share of freehold.<br /><br />The property features a large reception room, ideal for relaxing or entertaining guests. Separate kitchen. A modern shower room with wc and separate wc, two double bedrooms offering ample space for a small family, guests, or even a home office. A lift within the building adds to the convenience. Visitor parking and a garage, offering additional storage space or secure parking for your vehicle. <br /><br />Reconfiguring this two-bedroom flat into a three-bedroom flat is a feasible option.<br /><br />Tenterden Grove ensures easy access to local amenities, transport links, and green spaces, making it a desirable place to call home.<br /><br />Contact Squires Estates today to arrange a viewing and take the first step towards making this flat your new home.<br /><br />Share of Freehold with 944 years remaining<br />Ground Rent: n/a<br />Service Charge: Approx. £3000 per annum<br /><br />\n"
     ]
    }
   ],
   "source": [
    "for description in df.head(10).descriptionHtml:\n",
    "    print('\\n')\n",
    "    print(description)"
   ]
  },
  {
   "cell_type": "code",
   "execution_count": 55,
   "id": "50ca7e21-dde8-437d-9488-617f53415a0b",
   "metadata": {},
   "outputs": [],
   "source": [
    "def description_cleaner(description):\n",
    "    return description.replace('<br />', '\\n')\n",
    "\n",
    "df.descriptionHtml = df.descriptionHtml.apply(description_cleaner)\n"
   ]
  },
  {
   "cell_type": "code",
   "execution_count": 56,
   "id": "393e24d2-b476-4457-b7dc-1cba6051e015",
   "metadata": {},
   "outputs": [],
   "source": [
    "df.descriptionHtml = df.descriptionHtml.apply(lambda d: d.replace('<br />', '\\n'))"
   ]
  },
  {
   "cell_type": "code",
   "execution_count": 57,
   "id": "ae62c08d-0ad5-428d-8d7b-2f3f53852d96",
   "metadata": {},
   "outputs": [
    {
     "name": "stdout",
     "output_type": "stream",
     "text": [
      "\n",
      "\n",
      "\n",
      "<b>SUMMARY</b>\n",
      "A superb 1/2 bed ground floor period conversion, with sunny rear farden. located in the heart of Earlsfield.\n",
      "\n",
      "\n",
      "<b>DESCRIPTION</b>\n",
      "A superb 1/2 bedroom ground floor period conversion, with sunny rear garden, located in the heart of Earlsfield.\n",
      "\n",
      "The property benefits from contemporary, stylish decor throughout with wooden flooring and a wealth of character.  Further benefits include a versatile layout, a large kitchen/reception room, good storage and a delightful, shared garden with an open aspect to the south-west and with side access. Furthermore, the property has a share of the freehold.\n",
      "\n",
      "Set in this desirable location, Steerforth Street is a tree-lined residential street moments from Earlsfield mainline station and the popular coffee shops, bars and restaurants of Garratt Lane.\n",
      "\n",
      "Viewing advised.\n",
      "\n",
      "\n",
      "We currently hold lease details as displayed above, should you require further information please contact the branch.  Please note additional fees could be incurred for items such as leasehold packs.\n",
      "\n",
      "\n",
      "\n",
      "1. MONEY LAUNDERING REGULATIONS: Intending purchasers will be asked to produce identification documentation at a later stage and we would ask for your co-operation in order that there will be no delay in agreeing the sale.\n",
      "2. General: While we endeavour to make our sales particulars fair, accurate and reliable, they are only a general guide to the property and, accordingly, if there is any point which is of particular importance to you, please contact the office and we will be pleased to check the position for you, especially if you are contemplating travelling some distance to view the property.\n",
      "3. The measurements indicated are supplied for guidance only and as such must be considered incorrect.\n",
      "4. Services: Please note we have not tested the services or any of the equipment or appliances in this property, accordingly we strongly advise prospective buyers to commission their own survey or service reports before finalising their offer to purchase.\n",
      "5. THESE PARTICULARS ARE ISSUED IN GOOD FAITH BUT DO NOT CONSTITUTE REPRESENTATIONS OF FACT OR FORM PART OF ANY OFFER OR CONTRACT. THE MATTERS REFERRED TO IN THESE PARTICULARS SHOULD BE INDEPENDENTLY VERIFIED BY PROSPECTIVE BUYERS OR TENANTS. NEITHER SEQUENCE (UK) LIMITED NOR ANY OF ITS EMPLOYEES OR AGENTS HAS ANY AUTHORITY TO MAKE OR GIVE ANY REPRESENTATION OR WARRANTY WHATEVER IN RELATION TO THIS PROPERTY.\n",
      "\n",
      "\n",
      "Guide Price  ***£525,000 - £540,000***\n",
      "\n",
      "Welcome to this beautifully designed 2-bedroom flat located in the prestigious Canary Central development. This modern property features two spacious double bedrooms, perfect for comfortable living. The open-plan kitchen and living area are finished to a high standard, providing a stylish and functional space for both relaxation and entertainment. The living area extends seamlessly onto a private balcony, offering a serene outdoor space to unwind and enjoy the views.\n",
      "\n",
      "Residents of this development benefit from a range of exceptional amenities. The communal garden provides a peaceful retreat, while the on-site gym and swimming pool cater to your fitness and leisure needs. Additionally, the dedicated 24-hour concierge service ensures convenience and security round the clock.\n",
      "\n",
      "Conveniently situated, this flat is just 0.9 miles from Canary Wharf Underground Station and a mere 0.4 miles from South Quay DLR Station, offering excellent transport links and easy access to the heart of London.\n",
      "\n",
      "Experience the perfect blend of luxury and convenience in this remarkable Canary Central flat.\n",
      "\n",
      "Selling your property in Turner House? Trying to find your perfect home to buy? Register with <strong>Chestertons Surrey Quays</strong> to get the full picture from the experts in the Millwall market. \n",
      "\n",
      "Our China Desk is here for you, if Chinese is your preferred language, please get in touch via WeChat (<strong>Chestertons-NHsales</strong>)\n",
      "\n",
      "\n",
      "A two double bedroom apartment set within a Grade two listed hospital conversion with a picturesque communal garden. This property has wooden flooring throughout, has high ceilings, a separate kitchen, living room with feature fireplace and space for dining. There is sash windows secondary glazing for increased sound insulation.\n",
      "\n",
      "Located on Bow road this property is opposite Bow Road Station on the District, Hammersmith & city and Circle line. This property is located 200 yards from Tredegar square and its popular local eateries and pubs. Roman road is under half a mile walk with its many, shops and cafes and a Victoria park can be found under a mile away.\n",
      "\n",
      "\n",
      "\n",
      "\n",
      "\n",
      "<b>SUMMARY</b>\n",
      "A well presented two double bedroom, freehold house situated in the sought after Poets area of Wimbledon, being within easy reach of the Town Centre and Mainline Station.\n",
      "\n",
      "\n",
      "<b>DESCRIPTION</b>\n",
      "A well presented two double bedroom freehold house situated in the sought after Poets area of Wimbledon, being within easy reach of the Town Centre and Mainline Station. \n",
      "\n",
      "Comprising a large open plan living/dining room and fully fitted modern kitchen with plenty storage space,  two double bedrooms, both with built in wardrobes and a well presented family bathroom.\n",
      "\n",
      "Situated in a private close, with a pretty front garden and two allocated parking spaces, this would be a fantastic purchase for both first time buyers and rental investors alike.\n",
      "\n",
      "\n",
      "\n",
      "1. MONEY LAUNDERING REGULATIONS: Intending purchasers will be asked to produce identification documentation at a later stage and we would ask for your co-operation in order that there will be no delay in agreeing the sale.\n",
      "2. General: While we endeavour to make our sales particulars fair, accurate and reliable, they are only a general guide to the property and, accordingly, if there is any point which is of particular importance to you, please contact the office and we will be pleased to check the position for you, especially if you are contemplating travelling some distance to view the property.\n",
      "3. The measurements indicated are supplied for guidance only and as such must be considered incorrect.\n",
      "4. Services: Please note we have not tested the services or any of the equipment or appliances in this property, accordingly we strongly advise prospective buyers to commission their own survey or service reports before finalising their offer to purchase.\n",
      "5. THESE PARTICULARS ARE ISSUED IN GOOD FAITH BUT DO NOT CONSTITUTE REPRESENTATIONS OF FACT OR FORM PART OF ANY OFFER OR CONTRACT. THE MATTERS REFERRED TO IN THESE PARTICULARS SHOULD BE INDEPENDENTLY VERIFIED BY PROSPECTIVE BUYERS OR TENANTS. NEITHER SEQUENCE (UK) LIMITED NOR ANY OF ITS EMPLOYEES OR AGENTS HAS ANY AUTHORITY TO MAKE OR GIVE ANY REPRESENTATION OR WARRANTY WHATEVER IN RELATION TO THIS PROPERTY.\n",
      "\n",
      "\n",
      "A semi-detached house set securely behind the main dwelling, close to Highbury Fields, Highbury & Islington station, Upper Street and Angel\n",
      "\n",
      "\n",
      "\n",
      "A tranquil refuge from the hustle and bustle of city life, it boasts lots of natural light, cosy living areas and a fabulous garden, situated a short stroll from the shops, restaurants and bars of Upper Street and only a short walk from Highbury & Islington Underground. \n",
      "\n",
      "Designed by James Gorst Architects, this house is finished to a very high standard, with slate flooring and underfloor heating throughout the property. The accommodation comprises a bespoke handmade kitchen, bright reception room, double bedroom, modern bathroom. The location is set back from the main road in a very secure spot, with the front door opening onto delightful communal gardens, and access through the main house to the main road.\n",
      "\n",
      "\n",
      "\n",
      "\n",
      "<div><strong>*** GUIDE PRICE £550,000 - £600,000 ***</strong></div><div>\n",
      "</div><div>Discover the epitome of modern living with this exceptional two-bedroom, two-bathroom apartment, perfectly situated in the vibrant city of London. Located on the first floor of a bespoke development, this stunning property offers a harmonious blend of elegant design and luxurious finishes.\n",
      "\n",
      "As you step inside, you'll be greeted by the breathtaking herringbone wooden flooring that flows seamlessly throughout the apartment, exuding both warmth and sophistication. The open-plan living area invites you to unwind and entertain, with its chic design and ample natural light streaming through large windows.\n",
      "\n",
      "The high-end kitchen is a culinary masterpiece, featuring exquisite porcelain worktops that effortlessly combine style and functionality. Equipped with top-of-the-range appliances, this kitchen is truly a chef's dream. Whether you're hosting a dinner party or preparing a simple meal, this space will exceed your expectations.\n",
      "\n",
      "The property boasts two generously sized double bedrooms, providing ample space for relaxation. The master bedroom features an en-suite bathroom, complete with a separate shower and a luxurious free-standing bath, setting the perfect ambience for ultimate relaxation and tranquillity.\n",
      "\n",
      "Step outside onto your private balcony, a serene oasis where you can enjoy a morning coffee or unwind in the evenings, taking in the panoramic views of the surrounding cityscape. The balcony offers the perfect outdoor retreat without compromising privacy.\n",
      "\n",
      "Residents of this exclusive development will benefit from additional features, including bike storage facilities, ensuring convenience and security for those who prefer to cycle around the city. With excellent transport links nearby, including walking distance to Deptford High Street, you'll have easy access to everything London has to offer, from world-class shopping destinations to cultural hotspots and renowned restaurants.\n",
      "\n",
      "London living doesn't get much better than this. Immerse yourself in the vibrancy of city life without compromising on comfort and style. Don't miss this opportunity to own a stunning 2-bedroom apartment in one of the most sought-after locations in London. Contact us today to arrange a viewing and secure your piece of luxury in the heart of the capital.</div><div>\n",
      "</div><div>A new 999 999-year lease with no ground rent and service charge is £1,800 - £2,000 approximately a year. The building also comes with a 10-year warranty.</div><div>\n",
      "</div><div><strong>Agents Note</strong></div><div>We may refer you to recommended providers of ancillary services such as Conveyancing, Financial Services, Insurance and Surveying. We may receive a commission payment fee or other benefit (known as a referral fee) for recommending their services. You are not under any obligation to use the services of the recommended provider. The ancillary service provider may be an associated company of Kallars Ltd.</div><div>\n",
      "</div><div><strong>AML Disclaimer</strong></div><div>Please note it is a legal requirement that we require verified ID from purchasers before instructing a sale. Please also note we shall require proof of funds before we instruct the sale, together with your instructed solicitors.</div>\n",
      "\n",
      "\n",
      "This three bedroom end of terrace house would make an ideal family home. The property has a large and welcoming lounge, the bay window is finished with custom built shutters and the room has wooden flooring. The kitchen is bright and modern, it has plenty of work top space and a view of the garden. There is also a shower room on the ground floor. The garden is a combination of tiled patio and space for plants. All bedrooms and family bathroom are on the first floor. The loft has been insulated and it could be converted (STPP). The house has double glazed windows, gas central heating, garage, and a driveway.<p></p><p>Waltham Way is a short walk to Chingford Mount and with easy access to A406, M11, Walthamstow and Tottenham Hale. If you are looking for a move-in ready property, this could be your new home. Please call to book a viewing.</p><p></p><h3>Room sizes:</h3><ul><li><b>Lounge/Dining Area</b>: 28'2 x 10'2 (8.59m x 3.10m)</li><li><b>Kitchen</b>: 12'1 x 8'6 (3.69m x 2.59m)</li><li><b>Bathroom</b>: 6'4 x 5'3 (1.93m x 1.60m)</li><li><b>Bedroom 1</b>: 13'3 x 9'9 (4.04m x 2.97m)</li><li><b>Bedroom 2</b>: 12'2 x 10'0 (3.71m x 3.05m)</li></ul><ul><li><b>Bedroom 3</b>: 7'8 x 6'0 (2.34m x 1.83m)</li><li><b>Bathroom</b>: 8'1 x 5'9 (2.47m x 1.75m)</li><li><b>Driveway</b></li><li><b>Garage</b></li><li><b>Rear Garden</b></li></ul><p> \n",
      "<i>The information provided about this property does not constitute or form part of an offer or contract, nor may it be regarded as representations. All interested parties must verify accuracy and your solicitor must verify tenure/lease information, fixtures & fittings and, where the property has been extended/converted, planning/building regulation consents. All dimensions are approximate and quoted for guidance only as are floor plans which are not to scale and their accuracy cannot be confirmed. Reference to appliances and/or services does not imply that they are necessarily in working order or fit for the purpose.\n",
      " \n",
      "We are pleased to offer our customers a range of additional services to help them with moving home. None of these services are obligatory and you are free to use service providers of your choice. Current regulations require all estate agents to inform their customers of the fees they earn for recommending third party services. If you choose to use a service provider recommended by Douglas Allen, details of all referral fees can be found at the link below. If you decide to use any of our services, please be assured that this will not increase the fees you pay to our service providers, which remain as quoted directly to you.</i></p>\n",
      "\n",
      "\n",
      "This fantastic two bedroom apartment boasts a modern living space with an open-plan reception room and access to a stunning private terrace offering beautiful views over London.\n",
      "\n",
      "Barrier Point is ideally located for enjoyment of the beautiful Thames Barrier Park, the river promenade and the local Royal Docks. Local transport links include Pontoon Dock DLR Station and the North Woolwich ferry crossing. \n",
      "\n",
      "Please use the reference CHPK3247978 when contacting Foxtons.\n",
      "\n",
      "\n",
      "CHAIN FREE – Charming and spacious two-double bedroom split-level period conversion with private roof terrace in the heart of East Dulwich.\n",
      "\n",
      "Boasting over 985 Sq Ft of internal space across the top two floors of this Victorian building – this property has been lovingly maintained by the current owner. There is a sumptuous 22x12 ft open-plan kitchen-reception leading out through sliding doors onto a private terrace overlooking the neighbouring gardens. On the first floor – there are two comfortable double bedrooms and a modern family bathroom. Then, up into the top floor is a 17x14 ft loft room with large windows with a gorgeous view across the rooftops towards Canary Wharf – ideal as an additional bedroom or reception room.\n",
      "\n",
      "Landcroft Road is desirably located for the excellent schools, parks and green spaces as well as the independent shops, bars, coffee shops and restaurants of Lordship Lane and North Cross Road. There are strong transport links into The City and West End from East Dulwich station (0.7 miles) and Peckham Rye station (1.4 miles) as well as bus/cycle routes through the neighbouring Forest Hill, Dulwich Village and Herne Hill.\n",
      "\n",
      "EPC: D | Council Tax Band: C  | Lease: TBC  years remaining | SC:  TBC   | GR: TBC  | Buildings Insurance: TBC\n",
      "\n",
      "\n",
      "\n",
      "\n",
      "Arranged on the 4th floor, this excellently presented 2 bedroom apartment offers a generous kitchen/reception room, 2 ample bedrooms, a contemporary bathroom and expansive balcony.\n",
      "\n",
      "The property benefits from an fantastic location moments from the restaurants and shops of Canary Wharf as well as transport links such as Cross harbour for easy access to and around the city. \n",
      "\n",
      "Please use the reference CHPK4418138 when contacting Foxtons.\n"
     ]
    }
   ],
   "source": [
    "for description in df[10:20].descriptionHtml:\n",
    "    print('\\n')\n",
    "    print(description)"
   ]
  },
  {
   "cell_type": "code",
   "execution_count": 59,
   "id": "fe02a66b-7ecf-487f-9186-9bbc133f89b6",
   "metadata": {},
   "outputs": [],
   "source": [
    "import re\n",
    "\n",
    "html_regex = re.compile(r'<.*?>')\n",
    "def description_cleaner(description):\n",
    "    return html_regex.sub('', description)\n",
    "\n",
    "df.descriptionHtml = df.descriptionHtml.apply(description_cleaner)"
   ]
  },
  {
   "cell_type": "code",
   "execution_count": 60,
   "id": "3d174eed-1245-4f41-8dd9-062bc2680017",
   "metadata": {},
   "outputs": [],
   "source": [
    "from bs4 import BeautifulSoup\n",
    "\n",
    "def description_cleaner(description):\n",
    "    return BeautifulSoup(description).get_text()\n",
    "\n",
    "df.descriptionHtml = df.descriptionHtml.apply(description_cleaner)"
   ]
  },
  {
   "cell_type": "code",
   "execution_count": 61,
   "id": "de9bfa1d-4d69-4a57-a823-7b022d0ec4c6",
   "metadata": {},
   "outputs": [
    {
     "name": "stdout",
     "output_type": "stream",
     "text": [
      "Regex cleaning took 0.004632234573364258 seconds\n",
      "BeautifulSoup  cleaning took 0.17952203750610352 seconds\n"
     ]
    }
   ],
   "source": [
    "import time\n",
    "\n",
    "html_regex = re.compile(r'<.*?>')\n",
    "def description_cleaner_regex(description):\n",
    "    return html_regex.sub('', description)\n",
    "\n",
    "def description_cleaner_bs(description):\n",
    "    return BeautifulSoup(description).get_text()\n",
    "\n",
    "# Note: Although this dataframe has the variable name \"df\" in the book,\n",
    "# I am changing it to \"df_test\" here to avoid overwriting the other, cleaned\n",
    "# dataframe being used\n",
    "df_test = pd.read_csv('23_real_estate.csv')\n",
    "start = time.time()\n",
    "df_test.descriptionHtml = df_test.descriptionHtml.apply(description_cleaner_regex)\n",
    "print(f'Regex cleaning took {time.time() - start} seconds')\n",
    "\n",
    "df_test = pd.read_csv('23_real_estate.csv')\n",
    "df_test.descriptionHtml = df_test.descriptionHtml.apply(description_cleaner_bs)\n",
    "print(f'BeautifulSoup  cleaning took {time.time() - start} seconds')"
   ]
  },
  {
   "cell_type": "code",
   "execution_count": 116,
   "id": "99c1205d-55c5-4b2b-9879-fa3e7635d4da",
   "metadata": {},
   "outputs": [
    {
     "name": "stdout",
     "output_type": "stream",
     "text": [
      "Non-standard title: Block of apartments for sale in King's Mews, London, WC1, WC1N\n",
      "Non-standard title: Block of apartments for sale in Hamilton House, 79-81 Southampton Row, London, WC1B\n",
      "Non-standard title: Block of apartments for sale in Lincoln's Inn Fields, London, WC2, WC2A\n",
      "Non-standard title: Land for sale in The Bishops Avenue, N2\n",
      "Non-standard title: Equestrian facility for sale in Highwood Lodge, Highwood Hill, London, NW7\n",
      "Non-standard title: Land for sale in Clandon House, Clandon Gardens, London, N3\n",
      "Non-standard title: Land for sale in Kings Road, London, SW6\n",
      "Non-standard title: Land for sale in The Bishops Avenue, N2\n",
      "Non-standard title: Detached house for sale in Netherhall Gardens, Hampstead NW3\n",
      "Non-standard title: Town house for sale in Mansfield Street, London, W1G\n",
      "Non-standard title: Detached house for sale in Grosvenor Road, Pimlico, London, SW1V\n",
      "Non-standard title: Land for sale in Branch Hill, Hampstead, London, NW3\n",
      "Non-standard title: End of terrace house for sale in Eaton Place, London, SW1X\n",
      "Non-standard title: Equestrian facility for sale in Highwood Lodge Farm Estate, Highwood Hill, London, NW7\n",
      "Non-standard title: Terraced house for sale in Hyde Park Gate, Kensington, London, SW7\n",
      "Non-standard title: Land for sale in Compton Avenue, N6\n",
      "Non-standard title: Plot for sale in Piccadilly, Mayfair, London, W1J\n",
      "Non-standard title: Plot for sale in 10-14 Hollybush Gardens, E2 6QP, E2\n"
     ]
    }
   ],
   "source": [
    "def title_parser(row):\n",
    "    try:\n",
    "        data, row['location'] = row['title'].split(' for sale in ')\n",
    "        row['bedrooms_title'], row['property_type_title'] = data.split(' bedroom ')\n",
    "        row['bedrooms_title'] = int(row['bedrooms_title'])\n",
    "        return row\n",
    "    except:\n",
    "        print(f'Non-standard title: {row['title']}')\n",
    "\n",
    "df = df.apply(title_parser, axis=1)"
   ]
  },
  {
   "cell_type": "code",
   "execution_count": 117,
   "id": "b03e7d6f-11e4-4830-ab75-fccbf667c274",
   "metadata": {},
   "outputs": [
    {
     "name": "stdout",
     "output_type": "stream",
     "text": [
      "1 bedroom apartment for sale in Rich Street, Limehouse E14 8AL, E14\n",
      "1 bedroom apartment for sale in Ruckholt Road, Leyton, London, E10\n",
      "3 bedroom flat for sale in The Grange, East Finchley, N2\n",
      "2 bedroom apartment for sale in Forge Square, Westferry Road, Isle Of Dogs E14\n",
      "2 bedroom flat for sale in Wastdale Road, Forest Hill, SE23\n",
      "1 bedroom apartment for sale in Cambridge Avenue, London, NW6\n",
      "2 bedroom flat for sale in Bromyard Avenue, Acton, W3\n",
      "2 bedroom apartment for sale in Viscount House, Lakeside Drive, London, NW10\n",
      "3 bedroom terraced house for sale in Aileen Walk, Stratford, E15\n",
      "2 bedroom flat for sale in Tenterden Grove, London, NW4\n"
     ]
    }
   ],
   "source": [
    "for title in df.head(10).title:\n",
    "    print(title)"
   ]
  },
  {
   "cell_type": "code",
   "execution_count": 118,
   "id": "82f4e90c-dacb-4f47-8c3b-49d107856b29",
   "metadata": {},
   "outputs": [],
   "source": [
    "def date_str_cleaner(date_str):\n",
    "    if pd.isna(date_str):\n",
    "        return None\n",
    "\n",
    "    date_str = date_str.replace('Added', '').replace('Reduced', '').replace('on', '')\n",
    "    date_str = date_str.replace('today', '06/11/2024')\n",
    "    date_str = date_str.replace('yesterday', '06/10/2024')\n",
    "    date_str = date_str.strip()\n",
    "    return date_str"
   ]
  },
  {
   "cell_type": "code",
   "execution_count": 119,
   "id": "555b7c65-27fd-4a15-9fd3-2885da9430cc",
   "metadata": {},
   "outputs": [],
   "source": [
    "df['date'] = df.addedOn.apply(date_str_cleaner)\n",
    "df['date'] = pd.to_datetime(df.date, format='%d/%m/%Y')"
   ]
  },
  {
   "cell_type": "code",
   "execution_count": 120,
   "id": "4470fb11-8b9b-4c8c-aa09-256cbba84f00",
   "metadata": {},
   "outputs": [],
   "source": [
    "df.rename(columns={\n",
    "    'descriptionHtml': 'description',\n",
    "    'propertyType': 'property_type',\n",
    "    'sizeSqFeetMax': 'sq_feet',\n",
    "    'listingUpdateReason': 'listing_update_reason',\n",
    "    'addedOn': 'added_on'\n",
    "}, inplace=True)"
   ]
  },
  {
   "cell_type": "code",
   "execution_count": 121,
   "id": "16258de9-fd35-4cbf-a9e3-50ac1dd39a24",
   "metadata": {},
   "outputs": [
    {
     "data": {
      "text/html": [
       "<div>\n",
       "<style scoped>\n",
       "    .dataframe tbody tr th:only-of-type {\n",
       "        vertical-align: middle;\n",
       "    }\n",
       "\n",
       "    .dataframe tbody tr th {\n",
       "        vertical-align: top;\n",
       "    }\n",
       "\n",
       "    .dataframe thead th {\n",
       "        text-align: right;\n",
       "    }\n",
       "</style>\n",
       "<table border=\"1\" class=\"dataframe\">\n",
       "  <thead>\n",
       "    <tr style=\"text-align: right;\">\n",
       "      <th></th>\n",
       "      <th>added_on</th>\n",
       "      <th>title</th>\n",
       "      <th>description</th>\n",
       "      <th>property_type</th>\n",
       "      <th>sq_feet</th>\n",
       "      <th>bedrooms</th>\n",
       "      <th>bathrooms</th>\n",
       "      <th>listing_update_reason</th>\n",
       "      <th>price</th>\n",
       "      <th>location</th>\n",
       "      <th>bedrooms_title</th>\n",
       "      <th>property_type_title</th>\n",
       "      <th>date</th>\n",
       "    </tr>\n",
       "  </thead>\n",
       "  <tbody>\n",
       "    <tr>\n",
       "      <th>74</th>\n",
       "      <td>Reduced on 26/06/2024</td>\n",
       "      <td>1 bedroom apartment for sale in Rich Street, L...</td>\n",
       "      <td>GARDEN FLAT...\\r&lt;br /&gt;CHAIN FREE - Alphabet Ci...</td>\n",
       "      <td>Apartment</td>\n",
       "      <td>NaN</td>\n",
       "      <td>1.0</td>\n",
       "      <td>1.0</td>\n",
       "      <td>price_reduced</td>\n",
       "      <td>315000.0</td>\n",
       "      <td>Rich Street, Limehouse E14 8AL, E14</td>\n",
       "      <td>1.0</td>\n",
       "      <td>apartment</td>\n",
       "      <td>2024-06-26</td>\n",
       "    </tr>\n",
       "    <tr>\n",
       "      <th>484</th>\n",
       "      <td>Reduced on 12/10/2024</td>\n",
       "      <td>1 bedroom apartment for sale in Ruckholt Road,...</td>\n",
       "      <td>***GUIDE PRICE £325,000 - £350,000***&lt;br /&gt;&lt;br...</td>\n",
       "      <td>Apartment</td>\n",
       "      <td>NaN</td>\n",
       "      <td>1.0</td>\n",
       "      <td>1.0</td>\n",
       "      <td>price_reduced</td>\n",
       "      <td>325000.0</td>\n",
       "      <td>Ruckholt Road, Leyton, London, E10</td>\n",
       "      <td>1.0</td>\n",
       "      <td>apartment</td>\n",
       "      <td>2024-10-12</td>\n",
       "    </tr>\n",
       "    <tr>\n",
       "      <th>850</th>\n",
       "      <td>Reduced on 01/08/2024</td>\n",
       "      <td>3 bedroom flat for sale in The Grange, East Fi...</td>\n",
       "      <td>&lt;p&gt;We offer for sale a spacious three bedroom ...</td>\n",
       "      <td>Flat</td>\n",
       "      <td>NaN</td>\n",
       "      <td>3.0</td>\n",
       "      <td>1.0</td>\n",
       "      <td>price_reduced</td>\n",
       "      <td>385000.0</td>\n",
       "      <td>The Grange, East Finchley, N2</td>\n",
       "      <td>3.0</td>\n",
       "      <td>flat</td>\n",
       "      <td>2024-08-01</td>\n",
       "    </tr>\n",
       "    <tr>\n",
       "      <th>241</th>\n",
       "      <td>Reduced today</td>\n",
       "      <td>2 bedroom apartment for sale in Forge Square, ...</td>\n",
       "      <td>Well presented, 2 bedroom, split level apartme...</td>\n",
       "      <td>Apartment</td>\n",
       "      <td>NaN</td>\n",
       "      <td>2.0</td>\n",
       "      <td>1.0</td>\n",
       "      <td>price_reduced</td>\n",
       "      <td>400000.0</td>\n",
       "      <td>Forge Square, Westferry Road, Isle Of Dogs E14</td>\n",
       "      <td>2.0</td>\n",
       "      <td>apartment</td>\n",
       "      <td>2024-11-06</td>\n",
       "    </tr>\n",
       "    <tr>\n",
       "      <th>753</th>\n",
       "      <td>04/11/2024</td>\n",
       "      <td>2 bedroom flat for sale in Wastdale Road, Fore...</td>\n",
       "      <td>A well presented two bedroom ground floor flat...</td>\n",
       "      <td>Flat</td>\n",
       "      <td>NaN</td>\n",
       "      <td>2.0</td>\n",
       "      <td>1.0</td>\n",
       "      <td>new</td>\n",
       "      <td>425000.0</td>\n",
       "      <td>Wastdale Road, Forest Hill, SE23</td>\n",
       "      <td>2.0</td>\n",
       "      <td>flat</td>\n",
       "      <td>2024-11-04</td>\n",
       "    </tr>\n",
       "  </tbody>\n",
       "</table>\n",
       "</div>"
      ],
      "text/plain": [
       "                  added_on                                              title  \\\n",
       "74   Reduced on 26/06/2024  1 bedroom apartment for sale in Rich Street, L...   \n",
       "484  Reduced on 12/10/2024  1 bedroom apartment for sale in Ruckholt Road,...   \n",
       "850  Reduced on 01/08/2024  3 bedroom flat for sale in The Grange, East Fi...   \n",
       "241          Reduced today  2 bedroom apartment for sale in Forge Square, ...   \n",
       "753             04/11/2024  2 bedroom flat for sale in Wastdale Road, Fore...   \n",
       "\n",
       "                                           description property_type  sq_feet  \\\n",
       "74   GARDEN FLAT...\\r<br />CHAIN FREE - Alphabet Ci...     Apartment      NaN   \n",
       "484  ***GUIDE PRICE £325,000 - £350,000***<br /><br...     Apartment      NaN   \n",
       "850  <p>We offer for sale a spacious three bedroom ...          Flat      NaN   \n",
       "241  Well presented, 2 bedroom, split level apartme...     Apartment      NaN   \n",
       "753  A well presented two bedroom ground floor flat...          Flat      NaN   \n",
       "\n",
       "     bedrooms  bathrooms listing_update_reason     price  \\\n",
       "74        1.0        1.0         price_reduced  315000.0   \n",
       "484       1.0        1.0         price_reduced  325000.0   \n",
       "850       3.0        1.0         price_reduced  385000.0   \n",
       "241       2.0        1.0         price_reduced  400000.0   \n",
       "753       2.0        1.0                   new  425000.0   \n",
       "\n",
       "                                           location  bedrooms_title  \\\n",
       "74              Rich Street, Limehouse E14 8AL, E14             1.0   \n",
       "484              Ruckholt Road, Leyton, London, E10             1.0   \n",
       "850                   The Grange, East Finchley, N2             3.0   \n",
       "241  Forge Square, Westferry Road, Isle Of Dogs E14             2.0   \n",
       "753                Wastdale Road, Forest Hill, SE23             2.0   \n",
       "\n",
       "    property_type_title       date  \n",
       "74            apartment 2024-06-26  \n",
       "484           apartment 2024-10-12  \n",
       "850                flat 2024-08-01  \n",
       "241           apartment 2024-11-06  \n",
       "753                flat 2024-11-04  "
      ]
     },
     "execution_count": 121,
     "metadata": {},
     "output_type": "execute_result"
    }
   ],
   "source": [
    "df.head()"
   ]
  },
  {
   "cell_type": "markdown",
   "id": "25b81e13-400a-4ef0-bbcc-0d9341ed2632",
   "metadata": {},
   "source": [
    "## Filtering and Querying"
   ]
  },
  {
   "cell_type": "code",
   "execution_count": 122,
   "id": "346a2e65-c918-4fd4-96f7-51f38f1a86b1",
   "metadata": {},
   "outputs": [
    {
     "data": {
      "text/plain": [
       "28"
      ]
     },
     "execution_count": 122,
     "metadata": {},
     "output_type": "execute_result"
    }
   ],
   "source": [
    "len(df.query('price < 1000000'))"
   ]
  },
  {
   "cell_type": "code",
   "execution_count": 123,
   "id": "87425060-9789-4d94-8f26-a5869da17235",
   "metadata": {},
   "outputs": [
    {
     "data": {
      "text/plain": [
       "8"
      ]
     },
     "execution_count": 123,
     "metadata": {},
     "output_type": "execute_result"
    }
   ],
   "source": [
    "len(df.query('price < 1000000 and bedrooms >= 3'))"
   ]
  },
  {
   "cell_type": "code",
   "execution_count": 124,
   "id": "0a9345fe-576e-405b-bce0-d347f60e9a2b",
   "metadata": {},
   "outputs": [
    {
     "data": {
      "text/plain": [
       "16"
      ]
     },
     "execution_count": 124,
     "metadata": {},
     "output_type": "execute_result"
    }
   ],
   "source": [
    "len(df.query('price < 1000000 and (bedrooms >= 3 or bathrooms >= 2)'))"
   ]
  },
  {
   "cell_type": "code",
   "execution_count": 125,
   "id": "169c9637-403c-4bf5-b388-1e6bfa379bcd",
   "metadata": {},
   "outputs": [
    {
     "data": {
      "text/plain": [
       "5"
      ]
     },
     "execution_count": 125,
     "metadata": {},
     "output_type": "execute_result"
    }
   ],
   "source": [
    "len(df.query('price > 20000000 and property_type == \"Penthouse\"'))"
   ]
  },
  {
   "cell_type": "code",
   "execution_count": 126,
   "id": "85677dc9-a5a2-41d9-8f71-99a51a0ac038",
   "metadata": {},
   "outputs": [
    {
     "data": {
      "text/plain": [
       "28"
      ]
     },
     "execution_count": 126,
     "metadata": {},
     "output_type": "execute_result"
    }
   ],
   "source": [
    "len(df[df['price'] < 1000000])"
   ]
  },
  {
   "cell_type": "code",
   "execution_count": 200,
   "id": "66cfe0c8-6d54-424f-b3d9-1f5d4cacf1c9",
   "metadata": {},
   "outputs": [
    {
     "data": {
      "text/plain": [
       "8"
      ]
     },
     "execution_count": 200,
     "metadata": {},
     "output_type": "execute_result"
    }
   ],
   "source": [
    "len(df[(df['price'] < 1000000) & (df['bedrooms'] >= 3)])"
   ]
  },
  {
   "cell_type": "code",
   "execution_count": 193,
   "id": "ecd2d3da-f6cb-4432-9cff-9c78f1910bf8",
   "metadata": {},
   "outputs": [
    {
     "data": {
      "text/plain": [
       "16"
      ]
     },
     "execution_count": 193,
     "metadata": {},
     "output_type": "execute_result"
    }
   ],
   "source": [
    "len(df[(df['price'] < 1000000) & ((df['bedrooms'] >= 3) | (df['bathrooms'] >= 2))])"
   ]
  },
  {
   "cell_type": "code",
   "execution_count": 194,
   "id": "64cc033a-cc9c-42ee-8afb-c454e8fdbbc9",
   "metadata": {},
   "outputs": [
    {
     "data": {
      "text/plain": [
       "5"
      ]
     },
     "execution_count": 194,
     "metadata": {},
     "output_type": "execute_result"
    }
   ],
   "source": [
    "len(df[(df['price'] > 20000000) & (df['property_type'] == 'Penthouse')])"
   ]
  },
  {
   "cell_type": "code",
   "execution_count": 196,
   "id": "66458b1c-26aa-4b8a-a7de-d58ddcb3df61",
   "metadata": {},
   "outputs": [
    {
     "data": {
      "text/plain": [
       "pandas.core.series.Series"
      ]
     },
     "execution_count": 196,
     "metadata": {},
     "output_type": "execute_result"
    }
   ],
   "source": [
    "type(df['price'] > 20000000)"
   ]
  },
  {
   "cell_type": "code",
   "execution_count": 127,
   "id": "eb306acf-0dae-41d5-911a-a36d94b2ca00",
   "metadata": {},
   "outputs": [
    {
     "data": {
      "text/html": [
       "<div>\n",
       "<style scoped>\n",
       "    .dataframe tbody tr th:only-of-type {\n",
       "        vertical-align: middle;\n",
       "    }\n",
       "\n",
       "    .dataframe tbody tr th {\n",
       "        vertical-align: top;\n",
       "    }\n",
       "\n",
       "    .dataframe thead th {\n",
       "        text-align: right;\n",
       "    }\n",
       "</style>\n",
       "<table border=\"1\" class=\"dataframe\">\n",
       "  <thead>\n",
       "    <tr style=\"text-align: right;\">\n",
       "      <th></th>\n",
       "      <th>added_on</th>\n",
       "      <th>title</th>\n",
       "      <th>description</th>\n",
       "      <th>property_type</th>\n",
       "      <th>sq_feet</th>\n",
       "      <th>bedrooms</th>\n",
       "      <th>bathrooms</th>\n",
       "      <th>listing_update_reason</th>\n",
       "      <th>price</th>\n",
       "      <th>location</th>\n",
       "      <th>bedrooms_title</th>\n",
       "      <th>property_type_title</th>\n",
       "      <th>date</th>\n",
       "    </tr>\n",
       "  </thead>\n",
       "  <tbody>\n",
       "    <tr>\n",
       "      <th>117</th>\n",
       "      <td>03/11/2023</td>\n",
       "      <td>8 bedroom penthouse for sale in Lowndes Square...</td>\n",
       "      <td>An existing sixth (top) floor flat, comprising...</td>\n",
       "      <td>Penthouse</td>\n",
       "      <td>6000.0</td>\n",
       "      <td>8.0</td>\n",
       "      <td>4.0</td>\n",
       "      <td>new</td>\n",
       "      <td>20995000.0</td>\n",
       "      <td>Lowndes Square, London, SW1X</td>\n",
       "      <td>8.0</td>\n",
       "      <td>penthouse</td>\n",
       "      <td>2023-11-03</td>\n",
       "    </tr>\n",
       "    <tr>\n",
       "      <th>120</th>\n",
       "      <td>12/09/2024</td>\n",
       "      <td>6 bedroom detached house for sale in Holland P...</td>\n",
       "      <td>Set behind gates in a secluded location, this ...</td>\n",
       "      <td>Detached</td>\n",
       "      <td>9262.0</td>\n",
       "      <td>6.0</td>\n",
       "      <td>5.0</td>\n",
       "      <td>new</td>\n",
       "      <td>21500000.0</td>\n",
       "      <td>Holland Park Road, LONDON, W14</td>\n",
       "      <td>6.0</td>\n",
       "      <td>detached house</td>\n",
       "      <td>2024-09-12</td>\n",
       "    </tr>\n",
       "    <tr>\n",
       "      <th>75</th>\n",
       "      <td>03/06/2024</td>\n",
       "      <td>6 bedroom semi-detached house for sale in Bedf...</td>\n",
       "      <td>Having been the subject of a bespoke&lt;br /&gt;reno...</td>\n",
       "      <td>Semi-Detached</td>\n",
       "      <td>8756.0</td>\n",
       "      <td>6.0</td>\n",
       "      <td>6.0</td>\n",
       "      <td>new</td>\n",
       "      <td>21500000.0</td>\n",
       "      <td>Bedford Gardens, Kensington, London, W8</td>\n",
       "      <td>6.0</td>\n",
       "      <td>semi-detached house</td>\n",
       "      <td>2024-06-03</td>\n",
       "    </tr>\n",
       "    <tr>\n",
       "      <th>48</th>\n",
       "      <td>03/06/2024</td>\n",
       "      <td>6 bedroom terraced house for sale in Bedford G...</td>\n",
       "      <td>A stunning and most beuatifully refurbished 6/...</td>\n",
       "      <td>Terraced</td>\n",
       "      <td>8756.0</td>\n",
       "      <td>6.0</td>\n",
       "      <td>NaN</td>\n",
       "      <td>new</td>\n",
       "      <td>21500000.0</td>\n",
       "      <td>Bedford Gardens, Kensington, London, W8</td>\n",
       "      <td>6.0</td>\n",
       "      <td>terraced house</td>\n",
       "      <td>2024-06-03</td>\n",
       "    </tr>\n",
       "    <tr>\n",
       "      <th>118</th>\n",
       "      <td>12/02/2024</td>\n",
       "      <td>6 bedroom town house for sale in Lygon Place, ...</td>\n",
       "      <td>*Please note some images have been virtually d...</td>\n",
       "      <td>Town House</td>\n",
       "      <td>7948.0</td>\n",
       "      <td>6.0</td>\n",
       "      <td>6.0</td>\n",
       "      <td>new</td>\n",
       "      <td>21500000.0</td>\n",
       "      <td>Lygon Place, London, SW1W</td>\n",
       "      <td>6.0</td>\n",
       "      <td>town house</td>\n",
       "      <td>2024-02-12</td>\n",
       "    </tr>\n",
       "    <tr>\n",
       "      <th>...</th>\n",
       "      <td>...</td>\n",
       "      <td>...</td>\n",
       "      <td>...</td>\n",
       "      <td>...</td>\n",
       "      <td>...</td>\n",
       "      <td>...</td>\n",
       "      <td>...</td>\n",
       "      <td>...</td>\n",
       "      <td>...</td>\n",
       "      <td>...</td>\n",
       "      <td>...</td>\n",
       "      <td>...</td>\n",
       "      <td>...</td>\n",
       "    </tr>\n",
       "    <tr>\n",
       "      <th>41</th>\n",
       "      <td>10/09/2024</td>\n",
       "      <td>7 bedroom town house for sale in Whistler Squa...</td>\n",
       "      <td>A Stunning freehold house of 13,067 square fee...</td>\n",
       "      <td>Town House</td>\n",
       "      <td>13067.0</td>\n",
       "      <td>7.0</td>\n",
       "      <td>8.0</td>\n",
       "      <td>new</td>\n",
       "      <td>47000000.0</td>\n",
       "      <td>Whistler Square, London, SW1W</td>\n",
       "      <td>7.0</td>\n",
       "      <td>town house</td>\n",
       "      <td>2024-09-10</td>\n",
       "    </tr>\n",
       "    <tr>\n",
       "      <th>43</th>\n",
       "      <td>04/09/2024</td>\n",
       "      <td>8 bedroom end of terrace house for sale in Bal...</td>\n",
       "      <td>A grand double fronted townhouse in the heart ...</td>\n",
       "      <td>End of Terrace</td>\n",
       "      <td>9727.0</td>\n",
       "      <td>8.0</td>\n",
       "      <td>4.0</td>\n",
       "      <td>new</td>\n",
       "      <td>49500000.0</td>\n",
       "      <td>Balfour Place, Mayfair, London, W1K</td>\n",
       "      <td>8.0</td>\n",
       "      <td>end of terrace house</td>\n",
       "      <td>2024-09-04</td>\n",
       "    </tr>\n",
       "    <tr>\n",
       "      <th>45</th>\n",
       "      <td>05/07/2024</td>\n",
       "      <td>5 bedroom apartment for sale in One Hyde Park,...</td>\n",
       "      <td>An exceptional exclusive five bedroom apartmen...</td>\n",
       "      <td>Apartment</td>\n",
       "      <td>NaN</td>\n",
       "      <td>5.0</td>\n",
       "      <td>5.0</td>\n",
       "      <td>new</td>\n",
       "      <td>60000000.0</td>\n",
       "      <td>One Hyde Park, Knightsbridge, SW1X</td>\n",
       "      <td>5.0</td>\n",
       "      <td>apartment</td>\n",
       "      <td>2024-07-05</td>\n",
       "    </tr>\n",
       "    <tr>\n",
       "      <th>44</th>\n",
       "      <td>03/10/2024</td>\n",
       "      <td>10 bedroom terraced house for sale in Portland...</td>\n",
       "      <td>Built in 1775 by Robert Adam, the residence ha...</td>\n",
       "      <td>Terraced</td>\n",
       "      <td>20987.0</td>\n",
       "      <td>10.0</td>\n",
       "      <td>10.0</td>\n",
       "      <td>new</td>\n",
       "      <td>65000000.0</td>\n",
       "      <td>Portland Place, Marylebone, W1B</td>\n",
       "      <td>10.0</td>\n",
       "      <td>terraced house</td>\n",
       "      <td>2024-10-03</td>\n",
       "    </tr>\n",
       "    <tr>\n",
       "      <th>46</th>\n",
       "      <td>02/09/2024</td>\n",
       "      <td>5 bedroom penthouse for sale in The Knightsbri...</td>\n",
       "      <td>A once in a lifetime opportunity to own one of...</td>\n",
       "      <td>Penthouse</td>\n",
       "      <td>9437.0</td>\n",
       "      <td>5.0</td>\n",
       "      <td>5.0</td>\n",
       "      <td>new</td>\n",
       "      <td>80000000.0</td>\n",
       "      <td>The Knightsbridge Apartments, 199 Knightsbridg...</td>\n",
       "      <td>5.0</td>\n",
       "      <td>penthouse</td>\n",
       "      <td>2024-09-02</td>\n",
       "    </tr>\n",
       "  </tbody>\n",
       "</table>\n",
       "<p>73 rows × 13 columns</p>\n",
       "</div>"
      ],
      "text/plain": [
       "       added_on                                              title  \\\n",
       "117  03/11/2023  8 bedroom penthouse for sale in Lowndes Square...   \n",
       "120  12/09/2024  6 bedroom detached house for sale in Holland P...   \n",
       "75   03/06/2024  6 bedroom semi-detached house for sale in Bedf...   \n",
       "48   03/06/2024  6 bedroom terraced house for sale in Bedford G...   \n",
       "118  12/02/2024  6 bedroom town house for sale in Lygon Place, ...   \n",
       "..          ...                                                ...   \n",
       "41   10/09/2024  7 bedroom town house for sale in Whistler Squa...   \n",
       "43   04/09/2024  8 bedroom end of terrace house for sale in Bal...   \n",
       "45   05/07/2024  5 bedroom apartment for sale in One Hyde Park,...   \n",
       "44   03/10/2024  10 bedroom terraced house for sale in Portland...   \n",
       "46   02/09/2024  5 bedroom penthouse for sale in The Knightsbri...   \n",
       "\n",
       "                                           description   property_type  \\\n",
       "117  An existing sixth (top) floor flat, comprising...       Penthouse   \n",
       "120  Set behind gates in a secluded location, this ...        Detached   \n",
       "75   Having been the subject of a bespoke<br />reno...   Semi-Detached   \n",
       "48   A stunning and most beuatifully refurbished 6/...        Terraced   \n",
       "118  *Please note some images have been virtually d...      Town House   \n",
       "..                                                 ...             ...   \n",
       "41   A Stunning freehold house of 13,067 square fee...      Town House   \n",
       "43   A grand double fronted townhouse in the heart ...  End of Terrace   \n",
       "45   An exceptional exclusive five bedroom apartmen...       Apartment   \n",
       "44   Built in 1775 by Robert Adam, the residence ha...        Terraced   \n",
       "46   A once in a lifetime opportunity to own one of...       Penthouse   \n",
       "\n",
       "     sq_feet  bedrooms  bathrooms listing_update_reason       price  \\\n",
       "117   6000.0       8.0        4.0                   new  20995000.0   \n",
       "120   9262.0       6.0        5.0                   new  21500000.0   \n",
       "75    8756.0       6.0        6.0                   new  21500000.0   \n",
       "48    8756.0       6.0        NaN                   new  21500000.0   \n",
       "118   7948.0       6.0        6.0                   new  21500000.0   \n",
       "..       ...       ...        ...                   ...         ...   \n",
       "41   13067.0       7.0        8.0                   new  47000000.0   \n",
       "43    9727.0       8.0        4.0                   new  49500000.0   \n",
       "45       NaN       5.0        5.0                   new  60000000.0   \n",
       "44   20987.0      10.0       10.0                   new  65000000.0   \n",
       "46    9437.0       5.0        5.0                   new  80000000.0   \n",
       "\n",
       "                                              location  bedrooms_title  \\\n",
       "117                       Lowndes Square, London, SW1X             8.0   \n",
       "120                     Holland Park Road, LONDON, W14             6.0   \n",
       "75             Bedford Gardens, Kensington, London, W8             6.0   \n",
       "48             Bedford Gardens, Kensington, London, W8             6.0   \n",
       "118                          Lygon Place, London, SW1W             6.0   \n",
       "..                                                 ...             ...   \n",
       "41                       Whistler Square, London, SW1W             7.0   \n",
       "43                 Balfour Place, Mayfair, London, W1K             8.0   \n",
       "45                  One Hyde Park, Knightsbridge, SW1X             5.0   \n",
       "44                     Portland Place, Marylebone, W1B            10.0   \n",
       "46   The Knightsbridge Apartments, 199 Knightsbridg...             5.0   \n",
       "\n",
       "      property_type_title       date  \n",
       "117             penthouse 2023-11-03  \n",
       "120        detached house 2024-09-12  \n",
       "75    semi-detached house 2024-06-03  \n",
       "48         terraced house 2024-06-03  \n",
       "118            town house 2024-02-12  \n",
       "..                    ...        ...  \n",
       "41             town house 2024-09-10  \n",
       "43   end of terrace house 2024-09-04  \n",
       "45              apartment 2024-07-05  \n",
       "44         terraced house 2024-10-03  \n",
       "46              penthouse 2024-09-02  \n",
       "\n",
       "[73 rows x 13 columns]"
      ]
     },
     "execution_count": 127,
     "metadata": {},
     "output_type": "execute_result"
    }
   ],
   "source": [
    "prices_to_be_returned_mask = df['price'] > 20000000\n",
    "df[prices_to_be_returned_mask]"
   ]
  },
  {
   "cell_type": "code",
   "execution_count": 128,
   "id": "58ccb1a3-d806-462b-979c-a54fe9d665f2",
   "metadata": {},
   "outputs": [
    {
     "data": {
      "text/plain": [
       "370"
      ]
     },
     "execution_count": 128,
     "metadata": {},
     "output_type": "execute_result"
    }
   ],
   "source": [
    "len(df[df['property_type'].isin(['Apartment', 'Flat'])])"
   ]
  },
  {
   "cell_type": "code",
   "execution_count": 129,
   "id": "bda597c4-b995-407c-a617-c61f16bb2277",
   "metadata": {},
   "outputs": [
    {
     "data": {
      "text/plain": [
       "60"
      ]
     },
     "execution_count": 129,
     "metadata": {},
     "output_type": "execute_result"
    }
   ],
   "source": [
    "len(df[df['description'].str.contains('charming', na=False)])"
   ]
  },
  {
   "cell_type": "code",
   "execution_count": 219,
   "id": "6f633d7b-97e7-4213-a903-2adb78c1c850",
   "metadata": {},
   "outputs": [
    {
     "data": {
      "text/html": [
       "<div>\n",
       "<style scoped>\n",
       "    .dataframe tbody tr th:only-of-type {\n",
       "        vertical-align: middle;\n",
       "    }\n",
       "\n",
       "    .dataframe tbody tr th {\n",
       "        vertical-align: top;\n",
       "    }\n",
       "\n",
       "    .dataframe thead th {\n",
       "        text-align: right;\n",
       "    }\n",
       "</style>\n",
       "<table border=\"1\" class=\"dataframe\">\n",
       "  <thead>\n",
       "    <tr style=\"text-align: right;\">\n",
       "      <th></th>\n",
       "      <th>sq_feet</th>\n",
       "      <th>bedrooms</th>\n",
       "      <th>bathrooms</th>\n",
       "      <th>price</th>\n",
       "    </tr>\n",
       "  </thead>\n",
       "  <tbody>\n",
       "    <tr>\n",
       "      <th>419</th>\n",
       "      <td>3698.0</td>\n",
       "      <td>4.0</td>\n",
       "      <td>4.0</td>\n",
       "      <td>9750000.0</td>\n",
       "    </tr>\n",
       "    <tr>\n",
       "      <th>81</th>\n",
       "      <td>4944.0</td>\n",
       "      <td>5.0</td>\n",
       "      <td>5.0</td>\n",
       "      <td>22500000.0</td>\n",
       "    </tr>\n",
       "    <tr>\n",
       "      <th>182</th>\n",
       "      <td>4735.0</td>\n",
       "      <td>4.0</td>\n",
       "      <td>4.0</td>\n",
       "      <td>13950000.0</td>\n",
       "    </tr>\n",
       "    <tr>\n",
       "      <th>792</th>\n",
       "      <td>1878.0</td>\n",
       "      <td>3.0</td>\n",
       "      <td>3.0</td>\n",
       "      <td>7295000.0</td>\n",
       "    </tr>\n",
       "    <tr>\n",
       "      <th>556</th>\n",
       "      <td>NaN</td>\n",
       "      <td>4.0</td>\n",
       "      <td>3.0</td>\n",
       "      <td>8950000.0</td>\n",
       "    </tr>\n",
       "  </tbody>\n",
       "</table>\n",
       "</div>"
      ],
      "text/plain": [
       "     sq_feet  bedrooms  bathrooms       price\n",
       "419   3698.0       4.0        4.0   9750000.0\n",
       "81    4944.0       5.0        5.0  22500000.0\n",
       "182   4735.0       4.0        4.0  13950000.0\n",
       "792   1878.0       3.0        3.0   7295000.0\n",
       "556      NaN       4.0        3.0   8950000.0"
      ]
     },
     "execution_count": 219,
     "metadata": {},
     "output_type": "execute_result"
    }
   ],
   "source": [
    "df[['sq_feet', 'bedrooms', 'bathrooms', 'price']]"
   ]
  },
  {
   "cell_type": "code",
   "execution_count": 221,
   "id": "ee240aa4-bca3-4907-9aa6-e8128a732e89",
   "metadata": {},
   "outputs": [
    {
     "data": {
      "text/html": [
       "<div>\n",
       "<style scoped>\n",
       "    .dataframe tbody tr th:only-of-type {\n",
       "        vertical-align: middle;\n",
       "    }\n",
       "\n",
       "    .dataframe tbody tr th {\n",
       "        vertical-align: top;\n",
       "    }\n",
       "\n",
       "    .dataframe thead th {\n",
       "        text-align: right;\n",
       "    }\n",
       "</style>\n",
       "<table border=\"1\" class=\"dataframe\">\n",
       "  <thead>\n",
       "    <tr style=\"text-align: right;\">\n",
       "      <th></th>\n",
       "      <th>price</th>\n",
       "    </tr>\n",
       "  </thead>\n",
       "  <tbody>\n",
       "    <tr>\n",
       "      <th>81</th>\n",
       "      <td>22500000.0</td>\n",
       "    </tr>\n",
       "    <tr>\n",
       "      <th>556</th>\n",
       "      <td>8950000.0</td>\n",
       "    </tr>\n",
       "    <tr>\n",
       "      <th>435</th>\n",
       "      <td>9900000.0</td>\n",
       "    </tr>\n",
       "    <tr>\n",
       "      <th>576</th>\n",
       "      <td>9000000.0</td>\n",
       "    </tr>\n",
       "    <tr>\n",
       "      <th>658</th>\n",
       "      <td>7920000.0</td>\n",
       "    </tr>\n",
       "    <tr>\n",
       "      <th>...</th>\n",
       "      <td>...</td>\n",
       "    </tr>\n",
       "    <tr>\n",
       "      <th>923</th>\n",
       "      <td>6620000.0</td>\n",
       "    </tr>\n",
       "    <tr>\n",
       "      <th>965</th>\n",
       "      <td>6815000.0</td>\n",
       "    </tr>\n",
       "    <tr>\n",
       "      <th>667</th>\n",
       "      <td>7950000.0</td>\n",
       "    </tr>\n",
       "    <tr>\n",
       "      <th>431</th>\n",
       "      <td>9900000.0</td>\n",
       "    </tr>\n",
       "    <tr>\n",
       "      <th>427</th>\n",
       "      <td>9900000.0</td>\n",
       "    </tr>\n",
       "  </tbody>\n",
       "</table>\n",
       "<p>94 rows × 1 columns</p>\n",
       "</div>"
      ],
      "text/plain": [
       "          price\n",
       "81   22500000.0\n",
       "556   8950000.0\n",
       "435   9900000.0\n",
       "576   9000000.0\n",
       "658   7920000.0\n",
       "..          ...\n",
       "923   6620000.0\n",
       "965   6815000.0\n",
       "667   7950000.0\n",
       "431   9900000.0\n",
       "427   9900000.0\n",
       "\n",
       "[94 rows x 1 columns]"
      ]
     },
     "execution_count": 221,
     "metadata": {},
     "output_type": "execute_result"
    }
   ],
   "source": [
    "df[df['property_type'] == 'Penthouse'][['price']]"
   ]
  },
  {
   "cell_type": "code",
   "execution_count": 130,
   "id": "da387a8b-1113-4fa1-ab2c-729484fa302b",
   "metadata": {},
   "outputs": [
    {
     "data": {
      "text/plain": [
       "1001     6500000.0\n",
       "999      6500000.0\n",
       "1007     6500000.0\n",
       "923      6620000.0\n",
       "926      6620000.0\n",
       "           ...    \n",
       "117     20995000.0\n",
       "81      22500000.0\n",
       "15      26500000.0\n",
       "35      42217600.0\n",
       "46      80000000.0\n",
       "Name: price, Length: 94, dtype: float64"
      ]
     },
     "execution_count": 130,
     "metadata": {},
     "output_type": "execute_result"
    }
   ],
   "source": [
    "df[df['property_type'] == 'Penthouse']['price']"
   ]
  },
  {
   "cell_type": "markdown",
   "id": "23415c4a-0bfb-4e8f-abc4-a6570a6d8035",
   "metadata": {},
   "source": [
    "## Grouping and Aggregating"
   ]
  },
  {
   "cell_type": "code",
   "execution_count": 131,
   "id": "95e2ae1a-258c-4b99-9c2e-f121be3a4edf",
   "metadata": {},
   "outputs": [
    {
     "data": {
      "text/html": [
       "<div>\n",
       "<style scoped>\n",
       "    .dataframe tbody tr th:only-of-type {\n",
       "        vertical-align: middle;\n",
       "    }\n",
       "\n",
       "    .dataframe tbody tr th {\n",
       "        vertical-align: top;\n",
       "    }\n",
       "\n",
       "    .dataframe thead th {\n",
       "        text-align: right;\n",
       "    }\n",
       "</style>\n",
       "<table border=\"1\" class=\"dataframe\">\n",
       "  <thead>\n",
       "    <tr style=\"text-align: right;\">\n",
       "      <th></th>\n",
       "      <th>price</th>\n",
       "    </tr>\n",
       "    <tr>\n",
       "      <th>property_type</th>\n",
       "      <th></th>\n",
       "    </tr>\n",
       "  </thead>\n",
       "  <tbody>\n",
       "    <tr>\n",
       "      <th>Apartment</th>\n",
       "      <td>9.946726e+06</td>\n",
       "    </tr>\n",
       "    <tr>\n",
       "      <th>Block of Apartments</th>\n",
       "      <td>1.093750e+07</td>\n",
       "    </tr>\n",
       "    <tr>\n",
       "      <th>Character Property</th>\n",
       "      <td>6.500000e+05</td>\n",
       "    </tr>\n",
       "    <tr>\n",
       "      <th>Detached</th>\n",
       "      <td>1.167687e+07</td>\n",
       "    </tr>\n",
       "    <tr>\n",
       "      <th>Duplex</th>\n",
       "      <td>1.129160e+07</td>\n",
       "    </tr>\n",
       "    <tr>\n",
       "      <th>End of Terrace</th>\n",
       "      <td>1.218159e+07</td>\n",
       "    </tr>\n",
       "    <tr>\n",
       "      <th>Flat</th>\n",
       "      <td>9.120382e+06</td>\n",
       "    </tr>\n",
       "    <tr>\n",
       "      <th>Ground Flat</th>\n",
       "      <td>4.750000e+05</td>\n",
       "    </tr>\n",
       "    <tr>\n",
       "      <th>House</th>\n",
       "      <td>1.298651e+07</td>\n",
       "    </tr>\n",
       "    <tr>\n",
       "      <th>Link Detached House</th>\n",
       "      <td>9.316667e+06</td>\n",
       "    </tr>\n",
       "    <tr>\n",
       "      <th>Maisonette</th>\n",
       "      <td>6.533333e+06</td>\n",
       "    </tr>\n",
       "    <tr>\n",
       "      <th>Mews</th>\n",
       "      <td>1.023000e+07</td>\n",
       "    </tr>\n",
       "    <tr>\n",
       "      <th>Not Specified</th>\n",
       "      <td>1.406450e+07</td>\n",
       "    </tr>\n",
       "    <tr>\n",
       "      <th>Penthouse</th>\n",
       "      <td>1.164036e+07</td>\n",
       "    </tr>\n",
       "    <tr>\n",
       "      <th>Semi-Detached</th>\n",
       "      <td>1.197434e+07</td>\n",
       "    </tr>\n",
       "    <tr>\n",
       "      <th>Terraced</th>\n",
       "      <td>1.226433e+07</td>\n",
       "    </tr>\n",
       "    <tr>\n",
       "      <th>Town House</th>\n",
       "      <td>1.511607e+07</td>\n",
       "    </tr>\n",
       "    <tr>\n",
       "      <th>Villa</th>\n",
       "      <td>2.050000e+07</td>\n",
       "    </tr>\n",
       "  </tbody>\n",
       "</table>\n",
       "</div>"
      ],
      "text/plain": [
       "                            price\n",
       "property_type                    \n",
       "Apartment            9.946726e+06\n",
       "Block of Apartments  1.093750e+07\n",
       "Character Property   6.500000e+05\n",
       "Detached             1.167687e+07\n",
       "Duplex               1.129160e+07\n",
       "End of Terrace       1.218159e+07\n",
       "Flat                 9.120382e+06\n",
       "Ground Flat          4.750000e+05\n",
       "House                1.298651e+07\n",
       "Link Detached House  9.316667e+06\n",
       "Maisonette           6.533333e+06\n",
       "Mews                 1.023000e+07\n",
       "Not Specified        1.406450e+07\n",
       "Penthouse            1.164036e+07\n",
       "Semi-Detached        1.197434e+07\n",
       "Terraced             1.226433e+07\n",
       "Town House           1.511607e+07\n",
       "Villa                2.050000e+07"
      ]
     },
     "execution_count": 131,
     "metadata": {},
     "output_type": "execute_result"
    }
   ],
   "source": [
    "df.groupby(['property_type']).agg({\n",
    "    'price': 'mean'\n",
    "})"
   ]
  },
  {
   "cell_type": "code",
   "execution_count": 132,
   "id": "7a371fb1-a7e6-422f-8922-be338da2653b",
   "metadata": {},
   "outputs": [
    {
     "data": {
      "text/html": [
       "<div>\n",
       "<style scoped>\n",
       "    .dataframe tbody tr th:only-of-type {\n",
       "        vertical-align: middle;\n",
       "    }\n",
       "\n",
       "    .dataframe tbody tr th {\n",
       "        vertical-align: top;\n",
       "    }\n",
       "\n",
       "    .dataframe thead th {\n",
       "        text-align: right;\n",
       "    }\n",
       "</style>\n",
       "<table border=\"1\" class=\"dataframe\">\n",
       "  <thead>\n",
       "    <tr style=\"text-align: right;\">\n",
       "      <th></th>\n",
       "      <th>price</th>\n",
       "    </tr>\n",
       "    <tr>\n",
       "      <th>property_type</th>\n",
       "      <th></th>\n",
       "    </tr>\n",
       "  </thead>\n",
       "  <tbody>\n",
       "    <tr>\n",
       "      <th>Apartment</th>\n",
       "      <td>5.792350e+06</td>\n",
       "    </tr>\n",
       "    <tr>\n",
       "      <th>Block of Apartments</th>\n",
       "      <td>4.942903e+06</td>\n",
       "    </tr>\n",
       "    <tr>\n",
       "      <th>Character Property</th>\n",
       "      <td>NaN</td>\n",
       "    </tr>\n",
       "    <tr>\n",
       "      <th>Detached</th>\n",
       "      <td>5.891813e+06</td>\n",
       "    </tr>\n",
       "    <tr>\n",
       "      <th>Duplex</th>\n",
       "      <td>5.819055e+06</td>\n",
       "    </tr>\n",
       "    <tr>\n",
       "      <th>End of Terrace</th>\n",
       "      <td>1.054872e+07</td>\n",
       "    </tr>\n",
       "    <tr>\n",
       "      <th>Flat</th>\n",
       "      <td>4.638923e+06</td>\n",
       "    </tr>\n",
       "    <tr>\n",
       "      <th>Ground Flat</th>\n",
       "      <td>NaN</td>\n",
       "    </tr>\n",
       "    <tr>\n",
       "      <th>House</th>\n",
       "      <td>7.342016e+06</td>\n",
       "    </tr>\n",
       "    <tr>\n",
       "      <th>Link Detached House</th>\n",
       "      <td>1.732291e+06</td>\n",
       "    </tr>\n",
       "    <tr>\n",
       "      <th>Maisonette</th>\n",
       "      <td>2.829429e+06</td>\n",
       "    </tr>\n",
       "    <tr>\n",
       "      <th>Mews</th>\n",
       "      <td>2.481846e+06</td>\n",
       "    </tr>\n",
       "    <tr>\n",
       "      <th>Not Specified</th>\n",
       "      <td>1.216667e+07</td>\n",
       "    </tr>\n",
       "    <tr>\n",
       "      <th>Penthouse</th>\n",
       "      <td>8.727923e+06</td>\n",
       "    </tr>\n",
       "    <tr>\n",
       "      <th>Semi-Detached</th>\n",
       "      <td>6.587344e+06</td>\n",
       "    </tr>\n",
       "    <tr>\n",
       "      <th>Terraced</th>\n",
       "      <td>7.818549e+06</td>\n",
       "    </tr>\n",
       "    <tr>\n",
       "      <th>Town House</th>\n",
       "      <td>9.426519e+06</td>\n",
       "    </tr>\n",
       "    <tr>\n",
       "      <th>Villa</th>\n",
       "      <td>1.000000e+06</td>\n",
       "    </tr>\n",
       "  </tbody>\n",
       "</table>\n",
       "</div>"
      ],
      "text/plain": [
       "                            price\n",
       "property_type                    \n",
       "Apartment            5.792350e+06\n",
       "Block of Apartments  4.942903e+06\n",
       "Character Property            NaN\n",
       "Detached             5.891813e+06\n",
       "Duplex               5.819055e+06\n",
       "End of Terrace       1.054872e+07\n",
       "Flat                 4.638923e+06\n",
       "Ground Flat                   NaN\n",
       "House                7.342016e+06\n",
       "Link Detached House  1.732291e+06\n",
       "Maisonette           2.829429e+06\n",
       "Mews                 2.481846e+06\n",
       "Not Specified        1.216667e+07\n",
       "Penthouse            8.727923e+06\n",
       "Semi-Detached        6.587344e+06\n",
       "Terraced             7.818549e+06\n",
       "Town House           9.426519e+06\n",
       "Villa                1.000000e+06"
      ]
     },
     "execution_count": 132,
     "metadata": {},
     "output_type": "execute_result"
    }
   ],
   "source": [
    "df.groupby(['property_type']).agg({\n",
    "    'price': 'std'\n",
    "})"
   ]
  },
  {
   "cell_type": "code",
   "execution_count": 134,
   "id": "d1d86d5c-65b0-426b-8f56-b74e0976be16",
   "metadata": {},
   "outputs": [
    {
     "data": {
      "text/html": [
       "<div>\n",
       "<style scoped>\n",
       "    .dataframe tbody tr th:only-of-type {\n",
       "        vertical-align: middle;\n",
       "    }\n",
       "\n",
       "    .dataframe tbody tr th {\n",
       "        vertical-align: top;\n",
       "    }\n",
       "\n",
       "    .dataframe thead th {\n",
       "        text-align: right;\n",
       "    }\n",
       "</style>\n",
       "<table border=\"1\" class=\"dataframe\">\n",
       "  <thead>\n",
       "    <tr style=\"text-align: right;\">\n",
       "      <th></th>\n",
       "      <th>price</th>\n",
       "      <th>bathrooms</th>\n",
       "      <th>bedrooms</th>\n",
       "    </tr>\n",
       "    <tr>\n",
       "      <th>property_type</th>\n",
       "      <th></th>\n",
       "      <th></th>\n",
       "      <th></th>\n",
       "    </tr>\n",
       "  </thead>\n",
       "  <tbody>\n",
       "    <tr>\n",
       "      <th>Apartment</th>\n",
       "      <td>9.946726e+06</td>\n",
       "      <td>30.0</td>\n",
       "      <td>30.0</td>\n",
       "    </tr>\n",
       "    <tr>\n",
       "      <th>Block of Apartments</th>\n",
       "      <td>1.093750e+07</td>\n",
       "      <td>66.0</td>\n",
       "      <td>66.0</td>\n",
       "    </tr>\n",
       "    <tr>\n",
       "      <th>Character Property</th>\n",
       "      <td>6.500000e+05</td>\n",
       "      <td>1.0</td>\n",
       "      <td>6.0</td>\n",
       "    </tr>\n",
       "    <tr>\n",
       "      <th>Detached</th>\n",
       "      <td>1.167687e+07</td>\n",
       "      <td>12.0</td>\n",
       "      <td>14.0</td>\n",
       "    </tr>\n",
       "    <tr>\n",
       "      <th>Duplex</th>\n",
       "      <td>1.129160e+07</td>\n",
       "      <td>6.0</td>\n",
       "      <td>5.0</td>\n",
       "    </tr>\n",
       "    <tr>\n",
       "      <th>End of Terrace</th>\n",
       "      <td>1.218159e+07</td>\n",
       "      <td>7.0</td>\n",
       "      <td>8.0</td>\n",
       "    </tr>\n",
       "    <tr>\n",
       "      <th>Flat</th>\n",
       "      <td>9.120382e+06</td>\n",
       "      <td>8.0</td>\n",
       "      <td>9.0</td>\n",
       "    </tr>\n",
       "    <tr>\n",
       "      <th>Ground Flat</th>\n",
       "      <td>4.750000e+05</td>\n",
       "      <td>1.0</td>\n",
       "      <td>2.0</td>\n",
       "    </tr>\n",
       "    <tr>\n",
       "      <th>House</th>\n",
       "      <td>1.298651e+07</td>\n",
       "      <td>19.0</td>\n",
       "      <td>29.0</td>\n",
       "    </tr>\n",
       "    <tr>\n",
       "      <th>Link Detached House</th>\n",
       "      <td>9.316667e+06</td>\n",
       "      <td>5.0</td>\n",
       "      <td>8.0</td>\n",
       "    </tr>\n",
       "    <tr>\n",
       "      <th>Maisonette</th>\n",
       "      <td>6.533333e+06</td>\n",
       "      <td>4.0</td>\n",
       "      <td>4.0</td>\n",
       "    </tr>\n",
       "    <tr>\n",
       "      <th>Mews</th>\n",
       "      <td>1.023000e+07</td>\n",
       "      <td>5.0</td>\n",
       "      <td>5.0</td>\n",
       "    </tr>\n",
       "    <tr>\n",
       "      <th>Not Specified</th>\n",
       "      <td>1.406450e+07</td>\n",
       "      <td>10.0</td>\n",
       "      <td>15.0</td>\n",
       "    </tr>\n",
       "    <tr>\n",
       "      <th>Penthouse</th>\n",
       "      <td>1.164036e+07</td>\n",
       "      <td>8.0</td>\n",
       "      <td>8.0</td>\n",
       "    </tr>\n",
       "    <tr>\n",
       "      <th>Semi-Detached</th>\n",
       "      <td>1.197434e+07</td>\n",
       "      <td>8.0</td>\n",
       "      <td>9.0</td>\n",
       "    </tr>\n",
       "    <tr>\n",
       "      <th>Terraced</th>\n",
       "      <td>1.226433e+07</td>\n",
       "      <td>22.0</td>\n",
       "      <td>30.0</td>\n",
       "    </tr>\n",
       "    <tr>\n",
       "      <th>Town House</th>\n",
       "      <td>1.511607e+07</td>\n",
       "      <td>10.0</td>\n",
       "      <td>10.0</td>\n",
       "    </tr>\n",
       "    <tr>\n",
       "      <th>Villa</th>\n",
       "      <td>2.050000e+07</td>\n",
       "      <td>7.0</td>\n",
       "      <td>9.0</td>\n",
       "    </tr>\n",
       "  </tbody>\n",
       "</table>\n",
       "</div>"
      ],
      "text/plain": [
       "                            price  bathrooms  bedrooms\n",
       "property_type                                         \n",
       "Apartment            9.946726e+06       30.0      30.0\n",
       "Block of Apartments  1.093750e+07       66.0      66.0\n",
       "Character Property   6.500000e+05        1.0       6.0\n",
       "Detached             1.167687e+07       12.0      14.0\n",
       "Duplex               1.129160e+07        6.0       5.0\n",
       "End of Terrace       1.218159e+07        7.0       8.0\n",
       "Flat                 9.120382e+06        8.0       9.0\n",
       "Ground Flat          4.750000e+05        1.0       2.0\n",
       "House                1.298651e+07       19.0      29.0\n",
       "Link Detached House  9.316667e+06        5.0       8.0\n",
       "Maisonette           6.533333e+06        4.0       4.0\n",
       "Mews                 1.023000e+07        5.0       5.0\n",
       "Not Specified        1.406450e+07       10.0      15.0\n",
       "Penthouse            1.164036e+07        8.0       8.0\n",
       "Semi-Detached        1.197434e+07        8.0       9.0\n",
       "Terraced             1.226433e+07       22.0      30.0\n",
       "Town House           1.511607e+07       10.0      10.0\n",
       "Villa                2.050000e+07        7.0       9.0"
      ]
     },
     "execution_count": 134,
     "metadata": {},
     "output_type": "execute_result"
    }
   ],
   "source": [
    "df.groupby(['property_type']).agg({\n",
    "    'price': 'mean',\n",
    "    'bathrooms': 'max',\n",
    "    'bedrooms': 'max'\n",
    "})"
   ]
  },
  {
   "cell_type": "code",
   "execution_count": 136,
   "id": "37ba7a87-c2e2-44ab-93a6-71d0d4e650de",
   "metadata": {},
   "outputs": [
    {
     "data": {
      "text/html": [
       "<div>\n",
       "<style scoped>\n",
       "    .dataframe tbody tr th:only-of-type {\n",
       "        vertical-align: middle;\n",
       "    }\n",
       "\n",
       "    .dataframe tbody tr th {\n",
       "        vertical-align: top;\n",
       "    }\n",
       "\n",
       "    .dataframe thead tr th {\n",
       "        text-align: left;\n",
       "    }\n",
       "\n",
       "    .dataframe thead tr:last-of-type th {\n",
       "        text-align: right;\n",
       "    }\n",
       "</style>\n",
       "<table border=\"1\" class=\"dataframe\">\n",
       "  <thead>\n",
       "    <tr>\n",
       "      <th></th>\n",
       "      <th colspan=\"2\" halign=\"left\">price</th>\n",
       "    </tr>\n",
       "    <tr>\n",
       "      <th></th>\n",
       "      <th>mean</th>\n",
       "      <th>std</th>\n",
       "    </tr>\n",
       "    <tr>\n",
       "      <th>property_type</th>\n",
       "      <th></th>\n",
       "      <th></th>\n",
       "    </tr>\n",
       "  </thead>\n",
       "  <tbody>\n",
       "    <tr>\n",
       "      <th>Apartment</th>\n",
       "      <td>9.946726e+06</td>\n",
       "      <td>5.792350e+06</td>\n",
       "    </tr>\n",
       "    <tr>\n",
       "      <th>Block of Apartments</th>\n",
       "      <td>1.093750e+07</td>\n",
       "      <td>4.942903e+06</td>\n",
       "    </tr>\n",
       "    <tr>\n",
       "      <th>Character Property</th>\n",
       "      <td>6.500000e+05</td>\n",
       "      <td>NaN</td>\n",
       "    </tr>\n",
       "    <tr>\n",
       "      <th>Detached</th>\n",
       "      <td>1.167687e+07</td>\n",
       "      <td>5.891813e+06</td>\n",
       "    </tr>\n",
       "    <tr>\n",
       "      <th>Duplex</th>\n",
       "      <td>1.129160e+07</td>\n",
       "      <td>5.819055e+06</td>\n",
       "    </tr>\n",
       "  </tbody>\n",
       "</table>\n",
       "</div>"
      ],
      "text/plain": [
       "                            price              \n",
       "                             mean           std\n",
       "property_type                                  \n",
       "Apartment            9.946726e+06  5.792350e+06\n",
       "Block of Apartments  1.093750e+07  4.942903e+06\n",
       "Character Property   6.500000e+05           NaN\n",
       "Detached             1.167687e+07  5.891813e+06\n",
       "Duplex               1.129160e+07  5.819055e+06"
      ]
     },
     "execution_count": 136,
     "metadata": {},
     "output_type": "execute_result"
    }
   ],
   "source": [
    "df_grouped = df.groupby(['property_type']).agg({\n",
    "    'price': ['mean', 'std']\n",
    "})\n",
    "df_grouped.head()"
   ]
  },
  {
   "cell_type": "code",
   "execution_count": 137,
   "id": "6a1c4de1-55ab-4fd0-b5bc-ad5f46f49f3e",
   "metadata": {},
   "outputs": [
    {
     "data": {
      "text/plain": [
       "MultiIndex([('price', 'mean'),\n",
       "            ('price',  'std')],\n",
       "           )"
      ]
     },
     "execution_count": 137,
     "metadata": {},
     "output_type": "execute_result"
    }
   ],
   "source": [
    "df_grouped.columns"
   ]
  },
  {
   "cell_type": "code",
   "execution_count": 138,
   "id": "8c476a70-bae8-463d-b17c-323897da2f65",
   "metadata": {},
   "outputs": [],
   "source": [
    "df_grouped.columns = ['_'.join(col).strip() for col in df_grouped.columns.values]"
   ]
  },
  {
   "cell_type": "code",
   "execution_count": 139,
   "id": "98e5b96d-8e27-47ce-89b9-6979adc4479b",
   "metadata": {},
   "outputs": [
    {
     "data": {
      "text/html": [
       "<div>\n",
       "<style scoped>\n",
       "    .dataframe tbody tr th:only-of-type {\n",
       "        vertical-align: middle;\n",
       "    }\n",
       "\n",
       "    .dataframe tbody tr th {\n",
       "        vertical-align: top;\n",
       "    }\n",
       "\n",
       "    .dataframe thead th {\n",
       "        text-align: right;\n",
       "    }\n",
       "</style>\n",
       "<table border=\"1\" class=\"dataframe\">\n",
       "  <thead>\n",
       "    <tr style=\"text-align: right;\">\n",
       "      <th></th>\n",
       "      <th>price_mean</th>\n",
       "      <th>price_std</th>\n",
       "    </tr>\n",
       "    <tr>\n",
       "      <th>property_type</th>\n",
       "      <th></th>\n",
       "      <th></th>\n",
       "    </tr>\n",
       "  </thead>\n",
       "  <tbody>\n",
       "    <tr>\n",
       "      <th>Apartment</th>\n",
       "      <td>9.946726e+06</td>\n",
       "      <td>5.792350e+06</td>\n",
       "    </tr>\n",
       "    <tr>\n",
       "      <th>Block of Apartments</th>\n",
       "      <td>1.093750e+07</td>\n",
       "      <td>4.942903e+06</td>\n",
       "    </tr>\n",
       "    <tr>\n",
       "      <th>Character Property</th>\n",
       "      <td>6.500000e+05</td>\n",
       "      <td>NaN</td>\n",
       "    </tr>\n",
       "    <tr>\n",
       "      <th>Detached</th>\n",
       "      <td>1.167687e+07</td>\n",
       "      <td>5.891813e+06</td>\n",
       "    </tr>\n",
       "    <tr>\n",
       "      <th>Duplex</th>\n",
       "      <td>1.129160e+07</td>\n",
       "      <td>5.819055e+06</td>\n",
       "    </tr>\n",
       "  </tbody>\n",
       "</table>\n",
       "</div>"
      ],
      "text/plain": [
       "                       price_mean     price_std\n",
       "property_type                                  \n",
       "Apartment            9.946726e+06  5.792350e+06\n",
       "Block of Apartments  1.093750e+07  4.942903e+06\n",
       "Character Property   6.500000e+05           NaN\n",
       "Detached             1.167687e+07  5.891813e+06\n",
       "Duplex               1.129160e+07  5.819055e+06"
      ]
     },
     "execution_count": 139,
     "metadata": {},
     "output_type": "execute_result"
    }
   ],
   "source": [
    "df_grouped.head()"
   ]
  },
  {
   "cell_type": "code",
   "execution_count": 140,
   "id": "6f26d4af-08fb-47c9-813e-f61e64fa0603",
   "metadata": {},
   "outputs": [
    {
     "data": {
      "text/html": [
       "<div>\n",
       "<style scoped>\n",
       "    .dataframe tbody tr th:only-of-type {\n",
       "        vertical-align: middle;\n",
       "    }\n",
       "\n",
       "    .dataframe tbody tr th {\n",
       "        vertical-align: top;\n",
       "    }\n",
       "\n",
       "    .dataframe thead th {\n",
       "        text-align: right;\n",
       "    }\n",
       "</style>\n",
       "<table border=\"1\" class=\"dataframe\">\n",
       "  <thead>\n",
       "    <tr style=\"text-align: right;\">\n",
       "      <th></th>\n",
       "      <th></th>\n",
       "      <th>price</th>\n",
       "      <th>sq_feet</th>\n",
       "    </tr>\n",
       "    <tr>\n",
       "      <th>bedrooms</th>\n",
       "      <th>bathrooms</th>\n",
       "      <th></th>\n",
       "      <th></th>\n",
       "    </tr>\n",
       "  </thead>\n",
       "  <tbody>\n",
       "    <tr>\n",
       "      <th rowspan=\"2\" valign=\"top\">1.0</th>\n",
       "      <th>1.0</th>\n",
       "      <td>2.531658e+06</td>\n",
       "      <td>1085.333333</td>\n",
       "    </tr>\n",
       "    <tr>\n",
       "      <th>2.0</th>\n",
       "      <td>7.225000e+06</td>\n",
       "      <td>1311.000000</td>\n",
       "    </tr>\n",
       "    <tr>\n",
       "      <th rowspan=\"3\" valign=\"top\">2.0</th>\n",
       "      <th>1.0</th>\n",
       "      <td>6.138889e+05</td>\n",
       "      <td>822.500000</td>\n",
       "    </tr>\n",
       "    <tr>\n",
       "      <th>2.0</th>\n",
       "      <td>6.184314e+06</td>\n",
       "      <td>1776.703704</td>\n",
       "    </tr>\n",
       "    <tr>\n",
       "      <th>3.0</th>\n",
       "      <td>7.630000e+06</td>\n",
       "      <td>1781.000000</td>\n",
       "    </tr>\n",
       "    <tr>\n",
       "      <th>...</th>\n",
       "      <th>...</th>\n",
       "      <td>...</td>\n",
       "      <td>...</td>\n",
       "    </tr>\n",
       "    <tr>\n",
       "      <th>29.0</th>\n",
       "      <th>19.0</th>\n",
       "      <td>1.850000e+07</td>\n",
       "      <td>11238.000000</td>\n",
       "    </tr>\n",
       "    <tr>\n",
       "      <th rowspan=\"2\" valign=\"top\">30.0</th>\n",
       "      <th>20.0</th>\n",
       "      <td>8.900000e+06</td>\n",
       "      <td>NaN</td>\n",
       "    </tr>\n",
       "    <tr>\n",
       "      <th>30.0</th>\n",
       "      <td>7.200000e+06</td>\n",
       "      <td>13096.000000</td>\n",
       "    </tr>\n",
       "    <tr>\n",
       "      <th>36.0</th>\n",
       "      <th>34.0</th>\n",
       "      <td>1.750000e+07</td>\n",
       "      <td>23652.000000</td>\n",
       "    </tr>\n",
       "    <tr>\n",
       "      <th>66.0</th>\n",
       "      <th>66.0</th>\n",
       "      <td>7.000000e+06</td>\n",
       "      <td>NaN</td>\n",
       "    </tr>\n",
       "  </tbody>\n",
       "</table>\n",
       "<p>77 rows × 2 columns</p>\n",
       "</div>"
      ],
      "text/plain": [
       "                           price       sq_feet\n",
       "bedrooms bathrooms                            \n",
       "1.0      1.0        2.531658e+06   1085.333333\n",
       "         2.0        7.225000e+06   1311.000000\n",
       "2.0      1.0        6.138889e+05    822.500000\n",
       "         2.0        6.184314e+06   1776.703704\n",
       "         3.0        7.630000e+06   1781.000000\n",
       "...                          ...           ...\n",
       "29.0     19.0       1.850000e+07  11238.000000\n",
       "30.0     20.0       8.900000e+06           NaN\n",
       "         30.0       7.200000e+06  13096.000000\n",
       "36.0     34.0       1.750000e+07  23652.000000\n",
       "66.0     66.0       7.000000e+06           NaN\n",
       "\n",
       "[77 rows x 2 columns]"
      ]
     },
     "execution_count": 140,
     "metadata": {},
     "output_type": "execute_result"
    }
   ],
   "source": [
    "df.groupby(['bedrooms', 'bathrooms']).agg({\n",
    "    'price': 'mean',\n",
    "    'sq_feet': 'mean'\n",
    "})"
   ]
  },
  {
   "cell_type": "code",
   "execution_count": 141,
   "id": "cfb3fd26-8eb3-44ad-bb68-fce535c5c825",
   "metadata": {},
   "outputs": [
    {
     "data": {
      "text/html": [
       "<div>\n",
       "<style scoped>\n",
       "    .dataframe tbody tr th:only-of-type {\n",
       "        vertical-align: middle;\n",
       "    }\n",
       "\n",
       "    .dataframe tbody tr th {\n",
       "        vertical-align: top;\n",
       "    }\n",
       "\n",
       "    .dataframe thead th {\n",
       "        text-align: right;\n",
       "    }\n",
       "</style>\n",
       "<table border=\"1\" class=\"dataframe\">\n",
       "  <thead>\n",
       "    <tr style=\"text-align: right;\">\n",
       "      <th></th>\n",
       "      <th></th>\n",
       "      <th>price</th>\n",
       "      <th>sq_feet</th>\n",
       "      <th>property_type</th>\n",
       "    </tr>\n",
       "    <tr>\n",
       "      <th>bedrooms</th>\n",
       "      <th>bathrooms</th>\n",
       "      <th></th>\n",
       "      <th></th>\n",
       "      <th></th>\n",
       "    </tr>\n",
       "  </thead>\n",
       "  <tbody>\n",
       "    <tr>\n",
       "      <th rowspan=\"2\" valign=\"top\">1.0</th>\n",
       "      <th>1.0</th>\n",
       "      <td>2.531658e+06</td>\n",
       "      <td>1085.333333</td>\n",
       "      <td>Apartment</td>\n",
       "    </tr>\n",
       "    <tr>\n",
       "      <th>2.0</th>\n",
       "      <td>7.225000e+06</td>\n",
       "      <td>1311.000000</td>\n",
       "      <td>Apartment</td>\n",
       "    </tr>\n",
       "    <tr>\n",
       "      <th rowspan=\"3\" valign=\"top\">2.0</th>\n",
       "      <th>1.0</th>\n",
       "      <td>6.138889e+05</td>\n",
       "      <td>822.500000</td>\n",
       "      <td>Apartment</td>\n",
       "    </tr>\n",
       "    <tr>\n",
       "      <th>2.0</th>\n",
       "      <td>6.184314e+06</td>\n",
       "      <td>1776.703704</td>\n",
       "      <td>Flat</td>\n",
       "    </tr>\n",
       "    <tr>\n",
       "      <th>3.0</th>\n",
       "      <td>7.630000e+06</td>\n",
       "      <td>1781.000000</td>\n",
       "      <td>Apartment</td>\n",
       "    </tr>\n",
       "    <tr>\n",
       "      <th>...</th>\n",
       "      <th>...</th>\n",
       "      <td>...</td>\n",
       "      <td>...</td>\n",
       "      <td>...</td>\n",
       "    </tr>\n",
       "    <tr>\n",
       "      <th>29.0</th>\n",
       "      <th>19.0</th>\n",
       "      <td>1.850000e+07</td>\n",
       "      <td>11238.000000</td>\n",
       "      <td>House</td>\n",
       "    </tr>\n",
       "    <tr>\n",
       "      <th rowspan=\"2\" valign=\"top\">30.0</th>\n",
       "      <th>20.0</th>\n",
       "      <td>8.900000e+06</td>\n",
       "      <td>NaN</td>\n",
       "      <td>Terraced</td>\n",
       "    </tr>\n",
       "    <tr>\n",
       "      <th>30.0</th>\n",
       "      <td>7.200000e+06</td>\n",
       "      <td>13096.000000</td>\n",
       "      <td>Apartment</td>\n",
       "    </tr>\n",
       "    <tr>\n",
       "      <th>36.0</th>\n",
       "      <th>34.0</th>\n",
       "      <td>1.750000e+07</td>\n",
       "      <td>23652.000000</td>\n",
       "      <td>Block of Apartments</td>\n",
       "    </tr>\n",
       "    <tr>\n",
       "      <th>66.0</th>\n",
       "      <th>66.0</th>\n",
       "      <td>7.000000e+06</td>\n",
       "      <td>NaN</td>\n",
       "      <td>Block of Apartments</td>\n",
       "    </tr>\n",
       "  </tbody>\n",
       "</table>\n",
       "<p>77 rows × 3 columns</p>\n",
       "</div>"
      ],
      "text/plain": [
       "                           price       sq_feet        property_type\n",
       "bedrooms bathrooms                                                 \n",
       "1.0      1.0        2.531658e+06   1085.333333            Apartment\n",
       "         2.0        7.225000e+06   1311.000000            Apartment\n",
       "2.0      1.0        6.138889e+05    822.500000            Apartment\n",
       "         2.0        6.184314e+06   1776.703704                 Flat\n",
       "         3.0        7.630000e+06   1781.000000            Apartment\n",
       "...                          ...           ...                  ...\n",
       "29.0     19.0       1.850000e+07  11238.000000                House\n",
       "30.0     20.0       8.900000e+06           NaN             Terraced\n",
       "         30.0       7.200000e+06  13096.000000            Apartment\n",
       "36.0     34.0       1.750000e+07  23652.000000  Block of Apartments\n",
       "66.0     66.0       7.000000e+06           NaN  Block of Apartments\n",
       "\n",
       "[77 rows x 3 columns]"
      ]
     },
     "execution_count": 141,
     "metadata": {},
     "output_type": "execute_result"
    }
   ],
   "source": [
    "def first(s):\n",
    "    return s.iloc[0]\n",
    "\n",
    "df.groupby(['bedrooms', 'bathrooms']).agg({\n",
    "    'price': 'mean',\n",
    "    'sq_feet': 'mean',\n",
    "    'property_type': first\n",
    "})"
   ]
  },
  {
   "cell_type": "code",
   "execution_count": null,
   "id": "77f50fe6-24f8-433e-b712-92e14e3fc8f7",
   "metadata": {},
   "outputs": [],
   "source": []
  }
 ],
 "metadata": {
  "kernelspec": {
   "display_name": "Python 3 (ipykernel)",
   "language": "python",
   "name": "python3"
  },
  "language_info": {
   "codemirror_mode": {
    "name": "ipython",
    "version": 3
   },
   "file_extension": ".py",
   "mimetype": "text/x-python",
   "name": "python",
   "nbconvert_exporter": "python",
   "pygments_lexer": "ipython3",
   "version": "3.12.2"
  }
 },
 "nbformat": 4,
 "nbformat_minor": 5
}
