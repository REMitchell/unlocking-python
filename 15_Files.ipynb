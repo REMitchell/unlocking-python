{
 "cells": [
  {
   "cell_type": "markdown",
   "id": "2a525dfb-c1c2-4b4f-ab12-cb87db31f2b1",
   "metadata": {},
   "source": [
    "# Working with Files"
   ]
  },
  {
   "cell_type": "markdown",
   "id": "7f6ca332-7986-4bfa-a053-814c28150df8",
   "metadata": {},
   "source": [
    "## Reading Files"
   ]
  },
  {
   "cell_type": "code",
   "execution_count": 90,
   "id": "d91619cf-36d1-4714-918c-84ea0fb41678",
   "metadata": {},
   "outputs": [
    {
     "ename": "FileNotFoundError",
     "evalue": "[Errno 2] No such file or directory: '15_test.txt'",
     "output_type": "error",
     "traceback": [
      "\u001b[31m---------------------------------------------------------------------------\u001b[39m",
      "\u001b[31mFileNotFoundError\u001b[39m                         Traceback (most recent call last)",
      "\u001b[36mCell\u001b[39m\u001b[36m \u001b[39m\u001b[32mIn[90]\u001b[39m\u001b[32m, line 1\u001b[39m\n\u001b[32m----> \u001b[39m\u001b[32m1\u001b[39m f = \u001b[38;5;28mopen\u001b[39m(\u001b[33m'\u001b[39m\u001b[33m15_test.txt\u001b[39m\u001b[33m'\u001b[39m, \u001b[33m'\u001b[39m\u001b[33mr\u001b[39m\u001b[33m'\u001b[39m)\n",
      "\u001b[36mFile \u001b[39m\u001b[32m/opt/anaconda3/lib/python3.12/site-packages/IPython/core/interactiveshell.py:325\u001b[39m, in \u001b[36m_modified_open\u001b[39m\u001b[34m(file, *args, **kwargs)\u001b[39m\n\u001b[32m    318\u001b[39m \u001b[38;5;28;01mif\u001b[39;00m file \u001b[38;5;129;01min\u001b[39;00m {\u001b[32m0\u001b[39m, \u001b[32m1\u001b[39m, \u001b[32m2\u001b[39m}:\n\u001b[32m    319\u001b[39m     \u001b[38;5;28;01mraise\u001b[39;00m \u001b[38;5;167;01mValueError\u001b[39;00m(\n\u001b[32m    320\u001b[39m         \u001b[33mf\u001b[39m\u001b[33m\"\u001b[39m\u001b[33mIPython won\u001b[39m\u001b[33m'\u001b[39m\u001b[33mt let you open fd=\u001b[39m\u001b[38;5;132;01m{\u001b[39;00mfile\u001b[38;5;132;01m}\u001b[39;00m\u001b[33m by default \u001b[39m\u001b[33m\"\u001b[39m\n\u001b[32m    321\u001b[39m         \u001b[33m\"\u001b[39m\u001b[33mas it is likely to crash IPython. If you know what you are doing, \u001b[39m\u001b[33m\"\u001b[39m\n\u001b[32m    322\u001b[39m         \u001b[33m\"\u001b[39m\u001b[33myou can use builtins\u001b[39m\u001b[33m'\u001b[39m\u001b[33m open.\u001b[39m\u001b[33m\"\u001b[39m\n\u001b[32m    323\u001b[39m     )\n\u001b[32m--> \u001b[39m\u001b[32m325\u001b[39m \u001b[38;5;28;01mreturn\u001b[39;00m io_open(file, *args, **kwargs)\n",
      "\u001b[31mFileNotFoundError\u001b[39m: [Errno 2] No such file or directory: '15_test.txt'"
     ]
    }
   ],
   "source": [
    "f = open('15_test.txt', 'r')"
   ]
  },
  {
   "cell_type": "code",
   "execution_count": 5,
   "id": "8e5313fd-9fa9-4392-8499-44bb0671ab89",
   "metadata": {
    "scrolled": true
   },
   "outputs": [
    {
     "data": {
      "text/plain": [
       "\"And Now for Something Completely Different\\nMonty Python and the Holy Grail\\nMonty Python's Life of Brian\\nMonty Python Live at the Hollywood Bowl\\nMonty Python's The Meaning of Life\""
      ]
     },
     "execution_count": 5,
     "metadata": {},
     "output_type": "execute_result"
    }
   ],
   "source": [
    "f.read()"
   ]
  },
  {
   "cell_type": "code",
   "execution_count": 9,
   "id": "762d1564-3f6c-468e-acbf-ef960e5d08ef",
   "metadata": {},
   "outputs": [],
   "source": [
    "f.close()"
   ]
  },
  {
   "cell_type": "code",
   "execution_count": 7,
   "id": "97625859-c09a-4a51-a396-3c163377c713",
   "metadata": {},
   "outputs": [
    {
     "ename": "ValueError",
     "evalue": "I/O operation on closed file.",
     "output_type": "error",
     "traceback": [
      "\u001b[31m---------------------------------------------------------------------------\u001b[39m",
      "\u001b[31mValueError\u001b[39m                                Traceback (most recent call last)",
      "\u001b[36mCell\u001b[39m\u001b[36m \u001b[39m\u001b[32mIn[7]\u001b[39m\u001b[32m, line 1\u001b[39m\n\u001b[32m----> \u001b[39m\u001b[32m1\u001b[39m f.read()\n",
      "\u001b[31mValueError\u001b[39m: I/O operation on closed file."
     ]
    }
   ],
   "source": [
    "f.read()"
   ]
  },
  {
   "cell_type": "code",
   "execution_count": 10,
   "id": "b3022153-1530-44e2-8bd4-08997c5fbf17",
   "metadata": {},
   "outputs": [
    {
     "name": "stdout",
     "output_type": "stream",
     "text": [
      "And Now for Something Completely Different\n",
      "Monty Python and the Holy Grail\n",
      "Monty Python's Life of Brian\n",
      "Monty Python Live at the Hollywood Bowl\n",
      "Monty Python's The Meaning of Life\n"
     ]
    }
   ],
   "source": [
    "f = open('15_test.txt', 'r')\n",
    "try:\n",
    "    print(f.read())\n",
    "finally:\n",
    "    f.close()"
   ]
  },
  {
   "cell_type": "code",
   "execution_count": 11,
   "id": "914f821e-fb3a-4d5d-baad-218176693a28",
   "metadata": {},
   "outputs": [
    {
     "name": "stdout",
     "output_type": "stream",
     "text": [
      "And Now for Something Completely Different\n",
      "Monty Python and the Holy Grail\n",
      "Monty Python's Life of Brian\n",
      "Monty Python Live at the Hollywood Bowl\n",
      "Monty Python's The Meaning of Life\n"
     ]
    }
   ],
   "source": [
    "with open('15_test.txt', 'r') as f:\n",
    "    print(f.read())"
   ]
  },
  {
   "cell_type": "code",
   "execution_count": 13,
   "id": "5059f1b7-11e0-46c7-9d57-437804502ade",
   "metadata": {},
   "outputs": [
    {
     "ename": "ZeroDivisionError",
     "evalue": "division by zero",
     "output_type": "error",
     "traceback": [
      "\u001b[31m---------------------------------------------------------------------------\u001b[39m",
      "\u001b[31mZeroDivisionError\u001b[39m                         Traceback (most recent call last)",
      "\u001b[36mCell\u001b[39m\u001b[36m \u001b[39m\u001b[32mIn[13]\u001b[39m\u001b[32m, line 2\u001b[39m\n\u001b[32m      1\u001b[39m f = \u001b[38;5;28mopen\u001b[39m(\u001b[33m'\u001b[39m\u001b[33m15_test.txt\u001b[39m\u001b[33m'\u001b[39m, \u001b[33m'\u001b[39m\u001b[33mr\u001b[39m\u001b[33m'\u001b[39m)\n\u001b[32m----> \u001b[39m\u001b[32m2\u001b[39m \u001b[32m1\u001b[39m/\u001b[32m0\u001b[39m\n\u001b[32m      3\u001b[39m f.close()\n",
      "\u001b[31mZeroDivisionError\u001b[39m: division by zero"
     ]
    }
   ],
   "source": [
    "f = open('15_test.txt', 'r')\n",
    "1/0\n",
    "f.close()"
   ]
  },
  {
   "cell_type": "code",
   "execution_count": 14,
   "id": "1a0c51b3-512b-4d2e-94a4-7d23db2e50c6",
   "metadata": {},
   "outputs": [
    {
     "data": {
      "text/plain": [
       "\"And Now for Something Completely Different\\nMonty Python and the Holy Grail\\nMonty Python's Life of Brian\\nMonty Python Live at the Hollywood Bowl\\nMonty Python's The Meaning of Life\""
      ]
     },
     "execution_count": 14,
     "metadata": {},
     "output_type": "execute_result"
    }
   ],
   "source": [
    "f.read()"
   ]
  },
  {
   "cell_type": "code",
   "execution_count": 15,
   "id": "f54ddc08-ba2d-4b2c-b9d9-2066a2eb0f5f",
   "metadata": {},
   "outputs": [
    {
     "ename": "ZeroDivisionError",
     "evalue": "division by zero",
     "output_type": "error",
     "traceback": [
      "\u001b[31m---------------------------------------------------------------------------\u001b[39m",
      "\u001b[31mZeroDivisionError\u001b[39m                         Traceback (most recent call last)",
      "\u001b[36mCell\u001b[39m\u001b[36m \u001b[39m\u001b[32mIn[15]\u001b[39m\u001b[32m, line 2\u001b[39m\n\u001b[32m      1\u001b[39m \u001b[38;5;28;01mwith\u001b[39;00m \u001b[38;5;28mopen\u001b[39m(\u001b[33m'\u001b[39m\u001b[33m15_test.txt\u001b[39m\u001b[33m'\u001b[39m, \u001b[33m'\u001b[39m\u001b[33mr\u001b[39m\u001b[33m'\u001b[39m) \u001b[38;5;28;01mas\u001b[39;00m f:\n\u001b[32m----> \u001b[39m\u001b[32m2\u001b[39m     \u001b[32m1\u001b[39m/\u001b[32m0\u001b[39m\n",
      "\u001b[31mZeroDivisionError\u001b[39m: division by zero"
     ]
    }
   ],
   "source": [
    "with open('15_test.txt', 'r') as f:\n",
    "    1/0"
   ]
  },
  {
   "cell_type": "code",
   "execution_count": 16,
   "id": "f33754fb-3926-4f63-b7db-93cac46d4811",
   "metadata": {},
   "outputs": [
    {
     "ename": "ValueError",
     "evalue": "I/O operation on closed file.",
     "output_type": "error",
     "traceback": [
      "\u001b[31m---------------------------------------------------------------------------\u001b[39m",
      "\u001b[31mValueError\u001b[39m                                Traceback (most recent call last)",
      "\u001b[36mCell\u001b[39m\u001b[36m \u001b[39m\u001b[32mIn[16]\u001b[39m\u001b[32m, line 1\u001b[39m\n\u001b[32m----> \u001b[39m\u001b[32m1\u001b[39m f.read()\n",
      "\u001b[31mValueError\u001b[39m: I/O operation on closed file."
     ]
    }
   ],
   "source": [
    "f.read()"
   ]
  },
  {
   "cell_type": "code",
   "execution_count": null,
   "id": "63ed449d-fee4-43b4-8370-618541b6aba2",
   "metadata": {},
   "outputs": [],
   "source": []
  },
  {
   "cell_type": "markdown",
   "id": "55ea8d87-5cc1-44aa-b7ee-9a61d7bacf7b",
   "metadata": {},
   "source": [
    "#### More about With Statements"
   ]
  },
  {
   "cell_type": "code",
   "execution_count": 24,
   "id": "df20f87a-7d32-45c9-a1b3-a8b54be048bb",
   "metadata": {},
   "outputs": [],
   "source": [
    "class SetupAndTeardown:  \n",
    "    def __init__(self):\n",
    "        print('Instantiating')\n",
    "\n",
    "    def __enter__(self):\n",
    "        print('Setup')\n",
    "\n",
    "    def __exit__(self, exc_type, exc_value, traceback):\n",
    "        print('Teardown')"
   ]
  },
  {
   "cell_type": "code",
   "execution_count": 25,
   "id": "ed002fe4-08ee-4766-991f-d06e8d45f47c",
   "metadata": {
    "scrolled": true
   },
   "outputs": [
    {
     "name": "stdout",
     "output_type": "stream",
     "text": [
      "Instantiating\n",
      "Setup\n",
      "Doing some stuff\n",
      "Teardown\n"
     ]
    }
   ],
   "source": [
    "with SetupAndTeardown() as st:\n",
    "    print(f'Doing some stuff')"
   ]
  },
  {
   "cell_type": "code",
   "execution_count": 26,
   "id": "c9fb593d-8fc1-400a-a897-c701bc75e622",
   "metadata": {},
   "outputs": [],
   "source": [
    "class SetupAndTeardown:  \n",
    "    def __init__(self):\n",
    "        print('Instantiating')\n",
    "\n",
    "    def __enter__(self):\n",
    "        print('Setup')\n",
    "\n",
    "    def __exit__(self, exc_type, exc_value, traceback):\n",
    "        print(exc_type)\n",
    "        print(exc_value)\n",
    "        print(traceback)\n",
    "        print('Teardown')"
   ]
  },
  {
   "cell_type": "code",
   "execution_count": 27,
   "id": "e0d83965-cddd-480b-ab80-de2a2adcd0ab",
   "metadata": {},
   "outputs": [
    {
     "name": "stdout",
     "output_type": "stream",
     "text": [
      "Instantiating\n",
      "Setup\n",
      "<class 'ZeroDivisionError'>\n",
      "division by zero\n",
      "<traceback object at 0x1473aec00>\n",
      "Teardown\n"
     ]
    },
    {
     "ename": "ZeroDivisionError",
     "evalue": "division by zero",
     "output_type": "error",
     "traceback": [
      "\u001b[31m---------------------------------------------------------------------------\u001b[39m",
      "\u001b[31mZeroDivisionError\u001b[39m                         Traceback (most recent call last)",
      "\u001b[36mCell\u001b[39m\u001b[36m \u001b[39m\u001b[32mIn[27]\u001b[39m\u001b[32m, line 2\u001b[39m\n\u001b[32m      1\u001b[39m \u001b[38;5;28;01mwith\u001b[39;00m SetupAndTeardown() \u001b[38;5;28;01mas\u001b[39;00m st:\n\u001b[32m----> \u001b[39m\u001b[32m2\u001b[39m     \u001b[38;5;28mprint\u001b[39m(\u001b[32m1\u001b[39m/\u001b[32m0\u001b[39m)\n",
      "\u001b[31mZeroDivisionError\u001b[39m: division by zero"
     ]
    }
   ],
   "source": [
    "with SetupAndTeardown() as st:\n",
    "    print(1/0)\n"
   ]
  },
  {
   "cell_type": "markdown",
   "id": "ae7634a0-01fe-4980-947c-9af9f964177f",
   "metadata": {},
   "source": [
    "### Reading Files (continued)"
   ]
  },
  {
   "cell_type": "code",
   "execution_count": 18,
   "id": "025fc35e-40c5-4160-ab5a-359de72af691",
   "metadata": {},
   "outputs": [
    {
     "name": "stdout",
     "output_type": "stream",
     "text": [
      "And Now for Something Completely Different\n",
      "\n",
      "Monty Python and the Holy Grail\n",
      "\n"
     ]
    }
   ],
   "source": [
    "with open('15_test.txt', 'r') as f:\n",
    "    print(f.readline())\n",
    "    print(f.readline())"
   ]
  },
  {
   "cell_type": "code",
   "execution_count": 19,
   "id": "9f7190c4-cc52-4f0c-9e84-7f9621cc682e",
   "metadata": {},
   "outputs": [
    {
     "name": "stdout",
     "output_type": "stream",
     "text": [
      "And Now for Something Completely Different\n",
      "\n",
      "Monty Python and the Holy Grail\n",
      "\n",
      "Monty Python's Life of Brian\n",
      "\n",
      "Monty Python Live at the Hollywood Bowl\n",
      "\n",
      "Monty Python's The Meaning of Life\n"
     ]
    }
   ],
   "source": [
    "with open('15_test.txt', 'r') as f:\n",
    "    while line := f.readline():\n",
    "        print(line)"
   ]
  },
  {
   "cell_type": "code",
   "execution_count": 20,
   "id": "1bd96590-a7d5-4dd9-be27-873122d5fbe9",
   "metadata": {},
   "outputs": [
    {
     "name": "stdout",
     "output_type": "stream",
     "text": [
      "['And Now for Something Completely Different\\n', 'Monty Python and the Holy Grail\\n', \"Monty Python's Life of Brian\\n\", 'Monty Python Live at the Hollywood Bowl\\n', \"Monty Python's The Meaning of Life\"]\n"
     ]
    }
   ],
   "source": [
    "with open('15_test.txt', 'r') as f:\n",
    "    print(f.readlines())"
   ]
  },
  {
   "cell_type": "code",
   "execution_count": 21,
   "id": "06ec3da2-00e1-490b-8806-815076e863f4",
   "metadata": {},
   "outputs": [],
   "source": [
    "with open('15_test.txt', 'r') as f:\n",
    "    lines = [l.strip() for l in f.readlines()]"
   ]
  },
  {
   "cell_type": "code",
   "execution_count": 22,
   "id": "59843123-15d5-4417-8cc5-d62119b1e504",
   "metadata": {},
   "outputs": [],
   "source": [
    "with open('15_test.txt', 'r') as f:\n",
    "    lines = f.read().split('\\n')"
   ]
  },
  {
   "cell_type": "code",
   "execution_count": 23,
   "id": "c3728c3e-122f-491a-a0b8-bf7428df87e6",
   "metadata": {},
   "outputs": [],
   "source": [
    "with open('15_test.txt', 'r') as f:\n",
    "    lines = f.read().splitlines()"
   ]
  },
  {
   "cell_type": "code",
   "execution_count": null,
   "id": "f36f15b2-c656-49a5-aef7-dead2229f970",
   "metadata": {},
   "outputs": [],
   "source": []
  },
  {
   "cell_type": "markdown",
   "id": "e6e19b66-ce0c-4137-8a6d-62a988bcc10d",
   "metadata": {},
   "source": [
    "## Writing files"
   ]
  },
  {
   "cell_type": "code",
   "execution_count": 28,
   "id": "d23d008a-f0f7-4211-a97e-1ecd74770c5c",
   "metadata": {},
   "outputs": [],
   "source": [
    "with open('15_new.txt', 'w') as f:\n",
    "    f.write('Some text')"
   ]
  },
  {
   "cell_type": "code",
   "execution_count": 29,
   "id": "76433f50-13ea-49d3-9bd6-8725ed216790",
   "metadata": {},
   "outputs": [],
   "source": [
    "with open('15_new.txt', 'w') as f:\n",
    "    f.write('Some text')\n",
    "\n",
    "with open('15_new.txt', 'w') as f:\n",
    "    f.write('Some other text')"
   ]
  },
  {
   "cell_type": "code",
   "execution_count": 30,
   "id": "83ce541d-4851-4f46-b4cc-dae0f61c8162",
   "metadata": {},
   "outputs": [
    {
     "name": "stdout",
     "output_type": "stream",
     "text": [
      "['Some other text']\n"
     ]
    }
   ],
   "source": [
    "with open('15_new.txt', 'r') as f:\n",
    "    print(f.readlines())"
   ]
  },
  {
   "cell_type": "code",
   "execution_count": 31,
   "id": "e0f0b12c-6110-41e8-9502-26265361cdd0",
   "metadata": {},
   "outputs": [],
   "source": [
    "with open('15_new.txt', 'a') as f:\n",
    "    f.write('Some text')\n",
    "    f.write('Some other text')"
   ]
  },
  {
   "cell_type": "code",
   "execution_count": 32,
   "id": "7b36f44e-0e09-4b2a-878c-5144959ccebf",
   "metadata": {},
   "outputs": [
    {
     "name": "stdout",
     "output_type": "stream",
     "text": [
      "['Some other textSome textSome other text']\n"
     ]
    }
   ],
   "source": [
    "with open('15_new.txt', 'r') as f:\n",
    "    print(f.readlines())"
   ]
  },
  {
   "cell_type": "code",
   "execution_count": 33,
   "id": "305b6a25-6c4b-4e2d-83e2-92c0d92678b8",
   "metadata": {},
   "outputs": [],
   "source": [
    "with open('15_new.txt', 'w') as f:\n",
    "    lines = ['Some text\\n', 'Some other text\\n']\n",
    "    f.writelines(lines)\n"
   ]
  },
  {
   "cell_type": "code",
   "execution_count": 34,
   "id": "a71c6ea4-0841-46d1-a6fc-56685352ac32",
   "metadata": {},
   "outputs": [
    {
     "name": "stdout",
     "output_type": "stream",
     "text": [
      "['Some text\\n', 'Some other text\\n']\n"
     ]
    }
   ],
   "source": [
    "with open('15_new.txt', 'r') as f:\n",
    "    print(f.readlines())"
   ]
  },
  {
   "cell_type": "code",
   "execution_count": 35,
   "id": "8886e5ea-67e8-499a-a7d1-930e3c95d11a",
   "metadata": {},
   "outputs": [
    {
     "ename": "UnsupportedOperation",
     "evalue": "not readable",
     "output_type": "error",
     "traceback": [
      "\u001b[31m---------------------------------------------------------------------------\u001b[39m",
      "\u001b[31mUnsupportedOperation\u001b[39m                      Traceback (most recent call last)",
      "\u001b[36mCell\u001b[39m\u001b[36m \u001b[39m\u001b[32mIn[35]\u001b[39m\u001b[32m, line 2\u001b[39m\n\u001b[32m      1\u001b[39m \u001b[38;5;28;01mwith\u001b[39;00m \u001b[38;5;28mopen\u001b[39m(\u001b[33m'\u001b[39m\u001b[33m15_new.txt\u001b[39m\u001b[33m'\u001b[39m, \u001b[33m'\u001b[39m\u001b[33ma\u001b[39m\u001b[33m'\u001b[39m) \u001b[38;5;28;01mas\u001b[39;00m f:\n\u001b[32m----> \u001b[39m\u001b[32m2\u001b[39m     f.read()\n",
      "\u001b[31mUnsupportedOperation\u001b[39m: not readable"
     ]
    }
   ],
   "source": [
    "with open('15_new.txt', 'a') as f:\n",
    "    f.read()"
   ]
  },
  {
   "cell_type": "code",
   "execution_count": 36,
   "id": "6fc1c3dc-261e-4b2c-9616-513a39d48957",
   "metadata": {},
   "outputs": [
    {
     "name": "stdout",
     "output_type": "stream",
     "text": [
      "\n"
     ]
    }
   ],
   "source": [
    "with open('15_new.txt', 'w+') as f:\n",
    "    print(f.read())"
   ]
  },
  {
   "cell_type": "code",
   "execution_count": 37,
   "id": "35661c12-11dc-4e96-a4e4-6eb34f71b47a",
   "metadata": {},
   "outputs": [
    {
     "name": "stdout",
     "output_type": "stream",
     "text": [
      "File contents are: \n"
     ]
    }
   ],
   "source": [
    "with open('15_new.txt', 'w+') as f:\n",
    "    f.write('This is some new text')\n",
    "    print(f'File contents are: {f.read()}')\n",
    "    "
   ]
  },
  {
   "cell_type": "code",
   "execution_count": 38,
   "id": "0cc7eda4-9f22-41cc-991a-5c65af95ef02",
   "metadata": {},
   "outputs": [
    {
     "name": "stdout",
     "output_type": "stream",
     "text": [
      "File contents are: This is some new text\n"
     ]
    }
   ],
   "source": [
    "with open('15_new.txt', 'w+') as f:\n",
    "    f.write('This is some new text')\n",
    "    f.seek(0)\n",
    "    print(f'File contents are: {f.read()}')"
   ]
  },
  {
   "cell_type": "code",
   "execution_count": 39,
   "id": "521641f2-cb9f-4a8f-8dba-08bfe47231ff",
   "metadata": {},
   "outputs": [
    {
     "name": "stdout",
     "output_type": "stream",
     "text": [
      "File contents are: This is some new text\n",
      "File contents are: Spam is some new text\n"
     ]
    }
   ],
   "source": [
    "with open('15_new.txt', 'w+') as f:\n",
    "    f.write('This is some new text')\n",
    "    f.seek(0)\n",
    "    print(f'File contents are: {f.read()}')\n",
    "    f.seek(0)\n",
    "    f.write('Spam')\n",
    "    f.seek(0)\n",
    "    print(f'File contents are: {f.read()}')"
   ]
  },
  {
   "cell_type": "markdown",
   "id": "9338fb27-3254-4a40-8857-c497521b4970",
   "metadata": {},
   "source": [
    "## Binary Files"
   ]
  },
  {
   "cell_type": "code",
   "execution_count": 41,
   "id": "aa788427-0ba3-4c4b-b6d6-80c1a3811c39",
   "metadata": {},
   "outputs": [
    {
     "name": "stdout",
     "output_type": "stream",
     "text": [
      "b'\\xff\\xd8\\xff\\xe0\\x00\\x10JFIF'\n"
     ]
    }
   ],
   "source": [
    "with open('15_logo.jpg', 'rb') as f:\n",
    "    print(f.read()[0:10])"
   ]
  },
  {
   "cell_type": "code",
   "execution_count": 42,
   "id": "35531153-d321-47c2-915d-ed1ad8981b52",
   "metadata": {},
   "outputs": [
    {
     "ename": "TypeError",
     "evalue": "a bytes-like object is required, not 'str'",
     "output_type": "error",
     "traceback": [
      "\u001b[31m---------------------------------------------------------------------------\u001b[39m",
      "\u001b[31mTypeError\u001b[39m                                 Traceback (most recent call last)",
      "\u001b[36mCell\u001b[39m\u001b[36m \u001b[39m\u001b[32mIn[42]\u001b[39m\u001b[32m, line 2\u001b[39m\n\u001b[32m      1\u001b[39m \u001b[38;5;28;01mwith\u001b[39;00m \u001b[38;5;28mopen\u001b[39m(\u001b[33m'\u001b[39m\u001b[33m15_new.txt\u001b[39m\u001b[33m'\u001b[39m, \u001b[33m'\u001b[39m\u001b[33mwb\u001b[39m\u001b[33m'\u001b[39m) \u001b[38;5;28;01mas\u001b[39;00m f:\n\u001b[32m----> \u001b[39m\u001b[32m2\u001b[39m     f.write(\u001b[33m'\u001b[39m\u001b[33masdf\u001b[39m\u001b[33m'\u001b[39m)\n",
      "\u001b[31mTypeError\u001b[39m: a bytes-like object is required, not 'str'"
     ]
    }
   ],
   "source": [
    "with open('15_new.txt', 'wb') as f:\n",
    "    f.write('asdf')"
   ]
  },
  {
   "cell_type": "code",
   "execution_count": 43,
   "id": "3e2194b8-aa22-4efb-9001-ff6a3dc15494",
   "metadata": {},
   "outputs": [],
   "source": [
    "with open('15_new.txt', 'wb') as f:\n",
    "    f.write('asdf'.encode('utf-8'))"
   ]
  },
  {
   "cell_type": "code",
   "execution_count": 44,
   "id": "36cc8122-5b62-474c-a158-9f5e32b9e6d1",
   "metadata": {},
   "outputs": [],
   "source": [
    "from itertools import batched\n",
    "\n",
    "def hex_pair_to_bytes(hex_pair):\n",
    "    hex_str = ''.join(hex_pair)\n",
    "    dec_number = int(hex_str, 16)\n",
    "    return dec_number.to_bytes(1)\n",
    "\n",
    "def hex_to_bytes(hex_pairs):\n",
    "    with open('15_colors.col', 'ab') as f:\n",
    "        for pair in batched(hex_pairs, 2):\n",
    "            f.write(hex_pair_to_bytes(pair))\n",
    "\n",
    "\n",
    "hex_pairs = 'FF0000FFA500FFFF000080000000FF800080'\n",
    "hex_to_bytes(hex_pairs)"
   ]
  },
  {
   "cell_type": "code",
   "execution_count": 45,
   "id": "7f354fca-a7b4-44e2-9715-b8bcea4a3b83",
   "metadata": {},
   "outputs": [
    {
     "name": "stdout",
     "output_type": "stream",
     "text": [
      "b'\\xff\\x00\\x00\\xff\\xa5\\x00\\xff\\xff\\x00\\x00\\x80\\x00\\x00\\x00\\xff\\x80\\x00\\x80'\n"
     ]
    }
   ],
   "source": [
    "with open('15_colors.col', 'rb') as f:\n",
    "    print(f.read())"
   ]
  },
  {
   "cell_type": "markdown",
   "id": "9c330b71-1fd2-4dcf-9af0-680540d08877",
   "metadata": {},
   "source": [
    "## Buffering"
   ]
  },
  {
   "cell_type": "code",
   "execution_count": 50,
   "id": "c065ede3-bc3b-4afb-b720-05326a6a9293",
   "metadata": {},
   "outputs": [
    {
     "name": "stdout",
     "output_type": "stream",
     "text": [
      "<class '_io.BufferedReader'>\n"
     ]
    }
   ],
   "source": [
    "with open('15_colors.col', 'rb') as f:\n",
    "    print(type(f))"
   ]
  },
  {
   "cell_type": "code",
   "execution_count": 54,
   "id": "565c1861-4699-4f8e-bfd3-1a653da118dc",
   "metadata": {},
   "outputs": [
    {
     "name": "stdout",
     "output_type": "stream",
     "text": [
      "<class '_io.TextIOWrapper'>\n"
     ]
    }
   ],
   "source": [
    "with open('15_new.txt', 'w') as f:\n",
    "    print(type(f))"
   ]
  },
  {
   "cell_type": "code",
   "execution_count": 55,
   "id": "1bdf505f-f69b-49c5-b73c-cea46bf5c57d",
   "metadata": {},
   "outputs": [],
   "source": [
    "f = open('15_buffering.txt', 'a')\n",
    "for i in range(100):\n",
    "    f.write(str(i))"
   ]
  },
  {
   "cell_type": "code",
   "execution_count": 56,
   "id": "3b49a9fc-41e6-4b73-afcf-e5590b7bde6d",
   "metadata": {},
   "outputs": [],
   "source": [
    "# Check file to see what's written before closing it\n",
    "f.close()"
   ]
  },
  {
   "cell_type": "code",
   "execution_count": 75,
   "id": "689d04a3-b014-4a30-bcfc-5ab42f350528",
   "metadata": {},
   "outputs": [],
   "source": [
    "# empty the file\n",
    "with open('15_buffering.txt', 'w'):\n",
    "    pass\n",
    "\n",
    "f = open('15_buffering.txt', 'w', buffering=1)\n",
    "for i in range(100):\n",
    "    f.write(str(i))\n",
    "    f.flush()    "
   ]
  },
  {
   "cell_type": "code",
   "execution_count": 76,
   "id": "f2c6752d-7abe-4401-b0ec-cd5750b6ac37",
   "metadata": {},
   "outputs": [],
   "source": [
    "f.close()"
   ]
  },
  {
   "cell_type": "code",
   "execution_count": 57,
   "id": "676793c7-d462-48af-a8a4-2396df8873fb",
   "metadata": {},
   "outputs": [
    {
     "data": {
      "text/plain": [
       "8192"
      ]
     },
     "execution_count": 57,
     "metadata": {},
     "output_type": "execute_result"
    }
   ],
   "source": [
    "import io\n",
    "\n",
    "io.DEFAULT_BUFFER_SIZE"
   ]
  },
  {
   "cell_type": "code",
   "execution_count": 58,
   "id": "98c9fb4c-40ec-4309-bba8-293e295666d2",
   "metadata": {},
   "outputs": [],
   "source": [
    "# empty the file\n",
    "with open('15_buffering.txt', 'w'):\n",
    "    pass\n",
    "\n",
    "f = open('15_buffering.txt', 'wb', buffering=3)\n",
    "for i in range(100):\n",
    "    f.write(str(i).encode('utf-8'))\n",
    "    "
   ]
  },
  {
   "cell_type": "markdown",
   "id": "befc1c79-c3f2-4076-8915-a33553768076",
   "metadata": {},
   "source": [
    "## Creating and Deleting Files and Directories"
   ]
  },
  {
   "cell_type": "code",
   "execution_count": 59,
   "id": "cbecfa0f-089e-4cdb-b348-6288b29cf9e7",
   "metadata": {},
   "outputs": [],
   "source": [
    "import os\n",
    "\n",
    "os.mkdir('some_directory')"
   ]
  },
  {
   "cell_type": "code",
   "execution_count": 60,
   "id": "0cd94149-fdc0-4584-b14d-9c37bd6e9e23",
   "metadata": {},
   "outputs": [],
   "source": [
    "os.mkdir('some_directory/level1')"
   ]
  },
  {
   "cell_type": "code",
   "execution_count": 61,
   "id": "4e24c15c-8345-4cc9-a483-2f2b20a71550",
   "metadata": {},
   "outputs": [],
   "source": [
    "os.makedirs('some_directory/level1/level2/level3/level4/level5')"
   ]
  },
  {
   "cell_type": "code",
   "execution_count": 62,
   "id": "1582d04d-b4f9-46f0-aa4b-cc47a3b225ec",
   "metadata": {},
   "outputs": [
    {
     "ename": "OSError",
     "evalue": "[Errno 66] Directory not empty: 'some_directory'",
     "output_type": "error",
     "traceback": [
      "\u001b[31m---------------------------------------------------------------------------\u001b[39m",
      "\u001b[31mOSError\u001b[39m                                   Traceback (most recent call last)",
      "\u001b[36mCell\u001b[39m\u001b[36m \u001b[39m\u001b[32mIn[62]\u001b[39m\u001b[32m, line 1\u001b[39m\n\u001b[32m----> \u001b[39m\u001b[32m1\u001b[39m os.rmdir(\u001b[33m'\u001b[39m\u001b[33msome_directory\u001b[39m\u001b[33m'\u001b[39m)\n",
      "\u001b[31mOSError\u001b[39m: [Errno 66] Directory not empty: 'some_directory'"
     ]
    }
   ],
   "source": [
    "os.rmdir('some_directory')"
   ]
  },
  {
   "cell_type": "code",
   "execution_count": 63,
   "id": "13abd315-50b0-4787-b8b3-c5e03cdfef1a",
   "metadata": {},
   "outputs": [],
   "source": [
    "os.rmdir('some_directory/level1/level2/level3/level4/level5')"
   ]
  },
  {
   "cell_type": "code",
   "execution_count": 64,
   "id": "50a26b22-f139-4e2a-8229-945f774ad96d",
   "metadata": {},
   "outputs": [],
   "source": [
    "os.rmdir('some_directory/level1/level2/level3/level4')\n",
    "os.rmdir('some_directory/level1/level2/level3')\n",
    "os.rmdir('some_directory/level1/level2')\n",
    "os.rmdir('some_directory/level1')"
   ]
  },
  {
   "cell_type": "code",
   "execution_count": 65,
   "id": "d0ccce77-4d2c-4a97-afee-13775a320db1",
   "metadata": {},
   "outputs": [],
   "source": [
    "import shutil\n",
    "\n",
    "shutil.rmtree('some_directory')"
   ]
  },
  {
   "cell_type": "code",
   "execution_count": 66,
   "id": "144dd740-4f5b-432e-8295-83810e358afd",
   "metadata": {},
   "outputs": [],
   "source": [
    "os.mkdir('some_directory')\n",
    "with open('some_directory/another_file.txt', 'w') as f:\n",
    "    pass\n",
    "\n",
    "os.mkdir('some_directory/another_directory')"
   ]
  },
  {
   "cell_type": "code",
   "execution_count": 67,
   "id": "4b8398b6-4708-4996-8653-4618268f073a",
   "metadata": {},
   "outputs": [
    {
     "data": {
      "text/plain": [
       "['another_directory', 'another_file.txt']"
      ]
     },
     "execution_count": 67,
     "metadata": {},
     "output_type": "execute_result"
    }
   ],
   "source": [
    "os.listdir('some_directory')"
   ]
  },
  {
   "cell_type": "code",
   "execution_count": 68,
   "id": "594851a4-ba22-45ea-abfd-962520d194c6",
   "metadata": {},
   "outputs": [
    {
     "name": "stdout",
     "output_type": "stream",
     "text": [
      "another_directory is a directory\n",
      "another_file.txt is a file\n"
     ]
    }
   ],
   "source": [
    "for name in os.listdir('some_directory'):\n",
    "    if os.path.isdir(f'some_directory/{name}'):\n",
    "        print(f'{name} is a directory')\n",
    "    elif os.path.isfile(f'some_directory/{name}'):\n",
    "        print(f'{name} is a file')\n",
    "    else:\n",
    "        print(f'{name} does not exist')"
   ]
  },
  {
   "cell_type": "code",
   "execution_count": 69,
   "id": "8b5e79fc-b5f5-46fb-a099-c6e6d2f83ce4",
   "metadata": {},
   "outputs": [],
   "source": [
    "# create file\n",
    "with open('to_be_removed.txt', 'w') as f:\n",
    "    pass\n",
    "\n",
    "# remove file\n",
    "os.remove('to_be_removed.txt')"
   ]
  },
  {
   "cell_type": "code",
   "execution_count": 70,
   "id": "8de69a4b-d518-47e4-97a1-39442fd96147",
   "metadata": {},
   "outputs": [],
   "source": [
    "if os.path.exists('to_be_removed.txt'):\n",
    "    os.remove('to_be_removed.txt')"
   ]
  },
  {
   "cell_type": "markdown",
   "id": "7fde004d-6890-4968-9dc3-4a6fb83569ea",
   "metadata": {},
   "source": [
    "## Serializing, Deserializing, and Pickling Data"
   ]
  },
  {
   "cell_type": "code",
   "execution_count": 71,
   "id": "f5bec10a-fbc1-4d5f-befb-d0cbed24ca5d",
   "metadata": {},
   "outputs": [
    {
     "name": "stdout",
     "output_type": "stream",
     "text": [
      "{\"foo\": 1, \"bar\": 2, \"spam\": [\"spam\", \"spam\", \"spam\"]}\n"
     ]
    }
   ],
   "source": [
    "import json\n",
    "\n",
    "data = {\n",
    "    'foo': 1,\n",
    "    'bar': 2,\n",
    "    'spam': ['spam', 'spam', 'spam']\n",
    "}\n",
    "\n",
    "print(json.dumps(data))\n"
   ]
  },
  {
   "cell_type": "code",
   "execution_count": 72,
   "id": "6afc9b35-4d35-4087-aba7-38378c1396f8",
   "metadata": {},
   "outputs": [],
   "source": [
    "with open('data.json', 'w') as f:\n",
    "    f.write(json.dumps(data))"
   ]
  },
  {
   "cell_type": "code",
   "execution_count": 73,
   "id": "0d0ad1af-8a32-4e91-a316-1b00c9e46c62",
   "metadata": {},
   "outputs": [
    {
     "name": "stdout",
     "output_type": "stream",
     "text": [
      "Data is now type: <class 'dict'>\n",
      "{'foo': 1, 'bar': 2, 'spam': ['spam', 'spam', 'spam']}\n"
     ]
    }
   ],
   "source": [
    "with open('data.json', 'r') as f:\n",
    "    data = json.loads(f.read())\n",
    "\n",
    "print(f'Data is now type: {type(data)}')\n",
    "print(data)"
   ]
  },
  {
   "cell_type": "code",
   "execution_count": 79,
   "id": "5c7b7482-29bf-49a0-8ae3-c87918586d8b",
   "metadata": {},
   "outputs": [],
   "source": [
    "class User:\n",
    "    def __init__(self, name, email):\n",
    "        self.name = name\n",
    "        self.email = email\n",
    "\n",
    "\n",
    "    def to_json(self):\n",
    "        return json.dumps(\n",
    "            {\n",
    "                'name': self.name,\n",
    "                'email': self.email\n",
    "            })\n",
    "\n",
    "    @staticmethod\n",
    "    def from_json(data):\n",
    "        data = json.loads(data)\n",
    "        return User(data['name'], data['email'])\n"
   ]
  },
  {
   "cell_type": "code",
   "execution_count": 80,
   "id": "3efe2194-f712-4b1f-9497-aef0ee315168",
   "metadata": {},
   "outputs": [
    {
     "name": "stdout",
     "output_type": "stream",
     "text": [
      "Alice\n",
      "alice@unlockingpython.com\n"
     ]
    }
   ],
   "source": [
    "u = User('Alice', 'alice@unlockingpython.com')\n",
    "data = u.to_json()\n",
    "new_u = User.from_json(data)\n",
    "print(new_u.name)\n",
    "print(new_u.email)"
   ]
  },
  {
   "cell_type": "code",
   "execution_count": 81,
   "id": "8bcc4689-7972-424d-96e6-25200e75226d",
   "metadata": {},
   "outputs": [],
   "source": [
    "import pickle\n",
    "\n",
    "u = User('Alice', 'alice@unlockingpython.com')\n",
    "\n",
    "with open('alice.pkl', 'wb') as f:\n",
    "    pickle.dump(u, f)"
   ]
  },
  {
   "cell_type": "code",
   "execution_count": 82,
   "id": "f175440d-6e1f-48e0-a6d4-93a809588079",
   "metadata": {},
   "outputs": [],
   "source": [
    "with open('alice.pkl', 'rb') as f:\n",
    "    new_u = pickle.load(f)"
   ]
  },
  {
   "cell_type": "code",
   "execution_count": 83,
   "id": "3e7959da-fa75-46c9-96cc-534e4898577b",
   "metadata": {},
   "outputs": [
    {
     "data": {
      "text/plain": [
       "'Alice'"
      ]
     },
     "execution_count": 83,
     "metadata": {},
     "output_type": "execute_result"
    }
   ],
   "source": [
    "new_u.name"
   ]
  },
  {
   "cell_type": "markdown",
   "id": "1ac43c4d-be86-4fcd-abb3-cc98a3600625",
   "metadata": {},
   "source": [
    "## Exercises"
   ]
  },
  {
   "cell_type": "markdown",
   "id": "aef0810b-bd6a-4dfe-8c6f-f5d0e66d43c1",
   "metadata": {},
   "source": [
    "**1.**\n",
    "For each of the following pieces of code, predict if they will run successfully or raise an error. you can double-check in Python if you’re unsure:\n",
    "\n",
    "  **a.**\n",
    "```\n",
    "with open('test.txt', 'a') as f:\n",
    "    f.write('line 1\\n')\n",
    "    f.write('line 2\\n')\n",
    "    f.read()\n",
    "```\n",
    "    \n",
    "  **b.**\n",
    "```\n",
    "with open('test.txt', 'w+') as f:\n",
    "    f.write('line 1\\n')\n",
    "    f.write('line 2\\n')\n",
    "    f.read()\n",
    "```\n",
    "\n",
    "  **c.**\n",
    "```\n",
    "with open('test.txt', 'r+') as f:\n",
    "    f.write('line 1')\n",
    "```\n",
    "\n",
    "  **d.**\n",
    "```\n",
    "with open('test.txt', 'w+') as f:\n",
    "    f.write('line 1')\n",
    "f.read()\n",
    "```"
   ]
  },
  {
   "cell_type": "markdown",
   "id": "68e61355-c763-45b7-91d9-f66c689d9d70",
   "metadata": {},
   "source": [
    "**2.**\n",
    "\n",
    "Read the file `15_colors.col`, generated from the string `FF0000FFA500FFFF000080000000FF800080` (this string and code that generates it is included in the exercise files) and convert it back into pretty-printed hex codes of this form:\n",
    "\n",
    "`#FF0000, #FFA500, etc.`"
   ]
  },
  {
   "cell_type": "code",
   "execution_count": null,
   "id": "c591e63d-aae9-4d4d-a8fc-e077eef187b9",
   "metadata": {},
   "outputs": [],
   "source": []
  },
  {
   "cell_type": "markdown",
   "id": "3fbca902-5b82-461f-9b3b-c542318b7dda",
   "metadata": {},
   "source": [
    "**3.** \n",
    "\n",
    "Write a function, `remove_directory`, that performs the same action as `shutil.rmtree`, using only functions from the `os` module. When a valid directory path is passed to the function `remove_directory`, it should empty it of all files and directories if it’s not already empty, and then remove it with `os.rmdir`.\n",
    "\n",
    "Remember that any directories within the target directory can have files and directories of their own. The structure you are deleting may be several levels deep! You may want to consider a recursive solution."
   ]
  },
  {
   "cell_type": "markdown",
   "id": "c36e209d-bb8a-41cf-814c-2a4f339bd041",
   "metadata": {},
   "source": [
    "**4.**\n",
    "\n",
    "In Chapter 10, “Functions,” exercise problem 4, we covered the concept of run-length encoding and wrote the functions encode and decode in order to compress ASCII art. Working solutions for the encode and decode functions are provided in the exercise files for you to use:"
   ]
  },
  {
   "cell_type": "code",
   "execution_count": 85,
   "id": "62f3b693-2023-48ea-b18c-ca163aba2d8e",
   "metadata": {},
   "outputs": [],
   "source": [
    "def encode(data_str):\n",
    "    encoded_data = []\n",
    "    count = 0\n",
    "    last_char = data_str[0]\n",
    "    for char in data_str:\n",
    "        if char != last_char: # encountered a new character!\n",
    "            encoded_data.append((last_char, count))\n",
    "            count = 0\n",
    "            last_char = char\n",
    "        count += 1\n",
    "    encoded_data.append((last_char, count))\n",
    "    return encoded_data\n",
    "\n",
    "def decode(encoded_data):\n",
    "    data_str = ''\n",
    "    for char, count in encoded_data:\n",
    "        data_str += char * count\n",
    "    return data_str\n",
    "        "
   ]
  },
  {
   "cell_type": "markdown",
   "id": "dcee15d8-e78f-45b9-bedf-05ddc439b5db",
   "metadata": {},
   "source": [
    "Use these, or your own solution, these to read the file `15_ascii.txt` (which is 2,754 bytes in size), compress it using the encode function, and write the result to a binary file `15_ascii.bin`.\n",
    "\n",
    "Consider the minimum amount of information needed to be written to the binary file. You will probably want to write a single character, followed by an 8-bit number, followed by another character, followed by another 8-bit number, etc. What is the resulting size of this file?\n",
    "\n",
    "Finally, write a function that reads the file back in and decompresses it using the decode function. Check that the decompressed version looks the same as the original!"
   ]
  },
  {
   "cell_type": "code",
   "execution_count": null,
   "id": "75b5213b-e624-429c-b91a-6ebb4f7a64cb",
   "metadata": {},
   "outputs": [],
   "source": []
  }
 ],
 "metadata": {
  "kernelspec": {
   "display_name": "Python 3 (ipykernel)",
   "language": "python",
   "name": "python3"
  },
  "language_info": {
   "codemirror_mode": {
    "name": "ipython",
    "version": 3
   },
   "file_extension": ".py",
   "mimetype": "text/x-python",
   "name": "python",
   "nbconvert_exporter": "python",
   "pygments_lexer": "ipython3",
   "version": "3.12.2"
  }
 },
 "nbformat": 4,
 "nbformat_minor": 5
}
