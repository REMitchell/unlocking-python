{
 "cells": [
  {
   "cell_type": "markdown",
   "id": "46e8e7f5-9fa1-42d3-b5b3-99acdcda4c79",
   "metadata": {},
   "source": [
    "## Boolean Casting"
   ]
  },
  {
   "cell_type": "code",
   "execution_count": 59,
   "id": "90774de2-2ad9-4dfd-af75-22af9844ec06",
   "metadata": {},
   "outputs": [
    {
     "data": {
      "text/plain": [
       "True"
      ]
     },
     "execution_count": 59,
     "metadata": {},
     "output_type": "execute_result"
    }
   ],
   "source": [
    "bool(1)"
   ]
  },
  {
   "cell_type": "markdown",
   "id": "6ef342de-cd64-4dfa-b63d-803bab2c35f3",
   "metadata": {},
   "source": [
    "## Arithmetic Operators"
   ]
  },
  {
   "cell_type": "code",
   "execution_count": 1,
   "id": "ac40606a-b81a-4417-99af-1984b3091beb",
   "metadata": {},
   "outputs": [
    {
     "data": {
      "text/plain": [
       "2"
      ]
     },
     "execution_count": 1,
     "metadata": {},
     "output_type": "execute_result"
    }
   ],
   "source": [
    "# addition\n",
    "1 + 1"
   ]
  },
  {
   "cell_type": "code",
   "execution_count": 2,
   "id": "5344f002-1acd-46dd-b70b-d91e0589f80e",
   "metadata": {},
   "outputs": [
    {
     "data": {
      "text/plain": [
       "2"
      ]
     },
     "execution_count": 2,
     "metadata": {},
     "output_type": "execute_result"
    }
   ],
   "source": [
    "# subtraction\n",
    "5 - 3"
   ]
  },
  {
   "cell_type": "code",
   "execution_count": 3,
   "id": "8e3cd757-bf47-4262-9996-0f2c0aa50f4e",
   "metadata": {},
   "outputs": [
    {
     "data": {
      "text/plain": [
       "20"
      ]
     },
     "execution_count": 3,
     "metadata": {},
     "output_type": "execute_result"
    }
   ],
   "source": [
    "# multiplication\n",
    "4 * 5"
   ]
  },
  {
   "cell_type": "code",
   "execution_count": 4,
   "id": "ffbd4c91-9b00-442c-81ab-440bfb85c481",
   "metadata": {},
   "outputs": [
    {
     "data": {
      "text/plain": [
       "4.0"
      ]
     },
     "execution_count": 4,
     "metadata": {},
     "output_type": "execute_result"
    }
   ],
   "source": [
    "# division\n",
    "20 / 5"
   ]
  },
  {
   "cell_type": "code",
   "execution_count": 5,
   "id": "3982a35c-1822-4ca3-846b-2e843e1a503f",
   "metadata": {},
   "outputs": [
    {
     "data": {
      "text/plain": [
       "32"
      ]
     },
     "execution_count": 5,
     "metadata": {},
     "output_type": "execute_result"
    }
   ],
   "source": [
    "# exponent\n",
    "2**5\n"
   ]
  },
  {
   "cell_type": "code",
   "execution_count": 6,
   "id": "354e9c89-414c-4e91-b1da-9f76ac26cc8c",
   "metadata": {},
   "outputs": [
    {
     "data": {
      "text/plain": [
       "4"
      ]
     },
     "execution_count": 6,
     "metadata": {},
     "output_type": "execute_result"
    }
   ],
   "source": [
    "# floor division\n",
    "20//5"
   ]
  },
  {
   "cell_type": "code",
   "execution_count": 7,
   "id": "dfaebe1b-9884-4388-91c8-5fe5e751f704",
   "metadata": {},
   "outputs": [
    {
     "data": {
      "text/plain": [
       "2"
      ]
     },
     "execution_count": 7,
     "metadata": {},
     "output_type": "execute_result"
    }
   ],
   "source": [
    "# modulus\n",
    "20 % 6"
   ]
  },
  {
   "cell_type": "markdown",
   "id": "0034484e-c4b7-4df8-a185-6c0face8e24b",
   "metadata": {},
   "source": [
    "## More Assignment Operators"
   ]
  },
  {
   "cell_type": "code",
   "execution_count": 10,
   "id": "fdf65a92-ff47-4712-b536-2b2941b1dfac",
   "metadata": {},
   "outputs": [
    {
     "name": "stdout",
     "output_type": "stream",
     "text": [
      "8\n"
     ]
    }
   ],
   "source": [
    "num = 5\n",
    "# Add three to num\n",
    "num += 3\n",
    "print(num)"
   ]
  },
  {
   "cell_type": "code",
   "execution_count": 12,
   "id": "a3a0a82e-1120-4f93-be9a-ff9dadf7bb3f",
   "metadata": {},
   "outputs": [
    {
     "ename": "NameError",
     "evalue": "name 'new_num' is not defined",
     "output_type": "error",
     "traceback": [
      "\u001b[0;31m---------------------------------------------------------------------------\u001b[0m",
      "\u001b[0;31mNameError\u001b[0m                                 Traceback (most recent call last)",
      "Cell \u001b[0;32mIn[12], line 1\u001b[0m\n\u001b[0;32m----> 1\u001b[0m new_num \u001b[38;5;241m+\u001b[39m\u001b[38;5;241m=\u001b[39m \u001b[38;5;241m3\u001b[39m\n",
      "\u001b[0;31mNameError\u001b[0m: name 'new_num' is not defined"
     ]
    }
   ],
   "source": [
    "new_num += 3"
   ]
  },
  {
   "cell_type": "code",
   "execution_count": 52,
   "id": "20ccf925-348d-4af6-a1d2-8f9ef040ab45",
   "metadata": {},
   "outputs": [],
   "source": [
    "num = 5\n",
    "\n",
    "# Subtract 2 from num\n",
    "num -= 2\n",
    "\n",
    "# Multiply num by 10\n",
    "num *= 10\n",
    "\n",
    "# Divide num by 2\n",
    "num /= 2\n",
    "\n",
    "# Set num to itself modulo 8\n",
    "num %= 8\n",
    "\n",
    "# Divide (floor division) num by 2\n",
    "num //= 2\n",
    "\n",
    "# Raise num to the fourth power\n",
    "num **= 4\n"
   ]
  },
  {
   "cell_type": "code",
   "execution_count": 53,
   "id": "4d74a999-c768-4ee7-9689-595ab9dc5dbc",
   "metadata": {},
   "outputs": [
    {
     "data": {
      "text/plain": [
       "81.0"
      ]
     },
     "execution_count": 53,
     "metadata": {},
     "output_type": "execute_result"
    }
   ],
   "source": [
    "num"
   ]
  },
  {
   "cell_type": "markdown",
   "id": "478b58a9-bd05-4544-8730-523f2cefb121",
   "metadata": {},
   "source": [
    "## Comparison Operators"
   ]
  },
  {
   "cell_type": "code",
   "execution_count": 56,
   "id": "c27f67d6-e29e-4c8f-abbb-ab8185081d0c",
   "metadata": {},
   "outputs": [
    {
     "data": {
      "text/plain": [
       "True"
      ]
     },
     "execution_count": 56,
     "metadata": {},
     "output_type": "execute_result"
    }
   ],
   "source": [
    "# Less than\n",
    "1 < 5\n",
    "\n",
    "# Greater than\n",
    "\n",
    "5 > 1\n",
    "\n",
    "# Less than or equal to \n",
    "5 <= 5\n",
    "\n",
    "# Greater than or equal to\n",
    "\n",
    "1 >= 1"
   ]
  },
  {
   "cell_type": "code",
   "execution_count": 57,
   "id": "5318de77-51c8-4f65-92fa-d4befaf3d01d",
   "metadata": {},
   "outputs": [
    {
     "data": {
      "text/plain": [
       "True"
      ]
     },
     "execution_count": 57,
     "metadata": {},
     "output_type": "execute_result"
    }
   ],
   "source": [
    "# Equals\n",
    "1 == 1\n",
    "\n",
    "# Not equals\n",
    "1 != 2"
   ]
  },
  {
   "cell_type": "code",
   "execution_count": null,
   "id": "d2379c0d-49c6-4319-a84e-5b6635217c25",
   "metadata": {},
   "outputs": [],
   "source": [
    "num = 5\n",
    "num == 5"
   ]
  },
  {
   "cell_type": "code",
   "execution_count": 58,
   "id": "c47b2de8-0064-49ff-bf30-5517b632dab1",
   "metadata": {},
   "outputs": [
    {
     "data": {
      "text/plain": [
       "True"
      ]
     },
     "execution_count": 58,
     "metadata": {},
     "output_type": "execute_result"
    }
   ],
   "source": [
    "# inequality operator\n",
    "1 != 2"
   ]
  },
  {
   "cell_type": "markdown",
   "id": "3d5b6a02-90ee-4da4-941d-dc175310a366",
   "metadata": {},
   "source": [
    "## Identity Operators"
   ]
  },
  {
   "cell_type": "code",
   "execution_count": 60,
   "id": "3c12883f-70b4-4589-872b-0a8ce1f3f75d",
   "metadata": {},
   "outputs": [
    {
     "data": {
      "text/plain": [
       "True"
      ]
     },
     "execution_count": 60,
     "metadata": {},
     "output_type": "execute_result"
    }
   ],
   "source": [
    "a = 1\n",
    "b = 1\n",
    "\n",
    "print(a == b)\n",
    "print(a is b)"
   ]
  },
  {
   "cell_type": "code",
   "execution_count": 62,
   "id": "148553ba-84a4-40c2-be8a-c2d367248854",
   "metadata": {},
   "outputs": [
    {
     "name": "stdout",
     "output_type": "stream",
     "text": [
      "True\n",
      "False\n"
     ]
    }
   ],
   "source": [
    "a = 1.0\n",
    "b = 1\n",
    "\n",
    "print(a == b)\n",
    "print(a is b)"
   ]
  },
  {
   "cell_type": "code",
   "execution_count": 81,
   "id": "fe35c21a-4287-488a-a9c1-6bde11ae23f4",
   "metadata": {},
   "outputs": [
    {
     "name": "stdout",
     "output_type": "stream",
     "text": [
      "False\n",
      "True\n"
     ]
    }
   ],
   "source": [
    "a = 1000\n",
    "b = 1000\n",
    "\n",
    "print(a is b)\n",
    "print(a is not b)"
   ]
  },
  {
   "cell_type": "code",
   "execution_count": 3,
   "id": "07bb3db8-6574-4295-9322-457f2805fcd1",
   "metadata": {},
   "outputs": [
    {
     "name": "stdout",
     "output_type": "stream",
     "text": [
      "Testing 256\n",
      "True\n",
      "False\n",
      "\n",
      "Testing 257\n",
      "False\n",
      "True\n"
     ]
    }
   ],
   "source": [
    "a_256 = 256\n",
    "b_256 = 256\n",
    "\n",
    "a_257 = 257\n",
    "b_257 = 257\n",
    "\n",
    "\n",
    "print('Testing 256:')\n",
    "print(a_256 is b_256)\n",
    "print(a_256 is not b_256)\n",
    "print('\\nTesting 257:')\n",
    "print(a_257 is b_257)\n",
    "print(a_257 is not b_257)\n"
   ]
  },
  {
   "cell_type": "markdown",
   "id": "ed88204f-dc9c-4180-8f0b-c38cdd651f7c",
   "metadata": {},
   "source": [
    "## Boolean Operators"
   ]
  },
  {
   "cell_type": "code",
   "execution_count": 4,
   "id": "fa180dc7-6ee8-4ae4-89d4-2137a86af42e",
   "metadata": {},
   "outputs": [
    {
     "data": {
      "text/plain": [
       "True"
      ]
     },
     "execution_count": 4,
     "metadata": {},
     "output_type": "execute_result"
    }
   ],
   "source": [
    "True and True # This is true"
   ]
  },
  {
   "cell_type": "code",
   "execution_count": 5,
   "id": "96a1850e-0ff1-46c1-9795-4caeceff940b",
   "metadata": {},
   "outputs": [
    {
     "data": {
      "text/plain": [
       "False"
      ]
     },
     "execution_count": 5,
     "metadata": {},
     "output_type": "execute_result"
    }
   ],
   "source": [
    "True and False # False\n",
    "False and True # False\n",
    "False and False # False"
   ]
  },
  {
   "cell_type": "code",
   "execution_count": 6,
   "id": "060a2709-7d5b-4de4-a7e9-b27275bf69ef",
   "metadata": {},
   "outputs": [
    {
     "data": {
      "text/plain": [
       "False"
      ]
     },
     "execution_count": 6,
     "metadata": {},
     "output_type": "execute_result"
    }
   ],
   "source": [
    "False or False # This is False"
   ]
  },
  {
   "cell_type": "code",
   "execution_count": 7,
   "id": "1f5534a5-8981-4482-a3cc-7dffe306a2b9",
   "metadata": {},
   "outputs": [
    {
     "data": {
      "text/plain": [
       "True"
      ]
     },
     "execution_count": 7,
     "metadata": {},
     "output_type": "execute_result"
    }
   ],
   "source": [
    "True or False # True\n",
    "False or True # True\n",
    "True or True # True"
   ]
  },
  {
   "cell_type": "code",
   "execution_count": 9,
   "id": "925852aa-d2c7-4643-b5c9-f7a874204977",
   "metadata": {},
   "outputs": [
    {
     "data": {
      "text/plain": [
       "True"
      ]
     },
     "execution_count": 9,
     "metadata": {},
     "output_type": "execute_result"
    }
   ],
   "source": [
    "not True # False\n",
    "not False # True"
   ]
  },
  {
   "cell_type": "code",
   "execution_count": 21,
   "id": "5e143ff3-97d7-40e6-93cf-23f58a0d99c9",
   "metadata": {},
   "outputs": [
    {
     "data": {
      "text/plain": [
       "True"
      ]
     },
     "execution_count": 21,
     "metadata": {},
     "output_type": "execute_result"
    }
   ],
   "source": [
    "a = True\n",
    "b = False\n",
    "c = False\n",
    "\n",
    "(a) and (b or not c)"
   ]
  },
  {
   "cell_type": "code",
   "execution_count": 22,
   "id": "bb58c33d-8ffa-466e-be47-bbc7b36170c0",
   "metadata": {},
   "outputs": [
    {
     "data": {
      "text/plain": [
       "True"
      ]
     },
     "execution_count": 22,
     "metadata": {},
     "output_type": "execute_result"
    }
   ],
   "source": [
    "a and b or not c"
   ]
  },
  {
   "cell_type": "markdown",
   "id": "7b1fdcbc-217c-47e2-a1db-ad823d993c22",
   "metadata": {},
   "source": [
    "## Membership Operators"
   ]
  },
  {
   "cell_type": "code",
   "execution_count": 23,
   "id": "37e48a01-d03a-4fc5-941b-d657bf41467d",
   "metadata": {},
   "outputs": [
    {
     "data": {
      "text/plain": [
       "True"
      ]
     },
     "execution_count": 23,
     "metadata": {},
     "output_type": "execute_result"
    }
   ],
   "source": [
    "'cat' in 'My cat is named Ash'"
   ]
  },
  {
   "cell_type": "code",
   "execution_count": 24,
   "id": "475a95cf-0ab6-4370-a258-7bd383d0f1fb",
   "metadata": {},
   "outputs": [
    {
     "data": {
      "text/plain": [
       "False"
      ]
     },
     "execution_count": 24,
     "metadata": {},
     "output_type": "execute_result"
    }
   ],
   "source": [
    "# Returns False\n",
    "'cat' in 'Santa Catalina Island'"
   ]
  },
  {
   "cell_type": "code",
   "execution_count": 25,
   "id": "2a819bdd-1639-4007-ad67-35abde45a7e0",
   "metadata": {},
   "outputs": [],
   "source": [
    "my_list = ['a', 'b', 'c', 'd', 'e', 'f']"
   ]
  },
  {
   "cell_type": "code",
   "execution_count": 27,
   "id": "5fb0bf7d-5968-4e80-9465-eeee73017402",
   "metadata": {},
   "outputs": [
    {
     "data": {
      "text/plain": [
       "False"
      ]
     },
     "execution_count": 27,
     "metadata": {},
     "output_type": "execute_result"
    }
   ],
   "source": [
    "'a' in my_list # True\n",
    "'z' in my_list # False"
   ]
  },
  {
   "cell_type": "code",
   "execution_count": 28,
   "id": "d7679697-f166-4004-9990-c42fbed8e60f",
   "metadata": {},
   "outputs": [
    {
     "ename": "TypeError",
     "evalue": "argument of type 'int' is not iterable",
     "output_type": "error",
     "traceback": [
      "\u001b[0;31m---------------------------------------------------------------------------\u001b[0m",
      "\u001b[0;31mTypeError\u001b[0m                                 Traceback (most recent call last)",
      "Cell \u001b[0;32mIn[28], line 1\u001b[0m\n\u001b[0;32m----> 1\u001b[0m \u001b[38;5;241;43m1\u001b[39;49m\u001b[43m \u001b[49m\u001b[38;5;129;43;01min\u001b[39;49;00m\u001b[43m \u001b[49m\u001b[38;5;241;43m123\u001b[39;49m\n",
      "\u001b[0;31mTypeError\u001b[0m: argument of type 'int' is not iterable"
     ]
    }
   ],
   "source": [
    "1 in 123"
   ]
  },
  {
   "cell_type": "markdown",
   "id": "59c9a8e6-6fd2-4a35-a28c-12414acb1767",
   "metadata": {},
   "source": [
    "# Control Flow"
   ]
  },
  {
   "cell_type": "markdown",
   "id": "8d8ca819-1e6a-43ea-8384-5ff6158d89e2",
   "metadata": {},
   "source": [
    "## If and Else"
   ]
  },
  {
   "cell_type": "code",
   "execution_count": 29,
   "id": "605ebb57-0f4b-4393-8f97-c45d2ae7b010",
   "metadata": {},
   "outputs": [
    {
     "name": "stdout",
     "output_type": "stream",
     "text": [
      "One and one are equal\n"
     ]
    }
   ],
   "source": [
    "if 1 == 1:\n",
    "    print('One and one are equal')\n",
    "    print('Another line under the if statement')\n",
    "print('This line is always printed')"
   ]
  },
  {
   "cell_type": "code",
   "execution_count": 30,
   "id": "5c85d509-8143-4452-9742-caf0ed336295",
   "metadata": {},
   "outputs": [
    {
     "name": "stdout",
     "output_type": "stream",
     "text": [
      "a and b are not equal\n"
     ]
    }
   ],
   "source": [
    "a = 1\n",
    "b = 2\n",
    "\n",
    "if a == b:\n",
    "    print('a and b are equal')\n",
    "else:\n",
    "    print('a and b are not equal')"
   ]
  },
  {
   "cell_type": "code",
   "execution_count": 31,
   "id": "0b06b12d-7b69-429d-b2bd-70a1d29b61e4",
   "metadata": {},
   "outputs": [
    {
     "ename": "SyntaxError",
     "evalue": "invalid syntax (137282020.py, line 7)",
     "output_type": "error",
     "traceback": [
      "\u001b[0;36m  Cell \u001b[0;32mIn[31], line 7\u001b[0;36m\u001b[0m\n\u001b[0;31m    else:\u001b[0m\n\u001b[0m    ^\u001b[0m\n\u001b[0;31mSyntaxError\u001b[0m\u001b[0;31m:\u001b[0m invalid syntax\n"
     ]
    }
   ],
   "source": [
    "a = 1\n",
    "b = 2\n",
    "\n",
    "if a == b:\n",
    "    print('a and b are equal')\n",
    "print('Another line')\n",
    "else:\n",
    "    print('a and b are not equal')"
   ]
  },
  {
   "cell_type": "code",
   "execution_count": 32,
   "id": "c296c3ac-c3d2-4d41-80c6-4462b2248ca1",
   "metadata": {},
   "outputs": [
    {
     "name": "stdout",
     "output_type": "stream",
     "text": [
      "1\n",
      "2\n",
      "3\n",
      "4\n",
      "5\n"
     ]
    }
   ],
   "source": [
    "for num in [1, 2, 3, 4, 5]:\n",
    "    print(num)"
   ]
  },
  {
   "cell_type": "code",
   "execution_count": 33,
   "id": "5c4308b2-42f0-486f-8c0a-56a44aade725",
   "metadata": {},
   "outputs": [
    {
     "name": "stdout",
     "output_type": "stream",
     "text": [
      "1\n",
      "2\n",
      "3\n",
      "4\n",
      "5\n",
      "5\n"
     ]
    }
   ],
   "source": [
    "for num in [1, 2, 3, 4, 5]:\n",
    "    print(num)\n",
    "print(num)"
   ]
  },
  {
   "cell_type": "code",
   "execution_count": 44,
   "id": "87937e5b-65df-4bb9-9723-08006ab971a8",
   "metadata": {},
   "outputs": [
    {
     "name": "stdout",
     "output_type": "stream",
     "text": [
      "R\n",
      "M\n"
     ]
    }
   ],
   "source": [
    "for char in 'Ryan Mitchell':\n",
    "    if char >= 'A' and char <= 'Z':\n",
    "        print(char)"
   ]
  },
  {
   "cell_type": "markdown",
   "id": "48aa3e8b-c2ea-4f30-9a82-d6dc5a3640c5",
   "metadata": {},
   "source": [
    "### While loops"
   ]
  },
  {
   "cell_type": "code",
   "execution_count": 50,
   "id": "0aa8f582-c01a-46cc-a295-5dc41060d6cb",
   "metadata": {},
   "outputs": [
    {
     "name": "stdout",
     "output_type": "stream",
     "text": [
      "1\n",
      "2\n",
      "3\n",
      "4\n",
      "5\n",
      "num is now 6!\n"
     ]
    }
   ],
   "source": [
    "num = 0\n",
    "while num < 5:\n",
    "    num += 1\n",
    "    print(num)\n",
    "print('num is now 6!')\n",
    "    "
   ]
  },
  {
   "cell_type": "code",
   "execution_count": 1,
   "id": "3bec12a4-a5d6-4e6c-bde5-e7abe6b33025",
   "metadata": {},
   "outputs": [
    {
     "name": "stdout",
     "output_type": "stream",
     "text": [
      "range(0, 10)\n"
     ]
    }
   ],
   "source": [
    "print(range(0, 10))"
   ]
  },
  {
   "cell_type": "code",
   "execution_count": 2,
   "id": "d1dd54ff-7bd8-4a1a-848a-dcb2774ff62d",
   "metadata": {},
   "outputs": [
    {
     "name": "stdout",
     "output_type": "stream",
     "text": [
      "1\n",
      "2\n",
      "3\n",
      "4\n",
      "5\n"
     ]
    }
   ],
   "source": [
    "for num in range(1, 6):\n",
    "    print(num)"
   ]
  },
  {
   "cell_type": "code",
   "execution_count": 3,
   "id": "94741641-6c8d-41e3-b8f9-92ebf5a1e581",
   "metadata": {},
   "outputs": [],
   "source": [
    "from datetime import datetime\n",
    "\n",
    "datetime.now().second"
   ]
  },
  {
   "cell_type": "code",
   "execution_count": 14,
   "id": "7ec58f30-ddf8-4618-bce8-7aa15bde5028",
   "metadata": {},
   "outputs": [
    {
     "ename": "IndentationError",
     "evalue": "expected an indented block after 'while' statement on line 1 (2239258745.py, line 2)",
     "output_type": "error",
     "traceback": [
      "\u001b[0;36m  Cell \u001b[0;32mIn[14], line 2\u001b[0;36m\u001b[0m\n\u001b[0;31m    print(datetime.now().second)\u001b[0m\n\u001b[0m    ^\u001b[0m\n\u001b[0;31mIndentationError\u001b[0m\u001b[0;31m:\u001b[0m expected an indented block after 'while' statement on line 1\n"
     ]
    }
   ],
   "source": [
    "while datetime.now().second % 5 != 0:\n",
    "print(datetime.now().second)"
   ]
  },
  {
   "cell_type": "code",
   "execution_count": 12,
   "id": "eca4209e-21d8-4cca-a374-5e40efec26a6",
   "metadata": {},
   "outputs": [
    {
     "name": "stdout",
     "output_type": "stream",
     "text": [
      "25\n"
     ]
    }
   ],
   "source": [
    "while datetime.now().second % 5 != 0:\n",
    "    pass\n",
    "print(datetime.now().second)"
   ]
  },
  {
   "cell_type": "markdown",
   "id": "65f47c80-a202-4757-97dd-7f1f020e784e",
   "metadata": {},
   "source": [
    "# Functions"
   ]
  },
  {
   "cell_type": "code",
   "execution_count": 1,
   "id": "65560fed-dc9a-4dce-90a0-c47a56e1ff97",
   "metadata": {},
   "outputs": [],
   "source": [
    "def f(x):\n",
    "    return x**2"
   ]
  },
  {
   "cell_type": "code",
   "execution_count": 3,
   "id": "f9274618-e3fd-4430-9035-a615b53e218c",
   "metadata": {},
   "outputs": [
    {
     "name": "stdout",
     "output_type": "stream",
     "text": [
      "16\n"
     ]
    }
   ],
   "source": [
    "output = f(4)\n",
    "print(output)"
   ]
  },
  {
   "cell_type": "code",
   "execution_count": 5,
   "id": "15a00ace-e47b-4b97-b72c-c8ae6006520e",
   "metadata": {},
   "outputs": [],
   "source": [
    "def print_square(x):\n",
    "    print(x**2)"
   ]
  },
  {
   "cell_type": "code",
   "execution_count": 6,
   "id": "8de22af7-77f0-4151-b232-a7f44e66b2f9",
   "metadata": {},
   "outputs": [
    {
     "name": "stdout",
     "output_type": "stream",
     "text": [
      "16\n",
      "None\n"
     ]
    }
   ],
   "source": [
    "output = print_square(4)\n",
    "print(output)"
   ]
  },
  {
   "cell_type": "code",
   "execution_count": 7,
   "id": "cdd730e9-c616-498c-9636-d3adf3eeb56b",
   "metadata": {},
   "outputs": [
    {
     "ename": "TypeError",
     "evalue": "unsupported operand type(s) for +: 'NoneType' and 'int'",
     "output_type": "error",
     "traceback": [
      "\u001b[0;31m---------------------------------------------------------------------------\u001b[0m",
      "\u001b[0;31mTypeError\u001b[0m                                 Traceback (most recent call last)",
      "Cell \u001b[0;32mIn[7], line 1\u001b[0m\n\u001b[0;32m----> 1\u001b[0m \u001b[38;5;28;43;01mNone\u001b[39;49;00m\u001b[43m \u001b[49m\u001b[38;5;241;43m+\u001b[39;49m\u001b[43m \u001b[49m\u001b[38;5;241;43m2\u001b[39;49m\n",
      "\u001b[0;31mTypeError\u001b[0m: unsupported operand type(s) for +: 'NoneType' and 'int'"
     ]
    }
   ],
   "source": [
    "None + 2"
   ]
  },
  {
   "cell_type": "code",
   "execution_count": 8,
   "id": "5712018b-1f21-4fd0-a025-72c60164b671",
   "metadata": {},
   "outputs": [
    {
     "data": {
      "text/plain": [
       "NoneType"
      ]
     },
     "execution_count": 8,
     "metadata": {},
     "output_type": "execute_result"
    }
   ],
   "source": [
    "type(None)"
   ]
  },
  {
   "cell_type": "code",
   "execution_count": 10,
   "id": "bd5bb235-cecc-434a-b9b1-72a01258ab36",
   "metadata": {},
   "outputs": [
    {
     "data": {
      "text/plain": [
       "6"
      ]
     },
     "execution_count": 10,
     "metadata": {},
     "output_type": "execute_result"
    }
   ],
   "source": [
    "def safe_sum(a, b):\n",
    "    if a is None or b is None:\n",
    "        print('Cannot perform this operation')\n",
    "    return a + b\n",
    "\n",
    "safe_sum(2, 4)"
   ]
  },
  {
   "cell_type": "markdown",
   "id": "0e624204-eb10-44a3-a234-91e73a894c7f",
   "metadata": {},
   "source": [
    "## Classes"
   ]
  },
  {
   "cell_type": "code",
   "execution_count": 14,
   "id": "52793238-7f62-46f4-9310-08accd68ba26",
   "metadata": {},
   "outputs": [],
   "source": [
    "class Person:\n",
    "    def __init__(self, name):\n",
    "        self.name = name"
   ]
  },
  {
   "cell_type": "code",
   "execution_count": 15,
   "id": "ce317982-0da7-4636-984c-716df4f4d7fd",
   "metadata": {},
   "outputs": [],
   "source": [
    "alice = Person('Alice')"
   ]
  },
  {
   "cell_type": "code",
   "execution_count": 19,
   "id": "bdbba8e7-32a7-4feb-8164-59a11be647d7",
   "metadata": {},
   "outputs": [],
   "source": [
    "class Person:\n",
    "    def __init__(self, name):\n",
    "        self.name = name\n",
    "    def print_name(self):\n",
    "        print(self.name)\n",
    "    "
   ]
  },
  {
   "cell_type": "code",
   "execution_count": 20,
   "id": "904ddcfc-ace5-4f09-bb0a-ff00fdf8cfd7",
   "metadata": {},
   "outputs": [
    {
     "name": "stdout",
     "output_type": "stream",
     "text": [
      "Alice\n",
      "Alice\n"
     ]
    }
   ],
   "source": [
    "alice = Person('Alice')\n",
    "alice.print_name()\n",
    "Person.print_name(alice)"
   ]
  },
  {
   "cell_type": "code",
   "execution_count": 21,
   "id": "7e4c98c2-46ed-40f5-a22c-84bdd8368290",
   "metadata": {},
   "outputs": [
    {
     "name": "stdout",
     "output_type": "stream",
     "text": [
      "Alice\n",
      "Bob\n"
     ]
    }
   ],
   "source": [
    "alice = Person('Alice')\n",
    "bob = Person('Bob')\n",
    "alice.print_name()\n",
    "bob.print_name()"
   ]
  },
  {
   "cell_type": "code",
   "execution_count": 22,
   "id": "13905dd8-8a5e-4c3e-892d-30eb5a2125ab",
   "metadata": {},
   "outputs": [
    {
     "name": "stdout",
     "output_type": "stream",
     "text": [
      "Alice\n",
      "Alice2\n"
     ]
    }
   ],
   "source": [
    "alice = Person('Alice')\n",
    "alice.print_name()\n",
    "alice.name = 'Alice2'\n",
    "alice.print_name()"
   ]
  },
  {
   "cell_type": "code",
   "execution_count": null,
   "id": "87a28700-b6e5-42b1-a526-8be552c21810",
   "metadata": {},
   "outputs": [],
   "source": []
  },
  {
   "cell_type": "code",
   "execution_count": null,
   "id": "b5a763fd-e891-4b0e-85a3-63d71c21c52d",
   "metadata": {},
   "outputs": [],
   "source": [
    "class Building:\n",
    "    def __init__(self, floors, elevator):\n",
    "        self.floors = floors\n",
    "        self.elevator = elevator\n",
    "\n",
    "    def call_elevator(self, floor):\n",
    "        if self.elevator.floor\n",
    "\n",
    "class Elevator:\n",
    "    def __init__(self, floor):\n",
    "        self.floor = floor\n",
    "\n",
    "    def up():\n",
    "        self.floor"
   ]
  },
  {
   "cell_type": "code",
   "execution_count": 11,
   "id": "7dfa89aa-1698-4450-8d8e-8237f7262496",
   "metadata": {},
   "outputs": [],
   "source": [
    "class Dog:\n",
    "    pass"
   ]
  },
  {
   "cell_type": "code",
   "execution_count": 12,
   "id": "c90b9bf6-233b-47d6-967b-33d7266a1c1e",
   "metadata": {},
   "outputs": [
    {
     "data": {
      "text/plain": [
       "<slot wrapper '__init__' of 'object' objects>"
      ]
     },
     "execution_count": 12,
     "metadata": {},
     "output_type": "execute_result"
    }
   ],
   "source": [
    "Dog.__init__"
   ]
  },
  {
   "cell_type": "markdown",
   "id": "552e1af0-0461-402a-8eb5-f9eb30f4dcb0",
   "metadata": {},
   "source": [
    "## Data Structures and Other Ints"
   ]
  },
  {
   "cell_type": "code",
   "execution_count": 24,
   "id": "5db05093-1c0b-4207-9353-6ccd15c95fe8",
   "metadata": {},
   "outputs": [
    {
     "data": {
      "text/plain": [
       "42"
      ]
     },
     "execution_count": 24,
     "metadata": {},
     "output_type": "execute_result"
    }
   ],
   "source": [
    "int('42')"
   ]
  },
  {
   "cell_type": "code",
   "execution_count": 26,
   "id": "4d00533c-c34f-49c4-8f73-f9e372e2d832",
   "metadata": {},
   "outputs": [
    {
     "name": "stdout",
     "output_type": "stream",
     "text": [
      "<class 'int'>\n"
     ]
    }
   ],
   "source": [
    "print(int)"
   ]
  },
  {
   "cell_type": "code",
   "execution_count": 27,
   "id": "5846adc5-64de-4d98-967f-25196bf6b3ab",
   "metadata": {},
   "outputs": [
    {
     "data": {
      "text/plain": [
       "str"
      ]
     },
     "execution_count": 27,
     "metadata": {},
     "output_type": "execute_result"
    }
   ],
   "source": [
    "type('42')"
   ]
  },
  {
   "cell_type": "code",
   "execution_count": 28,
   "id": "48e5cf45-0ddf-47c0-9892-61a379e316ac",
   "metadata": {},
   "outputs": [
    {
     "data": {
      "text/plain": [
       "type"
      ]
     },
     "execution_count": 28,
     "metadata": {},
     "output_type": "execute_result"
    }
   ],
   "source": [
    "type(str)"
   ]
  },
  {
   "cell_type": "code",
   "execution_count": 29,
   "id": "caef1e93-a982-4469-a38d-6425846c2e39",
   "metadata": {},
   "outputs": [
    {
     "data": {
      "text/plain": [
       "__main__.Person"
      ]
     },
     "execution_count": 29,
     "metadata": {},
     "output_type": "execute_result"
    }
   ],
   "source": [
    "type(alice)"
   ]
  },
  {
   "cell_type": "code",
   "execution_count": 30,
   "id": "9af85f50-7a41-4260-820b-c274156a680d",
   "metadata": {},
   "outputs": [
    {
     "data": {
      "text/plain": [
       "str"
      ]
     },
     "execution_count": 30,
     "metadata": {},
     "output_type": "execute_result"
    }
   ],
   "source": [
    "type('asdf')"
   ]
  },
  {
   "cell_type": "code",
   "execution_count": 32,
   "id": "4dd9a0c0-efab-4045-8af9-f74af6ef900e",
   "metadata": {},
   "outputs": [
    {
     "data": {
      "text/plain": [
       "str"
      ]
     },
     "execution_count": 32,
     "metadata": {},
     "output_type": "execute_result"
    }
   ],
   "source": [
    "type('Hello, World!')"
   ]
  },
  {
   "cell_type": "code",
   "execution_count": 33,
   "id": "6807109b-b9c6-400c-92d2-5ea1a6c6ee2c",
   "metadata": {},
   "outputs": [
    {
     "data": {
      "text/plain": [
       "bool"
      ]
     },
     "execution_count": 33,
     "metadata": {},
     "output_type": "execute_result"
    }
   ],
   "source": [
    "type(True)"
   ]
  },
  {
   "cell_type": "code",
   "execution_count": 34,
   "id": "d75d7613-f1e4-409f-b5ec-843bb74bc5e8",
   "metadata": {},
   "outputs": [
    {
     "data": {
      "text/plain": [
       "function"
      ]
     },
     "execution_count": 34,
     "metadata": {},
     "output_type": "execute_result"
    }
   ],
   "source": [
    "def foo():\n",
    "    return\n",
    "\n",
    "type(foo)"
   ]
  },
  {
   "cell_type": "code",
   "execution_count": 40,
   "id": "69a25771-c943-43be-9734-3668588d73de",
   "metadata": {},
   "outputs": [
    {
     "data": {
      "text/plain": [
       "<method-wrapper '__init__' of function object at 0x1131f6830>"
      ]
     },
     "execution_count": 40,
     "metadata": {},
     "output_type": "execute_result"
    }
   ],
   "source": [
    "foo.__init__"
   ]
  },
  {
   "cell_type": "code",
   "execution_count": 42,
   "id": "29cb9194-982a-4034-8835-eaea780369f5",
   "metadata": {},
   "outputs": [
    {
     "ename": "NameError",
     "evalue": "name 'func' is not defined",
     "output_type": "error",
     "traceback": [
      "\u001b[0;31m---------------------------------------------------------------------------\u001b[0m",
      "\u001b[0;31mNameError\u001b[0m                                 Traceback (most recent call last)",
      "Cell \u001b[0;32mIn[42], line 1\u001b[0m\n\u001b[0;32m----> 1\u001b[0m \u001b[43mfunc\u001b[49m\n",
      "\u001b[0;31mNameError\u001b[0m: name 'func' is not defined"
     ]
    }
   ],
   "source": [
    "func"
   ]
  },
  {
   "cell_type": "code",
   "execution_count": 43,
   "id": "2d6e35a7-6370-4256-b670-a24d001c9963",
   "metadata": {},
   "outputs": [
    {
     "ename": "NameError",
     "evalue": "name 'PyFunctionObject' is not defined",
     "output_type": "error",
     "traceback": [
      "\u001b[0;31m---------------------------------------------------------------------------\u001b[0m",
      "\u001b[0;31mNameError\u001b[0m                                 Traceback (most recent call last)",
      "Cell \u001b[0;32mIn[43], line 1\u001b[0m\n\u001b[0;32m----> 1\u001b[0m \u001b[43mPyFunctionObject\u001b[49m\n",
      "\u001b[0;31mNameError\u001b[0m: name 'PyFunctionObject' is not defined"
     ]
    }
   ],
   "source": [
    "PyFunctionObject"
   ]
  },
  {
   "cell_type": "code",
   "execution_count": 44,
   "id": "2ce3d8b7-6791-487d-a685-8adf8ba85bcf",
   "metadata": {},
   "outputs": [
    {
     "data": {
      "text/plain": [
       "<method-wrapper '__init__' of list object at 0x1132baec0>"
      ]
     },
     "execution_count": 44,
     "metadata": {},
     "output_type": "execute_result"
    }
   ],
   "source": [
    "[].__init__"
   ]
  },
  {
   "cell_type": "markdown",
   "id": "e28b418d-a6d0-4ea6-a95b-05546741122b",
   "metadata": {},
   "source": [
    "## Data Structures"
   ]
  },
  {
   "cell_type": "code",
   "execution_count": 45,
   "id": "2566a221-a83b-45f6-b634-6d3ed345003b",
   "metadata": {},
   "outputs": [],
   "source": [
    "my_list = ['apple', 3.14, -106, 'c']"
   ]
  },
  {
   "cell_type": "code",
   "execution_count": 46,
   "id": "0d6fe98a-7079-4f41-bcbc-8c5890029a1f",
   "metadata": {},
   "outputs": [],
   "source": [
    "my_list = [['a', 'b', 'c'], [1, 2, 3]]"
   ]
  },
  {
   "cell_type": "code",
   "execution_count": 47,
   "id": "9a46de1e-f5dd-4f51-90dc-659f53f1b67c",
   "metadata": {},
   "outputs": [
    {
     "data": {
      "text/plain": [
       "2"
      ]
     },
     "execution_count": 47,
     "metadata": {},
     "output_type": "execute_result"
    }
   ],
   "source": [
    "len(my_list)"
   ]
  },
  {
   "cell_type": "code",
   "execution_count": 48,
   "id": "7cb651f3-c145-4453-a8ef-1d512f868ef3",
   "metadata": {},
   "outputs": [
    {
     "name": "stdout",
     "output_type": "stream",
     "text": [
      "3\n",
      "3\n"
     ]
    }
   ],
   "source": [
    "for item in my_list:\n",
    "    print(len(item))"
   ]
  },
  {
   "cell_type": "code",
   "execution_count": null,
   "id": "c60e9dd6-50e6-4468-9166-59ea92a48f22",
   "metadata": {},
   "outputs": [],
   "source": [
    "my_list[0]"
   ]
  },
  {
   "cell_type": "code",
   "execution_count": 54,
   "id": "750d932d-e2fd-4224-a68f-83ed5e253905",
   "metadata": {},
   "outputs": [
    {
     "name": "stdout",
     "output_type": "stream",
     "text": [
      "['a', 1]\n"
     ]
    }
   ],
   "source": [
    "my_list[0] = 'a'\n",
    "my_list[1] = 1\n",
    "print(my_list)"
   ]
  },
  {
   "cell_type": "code",
   "execution_count": null,
   "id": "cc345cbd-221c-45dd-9a2c-243825b0d8f3",
   "metadata": {},
   "outputs": [],
   "source": []
  },
  {
   "cell_type": "code",
   "execution_count": 49,
   "id": "1f94b220-4cb6-494f-9176-a751074e34b5",
   "metadata": {},
   "outputs": [
    {
     "data": {
      "text/plain": [
       "3"
      ]
     },
     "execution_count": 49,
     "metadata": {},
     "output_type": "execute_result"
    }
   ],
   "source": [
    "len(my_list[0])"
   ]
  },
  {
   "cell_type": "markdown",
   "id": "6d5e94e3-913c-4e86-8e12-afa0f064285e",
   "metadata": {},
   "source": [
    "## Dictionaries"
   ]
  },
  {
   "cell_type": "code",
   "execution_count": 50,
   "id": "ca0cd4c1-d11d-4bc2-a5fe-ab307c7d5829",
   "metadata": {},
   "outputs": [],
   "source": [
    "my_dictionary = {\n",
    "    'apple': 'A red fruit',\n",
    "    'banana': 'A yellow fruit',\n",
    "    'cantaloupe': 'A beige melon'\n",
    "}\n"
   ]
  },
  {
   "cell_type": "code",
   "execution_count": 51,
   "id": "1985565c-238a-4a0f-8057-e80acee64e30",
   "metadata": {},
   "outputs": [
    {
     "data": {
      "text/plain": [
       "'A red fruit'"
      ]
     },
     "execution_count": 51,
     "metadata": {},
     "output_type": "execute_result"
    }
   ],
   "source": [
    "my_dictionary['apple']"
   ]
  },
  {
   "cell_type": "code",
   "execution_count": 52,
   "id": "ecedc7b9-5f88-4199-a487-4ff1b1113a2a",
   "metadata": {},
   "outputs": [
    {
     "name": "stdout",
     "output_type": "stream",
     "text": [
      "apple\n",
      "banana\n",
      "cantaloupe\n"
     ]
    }
   ],
   "source": [
    "for item in my_dictionary:\n",
    "    print(item)"
   ]
  },
  {
   "cell_type": "code",
   "execution_count": 53,
   "id": "b12245cf-dd6d-4ac1-907e-94494dfabe62",
   "metadata": {},
   "outputs": [
    {
     "name": "stdout",
     "output_type": "stream",
     "text": [
      "A red fruit\n",
      "A yellow fruit\n",
      "A beige melon\n"
     ]
    }
   ],
   "source": [
    "for key in my_dictionary:\n",
    "    print(my_dictionary[key])"
   ]
  },
  {
   "cell_type": "markdown",
   "id": "df590013-e06d-4d40-8d28-dd5ab2883150",
   "metadata": {},
   "source": [
    "## Tuples"
   ]
  },
  {
   "cell_type": "code",
   "execution_count": 55,
   "id": "cbdfa160-5efc-4767-bbee-bca0cc5d47b0",
   "metadata": {},
   "outputs": [],
   "source": [
    "my_tuple = ('a', 'b', 'c')"
   ]
  },
  {
   "cell_type": "code",
   "execution_count": 56,
   "id": "ea9533e1-3086-40c8-a888-12f6d731005e",
   "metadata": {},
   "outputs": [
    {
     "ename": "TypeError",
     "evalue": "'tuple' object does not support item assignment",
     "output_type": "error",
     "traceback": [
      "\u001b[0;31m---------------------------------------------------------------------------\u001b[0m",
      "\u001b[0;31mTypeError\u001b[0m                                 Traceback (most recent call last)",
      "Cell \u001b[0;32mIn[56], line 1\u001b[0m\n\u001b[0;32m----> 1\u001b[0m \u001b[43mmy_tuple\u001b[49m\u001b[43m[\u001b[49m\u001b[38;5;241;43m0\u001b[39;49m\u001b[43m]\u001b[49m \u001b[38;5;241m=\u001b[39m \u001b[38;5;124m'\u001b[39m\u001b[38;5;124mA\u001b[39m\u001b[38;5;124m'\u001b[39m\n",
      "\u001b[0;31mTypeError\u001b[0m: 'tuple' object does not support item assignment"
     ]
    }
   ],
   "source": [
    "my_tuple[0] = 'A'"
   ]
  },
  {
   "cell_type": "code",
   "execution_count": 58,
   "id": "c5976f38-f9a6-4e9c-bb28-40cd5db2c98f",
   "metadata": {},
   "outputs": [],
   "source": [
    "coordinates = ((1, 2), (3, 4), (5, 6), (7, 8))"
   ]
  },
  {
   "cell_type": "code",
   "execution_count": null,
   "id": "f669dc6e-e429-4fcc-b762-44f914b3b88f",
   "metadata": {},
   "outputs": [],
   "source": []
  },
  {
   "cell_type": "markdown",
   "id": "4193a1d0-9436-4099-997b-97d346e8deda",
   "metadata": {},
   "source": [
    "## Sets"
   ]
  },
  {
   "cell_type": "code",
   "execution_count": 59,
   "id": "75f56a0d-e42b-4daa-8adc-f2cc13738f3d",
   "metadata": {},
   "outputs": [],
   "source": [
    "my_set = {1, 2, 3}"
   ]
  },
  {
   "cell_type": "code",
   "execution_count": 61,
   "id": "2ca681e6-54c2-4a22-a823-9985030e8052",
   "metadata": {},
   "outputs": [
    {
     "name": "stdout",
     "output_type": "stream",
     "text": [
      "1\n",
      "2\n",
      "3\n"
     ]
    }
   ],
   "source": [
    "for item in my_set:\n",
    "    print(item)"
   ]
  },
  {
   "cell_type": "code",
   "execution_count": 62,
   "id": "5f7b2f08-f4df-44cc-bb65-6c4194019370",
   "metadata": {},
   "outputs": [
    {
     "ename": "TypeError",
     "evalue": "'set' object is not subscriptable",
     "output_type": "error",
     "traceback": [
      "\u001b[0;31m---------------------------------------------------------------------------\u001b[0m",
      "\u001b[0;31mTypeError\u001b[0m                                 Traceback (most recent call last)",
      "Cell \u001b[0;32mIn[62], line 1\u001b[0m\n\u001b[0;32m----> 1\u001b[0m \u001b[43mmy_set\u001b[49m\u001b[43m[\u001b[49m\u001b[38;5;241;43m0\u001b[39;49m\u001b[43m]\u001b[49m\n",
      "\u001b[0;31mTypeError\u001b[0m: 'set' object is not subscriptable"
     ]
    }
   ],
   "source": [
    "my_set[0]"
   ]
  },
  {
   "cell_type": "code",
   "execution_count": 63,
   "id": "f178b0af-75f2-468d-a620-5b7d706e48d5",
   "metadata": {},
   "outputs": [],
   "source": [
    "my_set.add(1)"
   ]
  },
  {
   "cell_type": "code",
   "execution_count": 64,
   "id": "fbf6a02d-dd13-4f25-892d-8181c7461225",
   "metadata": {},
   "outputs": [
    {
     "data": {
      "text/plain": [
       "{1, 2, 3}"
      ]
     },
     "execution_count": 64,
     "metadata": {},
     "output_type": "execute_result"
    }
   ],
   "source": [
    "my_set"
   ]
  },
  {
   "cell_type": "code",
   "execution_count": 65,
   "id": "f135da0d-1d5b-47d9-b2be-dba308fcf440",
   "metadata": {},
   "outputs": [
    {
     "name": "stdout",
     "output_type": "stream",
     "text": [
      "{1, 2, 3}\n",
      "{1, 2, 3}\n",
      "And now for something completely different...\n",
      "{1, 2, 3, 4}\n"
     ]
    }
   ],
   "source": [
    "my_set = {1, 2, 3}\n",
    "\n",
    "my_set.add(1)\n",
    "print(my_set)\n",
    "\n",
    "my_set.add(2)\n",
    "print(my_set)\n",
    "\n",
    "print('And now for something completely different...')\n",
    "my_set.add(4)\n",
    "print(my_set)"
   ]
  },
  {
   "cell_type": "code",
   "execution_count": null,
   "id": "18cdad2a-791b-4ed3-b6dc-469f0df78ff5",
   "metadata": {},
   "outputs": [],
   "source": []
  }
 ],
 "metadata": {
  "kernelspec": {
   "display_name": "Python 3 (ipykernel)",
   "language": "python",
   "name": "python3"
  },
  "language_info": {
   "codemirror_mode": {
    "name": "ipython",
    "version": 3
   },
   "file_extension": ".py",
   "mimetype": "text/x-python",
   "name": "python",
   "nbconvert_exporter": "python",
   "pygments_lexer": "ipython3",
   "version": "3.10.14"
  }
 },
 "nbformat": 4,
 "nbformat_minor": 5
}
