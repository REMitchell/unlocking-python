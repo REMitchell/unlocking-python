{
 "cells": [
  {
   "cell_type": "markdown",
   "id": "b390c8b4-3765-42e7-b687-69670073fd35",
   "metadata": {},
   "source": [
    "# Chapter 1: Python Quickstart"
   ]
  },
  {
   "cell_type": "markdown",
   "id": "772ce494-0e20-49f9-b75c-376ad18d46b0",
   "metadata": {},
   "source": [
    "## Variables"
   ]
  },
  {
   "cell_type": "code",
   "execution_count": 1,
   "id": "eeaf30bb-131f-45b4-94e2-f6a5e0f3db0a",
   "metadata": {},
   "outputs": [],
   "source": [
    "name = 'Ryan'\n",
    "pi = 3.14\n",
    "five = 5"
   ]
  },
  {
   "cell_type": "code",
   "execution_count": 2,
   "id": "289b3dbd-b312-4718-9510-94632af46769",
   "metadata": {},
   "outputs": [],
   "source": [
    "five = 6"
   ]
  },
  {
   "cell_type": "code",
   "execution_count": 3,
   "id": "513607ae-c228-4785-a66f-5f96e0e6e8ec",
   "metadata": {},
   "outputs": [],
   "source": [
    "VALUE_OF_PI = 3.14159"
   ]
  },
  {
   "cell_type": "code",
   "execution_count": 7,
   "id": "69942114-b65d-45fe-97df-37846a80e191",
   "metadata": {},
   "outputs": [],
   "source": [
    "var1 = 10\n",
    "var2 = 5"
   ]
  },
  {
   "cell_type": "code",
   "execution_count": 8,
   "id": "d764c747-b176-420a-864c-cf544ae01760",
   "metadata": {},
   "outputs": [],
   "source": [
    "items_per_batch = 10\n",
    "max_batches = 5"
   ]
  },
  {
   "cell_type": "code",
   "execution_count": 6,
   "id": "e6bdffdf-cc5b-4f8f-9744-007c88045cb3",
   "metadata": {},
   "outputs": [],
   "source": [
    "# Number of items to process in each batch\n",
    "items_per_batch = 10\n",
    "\n",
    "# Maximum number of batches to run before exiting\n",
    "# If items are left in queue after processing the last batch\n",
    "# this program will be restarted hourly to continue processing\n",
    "max_batches = 5\n",
    "done_processing = False # Set to True after last batch\n",
    "\n",
    "# TODO: Add ability for program to restart itself after processing last batch"
   ]
  },
  {
   "cell_type": "markdown",
   "id": "38854352-3e60-4ed9-8a99-72af6e9cd621",
   "metadata": {},
   "source": [
    "## Data Types"
   ]
  },
  {
   "cell_type": "code",
   "execution_count": 9,
   "id": "64109848-91be-447d-a90f-168d25ead1b0",
   "metadata": {},
   "outputs": [
    {
     "data": {
      "text/plain": [
       "int"
      ]
     },
     "execution_count": 9,
     "metadata": {},
     "output_type": "execute_result"
    }
   ],
   "source": [
    "type(123)"
   ]
  },
  {
   "cell_type": "code",
   "execution_count": 10,
   "id": "1cdd227d-e4b9-4b6d-9313-6d39017aeb3a",
   "metadata": {},
   "outputs": [
    {
     "data": {
      "text/plain": [
       "float"
      ]
     },
     "execution_count": 10,
     "metadata": {},
     "output_type": "execute_result"
    }
   ],
   "source": [
    "type(123.456)"
   ]
  },
  {
   "cell_type": "code",
   "execution_count": 11,
   "id": "88b9e684-ee90-4a53-81bf-d8d54e983bc8",
   "metadata": {},
   "outputs": [
    {
     "data": {
      "text/plain": [
       "2"
      ]
     },
     "execution_count": 11,
     "metadata": {},
     "output_type": "execute_result"
    }
   ],
   "source": [
    "int(2.718)"
   ]
  },
  {
   "cell_type": "code",
   "execution_count": 12,
   "id": "b64f3560-28bb-4737-9a5f-ac59b29453c8",
   "metadata": {},
   "outputs": [
    {
     "data": {
      "text/plain": [
       "3.0"
      ]
     },
     "execution_count": 12,
     "metadata": {},
     "output_type": "execute_result"
    }
   ],
   "source": [
    "float(3)"
   ]
  },
  {
   "cell_type": "code",
   "execution_count": 13,
   "id": "2f4be190-031d-4fec-8312-bbb86d36569b",
   "metadata": {},
   "outputs": [
    {
     "data": {
      "text/plain": [
       "str"
      ]
     },
     "execution_count": 13,
     "metadata": {},
     "output_type": "execute_result"
    }
   ],
   "source": [
    "type('Hello, World!')"
   ]
  },
  {
   "cell_type": "code",
   "execution_count": 14,
   "id": "b70e48c1-a356-4f8f-a216-df1221ac4c2e",
   "metadata": {},
   "outputs": [],
   "source": [
    "some_str = 'Monty Python\\'s Life of Brian'"
   ]
  },
  {
   "cell_type": "code",
   "execution_count": 15,
   "id": "dcb2406f-1739-4856-bba4-9fdaf909e210",
   "metadata": {},
   "outputs": [
    {
     "data": {
      "text/plain": [
       "1"
      ]
     },
     "execution_count": 15,
     "metadata": {},
     "output_type": "execute_result"
    }
   ],
   "source": [
    "int('1')"
   ]
  },
  {
   "cell_type": "code",
   "execution_count": 16,
   "id": "f2d91358-4567-436f-80b6-e3396e3704b8",
   "metadata": {},
   "outputs": [
    {
     "data": {
      "text/plain": [
       "-100"
      ]
     },
     "execution_count": 16,
     "metadata": {},
     "output_type": "execute_result"
    }
   ],
   "source": [
    "int('-100')"
   ]
  },
  {
   "cell_type": "code",
   "execution_count": 17,
   "id": "eddadf73-b2ca-48d6-a1d5-457cb909cf28",
   "metadata": {},
   "outputs": [
    {
     "data": {
      "text/plain": [
       "1.0"
      ]
     },
     "execution_count": 17,
     "metadata": {},
     "output_type": "execute_result"
    }
   ],
   "source": [
    "float('1')"
   ]
  },
  {
   "cell_type": "code",
   "execution_count": 18,
   "id": "0cf4d565-1b15-4755-a68c-35593d761b25",
   "metadata": {},
   "outputs": [
    {
     "data": {
      "text/plain": [
       "3.141"
      ]
     },
     "execution_count": 18,
     "metadata": {},
     "output_type": "execute_result"
    }
   ],
   "source": [
    "float('3.141')"
   ]
  },
  {
   "cell_type": "code",
   "execution_count": 20,
   "id": "e07186b8-a65e-4ae8-ac8f-ce886a748e6c",
   "metadata": {},
   "outputs": [
    {
     "data": {
      "text/plain": [
       "True"
      ]
     },
     "execution_count": 20,
     "metadata": {},
     "output_type": "execute_result"
    }
   ],
   "source": [
    "True"
   ]
  },
  {
   "cell_type": "code",
   "execution_count": 21,
   "id": "654e09f8-f8d1-41f5-95e9-0cbd2790484a",
   "metadata": {},
   "outputs": [
    {
     "data": {
      "text/plain": [
       "False"
      ]
     },
     "execution_count": 21,
     "metadata": {},
     "output_type": "execute_result"
    }
   ],
   "source": [
    "False"
   ]
  },
  {
   "cell_type": "code",
   "execution_count": 22,
   "id": "47cd8ec7-2d03-437b-9b30-035f12e7adc4",
   "metadata": {},
   "outputs": [],
   "source": [
    "true = True"
   ]
  },
  {
   "cell_type": "code",
   "execution_count": 23,
   "id": "c7eb8cc0-a9a7-4bdb-ac2b-35d4a44f2bf4",
   "metadata": {},
   "outputs": [],
   "source": [
    "false = True"
   ]
  },
  {
   "cell_type": "code",
   "execution_count": 24,
   "id": "72799420-4b8e-4dcc-af44-391c7057d81c",
   "metadata": {},
   "outputs": [
    {
     "data": {
      "text/plain": [
       "bool"
      ]
     },
     "execution_count": 24,
     "metadata": {},
     "output_type": "execute_result"
    }
   ],
   "source": [
    "type(True)"
   ]
  },
  {
   "cell_type": "code",
   "execution_count": 25,
   "id": "bd98c53b-02be-4698-9301-d18e9b1f505b",
   "metadata": {},
   "outputs": [
    {
     "data": {
      "text/plain": [
       "True"
      ]
     },
     "execution_count": 25,
     "metadata": {},
     "output_type": "execute_result"
    }
   ],
   "source": [
    "bool(1)"
   ]
  },
  {
   "cell_type": "code",
   "execution_count": 26,
   "id": "719404f3-b57d-442f-a5d7-b622101f321f",
   "metadata": {},
   "outputs": [
    {
     "data": {
      "text/plain": [
       "False"
      ]
     },
     "execution_count": 26,
     "metadata": {},
     "output_type": "execute_result"
    }
   ],
   "source": [
    "bool(0)"
   ]
  },
  {
   "cell_type": "code",
   "execution_count": 27,
   "id": "044e4c86-8892-4bbb-82f9-f507c1b5699e",
   "metadata": {},
   "outputs": [
    {
     "data": {
      "text/plain": [
       "True"
      ]
     },
     "execution_count": 27,
     "metadata": {},
     "output_type": "execute_result"
    }
   ],
   "source": [
    "bool(2)"
   ]
  },
  {
   "cell_type": "code",
   "execution_count": 28,
   "id": "af7dd8c4-8727-4601-aa9e-8b6220d11e12",
   "metadata": {},
   "outputs": [
    {
     "data": {
      "text/plain": [
       "True"
      ]
     },
     "execution_count": 28,
     "metadata": {},
     "output_type": "execute_result"
    }
   ],
   "source": [
    "bool(-1)"
   ]
  },
  {
   "cell_type": "code",
   "execution_count": 29,
   "id": "df75ba3f-f9fc-4202-b71a-585dab8ab677",
   "metadata": {},
   "outputs": [
    {
     "data": {
      "text/plain": [
       "True"
      ]
     },
     "execution_count": 29,
     "metadata": {},
     "output_type": "execute_result"
    }
   ],
   "source": [
    "bool(-1000000)"
   ]
  },
  {
   "cell_type": "code",
   "execution_count": 30,
   "id": "cfcce5f9-fe32-4990-9ae8-38d99c9963a0",
   "metadata": {},
   "outputs": [
    {
     "data": {
      "text/plain": [
       "False"
      ]
     },
     "execution_count": 30,
     "metadata": {},
     "output_type": "execute_result"
    }
   ],
   "source": [
    "bool(0.0)"
   ]
  },
  {
   "cell_type": "code",
   "execution_count": 31,
   "id": "75229e68-2bf2-4924-ab5b-70e217feaeee",
   "metadata": {},
   "outputs": [
    {
     "data": {
      "text/plain": [
       "True"
      ]
     },
     "execution_count": 31,
     "metadata": {},
     "output_type": "execute_result"
    }
   ],
   "source": [
    "bool(1.0)"
   ]
  },
  {
   "cell_type": "code",
   "execution_count": 32,
   "id": "ff116bc6-b20a-40b1-a719-6483b880fee9",
   "metadata": {},
   "outputs": [
    {
     "data": {
      "text/plain": [
       "True"
      ]
     },
     "execution_count": 32,
     "metadata": {},
     "output_type": "execute_result"
    }
   ],
   "source": [
    "bool(-1.0)"
   ]
  },
  {
   "cell_type": "code",
   "execution_count": 33,
   "id": "d14448f7-68cc-4638-9040-77f071b0658d",
   "metadata": {},
   "outputs": [
    {
     "data": {
      "text/plain": [
       "True"
      ]
     },
     "execution_count": 33,
     "metadata": {},
     "output_type": "execute_result"
    }
   ],
   "source": [
    "bool(0.000000001)"
   ]
  },
  {
   "cell_type": "code",
   "execution_count": 34,
   "id": "0d364098-2247-483f-827e-aeecdaef6026",
   "metadata": {},
   "outputs": [
    {
     "data": {
      "text/plain": [
       "True"
      ]
     },
     "execution_count": 34,
     "metadata": {},
     "output_type": "execute_result"
    }
   ],
   "source": [
    "bool('True')"
   ]
  },
  {
   "cell_type": "code",
   "execution_count": 35,
   "id": "f5b58ab4-2eba-4140-a3db-b9978ced5b4e",
   "metadata": {},
   "outputs": [
    {
     "data": {
      "text/plain": [
       "True"
      ]
     },
     "execution_count": 35,
     "metadata": {},
     "output_type": "execute_result"
    }
   ],
   "source": [
    "bool('False')"
   ]
  },
  {
   "cell_type": "code",
   "execution_count": 36,
   "id": "d4341aa9-d90b-430a-a2eb-c7f492d3a8cd",
   "metadata": {},
   "outputs": [
    {
     "data": {
      "text/plain": [
       "False"
      ]
     },
     "execution_count": 36,
     "metadata": {},
     "output_type": "execute_result"
    }
   ],
   "source": [
    "bool('')"
   ]
  },
  {
   "cell_type": "markdown",
   "id": "6ef342de-cd64-4dfa-b63d-803bab2c35f3",
   "metadata": {},
   "source": [
    "## Arithmetic Operators"
   ]
  },
  {
   "cell_type": "code",
   "execution_count": 1,
   "id": "ac40606a-b81a-4417-99af-1984b3091beb",
   "metadata": {},
   "outputs": [
    {
     "data": {
      "text/plain": [
       "2"
      ]
     },
     "execution_count": 1,
     "metadata": {},
     "output_type": "execute_result"
    }
   ],
   "source": [
    "# addition\n",
    "1 + 1"
   ]
  },
  {
   "cell_type": "code",
   "execution_count": 2,
   "id": "5344f002-1acd-46dd-b70b-d91e0589f80e",
   "metadata": {},
   "outputs": [
    {
     "data": {
      "text/plain": [
       "2"
      ]
     },
     "execution_count": 2,
     "metadata": {},
     "output_type": "execute_result"
    }
   ],
   "source": [
    "# subtraction\n",
    "5 - 3"
   ]
  },
  {
   "cell_type": "code",
   "execution_count": 3,
   "id": "8e3cd757-bf47-4262-9996-0f2c0aa50f4e",
   "metadata": {},
   "outputs": [
    {
     "data": {
      "text/plain": [
       "20"
      ]
     },
     "execution_count": 3,
     "metadata": {},
     "output_type": "execute_result"
    }
   ],
   "source": [
    "# multiplication\n",
    "4 * 5"
   ]
  },
  {
   "cell_type": "code",
   "execution_count": 4,
   "id": "ffbd4c91-9b00-442c-81ab-440bfb85c481",
   "metadata": {},
   "outputs": [
    {
     "data": {
      "text/plain": [
       "4.0"
      ]
     },
     "execution_count": 4,
     "metadata": {},
     "output_type": "execute_result"
    }
   ],
   "source": [
    "# division\n",
    "20 / 5"
   ]
  },
  {
   "cell_type": "code",
   "execution_count": 37,
   "id": "c6aa1770-7dc8-44ad-9358-51d5fb43c269",
   "metadata": {},
   "outputs": [
    {
     "data": {
      "text/plain": [
       "4"
      ]
     },
     "execution_count": 37,
     "metadata": {},
     "output_type": "execute_result"
    }
   ],
   "source": [
    "# floor division\n",
    "20//5"
   ]
  },
  {
   "cell_type": "code",
   "execution_count": 38,
   "id": "3982a35c-1822-4ca3-846b-2e843e1a503f",
   "metadata": {},
   "outputs": [
    {
     "data": {
      "text/plain": [
       "32"
      ]
     },
     "execution_count": 38,
     "metadata": {},
     "output_type": "execute_result"
    }
   ],
   "source": [
    "# exponent\n",
    "2**5\n"
   ]
  },
  {
   "cell_type": "code",
   "execution_count": 7,
   "id": "dfaebe1b-9884-4388-91c8-5fe5e751f704",
   "metadata": {},
   "outputs": [
    {
     "data": {
      "text/plain": [
       "2"
      ]
     },
     "execution_count": 7,
     "metadata": {},
     "output_type": "execute_result"
    }
   ],
   "source": [
    "# modulus\n",
    "20 % 6"
   ]
  },
  {
   "cell_type": "code",
   "execution_count": 39,
   "id": "ae2086b2-9442-4872-b25f-b32be402afc0",
   "metadata": {},
   "outputs": [
    {
     "data": {
      "text/plain": [
       "2"
      ]
     },
     "execution_count": 39,
     "metadata": {},
     "output_type": "execute_result"
    }
   ],
   "source": [
    "1 + 1"
   ]
  },
  {
   "cell_type": "code",
   "execution_count": 40,
   "id": "c0f61afb-2b71-4323-81a8-6b0000dbc5ee",
   "metadata": {},
   "outputs": [
    {
     "data": {
      "text/plain": [
       "2.5"
      ]
     },
     "execution_count": 40,
     "metadata": {},
     "output_type": "execute_result"
    }
   ],
   "source": [
    "1.5 + 1"
   ]
  },
  {
   "cell_type": "code",
   "execution_count": 41,
   "id": "e45deb54-1c98-48ed-81d2-86a24113e811",
   "metadata": {},
   "outputs": [
    {
     "data": {
      "text/plain": [
       "2.0"
      ]
     },
     "execution_count": 41,
     "metadata": {},
     "output_type": "execute_result"
    }
   ],
   "source": [
    "1.0 + 1"
   ]
  },
  {
   "cell_type": "code",
   "execution_count": 42,
   "id": "fa3c5fe5-f341-4a08-bb45-d5ecf42637ab",
   "metadata": {},
   "outputs": [
    {
     "data": {
      "text/plain": [
       "4"
      ]
     },
     "execution_count": 42,
     "metadata": {},
     "output_type": "execute_result"
    }
   ],
   "source": [
    "20//5"
   ]
  },
  {
   "cell_type": "code",
   "execution_count": 44,
   "id": "9d40c36e-b4c4-4f1c-9d58-774d3ce68573",
   "metadata": {},
   "outputs": [
    {
     "data": {
      "text/plain": [
       "-7"
      ]
     },
     "execution_count": 44,
     "metadata": {},
     "output_type": "execute_result"
    }
   ],
   "source": [
    "-20//3"
   ]
  },
  {
   "cell_type": "code",
   "execution_count": 45,
   "id": "1a60df52-a424-474d-bcce-2c2719d4daee",
   "metadata": {},
   "outputs": [
    {
     "data": {
      "text/plain": [
       "9.0"
      ]
     },
     "execution_count": 45,
     "metadata": {},
     "output_type": "execute_result"
    }
   ],
   "source": [
    "99.9999//10"
   ]
  },
  {
   "cell_type": "code",
   "execution_count": 47,
   "id": "05c7c924-d41f-4537-9d22-bea54e8da0f9",
   "metadata": {},
   "outputs": [
    {
     "data": {
      "text/plain": [
       "7"
      ]
     },
     "execution_count": 47,
     "metadata": {},
     "output_type": "execute_result"
    }
   ],
   "source": [
    "# Careful!\n",
    "2^5"
   ]
  },
  {
   "cell_type": "code",
   "execution_count": 48,
   "id": "f9f5baeb-2e7e-4269-9eab-074728b701f0",
   "metadata": {},
   "outputs": [
    {
     "data": {
      "text/plain": [
       "2"
      ]
     },
     "execution_count": 48,
     "metadata": {},
     "output_type": "execute_result"
    }
   ],
   "source": [
    "20 % 6"
   ]
  },
  {
   "cell_type": "code",
   "execution_count": null,
   "id": "43cb7780-db23-46dd-ae39-272db42ab2da",
   "metadata": {},
   "outputs": [],
   "source": []
  },
  {
   "cell_type": "code",
   "execution_count": null,
   "id": "ce535171-272b-493e-b83e-11e8df91ddf1",
   "metadata": {},
   "outputs": [],
   "source": []
  },
  {
   "cell_type": "markdown",
   "id": "0034484e-c4b7-4df8-a185-6c0face8e24b",
   "metadata": {},
   "source": [
    "## More Assignment Operators"
   ]
  },
  {
   "cell_type": "code",
   "execution_count": 49,
   "id": "fdf65a92-ff47-4712-b536-2b2941b1dfac",
   "metadata": {},
   "outputs": [
    {
     "name": "stdout",
     "output_type": "stream",
     "text": [
      "8\n"
     ]
    }
   ],
   "source": [
    "num = 5\n",
    "# Add three to num\n",
    "num += 3\n",
    "print(num)"
   ]
  },
  {
   "cell_type": "code",
   "execution_count": 50,
   "id": "a3a0a82e-1120-4f93-be9a-ff9dadf7bb3f",
   "metadata": {},
   "outputs": [
    {
     "ename": "NameError",
     "evalue": "name 'new_num' is not defined",
     "output_type": "error",
     "traceback": [
      "\u001b[31m---------------------------------------------------------------------------\u001b[39m",
      "\u001b[31mNameError\u001b[39m                                 Traceback (most recent call last)",
      "\u001b[36mCell\u001b[39m\u001b[36m \u001b[39m\u001b[32mIn[50]\u001b[39m\u001b[32m, line 1\u001b[39m\n\u001b[32m----> \u001b[39m\u001b[32m1\u001b[39m new_num += \u001b[32m3\u001b[39m\n",
      "\u001b[31mNameError\u001b[39m: name 'new_num' is not defined"
     ]
    }
   ],
   "source": [
    "new_num += 3"
   ]
  },
  {
   "cell_type": "code",
   "execution_count": 51,
   "id": "20ccf925-348d-4af6-a1d2-8f9ef040ab45",
   "metadata": {},
   "outputs": [],
   "source": [
    "num = 5\n",
    "\n",
    "# Subtract 2 from num\n",
    "num -= 2\n",
    "\n",
    "# Multiply num by 10\n",
    "num *= 10\n",
    "\n",
    "# Divide num by 2\n",
    "num /= 2\n",
    "\n",
    "# Set num to itself modulo 8\n",
    "num %= 8\n",
    "\n",
    "# Divide (floor division) num by 2\n",
    "num //= 2\n",
    "\n",
    "# Raise num to the fourth power\n",
    "num **= 4\n"
   ]
  },
  {
   "cell_type": "code",
   "execution_count": 52,
   "id": "4d74a999-c768-4ee7-9689-595ab9dc5dbc",
   "metadata": {},
   "outputs": [
    {
     "data": {
      "text/plain": [
       "81.0"
      ]
     },
     "execution_count": 52,
     "metadata": {},
     "output_type": "execute_result"
    }
   ],
   "source": [
    "num"
   ]
  },
  {
   "cell_type": "markdown",
   "id": "478b58a9-bd05-4544-8730-523f2cefb121",
   "metadata": {},
   "source": [
    "## Comparison Operators"
   ]
  },
  {
   "cell_type": "code",
   "execution_count": 56,
   "id": "c27f67d6-e29e-4c8f-abbb-ab8185081d0c",
   "metadata": {},
   "outputs": [
    {
     "data": {
      "text/plain": [
       "True"
      ]
     },
     "execution_count": 56,
     "metadata": {},
     "output_type": "execute_result"
    }
   ],
   "source": [
    "# Less than\n",
    "1 < 5\n",
    "\n",
    "# Greater than\n",
    "\n",
    "5 > 1\n",
    "\n",
    "# Less than or equal to \n",
    "5 <= 5\n",
    "\n",
    "# Greater than or equal to\n",
    "\n",
    "1 >= 1"
   ]
  },
  {
   "cell_type": "code",
   "execution_count": 53,
   "id": "5318de77-51c8-4f65-92fa-d4befaf3d01d",
   "metadata": {},
   "outputs": [
    {
     "data": {
      "text/plain": [
       "True"
      ]
     },
     "execution_count": 53,
     "metadata": {},
     "output_type": "execute_result"
    }
   ],
   "source": [
    "# Equality\n",
    "1 == 1"
   ]
  },
  {
   "cell_type": "code",
   "execution_count": 54,
   "id": "d2379c0d-49c6-4319-a84e-5b6635217c25",
   "metadata": {},
   "outputs": [
    {
     "data": {
      "text/plain": [
       "True"
      ]
     },
     "execution_count": 54,
     "metadata": {},
     "output_type": "execute_result"
    }
   ],
   "source": [
    "num = 5\n",
    "num == 5"
   ]
  },
  {
   "cell_type": "code",
   "execution_count": 55,
   "id": "c47b2de8-0064-49ff-bf30-5517b632dab1",
   "metadata": {},
   "outputs": [
    {
     "data": {
      "text/plain": [
       "True"
      ]
     },
     "execution_count": 55,
     "metadata": {},
     "output_type": "execute_result"
    }
   ],
   "source": [
    "# Inequality\n",
    "1 != 2"
   ]
  },
  {
   "cell_type": "markdown",
   "id": "3d5b6a02-90ee-4da4-941d-dc175310a366",
   "metadata": {},
   "source": [
    "## Identity Operators"
   ]
  },
  {
   "cell_type": "code",
   "execution_count": 60,
   "id": "3c12883f-70b4-4589-872b-0a8ce1f3f75d",
   "metadata": {},
   "outputs": [
    {
     "data": {
      "text/plain": [
       "True"
      ]
     },
     "execution_count": 60,
     "metadata": {},
     "output_type": "execute_result"
    }
   ],
   "source": [
    "a = 1\n",
    "b = 1\n",
    "\n",
    "print(a == b)\n",
    "print(a is b)"
   ]
  },
  {
   "cell_type": "code",
   "execution_count": 62,
   "id": "148553ba-84a4-40c2-be8a-c2d367248854",
   "metadata": {},
   "outputs": [
    {
     "name": "stdout",
     "output_type": "stream",
     "text": [
      "True\n",
      "False\n"
     ]
    }
   ],
   "source": [
    "a = 1.0\n",
    "b = 1\n",
    "\n",
    "print(a == b)\n",
    "print(a is b)"
   ]
  },
  {
   "cell_type": "code",
   "execution_count": 3,
   "id": "07bb3db8-6574-4295-9322-457f2805fcd1",
   "metadata": {},
   "outputs": [
    {
     "name": "stdout",
     "output_type": "stream",
     "text": [
      "Testing 256\n",
      "True\n",
      "False\n",
      "\n",
      "Testing 257\n",
      "False\n",
      "True\n"
     ]
    }
   ],
   "source": [
    "a_256 = 256\n",
    "b_256 = 256\n",
    "\n",
    "a_257 = 257\n",
    "b_257 = 257\n",
    "\n",
    "\n",
    "print('Testing 256:')\n",
    "print(a_256 is b_256)\n",
    "print(a_256 is not b_256)\n",
    "print('\\nTesting 257:')\n",
    "print(a_257 is b_257)\n",
    "print(a_257 is not b_257)\n"
   ]
  },
  {
   "cell_type": "markdown",
   "id": "ed88204f-dc9c-4180-8f0b-c38cdd651f7c",
   "metadata": {},
   "source": [
    "## Boolean Operators"
   ]
  },
  {
   "cell_type": "code",
   "execution_count": 4,
   "id": "fa180dc7-6ee8-4ae4-89d4-2137a86af42e",
   "metadata": {},
   "outputs": [
    {
     "data": {
      "text/plain": [
       "True"
      ]
     },
     "execution_count": 4,
     "metadata": {},
     "output_type": "execute_result"
    }
   ],
   "source": [
    "True and True # This is true"
   ]
  },
  {
   "cell_type": "code",
   "execution_count": 5,
   "id": "96a1850e-0ff1-46c1-9795-4caeceff940b",
   "metadata": {},
   "outputs": [
    {
     "data": {
      "text/plain": [
       "False"
      ]
     },
     "execution_count": 5,
     "metadata": {},
     "output_type": "execute_result"
    }
   ],
   "source": [
    "True and False # False\n",
    "False and True # False\n",
    "False and False # False"
   ]
  },
  {
   "cell_type": "code",
   "execution_count": 6,
   "id": "060a2709-7d5b-4de4-a7e9-b27275bf69ef",
   "metadata": {},
   "outputs": [
    {
     "data": {
      "text/plain": [
       "False"
      ]
     },
     "execution_count": 6,
     "metadata": {},
     "output_type": "execute_result"
    }
   ],
   "source": [
    "False or False # This is False"
   ]
  },
  {
   "cell_type": "code",
   "execution_count": 7,
   "id": "1f5534a5-8981-4482-a3cc-7dffe306a2b9",
   "metadata": {},
   "outputs": [
    {
     "data": {
      "text/plain": [
       "True"
      ]
     },
     "execution_count": 7,
     "metadata": {},
     "output_type": "execute_result"
    }
   ],
   "source": [
    "True or False # True\n",
    "False or True # True\n",
    "True or True # True"
   ]
  },
  {
   "cell_type": "code",
   "execution_count": 9,
   "id": "925852aa-d2c7-4643-b5c9-f7a874204977",
   "metadata": {},
   "outputs": [
    {
     "data": {
      "text/plain": [
       "True"
      ]
     },
     "execution_count": 9,
     "metadata": {},
     "output_type": "execute_result"
    }
   ],
   "source": [
    "not True # False\n",
    "not False # True"
   ]
  },
  {
   "cell_type": "code",
   "execution_count": 56,
   "id": "5e143ff3-97d7-40e6-93cf-23f58a0d99c9",
   "metadata": {},
   "outputs": [
    {
     "data": {
      "text/plain": [
       "True"
      ]
     },
     "execution_count": 56,
     "metadata": {},
     "output_type": "execute_result"
    }
   ],
   "source": [
    "a = True\n",
    "b = False\n",
    "c = False\n",
    "\n",
    "a and (b or not c)"
   ]
  },
  {
   "cell_type": "markdown",
   "id": "7b1fdcbc-217c-47e2-a1db-ad823d993c22",
   "metadata": {},
   "source": [
    "## Membership Operators"
   ]
  },
  {
   "cell_type": "code",
   "execution_count": 23,
   "id": "37e48a01-d03a-4fc5-941b-d657bf41467d",
   "metadata": {},
   "outputs": [
    {
     "data": {
      "text/plain": [
       "True"
      ]
     },
     "execution_count": 23,
     "metadata": {},
     "output_type": "execute_result"
    }
   ],
   "source": [
    "'cat' in 'My cat is named Ash'"
   ]
  },
  {
   "cell_type": "code",
   "execution_count": 24,
   "id": "475a95cf-0ab6-4370-a258-7bd383d0f1fb",
   "metadata": {},
   "outputs": [
    {
     "data": {
      "text/plain": [
       "False"
      ]
     },
     "execution_count": 24,
     "metadata": {},
     "output_type": "execute_result"
    }
   ],
   "source": [
    "# Returns False\n",
    "'cat' in 'Santa Catalina Island'"
   ]
  },
  {
   "cell_type": "code",
   "execution_count": 25,
   "id": "2a819bdd-1639-4007-ad67-35abde45a7e0",
   "metadata": {},
   "outputs": [],
   "source": [
    "my_list = ['a', 'b', 'c', 'd', 'e', 'f']"
   ]
  },
  {
   "cell_type": "code",
   "execution_count": 27,
   "id": "5fb0bf7d-5968-4e80-9465-eeee73017402",
   "metadata": {},
   "outputs": [
    {
     "data": {
      "text/plain": [
       "False"
      ]
     },
     "execution_count": 27,
     "metadata": {},
     "output_type": "execute_result"
    }
   ],
   "source": [
    "'a' in my_list # True\n",
    "'z' in my_list # False"
   ]
  },
  {
   "cell_type": "code",
   "execution_count": 28,
   "id": "d7679697-f166-4004-9990-c42fbed8e60f",
   "metadata": {},
   "outputs": [
    {
     "ename": "TypeError",
     "evalue": "argument of type 'int' is not iterable",
     "output_type": "error",
     "traceback": [
      "\u001b[0;31m---------------------------------------------------------------------------\u001b[0m",
      "\u001b[0;31mTypeError\u001b[0m                                 Traceback (most recent call last)",
      "Cell \u001b[0;32mIn[28], line 1\u001b[0m\n\u001b[0;32m----> 1\u001b[0m \u001b[38;5;241;43m1\u001b[39;49m\u001b[43m \u001b[49m\u001b[38;5;129;43;01min\u001b[39;49;00m\u001b[43m \u001b[49m\u001b[38;5;241;43m123\u001b[39;49m\n",
      "\u001b[0;31mTypeError\u001b[0m: argument of type 'int' is not iterable"
     ]
    }
   ],
   "source": [
    "1 in 123"
   ]
  },
  {
   "cell_type": "markdown",
   "id": "59c9a8e6-6fd2-4a35-a28c-12414acb1767",
   "metadata": {},
   "source": [
    "# Control Flow"
   ]
  },
  {
   "cell_type": "markdown",
   "id": "8d8ca819-1e6a-43ea-8384-5ff6158d89e2",
   "metadata": {},
   "source": [
    "## If and Else"
   ]
  },
  {
   "cell_type": "code",
   "execution_count": 58,
   "id": "094c2d2b-4a81-43a5-b130-23ff4c6c9e42",
   "metadata": {},
   "outputs": [
    {
     "name": "stdout",
     "output_type": "stream",
     "text": [
      "One and one are equal\n"
     ]
    }
   ],
   "source": [
    "if 1 == 1:\n",
    "    print('One and one are equal')"
   ]
  },
  {
   "cell_type": "code",
   "execution_count": 59,
   "id": "0a3db76c-d0d9-4cd6-a367-41faf653ee69",
   "metadata": {},
   "outputs": [
    {
     "name": "stdout",
     "output_type": "stream",
     "text": [
      "One and one are equal\n",
      "Another line under the if statement\n"
     ]
    }
   ],
   "source": [
    "if 1 == 1:\n",
    "    print('One and one are equal')\n",
    "    print('Another line under the if statement')"
   ]
  },
  {
   "cell_type": "code",
   "execution_count": 60,
   "id": "605ebb57-0f4b-4393-8f97-c45d2ae7b010",
   "metadata": {},
   "outputs": [
    {
     "name": "stdout",
     "output_type": "stream",
     "text": [
      "One and one are equal\n",
      "Another line under the if statement\n",
      "This line is always printed\n"
     ]
    }
   ],
   "source": [
    "if 1 == 1:\n",
    "    print('One and one are equal')\n",
    "    print('Another line under the if statement')\n",
    "print('This line is always printed')"
   ]
  },
  {
   "cell_type": "code",
   "execution_count": 61,
   "id": "5c85d509-8143-4452-9742-caf0ed336295",
   "metadata": {},
   "outputs": [
    {
     "name": "stdout",
     "output_type": "stream",
     "text": [
      "a and b are not equal\n"
     ]
    }
   ],
   "source": [
    "a = 1\n",
    "b = 2\n",
    "\n",
    "if a == b:\n",
    "    print('a and b are equal')\n",
    "else:\n",
    "    print('a and b are not equal')"
   ]
  },
  {
   "cell_type": "code",
   "execution_count": 62,
   "id": "0b06b12d-7b69-429d-b2bd-70a1d29b61e4",
   "metadata": {},
   "outputs": [
    {
     "ename": "SyntaxError",
     "evalue": "invalid syntax (137282020.py, line 7)",
     "output_type": "error",
     "traceback": [
      "  \u001b[36mCell\u001b[39m\u001b[36m \u001b[39m\u001b[32mIn[62]\u001b[39m\u001b[32m, line 7\u001b[39m\n\u001b[31m    \u001b[39m\u001b[31melse:\u001b[39m\n    ^\n\u001b[31mSyntaxError\u001b[39m\u001b[31m:\u001b[39m invalid syntax\n"
     ]
    }
   ],
   "source": [
    "a = 1\n",
    "b = 2\n",
    "\n",
    "if a == b:\n",
    "    print('a and b are equal')\n",
    "print('Another line')\n",
    "else:\n",
    "    print('a and b are not equal')"
   ]
  },
  {
   "cell_type": "code",
   "execution_count": 32,
   "id": "c296c3ac-c3d2-4d41-80c6-4462b2248ca1",
   "metadata": {},
   "outputs": [
    {
     "name": "stdout",
     "output_type": "stream",
     "text": [
      "1\n",
      "2\n",
      "3\n",
      "4\n",
      "5\n"
     ]
    }
   ],
   "source": [
    "for num in [1, 2, 3, 4, 5]:\n",
    "    print(num)"
   ]
  },
  {
   "cell_type": "code",
   "execution_count": 63,
   "id": "87937e5b-65df-4bb9-9723-08006ab971a8",
   "metadata": {},
   "outputs": [
    {
     "name": "stdout",
     "output_type": "stream",
     "text": [
      "R\n",
      "M\n"
     ]
    }
   ],
   "source": [
    "for char in 'Ryan Mitchell':\n",
    "    if char >= 'A' and char <= 'Z':\n",
    "        print(char)"
   ]
  },
  {
   "cell_type": "markdown",
   "id": "48aa3e8b-c2ea-4f30-9a82-d6dc5a3640c5",
   "metadata": {},
   "source": [
    "### While loops"
   ]
  },
  {
   "cell_type": "code",
   "execution_count": 50,
   "id": "0aa8f582-c01a-46cc-a295-5dc41060d6cb",
   "metadata": {},
   "outputs": [
    {
     "name": "stdout",
     "output_type": "stream",
     "text": [
      "1\n",
      "2\n",
      "3\n",
      "4\n",
      "5\n",
      "num is now 6!\n"
     ]
    }
   ],
   "source": [
    "num = 0\n",
    "while num < 5:\n",
    "    num += 1\n",
    "    print(num)\n",
    "print('num is now 6!')\n",
    "    "
   ]
  },
  {
   "cell_type": "code",
   "execution_count": null,
   "id": "eb37c405-08f5-4b56-b340-bd34313fec35",
   "metadata": {},
   "outputs": [],
   "source": [
    "# Do not run this!\n",
    "num = 0\n",
    "while num < 5:\n",
    "    print(num)\n",
    "print('num is now 6!')"
   ]
  },
  {
   "cell_type": "code",
   "execution_count": 2,
   "id": "d1dd54ff-7bd8-4a1a-848a-dcb2774ff62d",
   "metadata": {},
   "outputs": [
    {
     "name": "stdout",
     "output_type": "stream",
     "text": [
      "1\n",
      "2\n",
      "3\n",
      "4\n",
      "5\n"
     ]
    }
   ],
   "source": [
    "for num in range(1, 6):\n",
    "    print(num)"
   ]
  },
  {
   "cell_type": "code",
   "execution_count": 64,
   "id": "94741641-6c8d-41e3-b8f9-92ebf5a1e581",
   "metadata": {},
   "outputs": [
    {
     "name": "stdout",
     "output_type": "stream",
     "text": [
      "46\n"
     ]
    }
   ],
   "source": [
    "from datetime import datetime\n",
    "\n",
    "print(datetime.now().second)"
   ]
  },
  {
   "cell_type": "code",
   "execution_count": null,
   "id": "7ec58f30-ddf8-4618-bce8-7aa15bde5028",
   "metadata": {},
   "outputs": [],
   "source": [
    "while datetime.now().second % 5 != 0:\n",
    "    print('Waiting!')\n",
    "print(datetime.now().second)"
   ]
  },
  {
   "cell_type": "code",
   "execution_count": 67,
   "id": "eca4209e-21d8-4cca-a374-5e40efec26a6",
   "metadata": {},
   "outputs": [
    {
     "name": "stdout",
     "output_type": "stream",
     "text": [
      "25\n"
     ]
    }
   ],
   "source": [
    "while datetime.now().second % 5 != 0:\n",
    "    pass\n",
    "print(datetime.now().second)"
   ]
  },
  {
   "cell_type": "markdown",
   "id": "65f47c80-a202-4757-97dd-7f1f020e784e",
   "metadata": {},
   "source": [
    "# Functions"
   ]
  },
  {
   "cell_type": "code",
   "execution_count": 1,
   "id": "65560fed-dc9a-4dce-90a0-c47a56e1ff97",
   "metadata": {},
   "outputs": [],
   "source": [
    "def f(x):\n",
    "    return x**2"
   ]
  },
  {
   "cell_type": "code",
   "execution_count": 3,
   "id": "f9274618-e3fd-4430-9035-a615b53e218c",
   "metadata": {},
   "outputs": [
    {
     "name": "stdout",
     "output_type": "stream",
     "text": [
      "16\n"
     ]
    }
   ],
   "source": [
    "output = f(4)\n",
    "print(output)"
   ]
  },
  {
   "cell_type": "code",
   "execution_count": 5,
   "id": "15a00ace-e47b-4b97-b72c-c8ae6006520e",
   "metadata": {},
   "outputs": [],
   "source": [
    "def print_square(x):\n",
    "    print(x**2)"
   ]
  },
  {
   "cell_type": "code",
   "execution_count": 6,
   "id": "8de22af7-77f0-4151-b232-a7f44e66b2f9",
   "metadata": {},
   "outputs": [
    {
     "name": "stdout",
     "output_type": "stream",
     "text": [
      "16\n",
      "None\n"
     ]
    }
   ],
   "source": [
    "output = print_square(4)\n",
    "print(output)"
   ]
  },
  {
   "cell_type": "code",
   "execution_count": 7,
   "id": "cdd730e9-c616-498c-9636-d3adf3eeb56b",
   "metadata": {},
   "outputs": [
    {
     "ename": "TypeError",
     "evalue": "unsupported operand type(s) for +: 'NoneType' and 'int'",
     "output_type": "error",
     "traceback": [
      "\u001b[0;31m---------------------------------------------------------------------------\u001b[0m",
      "\u001b[0;31mTypeError\u001b[0m                                 Traceback (most recent call last)",
      "Cell \u001b[0;32mIn[7], line 1\u001b[0m\n\u001b[0;32m----> 1\u001b[0m \u001b[38;5;28;43;01mNone\u001b[39;49;00m\u001b[43m \u001b[49m\u001b[38;5;241;43m+\u001b[39;49m\u001b[43m \u001b[49m\u001b[38;5;241;43m2\u001b[39;49m\n",
      "\u001b[0;31mTypeError\u001b[0m: unsupported operand type(s) for +: 'NoneType' and 'int'"
     ]
    }
   ],
   "source": [
    "None + 2"
   ]
  },
  {
   "cell_type": "code",
   "execution_count": 8,
   "id": "5712018b-1f21-4fd0-a025-72c60164b671",
   "metadata": {},
   "outputs": [
    {
     "data": {
      "text/plain": [
       "NoneType"
      ]
     },
     "execution_count": 8,
     "metadata": {},
     "output_type": "execute_result"
    }
   ],
   "source": [
    "type(None)"
   ]
  },
  {
   "cell_type": "code",
   "execution_count": 10,
   "id": "bd5bb235-cecc-434a-b9b1-72a01258ab36",
   "metadata": {},
   "outputs": [
    {
     "data": {
      "text/plain": [
       "6"
      ]
     },
     "execution_count": 10,
     "metadata": {},
     "output_type": "execute_result"
    }
   ],
   "source": [
    "def safe_sum(a, b):\n",
    "    if a is None or b is None:\n",
    "        print('Cannot perform this operation')\n",
    "    return a + b\n",
    "\n",
    "safe_sum(2, 4)"
   ]
  },
  {
   "cell_type": "code",
   "execution_count": 68,
   "id": "b706ba48-b298-4a9d-9fd0-4863f3607805",
   "metadata": {},
   "outputs": [],
   "source": [
    "def safe_operation(a, b, op='add'):\n",
    "    if a is None or b is None:\n",
    "        print('Cannot perform this operation')\n",
    "    else:\n",
    "        if op == 'add':\n",
    "            return a + b\n",
    "        if op == 'sub':\n",
    "            return a -b"
   ]
  },
  {
   "cell_type": "code",
   "execution_count": 70,
   "id": "058cbcd8-7137-4df2-abba-e4abbf42c7f8",
   "metadata": {},
   "outputs": [
    {
     "data": {
      "text/plain": [
       "9"
      ]
     },
     "execution_count": 70,
     "metadata": {},
     "output_type": "execute_result"
    }
   ],
   "source": [
    "safe_operation(4, 5)"
   ]
  },
  {
   "cell_type": "code",
   "execution_count": 69,
   "id": "2eb0ab8f-2e63-402e-a5f8-8cc2e54be937",
   "metadata": {},
   "outputs": [
    {
     "data": {
      "text/plain": [
       "1"
      ]
     },
     "execution_count": 69,
     "metadata": {},
     "output_type": "execute_result"
    }
   ],
   "source": [
    "safe_operation(5, 4, op='sub')"
   ]
  },
  {
   "cell_type": "markdown",
   "id": "0e624204-eb10-44a3-a234-91e73a894c7f",
   "metadata": {},
   "source": [
    "## Classes"
   ]
  },
  {
   "cell_type": "code",
   "execution_count": 72,
   "id": "52793238-7f62-46f4-9310-08accd68ba26",
   "metadata": {},
   "outputs": [],
   "source": [
    "class Person:\n",
    "    def __init__(self, name):\n",
    "        self.name = name"
   ]
  },
  {
   "cell_type": "code",
   "execution_count": 73,
   "id": "ce317982-0da7-4636-984c-716df4f4d7fd",
   "metadata": {},
   "outputs": [],
   "source": [
    "alice = Person('Alice')"
   ]
  },
  {
   "cell_type": "code",
   "execution_count": 74,
   "id": "5855b136-d4f8-4886-8ddc-1677630f2a50",
   "metadata": {},
   "outputs": [
    {
     "data": {
      "text/plain": [
       "'Alice'"
      ]
     },
     "execution_count": 74,
     "metadata": {},
     "output_type": "execute_result"
    }
   ],
   "source": [
    "alice.name"
   ]
  },
  {
   "cell_type": "code",
   "execution_count": 76,
   "id": "bdbba8e7-32a7-4feb-8164-59a11be647d7",
   "metadata": {},
   "outputs": [],
   "source": [
    "class Person:\n",
    "    def __init__(self, name):\n",
    "        self.name = name\n",
    "    \n",
    "    def print_name(self):\n",
    "        print(self.name)\n",
    "    "
   ]
  },
  {
   "cell_type": "code",
   "execution_count": 79,
   "id": "904ddcfc-ace5-4f09-bb0a-ff00fdf8cfd7",
   "metadata": {},
   "outputs": [
    {
     "name": "stdout",
     "output_type": "stream",
     "text": [
      "Alice\n"
     ]
    }
   ],
   "source": [
    "alice = Person('Alice')\n",
    "alice.print_name()"
   ]
  },
  {
   "cell_type": "code",
   "execution_count": 80,
   "id": "586a5d6c-bad0-43e9-bb6a-4c1789c12689",
   "metadata": {},
   "outputs": [
    {
     "name": "stdout",
     "output_type": "stream",
     "text": [
      "Alice\n",
      "Alice\n"
     ]
    }
   ],
   "source": [
    "Person.print_name(alice)\n",
    "alice.print_name()"
   ]
  },
  {
   "cell_type": "code",
   "execution_count": 21,
   "id": "7e4c98c2-46ed-40f5-a22c-84bdd8368290",
   "metadata": {},
   "outputs": [
    {
     "name": "stdout",
     "output_type": "stream",
     "text": [
      "Alice\n",
      "Bob\n"
     ]
    }
   ],
   "source": [
    "alice = Person('Alice')\n",
    "bob = Person('Bob')\n",
    "\n",
    "alice.print_name()\n",
    "bob.print_name()"
   ]
  },
  {
   "cell_type": "code",
   "execution_count": 22,
   "id": "13905dd8-8a5e-4c3e-892d-30eb5a2125ab",
   "metadata": {},
   "outputs": [
    {
     "name": "stdout",
     "output_type": "stream",
     "text": [
      "Alice\n",
      "Alice2\n"
     ]
    }
   ],
   "source": [
    "alice = Person('Alice')\n",
    "alice.print_name()\n",
    "alice.name = 'Alice2'\n",
    "alice.print_name()"
   ]
  },
  {
   "cell_type": "markdown",
   "id": "552e1af0-0461-402a-8eb5-f9eb30f4dcb0",
   "metadata": {},
   "source": [
    "## Data Structures"
   ]
  },
  {
   "cell_type": "code",
   "execution_count": 45,
   "id": "2566a221-a83b-45f6-b634-6d3ed345003b",
   "metadata": {},
   "outputs": [],
   "source": [
    "my_list = ['apple', 3.14, -106, 'c']"
   ]
  },
  {
   "cell_type": "markdown",
   "id": "47b28ffb-a7f3-4f14-8efa-bf6a3e4f77e7",
   "metadata": {},
   "source": [
    "### Lists"
   ]
  },
  {
   "cell_type": "code",
   "execution_count": 81,
   "id": "08a214e3-677b-4f57-bdec-c35bac95bdc9",
   "metadata": {},
   "outputs": [],
   "source": [
    "# an empty list\n",
    "my_list = []"
   ]
  },
  {
   "cell_type": "code",
   "execution_count": 83,
   "id": "0d6fe98a-7079-4f41-bcbc-8c5890029a1f",
   "metadata": {},
   "outputs": [],
   "source": [
    "my_list = [['a', 'b', 'c'], [1, 2, 3]]"
   ]
  },
  {
   "cell_type": "code",
   "execution_count": 84,
   "id": "9a46de1e-f5dd-4f51-90dc-659f53f1b67c",
   "metadata": {},
   "outputs": [
    {
     "data": {
      "text/plain": [
       "2"
      ]
     },
     "execution_count": 84,
     "metadata": {},
     "output_type": "execute_result"
    }
   ],
   "source": [
    "len(my_list)"
   ]
  },
  {
   "cell_type": "code",
   "execution_count": 85,
   "id": "7cb651f3-c145-4453-a8ef-1d512f868ef3",
   "metadata": {},
   "outputs": [
    {
     "name": "stdout",
     "output_type": "stream",
     "text": [
      "3\n",
      "3\n"
     ]
    }
   ],
   "source": [
    "for item in my_list:\n",
    "    print(len(item))"
   ]
  },
  {
   "cell_type": "code",
   "execution_count": 86,
   "id": "c60e9dd6-50e6-4468-9166-59ea92a48f22",
   "metadata": {},
   "outputs": [
    {
     "data": {
      "text/plain": [
       "['a', 'b', 'c']"
      ]
     },
     "execution_count": 86,
     "metadata": {},
     "output_type": "execute_result"
    }
   ],
   "source": [
    "my_list[0]"
   ]
  },
  {
   "cell_type": "code",
   "execution_count": 88,
   "id": "67bfc7e0-d869-469e-9b34-0d9b9dd74f71",
   "metadata": {},
   "outputs": [
    {
     "data": {
      "text/plain": [
       "3"
      ]
     },
     "execution_count": 88,
     "metadata": {},
     "output_type": "execute_result"
    }
   ],
   "source": [
    "len(my_list[0])"
   ]
  },
  {
   "cell_type": "code",
   "execution_count": 54,
   "id": "750d932d-e2fd-4224-a68f-83ed5e253905",
   "metadata": {},
   "outputs": [
    {
     "name": "stdout",
     "output_type": "stream",
     "text": [
      "['a', 1]\n"
     ]
    }
   ],
   "source": [
    "my_list[0] = 'a'\n",
    "my_list[1] = 1\n",
    "print(my_list)"
   ]
  },
  {
   "cell_type": "code",
   "execution_count": 89,
   "id": "cc345cbd-221c-45dd-9a2c-243825b0d8f3",
   "metadata": {},
   "outputs": [
    {
     "name": "stdout",
     "output_type": "stream",
     "text": [
      "[1, 2, 3, 4]\n"
     ]
    }
   ],
   "source": [
    "my_list = [1,2,3]\n",
    "my_list.append(4)\n",
    "print(my_list)"
   ]
  },
  {
   "cell_type": "markdown",
   "id": "6d5e94e3-913c-4e86-8e12-afa0f064285e",
   "metadata": {},
   "source": [
    "## Dictionaries"
   ]
  },
  {
   "cell_type": "code",
   "execution_count": 90,
   "id": "ca0cd4c1-d11d-4bc2-a5fe-ab307c7d5829",
   "metadata": {},
   "outputs": [],
   "source": [
    "my_dictionary = {\n",
    "    'apple': 'A red fruit',\n",
    "    'banana': 'A yellow fruit',\n",
    "    'cantaloupe': 'A beige melon'\n",
    "}\n"
   ]
  },
  {
   "cell_type": "code",
   "execution_count": 91,
   "id": "1985565c-238a-4a0f-8057-e80acee64e30",
   "metadata": {},
   "outputs": [
    {
     "data": {
      "text/plain": [
       "'A red fruit'"
      ]
     },
     "execution_count": 91,
     "metadata": {},
     "output_type": "execute_result"
    }
   ],
   "source": [
    "my_dictionary['apple']"
   ]
  },
  {
   "cell_type": "code",
   "execution_count": 92,
   "id": "ecedc7b9-5f88-4199-a487-4ff1b1113a2a",
   "metadata": {},
   "outputs": [
    {
     "name": "stdout",
     "output_type": "stream",
     "text": [
      "apple\n",
      "banana\n",
      "cantaloupe\n"
     ]
    }
   ],
   "source": [
    "for item in my_dictionary:\n",
    "    print(item)"
   ]
  },
  {
   "cell_type": "code",
   "execution_count": 93,
   "id": "b12245cf-dd6d-4ac1-907e-94494dfabe62",
   "metadata": {},
   "outputs": [
    {
     "name": "stdout",
     "output_type": "stream",
     "text": [
      "A red fruit\n",
      "A yellow fruit\n",
      "A beige melon\n"
     ]
    }
   ],
   "source": [
    "for key in my_dictionary:\n",
    "    print(my_dictionary[key])"
   ]
  },
  {
   "cell_type": "code",
   "execution_count": 94,
   "id": "94e940a7-2969-4296-a17d-3cada4fb0fee",
   "metadata": {},
   "outputs": [
    {
     "data": {
      "text/plain": [
       "1"
      ]
     },
     "execution_count": 94,
     "metadata": {},
     "output_type": "execute_result"
    }
   ],
   "source": [
    "my_list[0]"
   ]
  },
  {
   "cell_type": "code",
   "execution_count": 95,
   "id": "3c634f15-e6c3-4195-bce9-a4bc40522c1b",
   "metadata": {},
   "outputs": [
    {
     "data": {
      "text/plain": [
       "'A red fruit'"
      ]
     },
     "execution_count": 95,
     "metadata": {},
     "output_type": "execute_result"
    }
   ],
   "source": [
    "my_dictionary['apple']"
   ]
  },
  {
   "cell_type": "code",
   "execution_count": 96,
   "id": "e8ee4874-067d-4080-882f-1622ce90f1bf",
   "metadata": {},
   "outputs": [],
   "source": [
    "my_dictionary['apple'] = 'An American multinational corporation'"
   ]
  },
  {
   "cell_type": "code",
   "execution_count": null,
   "id": "4de85bf6-62a2-4a49-98ea-ed7b353a63be",
   "metadata": {},
   "outputs": [],
   "source": []
  },
  {
   "cell_type": "markdown",
   "id": "df590013-e06d-4d40-8d28-dd5ab2883150",
   "metadata": {},
   "source": [
    "## Tuples"
   ]
  },
  {
   "cell_type": "code",
   "execution_count": 97,
   "id": "cbdfa160-5efc-4767-bbee-bca0cc5d47b0",
   "metadata": {},
   "outputs": [],
   "source": [
    "my_tuple = ('a', 'b', 'c')"
   ]
  },
  {
   "cell_type": "code",
   "execution_count": 98,
   "id": "ea9533e1-3086-40c8-a888-12f6d731005e",
   "metadata": {},
   "outputs": [
    {
     "ename": "TypeError",
     "evalue": "'tuple' object does not support item assignment",
     "output_type": "error",
     "traceback": [
      "\u001b[31m---------------------------------------------------------------------------\u001b[39m",
      "\u001b[31mTypeError\u001b[39m                                 Traceback (most recent call last)",
      "\u001b[36mCell\u001b[39m\u001b[36m \u001b[39m\u001b[32mIn[98]\u001b[39m\u001b[32m, line 1\u001b[39m\n\u001b[32m----> \u001b[39m\u001b[32m1\u001b[39m my_tuple[\u001b[32m0\u001b[39m] = \u001b[33m'\u001b[39m\u001b[33mA\u001b[39m\u001b[33m'\u001b[39m\n",
      "\u001b[31mTypeError\u001b[39m: 'tuple' object does not support item assignment"
     ]
    }
   ],
   "source": [
    "my_tuple[0] = 'A'"
   ]
  },
  {
   "cell_type": "markdown",
   "id": "4193a1d0-9436-4099-997b-97d346e8deda",
   "metadata": {},
   "source": [
    "## Sets"
   ]
  },
  {
   "cell_type": "code",
   "execution_count": 59,
   "id": "75f56a0d-e42b-4daa-8adc-f2cc13738f3d",
   "metadata": {},
   "outputs": [],
   "source": [
    "my_set = {1, 2, 3}"
   ]
  },
  {
   "cell_type": "code",
   "execution_count": 61,
   "id": "2ca681e6-54c2-4a22-a823-9985030e8052",
   "metadata": {},
   "outputs": [
    {
     "name": "stdout",
     "output_type": "stream",
     "text": [
      "1\n",
      "2\n",
      "3\n"
     ]
    }
   ],
   "source": [
    "for item in my_set:\n",
    "    print(item)"
   ]
  },
  {
   "cell_type": "code",
   "execution_count": 62,
   "id": "5f7b2f08-f4df-44cc-bb65-6c4194019370",
   "metadata": {},
   "outputs": [
    {
     "ename": "TypeError",
     "evalue": "'set' object is not subscriptable",
     "output_type": "error",
     "traceback": [
      "\u001b[0;31m---------------------------------------------------------------------------\u001b[0m",
      "\u001b[0;31mTypeError\u001b[0m                                 Traceback (most recent call last)",
      "Cell \u001b[0;32mIn[62], line 1\u001b[0m\n\u001b[0;32m----> 1\u001b[0m \u001b[43mmy_set\u001b[49m\u001b[43m[\u001b[49m\u001b[38;5;241;43m0\u001b[39;49m\u001b[43m]\u001b[49m\n",
      "\u001b[0;31mTypeError\u001b[0m: 'set' object is not subscriptable"
     ]
    }
   ],
   "source": [
    "my_set[0]"
   ]
  },
  {
   "cell_type": "code",
   "execution_count": 63,
   "id": "f178b0af-75f2-468d-a620-5b7d706e48d5",
   "metadata": {},
   "outputs": [],
   "source": [
    "my_set.add(1)"
   ]
  },
  {
   "cell_type": "code",
   "execution_count": 64,
   "id": "fbf6a02d-dd13-4f25-892d-8181c7461225",
   "metadata": {},
   "outputs": [
    {
     "data": {
      "text/plain": [
       "{1, 2, 3}"
      ]
     },
     "execution_count": 64,
     "metadata": {},
     "output_type": "execute_result"
    }
   ],
   "source": [
    "my_set"
   ]
  },
  {
   "cell_type": "code",
   "execution_count": 65,
   "id": "f135da0d-1d5b-47d9-b2be-dba308fcf440",
   "metadata": {},
   "outputs": [
    {
     "name": "stdout",
     "output_type": "stream",
     "text": [
      "{1, 2, 3}\n",
      "{1, 2, 3}\n",
      "And now for something completely different...\n",
      "{1, 2, 3, 4}\n"
     ]
    }
   ],
   "source": [
    "my_set = {1, 2, 3}\n",
    "\n",
    "my_set.add(1)\n",
    "print(my_set)\n",
    "\n",
    "my_set.add(2)\n",
    "print(my_set)\n",
    "\n",
    "print('And now for something completely different...')\n",
    "my_set.add(4)\n",
    "print(my_set)"
   ]
  },
  {
   "cell_type": "code",
   "execution_count": null,
   "id": "18cdad2a-791b-4ed3-b6dc-469f0df78ff5",
   "metadata": {},
   "outputs": [],
   "source": []
  }
 ],
 "metadata": {
  "kernelspec": {
   "display_name": "Python 3 (ipykernel)",
   "language": "python",
   "name": "python3"
  },
  "language_info": {
   "codemirror_mode": {
    "name": "ipython",
    "version": 3
   },
   "file_extension": ".py",
   "mimetype": "text/x-python",
   "name": "python",
   "nbconvert_exporter": "python",
   "pygments_lexer": "ipython3",
   "version": "3.12.2"
  }
 },
 "nbformat": 4,
 "nbformat_minor": 5
}
