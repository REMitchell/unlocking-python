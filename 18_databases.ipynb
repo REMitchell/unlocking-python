{
 "cells": [
  {
   "cell_type": "markdown",
   "id": "f6692b30-c145-41b9-aac2-082f1caea840",
   "metadata": {},
   "source": [
    "# Databases"
   ]
  },
  {
   "cell_type": "markdown",
   "id": "6ad9b9dd-12a3-47bf-8be6-7e39ce07014c",
   "metadata": {},
   "source": [
    "## Using SQLite"
   ]
  },
  {
   "cell_type": "raw",
   "id": "d786c670-0ac5-440b-a655-43c21b75e43a",
   "metadata": {},
   "source": [
    "CREATE TABLE User(\n",
    "\tuser_id INTEGER PRIMARY KEY AUTOINCREMENT,\n",
    "\tfirst_name VARCHAR(32),\n",
    "\tlast_name VARCHAR(32),\n",
    "\tusername VARCHAR(32),\n",
    "\temail VARCHAR(64),\n",
    "\tlast_login DATETIME DEFAULT CURRENT_TIMESTAMP\n",
    ");"
   ]
  },
  {
   "cell_type": "raw",
   "id": "ba12bdeb-3fed-4ea4-84c8-bfb79bd629e6",
   "metadata": {},
   "source": [
    "INSERT INTO User\n",
    "(first_name, last_name, username, email, last_login)\n",
    "VALUES\n",
    "('Alice', 'Acevedo', 'alice123', 'a@example.com', '2024-01-01 12:00:00'),\n",
    "('Bob', 'Brown', 'bobby_brown', 'b@example.com', '2024-02-01 12:00:00'),\n",
    "('Charlie', 'Clark', 'chuck', 'c@example.com', '2024-03-01 12:00:00');\n"
   ]
  },
  {
   "cell_type": "markdown",
   "id": "be706d83-e9e1-4717-b0d6-cc637607fa42",
   "metadata": {},
   "source": [
    "## Query Language Syntax"
   ]
  },
  {
   "cell_type": "raw",
   "id": "fd849411-5731-4ab4-82c3-f924b95c7fd9",
   "metadata": {},
   "source": [
    "SELECT * FROM User WHERE first_name = 'Alice';"
   ]
  },
  {
   "cell_type": "raw",
   "id": "380919ad-109c-4b79-9198-d6abdae3f924",
   "metadata": {},
   "source": [
    "SELECT first_name, last_name, email FROM User WHERE first_name = 'Alice';"
   ]
  },
  {
   "cell_type": "raw",
   "id": "1b1aa94b-449e-4a60-960a-198042c68d4a",
   "metadata": {},
   "source": [
    "SELECT TOP(10) * FROM User;"
   ]
  },
  {
   "cell_type": "code",
   "execution_count": null,
   "id": "4a172b66-854a-415c-b61d-b48143c8bdb2",
   "metadata": {},
   "outputs": [],
   "source": [
    "SELECT * FROM User \n",
    "    WHERE first_name = 'Alice'\n",
    "    AND last_login > '2024-'"
   ]
  },
  {
   "cell_type": "raw",
   "id": "3bd3b975-0ad1-4499-8b84-73d450cd99b6",
   "metadata": {},
   "source": [
    "SELECT * FROM User\n",
    "WHERE (\n",
    "    first_name = 'Alice'\n",
    "    OR last_name LIKE 'B%'\n",
    "    OR email LIKE 'c@%.com'\n",
    ")\n",
    "AND last_login > '2024-01-01 00:00:00';"
   ]
  },
  {
   "cell_type": "raw",
   "id": "fafc03e2-b3b2-40e7-8e8d-6cb93e6da72f",
   "metadata": {},
   "source": [
    "CREATE TABLE Usertype(\n",
    "\tuser_type_id INTEGER PRIMARY KEY AUTOINCREMENT,\n",
    "\tname VARCHAR(32),\n",
    "\tmonthly_cost INTEGER\n",
    ");"
   ]
  },
  {
   "cell_type": "raw",
   "id": "8381fd32-075a-48f2-adce-7a531bdd2afb",
   "metadata": {},
   "source": [
    "INSERT INTO Usertype (name, monthly_cost)\n",
    "VALUES\n",
    "    ('admin', 0),\n",
    "    ('free', 0),\n",
    "    ('premium', 10);\n"
   ]
  },
  {
   "cell_type": "code",
   "execution_count": null,
   "id": "b2f24455-2572-4e5d-8e97-36f26356a9db",
   "metadata": {},
   "outputs": [],
   "source": [
    "ALTER TABLE User ADD COLUMN user_type_id INT;"
   ]
  },
  {
   "cell_type": "code",
   "execution_count": null,
   "id": "12286e93-68bc-4080-ae4f-885aadbffc44",
   "metadata": {},
   "outputs": [],
   "source": [
    "UPDATE User SET user_type_id = 3 WHERE first_name = 'Alice';\n",
    "UPDATE User SET user_type_id = 2 WHERE first_name = 'Bob';\n",
    "UPDATE User SET user_type_id = 2 WHERE first_name = 'Charlie';\n"
   ]
  },
  {
   "cell_type": "raw",
   "id": "7e6defcf-06c1-48e2-ba03-9a62be0c42c6",
   "metadata": {},
   "source": [
    "SELECT * FROM User JOIN Usertype ON User.user_type_id = Usertype.user_type_id;"
   ]
  },
  {
   "cell_type": "markdown",
   "id": "b7f0dea9-14d0-4264-a1c6-a1b2eb22dd1d",
   "metadata": {},
   "source": [
    "SELECT \n",
    "    User.first_name, User.last_name, Usertype.name\n",
    "FROM \n",
    "    User JOIN Usertype ON User.user_type_id = Usertype.user_type_id\n",
    "WHERE\n",
    "    User.email = 'a@example.com';"
   ]
  },
  {
   "cell_type": "code",
   "execution_count": null,
   "id": "6b8186dd-87a3-435f-a420-022829fa4209",
   "metadata": {},
   "outputs": [],
   "source": [
    "SELECT\n",
    "    u.first_name, u.last_name, ut.name\n",
    "FROM\n",
    "    User u JOIN Usertype ut ON u.user_type_id = ut.user_type_id\n",
    "WHERE\n",
    "    u.email = 'a@example.com';"
   ]
  },
  {
   "cell_type": "code",
   "execution_count": null,
   "id": "7e882375-c9c3-44f1-b141-4f39a1391919",
   "metadata": {},
   "outputs": [],
   "source": [
    "SELECT \n",
    "    u.first_name, u.last_name, ut.name\n",
    "FROM \n",
    "    User u JOIN Usertype ut ON u.user_type_id = ut.user_type_id\n",
    "WHERE\n",
    "    u.email = 'a@example.com';"
   ]
  },
  {
   "cell_type": "markdown",
   "id": "03460415-6726-4ebb-91db-b730673d40e1",
   "metadata": {},
   "source": [
    "## sqlite3 connector"
   ]
  },
  {
   "cell_type": "code",
   "execution_count": 36,
   "id": "f779c000-293f-4709-ad9f-1f75fe837d29",
   "metadata": {},
   "outputs": [],
   "source": [
    "import sqlite3\n",
    "\n",
    "conn = sqlite3.connect('unlocking-python.db')"
   ]
  },
  {
   "cell_type": "code",
   "execution_count": 37,
   "id": "d9e9c5a7-48e4-49ec-8539-6ebb5641b0e5",
   "metadata": {},
   "outputs": [],
   "source": [
    "cur = conn.cursor()"
   ]
  },
  {
   "cell_type": "code",
   "execution_count": 38,
   "id": "617a014f-1bba-49c4-b573-a81f5b3274f2",
   "metadata": {},
   "outputs": [
    {
     "data": {
      "text/plain": [
       "<sqlite3.Cursor at 0x16ae25a40>"
      ]
     },
     "execution_count": 38,
     "metadata": {},
     "output_type": "execute_result"
    }
   ],
   "source": [
    "cur.execute('SELECT * FROM User')"
   ]
  },
  {
   "cell_type": "code",
   "execution_count": 39,
   "id": "76ca524d-11e6-4952-baab-da84afc46ac6",
   "metadata": {},
   "outputs": [
    {
     "data": {
      "text/plain": [
       "(1, 'Alice', 'Acevedo', 'alice123', 'a@example.com', '2024-01-01 12:00:00', 3)"
      ]
     },
     "execution_count": 39,
     "metadata": {},
     "output_type": "execute_result"
    }
   ],
   "source": [
    "cur.fetchone()"
   ]
  },
  {
   "cell_type": "code",
   "execution_count": 40,
   "id": "5bb5ac93-6e44-4fc2-8594-bb7a0ec2a8d3",
   "metadata": {},
   "outputs": [
    {
     "data": {
      "text/plain": [
       "[(2, 'Bob', 'Brown', 'bobby_brown', 'b@example.com', '2024-02-01 12:00:00', 2),\n",
       " (3, 'Charlie', 'Clark', 'chuck', 'c@example.com', '2024-03-01 12:00:00', 2)]"
      ]
     },
     "execution_count": 40,
     "metadata": {},
     "output_type": "execute_result"
    }
   ],
   "source": [
    "cur.fetchall()"
   ]
  },
  {
   "cell_type": "code",
   "execution_count": 41,
   "id": "9b237e98-6a43-4216-9b87-5f41916721f2",
   "metadata": {},
   "outputs": [
    {
     "data": {
      "text/plain": [
       "[(1,\n",
       "  'Alice',\n",
       "  'Acevedo',\n",
       "  'alice123',\n",
       "  'a@example.com',\n",
       "  '2024-01-01 12:00:00',\n",
       "  3),\n",
       " (2, 'Bob', 'Brown', 'bobby_brown', 'b@example.com', '2024-02-01 12:00:00', 2)]"
      ]
     },
     "execution_count": 41,
     "metadata": {},
     "output_type": "execute_result"
    }
   ],
   "source": [
    "cur.execute('SELECT * FROM User')\n",
    "cur.fetchmany(2)"
   ]
  },
  {
   "cell_type": "code",
   "execution_count": 42,
   "id": "d9ee64c6-6590-47dd-a90e-bb0c9c1aa354",
   "metadata": {},
   "outputs": [
    {
     "data": {
      "text/plain": [
       "[(3, 'Charlie', 'Clark', 'chuck', 'c@example.com', '2024-03-01 12:00:00', 2)]"
      ]
     },
     "execution_count": 42,
     "metadata": {},
     "output_type": "execute_result"
    }
   ],
   "source": [
    "cur.fetchmany(2)"
   ]
  },
  {
   "cell_type": "code",
   "execution_count": 43,
   "id": "966d80d5-466b-49b9-8195-e9544d3a5d9b",
   "metadata": {},
   "outputs": [
    {
     "data": {
      "text/plain": [
       "<sqlite3.Cursor at 0x16ae25a40>"
      ]
     },
     "execution_count": 43,
     "metadata": {},
     "output_type": "execute_result"
    }
   ],
   "source": [
    "cur.execute(\n",
    "'''\n",
    "INSERT INTO User (\n",
    "first_name, last_name, username, email, last_login, user_type_id )\n",
    "VALUES\n",
    "('Daria', 'Dorgendorffer', 'daria', 'd@example.com', '2024-04-01 12:00:00', 1);\n",
    "''' )\n"
   ]
  },
  {
   "cell_type": "code",
   "execution_count": 44,
   "id": "cea8571e-7635-438a-abc4-16fb450f0eaf",
   "metadata": {},
   "outputs": [
    {
     "data": {
      "text/plain": [
       "[(1,\n",
       "  'Alice',\n",
       "  'Acevedo',\n",
       "  'alice123',\n",
       "  'a@example.com',\n",
       "  '2024-01-01 12:00:00',\n",
       "  3),\n",
       " (2, 'Bob', 'Brown', 'bobby_brown', 'b@example.com', '2024-02-01 12:00:00', 2),\n",
       " (3, 'Charlie', 'Clark', 'chuck', 'c@example.com', '2024-03-01 12:00:00', 2),\n",
       " (5,\n",
       "  'Daria',\n",
       "  'Dorgendorffer',\n",
       "  'daria',\n",
       "  'd@example.com',\n",
       "  '2024-04-01 12:00:00',\n",
       "  1)]"
      ]
     },
     "execution_count": 44,
     "metadata": {},
     "output_type": "execute_result"
    }
   ],
   "source": [
    "cur.execute('SELECT * FROM User')\n",
    "cur.fetchall()"
   ]
  },
  {
   "cell_type": "code",
   "execution_count": 45,
   "id": "623f2ea2-48a6-48f4-9b19-3755e86af0df",
   "metadata": {},
   "outputs": [],
   "source": [
    "conn.commit()"
   ]
  },
  {
   "cell_type": "code",
   "execution_count": 46,
   "id": "a27a612d-ebee-4c59-93d2-ad8e105c1d6c",
   "metadata": {},
   "outputs": [],
   "source": [
    "cur.close()"
   ]
  },
  {
   "cell_type": "code",
   "execution_count": 47,
   "id": "d882462e-d7be-4d67-8b06-10c1ad6b1338",
   "metadata": {},
   "outputs": [
    {
     "name": "stdout",
     "output_type": "stream",
     "text": [
      "[(1, 'Alice', 'Acevedo', 'alice123', 'a@example.com', '2024-01-01 12:00:00', 3), (2, 'Bob', 'Brown', 'bobby_brown', 'b@example.com', '2024-02-01 12:00:00', 2), (3, 'Charlie', 'Clark', 'chuck', 'c@example.com', '2024-03-01 12:00:00', 2), (5, 'Daria', 'Dorgendorffer', 'daria', 'd@example.com', '2024-04-01 12:00:00', 1)]\n"
     ]
    }
   ],
   "source": [
    "with sqlite3.connect('unlocking-python.db') as conn:\n",
    "    cur = conn.cursor()\n",
    "    res = cur.execute('SELECT * FROM User')\n",
    "    print(res.fetchall())"
   ]
  },
  {
   "cell_type": "markdown",
   "id": "946b461e-2db5-4117-9307-39a6e76743ad",
   "metadata": {},
   "source": [
    "## Object Relational Mapping"
   ]
  },
  {
   "cell_type": "code",
   "execution_count": 48,
   "id": "9178be7d-a26a-447e-924c-bc50f957b241",
   "metadata": {},
   "outputs": [],
   "source": [
    "class User:\n",
    "    def __init__(self, data):\n",
    "        pass"
   ]
  },
  {
   "cell_type": "code",
   "execution_count": 49,
   "id": "09707a85-ddb0-40e9-8e7d-72b078e4c73f",
   "metadata": {},
   "outputs": [],
   "source": [
    "USER_SELECT_QUERY = '''\n",
    "SELECT\n",
    "    u.user_id,\n",
    "    u.first_name,\n",
    "    u.last_name,\n",
    "    u.username,\n",
    "    u.email,\n",
    "    u.last_login,\n",
    "    ut.name,\n",
    "    ut.user_type_id,\n",
    "    ut.monthly_cost\n",
    "FROM \n",
    "    User u JOIN Usertype ut ON u.user_type_id = ut.user_type_id\n",
    "'''\n",
    "    "
   ]
  },
  {
   "cell_type": "code",
   "execution_count": 69,
   "id": "52dc14ec-5c26-40e6-a4ea-706034c5100d",
   "metadata": {},
   "outputs": [],
   "source": [
    "class User:\n",
    "    def __init__(self, data):\n",
    "        self.user_id = data[0]\n",
    "        self.first_name = data[1]\n",
    "        self.last_name = data[2]\n",
    "        self.username = data[3]\n",
    "        self.email = data[4]\n",
    "        self.last_login = data[5]\n",
    "        self.usertype_name = data[6]\n",
    "        self.usertype_id = data[7]\n",
    "        self.usertype_monthly_cost = data[8]"
   ]
  },
  {
   "cell_type": "code",
   "execution_count": 70,
   "id": "3819aa36-4951-42a9-9aa1-557a55360bc7",
   "metadata": {},
   "outputs": [],
   "source": [
    "class SQLiteUserMapper:\n",
    "    def __init__(self, conn):\n",
    "        self.conn = conn\n",
    "\n",
    "    def get_all_users(self):\n",
    "        cur = self.conn.cursor()\n",
    "        cur.execute(USER_SELECT_QUERY)\n",
    "        return [User(d) for d in cur.fetchall()]\n",
    "    \n",
    "    def get_user_by_id(self, user_id):\n",
    "        cur = self.conn.cursor()\n",
    "        cur.execute(f'{USER_SELECT_QUERY} WHERE user_id = {user_id}')\n",
    "        return User(cur.fetchone())\n"
   ]
  },
  {
   "cell_type": "code",
   "execution_count": 71,
   "id": "f3b387b1-89d9-43d5-8a9d-a243a7f3b603",
   "metadata": {},
   "outputs": [],
   "source": [
    "conn = sqlite3.connect('unlocking-python.db')\n",
    "mapper = SQLiteUserMapper(conn)"
   ]
  },
  {
   "cell_type": "code",
   "execution_count": 72,
   "id": "4b41e36f-2be3-4e22-9c7c-a762023d116a",
   "metadata": {},
   "outputs": [
    {
     "name": "stdout",
     "output_type": "stream",
     "text": [
      "Got user Alice Acevedo\n"
     ]
    }
   ],
   "source": [
    "user = mapper.get_user_by_id(1)\n",
    "print(f'Got user {user.first_name} {user.last_name}')"
   ]
  },
  {
   "cell_type": "code",
   "execution_count": 73,
   "id": "b4c9e0e5-5c22-449e-b196-b6749129e263",
   "metadata": {},
   "outputs": [
    {
     "name": "stdout",
     "output_type": "stream",
     "text": [
      "Got user Alice Acevedo\n",
      "Got user Bob Brown\n",
      "Got user Charlie Clark\n",
      "Got user Daria Dorgendorffer\n"
     ]
    }
   ],
   "source": [
    "users = mapper.get_all_users()\n",
    "for u in users:\n",
    "    print(f'Got user {u.first_name} {u.last_name}')"
   ]
  },
  {
   "cell_type": "code",
   "execution_count": 74,
   "id": "e25ab96d-63d7-48a3-8ac8-ae50d8b0e4b2",
   "metadata": {},
   "outputs": [],
   "source": [
    "\n",
    "class SQLiteUserMapper:\n",
    "    def __init__(self, conn):\n",
    "        self.conn = conn\n",
    "\n",
    "    def get_all_users(self):\n",
    "        cur = self.conn.cursor()\n",
    "        cur.execute(USER_SELECT_QUERY)\n",
    "        return [User(d) for d in cur.fetchall()]\n",
    "    \n",
    "    def get_user_by_id(self, user_id):\n",
    "        cur = self.conn.cursor()\n",
    "        cur.execute(f'{USER_SELECT_QUERY} WHERE user_id = {user_id}')\n",
    "        return User(cur.fetchone())\n",
    "\n",
    "    def commit(self, u):\n",
    "        cur = self.conn.cursor()\n",
    "        update_query = f'''\n",
    "        UPDATE User SET \n",
    "            first_name = '{u.first_name}',\n",
    "            last_name = '{u.last_name}',\n",
    "            username = '{u.username}',\n",
    "            email = '{u.email}',\n",
    "            last_login = '{u.last_login}',\n",
    "            user_type_id = {u.user_type_id}\n",
    "        WHERE user_id = {u.user_id}\n",
    "        '''\n",
    "        cur.execute(update_query)\n",
    "        self.conn.commit()\n",
    "        return self.get_user_by_id(u.user_id)"
   ]
  },
  {
   "cell_type": "code",
   "execution_count": 75,
   "id": "772ac391-6c44-4a6d-becf-4d71af4385cd",
   "metadata": {},
   "outputs": [
    {
     "name": "stdout",
     "output_type": "stream",
     "text": [
      "User id is: 2\n",
      "<built-in method fetchone of sqlite3.Cursor object at 0x16af95d40>\n",
      "Bob has the free membership\n",
      "User id is: 2\n",
      "<built-in method fetchone of sqlite3.Cursor object at 0x16af95f40>\n",
      "Bob has the premium membership\n"
     ]
    }
   ],
   "source": [
    "conn = sqlite3.connect('unlocking-python.db')\n",
    "mapper = SQLiteUserMapper(conn)\n",
    "\n",
    "bob = mapper.get_user_by_id(2)\n",
    "print(f'{bob.first_name} has the {bob.usertype_name} membership')\n",
    "bob.user_type_id = 3\n",
    "bob = mapper.commit(bob)\n",
    "print(f'{bob.first_name} has the {bob.usertype_name} membership')"
   ]
  },
  {
   "cell_type": "markdown",
   "id": "bbed52eb-5c80-484d-9a3c-b2c21a098180",
   "metadata": {},
   "source": [
    "## Exercises"
   ]
  },
  {
   "cell_type": "markdown",
   "id": "549bb779-86bc-464a-95f8-f0f334506a0b",
   "metadata": {},
   "source": [
    "**1.**\n",
    "\n",
    "Design two tables that hold social media post and comment data. Call these tables `Posts` and `Comments`. The `Comments` table should have a `post_id` (the ID of the post being commented on). Both tables should have a `user_id` column that points to the User table."
   ]
  },
  {
   "cell_type": "code",
   "execution_count": null,
   "id": "d046fd61-b184-486f-b21f-d3a34abab4b4",
   "metadata": {},
   "outputs": [],
   "source": []
  },
  {
   "cell_type": "markdown",
   "id": "8875a180-9505-4523-94e8-407ab3fac8c1",
   "metadata": {},
   "source": [
    "**2.**\n",
    "\n",
    "Design a table that holds following/follower relationships between users. You should be able to write a query that gets a user’s followers, and also a query that gets a list of users they follow.\n"
   ]
  },
  {
   "cell_type": "code",
   "execution_count": null,
   "id": "ea3b5d28-da9e-4b55-85c9-022a76b62824",
   "metadata": {},
   "outputs": [],
   "source": []
  },
  {
   "cell_type": "markdown",
   "id": "f50ff07c-9f01-4b6d-bdc7-eee43d055115",
   "metadata": {},
   "source": [
    "**3.**\n",
    "\n",
    "Add a method to the `SQLiteUserMapper` that updates `last_login` to the current timestamp. This method should take only the `user` object as an argument and use the datetime package to get the current timestamp."
   ]
  },
  {
   "cell_type": "code",
   "execution_count": null,
   "id": "3e0b7e9c-fc80-4618-8e80-e92da980e0af",
   "metadata": {},
   "outputs": [],
   "source": []
  },
  {
   "cell_type": "markdown",
   "id": "da2b6941-fe8b-4919-ad1a-4cb5b62c263d",
   "metadata": {},
   "source": [
    "**4.**\n",
    "\n",
    "Create a mapper class for `Usertype`, that allows us to make changes to the name and monthly costs of the `Usertype`."
   ]
  },
  {
   "cell_type": "code",
   "execution_count": null,
   "id": "e514e82f-5574-4fcc-b636-ceae6a19576b",
   "metadata": {},
   "outputs": [],
   "source": []
  },
  {
   "cell_type": "markdown",
   "id": "7ab496b3-93e7-4834-a6df-310ddd3e0dd7",
   "metadata": {},
   "source": [
    "**5.**\n",
    "\n",
    "Rewrite the `User` and `SQLiteUserMapper` classes to use a `Usertype` class, rather than storing the user type data as flat attributes in the `User` class. That is, the `User` class should have an attribute, `self.usertype`, which points to a UserType object."
   ]
  },
  {
   "cell_type": "code",
   "execution_count": null,
   "id": "5e57be7a-bcbc-4fd7-a87b-24f979fa3c81",
   "metadata": {},
   "outputs": [],
   "source": []
  }
 ],
 "metadata": {
  "kernelspec": {
   "display_name": "Python 3 (ipykernel)",
   "language": "python",
   "name": "python3"
  },
  "language_info": {
   "codemirror_mode": {
    "name": "ipython",
    "version": 3
   },
   "file_extension": ".py",
   "mimetype": "text/x-python",
   "name": "python",
   "nbconvert_exporter": "python",
   "pygments_lexer": "ipython3",
   "version": "3.12.2"
  }
 },
 "nbformat": 4,
 "nbformat_minor": 5
}
