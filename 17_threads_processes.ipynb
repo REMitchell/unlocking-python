{
 "cells": [
  {
   "cell_type": "markdown",
   "id": "4cb2de4d-8004-4e2e-aa75-e090fc3ac31d",
   "metadata": {},
   "source": [
    "# Threads and Processes"
   ]
  },
  {
   "cell_type": "markdown",
   "id": "23ddc256-1bd7-4ab2-bb0b-f360d9f38eba",
   "metadata": {},
   "source": [
    "## Threading"
   ]
  },
  {
   "cell_type": "code",
   "execution_count": 1,
   "id": "70c81980-43f5-4327-87a5-b116ad79030e",
   "metadata": {},
   "outputs": [],
   "source": [
    "import urllib\n",
    "import time\n",
    "import math\n",
    "\n",
    "def do_get_website():\n",
    "    r = urllib.request.urlopen('https://www.unlockingpython.com/')\n",
    "    return r.getcode()\n",
    "\n",
    "def do_sleep():\n",
    "    time.sleep(0.5)\n",
    "\n",
    "def do_calculation():\n",
    "    for i in range(0, 10000000):\n",
    "        math.sin(i)\n"
   ]
  },
  {
   "cell_type": "code",
   "execution_count": 2,
   "id": "d0d2ba8a-6e8b-4ff9-b1dc-4ff829359f3a",
   "metadata": {},
   "outputs": [],
   "source": [
    "def print_function_time(func):\n",
    "    start = time.time()\n",
    "    func()\n",
    "    print(f'{func.__name__}: {time.time() - start}')\n"
   ]
  },
  {
   "cell_type": "code",
   "execution_count": 3,
   "id": "97864bdf-86d0-492d-9853-d92387f9d1a2",
   "metadata": {},
   "outputs": [
    {
     "name": "stdout",
     "output_type": "stream",
     "text": [
      "do_sleep: 0.5028650760650635\n"
     ]
    }
   ],
   "source": [
    "print_function_time(do_sleep)"
   ]
  },
  {
   "cell_type": "code",
   "execution_count": 4,
   "id": "6622fb20-445c-4ede-a53a-d7c8e0694033",
   "metadata": {},
   "outputs": [
    {
     "name": "stdout",
     "output_type": "stream",
     "text": [
      "do_sleep_multiple: 2.5166127681732178\n"
     ]
    }
   ],
   "source": [
    "def do_sleep_multiple():\n",
    "    for _ in range(5):\n",
    "        do_sleep()\n",
    "\n",
    "print_function_time(do_sleep_multiple)"
   ]
  },
  {
   "cell_type": "code",
   "execution_count": 6,
   "id": "4281e90f-96c1-45f1-a00a-4255430e8aa7",
   "metadata": {},
   "outputs": [],
   "source": [
    "import threading\n",
    "\n",
    "def do_sleep():\n",
    "    time.sleep(0.5)\n",
    "\n",
    "t1 = threading.Thread(target=do_sleep)\n",
    "t2 = threading.Thread(target=do_sleep)\n",
    "\n",
    "t1.start()\n",
    "t2.start()\n",
    "\n",
    "t1.join()\n",
    "t2.join()\n"
   ]
  },
  {
   "cell_type": "code",
   "execution_count": 7,
   "id": "d9ac3302-49c2-4d2d-bf57-346206000028",
   "metadata": {},
   "outputs": [
    {
     "name": "stdout",
     "output_type": "stream",
     "text": [
      "Started the threads\n",
      "Joined the threads\n"
     ]
    }
   ],
   "source": [
    "import threading\n",
    "\n",
    "def do_sleep():\n",
    "    time.sleep(0.5)\n",
    "\n",
    "t1 = threading.Thread(target=do_sleep)\n",
    "t2 = threading.Thread(target=do_sleep)\n",
    "\n",
    "t1.start()\n",
    "t2.start()\n",
    "print('Started the threads')\n",
    "t1.join()\n",
    "t2.join()\n",
    "print('Joined the threads')"
   ]
  },
  {
   "cell_type": "code",
   "execution_count": 13,
   "id": "18ceb2fc-8f84-4e50-8941-9b6b2a59624c",
   "metadata": {},
   "outputs": [
    {
     "name": "stdout",
     "output_type": "stream",
     "text": [
      "do_sleep: 0.5041337013244629do_sleep: 0.5045640468597412\n",
      "\n"
     ]
    }
   ],
   "source": [
    "t1 = threading.Thread(target=print_function_time, args=(do_sleep,))\n",
    "t2 = threading.Thread(target=print_function_time, args=(do_sleep,))\n",
    "t1.start()\n",
    "t2.start()\n",
    "t1.join()\n",
    "t2.join()"
   ]
  },
  {
   "cell_type": "code",
   "execution_count": 5,
   "id": "96b3f6ea-aeff-413c-850c-fcd08373fd04",
   "metadata": {},
   "outputs": [
    {
     "ename": "NameError",
     "evalue": "name 'threading' is not defined",
     "output_type": "error",
     "traceback": [
      "\u001b[31m---------------------------------------------------------------------------\u001b[39m",
      "\u001b[31mNameError\u001b[39m                                 Traceback (most recent call last)",
      "\u001b[36mCell\u001b[39m\u001b[36m \u001b[39m\u001b[32mIn[5]\u001b[39m\u001b[32m, line 9\u001b[39m\n\u001b[32m      6\u001b[39m     [t.start() \u001b[38;5;28;01mfor\u001b[39;00m t \u001b[38;5;129;01min\u001b[39;00m threads]\n\u001b[32m      7\u001b[39m     [t.join() \u001b[38;5;28;01mfor\u001b[39;00m t \u001b[38;5;129;01min\u001b[39;00m threads]\n\u001b[32m----> \u001b[39m\u001b[32m9\u001b[39m print_function_time(do_sleep_threads)\n",
      "\u001b[36mCell\u001b[39m\u001b[36m \u001b[39m\u001b[32mIn[2]\u001b[39m\u001b[32m, line 3\u001b[39m, in \u001b[36mprint_function_time\u001b[39m\u001b[34m(func)\u001b[39m\n\u001b[32m      1\u001b[39m \u001b[38;5;28;01mdef\u001b[39;00m \u001b[34mprint_function_time\u001b[39m(func):\n\u001b[32m      2\u001b[39m     start = time.time()\n\u001b[32m----> \u001b[39m\u001b[32m3\u001b[39m     func()\n\u001b[32m      4\u001b[39m     \u001b[38;5;28mprint\u001b[39m(\u001b[33mf\u001b[39m\u001b[33m'\u001b[39m\u001b[38;5;132;01m{\u001b[39;00mfunc.\u001b[34m__name__\u001b[39m\u001b[38;5;132;01m}\u001b[39;00m\u001b[33m: \u001b[39m\u001b[38;5;132;01m{\u001b[39;00mtime.time()\u001b[38;5;250m \u001b[39m-\u001b[38;5;250m \u001b[39mstart\u001b[38;5;132;01m}\u001b[39;00m\u001b[33m'\u001b[39m)\n",
      "\u001b[36mCell\u001b[39m\u001b[36m \u001b[39m\u001b[32mIn[5]\u001b[39m\u001b[32m, line 3\u001b[39m, in \u001b[36mdo_sleep_threads\u001b[39m\u001b[34m(num_threads)\u001b[39m\n\u001b[32m      1\u001b[39m \u001b[38;5;28;01mdef\u001b[39;00m \u001b[34mdo_sleep_threads\u001b[39m(num_threads=\u001b[32m5\u001b[39m):\n\u001b[32m      2\u001b[39m     threads = [\n\u001b[32m----> \u001b[39m\u001b[32m3\u001b[39m         threading.Thread(target=print_function_time, args=(do_sleep,))\n\u001b[32m      4\u001b[39m         \u001b[38;5;28;01mfor\u001b[39;00m i \u001b[38;5;129;01min\u001b[39;00m \u001b[38;5;28mrange\u001b[39m(num_threads)\n\u001b[32m      5\u001b[39m     ]\n\u001b[32m      6\u001b[39m     [t.start() \u001b[38;5;28;01mfor\u001b[39;00m t \u001b[38;5;129;01min\u001b[39;00m threads]\n\u001b[32m      7\u001b[39m     [t.join() \u001b[38;5;28;01mfor\u001b[39;00m t \u001b[38;5;129;01min\u001b[39;00m threads]\n",
      "\u001b[31mNameError\u001b[39m: name 'threading' is not defined"
     ]
    }
   ],
   "source": [
    "def do_sleep_threads(num_threads=5):\n",
    "    threads = [\n",
    "        threading.Thread(target=print_function_time, args=(do_sleep,))\n",
    "        for i in range(num_threads)\n",
    "    ]\n",
    "    [t.start() for t in threads]\n",
    "    [t.join() for t in threads]\n",
    "\n",
    "print_function_time(do_sleep_threads)"
   ]
  },
  {
   "cell_type": "code",
   "execution_count": 15,
   "id": "3a44a62e-7409-4135-9f3e-9f2d572a4245",
   "metadata": {},
   "outputs": [
    {
     "name": "stdout",
     "output_type": "stream",
     "text": [
      "do_get_website: 0.2607760429382324\n",
      "do_get_website: 0.28763604164123535\n",
      "do_get_website: 0.3169100284576416\n",
      "do_get_website: 0.3658781051635742\n",
      "do_get_website: 0.37075090408325195\n",
      "do_get_website_threads: 0.37125563621520996\n"
     ]
    }
   ],
   "source": [
    "def do_get_website_threads(num_times=5):\n",
    "    threads = [threading.Thread(target=print_function_time, args=(do_get_website,)) for i in range(num_times)]\n",
    "    [t.start() for t in threads]\n",
    "    [t.join() for t in threads]\n",
    "\n",
    "print_function_time(do_get_website_threads)"
   ]
  },
  {
   "cell_type": "code",
   "execution_count": 34,
   "id": "61edd8f6-3a76-406e-97c6-7c02ed8e673a",
   "metadata": {},
   "outputs": [
    {
     "name": "stdout",
     "output_type": "stream",
     "text": [
      "do_calculation: 2.4984560012817383\n",
      "do_calculation: 2.4795620441436768\n",
      "do_calculation: 2.6083219051361084\n",
      "do_calculation: 2.6287569999694824\n",
      "do_calculation: 2.5508408546447754\n",
      "do_calculation_threads: 2.661665916442871\n"
     ]
    }
   ],
   "source": [
    "def do_calculation_threads(num_times=5):\n",
    "    threads = [threading.Thread(target=print_function_time, args=(do_calculation,)) for i in range(num_times)]\n",
    "    [t.start() for t in threads]\n",
    "    [t.join() for t in threads]\n",
    "\n",
    "print_function_time(do_calculation_threads)"
   ]
  },
  {
   "cell_type": "code",
   "execution_count": 35,
   "id": "8a678cc1-4f0f-48e1-9474-03b6e4b153f7",
   "metadata": {},
   "outputs": [
    {
     "name": "stdout",
     "output_type": "stream",
     "text": [
      "do_calculation: 0.5347089767456055\n"
     ]
    }
   ],
   "source": [
    "print_function_time(do_calculation)"
   ]
  },
  {
   "cell_type": "markdown",
   "id": "fff27cd7-5f89-4f79-9c19-4c5cdca92e99",
   "metadata": {},
   "source": [
    "## Locking"
   ]
  },
  {
   "cell_type": "code",
   "execution_count": 51,
   "id": "c2c2fa7d-0eec-43c5-be69-0c838e2e426f",
   "metadata": {},
   "outputs": [],
   "source": [
    "import threading"
   ]
  },
  {
   "cell_type": "code",
   "execution_count": 16,
   "id": "cdb597b9-2575-4889-8a3e-2baab12ad7fa",
   "metadata": {},
   "outputs": [
    {
     "name": "stdout",
     "output_type": "stream",
     "text": [
      "Done sleeping!\n",
      "Done sleeping!\n",
      "Done sleeping!\n",
      "Done sleeping!\n",
      "Done sleeping!\n"
     ]
    }
   ],
   "source": [
    "def sleep_and_print(lock):\n",
    "    time.sleep(0.5)\n",
    "    lock.acquire()\n",
    "    print('Done sleeping!')\n",
    "    lock.release()\n",
    "\n",
    "def do_sleep_and_print_threads(num_threads=5):\n",
    "    lock = threading.Lock()\n",
    "    threads = [\n",
    "        threading.Thread(target=sleep_and_print, args=(lock,))\n",
    "        for i in range(num_threads)\n",
    "    ]\n",
    "    [t.start() for t in threads]\n",
    "    [t.join() for t in threads]\n",
    "\n",
    "do_sleep_and_print_threads()"
   ]
  },
  {
   "cell_type": "code",
   "execution_count": 17,
   "id": "94f96600-5752-49cb-8f7e-756ebd748616",
   "metadata": {},
   "outputs": [
    {
     "name": "stdout",
     "output_type": "stream",
     "text": [
      "Done sleeping!\n",
      "Done sleeping!\n",
      "Done sleeping!\n",
      "Done sleeping!\n",
      "Done sleeping!\n"
     ]
    }
   ],
   "source": [
    "def sleep_and_print(lock):\n",
    "    time.sleep(0.5)\n",
    "    with lock:\n",
    "        print('Done sleeping!')\n",
    "\n",
    "def do_sleep_and_print_threads(num_threads=5):\n",
    "    lock = threading.Lock()\n",
    "    threads = [\n",
    "        threading.Thread(target=sleep_and_print, args=(lock,))\n",
    "        for i in range(num_threads)\n",
    "    ]\n",
    "    [t.start() for t in threads]\n",
    "    [t.join() for t in threads]\n",
    "\n",
    "do_sleep_and_print_threads()\n"
   ]
  },
  {
   "cell_type": "code",
   "execution_count": 18,
   "id": "56a13b20-152c-48c4-82c3-3c2828834ec2",
   "metadata": {},
   "outputs": [
    {
     "name": "stdout",
     "output_type": "stream",
     "text": [
      "Done sleeping!\n"
     ]
    },
    {
     "ename": "KeyboardInterrupt",
     "evalue": "",
     "output_type": "error",
     "traceback": [
      "\u001b[31m---------------------------------------------------------------------------\u001b[39m",
      "\u001b[31mKeyboardInterrupt\u001b[39m                         Traceback (most recent call last)",
      "\u001b[36mCell\u001b[39m\u001b[36m \u001b[39m\u001b[32mIn[18]\u001b[39m\u001b[32m, line 16\u001b[39m\n\u001b[32m     13\u001b[39m     [t.start() \u001b[38;5;28;01mfor\u001b[39;00m t \u001b[38;5;129;01min\u001b[39;00m threads]\n\u001b[32m     14\u001b[39m     [t.join() \u001b[38;5;28;01mfor\u001b[39;00m t \u001b[38;5;129;01min\u001b[39;00m threads]\n\u001b[32m---> \u001b[39m\u001b[32m16\u001b[39m do_sleep_and_print_threads()\n",
      "\u001b[36mCell\u001b[39m\u001b[36m \u001b[39m\u001b[32mIn[18]\u001b[39m\u001b[32m, line 14\u001b[39m, in \u001b[36mdo_sleep_and_print_threads\u001b[39m\u001b[34m(num_threads)\u001b[39m\n\u001b[32m      9\u001b[39m threads = [\n\u001b[32m     10\u001b[39m     threading.Thread(target=sleep_and_print, args=(lock,))\n\u001b[32m     11\u001b[39m     \u001b[38;5;28;01mfor\u001b[39;00m i \u001b[38;5;129;01min\u001b[39;00m \u001b[38;5;28mrange\u001b[39m(num_threads)\n\u001b[32m     12\u001b[39m ]\n\u001b[32m     13\u001b[39m [t.start() \u001b[38;5;28;01mfor\u001b[39;00m t \u001b[38;5;129;01min\u001b[39;00m threads]\n\u001b[32m---> \u001b[39m\u001b[32m14\u001b[39m [t.join() \u001b[38;5;28;01mfor\u001b[39;00m t \u001b[38;5;129;01min\u001b[39;00m threads]\n",
      "\u001b[36mFile \u001b[39m\u001b[32m/opt/anaconda3/lib/python3.12/threading.py:1147\u001b[39m, in \u001b[36mThread.join\u001b[39m\u001b[34m(self, timeout)\u001b[39m\n\u001b[32m   1144\u001b[39m     \u001b[38;5;28;01mraise\u001b[39;00m \u001b[38;5;167;01mRuntimeError\u001b[39;00m(\u001b[33m\"\u001b[39m\u001b[33mcannot join current thread\u001b[39m\u001b[33m\"\u001b[39m)\n\u001b[32m   1146\u001b[39m \u001b[38;5;28;01mif\u001b[39;00m timeout \u001b[38;5;129;01mis\u001b[39;00m \u001b[38;5;28;01mNone\u001b[39;00m:\n\u001b[32m-> \u001b[39m\u001b[32m1147\u001b[39m     \u001b[38;5;28mself\u001b[39m._wait_for_tstate_lock()\n\u001b[32m   1148\u001b[39m \u001b[38;5;28;01melse\u001b[39;00m:\n\u001b[32m   1149\u001b[39m     \u001b[38;5;66;03m# the behavior of a negative timeout isn't documented, but\u001b[39;00m\n\u001b[32m   1150\u001b[39m     \u001b[38;5;66;03m# historically .join(timeout=x) for x<0 has acted as if timeout=0\u001b[39;00m\n\u001b[32m   1151\u001b[39m     \u001b[38;5;28mself\u001b[39m._wait_for_tstate_lock(timeout=\u001b[38;5;28mmax\u001b[39m(timeout, \u001b[32m0\u001b[39m))\n",
      "\u001b[36mFile \u001b[39m\u001b[32m/opt/anaconda3/lib/python3.12/threading.py:1167\u001b[39m, in \u001b[36mThread._wait_for_tstate_lock\u001b[39m\u001b[34m(self, block, timeout)\u001b[39m\n\u001b[32m   1164\u001b[39m     \u001b[38;5;28;01mreturn\u001b[39;00m\n\u001b[32m   1166\u001b[39m \u001b[38;5;28;01mtry\u001b[39;00m:\n\u001b[32m-> \u001b[39m\u001b[32m1167\u001b[39m     \u001b[38;5;28;01mif\u001b[39;00m lock.acquire(block, timeout):\n\u001b[32m   1168\u001b[39m         lock.release()\n\u001b[32m   1169\u001b[39m         \u001b[38;5;28mself\u001b[39m._stop()\n",
      "\u001b[31mKeyboardInterrupt\u001b[39m: "
     ]
    }
   ],
   "source": [
    "def sleep_and_print(lock):\n",
    "    time.sleep(0.5)\n",
    "    lock.acquire()\n",
    "    print('Done sleeping!')\n",
    "    # lock.release()\n",
    "\n",
    "def do_sleep_and_print_threads(num_threads=5):\n",
    "    lock = threading.Lock()\n",
    "    threads = [\n",
    "        threading.Thread(target=sleep_and_print, args=(lock,))\n",
    "        for i in range(num_threads)\n",
    "    ]\n",
    "    [t.start() for t in threads]\n",
    "    [t.join() for t in threads]\n",
    "\n",
    "do_sleep_and_print_threads()\n"
   ]
  },
  {
   "cell_type": "code",
   "execution_count": 20,
   "id": "837db730-c564-41bc-a6d2-1fecd6a3b3b0",
   "metadata": {},
   "outputs": [],
   "source": [
    "def print_function_time(func, lock=threading.Lock()):\n",
    "    start = time.time()\n",
    "    func()\n",
    "    with lock.acquire():\n",
    "        print(f'{func.__name__}: {time.time() - start}')\n"
   ]
  },
  {
   "cell_type": "code",
   "execution_count": 8,
   "id": "caa07e25-e3a2-4825-b8db-7e5fd01efab0",
   "metadata": {},
   "outputs": [
    {
     "name": "stdout",
     "output_type": "stream",
     "text": [
      "do_sleep: 0.5026049613952637\n",
      "do_sleep: 0.5032711029052734\n",
      "do_sleep: 0.504997968673706\n",
      "do_sleep: 0.505033016204834\n",
      "do_sleep: 0.5051467418670654\n",
      "do_sleep_threads: 0.5086212158203125\n"
     ]
    }
   ],
   "source": [
    "def do_sleep_threads(num_threads=5):\n",
    "    threads = [\n",
    "        threading.Thread(target=print_function_time, args=(do_sleep,))\n",
    "        for i in range(num_threads)\n",
    "    ]\n",
    "    [t.start() for t in threads]\n",
    "    [t.join() for t in threads]\n",
    "\n",
    "print_function_time(do_sleep_threads)"
   ]
  },
  {
   "cell_type": "markdown",
   "id": "10c40ca5-3dcf-4472-b36d-7a80da34b906",
   "metadata": {},
   "source": [
    "## Queues"
   ]
  },
  {
   "cell_type": "code",
   "execution_count": 9,
   "id": "4d19b632-ee15-49e7-ac55-79297e922744",
   "metadata": {},
   "outputs": [],
   "source": [
    "import queue\n",
    "\n",
    "q = queue.SimpleQueue()"
   ]
  },
  {
   "cell_type": "code",
   "execution_count": 10,
   "id": "72debd21-d26b-453c-9c33-a8bd5456a878",
   "metadata": {},
   "outputs": [
    {
     "name": "stdout",
     "output_type": "stream",
     "text": [
      "thing 1\n",
      "thing 2\n"
     ]
    }
   ],
   "source": [
    "q.put('thing 1')\n",
    "q.put('thing 2')\n",
    "print(q.get())\n",
    "print(q.get())"
   ]
  },
  {
   "cell_type": "code",
   "execution_count": 11,
   "id": "91cfaa0c-83cd-4533-91ce-c26196d3ae70",
   "metadata": {},
   "outputs": [
    {
     "ename": "KeyboardInterrupt",
     "evalue": "",
     "output_type": "error",
     "traceback": [
      "\u001b[31m---------------------------------------------------------------------------\u001b[39m",
      "\u001b[31mKeyboardInterrupt\u001b[39m                         Traceback (most recent call last)",
      "\u001b[36mCell\u001b[39m\u001b[36m \u001b[39m\u001b[32mIn[11]\u001b[39m\u001b[32m, line 1\u001b[39m\n\u001b[32m----> \u001b[39m\u001b[32m1\u001b[39m q.get()\n",
      "\u001b[31mKeyboardInterrupt\u001b[39m: "
     ]
    }
   ],
   "source": [
    "q.get()"
   ]
  },
  {
   "cell_type": "code",
   "execution_count": 12,
   "id": "0445079a-e18c-41a6-928a-379744496696",
   "metadata": {},
   "outputs": [
    {
     "ename": "Empty",
     "evalue": "",
     "output_type": "error",
     "traceback": [
      "\u001b[31m---------------------------------------------------------------------------\u001b[39m",
      "\u001b[31mEmpty\u001b[39m                                     Traceback (most recent call last)",
      "\u001b[36mCell\u001b[39m\u001b[36m \u001b[39m\u001b[32mIn[12]\u001b[39m\u001b[32m, line 1\u001b[39m\n\u001b[32m----> \u001b[39m\u001b[32m1\u001b[39m q.get(timeout=\u001b[32m5\u001b[39m)\n",
      "\u001b[31mEmpty\u001b[39m: "
     ]
    }
   ],
   "source": [
    "q.get(timeout=5)"
   ]
  },
  {
   "cell_type": "code",
   "execution_count": null,
   "id": "43857cf3-00eb-4d5d-be2b-52e3fcfea268",
   "metadata": {},
   "outputs": [],
   "source": [
    "q.get(block=False)"
   ]
  },
  {
   "cell_type": "code",
   "execution_count": 13,
   "id": "0991845d-a209-42eb-bc83-d1d92393bc7c",
   "metadata": {},
   "outputs": [
    {
     "name": "stdout",
     "output_type": "stream",
     "text": [
      "<class '_queue.Empty'>\n"
     ]
    }
   ],
   "source": [
    "try:\n",
    "    q.get(block=False)\n",
    "except Exception as e:\n",
    "    print(type(e))"
   ]
  },
  {
   "cell_type": "code",
   "execution_count": 14,
   "id": "79204df6-a7fe-4777-8160-5ed6d7bb3e86",
   "metadata": {},
   "outputs": [
    {
     "name": "stdout",
     "output_type": "stream",
     "text": [
      "url: https://ryanemitchell.com, status code: 200\n",
      "url: https://apple.com, status code: 200\n",
      "url: https://google.com, status code: 200\n",
      "url: http://unlockingpython.com/, status code: 200\n",
      "Done\n",
      "Done\n"
     ]
    },
    {
     "data": {
      "text/plain": [
       "[None, None, None]"
      ]
     },
     "execution_count": 14,
     "metadata": {},
     "output_type": "execute_result"
    }
   ],
   "source": [
    "from queue import SimpleQueue, Empty\n",
    "\n",
    "\n",
    "def add_urls(q_work):\n",
    "    urls_list = [\n",
    "        'http://unlockingpython.com/',\n",
    "        'https://google.com',\n",
    "        'https://apple.com',\n",
    "        'https://ryanemitchell.com'\n",
    "    ]\n",
    "    while len(urls_list):\n",
    "        q_work.put(urls_list.pop())\n",
    "        time.sleep(2)\n",
    "\n",
    "def fetch_urls(q_work):\n",
    "    try:\n",
    "        while url := q_work.get(timeout=5):\n",
    "            r = urllib.request.urlopen(url)\n",
    "            print(f'url: {url}, status code: {r.getcode()}')\n",
    "    except Empty:\n",
    "        print('Done')\n",
    "\n",
    "q_work = SimpleQueue()\n",
    "\n",
    "threads = [\n",
    "    threading.Thread(target=fetch_urls, args=(q_work,)),\n",
    "    threading.Thread(target=fetch_urls, args=(q_work,)),\n",
    "    threading.Thread(target=add_urls, args=(q_work,))\n",
    "]\n",
    "\n",
    "[t.start() for t in threads]\n",
    "[t.join() for t in threads]\n"
   ]
  },
  {
   "cell_type": "markdown",
   "id": "dc81f487-d493-4593-a960-459c17807aea",
   "metadata": {},
   "source": [
    "## Multiprocessing"
   ]
  },
  {
   "cell_type": "code",
   "execution_count": 15,
   "id": "96a60164-2392-4c17-896a-818e8840948c",
   "metadata": {},
   "outputs": [],
   "source": [
    "import math \n",
    "\n",
    "def do_calculation():\n",
    "    for i in range(0, 10000000):\n",
    "        math.sin(i)"
   ]
  },
  {
   "cell_type": "code",
   "execution_count": 9,
   "id": "e08f0640-4efc-416e-b463-67a299cb8fc8",
   "metadata": {},
   "outputs": [],
   "source": [
    "import time\n",
    "\n",
    "def print_function_time(func):\n",
    "    start = time.time()\n",
    "    func()\n",
    "    print(f'{func.__name__}: {time.time() - start}')"
   ]
  },
  {
   "cell_type": "code",
   "execution_count": null,
   "id": "bd43aada-944a-4a7c-82c3-d2a76807c070",
   "metadata": {},
   "outputs": [],
   "source": [
    "# THIS DOES NOT WORK IN AN iPYTHON NOTEBOOK\n",
    "import multiprocessing\n",
    "\n",
    "p1 = multiprocessing.Process(target=print_function_time, args=(do_calculation,))\n",
    "p2 = multiprocessing.Process(target=print_function_time, args=(do_calculation,))\n",
    "p1.start()\n",
    "p2.start()\n",
    "p1.join()\n",
    "p2.join()"
   ]
  },
  {
   "cell_type": "code",
   "execution_count": 16,
   "id": "6a089f01-2e3c-46db-b02c-c8b7aa05baeb",
   "metadata": {},
   "outputs": [
    {
     "name": "stdout",
     "output_type": "stream",
     "text": [
      "do_calculation: 0.5974199771881104\n",
      "do_calculation: 0.5977811813354492\n"
     ]
    }
   ],
   "source": [
    "import multiprocess\n",
    "import time\n",
    "\n",
    "p1 = multiprocess.Process(target=print_function_time, args=(do_calculation,))\n",
    "p2 = multiprocess.Process(target=print_function_time, args=(do_calculation,))\n",
    "p1.start()\n",
    "p2.start()\n",
    "p1.join()\n",
    "p2.join()"
   ]
  },
  {
   "cell_type": "code",
   "execution_count": 17,
   "id": "e5316e94-9aee-41b3-b54e-7cbd1ae11dcc",
   "metadata": {},
   "outputs": [],
   "source": [
    "from multiprocess import Process"
   ]
  },
  {
   "cell_type": "code",
   "execution_count": 18,
   "id": "4b15e2ec-6827-485a-9604-877bc798f71e",
   "metadata": {},
   "outputs": [],
   "source": [
    "def do_calculation_processes(num_times=5):\n",
    "    processes = [\n",
    "        Process(\n",
    "            target=print_function_time,\n",
    "            args=(do_calculation,)\n",
    "        ) for i in range(num_times)\n",
    "    ]\n",
    "    [p.start() for p in processes]\n",
    "    [p.join() for p in processes]"
   ]
  },
  {
   "cell_type": "code",
   "execution_count": 19,
   "id": "bae81abc-86d0-444f-bfd2-00fdb0383f79",
   "metadata": {},
   "outputs": [
    {
     "name": "stdout",
     "output_type": "stream",
     "text": [
      "do_calculation: 0.5994729995727539\n",
      "do_calculation: 0.6028730869293213\n",
      "do_calculation: 0.6036550998687744\n",
      "do_calculation: 0.6023678779602051do_calculation: 0.6086511611938477\n",
      "\n",
      "do_calculation_processes: 0.6359820365905762\n"
     ]
    }
   ],
   "source": [
    "print_function_time(do_calculation_processes)"
   ]
  },
  {
   "cell_type": "code",
   "execution_count": 28,
   "id": "d686a024-a245-4017-850b-03377be76d50",
   "metadata": {},
   "outputs": [],
   "source": [
    "def do_get_website():\n",
    "    r = urllib.request.urlopen('http://www.unlockingpython.com/')\n",
    "    return r.getcode()\n"
   ]
  },
  {
   "cell_type": "code",
   "execution_count": 30,
   "id": "80d09ed9-3f43-471d-8b27-fc249f6a45e1",
   "metadata": {},
   "outputs": [
    {
     "data": {
      "text/plain": [
       "[None, None, None, None, None]"
      ]
     },
     "execution_count": 30,
     "metadata": {},
     "output_type": "execute_result"
    }
   ],
   "source": [
    "def do_get_website_threads(num_processes=5):\n",
    "    threads = [\n",
    "        threading.Thread(target=do_get_website) for i in range(num_processes)\n",
    "    ]\n",
    "    [t.start() for t in threads]\n",
    "    return [t.join() for t in threads]\n",
    "\n",
    "do_get_website_threads()"
   ]
  },
  {
   "cell_type": "code",
   "execution_count": 31,
   "id": "eafe4c66-f02e-486d-8793-972ba313990e",
   "metadata": {},
   "outputs": [
    {
     "name": "stdout",
     "output_type": "stream",
     "text": [
      "[200, 200, 200, 200, 200]\n"
     ]
    }
   ],
   "source": [
    "status_codes = []\n",
    "\n",
    "def do_get_website(lock):\n",
    "    global status_codes\n",
    "    r = urllib.request.urlopen('http://www.unlockingpython.com/')\n",
    "    with lock:\n",
    "        status_codes.append(r.getcode())\n",
    "\n",
    "def do_get_website_threads(num_processes=5):\n",
    "    lock = threading.Lock()\n",
    "    threads = [\n",
    "        threading.Thread(target=do_get_website, args=(lock,))\n",
    "        for i in range(num_processes)\n",
    "    ]\n",
    "    [t.start() for t in threads]\n",
    "    return [t.join() for t in threads]\n",
    "\n",
    "do_get_website_threads()\n",
    "print(status_codes)"
   ]
  },
  {
   "cell_type": "code",
   "execution_count": 32,
   "id": "17e3b4ea-7ec0-489d-aeef-b1e0c0de38ca",
   "metadata": {},
   "outputs": [
    {
     "name": "stdout",
     "output_type": "stream",
     "text": [
      "[]\n"
     ]
    }
   ],
   "source": [
    "status_codes = []\n",
    "\n",
    "def do_get_website(lock):\n",
    "    global status_codes\n",
    "    r = urllib.request.urlopen('http://www.unlockingpython.com/')\n",
    "    with lock:\n",
    "        status_codes.append(r.getcode())\n",
    "\n",
    "def do_get_website_threads(num_processes=5):\n",
    "    lock = multiprocess.Lock()\n",
    "    threads = [\n",
    "        multiprocess.Process(target=do_get_website, args=(lock,))\n",
    "        for i in range(num_processes)\n",
    "    ]\n",
    "    [t.start() for t in threads]\n",
    "    return [t.join() for t in threads]\n",
    "\n",
    "do_get_website_threads()\n",
    "print(status_codes)\n"
   ]
  },
  {
   "cell_type": "code",
   "execution_count": 34,
   "id": "90270fba-9bd2-464a-85ba-a1c8738b5cbf",
   "metadata": {},
   "outputs": [
    {
     "name": "stdout",
     "output_type": "stream",
     "text": [
      "Adding 200 to status_codes\n",
      "Adding 200 to status_codes\n",
      "Adding 200 to status_codes\n",
      "Adding 200 to status_codes\n",
      "Adding 200 to status_codes\n",
      "[]\n"
     ]
    }
   ],
   "source": [
    "def do_get_website(lock):\n",
    "    global status_codes\n",
    "    r = urllib.request.urlopen('http://www.unlockingpython.com/')\n",
    "    with lock:\n",
    "        print(f'Adding {r.status} to status_codes')\n",
    "        status_codes.append(r.getcode())\n",
    "\n",
    "do_get_website_threads()\n",
    "print(status_codes)"
   ]
  },
  {
   "cell_type": "code",
   "execution_count": 35,
   "id": "2534256b-7a89-4931-9df8-f9a2f3d64b4a",
   "metadata": {},
   "outputs": [],
   "source": [
    "from multiprocess.shared_memory import SharedMemory\n",
    "\n",
    "sm = SharedMemory(size=1024, create=True)"
   ]
  },
  {
   "cell_type": "code",
   "execution_count": 36,
   "id": "91a218c5-ccb9-4c9e-aff3-06600f901afb",
   "metadata": {},
   "outputs": [
    {
     "name": "stdout",
     "output_type": "stream",
     "text": [
      "200\n"
     ]
    }
   ],
   "source": [
    "sm.buf[0] = 200\n",
    "\n",
    "print(sm.buf[0])"
   ]
  },
  {
   "cell_type": "code",
   "execution_count": 37,
   "id": "511115b4-8995-40f9-b568-906503d47c30",
   "metadata": {},
   "outputs": [],
   "source": [
    "sm.close()\n",
    "sm.unlink()"
   ]
  },
  {
   "cell_type": "code",
   "execution_count": 38,
   "id": "8c827b59-01cc-4554-acc8-ae85adaae5c4",
   "metadata": {},
   "outputs": [
    {
     "name": "stdout",
     "output_type": "stream",
     "text": [
      "[13, 240, 47, 90, 159, 145, 137, 154, 7, 222]\n"
     ]
    }
   ],
   "source": [
    "import random\n",
    "\n",
    "sm = SharedMemory(size=1024, create=True)\n",
    "\n",
    "def do_set_random(sm, i):\n",
    "    sm.buf[i] = random.randint(0, 256)\n",
    "\n",
    "def do_set_random_processes(sm, num_processes=5):\n",
    "    processes = [\n",
    "        multiprocess.Process(target=do_set_random, args=(sm, i))\n",
    "        for i in range(num_processes)\n",
    "    ]\n",
    "    [p.start() for p in processes]\n",
    "    return [p.join() for p in processes]\n",
    "\n",
    "try:\n",
    "    num = 10\n",
    "    do_set_random_processes(sm, num_processes=num)\n",
    "    print([int(sm.buf[i]) for i in range(0, num)])\n",
    "finally:\n",
    "    sm.close()\n",
    "    sm.unlink()"
   ]
  },
  {
   "cell_type": "code",
   "execution_count": 39,
   "id": "a598e4f9-d769-4925-88f9-5d16801e3b39",
   "metadata": {},
   "outputs": [
    {
     "name": "stdout",
     "output_type": "stream",
     "text": [
      "ShareableList(['spam', 3.14159, 123456, 0], name='psm_c5da4035')\n"
     ]
    }
   ],
   "source": [
    "from multiprocess.shared_memory import ShareableList\n",
    "\n",
    "sl = ShareableList([0, 0, 0, 0])\n",
    "sl[0] = 'spam'\n",
    "sl[1] = 3.14159\n",
    "sl[2] = 123456\n",
    "print(sl)\n",
    "\n",
    "sl.shm.close()\n",
    "sl.shm.unlink()"
   ]
  },
  {
   "cell_type": "code",
   "execution_count": 41,
   "id": "d676f270-9faa-4912-9971-bb52defa27f1",
   "metadata": {},
   "outputs": [
    {
     "data": {
      "text/plain": [
       "500"
      ]
     },
     "execution_count": 41,
     "metadata": {},
     "output_type": "execute_result"
    }
   ],
   "source": [
    "data = int.to_bytes(500, 2)\n",
    "int.from_bytes(data)"
   ]
  },
  {
   "cell_type": "code",
   "execution_count": 43,
   "id": "c6f16b64-82ff-432a-8383-bb449909a04a",
   "metadata": {},
   "outputs": [],
   "source": [
    "import random\n",
    "import pickle\n",
    "\n",
    "def read_object(sm):\n",
    "    bytes_size = int.from_bytes(sm.buf[0:2], byteorder='little')\n",
    "    bytes_data = sm.buf[2:2 + bytes_size]\n",
    "    return pickle.loads(bytes_data)\n",
    "\n",
    "def write_object(sm, obj):\n",
    "    bytes_data = pickle.dumps(obj)\n",
    "    bytes_size = len(bytes_data)\n",
    "    sm.buf[0:2] = int.to_bytes(bytes_size, 2, byteorder='little')\n",
    "    sm.buf[2:2 + bytes_size] = bytes_data"
   ]
  },
  {
   "cell_type": "code",
   "execution_count": 50,
   "id": "e93e4bc0-74d7-4f3f-8b0c-fd2f5395842d",
   "metadata": {},
   "outputs": [],
   "source": [
    "def do_append_random(sm, lock):\n",
    "    random_int = random.randint(0, 256)\n",
    "    with lock:\n",
    "        shared_list = read_object(sm)\n",
    "        shared_list.append(random_int)\n",
    "        write_object(sm, shared_list)\n",
    "\n",
    "def do_append_random_processes(sm, num_processes=5):\n",
    "    lock = multiprocess.Lock()\n",
    "    processes = [\n",
    "        multiprocess.Process(target=do_append_random, args=(sm, lock))\n",
    "        for i in range(num_processes)\n",
    "    ]\n",
    "    [p.start() for p in processes]\n",
    "    [p.join() for p in processes]\n",
    "    return read_object(sm)"
   ]
  },
  {
   "cell_type": "code",
   "execution_count": 51,
   "id": "106d627e-ccd6-4ab8-a07f-394141880800",
   "metadata": {},
   "outputs": [
    {
     "name": "stdout",
     "output_type": "stream",
     "text": [
      "[113, 153, 223, 241, 78, 26, 139, 197, 174, 216]\n"
     ]
    }
   ],
   "source": [
    "sm = SharedMemory(size=1024, create=True)\n",
    "# write an empty list to the shared memory\n",
    "write_object(sm, [])\n",
    "try:\n",
    "    num = 10\n",
    "    random_nums = do_append_random_processes(sm, num_processes=num)\n",
    "    print(random_nums)\n",
    "    \n",
    "finally:\n",
    "    sm.close()\n",
    "    sm.unlink()"
   ]
  },
  {
   "cell_type": "markdown",
   "id": "fdec4205-40ed-4135-a61a-171e83b06b93",
   "metadata": {},
   "source": [
    "## Exercises"
   ]
  },
  {
   "cell_type": "markdown",
   "id": "723db0eb-1e8b-4aaf-89e3-0f052e6fcfb5",
   "metadata": {},
   "source": [
    "**1.**\n",
    "\n",
    "When the function `do_sleep_threads` was run without locking, we saw that the print statements interfered with each other, leading to printed output appearing incorrectly on the same line. When the function `do_get_website_threads` is run, this happens more rarely. Explain why this is.\n"
   ]
  },
  {
   "cell_type": "code",
   "execution_count": null,
   "id": "eed07947-fb5d-454f-ba1c-d3f2a7639bc1",
   "metadata": {},
   "outputs": [],
   "source": []
  },
  {
   "cell_type": "markdown",
   "id": "c8a145b5-a1b3-4635-954c-a3c9e2b2d475",
   "metadata": {},
   "source": [
    "**2.**\n",
    "Create a new queue and add a number of dictionaries to it that have the following form: \n",
    "\n",
    "`{'timestamp': time.time(), 'data': random.randint(0, 100)}\n",
    "`\n",
    "\n",
    "where `time` and `random` are the built-in Python modules.\n",
    "Then, retrieve items from the queue and print what the data is and how long each item had\n",
    "been sitting in the queue.\n"
   ]
  },
  {
   "cell_type": "code",
   "execution_count": null,
   "id": "c095cf8d-23f9-4a08-9ccc-c5cd70633283",
   "metadata": {},
   "outputs": [],
   "source": []
  },
  {
   "cell_type": "markdown",
   "id": "49e0e945-5ccf-49b3-a518-0a8fcba0ce23",
   "metadata": {},
   "source": [
    "**3.**\n",
    "\n",
    "Create a function, `write_uuids_to_file`, that writes UUID (universally unique identifier) strings\n",
    "to a file. Use the uuid module to do this:\n",
    "\n",
    "```\n",
    "from uuid import uuid4\n",
    "\n",
    "str(uuid4())\n",
    "```\n",
    "\n",
    "When called, the function `write_uuids_to_file` should write five UUID strings on a single line, separated by commas. Each time a UUID is written, it should be written in a separate write statement to the file. That is, each time the function is called, five separate writes to the file are made.\n",
    "\n",
    "After finishing, a newline should be written to the end of the file so that when `write_uuids_to_file` is called again, the UUIDs will be written on a new line.\n",
    "\n",
    "Create 10 new processes that have the target `write_uuids_to_file`. Start and join the processes and observe the file. Did the processes interfere with each other?"
   ]
  },
  {
   "cell_type": "code",
   "execution_count": null,
   "id": "0caea066-1b4a-4457-9a02-9fa042e19a54",
   "metadata": {},
   "outputs": [],
   "source": []
  },
  {
   "cell_type": "markdown",
   "id": "a28fde5d-b038-4eb7-82ff-bb37d287c2b2",
   "metadata": {},
   "source": [
    "**4.**\n",
    "\n",
    "Add locking to the function `write_uuids_to_file` so that writes cannot be made by two processes at the same time while UUIDs are being written in the function call. Delete or clear the contents of the file, run the 10 processes again, and observe the contents of the file.\n"
   ]
  },
  {
   "cell_type": "code",
   "execution_count": null,
   "id": "e93e8f88-976f-4397-83a0-7e329383fdfd",
   "metadata": {},
   "outputs": [],
   "source": []
  },
  {
   "cell_type": "markdown",
   "id": "697a81d6-144e-45a6-ad39-51ccf2121d51",
   "metadata": {},
   "source": [
    "**5.**\n",
    "\n",
    "Create a work queue, `q_work` and populate it with 100 UUIDs. Change the lock object used previously in `write_uuids_to_file` to a thread-locking object. Rewrite `write_uuids_to_file` so that it gets UUIDs from `q_work` and only exits when `q_work` contains no more UUIDs.\n",
    "\n",
    "Run `write_uuids_to_file` in several threads."
   ]
  },
  {
   "cell_type": "code",
   "execution_count": null,
   "id": "e371d3c9-6efa-4e1a-be99-ffbcd8271675",
   "metadata": {},
   "outputs": [],
   "source": []
  }
 ],
 "metadata": {
  "kernelspec": {
   "display_name": "Python 3 (ipykernel)",
   "language": "python",
   "name": "python3"
  },
  "language_info": {
   "codemirror_mode": {
    "name": "ipython",
    "version": 3
   },
   "file_extension": ".py",
   "mimetype": "text/x-python",
   "name": "python",
   "nbconvert_exporter": "python",
   "pygments_lexer": "ipython3",
   "version": "3.12.2"
  }
 },
 "nbformat": 4,
 "nbformat_minor": 5
}
